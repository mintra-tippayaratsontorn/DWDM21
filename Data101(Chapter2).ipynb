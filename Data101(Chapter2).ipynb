{
  "nbformat": 4,
  "nbformat_minor": 0,
  "metadata": {
    "colab": {
      "name": "Data101(Chapter2).ipynb",
      "provenance": [],
      "authorship_tag": "ABX9TyM69aOZZyS7xfxfACMChfBw",
      "include_colab_link": true
    },
    "kernelspec": {
      "name": "python3",
      "display_name": "Python 3"
    },
    "language_info": {
      "name": "python"
    }
  },
  "cells": [
    {
      "cell_type": "markdown",
      "metadata": {
        "id": "view-in-github",
        "colab_type": "text"
      },
      "source": [
        "<a href=\"https://colab.research.google.com/github/mintra-tippayaratsontorn/DWDM21/blob/main/Data101(Chapter2).ipynb\" target=\"_parent\"><img src=\"https://colab.research.google.com/assets/colab-badge.svg\" alt=\"Open In Colab\"/></a>"
      ]
    },
    {
      "cell_type": "markdown",
      "metadata": {
        "id": "wfqlbB0izzrW"
      },
      "source": [
        "ข้อความที่อยู่ใน textbox จะอยู่ในภาษา markdown"
      ]
    },
    {
      "cell_type": "markdown",
      "metadata": {
        "id": "-lHGB6nWy1Pj"
      },
      "source": [
        "ข้อดีหนึ่งของ python คือมี package สำหรับทำงานต่างๆมากมาย\n",
        "\n",
        "ซึ่ง pandas เป็น package สำหรับการทำงานกับข้อมูลที่อยู่ในรูปแบบตาราง\n",
        "\n",
        "โดย pandas จะเรียกตารางนั้นว่า dataframe"
      ]
    },
    {
      "cell_type": "markdown",
      "metadata": {
        "id": "Ji7x_xARy5_m"
      },
      "source": [
        "การจัดการข้อมูลก่อนทำdata mining มี 2 ขั้นตอนหลักๆ\n",
        "1. import pandas"
      ]
    },
    {
      "cell_type": "code",
      "metadata": {
        "id": "XaDNfVqkx-OE"
      },
      "source": [
        "import pandas # วิธีเรียกใช้ package คือ import ตามด้วยชื่อ package"
      ],
      "execution_count": 59,
      "outputs": []
    },
    {
      "cell_type": "code",
      "metadata": {
        "id": "MneLA-uRyBag"
      },
      "source": [
        "import pandas as pd # เหมือนกับข้างบน แต่ว่าตั้งชื่อให้ package ที่โหลดมาใหม่ว่า pd"
      ],
      "execution_count": 60,
      "outputs": []
    },
    {
      "cell_type": "markdown",
      "metadata": {
        "id": "tedEuq04y8uh"
      },
      "source": [
        "ไฟล์ .csv (CSV = comma seprated values) เป็นไฟล์หลักที่เราจะได้ใช้กันในวิชานี้"
      ]
    },
    {
      "cell_type": "markdown",
      "metadata": {
        "id": "KW_PJ-eLy_ST"
      },
      "source": [
        "ลองสร้างไฟล์ csv ในนี้\n",
        "\n",
        "- กดไฟล์ แล้วคลิ๊กขวาสร้างไฟล์ใหม่ \n",
        "\n",
        "- ดับเบิ้ลคลิ๊ก เพื่อเพิ่มข้อมูลในไฟล์\n",
        "\n",
        "- แล้วไปเปลี่ยนชื่อเพิ่ม .csv"
      ]
    },
    {
      "cell_type": "code",
      "metadata": {
        "id": "-sRdg19syDXV"
      },
      "source": [
        "data_df = pd.read_csv('data.csv')"
      ],
      "execution_count": 61,
      "outputs": []
    },
    {
      "cell_type": "code",
      "metadata": {
        "colab": {
          "base_uri": "https://localhost:8080/",
          "height": 143
        },
        "id": "LgIn4tUvyd21",
        "outputId": "3cc91bf0-a131-435c-a01d-c14a94f544e5"
      },
      "source": [
        "data_df"
      ],
      "execution_count": 62,
      "outputs": [
        {
          "output_type": "execute_result",
          "data": {
            "text/html": [
              "<div>\n",
              "<style scoped>\n",
              "    .dataframe tbody tr th:only-of-type {\n",
              "        vertical-align: middle;\n",
              "    }\n",
              "\n",
              "    .dataframe tbody tr th {\n",
              "        vertical-align: top;\n",
              "    }\n",
              "\n",
              "    .dataframe thead th {\n",
              "        text-align: right;\n",
              "    }\n",
              "</style>\n",
              "<table border=\"1\" class=\"dataframe\">\n",
              "  <thead>\n",
              "    <tr style=\"text-align: right;\">\n",
              "      <th></th>\n",
              "      <th>name</th>\n",
              "      <th>age</th>\n",
              "      <th>city</th>\n",
              "    </tr>\n",
              "  </thead>\n",
              "  <tbody>\n",
              "    <tr>\n",
              "      <th>0</th>\n",
              "      <td>Tom</td>\n",
              "      <td>27</td>\n",
              "      <td>Khon Kean</td>\n",
              "    </tr>\n",
              "    <tr>\n",
              "      <th>1</th>\n",
              "      <td>Paul</td>\n",
              "      <td>15</td>\n",
              "      <td>Bangkok</td>\n",
              "    </tr>\n",
              "    <tr>\n",
              "      <th>2</th>\n",
              "      <td>Sarah</td>\n",
              "      <td>49</td>\n",
              "      <td>London</td>\n",
              "    </tr>\n",
              "  </tbody>\n",
              "</table>\n",
              "</div>"
            ],
            "text/plain": [
              "    name  age       city\n",
              "0    Tom   27  Khon Kean\n",
              "1   Paul   15    Bangkok\n",
              "2  Sarah   49     London"
            ]
          },
          "metadata": {
            "tags": []
          },
          "execution_count": 62
        }
      ]
    },
    {
      "cell_type": "code",
      "metadata": {
        "colab": {
          "base_uri": "https://localhost:8080/",
          "height": 143
        },
        "id": "sApyT9hvyqzl",
        "outputId": "b482cba1-083d-4970-f7d8-111dc2dc776d"
      },
      "source": [
        "data_df2 = pandas.read_csv('data.csv')\n",
        "data_df2"
      ],
      "execution_count": 63,
      "outputs": [
        {
          "output_type": "execute_result",
          "data": {
            "text/html": [
              "<div>\n",
              "<style scoped>\n",
              "    .dataframe tbody tr th:only-of-type {\n",
              "        vertical-align: middle;\n",
              "    }\n",
              "\n",
              "    .dataframe tbody tr th {\n",
              "        vertical-align: top;\n",
              "    }\n",
              "\n",
              "    .dataframe thead th {\n",
              "        text-align: right;\n",
              "    }\n",
              "</style>\n",
              "<table border=\"1\" class=\"dataframe\">\n",
              "  <thead>\n",
              "    <tr style=\"text-align: right;\">\n",
              "      <th></th>\n",
              "      <th>name</th>\n",
              "      <th>age</th>\n",
              "      <th>city</th>\n",
              "    </tr>\n",
              "  </thead>\n",
              "  <tbody>\n",
              "    <tr>\n",
              "      <th>0</th>\n",
              "      <td>Tom</td>\n",
              "      <td>27</td>\n",
              "      <td>Khon Kean</td>\n",
              "    </tr>\n",
              "    <tr>\n",
              "      <th>1</th>\n",
              "      <td>Paul</td>\n",
              "      <td>15</td>\n",
              "      <td>Bangkok</td>\n",
              "    </tr>\n",
              "    <tr>\n",
              "      <th>2</th>\n",
              "      <td>Sarah</td>\n",
              "      <td>49</td>\n",
              "      <td>London</td>\n",
              "    </tr>\n",
              "  </tbody>\n",
              "</table>\n",
              "</div>"
            ],
            "text/plain": [
              "    name  age       city\n",
              "0    Tom   27  Khon Kean\n",
              "1   Paul   15    Bangkok\n",
              "2  Sarah   49     London"
            ]
          },
          "metadata": {
            "tags": []
          },
          "execution_count": 63
        }
      ]
    },
    {
      "cell_type": "markdown",
      "metadata": {
        "id": "2_NVoXNrydhz"
      },
      "source": [
        "# Basic Python\n",
        "## Variables (ตัวแปร) \n",
        "คือกล่องสำหรับเก็บข้อมูล"
      ]
    },
    {
      "cell_type": "markdown",
      "metadata": {
        "id": "Z_qwaeh81i2f"
      },
      "source": [
        "ข้อกำหนดในการตั้งชื่อตัวแปร\n",
        "1. ชื่อห้ามมีเว้นวรรค\n",
        "2. (พยายาม)ใช้ชื่อภาษาอังกฤษ\n",
        "3. ตัวเล็กกับตัวใหญ่แตกต่างกัน (case sensitive)\n",
        "4. ห้ามใช้ตัวเลขเป็นตัวหน้า"
      ]
    },
    {
      "cell_type": "code",
      "metadata": {
        "id": "fApB0tCq0DC8"
      },
      "source": [
        "variable_a = 12\n",
        "variable_b = 'abcde'  # ' เรียกว่า quote (มี quote แสดงว่าข้อความเป็นstring)\n",
        "variable_c = variable_a"
      ],
      "execution_count": 64,
      "outputs": []
    },
    {
      "cell_type": "code",
      "metadata": {
        "colab": {
          "base_uri": "https://localhost:8080/"
        },
        "id": "w15_bW1d0VWY",
        "outputId": "db856a39-ad4f-4d9d-bd92-5eaa6d2b160a"
      },
      "source": [
        "variable_a"
      ],
      "execution_count": 65,
      "outputs": [
        {
          "output_type": "execute_result",
          "data": {
            "text/plain": [
              "12"
            ]
          },
          "metadata": {
            "tags": []
          },
          "execution_count": 65
        }
      ]
    },
    {
      "cell_type": "code",
      "metadata": {
        "colab": {
          "base_uri": "https://localhost:8080/",
          "height": 35
        },
        "id": "u1R2UxNA0VSf",
        "outputId": "993855c0-b9e0-4897-cc85-5cebf33725e0"
      },
      "source": [
        "variable_b"
      ],
      "execution_count": 66,
      "outputs": [
        {
          "output_type": "execute_result",
          "data": {
            "application/vnd.google.colaboratory.intrinsic+json": {
              "type": "string"
            },
            "text/plain": [
              "'abcde'"
            ]
          },
          "metadata": {
            "tags": []
          },
          "execution_count": 66
        }
      ]
    },
    {
      "cell_type": "code",
      "metadata": {
        "colab": {
          "base_uri": "https://localhost:8080/"
        },
        "id": "2ov5YjSS0VQR",
        "outputId": "84ef9013-04cf-4e0f-a08c-328daa18722d"
      },
      "source": [
        "variable_c"
      ],
      "execution_count": 67,
      "outputs": [
        {
          "output_type": "execute_result",
          "data": {
            "text/plain": [
              "12"
            ]
          },
          "metadata": {
            "tags": []
          },
          "execution_count": 67
        }
      ]
    },
    {
      "cell_type": "markdown",
      "metadata": {
        "id": "Ir6iY_nG2fMe"
      },
      "source": [
        "### ลองใช้ข้อกำหนดในการตั้งชื่อตัวแปร"
      ]
    },
    {
      "cell_type": "code",
      "metadata": {
        "colab": {
          "base_uri": "https://localhost:8080/",
          "height": 135
        },
        "id": "ewn9tzUq1O31",
        "outputId": "8edfad32-68a3-4dee-897c-a4d4a680d2f6"
      },
      "source": [
        "# ชื่อห้ามมีเว้นวรรค\n",
        "variable a = 6"
      ],
      "execution_count": 69,
      "outputs": [
        {
          "output_type": "error",
          "ename": "SyntaxError",
          "evalue": "ignored",
          "traceback": [
            "\u001b[0;36m  File \u001b[0;32m\"<ipython-input-69-126f7ab49866>\"\u001b[0;36m, line \u001b[0;32m2\u001b[0m\n\u001b[0;31m    variable a = 6\u001b[0m\n\u001b[0m             ^\u001b[0m\n\u001b[0;31mSyntaxError\u001b[0m\u001b[0;31m:\u001b[0m invalid syntax\n"
          ]
        }
      ]
    },
    {
      "cell_type": "code",
      "metadata": {
        "colab": {
          "base_uri": "https://localhost:8080/"
        },
        "id": "DWq9j9EK2LbI",
        "outputId": "5b5e6168-2a6b-46bc-bb99-cf8bc3eea5af"
      },
      "source": [
        "# (พยายาม)ใช้ชื่อภาษาอังกฤษ\n",
        "# colab ใช้ภาษาไทยเป็นชื่อตัวแปรได้ แต่ไม่ควรใช้\n",
        "ตัวแปร = 3\n",
        "ตัวแปร"
      ],
      "execution_count": 70,
      "outputs": [
        {
          "output_type": "execute_result",
          "data": {
            "text/plain": [
              "3"
            ]
          },
          "metadata": {
            "tags": []
          },
          "execution_count": 70
        }
      ]
    },
    {
      "cell_type": "code",
      "metadata": {
        "colab": {
          "base_uri": "https://localhost:8080/"
        },
        "id": "5nxJXLt126_-",
        "outputId": "a20c239f-4f10-44eb-b328-095acd2fc15c"
      },
      "source": [
        "# ตัวเล็กกับตัวใหญ่แตกต่างกัน (case sensitive)\n",
        "v_a = 1\n",
        "V_a = 2\n",
        "print(v_a)\n",
        "print(V_a)"
      ],
      "execution_count": 71,
      "outputs": [
        {
          "output_type": "stream",
          "text": [
            "1\n",
            "2\n"
          ],
          "name": "stdout"
        }
      ]
    },
    {
      "cell_type": "code",
      "metadata": {
        "colab": {
          "base_uri": "https://localhost:8080/"
        },
        "id": "mze8BvQU3JhG",
        "outputId": "a945e2e5-3eb2-4d72-999f-f9052ff1c1bc"
      },
      "source": [
        "# ตั้งชื่อเดียวกัน ข้อมูลทับกัน\n",
        "# ตัวเล็กกับตัวใหญ่แตกต่างกัน (case sensitive)\n",
        "v_a = 1\n",
        "v_a = 2\n",
        "print(v_a)\n",
        "print(v_a)"
      ],
      "execution_count": 72,
      "outputs": [
        {
          "output_type": "stream",
          "text": [
            "2\n",
            "2\n"
          ],
          "name": "stdout"
        }
      ]
    },
    {
      "cell_type": "code",
      "metadata": {
        "colab": {
          "base_uri": "https://localhost:8080/",
          "height": 135
        },
        "id": "KTRFA20p3iIV",
        "outputId": "0da0c734-30df-4453-85db-ccce3460558f"
      },
      "source": [
        "# ห้ามใช้ตัวเลขเป็นตัวหน้า\n",
        "2 = 1"
      ],
      "execution_count": 73,
      "outputs": [
        {
          "output_type": "error",
          "ename": "SyntaxError",
          "evalue": "ignored",
          "traceback": [
            "\u001b[0;36m  File \u001b[0;32m\"<ipython-input-73-24eb8a2ec18c>\"\u001b[0;36m, line \u001b[0;32m2\u001b[0m\n\u001b[0;31m    2 = 1\u001b[0m\n\u001b[0m         ^\u001b[0m\n\u001b[0;31mSyntaxError\u001b[0m\u001b[0;31m:\u001b[0m can't assign to literal\n"
          ]
        }
      ]
    },
    {
      "cell_type": "code",
      "metadata": {
        "id": "mqlcBfir3uC5"
      },
      "source": [
        "# ห้ามใช้ตัวเลขเป็นตัวหน้า\n",
        "2ab = 1"
      ],
      "execution_count": null,
      "outputs": []
    },
    {
      "cell_type": "code",
      "metadata": {
        "id": "ZpOeYtpC3wYl"
      },
      "source": [
        "# ห้ามใช้ตัวเลขเป็นตัวหน้า\n",
        "variable = 1\n",
        "print(variable)"
      ],
      "execution_count": null,
      "outputs": []
    },
    {
      "cell_type": "markdown",
      "metadata": {
        "id": "uzhv_RrN4VH8"
      },
      "source": [
        "### นี่เป็นการตั้งชื่อที่ถูกต้อง"
      ]
    },
    {
      "cell_type": "code",
      "metadata": {
        "id": "g2V1_vlo4Ho0"
      },
      "source": [
        "variable_a = 12\n",
        "variable_b = 'abcde'  # ' เรียกว่า quote (มี quote แสดงว่าข้อความเป็นstring)\n",
        "variable_c = variable_a\n",
        "variable_d = -41.2\n",
        "variable_4 = \"KKU\"  # \" เรียกว่า double quote"
      ],
      "execution_count": 74,
      "outputs": []
    },
    {
      "cell_type": "code",
      "metadata": {
        "colab": {
          "base_uri": "https://localhost:8080/"
        },
        "id": "sOS6SU5O4lYC",
        "outputId": "9162fffb-04e2-4cc0-cc86-207f613aa0cb"
      },
      "source": [
        "variable_x = variable_c + variable_d\n",
        "print(variable_x)"
      ],
      "execution_count": 75,
      "outputs": [
        {
          "output_type": "stream",
          "text": [
            "-29.200000000000003\n"
          ],
          "name": "stdout"
        }
      ]
    },
    {
      "cell_type": "code",
      "metadata": {
        "colab": {
          "base_uri": "https://localhost:8080/",
          "height": 171
        },
        "id": "MXwE4CcQ4uNa",
        "outputId": "fffaa793-0f2e-4b7c-c0e6-608fb262d170"
      },
      "source": [
        "variable_a + variable_b  # ตัวเลขบวกกับตัวหนังสือไม่ได้"
      ],
      "execution_count": 76,
      "outputs": [
        {
          "output_type": "error",
          "ename": "TypeError",
          "evalue": "ignored",
          "traceback": [
            "\u001b[0;31m---------------------------------------------------------------------------\u001b[0m",
            "\u001b[0;31mTypeError\u001b[0m                                 Traceback (most recent call last)",
            "\u001b[0;32m<ipython-input-76-f91cbeb6c43b>\u001b[0m in \u001b[0;36m<module>\u001b[0;34m()\u001b[0m\n\u001b[0;32m----> 1\u001b[0;31m \u001b[0mvariable_a\u001b[0m \u001b[0;34m+\u001b[0m \u001b[0mvariable_b\u001b[0m  \u001b[0;31m# ตัวเลขบวกกับตัวหนังสือไม่ได้\u001b[0m\u001b[0;34m\u001b[0m\u001b[0;34m\u001b[0m\u001b[0m\n\u001b[0m",
            "\u001b[0;31mTypeError\u001b[0m: unsupported operand type(s) for +: 'int' and 'str'"
          ]
        }
      ]
    },
    {
      "cell_type": "code",
      "metadata": {
        "id": "o_qyO4IN6KrZ"
      },
      "source": [
        "print(variable_b + variable_4)  # ตัวหนังสือก็จะรวมเข้าด้วยกัน"
      ],
      "execution_count": null,
      "outputs": []
    },
    {
      "cell_type": "markdown",
      "metadata": {
        "id": "x6S3QwVk7E0v"
      },
      "source": [
        "## Casting int() float() str() \n",
        "สามารถเปลี่ยนชนิดของตัวแปรได้"
      ]
    },
    {
      "cell_type": "code",
      "metadata": {
        "colab": {
          "base_uri": "https://localhost:8080/"
        },
        "id": "QejbkBXg6YzV",
        "outputId": "3c821bec-b253-4d63-e7ed-aeca291cbd78"
      },
      "source": [
        "print(variable_x)\n",
        "print(int(variable_x))"
      ],
      "execution_count": 77,
      "outputs": [
        {
          "output_type": "stream",
          "text": [
            "-29.200000000000003\n",
            "-29\n"
          ],
          "name": "stdout"
        }
      ]
    },
    {
      "cell_type": "code",
      "metadata": {
        "colab": {
          "base_uri": "https://localhost:8080/"
        },
        "id": "JxZahd907af9",
        "outputId": "ee309d61-7d56-4cac-a621-19684cac4983"
      },
      "source": [
        "V_X = str(variable_x)\n",
        "print(V_X)"
      ],
      "execution_count": 78,
      "outputs": [
        {
          "output_type": "stream",
          "text": [
            "-29.200000000000003\n"
          ],
          "name": "stdout"
        }
      ]
    },
    {
      "cell_type": "code",
      "metadata": {
        "colab": {
          "base_uri": "https://localhost:8080/",
          "height": 171
        },
        "id": "HGaS768k7qPZ",
        "outputId": "51ee4d38-5375-487e-9319-24475d7467bb"
      },
      "source": [
        "V_X + variable_a  # string บวกกับตัวเลขไม่ได้"
      ],
      "execution_count": 79,
      "outputs": [
        {
          "output_type": "error",
          "ename": "TypeError",
          "evalue": "ignored",
          "traceback": [
            "\u001b[0;31m---------------------------------------------------------------------------\u001b[0m",
            "\u001b[0;31mTypeError\u001b[0m                                 Traceback (most recent call last)",
            "\u001b[0;32m<ipython-input-79-ed04b4043281>\u001b[0m in \u001b[0;36m<module>\u001b[0;34m()\u001b[0m\n\u001b[0;32m----> 1\u001b[0;31m \u001b[0mV_X\u001b[0m \u001b[0;34m+\u001b[0m \u001b[0mvariable_a\u001b[0m  \u001b[0;31m# string บวกกับตัวเลขไม่ได้\u001b[0m\u001b[0;34m\u001b[0m\u001b[0;34m\u001b[0m\u001b[0m\n\u001b[0m",
            "\u001b[0;31mTypeError\u001b[0m: can only concatenate str (not \"int\") to str"
          ]
        }
      ]
    },
    {
      "cell_type": "code",
      "metadata": {
        "colab": {
          "base_uri": "https://localhost:8080/",
          "height": 35
        },
        "id": "2jxHbXZy74dD",
        "outputId": "bdeb5574-47b9-4e5e-db0a-123a0a60161c"
      },
      "source": [
        "V_X  # quote อยู่แสดงว่าเป็น string"
      ],
      "execution_count": 80,
      "outputs": [
        {
          "output_type": "execute_result",
          "data": {
            "application/vnd.google.colaboratory.intrinsic+json": {
              "type": "string"
            },
            "text/plain": [
              "'-29.200000000000003'"
            ]
          },
          "metadata": {
            "tags": []
          },
          "execution_count": 80
        }
      ]
    },
    {
      "cell_type": "code",
      "metadata": {
        "colab": {
          "base_uri": "https://localhost:8080/"
        },
        "id": "eF2N0zS38Wum",
        "outputId": "ad16019c-9ca2-41ef-cc39-e8d8c30a82ad"
      },
      "source": [
        "float(V_X)  # เปลี่ยน string ให้เป็นตัวเลข"
      ],
      "execution_count": 81,
      "outputs": [
        {
          "output_type": "execute_result",
          "data": {
            "text/plain": [
              "-29.200000000000003"
            ]
          },
          "metadata": {
            "tags": []
          },
          "execution_count": 81
        }
      ]
    },
    {
      "cell_type": "markdown",
      "metadata": {
        "id": "abaLr9st9Bqo"
      },
      "source": [
        "## Data Structure\n",
        "### list()"
      ]
    },
    {
      "cell_type": "code",
      "metadata": {
        "id": "8BxHoBMP8nE2"
      },
      "source": [
        "# วิธีสร้างlist แบบง่ายๆ\n",
        "list_a = [1,2,0.2,'abs']  # [] square brackets\n",
        "list_b = [2,'xyz',list_a,[1,2,0.0]]"
      ],
      "execution_count": 82,
      "outputs": []
    },
    {
      "cell_type": "code",
      "metadata": {
        "colab": {
          "base_uri": "https://localhost:8080/"
        },
        "id": "L7fGmL_292ES",
        "outputId": "4bac6eab-aba2-497e-83de-0e09199156c2"
      },
      "source": [
        "list_a"
      ],
      "execution_count": 83,
      "outputs": [
        {
          "output_type": "execute_result",
          "data": {
            "text/plain": [
              "[1, 2, 0.2, 'abs']"
            ]
          },
          "metadata": {
            "tags": []
          },
          "execution_count": 83
        }
      ]
    },
    {
      "cell_type": "code",
      "metadata": {
        "colab": {
          "base_uri": "https://localhost:8080/"
        },
        "id": "DQx6x6CB93BA",
        "outputId": "31a3ae0e-e9a2-4018-f490-a1325421f7b7"
      },
      "source": [
        "list_b"
      ],
      "execution_count": 84,
      "outputs": [
        {
          "output_type": "execute_result",
          "data": {
            "text/plain": [
              "[2, 'xyz', [1, 2, 0.2, 'abs'], [1, 2, 0.0]]"
            ]
          },
          "metadata": {
            "tags": []
          },
          "execution_count": 84
        }
      ]
    },
    {
      "cell_type": "code",
      "metadata": {
        "colab": {
          "base_uri": "https://localhost:8080/"
        },
        "id": "J4FGy49L94Cj",
        "outputId": "b67e711b-2b35-4174-942b-fdf13b0b6747"
      },
      "source": [
        "len(list_b)  # ดูว่ามีสมาชิกกี่ตัว"
      ],
      "execution_count": 85,
      "outputs": [
        {
          "output_type": "execute_result",
          "data": {
            "text/plain": [
              "4"
            ]
          },
          "metadata": {
            "tags": []
          },
          "execution_count": 85
        }
      ]
    },
    {
      "cell_type": "code",
      "metadata": {
        "colab": {
          "base_uri": "https://localhost:8080/"
        },
        "id": "wwqcy-E7-NP6",
        "outputId": "c58bf943-0266-4e46-c103-07da0424b4d1"
      },
      "source": [
        "# ชี้สมาชิก เพื่อดึงค่ามันออกมา\n",
        "list_b[3]"
      ],
      "execution_count": 86,
      "outputs": [
        {
          "output_type": "execute_result",
          "data": {
            "text/plain": [
              "[1, 2, 0.0]"
            ]
          },
          "metadata": {
            "tags": []
          },
          "execution_count": 86
        }
      ]
    },
    {
      "cell_type": "code",
      "metadata": {
        "colab": {
          "base_uri": "https://localhost:8080/"
        },
        "id": "DHYUFGON-cEd",
        "outputId": "1bcef6fd-999c-4dc3-87ee-7a08d99bda9a"
      },
      "source": [
        "# สามารถชี้ซ้อนกันได้ เหมือนกับหาค่าที่ซ้ำกัน\n",
        "list_b[3][1]"
      ],
      "execution_count": 87,
      "outputs": [
        {
          "output_type": "execute_result",
          "data": {
            "text/plain": [
              "2"
            ]
          },
          "metadata": {
            "tags": []
          },
          "execution_count": 87
        }
      ]
    },
    {
      "cell_type": "markdown",
      "metadata": {
        "id": "s4pZE0E5-3uV"
      },
      "source": [
        "string คือ list ของตัวหนังสือ"
      ]
    },
    {
      "cell_type": "code",
      "metadata": {
        "id": "qTAOYftI-kF3"
      },
      "source": [
        "a = 'Stat KKU'"
      ],
      "execution_count": 88,
      "outputs": []
    },
    {
      "cell_type": "code",
      "metadata": {
        "colab": {
          "base_uri": "https://localhost:8080/",
          "height": 35
        },
        "id": "q6UFeV6J_CtL",
        "outputId": "0b3a8a43-7ce4-4459-a653-6b277c45f23f"
      },
      "source": [
        "a[4]  # ชี้ตัวที่4จะได้เป็นเว้นวรรค"
      ],
      "execution_count": 89,
      "outputs": [
        {
          "output_type": "execute_result",
          "data": {
            "application/vnd.google.colaboratory.intrinsic+json": {
              "type": "string"
            },
            "text/plain": [
              "' '"
            ]
          },
          "metadata": {
            "tags": []
          },
          "execution_count": 89
        }
      ]
    },
    {
      "cell_type": "markdown",
      "metadata": {
        "id": "83Jmp3Ql_i3m"
      },
      "source": [
        "### วิธีสร้าง list ว่าง แบบที่ 2"
      ]
    },
    {
      "cell_type": "code",
      "metadata": {
        "id": "lMvK-TIN_GT2"
      },
      "source": [
        "list_c = list()  # แบบที่ 1\n",
        "list_d = []  # แบบที่ 2"
      ],
      "execution_count": 90,
      "outputs": []
    },
    {
      "cell_type": "code",
      "metadata": {
        "colab": {
          "base_uri": "https://localhost:8080/"
        },
        "id": "jiKMWYNJ_2Md",
        "outputId": "c875d446-52a7-45cf-afef-abcb501654c2"
      },
      "source": [
        "list_c"
      ],
      "execution_count": 91,
      "outputs": [
        {
          "output_type": "execute_result",
          "data": {
            "text/plain": [
              "[]"
            ]
          },
          "metadata": {
            "tags": []
          },
          "execution_count": 91
        }
      ]
    },
    {
      "cell_type": "code",
      "metadata": {
        "colab": {
          "base_uri": "https://localhost:8080/"
        },
        "id": "yI1fC9B1_46s",
        "outputId": "a9f0334e-c43f-49fc-eebc-f9da2a44232d"
      },
      "source": [
        "list_d"
      ],
      "execution_count": 92,
      "outputs": [
        {
          "output_type": "execute_result",
          "data": {
            "text/plain": [
              "[]"
            ]
          },
          "metadata": {
            "tags": []
          },
          "execution_count": 92
        }
      ]
    },
    {
      "cell_type": "markdown",
      "metadata": {
        "id": "Kvsj6rleASX3"
      },
      "source": [
        "เติมค่าลงไปใน list(.append())"
      ]
    },
    {
      "cell_type": "code",
      "metadata": {
        "id": "Rp_Qp7L4_5gs"
      },
      "source": [
        "list_d.append('a')"
      ],
      "execution_count": 93,
      "outputs": []
    },
    {
      "cell_type": "code",
      "metadata": {
        "colab": {
          "base_uri": "https://localhost:8080/"
        },
        "id": "GNGNx9SdAvOX",
        "outputId": "f98eba39-17d3-4b0a-8257-0e893406bb71"
      },
      "source": [
        "list_d"
      ],
      "execution_count": 94,
      "outputs": [
        {
          "output_type": "execute_result",
          "data": {
            "text/plain": [
              "['a']"
            ]
          },
          "metadata": {
            "tags": []
          },
          "execution_count": 94
        }
      ]
    },
    {
      "cell_type": "code",
      "metadata": {
        "id": "x_AInTn3AwIW"
      },
      "source": [
        "list_d.append(56)"
      ],
      "execution_count": 95,
      "outputs": []
    },
    {
      "cell_type": "code",
      "metadata": {
        "colab": {
          "base_uri": "https://localhost:8080/"
        },
        "id": "MCud-CU_AzG_",
        "outputId": "f9359760-596c-4463-9958-58e41929b8e3"
      },
      "source": [
        "list_d"
      ],
      "execution_count": 96,
      "outputs": [
        {
          "output_type": "execute_result",
          "data": {
            "text/plain": [
              "['a', 56]"
            ]
          },
          "metadata": {
            "tags": []
          },
          "execution_count": 96
        }
      ]
    },
    {
      "cell_type": "markdown",
      "metadata": {
        "id": "jROrw6QUBFre"
      },
      "source": [
        "## การชี้ค่าใน list (indexing)\n",
        "1. ใช้ลำดับในการชี้\n",
        "2. ลำดับเริ่มจาก 0\n",
        "3. สามารถชี้จากข้างหลังโดยใช้ negative index"
      ]
    },
    {
      "cell_type": "code",
      "metadata": {
        "colab": {
          "base_uri": "https://localhost:8080/"
        },
        "id": "p2cuQevnAzsj",
        "outputId": "de572840-0e7e-4305-a9bb-0bc691e62afb"
      },
      "source": [
        "list_b"
      ],
      "execution_count": 97,
      "outputs": [
        {
          "output_type": "execute_result",
          "data": {
            "text/plain": [
              "[2, 'xyz', [1, 2, 0.2, 'abs'], [1, 2, 0.0]]"
            ]
          },
          "metadata": {
            "tags": []
          },
          "execution_count": 97
        }
      ]
    },
    {
      "cell_type": "code",
      "metadata": {
        "colab": {
          "base_uri": "https://localhost:8080/"
        },
        "id": "iSRGqxL_Beuy",
        "outputId": "71c00b1e-effd-4797-ba72-a71db84d8906"
      },
      "source": [
        "list_b[-1]"
      ],
      "execution_count": 98,
      "outputs": [
        {
          "output_type": "execute_result",
          "data": {
            "text/plain": [
              "[1, 2, 0.0]"
            ]
          },
          "metadata": {
            "tags": []
          },
          "execution_count": 98
        }
      ]
    },
    {
      "cell_type": "markdown",
      "metadata": {
        "id": "VK_0xmO0CHK9"
      },
      "source": [
        "### list slicing\n",
        "สามารถที่จะเลือกบางส่วนของ list ออกมาได้"
      ]
    },
    {
      "cell_type": "code",
      "metadata": {
        "id": "i5bsoaSpCPhJ"
      },
      "source": [
        "list_ex = [1,2,3,5,6,8,-1,20,50,0]"
      ],
      "execution_count": 99,
      "outputs": []
    },
    {
      "cell_type": "markdown",
      "metadata": {
        "id": "1wXA1n2UC90m"
      },
      "source": [
        "เราจะตัด list โดยเอาตั้งแต่ [ตัวหน้า:ตัวก่อนตัวหลัง] \n",
        "\n",
        "ถ้าเป็นสัญลักษณ์ทางคณิตศาสตร์ [ตัวหน้า:ตัวหลัง] -> [ตัวหน้า,ตัวหลัง)"
      ]
    },
    {
      "cell_type": "code",
      "metadata": {
        "colab": {
          "base_uri": "https://localhost:8080/"
        },
        "id": "MJH9fcB5CPem",
        "outputId": "925d41ff-c429-4b70-bd5b-60418f8149d2"
      },
      "source": [
        "list_ex[1:6]  # เริ่มตั้งแต่ตัวที่ 1 จนถึงตัวที่ 5"
      ],
      "execution_count": 100,
      "outputs": [
        {
          "output_type": "execute_result",
          "data": {
            "text/plain": [
              "[2, 3, 5, 6, 8]"
            ]
          },
          "metadata": {
            "tags": []
          },
          "execution_count": 100
        }
      ]
    },
    {
      "cell_type": "code",
      "metadata": {
        "colab": {
          "base_uri": "https://localhost:8080/"
        },
        "id": "MwFWNw6DDWjg",
        "outputId": "8f42222b-5566-44cc-e0a7-61f8037283a4"
      },
      "source": [
        "list_ex[4:]  # เริ่มตั้งแต่ตัวที่ 4 จนถึงตัวสุดท้าย"
      ],
      "execution_count": 101,
      "outputs": [
        {
          "output_type": "execute_result",
          "data": {
            "text/plain": [
              "[6, 8, -1, 20, 50, 0]"
            ]
          },
          "metadata": {
            "tags": []
          },
          "execution_count": 101
        }
      ]
    },
    {
      "cell_type": "code",
      "metadata": {
        "colab": {
          "base_uri": "https://localhost:8080/"
        },
        "id": "X8qKoDGeDWhI",
        "outputId": "20e468dc-7d3a-4d58-ea81-891fb5b81ec4"
      },
      "source": [
        "list_ex[:6]  # เริ่มตั้งแต่ตัวแรกจนถึงตัวที่ 5"
      ],
      "execution_count": 102,
      "outputs": [
        {
          "output_type": "execute_result",
          "data": {
            "text/plain": [
              "[1, 2, 3, 5, 6, 8]"
            ]
          },
          "metadata": {
            "tags": []
          },
          "execution_count": 102
        }
      ]
    },
    {
      "cell_type": "markdown",
      "metadata": {
        "id": "sV0i1eC0EG9m"
      },
      "source": [
        "[จุดเริ่มต้น:จุดสุดท้าย:step]"
      ]
    },
    {
      "cell_type": "code",
      "metadata": {
        "colab": {
          "base_uri": "https://localhost:8080/"
        },
        "id": "dhXpRnaTDiTa",
        "outputId": "390afd50-93dc-4e4d-9dec-edddead149d1"
      },
      "source": [
        "list_ex[::2]  # เอาตั้งแต่ตัวแรกจนถึงตัวที่สุดท้าย โดยใช้ step2(กระโดดทีละ2)"
      ],
      "execution_count": 103,
      "outputs": [
        {
          "output_type": "execute_result",
          "data": {
            "text/plain": [
              "[1, 3, 6, -1, 50]"
            ]
          },
          "metadata": {
            "tags": []
          },
          "execution_count": 103
        }
      ]
    },
    {
      "cell_type": "code",
      "metadata": {
        "colab": {
          "base_uri": "https://localhost:8080/"
        },
        "id": "UanQgvKREVWz",
        "outputId": "9f9b0f9a-942b-4ffa-e90a-b7f378f9fc09"
      },
      "source": [
        "list_ex[::-1]  # การกลับ list (ถ้าเป็นลบ จะกลับ list ให้เลย)"
      ],
      "execution_count": 104,
      "outputs": [
        {
          "output_type": "execute_result",
          "data": {
            "text/plain": [
              "[0, 50, 20, -1, 8, 6, 5, 3, 2, 1]"
            ]
          },
          "metadata": {
            "tags": []
          },
          "execution_count": 104
        }
      ]
    },
    {
      "cell_type": "code",
      "metadata": {
        "colab": {
          "base_uri": "https://localhost:8080/",
          "height": 35
        },
        "id": "rqu75Q32ElDV",
        "outputId": "39dd07d4-aa21-449c-8375-dea067742c84"
      },
      "source": [
        "a"
      ],
      "execution_count": 105,
      "outputs": [
        {
          "output_type": "execute_result",
          "data": {
            "application/vnd.google.colaboratory.intrinsic+json": {
              "type": "string"
            },
            "text/plain": [
              "'Stat KKU'"
            ]
          },
          "metadata": {
            "tags": []
          },
          "execution_count": 105
        }
      ]
    },
    {
      "cell_type": "code",
      "metadata": {
        "colab": {
          "base_uri": "https://localhost:8080/",
          "height": 35
        },
        "id": "dCcFPyvBE6we",
        "outputId": "fe64246a-50d2-4d68-8c90-b4b8fbfa003e"
      },
      "source": [
        "a[5:]"
      ],
      "execution_count": 106,
      "outputs": [
        {
          "output_type": "execute_result",
          "data": {
            "application/vnd.google.colaboratory.intrinsic+json": {
              "type": "string"
            },
            "text/plain": [
              "'KKU'"
            ]
          },
          "metadata": {
            "tags": []
          },
          "execution_count": 106
        }
      ]
    },
    {
      "cell_type": "code",
      "metadata": {
        "colab": {
          "base_uri": "https://localhost:8080/",
          "height": 35
        },
        "id": "g-AzQIJeFdCc",
        "outputId": "fd30f07d-d34d-4dbe-9da4-0a038357d5ae"
      },
      "source": [
        "a[-3:]"
      ],
      "execution_count": 107,
      "outputs": [
        {
          "output_type": "execute_result",
          "data": {
            "application/vnd.google.colaboratory.intrinsic+json": {
              "type": "string"
            },
            "text/plain": [
              "'KKU'"
            ]
          },
          "metadata": {
            "tags": []
          },
          "execution_count": 107
        }
      ]
    },
    {
      "cell_type": "code",
      "metadata": {
        "colab": {
          "base_uri": "https://localhost:8080/",
          "height": 35
        },
        "id": "J-9T5tm5Fwaj",
        "outputId": "610dfbb4-8671-44e8-9859-970ee48f3f8f"
      },
      "source": [
        "a[5:8]"
      ],
      "execution_count": 108,
      "outputs": [
        {
          "output_type": "execute_result",
          "data": {
            "application/vnd.google.colaboratory.intrinsic+json": {
              "type": "string"
            },
            "text/plain": [
              "'KKU'"
            ]
          },
          "metadata": {
            "tags": []
          },
          "execution_count": 108
        }
      ]
    },
    {
      "cell_type": "code",
      "metadata": {
        "colab": {
          "base_uri": "https://localhost:8080/",
          "height": 35
        },
        "id": "up4Y66YMGWLa",
        "outputId": "d7c686e2-a1a3-4583-a8e5-a8692f04a92b"
      },
      "source": [
        "a[-3::1]"
      ],
      "execution_count": 109,
      "outputs": [
        {
          "output_type": "execute_result",
          "data": {
            "application/vnd.google.colaboratory.intrinsic+json": {
              "type": "string"
            },
            "text/plain": [
              "'KKU'"
            ]
          },
          "metadata": {
            "tags": []
          },
          "execution_count": 109
        }
      ]
    },
    {
      "cell_type": "markdown",
      "metadata": {
        "id": "aITgIJk5Gshl"
      },
      "source": [
        "## list + list"
      ]
    },
    {
      "cell_type": "code",
      "metadata": {
        "colab": {
          "base_uri": "https://localhost:8080/"
        },
        "id": "x77PBWz_GrTi",
        "outputId": "c3f0f0d5-801e-4ce2-ef2b-c6061d37d33a"
      },
      "source": [
        "print(list_a)\n",
        "print(list_b)"
      ],
      "execution_count": 110,
      "outputs": [
        {
          "output_type": "stream",
          "text": [
            "[1, 2, 0.2, 'abs']\n",
            "[2, 'xyz', [1, 2, 0.2, 'abs'], [1, 2, 0.0]]\n"
          ],
          "name": "stdout"
        }
      ]
    },
    {
      "cell_type": "code",
      "metadata": {
        "colab": {
          "base_uri": "https://localhost:8080/"
        },
        "id": "-1ljNX_2Gv6W",
        "outputId": "d61d4ef2-3742-4076-9123-113a34891a08"
      },
      "source": [
        "list_a + list_b  # เอา list มาต่อกัน"
      ],
      "execution_count": 111,
      "outputs": [
        {
          "output_type": "execute_result",
          "data": {
            "text/plain": [
              "[1, 2, 0.2, 'abs', 2, 'xyz', [1, 2, 0.2, 'abs'], [1, 2, 0.0]]"
            ]
          },
          "metadata": {
            "tags": []
          },
          "execution_count": 111
        }
      ]
    },
    {
      "cell_type": "markdown",
      "metadata": {
        "id": "FuWZjK44LLYt"
      },
      "source": [
        "format string"
      ]
    },
    {
      "cell_type": "markdown",
      "metadata": {
        "id": "baInxMITLu2e"
      },
      "source": [
        "```python\n",
        "f'string{ตัวแปร}'\n",
        "```\n",
        "\n",
        "{} เรียกว่า curly brackets"
      ]
    },
    {
      "cell_type": "code",
      "metadata": {
        "colab": {
          "base_uri": "https://localhost:8080/",
          "height": 35
        },
        "id": "5X5WYoYBLRjA",
        "outputId": "3e3bdd00-68dd-41c6-e3dc-4900455c1c6d"
      },
      "source": [
        "f'ตัวแปร list_a มีค่าคือ {list_a}'"
      ],
      "execution_count": 112,
      "outputs": [
        {
          "output_type": "execute_result",
          "data": {
            "application/vnd.google.colaboratory.intrinsic+json": {
              "type": "string"
            },
            "text/plain": [
              "\"ตัวแปร list_a มีค่าคือ [1, 2, 0.2, 'abs']\""
            ]
          },
          "metadata": {
            "tags": []
          },
          "execution_count": 112
        }
      ]
    },
    {
      "cell_type": "markdown",
      "metadata": {
        "id": "Z360N4YVHLzF"
      },
      "source": [
        "## Loop\n",
        "การทำซ้ำ"
      ]
    },
    {
      "cell_type": "markdown",
      "metadata": {
        "id": "yTOFxcWfKXoW"
      },
      "source": [
        "indent แปลว่า เว้น\n",
        "```python\n",
        "for ตัวแปรที่จะรับค่าจากลิส in ลิสที่จะนำมาวนลูป:\n",
        "    do something  #in loop\n",
        "    do another thing #in loop\n",
        "\n",
        "do other things  #out loop\n",
        "```"
      ]
    },
    {
      "cell_type": "code",
      "metadata": {
        "colab": {
          "base_uri": "https://localhost:8080/"
        },
        "id": "C150eDLmGv3w",
        "outputId": "bc7b18d8-11c4-41fa-eff0-9162a991aee0"
      },
      "source": [
        "for i in [1,2,3,4,5]:\n",
        "    print(i+1)"
      ],
      "execution_count": 113,
      "outputs": [
        {
          "output_type": "stream",
          "text": [
            "2\n",
            "3\n",
            "4\n",
            "5\n",
            "6\n"
          ],
          "name": "stdout"
        }
      ]
    },
    {
      "cell_type": "code",
      "metadata": {
        "colab": {
          "base_uri": "https://localhost:8080/"
        },
        "id": "L1EXRB8NJ83b",
        "outputId": "d4306703-29a1-4d2b-abdb-13445fedf265"
      },
      "source": [
        "for x in [1,2,3,4,5]:\n",
        "    print(f'ค่าตัวแปร x คือ {x} และ x+2={x+2}')"
      ],
      "execution_count": 114,
      "outputs": [
        {
          "output_type": "stream",
          "text": [
            "ค่าตัวแปร x คือ 1 และ x+2=3\n",
            "ค่าตัวแปร x คือ 2 และ x+2=4\n",
            "ค่าตัวแปร x คือ 3 และ x+2=5\n",
            "ค่าตัวแปร x คือ 4 และ x+2=6\n",
            "ค่าตัวแปร x คือ 5 และ x+2=7\n"
          ],
          "name": "stdout"
        }
      ]
    },
    {
      "cell_type": "code",
      "metadata": {
        "colab": {
          "base_uri": "https://localhost:8080/"
        },
        "id": "OHWPQxa3J81g",
        "outputId": "da335456-b0fe-4b0f-9a90-e48f030f21c7"
      },
      "source": [
        "list5 = [1,2,3,4,5]\n",
        "for x in list5:\n",
        "    print(f'ค่าตัวแปร x คือ {x} และ x+2={x+2}')"
      ],
      "execution_count": 115,
      "outputs": [
        {
          "output_type": "stream",
          "text": [
            "ค่าตัวแปร x คือ 1 และ x+2=3\n",
            "ค่าตัวแปร x คือ 2 และ x+2=4\n",
            "ค่าตัวแปร x คือ 3 และ x+2=5\n",
            "ค่าตัวแปร x คือ 4 และ x+2=6\n",
            "ค่าตัวแปร x คือ 5 และ x+2=7\n"
          ],
          "name": "stdout"
        }
      ]
    },
    {
      "cell_type": "code",
      "metadata": {
        "colab": {
          "base_uri": "https://localhost:8080/"
        },
        "id": "sPALKLFzJ8y4",
        "outputId": "89677eb4-02fb-43a6-994a-4207616c09ba"
      },
      "source": [
        "list(range(10))"
      ],
      "execution_count": 116,
      "outputs": [
        {
          "output_type": "execute_result",
          "data": {
            "text/plain": [
              "[0, 1, 2, 3, 4, 5, 6, 7, 8, 9]"
            ]
          },
          "metadata": {
            "tags": []
          },
          "execution_count": 116
        }
      ]
    },
    {
      "cell_type": "code",
      "metadata": {
        "colab": {
          "base_uri": "https://localhost:8080/"
        },
        "id": "AOrE3KYQNS09",
        "outputId": "d92b23d9-5511-42db-e8d5-0a152acad17b"
      },
      "source": [
        "for i in range(2,7):\n",
        "    print(i)"
      ],
      "execution_count": 117,
      "outputs": [
        {
          "output_type": "stream",
          "text": [
            "2\n",
            "3\n",
            "4\n",
            "5\n",
            "6\n"
          ],
          "name": "stdout"
        }
      ]
    },
    {
      "cell_type": "code",
      "metadata": {
        "colab": {
          "base_uri": "https://localhost:8080/"
        },
        "id": "GsBeVk66NSxL",
        "outputId": "9a595a2d-480d-40c1-a2ae-e44e24142fca"
      },
      "source": [
        "for i in range(2,7,2):  # สร้าง2ถึง7 กระโดดทีละ2\n",
        "    print(i)"
      ],
      "execution_count": 118,
      "outputs": [
        {
          "output_type": "stream",
          "text": [
            "2\n",
            "4\n",
            "6\n"
          ],
          "name": "stdout"
        }
      ]
    },
    {
      "cell_type": "code",
      "metadata": {
        "colab": {
          "base_uri": "https://localhost:8080/"
        },
        "id": "ddXdSAOGEZ9j",
        "outputId": "ae7c66cf-055a-48af-8c34-3fc0be10a666"
      },
      "source": [
        "for i in range(5):\n",
        "    print('hahaha')"
      ],
      "execution_count": 121,
      "outputs": [
        {
          "output_type": "stream",
          "text": [
            "hahaha\n",
            "hahaha\n",
            "hahaha\n",
            "hahaha\n",
            "hahaha\n"
          ],
          "name": "stdout"
        }
      ]
    },
    {
      "cell_type": "code",
      "metadata": {
        "colab": {
          "base_uri": "https://localhost:8080/"
        },
        "id": "iQycqLnvOU9H",
        "outputId": "da5cef82-70d9-46c8-acda-42922d9ada89"
      },
      "source": [
        "for i in range(5):\n",
        "    print('hahaha')\n",
        "    x = i + 3\n",
        "    print(f'i={i} x={x}')"
      ],
      "execution_count": 119,
      "outputs": [
        {
          "output_type": "stream",
          "text": [
            "hahaha\n",
            "i=0 x=3\n",
            "hahaha\n",
            "i=1 x=4\n",
            "hahaha\n",
            "i=2 x=5\n",
            "hahaha\n",
            "i=3 x=6\n",
            "hahaha\n",
            "i=4 x=7\n"
          ],
          "name": "stdout"
        }
      ]
    },
    {
      "cell_type": "markdown",
      "metadata": {
        "id": "0CpFENhgPEZz"
      },
      "source": [
        "### Nested loop"
      ]
    },
    {
      "cell_type": "code",
      "metadata": {
        "colab": {
          "base_uri": "https://localhost:8080/"
        },
        "id": "dXj2mTOOPJpP",
        "outputId": "0898c67c-7656-4fbf-cad4-f1a2facc3ee0"
      },
      "source": [
        "for i in range(3):\n",
        "    print(f'now i = {i}')\n",
        "    print('start j loop')\n",
        "    for j in range(4):\n",
        "          print(f'i={i} j={j} i+j={i+j}')\n",
        "    print('end j loop')"
      ],
      "execution_count": 120,
      "outputs": [
        {
          "output_type": "stream",
          "text": [
            "now i = 0\n",
            "start j loop\n",
            "i=0 j=0 i+j=0\n",
            "i=0 j=1 i+j=1\n",
            "i=0 j=2 i+j=2\n",
            "i=0 j=3 i+j=3\n",
            "end j loop\n",
            "now i = 1\n",
            "start j loop\n",
            "i=1 j=0 i+j=1\n",
            "i=1 j=1 i+j=2\n",
            "i=1 j=2 i+j=3\n",
            "i=1 j=3 i+j=4\n",
            "end j loop\n",
            "now i = 2\n",
            "start j loop\n",
            "i=2 j=0 i+j=2\n",
            "i=2 j=1 i+j=3\n",
            "i=2 j=2 i+j=4\n",
            "i=2 j=3 i+j=5\n",
            "end j loop\n"
          ],
          "name": "stdout"
        }
      ]
    },
    {
      "cell_type": "markdown",
      "metadata": {
        "id": "XB0Kay9MHkXH"
      },
      "source": [
        "## Condition (if statement)"
      ]
    },
    {
      "cell_type": "markdown",
      "metadata": {
        "id": "g5dgOuU-Fk1l"
      },
      "source": [
        "```python\n",
        "if เงื่อนไขที่จะตรวจสอบ (โดยใช้สัญลักษณ์ ==,!=,<,>,<=,>=):\n",
        "    ถ้าเงื่อนไขเป็นจริง ทำงานที่ 1\n",
        "    ถ้าเงื่อนไขเป็นจริง ทำงานที่ 2\n",
        "```"
      ]
    },
    {
      "cell_type": "code",
      "metadata": {
        "id": "b156QI_mIqSP",
        "colab": {
          "base_uri": "https://localhost:8080/"
        },
        "outputId": "8736dde5-6a17-497c-cb79-789e535278c9"
      },
      "source": [
        "stringx = 'mintratippayaratsoontorn'\n",
        "\n",
        "if len(stringx) > 20:\n",
        "    print(f'{stringx} is longer than 20 characters')"
      ],
      "execution_count": 130,
      "outputs": [
        {
          "output_type": "stream",
          "text": [
            "mintratippayaratsoontorn is longer than 20 characters\n"
          ],
          "name": "stdout"
        }
      ]
    },
    {
      "cell_type": "code",
      "metadata": {
        "id": "jZPVNeKcFW7e"
      },
      "source": [
        "# ถ้าไม่ถึงเงื่อนไขที่กำหนดจะไม่แสดงผลออกมา\n",
        "stringx = 'mintratippayaratsoontorn'\n",
        "\n",
        "if len(stringx) > 100:\n",
        "    print(f'{stringx} is longer than 100 characters')"
      ],
      "execution_count": 131,
      "outputs": []
    },
    {
      "cell_type": "markdown",
      "metadata": {
        "id": "-Wbkc6LbH-nS"
      },
      "source": [
        "```python\n",
        "if เงื่อนไขที่จะตรวจสอบ (โดยใช้สัญลักษณ์ ==,!=,<,>,<=,>=):\n",
        "    ถ้าเงื่อนไขเป็นจริง ทำงานที่ 1\n",
        "    ถ้าเงื่อนไขเป็นจริง ทำงานที่ 2\n",
        "else: #ตรวจสอบเงื่อนไขข้างบนแล้วไม่เป็นจริง\n",
        "    ทำงานที่ X\n",
        "```"
      ]
    },
    {
      "cell_type": "code",
      "metadata": {
        "colab": {
          "base_uri": "https://localhost:8080/"
        },
        "id": "y14Wkz2rFW5L",
        "outputId": "63606ea8-74d2-4c20-e9cb-581e3bf0825d"
      },
      "source": [
        "# ถ้าไม่ตรงตามเงื่อนไข แล้วได้จำนวนเท่าไหร่\n",
        "stringx = 'mintratippayaratsoontorn'\n",
        "\n",
        "if len(stringx) > 100:\n",
        "    print(f'{stringx} is longer than 100 characters')\n",
        "else:\n",
        "    print(f'{stringx} in {len(stringx)} characters long')"
      ],
      "execution_count": 132,
      "outputs": [
        {
          "output_type": "stream",
          "text": [
            "mintratippayaratsoontorn in 24 characters long\n"
          ],
          "name": "stdout"
        }
      ]
    },
    {
      "cell_type": "markdown",
      "metadata": {
        "id": "2hEykwHsJVzR"
      },
      "source": [
        "```python\n",
        "if เงื่อนไขที่จะตรวจสอบ (โดยใช้สัญลักษณ์ ==,!=,<,>,<=,>=):\n",
        "    ถ้าเงื่อนไขเป็นจริง ทำงานที่ 1\n",
        "    ถ้าเงื่อนไขเป็นจริง ทำงานที่ 2\n",
        "elif เงื่อนไขที่จะตรวจสอบต่อไป ถ้าเงื่อนไขข้างบนไม่เป็นจริง\n",
        "    ถ้าเงื่อนไขเป็นจริง ทำงานที่ a1\n",
        "    ถ้าเงื่อนไขเป็นจริง ทำงานที่ a2\n",
        "elif เงื่อนไขที่จะตรวจสอบต่อไป ถ้าเงื่อนไขข้างบนไม่เป็นจริง\n",
        "    ถ้าเงื่อนไขเป็นจริง ทำงานที่ b1\n",
        "    ถ้าเงื่อนไขเป็นจริง ทำงานที่ b2\n",
        "else: #ตรวจสอบเงื่อนไขข้างบนแล้วไม่เป็นจริง\n",
        "    ทำงานที่ X\n",
        "```"
      ]
    },
    {
      "cell_type": "code",
      "metadata": {
        "colab": {
          "base_uri": "https://localhost:8080/"
        },
        "id": "RmNjCNS-LFiy",
        "outputId": "3bc022b4-624d-4f92-9d81-356b6a1e1612"
      },
      "source": [
        "password = '12345'\n",
        "\n",
        "input_pass = '123sf'  # ลองใส่password\n",
        "if input_pass == password:\n",
        "    print('Welcome!')\n",
        "elif len(input_pass) > len(password):\n",
        "    print('Too long, try again')\n",
        "elif len(input_pass) < len(password):\n",
        "    print('Too short, try again')\n",
        "else:\n",
        "    print('Wrong password, try again')"
      ],
      "execution_count": 135,
      "outputs": [
        {
          "output_type": "stream",
          "text": [
            "Wrong password, try again\n"
          ],
          "name": "stdout"
        }
      ]
    },
    {
      "cell_type": "markdown",
      "metadata": {
        "id": "MxR6J0z7K7aG"
      },
      "source": [
        "# Quiz 1 หา min\n"
      ]
    },
    {
      "cell_type": "code",
      "metadata": {
        "id": "2VtaRCnaNe-I"
      },
      "source": [
        "list_ex = [1,5,9,-19,-2,0]  # หาค่าที่น้อยที่สุดใน list_ex โดยไม่ใช้ function min"
      ],
      "execution_count": 145,
      "outputs": []
    },
    {
      "cell_type": "code",
      "metadata": {
        "id": "Ch0hr8cIScl8",
        "outputId": "9b019860-f301-468d-ff91-2c7ebd0cf58e",
        "colab": {
          "base_uri": "https://localhost:8080/"
        }
      },
      "source": [
        "# เฉลย\n",
        "min = 1000000  # สมมุติค่า\n",
        "for i in list_ex:  # วนเข้าไปดูตัวไหนน้อยสุด\n",
        "    if i < min:\n",
        "        min = i\n",
        "print(min)"
      ],
      "execution_count": 150,
      "outputs": [
        {
          "output_type": "stream",
          "text": [
            "-19\n"
          ],
          "name": "stdout"
        }
      ]
    },
    {
      "cell_type": "code",
      "metadata": {
        "id": "c-Mb0wbqUU2j",
        "outputId": "dac774b8-759c-4c28-d7f9-7da080b6b617",
        "colab": {
          "base_uri": "https://localhost:8080/"
        }
      },
      "source": [
        "min = 1000000  # สมมุติค่า\n",
        "for i in list_ex:  \n",
        "    print(f'now i = {i}, min = {min}')\n",
        "    if i < min:\n",
        "        print(f'i < min, update min -> {i}')\n",
        "        min = i\n",
        "    else:\n",
        "        print('not update')\n",
        "    print('end condition, go to next i')\n",
        "print(min)"
      ],
      "execution_count": 151,
      "outputs": [
        {
          "output_type": "stream",
          "text": [
            "now i = 1, min = 1000000\n",
            "i < min, update min -> 1\n",
            "end condition, go to next i\n",
            "now i = 5, min = 1\n",
            "not update\n",
            "end condition, go to next i\n",
            "now i = 9, min = 1\n",
            "not update\n",
            "end condition, go to next i\n",
            "now i = -19, min = 1\n",
            "i < min, update min -> -19\n",
            "end condition, go to next i\n",
            "now i = -2, min = -19\n",
            "not update\n",
            "end condition, go to next i\n",
            "now i = 0, min = -19\n",
            "not update\n",
            "end condition, go to next i\n",
            "-19\n"
          ],
          "name": "stdout"
        }
      ]
    },
    {
      "cell_type": "code",
      "metadata": {
        "id": "6r5-ivJQSE2f",
        "outputId": "da68a2cd-f633-40f7-94e9-100a33010d86",
        "colab": {
          "base_uri": "https://localhost:8080/"
        }
      },
      "source": [
        "print('Min = %d' % min(list_ex))  # ลองทำ"
      ],
      "execution_count": 147,
      "outputs": [
        {
          "output_type": "stream",
          "text": [
            "Min = -19\n"
          ],
          "name": "stdout"
        }
      ]
    },
    {
      "cell_type": "code",
      "metadata": {
        "colab": {
          "base_uri": "https://localhost:8080/"
        },
        "id": "s10wCueJQNOv",
        "outputId": "dd022d8f-29ed-4ae6-ad2c-b55a867c0c46"
      },
      "source": [
        "min(1,5,9,-19,-2,0)  # function min"
      ],
      "execution_count": 146,
      "outputs": [
        {
          "output_type": "execute_result",
          "data": {
            "text/plain": [
              "-19"
            ]
          },
          "metadata": {
            "tags": []
          },
          "execution_count": 146
        }
      ]
    },
    {
      "cell_type": "markdown",
      "metadata": {
        "id": "L18pvhb8LAow"
      },
      "source": [
        "# HW3 ตัดเกรด"
      ]
    },
    {
      "cell_type": "code",
      "metadata": {
        "id": "W52tBeAQNqjF"
      },
      "source": [
        "score = [49,65,70,95,82,20,77,77,81,59,10]  # ตัดเกรดคะแนนใน list score (ใช้ if กับ for)"
      ],
      "execution_count": null,
      "outputs": []
    },
    {
      "cell_type": "code",
      "metadata": {
        "id": "90SDSWmDT1BL"
      },
      "source": [
        "for i in score:\n",
        "    if i < score:\n",
        "       score = i"
      ],
      "execution_count": null,
      "outputs": []
    },
    {
      "cell_type": "markdown",
      "metadata": {
        "id": "dPegn-QJFUgz"
      },
      "source": [
        "## Function"
      ]
    },
    {
      "cell_type": "code",
      "metadata": {
        "id": "BaMdfljrFWDY"
      },
      "source": [
        ""
      ],
      "execution_count": null,
      "outputs": []
    }
  ]
}