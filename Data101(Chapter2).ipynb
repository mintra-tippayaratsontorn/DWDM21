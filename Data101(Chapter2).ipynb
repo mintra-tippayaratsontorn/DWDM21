{
  "nbformat": 4,
  "nbformat_minor": 0,
  "metadata": {
    "colab": {
      "name": "Data101(Chapter2).ipynb",
      "provenance": [],
      "authorship_tag": "ABX9TyNV6rTL9n8bn+oXMChS35TH",
      "include_colab_link": true
    },
    "kernelspec": {
      "name": "python3",
      "display_name": "Python 3"
    },
    "language_info": {
      "name": "python"
    }
  },
  "cells": [
    {
      "cell_type": "markdown",
      "metadata": {
        "id": "view-in-github",
        "colab_type": "text"
      },
      "source": [
        "<a href=\"https://colab.research.google.com/github/mintra-tippayaratsontorn/DWDM21/blob/main/Data101(Chapter2).ipynb\" target=\"_parent\"><img src=\"https://colab.research.google.com/assets/colab-badge.svg\" alt=\"Open In Colab\"/></a>"
      ]
    },
    {
      "cell_type": "markdown",
      "metadata": {
        "id": "wfqlbB0izzrW"
      },
      "source": [
        "ข้อความที่อยู่ใน textbox จะอยู่ในภาษา markdown"
      ]
    },
    {
      "cell_type": "markdown",
      "metadata": {
        "id": "-lHGB6nWy1Pj"
      },
      "source": [
        "ข้อดีหนึ่งของ python คือมี package สำหรับทำงานต่างๆมากมาย\n",
        "\n",
        "ซึ่ง pandas เป็น package สำหรับการทำงานกับข้อมูลที่อยู่ในรูปแบบตาราง\n",
        "\n",
        "โดย pandas จะเรียกตารางนั้นว่า dataframe"
      ]
    },
    {
      "cell_type": "markdown",
      "metadata": {
        "id": "Ji7x_xARy5_m"
      },
      "source": [
        "การจัดการข้อมูลก่อนทำdata mining มี 2 ขั้นตอนหลักๆ\n",
        "1. import pandas"
      ]
    },
    {
      "cell_type": "code",
      "metadata": {
        "id": "XaDNfVqkx-OE"
      },
      "source": [
        "import pandas # วิธีเรียกใช้ package คือ import ตามด้วยชื่อ package"
      ],
      "execution_count": null,
      "outputs": []
    },
    {
      "cell_type": "code",
      "metadata": {
        "id": "MneLA-uRyBag"
      },
      "source": [
        "import pandas as pd # เหมือนกับข้างบน แต่ว่าตั้งชื่อให้ package ที่โหลดมาใหม่ว่า pd"
      ],
      "execution_count": null,
      "outputs": []
    },
    {
      "cell_type": "markdown",
      "metadata": {
        "id": "tedEuq04y8uh"
      },
      "source": [
        "ไฟล์ .csv (CSV = comma seprated values) เป็นไฟล์หลักที่เราจะได้ใช้กันในวิชานี้"
      ]
    },
    {
      "cell_type": "markdown",
      "metadata": {
        "id": "KW_PJ-eLy_ST"
      },
      "source": [
        "ลองสร้างไฟล์ csv ในนี้\n",
        "\n",
        "- กดไฟล์ แล้วคลิ๊กขวาสร้างไฟล์ใหม่ \n",
        "\n",
        "- ดับเบิ้ลคลิ๊ก เพื่อเพิ่มข้อมูลในไฟล์\n",
        "\n",
        "- แล้วไปเปลี่ยนชื่อเพิ่ม .csv"
      ]
    },
    {
      "cell_type": "code",
      "metadata": {
        "id": "-sRdg19syDXV"
      },
      "source": [
        "data_df = pd.read_csv('data.csv')"
      ],
      "execution_count": null,
      "outputs": []
    },
    {
      "cell_type": "code",
      "metadata": {
        "colab": {
          "base_uri": "https://localhost:8080/",
          "height": 143
        },
        "id": "LgIn4tUvyd21",
        "outputId": "3cc91bf0-a131-435c-a01d-c14a94f544e5"
      },
      "source": [
        "data_df"
      ],
      "execution_count": null,
      "outputs": [
        {
          "output_type": "execute_result",
          "data": {
            "text/html": [
              "<div>\n",
              "<style scoped>\n",
              "    .dataframe tbody tr th:only-of-type {\n",
              "        vertical-align: middle;\n",
              "    }\n",
              "\n",
              "    .dataframe tbody tr th {\n",
              "        vertical-align: top;\n",
              "    }\n",
              "\n",
              "    .dataframe thead th {\n",
              "        text-align: right;\n",
              "    }\n",
              "</style>\n",
              "<table border=\"1\" class=\"dataframe\">\n",
              "  <thead>\n",
              "    <tr style=\"text-align: right;\">\n",
              "      <th></th>\n",
              "      <th>name</th>\n",
              "      <th>age</th>\n",
              "      <th>city</th>\n",
              "    </tr>\n",
              "  </thead>\n",
              "  <tbody>\n",
              "    <tr>\n",
              "      <th>0</th>\n",
              "      <td>Tom</td>\n",
              "      <td>27</td>\n",
              "      <td>Khon Kean</td>\n",
              "    </tr>\n",
              "    <tr>\n",
              "      <th>1</th>\n",
              "      <td>Paul</td>\n",
              "      <td>15</td>\n",
              "      <td>Bangkok</td>\n",
              "    </tr>\n",
              "    <tr>\n",
              "      <th>2</th>\n",
              "      <td>Sarah</td>\n",
              "      <td>49</td>\n",
              "      <td>London</td>\n",
              "    </tr>\n",
              "  </tbody>\n",
              "</table>\n",
              "</div>"
            ],
            "text/plain": [
              "    name  age       city\n",
              "0    Tom   27  Khon Kean\n",
              "1   Paul   15    Bangkok\n",
              "2  Sarah   49     London"
            ]
          },
          "metadata": {
            "tags": []
          },
          "execution_count": 62
        }
      ]
    },
    {
      "cell_type": "code",
      "metadata": {
        "colab": {
          "base_uri": "https://localhost:8080/",
          "height": 143
        },
        "id": "sApyT9hvyqzl",
        "outputId": "b482cba1-083d-4970-f7d8-111dc2dc776d"
      },
      "source": [
        "data_df2 = pandas.read_csv('data.csv')\n",
        "data_df2"
      ],
      "execution_count": null,
      "outputs": [
        {
          "output_type": "execute_result",
          "data": {
            "text/html": [
              "<div>\n",
              "<style scoped>\n",
              "    .dataframe tbody tr th:only-of-type {\n",
              "        vertical-align: middle;\n",
              "    }\n",
              "\n",
              "    .dataframe tbody tr th {\n",
              "        vertical-align: top;\n",
              "    }\n",
              "\n",
              "    .dataframe thead th {\n",
              "        text-align: right;\n",
              "    }\n",
              "</style>\n",
              "<table border=\"1\" class=\"dataframe\">\n",
              "  <thead>\n",
              "    <tr style=\"text-align: right;\">\n",
              "      <th></th>\n",
              "      <th>name</th>\n",
              "      <th>age</th>\n",
              "      <th>city</th>\n",
              "    </tr>\n",
              "  </thead>\n",
              "  <tbody>\n",
              "    <tr>\n",
              "      <th>0</th>\n",
              "      <td>Tom</td>\n",
              "      <td>27</td>\n",
              "      <td>Khon Kean</td>\n",
              "    </tr>\n",
              "    <tr>\n",
              "      <th>1</th>\n",
              "      <td>Paul</td>\n",
              "      <td>15</td>\n",
              "      <td>Bangkok</td>\n",
              "    </tr>\n",
              "    <tr>\n",
              "      <th>2</th>\n",
              "      <td>Sarah</td>\n",
              "      <td>49</td>\n",
              "      <td>London</td>\n",
              "    </tr>\n",
              "  </tbody>\n",
              "</table>\n",
              "</div>"
            ],
            "text/plain": [
              "    name  age       city\n",
              "0    Tom   27  Khon Kean\n",
              "1   Paul   15    Bangkok\n",
              "2  Sarah   49     London"
            ]
          },
          "metadata": {
            "tags": []
          },
          "execution_count": 63
        }
      ]
    },
    {
      "cell_type": "markdown",
      "metadata": {
        "id": "2_NVoXNrydhz"
      },
      "source": [
        "# Basic Python\n",
        "## Variables (ตัวแปร) \n",
        "คือกล่องสำหรับเก็บข้อมูล"
      ]
    },
    {
      "cell_type": "markdown",
      "metadata": {
        "id": "Z_qwaeh81i2f"
      },
      "source": [
        "ข้อกำหนดในการตั้งชื่อตัวแปร\n",
        "1. ชื่อห้ามมีเว้นวรรค\n",
        "2. (พยายาม)ใช้ชื่อภาษาอังกฤษ\n",
        "3. ตัวเล็กกับตัวใหญ่แตกต่างกัน (case sensitive)\n",
        "4. ห้ามใช้ตัวเลขเป็นตัวหน้า"
      ]
    },
    {
      "cell_type": "code",
      "metadata": {
        "id": "fApB0tCq0DC8"
      },
      "source": [
        "variable_a = 12\n",
        "variable_b = 'abcde'  # ' เรียกว่า quote (มี quote แสดงว่าข้อความเป็นstring)\n",
        "variable_c = variable_a"
      ],
      "execution_count": null,
      "outputs": []
    },
    {
      "cell_type": "code",
      "metadata": {
        "colab": {
          "base_uri": "https://localhost:8080/"
        },
        "id": "w15_bW1d0VWY",
        "outputId": "db856a39-ad4f-4d9d-bd92-5eaa6d2b160a"
      },
      "source": [
        "variable_a"
      ],
      "execution_count": null,
      "outputs": [
        {
          "output_type": "execute_result",
          "data": {
            "text/plain": [
              "12"
            ]
          },
          "metadata": {
            "tags": []
          },
          "execution_count": 65
        }
      ]
    },
    {
      "cell_type": "code",
      "metadata": {
        "colab": {
          "base_uri": "https://localhost:8080/",
          "height": 35
        },
        "id": "u1R2UxNA0VSf",
        "outputId": "993855c0-b9e0-4897-cc85-5cebf33725e0"
      },
      "source": [
        "variable_b"
      ],
      "execution_count": null,
      "outputs": [
        {
          "output_type": "execute_result",
          "data": {
            "application/vnd.google.colaboratory.intrinsic+json": {
              "type": "string"
            },
            "text/plain": [
              "'abcde'"
            ]
          },
          "metadata": {
            "tags": []
          },
          "execution_count": 66
        }
      ]
    },
    {
      "cell_type": "code",
      "metadata": {
        "colab": {
          "base_uri": "https://localhost:8080/"
        },
        "id": "2ov5YjSS0VQR",
        "outputId": "84ef9013-04cf-4e0f-a08c-328daa18722d"
      },
      "source": [
        "variable_c"
      ],
      "execution_count": null,
      "outputs": [
        {
          "output_type": "execute_result",
          "data": {
            "text/plain": [
              "12"
            ]
          },
          "metadata": {
            "tags": []
          },
          "execution_count": 67
        }
      ]
    },
    {
      "cell_type": "markdown",
      "metadata": {
        "id": "Ir6iY_nG2fMe"
      },
      "source": [
        "### ลองใช้ข้อกำหนดในการตั้งชื่อตัวแปร"
      ]
    },
    {
      "cell_type": "code",
      "metadata": {
        "colab": {
          "base_uri": "https://localhost:8080/",
          "height": 135
        },
        "id": "ewn9tzUq1O31",
        "outputId": "8edfad32-68a3-4dee-897c-a4d4a680d2f6"
      },
      "source": [
        "# ชื่อห้ามมีเว้นวรรค\n",
        "variable a = 6"
      ],
      "execution_count": null,
      "outputs": [
        {
          "output_type": "error",
          "ename": "SyntaxError",
          "evalue": "ignored",
          "traceback": [
            "\u001b[0;36m  File \u001b[0;32m\"<ipython-input-69-126f7ab49866>\"\u001b[0;36m, line \u001b[0;32m2\u001b[0m\n\u001b[0;31m    variable a = 6\u001b[0m\n\u001b[0m             ^\u001b[0m\n\u001b[0;31mSyntaxError\u001b[0m\u001b[0;31m:\u001b[0m invalid syntax\n"
          ]
        }
      ]
    },
    {
      "cell_type": "code",
      "metadata": {
        "colab": {
          "base_uri": "https://localhost:8080/"
        },
        "id": "DWq9j9EK2LbI",
        "outputId": "5b5e6168-2a6b-46bc-bb99-cf8bc3eea5af"
      },
      "source": [
        "# (พยายาม)ใช้ชื่อภาษาอังกฤษ\n",
        "# colab ใช้ภาษาไทยเป็นชื่อตัวแปรได้ แต่ไม่ควรใช้\n",
        "ตัวแปร = 3\n",
        "ตัวแปร"
      ],
      "execution_count": null,
      "outputs": [
        {
          "output_type": "execute_result",
          "data": {
            "text/plain": [
              "3"
            ]
          },
          "metadata": {
            "tags": []
          },
          "execution_count": 70
        }
      ]
    },
    {
      "cell_type": "code",
      "metadata": {
        "colab": {
          "base_uri": "https://localhost:8080/"
        },
        "id": "5nxJXLt126_-",
        "outputId": "a20c239f-4f10-44eb-b328-095acd2fc15c"
      },
      "source": [
        "# ตัวเล็กกับตัวใหญ่แตกต่างกัน (case sensitive)\n",
        "v_a = 1\n",
        "V_a = 2\n",
        "print(v_a)\n",
        "print(V_a)"
      ],
      "execution_count": null,
      "outputs": [
        {
          "output_type": "stream",
          "text": [
            "1\n",
            "2\n"
          ],
          "name": "stdout"
        }
      ]
    },
    {
      "cell_type": "code",
      "metadata": {
        "colab": {
          "base_uri": "https://localhost:8080/"
        },
        "id": "mze8BvQU3JhG",
        "outputId": "a945e2e5-3eb2-4d72-999f-f9052ff1c1bc"
      },
      "source": [
        "# ตั้งชื่อเดียวกัน ข้อมูลทับกัน\n",
        "# ตัวเล็กกับตัวใหญ่แตกต่างกัน (case sensitive)\n",
        "v_a = 1\n",
        "v_a = 2\n",
        "print(v_a)\n",
        "print(v_a)"
      ],
      "execution_count": null,
      "outputs": [
        {
          "output_type": "stream",
          "text": [
            "2\n",
            "2\n"
          ],
          "name": "stdout"
        }
      ]
    },
    {
      "cell_type": "code",
      "metadata": {
        "colab": {
          "base_uri": "https://localhost:8080/",
          "height": 135
        },
        "id": "KTRFA20p3iIV",
        "outputId": "0da0c734-30df-4453-85db-ccce3460558f"
      },
      "source": [
        "# ห้ามใช้ตัวเลขเป็นตัวหน้า\n",
        "2 = 1"
      ],
      "execution_count": null,
      "outputs": [
        {
          "output_type": "error",
          "ename": "SyntaxError",
          "evalue": "ignored",
          "traceback": [
            "\u001b[0;36m  File \u001b[0;32m\"<ipython-input-73-24eb8a2ec18c>\"\u001b[0;36m, line \u001b[0;32m2\u001b[0m\n\u001b[0;31m    2 = 1\u001b[0m\n\u001b[0m         ^\u001b[0m\n\u001b[0;31mSyntaxError\u001b[0m\u001b[0;31m:\u001b[0m can't assign to literal\n"
          ]
        }
      ]
    },
    {
      "cell_type": "code",
      "metadata": {
        "id": "mqlcBfir3uC5"
      },
      "source": [
        "# ห้ามใช้ตัวเลขเป็นตัวหน้า\n",
        "2ab = 1"
      ],
      "execution_count": null,
      "outputs": []
    },
    {
      "cell_type": "code",
      "metadata": {
        "id": "ZpOeYtpC3wYl"
      },
      "source": [
        "# ห้ามใช้ตัวเลขเป็นตัวหน้า\n",
        "variable = 1\n",
        "print(variable)"
      ],
      "execution_count": null,
      "outputs": []
    },
    {
      "cell_type": "markdown",
      "metadata": {
        "id": "uzhv_RrN4VH8"
      },
      "source": [
        "### นี่เป็นการตั้งชื่อที่ถูกต้อง"
      ]
    },
    {
      "cell_type": "code",
      "metadata": {
        "id": "g2V1_vlo4Ho0"
      },
      "source": [
        "variable_a = 12\n",
        "variable_b = 'abcde'  # ' เรียกว่า quote (มี quote แสดงว่าข้อความเป็นstring)\n",
        "variable_c = variable_a\n",
        "variable_d = -41.2\n",
        "variable_4 = \"KKU\"  # \" เรียกว่า double quote"
      ],
      "execution_count": null,
      "outputs": []
    },
    {
      "cell_type": "code",
      "metadata": {
        "colab": {
          "base_uri": "https://localhost:8080/"
        },
        "id": "sOS6SU5O4lYC",
        "outputId": "9162fffb-04e2-4cc0-cc86-207f613aa0cb"
      },
      "source": [
        "variable_x = variable_c + variable_d\n",
        "print(variable_x)"
      ],
      "execution_count": null,
      "outputs": [
        {
          "output_type": "stream",
          "text": [
            "-29.200000000000003\n"
          ],
          "name": "stdout"
        }
      ]
    },
    {
      "cell_type": "code",
      "metadata": {
        "colab": {
          "base_uri": "https://localhost:8080/",
          "height": 171
        },
        "id": "MXwE4CcQ4uNa",
        "outputId": "fffaa793-0f2e-4b7c-c0e6-608fb262d170"
      },
      "source": [
        "variable_a + variable_b  # ตัวเลขบวกกับตัวหนังสือไม่ได้"
      ],
      "execution_count": null,
      "outputs": [
        {
          "output_type": "error",
          "ename": "TypeError",
          "evalue": "ignored",
          "traceback": [
            "\u001b[0;31m---------------------------------------------------------------------------\u001b[0m",
            "\u001b[0;31mTypeError\u001b[0m                                 Traceback (most recent call last)",
            "\u001b[0;32m<ipython-input-76-f91cbeb6c43b>\u001b[0m in \u001b[0;36m<module>\u001b[0;34m()\u001b[0m\n\u001b[0;32m----> 1\u001b[0;31m \u001b[0mvariable_a\u001b[0m \u001b[0;34m+\u001b[0m \u001b[0mvariable_b\u001b[0m  \u001b[0;31m# ตัวเลขบวกกับตัวหนังสือไม่ได้\u001b[0m\u001b[0;34m\u001b[0m\u001b[0;34m\u001b[0m\u001b[0m\n\u001b[0m",
            "\u001b[0;31mTypeError\u001b[0m: unsupported operand type(s) for +: 'int' and 'str'"
          ]
        }
      ]
    },
    {
      "cell_type": "code",
      "metadata": {
        "id": "o_qyO4IN6KrZ"
      },
      "source": [
        "print(variable_b + variable_4)  # ตัวหนังสือก็จะรวมเข้าด้วยกัน"
      ],
      "execution_count": null,
      "outputs": []
    },
    {
      "cell_type": "markdown",
      "metadata": {
        "id": "x6S3QwVk7E0v"
      },
      "source": [
        "## Casting int() float() str() \n",
        "สามารถเปลี่ยนชนิดของตัวแปรได้"
      ]
    },
    {
      "cell_type": "code",
      "metadata": {
        "colab": {
          "base_uri": "https://localhost:8080/"
        },
        "id": "QejbkBXg6YzV",
        "outputId": "3c821bec-b253-4d63-e7ed-aeca291cbd78"
      },
      "source": [
        "print(variable_x)\n",
        "print(int(variable_x))"
      ],
      "execution_count": null,
      "outputs": [
        {
          "output_type": "stream",
          "text": [
            "-29.200000000000003\n",
            "-29\n"
          ],
          "name": "stdout"
        }
      ]
    },
    {
      "cell_type": "code",
      "metadata": {
        "colab": {
          "base_uri": "https://localhost:8080/"
        },
        "id": "JxZahd907af9",
        "outputId": "ee309d61-7d56-4cac-a621-19684cac4983"
      },
      "source": [
        "V_X = str(variable_x)\n",
        "print(V_X)"
      ],
      "execution_count": null,
      "outputs": [
        {
          "output_type": "stream",
          "text": [
            "-29.200000000000003\n"
          ],
          "name": "stdout"
        }
      ]
    },
    {
      "cell_type": "code",
      "metadata": {
        "colab": {
          "base_uri": "https://localhost:8080/",
          "height": 171
        },
        "id": "HGaS768k7qPZ",
        "outputId": "51ee4d38-5375-487e-9319-24475d7467bb"
      },
      "source": [
        "V_X + variable_a  # string บวกกับตัวเลขไม่ได้"
      ],
      "execution_count": null,
      "outputs": [
        {
          "output_type": "error",
          "ename": "TypeError",
          "evalue": "ignored",
          "traceback": [
            "\u001b[0;31m---------------------------------------------------------------------------\u001b[0m",
            "\u001b[0;31mTypeError\u001b[0m                                 Traceback (most recent call last)",
            "\u001b[0;32m<ipython-input-79-ed04b4043281>\u001b[0m in \u001b[0;36m<module>\u001b[0;34m()\u001b[0m\n\u001b[0;32m----> 1\u001b[0;31m \u001b[0mV_X\u001b[0m \u001b[0;34m+\u001b[0m \u001b[0mvariable_a\u001b[0m  \u001b[0;31m# string บวกกับตัวเลขไม่ได้\u001b[0m\u001b[0;34m\u001b[0m\u001b[0;34m\u001b[0m\u001b[0m\n\u001b[0m",
            "\u001b[0;31mTypeError\u001b[0m: can only concatenate str (not \"int\") to str"
          ]
        }
      ]
    },
    {
      "cell_type": "code",
      "metadata": {
        "colab": {
          "base_uri": "https://localhost:8080/",
          "height": 35
        },
        "id": "2jxHbXZy74dD",
        "outputId": "bdeb5574-47b9-4e5e-db0a-123a0a60161c"
      },
      "source": [
        "V_X  # quote อยู่แสดงว่าเป็น string"
      ],
      "execution_count": null,
      "outputs": [
        {
          "output_type": "execute_result",
          "data": {
            "application/vnd.google.colaboratory.intrinsic+json": {
              "type": "string"
            },
            "text/plain": [
              "'-29.200000000000003'"
            ]
          },
          "metadata": {
            "tags": []
          },
          "execution_count": 80
        }
      ]
    },
    {
      "cell_type": "code",
      "metadata": {
        "colab": {
          "base_uri": "https://localhost:8080/"
        },
        "id": "eF2N0zS38Wum",
        "outputId": "ad16019c-9ca2-41ef-cc39-e8d8c30a82ad"
      },
      "source": [
        "float(V_X)  # เปลี่ยน string ให้เป็นตัวเลข"
      ],
      "execution_count": null,
      "outputs": [
        {
          "output_type": "execute_result",
          "data": {
            "text/plain": [
              "-29.200000000000003"
            ]
          },
          "metadata": {
            "tags": []
          },
          "execution_count": 81
        }
      ]
    },
    {
      "cell_type": "markdown",
      "metadata": {
        "id": "abaLr9st9Bqo"
      },
      "source": [
        "## Data Structure\n",
        "### list()"
      ]
    },
    {
      "cell_type": "code",
      "metadata": {
        "id": "8BxHoBMP8nE2"
      },
      "source": [
        "# วิธีสร้างlist แบบง่ายๆ\n",
        "list_a = [1,2,0.2,'abs']  # [] square brackets\n",
        "list_b = [2,'xyz',list_a,[1,2,0.0]]"
      ],
      "execution_count": null,
      "outputs": []
    },
    {
      "cell_type": "code",
      "metadata": {
        "colab": {
          "base_uri": "https://localhost:8080/"
        },
        "id": "L7fGmL_292ES",
        "outputId": "4bac6eab-aba2-497e-83de-0e09199156c2"
      },
      "source": [
        "list_a"
      ],
      "execution_count": null,
      "outputs": [
        {
          "output_type": "execute_result",
          "data": {
            "text/plain": [
              "[1, 2, 0.2, 'abs']"
            ]
          },
          "metadata": {
            "tags": []
          },
          "execution_count": 83
        }
      ]
    },
    {
      "cell_type": "code",
      "metadata": {
        "colab": {
          "base_uri": "https://localhost:8080/"
        },
        "id": "DQx6x6CB93BA",
        "outputId": "31a3ae0e-e9a2-4018-f490-a1325421f7b7"
      },
      "source": [
        "list_b"
      ],
      "execution_count": null,
      "outputs": [
        {
          "output_type": "execute_result",
          "data": {
            "text/plain": [
              "[2, 'xyz', [1, 2, 0.2, 'abs'], [1, 2, 0.0]]"
            ]
          },
          "metadata": {
            "tags": []
          },
          "execution_count": 84
        }
      ]
    },
    {
      "cell_type": "code",
      "metadata": {
        "colab": {
          "base_uri": "https://localhost:8080/"
        },
        "id": "J4FGy49L94Cj",
        "outputId": "b67e711b-2b35-4174-942b-fdf13b0b6747"
      },
      "source": [
        "len(list_b)  # ดูว่ามีสมาชิกกี่ตัว"
      ],
      "execution_count": null,
      "outputs": [
        {
          "output_type": "execute_result",
          "data": {
            "text/plain": [
              "4"
            ]
          },
          "metadata": {
            "tags": []
          },
          "execution_count": 85
        }
      ]
    },
    {
      "cell_type": "code",
      "metadata": {
        "colab": {
          "base_uri": "https://localhost:8080/"
        },
        "id": "wwqcy-E7-NP6",
        "outputId": "c58bf943-0266-4e46-c103-07da0424b4d1"
      },
      "source": [
        "# ชี้สมาชิก เพื่อดึงค่ามันออกมา\n",
        "list_b[3]"
      ],
      "execution_count": null,
      "outputs": [
        {
          "output_type": "execute_result",
          "data": {
            "text/plain": [
              "[1, 2, 0.0]"
            ]
          },
          "metadata": {
            "tags": []
          },
          "execution_count": 86
        }
      ]
    },
    {
      "cell_type": "code",
      "metadata": {
        "colab": {
          "base_uri": "https://localhost:8080/"
        },
        "id": "DHYUFGON-cEd",
        "outputId": "1bcef6fd-999c-4dc3-87ee-7a08d99bda9a"
      },
      "source": [
        "# สามารถชี้ซ้อนกันได้ เหมือนกับหาค่าที่ซ้ำกัน\n",
        "list_b[3][1]"
      ],
      "execution_count": null,
      "outputs": [
        {
          "output_type": "execute_result",
          "data": {
            "text/plain": [
              "2"
            ]
          },
          "metadata": {
            "tags": []
          },
          "execution_count": 87
        }
      ]
    },
    {
      "cell_type": "markdown",
      "metadata": {
        "id": "s4pZE0E5-3uV"
      },
      "source": [
        "string คือ list ของตัวหนังสือ"
      ]
    },
    {
      "cell_type": "code",
      "metadata": {
        "id": "qTAOYftI-kF3"
      },
      "source": [
        "a = 'Stat KKU'"
      ],
      "execution_count": null,
      "outputs": []
    },
    {
      "cell_type": "code",
      "metadata": {
        "colab": {
          "base_uri": "https://localhost:8080/",
          "height": 35
        },
        "id": "q6UFeV6J_CtL",
        "outputId": "0b3a8a43-7ce4-4459-a653-6b277c45f23f"
      },
      "source": [
        "a[4]  # ชี้ตัวที่4จะได้เป็นเว้นวรรค"
      ],
      "execution_count": null,
      "outputs": [
        {
          "output_type": "execute_result",
          "data": {
            "application/vnd.google.colaboratory.intrinsic+json": {
              "type": "string"
            },
            "text/plain": [
              "' '"
            ]
          },
          "metadata": {
            "tags": []
          },
          "execution_count": 89
        }
      ]
    },
    {
      "cell_type": "markdown",
      "metadata": {
        "id": "83Jmp3Ql_i3m"
      },
      "source": [
        "### วิธีสร้าง list ว่าง แบบที่ 2"
      ]
    },
    {
      "cell_type": "code",
      "metadata": {
        "id": "lMvK-TIN_GT2"
      },
      "source": [
        "list_c = list()  # แบบที่ 1\n",
        "list_d = []  # แบบที่ 2"
      ],
      "execution_count": null,
      "outputs": []
    },
    {
      "cell_type": "code",
      "metadata": {
        "colab": {
          "base_uri": "https://localhost:8080/"
        },
        "id": "jiKMWYNJ_2Md",
        "outputId": "c875d446-52a7-45cf-afef-abcb501654c2"
      },
      "source": [
        "list_c"
      ],
      "execution_count": null,
      "outputs": [
        {
          "output_type": "execute_result",
          "data": {
            "text/plain": [
              "[]"
            ]
          },
          "metadata": {
            "tags": []
          },
          "execution_count": 91
        }
      ]
    },
    {
      "cell_type": "code",
      "metadata": {
        "colab": {
          "base_uri": "https://localhost:8080/"
        },
        "id": "yI1fC9B1_46s",
        "outputId": "a9f0334e-c43f-49fc-eebc-f9da2a44232d"
      },
      "source": [
        "list_d"
      ],
      "execution_count": null,
      "outputs": [
        {
          "output_type": "execute_result",
          "data": {
            "text/plain": [
              "[]"
            ]
          },
          "metadata": {
            "tags": []
          },
          "execution_count": 92
        }
      ]
    },
    {
      "cell_type": "markdown",
      "metadata": {
        "id": "Kvsj6rleASX3"
      },
      "source": [
        "เติมค่าลงไปใน list(.append())"
      ]
    },
    {
      "cell_type": "code",
      "metadata": {
        "id": "Rp_Qp7L4_5gs"
      },
      "source": [
        "list_d.append('a')"
      ],
      "execution_count": null,
      "outputs": []
    },
    {
      "cell_type": "code",
      "metadata": {
        "colab": {
          "base_uri": "https://localhost:8080/"
        },
        "id": "GNGNx9SdAvOX",
        "outputId": "f98eba39-17d3-4b0a-8257-0e893406bb71"
      },
      "source": [
        "list_d"
      ],
      "execution_count": null,
      "outputs": [
        {
          "output_type": "execute_result",
          "data": {
            "text/plain": [
              "['a']"
            ]
          },
          "metadata": {
            "tags": []
          },
          "execution_count": 94
        }
      ]
    },
    {
      "cell_type": "code",
      "metadata": {
        "id": "x_AInTn3AwIW"
      },
      "source": [
        "list_d.append(56)"
      ],
      "execution_count": null,
      "outputs": []
    },
    {
      "cell_type": "code",
      "metadata": {
        "colab": {
          "base_uri": "https://localhost:8080/"
        },
        "id": "MCud-CU_AzG_",
        "outputId": "f9359760-596c-4463-9958-58e41929b8e3"
      },
      "source": [
        "list_d"
      ],
      "execution_count": null,
      "outputs": [
        {
          "output_type": "execute_result",
          "data": {
            "text/plain": [
              "['a', 56]"
            ]
          },
          "metadata": {
            "tags": []
          },
          "execution_count": 96
        }
      ]
    },
    {
      "cell_type": "markdown",
      "metadata": {
        "id": "jROrw6QUBFre"
      },
      "source": [
        "## การชี้ค่าใน list (indexing)\n",
        "1. ใช้ลำดับในการชี้\n",
        "2. ลำดับเริ่มจาก 0\n",
        "3. สามารถชี้จากข้างหลังโดยใช้ negative index"
      ]
    },
    {
      "cell_type": "code",
      "metadata": {
        "colab": {
          "base_uri": "https://localhost:8080/"
        },
        "id": "p2cuQevnAzsj",
        "outputId": "de572840-0e7e-4305-a9bb-0bc691e62afb"
      },
      "source": [
        "list_b"
      ],
      "execution_count": null,
      "outputs": [
        {
          "output_type": "execute_result",
          "data": {
            "text/plain": [
              "[2, 'xyz', [1, 2, 0.2, 'abs'], [1, 2, 0.0]]"
            ]
          },
          "metadata": {
            "tags": []
          },
          "execution_count": 97
        }
      ]
    },
    {
      "cell_type": "code",
      "metadata": {
        "colab": {
          "base_uri": "https://localhost:8080/"
        },
        "id": "iSRGqxL_Beuy",
        "outputId": "71c00b1e-effd-4797-ba72-a71db84d8906"
      },
      "source": [
        "list_b[-1]"
      ],
      "execution_count": null,
      "outputs": [
        {
          "output_type": "execute_result",
          "data": {
            "text/plain": [
              "[1, 2, 0.0]"
            ]
          },
          "metadata": {
            "tags": []
          },
          "execution_count": 98
        }
      ]
    },
    {
      "cell_type": "markdown",
      "metadata": {
        "id": "VK_0xmO0CHK9"
      },
      "source": [
        "### list slicing\n",
        "สามารถที่จะเลือกบางส่วนของ list ออกมาได้"
      ]
    },
    {
      "cell_type": "code",
      "metadata": {
        "id": "i5bsoaSpCPhJ"
      },
      "source": [
        "list_ex = [1,2,3,5,6,8,-1,20,50,0]"
      ],
      "execution_count": null,
      "outputs": []
    },
    {
      "cell_type": "markdown",
      "metadata": {
        "id": "1wXA1n2UC90m"
      },
      "source": [
        "เราจะตัด list โดยเอาตั้งแต่ [ตัวหน้า:ตัวก่อนตัวหลัง] \n",
        "\n",
        "ถ้าเป็นสัญลักษณ์ทางคณิตศาสตร์ [ตัวหน้า:ตัวหลัง] -> [ตัวหน้า,ตัวหลัง)"
      ]
    },
    {
      "cell_type": "code",
      "metadata": {
        "colab": {
          "base_uri": "https://localhost:8080/"
        },
        "id": "MJH9fcB5CPem",
        "outputId": "925d41ff-c429-4b70-bd5b-60418f8149d2"
      },
      "source": [
        "list_ex[1:6]  # เริ่มตั้งแต่ตัวที่ 1 จนถึงตัวที่ 5"
      ],
      "execution_count": null,
      "outputs": [
        {
          "output_type": "execute_result",
          "data": {
            "text/plain": [
              "[2, 3, 5, 6, 8]"
            ]
          },
          "metadata": {
            "tags": []
          },
          "execution_count": 100
        }
      ]
    },
    {
      "cell_type": "code",
      "metadata": {
        "colab": {
          "base_uri": "https://localhost:8080/"
        },
        "id": "MwFWNw6DDWjg",
        "outputId": "8f42222b-5566-44cc-e0a7-61f8037283a4"
      },
      "source": [
        "list_ex[4:]  # เริ่มตั้งแต่ตัวที่ 4 จนถึงตัวสุดท้าย"
      ],
      "execution_count": null,
      "outputs": [
        {
          "output_type": "execute_result",
          "data": {
            "text/plain": [
              "[6, 8, -1, 20, 50, 0]"
            ]
          },
          "metadata": {
            "tags": []
          },
          "execution_count": 101
        }
      ]
    },
    {
      "cell_type": "code",
      "metadata": {
        "colab": {
          "base_uri": "https://localhost:8080/"
        },
        "id": "X8qKoDGeDWhI",
        "outputId": "20e468dc-7d3a-4d58-ea81-891fb5b81ec4"
      },
      "source": [
        "list_ex[:6]  # เริ่มตั้งแต่ตัวแรกจนถึงตัวที่ 5"
      ],
      "execution_count": null,
      "outputs": [
        {
          "output_type": "execute_result",
          "data": {
            "text/plain": [
              "[1, 2, 3, 5, 6, 8]"
            ]
          },
          "metadata": {
            "tags": []
          },
          "execution_count": 102
        }
      ]
    },
    {
      "cell_type": "markdown",
      "metadata": {
        "id": "sV0i1eC0EG9m"
      },
      "source": [
        "[จุดเริ่มต้น:จุดสุดท้าย:step]"
      ]
    },
    {
      "cell_type": "code",
      "metadata": {
        "colab": {
          "base_uri": "https://localhost:8080/"
        },
        "id": "dhXpRnaTDiTa",
        "outputId": "390afd50-93dc-4e4d-9dec-edddead149d1"
      },
      "source": [
        "list_ex[::2]  # เอาตั้งแต่ตัวแรกจนถึงตัวที่สุดท้าย โดยใช้ step2(กระโดดทีละ2)"
      ],
      "execution_count": null,
      "outputs": [
        {
          "output_type": "execute_result",
          "data": {
            "text/plain": [
              "[1, 3, 6, -1, 50]"
            ]
          },
          "metadata": {
            "tags": []
          },
          "execution_count": 103
        }
      ]
    },
    {
      "cell_type": "code",
      "metadata": {
        "colab": {
          "base_uri": "https://localhost:8080/"
        },
        "id": "UanQgvKREVWz",
        "outputId": "9f9b0f9a-942b-4ffa-e90a-b7f378f9fc09"
      },
      "source": [
        "list_ex[::-1]  # การกลับ list (ถ้าเป็นลบ จะกลับ list ให้เลย)"
      ],
      "execution_count": null,
      "outputs": [
        {
          "output_type": "execute_result",
          "data": {
            "text/plain": [
              "[0, 50, 20, -1, 8, 6, 5, 3, 2, 1]"
            ]
          },
          "metadata": {
            "tags": []
          },
          "execution_count": 104
        }
      ]
    },
    {
      "cell_type": "code",
      "metadata": {
        "colab": {
          "base_uri": "https://localhost:8080/",
          "height": 35
        },
        "id": "rqu75Q32ElDV",
        "outputId": "39dd07d4-aa21-449c-8375-dea067742c84"
      },
      "source": [
        "a"
      ],
      "execution_count": null,
      "outputs": [
        {
          "output_type": "execute_result",
          "data": {
            "application/vnd.google.colaboratory.intrinsic+json": {
              "type": "string"
            },
            "text/plain": [
              "'Stat KKU'"
            ]
          },
          "metadata": {
            "tags": []
          },
          "execution_count": 105
        }
      ]
    },
    {
      "cell_type": "code",
      "metadata": {
        "colab": {
          "base_uri": "https://localhost:8080/",
          "height": 35
        },
        "id": "dCcFPyvBE6we",
        "outputId": "fe64246a-50d2-4d68-8c90-b4b8fbfa003e"
      },
      "source": [
        "a[5:]"
      ],
      "execution_count": null,
      "outputs": [
        {
          "output_type": "execute_result",
          "data": {
            "application/vnd.google.colaboratory.intrinsic+json": {
              "type": "string"
            },
            "text/plain": [
              "'KKU'"
            ]
          },
          "metadata": {
            "tags": []
          },
          "execution_count": 106
        }
      ]
    },
    {
      "cell_type": "code",
      "metadata": {
        "colab": {
          "base_uri": "https://localhost:8080/",
          "height": 35
        },
        "id": "g-AzQIJeFdCc",
        "outputId": "fd30f07d-d34d-4dbe-9da4-0a038357d5ae"
      },
      "source": [
        "a[-3:]"
      ],
      "execution_count": null,
      "outputs": [
        {
          "output_type": "execute_result",
          "data": {
            "application/vnd.google.colaboratory.intrinsic+json": {
              "type": "string"
            },
            "text/plain": [
              "'KKU'"
            ]
          },
          "metadata": {
            "tags": []
          },
          "execution_count": 107
        }
      ]
    },
    {
      "cell_type": "code",
      "metadata": {
        "colab": {
          "base_uri": "https://localhost:8080/",
          "height": 35
        },
        "id": "J-9T5tm5Fwaj",
        "outputId": "610dfbb4-8671-44e8-9859-970ee48f3f8f"
      },
      "source": [
        "a[5:8]"
      ],
      "execution_count": null,
      "outputs": [
        {
          "output_type": "execute_result",
          "data": {
            "application/vnd.google.colaboratory.intrinsic+json": {
              "type": "string"
            },
            "text/plain": [
              "'KKU'"
            ]
          },
          "metadata": {
            "tags": []
          },
          "execution_count": 108
        }
      ]
    },
    {
      "cell_type": "code",
      "metadata": {
        "colab": {
          "base_uri": "https://localhost:8080/",
          "height": 35
        },
        "id": "up4Y66YMGWLa",
        "outputId": "d7c686e2-a1a3-4583-a8e5-a8692f04a92b"
      },
      "source": [
        "a[-3::1]"
      ],
      "execution_count": null,
      "outputs": [
        {
          "output_type": "execute_result",
          "data": {
            "application/vnd.google.colaboratory.intrinsic+json": {
              "type": "string"
            },
            "text/plain": [
              "'KKU'"
            ]
          },
          "metadata": {
            "tags": []
          },
          "execution_count": 109
        }
      ]
    },
    {
      "cell_type": "markdown",
      "metadata": {
        "id": "aITgIJk5Gshl"
      },
      "source": [
        "## list + list"
      ]
    },
    {
      "cell_type": "code",
      "metadata": {
        "colab": {
          "base_uri": "https://localhost:8080/"
        },
        "id": "x77PBWz_GrTi",
        "outputId": "c3f0f0d5-801e-4ce2-ef2b-c6061d37d33a"
      },
      "source": [
        "print(list_a)\n",
        "print(list_b)"
      ],
      "execution_count": null,
      "outputs": [
        {
          "output_type": "stream",
          "text": [
            "[1, 2, 0.2, 'abs']\n",
            "[2, 'xyz', [1, 2, 0.2, 'abs'], [1, 2, 0.0]]\n"
          ],
          "name": "stdout"
        }
      ]
    },
    {
      "cell_type": "code",
      "metadata": {
        "colab": {
          "base_uri": "https://localhost:8080/"
        },
        "id": "-1ljNX_2Gv6W",
        "outputId": "d61d4ef2-3742-4076-9123-113a34891a08"
      },
      "source": [
        "list_a + list_b  # เอา list มาต่อกัน"
      ],
      "execution_count": null,
      "outputs": [
        {
          "output_type": "execute_result",
          "data": {
            "text/plain": [
              "[1, 2, 0.2, 'abs', 2, 'xyz', [1, 2, 0.2, 'abs'], [1, 2, 0.0]]"
            ]
          },
          "metadata": {
            "tags": []
          },
          "execution_count": 111
        }
      ]
    },
    {
      "cell_type": "markdown",
      "metadata": {
        "id": "FuWZjK44LLYt"
      },
      "source": [
        "format string"
      ]
    },
    {
      "cell_type": "markdown",
      "metadata": {
        "id": "baInxMITLu2e"
      },
      "source": [
        "```python\n",
        "f'string{ตัวแปร}'\n",
        "```\n",
        "\n",
        "{} เรียกว่า curly brackets"
      ]
    },
    {
      "cell_type": "code",
      "metadata": {
        "colab": {
          "base_uri": "https://localhost:8080/",
          "height": 35
        },
        "id": "5X5WYoYBLRjA",
        "outputId": "3e3bdd00-68dd-41c6-e3dc-4900455c1c6d"
      },
      "source": [
        "f'ตัวแปร list_a มีค่าคือ {list_a}'"
      ],
      "execution_count": null,
      "outputs": [
        {
          "output_type": "execute_result",
          "data": {
            "application/vnd.google.colaboratory.intrinsic+json": {
              "type": "string"
            },
            "text/plain": [
              "\"ตัวแปร list_a มีค่าคือ [1, 2, 0.2, 'abs']\""
            ]
          },
          "metadata": {
            "tags": []
          },
          "execution_count": 112
        }
      ]
    },
    {
      "cell_type": "markdown",
      "metadata": {
        "id": "Z360N4YVHLzF"
      },
      "source": [
        "## Loop\n",
        "การทำซ้ำ"
      ]
    },
    {
      "cell_type": "markdown",
      "metadata": {
        "id": "yTOFxcWfKXoW"
      },
      "source": [
        "indent แปลว่า เว้น\n",
        "```python\n",
        "for ตัวแปรที่จะรับค่าจากลิส in ลิสที่จะนำมาวนลูป:\n",
        "    do something  #in loop\n",
        "    do another thing #in loop\n",
        "\n",
        "do other things  #out loop\n",
        "```"
      ]
    },
    {
      "cell_type": "code",
      "metadata": {
        "colab": {
          "base_uri": "https://localhost:8080/"
        },
        "id": "C150eDLmGv3w",
        "outputId": "4fcb1f93-0c0c-432f-990b-a1dfe5211eb8"
      },
      "source": [
        "for i in [1,2,3,4,5]:\n",
        "    print(i+1)"
      ],
      "execution_count": 1,
      "outputs": [
        {
          "output_type": "stream",
          "text": [
            "2\n",
            "3\n",
            "4\n",
            "5\n",
            "6\n"
          ],
          "name": "stdout"
        }
      ]
    },
    {
      "cell_type": "code",
      "metadata": {
        "colab": {
          "base_uri": "https://localhost:8080/"
        },
        "id": "L1EXRB8NJ83b",
        "outputId": "35dd4368-738a-497a-e0a4-0e2569457be6"
      },
      "source": [
        "for x in [1,2,3,4,5]:\n",
        "    print(f'ค่าตัวแปร x คือ {x} และ x+2={x+2}')"
      ],
      "execution_count": 2,
      "outputs": [
        {
          "output_type": "stream",
          "text": [
            "ค่าตัวแปร x คือ 1 และ x+2=3\n",
            "ค่าตัวแปร x คือ 2 และ x+2=4\n",
            "ค่าตัวแปร x คือ 3 และ x+2=5\n",
            "ค่าตัวแปร x คือ 4 และ x+2=6\n",
            "ค่าตัวแปร x คือ 5 และ x+2=7\n"
          ],
          "name": "stdout"
        }
      ]
    },
    {
      "cell_type": "code",
      "metadata": {
        "colab": {
          "base_uri": "https://localhost:8080/"
        },
        "id": "OHWPQxa3J81g",
        "outputId": "4869412b-39e3-43d5-b6a2-e93b1d0f1b35"
      },
      "source": [
        "list5 = [1,2,3,4,5]\n",
        "for x in list5:\n",
        "    print(f'ค่าตัวแปร x คือ {x} และ x+2={x+2}')"
      ],
      "execution_count": 3,
      "outputs": [
        {
          "output_type": "stream",
          "text": [
            "ค่าตัวแปร x คือ 1 และ x+2=3\n",
            "ค่าตัวแปร x คือ 2 และ x+2=4\n",
            "ค่าตัวแปร x คือ 3 และ x+2=5\n",
            "ค่าตัวแปร x คือ 4 และ x+2=6\n",
            "ค่าตัวแปร x คือ 5 และ x+2=7\n"
          ],
          "name": "stdout"
        }
      ]
    },
    {
      "cell_type": "code",
      "metadata": {
        "colab": {
          "base_uri": "https://localhost:8080/"
        },
        "id": "sPALKLFzJ8y4",
        "outputId": "554442c8-844d-45fc-9b2b-7501f26dfed5"
      },
      "source": [
        "list(range(10))"
      ],
      "execution_count": 4,
      "outputs": [
        {
          "output_type": "execute_result",
          "data": {
            "text/plain": [
              "[0, 1, 2, 3, 4, 5, 6, 7, 8, 9]"
            ]
          },
          "metadata": {
            "tags": []
          },
          "execution_count": 4
        }
      ]
    },
    {
      "cell_type": "code",
      "metadata": {
        "colab": {
          "base_uri": "https://localhost:8080/"
        },
        "id": "AOrE3KYQNS09",
        "outputId": "9c843e97-d3b0-4a8d-a9da-56e9506f6f08"
      },
      "source": [
        "for i in range(2,7):\n",
        "    print(i)"
      ],
      "execution_count": 5,
      "outputs": [
        {
          "output_type": "stream",
          "text": [
            "2\n",
            "3\n",
            "4\n",
            "5\n",
            "6\n"
          ],
          "name": "stdout"
        }
      ]
    },
    {
      "cell_type": "code",
      "metadata": {
        "colab": {
          "base_uri": "https://localhost:8080/"
        },
        "id": "GsBeVk66NSxL",
        "outputId": "9d8be385-3f13-4c83-9705-8887de1d3b6f"
      },
      "source": [
        "for i in range(2,7,2):  # สร้าง2ถึง7 กระโดดทีละ2\n",
        "    print(i)"
      ],
      "execution_count": 6,
      "outputs": [
        {
          "output_type": "stream",
          "text": [
            "2\n",
            "4\n",
            "6\n"
          ],
          "name": "stdout"
        }
      ]
    },
    {
      "cell_type": "code",
      "metadata": {
        "colab": {
          "base_uri": "https://localhost:8080/"
        },
        "id": "ddXdSAOGEZ9j",
        "outputId": "27204f8e-83a5-4ecb-dcf2-c71ea92a6178"
      },
      "source": [
        "for i in range(5):\n",
        "    print('hahaha')"
      ],
      "execution_count": 7,
      "outputs": [
        {
          "output_type": "stream",
          "text": [
            "hahaha\n",
            "hahaha\n",
            "hahaha\n",
            "hahaha\n",
            "hahaha\n"
          ],
          "name": "stdout"
        }
      ]
    },
    {
      "cell_type": "code",
      "metadata": {
        "colab": {
          "base_uri": "https://localhost:8080/"
        },
        "id": "iQycqLnvOU9H",
        "outputId": "dbdf5f46-a8fb-444c-feb9-fd4355bdf87e"
      },
      "source": [
        "for i in range(5):\n",
        "    print('hahaha')\n",
        "    x = i + 3\n",
        "    print(f'i={i} x={x}')"
      ],
      "execution_count": 8,
      "outputs": [
        {
          "output_type": "stream",
          "text": [
            "hahaha\n",
            "i=0 x=3\n",
            "hahaha\n",
            "i=1 x=4\n",
            "hahaha\n",
            "i=2 x=5\n",
            "hahaha\n",
            "i=3 x=6\n",
            "hahaha\n",
            "i=4 x=7\n"
          ],
          "name": "stdout"
        }
      ]
    },
    {
      "cell_type": "markdown",
      "metadata": {
        "id": "0CpFENhgPEZz"
      },
      "source": [
        "### Nested loop"
      ]
    },
    {
      "cell_type": "code",
      "metadata": {
        "colab": {
          "base_uri": "https://localhost:8080/"
        },
        "id": "dXj2mTOOPJpP",
        "outputId": "115af6bd-816d-4db0-a606-3d9824b6d10d"
      },
      "source": [
        "for i in range(3):\n",
        "    print(f'now i = {i}')\n",
        "    print('start j loop')\n",
        "    for j in range(4):\n",
        "          print(f'i={i} j={j} i+j={i+j}')\n",
        "    print('end j loop')"
      ],
      "execution_count": 10,
      "outputs": [
        {
          "output_type": "stream",
          "text": [
            "now i = 0\n",
            "start j loop\n",
            "i=0 j=0 i+j=0\n",
            "i=0 j=1 i+j=1\n",
            "i=0 j=2 i+j=2\n",
            "i=0 j=3 i+j=3\n",
            "end j loop\n",
            "now i = 1\n",
            "start j loop\n",
            "i=1 j=0 i+j=1\n",
            "i=1 j=1 i+j=2\n",
            "i=1 j=2 i+j=3\n",
            "i=1 j=3 i+j=4\n",
            "end j loop\n",
            "now i = 2\n",
            "start j loop\n",
            "i=2 j=0 i+j=2\n",
            "i=2 j=1 i+j=3\n",
            "i=2 j=2 i+j=4\n",
            "i=2 j=3 i+j=5\n",
            "end j loop\n"
          ],
          "name": "stdout"
        }
      ]
    },
    {
      "cell_type": "markdown",
      "metadata": {
        "id": "XB0Kay9MHkXH"
      },
      "source": [
        "## Condition (if statement)"
      ]
    },
    {
      "cell_type": "markdown",
      "metadata": {
        "id": "g5dgOuU-Fk1l"
      },
      "source": [
        "```python\n",
        "if เงื่อนไขที่จะตรวจสอบ (โดยใช้สัญลักษณ์ ==,!=,<,>,<=,>=):\n",
        "    ถ้าเงื่อนไขเป็นจริง ทำงานที่ 1\n",
        "    ถ้าเงื่อนไขเป็นจริง ทำงานที่ 2\n",
        "```"
      ]
    },
    {
      "cell_type": "code",
      "metadata": {
        "id": "b156QI_mIqSP",
        "colab": {
          "base_uri": "https://localhost:8080/"
        },
        "outputId": "aed23c37-cede-42c1-b5e2-329ccad5a45c"
      },
      "source": [
        "stringx = 'mintratippayaratsoontorn'\n",
        "\n",
        "if len(stringx) > 20:\n",
        "    print(f'{stringx} is longer than 20 characters')"
      ],
      "execution_count": 11,
      "outputs": [
        {
          "output_type": "stream",
          "text": [
            "mintratippayaratsoontorn is longer than 20 characters\n"
          ],
          "name": "stdout"
        }
      ]
    },
    {
      "cell_type": "code",
      "metadata": {
        "id": "jZPVNeKcFW7e"
      },
      "source": [
        "# ถ้าไม่ถึงเงื่อนไขที่กำหนดจะไม่แสดงผลออกมา\n",
        "stringx = 'mintratippayaratsoontorn'\n",
        "\n",
        "if len(stringx) > 100:\n",
        "    print(f'{stringx} is longer than 100 characters')"
      ],
      "execution_count": 12,
      "outputs": []
    },
    {
      "cell_type": "markdown",
      "metadata": {
        "id": "-Wbkc6LbH-nS"
      },
      "source": [
        "```python\n",
        "if เงื่อนไขที่จะตรวจสอบ (โดยใช้สัญลักษณ์ ==,!=,<,>,<=,>=):\n",
        "    ถ้าเงื่อนไขเป็นจริง ทำงานที่ 1\n",
        "    ถ้าเงื่อนไขเป็นจริง ทำงานที่ 2\n",
        "else: #ตรวจสอบเงื่อนไขข้างบนแล้วไม่เป็นจริง\n",
        "    ทำงานที่ X\n",
        "```"
      ]
    },
    {
      "cell_type": "code",
      "metadata": {
        "colab": {
          "base_uri": "https://localhost:8080/"
        },
        "id": "y14Wkz2rFW5L",
        "outputId": "bec53312-3093-4168-d412-cffc4de44c78"
      },
      "source": [
        "# ถ้าไม่ตรงตามเงื่อนไข แล้วได้จำนวนเท่าไหร่\n",
        "stringx = 'mintratippayaratsoontorn'\n",
        "\n",
        "if len(stringx) > 100:\n",
        "    print(f'{stringx} is longer than 100 characters')\n",
        "else:\n",
        "    print(f'{stringx} in {len(stringx)} characters long')"
      ],
      "execution_count": 13,
      "outputs": [
        {
          "output_type": "stream",
          "text": [
            "mintratippayaratsoontorn in 24 characters long\n"
          ],
          "name": "stdout"
        }
      ]
    },
    {
      "cell_type": "markdown",
      "metadata": {
        "id": "2hEykwHsJVzR"
      },
      "source": [
        "```python\n",
        "if เงื่อนไขที่จะตรวจสอบ (โดยใช้สัญลักษณ์ ==,!=,<,>,<=,>=):\n",
        "    ถ้าเงื่อนไขเป็นจริง ทำงานที่ 1\n",
        "    ถ้าเงื่อนไขเป็นจริง ทำงานที่ 2\n",
        "elif เงื่อนไขที่จะตรวจสอบต่อไป ถ้าเงื่อนไขข้างบนไม่เป็นจริง\n",
        "    ถ้าเงื่อนไขเป็นจริง ทำงานที่ a1\n",
        "    ถ้าเงื่อนไขเป็นจริง ทำงานที่ a2\n",
        "elif เงื่อนไขที่จะตรวจสอบต่อไป ถ้าเงื่อนไขข้างบนไม่เป็นจริง\n",
        "    ถ้าเงื่อนไขเป็นจริง ทำงานที่ b1\n",
        "    ถ้าเงื่อนไขเป็นจริง ทำงานที่ b2\n",
        "else: #ตรวจสอบเงื่อนไขข้างบนแล้วไม่เป็นจริง\n",
        "    ทำงานที่ X\n",
        "```"
      ]
    },
    {
      "cell_type": "code",
      "metadata": {
        "colab": {
          "base_uri": "https://localhost:8080/"
        },
        "id": "RmNjCNS-LFiy",
        "outputId": "d0e39a9e-84dd-4fcb-eedb-3ebcecccad67"
      },
      "source": [
        "password = '12345'\n",
        "\n",
        "input_pass = '123sf'  # ลองใส่password\n",
        "if input_pass == password:\n",
        "    print('Welcome!')\n",
        "elif len(input_pass) > len(password):\n",
        "    print('Too long, try again')\n",
        "elif len(input_pass) < len(password):\n",
        "    print('Too short, try again')\n",
        "else:\n",
        "    print('Wrong password, try again')"
      ],
      "execution_count": 14,
      "outputs": [
        {
          "output_type": "stream",
          "text": [
            "Wrong password, try again\n"
          ],
          "name": "stdout"
        }
      ]
    },
    {
      "cell_type": "markdown",
      "metadata": {
        "id": "MxR6J0z7K7aG"
      },
      "source": [
        "# Quiz 1 หา min\n"
      ]
    },
    {
      "cell_type": "code",
      "metadata": {
        "id": "2VtaRCnaNe-I"
      },
      "source": [
        "list_ex = [1,5,9,-19,-2,0]  # หาค่าที่น้อยที่สุดใน list_ex โดยไม่ใช้ function min"
      ],
      "execution_count": 15,
      "outputs": []
    },
    {
      "cell_type": "code",
      "metadata": {
        "colab": {
          "base_uri": "https://localhost:8080/"
        },
        "id": "Ch0hr8cIScl8",
        "outputId": "8415a6cf-0f70-4a31-bc7d-0507f564295a"
      },
      "source": [
        "# เฉลย\n",
        "min = 1000000  # สมมุติค่า\n",
        "for i in list_ex:  # วนเข้าไปดูตัวไหนน้อยสุด\n",
        "    if i < min:\n",
        "        min = i\n",
        "print(min)"
      ],
      "execution_count": 16,
      "outputs": [
        {
          "output_type": "stream",
          "text": [
            "-19\n"
          ],
          "name": "stdout"
        }
      ]
    },
    {
      "cell_type": "code",
      "metadata": {
        "colab": {
          "base_uri": "https://localhost:8080/"
        },
        "id": "c-Mb0wbqUU2j",
        "outputId": "18480e63-46db-44aa-d256-317059dece2d"
      },
      "source": [
        "min = 1000000  # สมมุติค่า\n",
        "for i in list_ex:  \n",
        "    print(f'now i = {i}, min = {min}')\n",
        "    if i < min:\n",
        "        print(f'i < min, update min -> {i}')\n",
        "        min = i\n",
        "    else:\n",
        "        print('not update')\n",
        "    print('end condition, go to next i')\n",
        "print(min)"
      ],
      "execution_count": 17,
      "outputs": [
        {
          "output_type": "stream",
          "text": [
            "now i = 1, min = 1000000\n",
            "i < min, update min -> 1\n",
            "end condition, go to next i\n",
            "now i = 5, min = 1\n",
            "not update\n",
            "end condition, go to next i\n",
            "now i = 9, min = 1\n",
            "not update\n",
            "end condition, go to next i\n",
            "now i = -19, min = 1\n",
            "i < min, update min -> -19\n",
            "end condition, go to next i\n",
            "now i = -2, min = -19\n",
            "not update\n",
            "end condition, go to next i\n",
            "now i = 0, min = -19\n",
            "not update\n",
            "end condition, go to next i\n",
            "-19\n"
          ],
          "name": "stdout"
        }
      ]
    },
    {
      "cell_type": "code",
      "metadata": {
        "colab": {
          "base_uri": "https://localhost:8080/",
          "height": 171
        },
        "id": "6r5-ivJQSE2f",
        "outputId": "ab0143c7-9941-460d-b434-ad2567aebc3c"
      },
      "source": [
        "print('Min = %d' % min(list_ex))  # ลองทำ"
      ],
      "execution_count": 18,
      "outputs": [
        {
          "output_type": "error",
          "ename": "TypeError",
          "evalue": "ignored",
          "traceback": [
            "\u001b[0;31m---------------------------------------------------------------------------\u001b[0m",
            "\u001b[0;31mTypeError\u001b[0m                                 Traceback (most recent call last)",
            "\u001b[0;32m<ipython-input-18-1189109d24be>\u001b[0m in \u001b[0;36m<module>\u001b[0;34m()\u001b[0m\n\u001b[0;32m----> 1\u001b[0;31m \u001b[0mprint\u001b[0m\u001b[0;34m(\u001b[0m\u001b[0;34m'Min = %d'\u001b[0m \u001b[0;34m%\u001b[0m \u001b[0mmin\u001b[0m\u001b[0;34m(\u001b[0m\u001b[0mlist_ex\u001b[0m\u001b[0;34m)\u001b[0m\u001b[0;34m)\u001b[0m  \u001b[0;31m# ลองทำ\u001b[0m\u001b[0;34m\u001b[0m\u001b[0;34m\u001b[0m\u001b[0m\n\u001b[0m",
            "\u001b[0;31mTypeError\u001b[0m: 'int' object is not callable"
          ]
        }
      ]
    },
    {
      "cell_type": "code",
      "metadata": {
        "colab": {
          "base_uri": "https://localhost:8080/",
          "height": 171
        },
        "id": "s10wCueJQNOv",
        "outputId": "7d4c3fe8-c7c6-42b9-afee-16ec57a6c9d7"
      },
      "source": [
        "min(1,5,9,-19,-2,0)  # function min"
      ],
      "execution_count": 19,
      "outputs": [
        {
          "output_type": "error",
          "ename": "TypeError",
          "evalue": "ignored",
          "traceback": [
            "\u001b[0;31m---------------------------------------------------------------------------\u001b[0m",
            "\u001b[0;31mTypeError\u001b[0m                                 Traceback (most recent call last)",
            "\u001b[0;32m<ipython-input-19-f01ec81ee6d5>\u001b[0m in \u001b[0;36m<module>\u001b[0;34m()\u001b[0m\n\u001b[0;32m----> 1\u001b[0;31m \u001b[0mmin\u001b[0m\u001b[0;34m(\u001b[0m\u001b[0;36m1\u001b[0m\u001b[0;34m,\u001b[0m\u001b[0;36m5\u001b[0m\u001b[0;34m,\u001b[0m\u001b[0;36m9\u001b[0m\u001b[0;34m,\u001b[0m\u001b[0;34m-\u001b[0m\u001b[0;36m19\u001b[0m\u001b[0;34m,\u001b[0m\u001b[0;34m-\u001b[0m\u001b[0;36m2\u001b[0m\u001b[0;34m,\u001b[0m\u001b[0;36m0\u001b[0m\u001b[0;34m)\u001b[0m  \u001b[0;31m# function min\u001b[0m\u001b[0;34m\u001b[0m\u001b[0;34m\u001b[0m\u001b[0m\n\u001b[0m",
            "\u001b[0;31mTypeError\u001b[0m: 'int' object is not callable"
          ]
        }
      ]
    },
    {
      "cell_type": "markdown",
      "metadata": {
        "id": "L18pvhb8LAow"
      },
      "source": [
        "# HW3 ตัดเกรด"
      ]
    },
    {
      "cell_type": "code",
      "metadata": {
        "id": "W52tBeAQNqjF"
      },
      "source": [
        "score = [49,65,70,95,82,20,77,77,81,59,10]  # ตัดเกรดคะแนนใน list score (ใช้ if กับ for)"
      ],
      "execution_count": 20,
      "outputs": []
    },
    {
      "cell_type": "code",
      "metadata": {
        "colab": {
          "base_uri": "https://localhost:8080/"
        },
        "id": "90SDSWmDT1BL",
        "outputId": "e82ae101-7d0a-44da-fe8c-2e6227cdda3b"
      },
      "source": [
        "# ใช้เกณฑ์ปกติ (A-F)\n",
        "\n",
        "for i in score:\n",
        "\n",
        "  if i >= 80:\n",
        "    print(f'{i} grade A')\n",
        "  elif i >= 75:\n",
        "    print(f'{i} grade B+')\n",
        "  elif i >= 70:\n",
        "    print(f'{i} grade B')\n",
        "  elif i >= 65:\n",
        "    print(f'{i} grade C+')\n",
        "  elif i >= 60:\n",
        "    print(f'{i} grade C')\n",
        "  elif i >= 55:\n",
        "    print(f'{i} grade D+')\n",
        "  elif i >= 50:\n",
        "    print(f'{i} grade D')\n",
        "  else:\n",
        "    print(f'{i} grade F')"
      ],
      "execution_count": 23,
      "outputs": [
        {
          "output_type": "stream",
          "text": [
            "49 grade F\n",
            "65 grade C+\n",
            "70 grade B\n",
            "95 grade A\n",
            "82 grade A\n",
            "20 grade F\n",
            "77 grade B+\n",
            "77 grade B+\n",
            "81 grade A\n",
            "59 grade D+\n",
            "10 grade F\n"
          ],
          "name": "stdout"
        }
      ]
    },
    {
      "cell_type": "markdown",
      "metadata": {
        "id": "dPegn-QJFUgz"
      },
      "source": [
        "## Function\n",
        "\n",
        "```python\n",
        "def ชื่อฟังก์ชัน(input1,input2,...):\n",
        "    งานxxx\n",
        "    งานyyy\n",
        "    return output\n",
        "```\n",
        "\n",
        "ส่วนประกอบสำคัญ\n",
        "* input\n",
        "* process (ไม่มีไม่ได้)\n",
        "* output"
      ]
    },
    {
      "cell_type": "markdown",
      "metadata": {
        "id": "VSXV02UjyMfE"
      },
      "source": [
        "![image.png](data:image/png;base64,iVBORw0KGgoAAAANSUhEUgAAAd0AAADjCAYAAADAOs4HAAAgAElEQVR4AeydBZhdxdnH26/uFEqF0qIFSoHiLVKnFFqgtBQrFPfgGiy4S9AgCR6Cu0NwCME9BAuaAMGS7CbZrM33/N57/yezJ+fevXv32u6+8zz3nnvPGXnnPzOvzZyZLwQPjoAj4Ag4Ao6AI1ATBL5Qk1K8EEfAEXAEHAFHwBEILnT7QCfo7OwMnR2lf/pAlXpNYoJHZ2ev86ppBnFblkh73P41pbVGhSVt2dHH2rJG+Hgx/QsBF7r9qz37fm0QSu0duY8z4aq3Z2eHsO6oSlnellWB1TPtwwi40G3wxoNpTX3v4/DRi2+HyePeDR+Pfy988ur7mR+effbGpDCreWauVv3UcGhvbQsf57GY8s5HoaO1vcFbcTZ5Mz6dFia/9I615+cTPswpF0UsXqxctT/tPmvajH7Vtq0zWsKnr08KH7/yXvj09YmzgfJfjkA/RcCFboM2LMyW0DJ1erh157PCCT/YNJy+6HbhhHk2Ccd9b8Nw3Pc2yl/5vWE4fq6Nw9Hf+Hc4fdHtw5v3PGtpO9r6jjAK+frO/Lw5vPfY+PD2gy8aE0bpUBAmCKvDv7hOOOrr/woX/3FwQPASsNoaPTx3yehwyk+3CKf+bKtw/kp7hrfuf8FI7ojqGdehbWZruHXns8NJP9zM4r85+rlc/Aq0LW7dD559M7z90Eth0lOvh9bplVXWaLt3HnnZ2vKjl94xuimToLZ6d8y4MHTBrcORX1kvnDr/lrlnRZQQi+BfjkAfRsCFboM2ngQMls3oAy8Ow5YeFC76wwHhrn1GhIeOvjI8eNSVduW3fY65KjxwxKjw2NAbw6dvTLJaicE1aBW7kCWhg7A9a4kdw/Hf39jq2jq9JRcPRpy33Gd+1hTuO/Sy8MDho8IzF9wdZk5pztW3DzDrl695OJy7/O7hwt/tH8765U7h5u3PMMWKumW1V1tLq7X/Ob/eNYz8+2HhnYdftroKry4g9vBP+6y2cOmah5pCd+Hq+4WPX3k3h2OFlBc8LigYx821Ubh20xMtb8okqH9PeXdyGHPK9eH+wy4Pj550nT1TO+f++Lcj0L8QcKHboO0ppoTQvWf/C8OZi+8YLv7jgeZqLJVkrAmYHJ9CVi+Mvmic/Bwr6XHrKq7l2doeSmH+1KVg+rZ2EzbK991HxoWL/3RgGLbMIFMisPTtWUtrqdW2eNSrUJmx9ZyVKc+z0lJ/7qttstJ2d++lqx4Kw5baJQz/zd7hglX3Decut3t4ZsRdhm0WXQjdu/e70AT0pX89xKxSykjjbjS3tndpn4Te1Ny42ry1eWa4brOTwjnL7hau+vcxJnTBum3mrMQSpSxrPzApMX9oIx+UoeEr72X1vW3QOXYPQcyznmBYtP8U8BCoHRgDtFlB2vuAoqa6+LV/IOBCt0HbUUwpFroX/WFwmPT0G8a0YIwmjPJCNfnd2jOGVqz6MPIs6yudBiYretPPsgRJOk78n7larMAzF9shPHL8NfGjwr9TjDMtkLISWpxUOgnqrPjpe3KPpu939x+he/avdg4XrLZfuHHr08IlaxxsHoxPX8vNZ6ZpL0XoIlS6Cx1t2a736zY72QT6lf86Osz4ZGp32RR8Xqidz112t3DGotuHO3Y/LzNtoX6jyIXy1XOuWf3UBHU3All5lFKG4vrVEegtAi50e4tgldKLGaWF7ocvvGUlFmP6YiLM1d13yGXmnnzxyoe6WEcSpp+9+UF48KgrzJoad+0joX1W3qLMu3Ip570xr4SXrnwwPHbqjeYGfPDIK8IDR14Rnjz39qA5xhxR+UR5TFRG64xZYdx1j4aHj7va0j9w5Kjw8LFXh2dG3B3euOuZ0Dx5Sphw3/Ph3oMvDbfvfl4YvvLeAXcqguC+ISMD5eFORgARuFK31257Mkx+WS7RXNkSWtMmfhJeuPz+8Ogp15vF/MDhl1uZT59/Z5j41Ot5Cme7OZMbIYSJT78eXrnhsfD4mbfkyj/qynD/kJFh7Gk3hddufyq0zci7vONEJf42obvULuZifurcO8K4ax+1ucz7D7/cLEPwVtuTZXdCV23NQrunh98VHmKa4chRhjNKywujHgifv/Vhjrq8kvHZm5MMCzDFqwDWKDo2dXHMVXZFubPQ2WmLt5hnx5UPnUxj8MEtTH2mvv9JPmquDd55+KWkzc5bfnfzWly21qF2DzfyQ0dfZYuncgWE8O6j48Lrdzwd3n/iNd2yq9oSbwfl4H6m31E2dDw94i6bM04SSYmKuiELtF65fkx4cthtNh1htB8+Kow59YYw7voxgTUEBJWV5OU/HIEqIeBCt0rA9jZbMd5yhK5W8z55zu3htIW2NaZ+2645957oErOG4eHuPHHe/4a79h4ecDkqvHXfC+GWnc4KuDXPW3HPMHSBrcPxc29si7ZY2HP2UrsY075rr+Gh6YPPlCy5tre2hzfvfjbctM1p5ko9feFtba6WOb6TfrSZuczPX3mvcNugYeGx024Mh3/hH7bACJcri4zOWGwHi8/87tHf+Fdu7jOEMP2TaeGajU8wYfHICddaebhSVafX73gqXL3hsZbH0AW3Sco8eb7/mSv10jUODg8efWXCcKUcsNjnnsEXh8vWGhJGrLJPOH2R7cIJc29i6blCD/Pq129xSvjw+beQ2EldS/2B8Bi29C5G+7MX3RPaW1rDVRscY3m/fudTuWzIN591MaErup869/Ywcu0hVjfNoYLxqT/fytzYV6x3ZHj24tGBlcKECaOfDSf/5H/h2O/8x9YKgPU5y+xqi7Vo14O/sIbFV51QNqg3Uxy0BXmfyMK+RbYznK7a4Njw6i1PhPaW3Hztoydfb/2EeOetuEc4f6W9wllL7pS0JX1Ni/0oAxc3cRJrmCmNPLbvPfZKuO6/J4URv6U9ZvefE3/4X8Pwkj8fFO49+JLw+du5xXSy+lkJjVJx+T8ONxrxnLAYEZpOmCdP+6r72lyz5snLaU9h5FdHoFQEXOiWilSN44npzCF0n3/LGBKaOXHSH8gU43nuknttTg0hNvqgS2zeUNWQgJr45Gu2AhiXJ9ZDsnAphDDmlBvCmUvsaML18nWOCI+fcbNZJVgPLAi6fvOTA+5DmPG9h1wa5MKUFY4VbfOzS+0Shi2za7h1l7PNyoQhImCwNhCeCDnm/z4Z/75ZxMx1ssgIJQALjldKeF1GNE//eGoYufZh4ZT5tzSLjjphTRMmjH4+wIihmwVLDx9/TZj41Gv2Sspzl94brlj/aHNdkz+WWhvp8gLu1VufsHJ5duHvDwiPHH+tCQfoRUjcOmiYCREY+FX/ObZ8oZu3dMeefpPRjMBijnfUukeGpg8/t3sSqIWELquaCQhcBCZC7ZK/HBSePOc2W/X90Qtvh0dOvDZZsHXucruF8Tc9ZmloY14t4xU0vAln/2oXw3PCvc/ZIrzJL79jCo7wvueAi0w4gdf7j48PuMLfuPuZcOfew02xoe8w9UEbEWgf2uyjF94KlMvCuBu2PDX3atC4d60MaJB1OWrdI0yA37Tt6ZZe/YipBupE3ZgbxhJntTXt8dJVD4cr/320tRftcfd+F9hctPo+HhgUJ/rmBb/bP9x/2MiAMkZa6nnPAReGEb/Z2/rC1RseFz6bkPMGqO8aIf7lCFQBARe6VQC1EllmCt0/Djbh0V3+snSfvWh0OG+FPcy9hwWHNagghvr+E6/m5lAX39Esg1joPnbaTZYewXrfoSMToac8pk36NFyz8fE2R8linM8nfKBHJrxxBZ695M7GeLFkZzXNtqKJ2NHeHmY1zQgzPmtK0sFUL1x9/3Dm4jvYquzkQfQDpo6AOm2hbcxlySPmtHnlBeaOwIWel695pEudiYegufa/J5q1ed5KeyYrdnn22u1PhvNX3DMREsJRRbMI6M69hpt1yEKvV27MCTE9L+Vqlm5e6OK+RuAjKFiNjidh7Bk3JUoT+RUSuvQPsLpszUMMf5SbD5+f0GUBlHkaRj9rggvBSL0l1EUrq4pRMq5Y/6gw9f2PdTt3zSsjtBFtJ4GmSFjOT5x1iy0GI4+Hjr0qp8QoQgimlJ3xi+0DC6nSQfkh+M9aYqdwy45n5aJ05l6VQ9hzH+Xp6RF3Jpa68pk+eYq1Nyv7UdSYblBAsCKwcZ2zSKxlynQ9sivK1iMnXGP9Ew/GC6Put/tSdrpE9j+OQAURcKFbQTArmVUsdNHi0dixhtDeYTBdPqvtZ5bApWse0mWOtRJCFysZxsVcGAFBBG2yUrCGEcq4qF+5YUwCAXOqWDAI3Ws2OWG2JVFgcRYMGIb37phXwgWr72f1xTrB3c19s0DyLsec0D0inLbgNgldFIybEEaLgLl5hzNnCwl5BPKvwjDHd97ye5hwRhnoyCsjr932hCkZWE4sciKY25qV0PlFOS9f96i1AYz+oeOuTupb6o9Y6D5x1q1JMrwHCD4UhklPz55zLiR0SfjMhXebpQktzLcr5PDKS8wQbJ6XfBF+CGoCbYhrG08DluSo9Y7MeRPyK81l/SvPQtdPXnvfrGWsWSxV2oa00ICSYgupFtsh3LrTWXaP+vCMIKFr9V58R2szlYOljAeE/oMiNW3ip/YIZVHpuYGnhmkO6sb6BYUJ9z4fLv7zgaYg4f5GKSMYNvm2fG/seFvQhoJHX0vm6suYNlC5fnUEukPAhW53CNXpeSGhy6pXFr10+fz+ABMEzOvBbBSYx+utpSuhywIYghilrECsYeJg+Y277hEVba5imCHMmPeMTWhFc3VJRPgvTFqM8DGELpbujjl3d34e0ubbuhG6uNOZI6bcsaffnLiNVZYE58QnXw8j1xpiwuaWnc4OMz/PWdpdhO5WQy2ZvANKy+KbC1bb15g5ruuehiyhK9c4i55QcG7a9ozc3HpnZ0FLl3Jx6SNMEbrvjRk3BylqIxZrsaAJazS2pBFEErrM+2oFdRcXa152I6ygE6u3+aMp4eWrHw4T7nsusLDvxm1Os7xZic3GJQp4TWYL3bPttoQff9SXsoQubQS91I/FYUn7SyDmr3hJmKMnLnPD2iiF6YBY6MYeHLXl+4/nvTxL7GgL5ZI4KkMV8asjUEEEXOhWEMxKZhULXb2nexHu5fG5ebNiZYnZslAHi+6cZQbZAiEJENJKyHXnXu5W6A690dzHOaH7aEIWblysD3bR0txlzHCTiPkfooeFM+UKXVYmU18sXVYup4PK+OC5CWbZoRCw21OPhO51j5qXAUFXKaErXLDqoYcFZ0+ff4eRjzWa9Z4uD+/e9wLDGCWD7SUtzDZwE6E2/ubHzUuCq5a2kLArSeiGEGZ82mQrua/Z9ASzPHHrMw8MfrQvigIL7XBxV0rovj92vOXNYq3nLh5tVVO/juuJ0GWqIRG6+QVVcwjd/Jw/adUPsHRzUxk7mqWrhWa+oMoQ9q8qIeBCt0rA9jbbTKH7h8Hhw+eYt8tt/GCustTpQ5ojpHwWDsEMEYj3DL6oy/ymGE+i7TOnO+SyLgupZMXCVAtaugWELotgmCvLCd2bDQ4JlyxsRE+vhe4KJQjdZ9+cLXR3GZasYi7N0q280EWYqP60BxYjngxctVhlBYXufhfOFrqaF88SujeNzQvdHcPjZ95cktBV/2Oa4Or/HJuzqJcZZKuBcd3zyhevc9203em2shnl7OI/H1QdoXtJTujGSqPc3ygEJnSX2MkW9hW0dDOELoK9i9CNdz/L6qR+zxGoAAIudCsAYjWyENObY/VyCe/pypJhYRCvemD5mdDNz2tBb8zkWamLG+++Qy/t8spQJYQu1u6jJ+Ze6xFdWXiJnl4J3eF3mTsdKwzrCKUkDlZGZwiTnskL3V/uZK9EaSFXPYUudAqfJ4bdFs5acudw+27n2orcu/a9wCy5eEcq4iOMwZf59KnvTp7TnZ7fPWs8Qhe3+5I724ptlVPM0lUcVrSzOpppCt5VTt75zQPb2d4e7tjjPFv4Bn0Vs3Qff9UUNur31Hk5q19uYSs637QmdNc5wvBiodhn+cV8pVi6LnTzjeiXmiLgQremcJdeWK+Ebn5+lA0nmO+C2Y4+6FJbTCJBZNZVR6e9wjP8t/uY0GVThWRzjBBCb4Qur6SQL26/23c/11a/IvQ0X0j9+A1z5zNb6Oatj9Q8W05g5jhtoYVUvMbEIiyEEO/hEiRo+W2WdmdusRauepSRO/c6Pzm5p95CV3Pb1I+5VuanX7ryIbMoceWmhS6bjeDm5vPqLY/bvKfaN6lvCOH5y+4zTBBgL175YNIGJnQ3yS+kWveI5JUf2kNeiRu2Gmqv1eAxaWvJvZaFxWmfWW32fjbvWaO0sYhNr95Qvs3pLre7eTxYmQxt5Gs05ldtEy9rTpeV2Lw/TP8ZPfji3NaU0SIq8kAIM7+cezVoB9vHenp+Vy1eGeoyp+uWLlB7aAAEXOg2QCNkkdAboSvBxnuTLJBB6F79n+NmM81oH2NjyEsPsoVLz4+8z0hR+t4IXQTHdZufbAIBdymrkgli1uk6y4ph96vc6uUd7BUUVsB2mcvLvwfKyuh49TJMmPpyKADClE0RYMgE3vuUEOH/Y6feYPOQMPRx1z+aWMR1F7ooCflFPKzERuhetuahgY1NoDUtdHOLuvYzS/S2Xc9NIKWuUp6YJ0bgYf1jrX72xuzXumiLazY63vLmtR3eqxZOao8bI6HL/DKBOKxCJjCXzOYn9LFR6x0Vprwz2e7zhdDl1S2E/e275l4Zoj0VZE1nCV2OM7x6o+Ot/7BAECFMyNVt9qtvnNpE3VC0OOxDIb16WYvVeC4Fzy1doeXXWiLgQreWaPegLDHfctzLFCPLkHcdWWjDnBubG8z8LLftXcuUZttFCOGF+5ANJXT8mphhuUIX2smDlboIQN6z5DQdtgdU4DmuQHas4n1a1ZdVq5f85WCjiVWxEgLMLUoQZFm6vHeJ4OW1EcpkHpp3ankVR4H3Op+58J5kw45R/5y9GQVxcMcjmOyVoYKrl6szpysauYIF7YdrFyuWE4CYl0d5YftLAooISgXv2VJfXidjvpZTexRYdMe70iNW2dfcr/cedEmXd6Vpgxu3Os2wuvhPgwPH7BGmfzwlWZiFC5sdtLA6WSPQovN8QwjNH34enjj71oDXgNduEKxs2ajAwiRebaMObEAhNz67lyEEzeLNsHRR+mh3trUkX9qEvJl6UGD7RrYWtXdxl9nVNveY/NLbSZ68p+uWrtDyayMh4EK3kVojokVCCKE7+qDc0X4wXXZoIsgajZJ0+WnPO4Pt/nPFP480Fx+vb9y8/Zn2bustO55pghYLCqbNHCiMjnQqe+yZt5i1hWuR/Y8JEsi6jj3j5lycFfZI3tNVejYkuHXnYZY/jPeyvx1qrw9xJB8u56s3Os6UAdyDBJgwO1PBYFmANWLVfW3XIxbs8K6vtqjEhYhldsZi29s+vqTNvf/ZEZomfWbztDBr6sbOUbyyxHuYCHHKYnUwQgoXJIJczJ8di9huECXl5u3OMJqwBgkS+OzJzO5LKBKP6Cg6i1Halx3tt9zuVj7bdFrerdkHFlBPFgmxRSKbdvDeqrYslDLy4XNvmgWMosDuT+wSBr4oHwi6c5bd1Q4cQLmaPC53pm2yOrez01zPEmzMiXJMJNtSsuMUgTS8XoW1SntgNVv+h14Wbtx6qE0hsJqZIwLZrYq81f4oDqy8t7Sr7GNpmRemHZhXV2ChFoKdvkJQ36bv373vCFOC6D94MdjykXfGb9nhrDD8N3vZM/o1CgFB7TXh/heMJlaz46q3nccsRmTpPv5qTgFbepDtV+2rl/MA+aWqCLjQrSq85WcuxoXlwJwZ+9VivU16JrcRvRhT0RLyi01Y3AIzxT3JfrzHfW+jcPJPNreVzTdsdWoYf/PYhClZuXkX50PHXm27JJ36sy3t9RTKkrDVhhK8Q8lOSqfMv0V4cdQDXchBUE2fPNVe32FXIF5ZOX6ujexzynxbGBPnlJsXr3jI0kmwoVjw6gzCT3sfM6cp1yQWHqt72TsYS55gCkOe7uaPsMBuCVf88ygTvLZf8Pc2CkN/vpUxWRaVceiBhK2wZnOP0xbe1vboRfAoX66q9wujHrQ82eMYZaCn4blLR4dT5vtfYE9onR8rQdElr3zbvXn3M6YkQDsWnw6YMGUhX1/mz1ldjtVn+2PPtZG1MYoL217i4dACI9VVZSHY2L8aPE/60ebhxHk3NVzHa7etzk57fxdhidBn603akD2MoQmBfPf+F9npV5YnNOVp5z8eChZanfvr3Wy/7eO+u2EYtvSuYWJ0uAGvGtG/deaupc/ngUfm+UvvDWxwgXJIf7C9n3/4X1stfcee54d3H3055+7Gw5JXYFCg8O7QTiiryTu4kQKFAkMfs33H9x1hO5pBcxojYeVXR6ASCLjQrQSKVcwD4Qrj4r1XNi+INfZSipVgYT6O02CYt2O3Hz5sEq+FJ5ZXnokrX07/+Xj8e+aiTQ40UJz8NY6jE1uUPrGoQrDtB3NlTzTrm9/T3v8k53KMmLTSomwYna9NtCtzhaoLApD0k196JzloQYxSccANmlltq/qShrlCWcwqS1fK/GT8e4a15iaVrwQJdWTuGLc17tWeBt4JJi244ia3IExTmVE2H/akJg31SLbSzGOm+nLUI3VDAH/K5/WJhhEYSGFIZZ/8RWHhVRvqZWnfmJRglOQ/Y1Zg209rQ8t/ks0Ps1NULNCSTKMfuKQt3eu05cQw5e3JybQB0VAI6N+xa5z7KpvfbF/JIq1c3SbZWJj63iehZdpsd3ZUpC2OoyxwQ+mM81Jbtja3hE9em2hlg1OXOHFm/tsRqCACLnQrCGajZlUSM8kQfJWoTyK0KpFZiXmUUmYpcUosru7RSmnfgnFKaPeCaeOaF8qngEIRJy32u5R2sjiFyi+WuT9zBOqAgAvdOoDe0yJhKjC+UhhQwbzx+uUtJ+WVY1ZFuJXK5X3XQsyzS5yCpWeWXbT8LFqj7K0uxejKuwl7VGdhVAzrKE5BTCI65/hJ+vyGJqWmV10NrzkyzN8QXVm4FWliS620+XpnClnFKSv/6DSsDGxLqV/Sjio/fy2GYcn5dtOPCkHu9x2BchBwoVsOap7GEXAEHAFHwBEoAwEXumWA5kkcAUfAEXAEHIFyEHChWw5qnsYRcAQcAUfAESgDARe6ZYDmSRwBR8ARcAQcgXIQcKFbDmqexhFwBBwBR8ARKAMBF7plgOZJHAFHwBFwBByBchBwoVsOap7GEXAEHAFHwBEoAwEXumWA5kkcAUfAEXAEHIFyEHChWw5qnsYRcAQcAUfAESgDARe6ZYDmSRwBR8ARcAQcgXIQcKFbDmqexhFwBBwBR8ARKAMBF7plgOZJHAFHwBFwBByBchBwoVsOap7GEXAEHAFHwBEoAwEXumWA5kkcAUfAEXAEHIFyEHChWw5qnsYRcAQcAUfAESgDARe6ZYDmSRwBR8ARcAQcgXIQcKFbDmqexhFwBBwBR8ARKAMBF7plgOZJHAFHwBFwBByBchBwoVsOap7GEXAEHAFHwBEoAwEXumWA5kkcAUfAEXAEHIFyEHChWw5qnsYRcAQcAUfAESgDARe6ZYDmSRwBR8ARcAQcgXIQcKFbDmqexhFwBBwBR8ARKAMBF7plgNZfknR2doasTyn1S6crJU014zQaPdWsq+ftCDgCfRcBF7p9t+3KphwB5cERcAQcAUeg9gi40K095nUtsaOjIym/qakpvPXWW+G1116zzxtvvBE+++wzs36TSKkfEtjEI93rr78eXn755TBt2rRUzNr+fffdd8P48eONHujy4Ag4Ao5AIyLgQrcRW6VKNElgfvrpp2HkyJFh4403Dl/60pfCF77wheSzyy67hObmZqNA8UUO/9va2uyz9dZbJ2lIP2bMGEWr2RV62tvbrbwddtihCz2jR4+uGR39vSBwRlkDa9q/tbU1+fCf+3zS/aW/4+L1cwTKQcCFbjmo9eE0EydODBtssEEioL761a+Gb33rW+F73/te+OY3vxk23XTTMGXKFKthmolKwD300ENhwQUXDN/4xjfCF7/4xXDiiSfWDRGEAXR++OGH4Te/+Y0pEdRphRVWCDNmzKgbXf2hYLBFwMbeke7q1dP43eXnzx2B/oaAC93+1qJF6oNV8te//tUELoKJT2zl8vvvf/97ptCVtTNz5swwaNAgS/f1r389zDXXXOG5555LFmQVKb5qj2D0hKOOOsoUB1nv1157bdXK7M8Z09b0lTi888474f777w8333xzGDFiRLjgggvsOmrUqHDfffeFV155JY4+R/ouD/2PIzCAEXChOwAaHybK58YbbzRh+eUvfzkRtquttlrYc889wyGHHBIOOuigcM455yTzs6RREBN+4oknwk9/+tOAwEVI77rrrmH69OkWLY6vdLW4YolB3wcffBAWW2wxowvBu/LKKyfu51rQ0d/KYJ7+iiuuCLvvvnv4/e9/H+aee27zbKQVte9///vmWdhuu+3ChRdeGJi+IKjP9DdcvD6OQG8QcKHbG/T6SFq5B2GcCCNcwriUEbJYMOmQxSzJA/cy1iRMF6GLOxorh6Ay0nnV6r+sXQSElAquKAn1UgZqVfdKlSOcELZnn312WHvttcNXvvKVREGj73zta18L3/3ud5MPfUCeBQljvCkPP/ywkVXvflEpbDwfR6BSCLjQrRSSDZoPjJQPViDztmKMv/3tbxOKEVizZs2yjxhv8jASqAjoZZddNvzf//2fCe411lgjTJ482aLWm7lqIQ+u7h/+8IdWT5SLDTfcsCHoi/Fs1N9SXM4999wuiguCVv2m2DUWwAsssEC4/fbbG7WqTpcjUDcEXOjWDfraFCxheNVVV5mVAtPEetHip5aWli6EZAld3WOOFKsG5ko+MGeeaYFVl4zq8AcLHVr++Mc/JkIC1yfuTuhUPepAWp8oUn1h//33N6WKhXK087e//W1b6X7yySeHy1nRKEQAACAASURBVC+/PNx77732ufvuu8NFF10UhgwZElDiJJBlHTMNwWtojn2faH4nskYIuNCtEdD1KkYC8ayzzkqsF5goC2JghhLKheiToMIS3muvvYyxInixZJ566ilLpjIK5VGr+3KLH3744YnLEwFw6aWXGgnd1bVWdDZqObQx4bDDDrN2xqvBHP+rr76azPNn0U77s3ocYbzQQgslfQQhzEp5QqP0kSz6/Z4jUEsEXOjWEu0al4XARBBx3WmnnRJLZJ555rHVphK6XPVJk8h9AptoYLlovhS3LZtrEBTH/qS+lG+xOKkkc/wtNQ8J1bFjx3ZxpbMimyChPEcBfsMQkHt56NChpmCxAUo60BYIUH3S7coq5kUWWcT6Gu7973znOzavTj5qn6w81cbpZ6X+V/o0PaWm93iOQK0QcKFbK6TrXM7222+fCN155503sINTKUFMDCsGy0Wu5TPOOMOSi1GXkldP46jsnqSTYP35z3+e1BdlQXPP5eTZk/L7Q1wpaqoLmHWHG89lzfI6kV5HQ/CyMp6gtlG+fnUEBiICLnT7aatPnTrVBA0LqBA4m2++eSKEePXj8ccft/sfffSRXT/++GO7ki7NYLFQDj300CT9j3/842TVcjFGys5WlK+8C+10ldUEogFrGvr5kM8nn3ySFT25J8a/zTbbJPSy2laLevQ8SeA/CiKgNigYIfVA8dmAJV60J09DrKApLvPtal+u5bx+hkWu/oGbu95bkqZg8b+OQBcEXOh2gaNv/xEjY25uvfXWS4SOFriUcv3nP/+ZbI4hdyA7VP3lL39J8vvd734XYKwExYmREx1XXnllkoayWWzz/vvvW1TFidPpt/Kk3JVWWqlLHnvssUfR9ErLPK4W9LDa+uCDD7Z0MeNXeX6tHAJSavCmqL8tvfTSVoDmjPmjdqA9FY/rOuusk7iui1Gl/sPe3yhVcR7Dhw+3pKKlWD7+zBGoNQIudGuNeBXLEyOCuW222Wb2Li2LpninNn6XEpcf7j/u68N7u/wmHdYuQQIMK4J5YAmxTTbZxFyFPFeZcbW4xwfGus8++xhDZG4PxrjbbrslryYVSssqWizoHXfc0dJoHpltHkVTXF78W3m++eabyWptyv3HP/5h0WLGH6fz35VBgPbh84Mf/CARhCzIIsTYx32ETUxoI/oofUxTF8W8KKRnd7S//e1vyUpr+jSL/QjK3/74lyPQQAi40G2gxugtKRI4MLc111wzYXqxFdDdb5jY559/bqRIwD377LOWl14hYXUwQa+YZNGNlQE9CD+YLuXqfU92OSKI3ji9GC2vJ8G4EbgwY9691esncfys38qXuVzVF2sLJUB0ZaWr5D1ooDzaohIftUUlaax0XsJ9woQJXazPLPcyZVMn0jDVwZSH3v9GQXv66aeNPPWHmFZhcfzxx1v7SilbffXVw6RJkxKFME7jvx2BRkHAhW6jtEQF6BDTg1HxDi3b8nH6DtfFF188EUBYtBtttJHd5xkfrEqu55133hwHBVx22WVmTcAUEWLkTZCLsBDpYpj33HOPCVCsGKyRpZZaKrz99ttzCF0xUwT1r371KytLgvr888+3YlTHQmVynzh8sG4ldHmVRfsDq5xiefizniMArnyuvvrqZCEVbc4uZgT1hzhntcVpp51mbaU+9qc//cnm71FYFId0an92QqMfy4PDHLLm7bvrl3H5/tsRqDUCLnRrjXidymN7RAkgrMZSF5vA5GRRkJ5FVHfccYfVIouJxtUjreJgHUvokg9zdzzXvBuMld+4tjlykDgwVa64vFmEJYYbl5H1W/HY5IH0fKD7gQcesOgqMyttb+9JQDDnzVaKRx99dDjmmGPsyu9yPieddJK9Kwttyr+3dFYjvXD997//bUoauDNt8dhjj1lxhWgnHf1k/fXXt7aSm1nz8OpD6i8sqFtyySUtLkKafiXvi2ioRv08T0egEgi40K0Eig2YB9o+7l9Wg3KNz79lfvall16y+xx/x3N90lYCjHK//fZLhBcW8zPPPGM1LoXBkR6mybzwH/7wB8sHJglDRpgQYKZiyLxughubD27DJZZYwlzUimcJuvmS0GVDEAldXJZY7AQx8W6yKeux8n7kkUdsJyeV39sri9KqTXtZFc4nUjszBaCVy6wdYPFc2lrNKoc2w/sx//zzm5WM4GU3MQ7pINAv1d90djL5gytuZRbdEUdtn1WG33MEGgEBF7qN0ApVpEFCANexGD9zpaz6JHTHpGBknLGrtMsvv3xgzo4gQWl/inyJWWLx/OhHPzIrCIGKYGXuTjS8+OKLtgEHDBc3NK7l66+/3nJWHkWKmePRbbfdltCNRYTFSUgrFnMk7MUN0cluXcwjs5CN1bVce/pBUSDNfPPNF2699VajSvn3gsSqJFU/Y9pCShV9ZtiwYVZed31FfYCjAkmnaQWmGeirqjfP6R8IXNoUAf/yyy83NDZVAdwz7bMIuNDts01XGuFihuUKXVaIrrLKKonwYq5NO1F1x0hjCiXocFUjUGWl/PKXvzRLiHctyRuGK7cyr5PAbGHIYspxnt39HjNmTEI35eHaJYiW7tKX81zC4dFHH7WzhqWs9PbK3tkE5V8ObdVKIzyvueaaROAiEFdccUWbxii17dTO2267bZd+gJeGMsaPHx8WXnhhe6b+468HVatVPd9qIeBCt1rINki+lRC68Wb25QpdGCqMEyGuBU5inLvssovNfyKYtEKaYwhZiUroiXCPYX/ooYcSoVsrS1cCBrc9QuKFF17o9QdLTq9xKf+4nvX8LaWIbUK1Sh2sacsbbrihR6SpbrT7qquuapYsChqW88iRIwOvqpEvli5X5v5J04iKSI8q7pEHFAIudPt5c1dC6MaWLif4lGPpArOEJ/N+zNfBOMWgEbb8RhDPNddciTtV9JfTTJzpShkqpxaWbjl09tU0EpLQr21G9foO1intHccppZ7qIwhstRtXth9VX+H/T37yk/Dee++VkqXHcQQaCgEXug3VHJUnRkKrN+7lSli6qpmYKq8AxUwURioLhoVbBGjvKdNWOVzrYenG5ffn37GFedxxx5mAVPstuuiiybvePcUgbm8t4MPapX/wUZ/hlCwPjkBfRMCFbl9stR7Q3GhCF9LFWLfccsuEmWpxzFprrRV0uo0EdA+q2yVqbOnWak5XBOBKZ59o7W3NtacfVnyThldkWF3eKIH2U9vwzrY8FAhFPBbMpfcmKG/qvvbaa1sfwcUsoc4uZ4rTm3I8rSNQDwRc6NYD9RqW2Vuhy+se7McsS4Mt+7R/crmMT0L3uuuuS/JFKMKw2ZyDoMU5vYGK93JFNwwbi6xSeReiS/OLrNTm3WCV35srtLNDF0H5Fyq/2vdpO/Wp+++/385VRujiVmYB3C233NJrEuIyDjroIMMQa1dCl+kJgvpRrwv0DByBGiLgQreGYNejKDHIct3LCFa5+RAcPX1PN11nMUoWyyy22GLGUGHaciFqtyrSlStgVAaHHkjY8dqOtp8UJmnaKvFfND/55JOBldkIIuYjufb0gxJCGjYzkTtV+VeC1p7mAa5StFBoOD4RZQmBSx21ZzLx1AY9LYP4qiPTA8zdSqgjdCmPwzxQynpTRjl0eRpHoBIIuNCtBIoNnIcETLlCF8Z22GGHJcILRqudnZR3T6oPs4SpbrXVVpYnTFSCUZYMq1TZMYt4YvI9KUPMmO0HlTeCa/To0ZaNmHpP8iw1rjBhcwxtEiEaenNthFeGhBvvDNMPEIYoBSgHp556qkFEewn/UjGL4yktrnWdbCWFDPwok+spp5xiyRQ/zsN/OwKNjIAL3UZunQrQJiFQrtCFBDYkQDjqo32Qe+oCFi1smKC8ELQIJ6xCmCkMlvk7dpMikKanjJX4fHRKEfkiJJ577jnLU8LD/lT4S0oCr9DgGmVVL3Rw7emHnZdIwxaeHDpBUP4VJrtodmCptjvnnHPMqgVTbYLBIfVgSpze0Kd2Iw9Oo6IMbZLBzmTspEa/oc9QNpYwgXQeHIG+goAL3b7SUmXSKWbZG6GLqxQGiFXDVXOjPVncIzrIi9eFYJ6yWkaMGBE4FEFuWNyVHFCg7SZ7ysjFhNkRCnr5sFcv786Sl56XCemASgZewv/MM880gSehh4J0xBFH9MorEYOpctiFDGHLh7LwUjz44IO2bSj/pbAtt9xy9v4yAt/bNEbSfzcyAi50G7l1KkCbhF05QleM7MMPPwxsSSirY4sttjBGXCqzg5liFX/66aeB93wRgjBOrmwbSIDOwYMH2z0JdzbIYOUudIghlwIJ8SkrdkuuscYalpSFYbUI0EtZ2tO6t9ee1L9S9Ys9AgceeKBZlwg9lCIUJk4GUqgUfey/vOCCC5qwlddDSh6HXrCaWUKX/rPTTjsZCTGtosmvjkAjIuBCtxFbpYI0VULo8goPOwTB5Pj8+c9/tgMMILMUZiuGyEkwMFIYN58FFljAXqtRHuy6hHCkDKxermxoQXriSAkoBo/i8LoQc43kAZPee++9LX1PXeLFyurPz9RvUHq0LSM40m60jVaZq216iwXty+EcKGG0mRQ8XiGjX4ge9v3GU4LQl6eEBXMExektLZ7eEagmAi50q4luA+QtRlSOpSvyyQOhBTPkg7Bkb2GCBKripq8Scpx1yub9pIdxc9XCptiS5aCAX/ziFxYHocmq47vvvjudbcH/EuBDhw5NmDLlsi8woTt6C2Y8gB6ozZ5//nk7wSduM5QmraQmHh8wpY8U+5SCO4KcsjRXzOp2ttJUuykPzuslnrwlTEVAK88VZwA1l1e1jyHgQrePNVhPye2t0JXlyIpVGB2CEAtDG80Xc9fCAEnPofTa1Uou3xNOOMGqIiFJPDF7jveD8cqSWWSRRZJ3g7urv+obb13J+7LaMlD16S6fgfpc7YFgQ7mizWkHBNwKK6wQWCBWyaD2YKGYVntTFtasFCW1KeVKqO67774JbdCI25kA/cqzknR6Xo5ApRBwoVspJBs0HzGsci1dMeHXXnvN9kSW0OSVHw4vgMFlMbn4HqtvJbC5rrvuuuZKTENGGsqDsWq3Klk9G264YbeubNGCS3Teeee1MimPuWGCsEiX6/9zK4DV1kceeWQX17wsShQuFCCOGiz187Of/cziau4+S0mjvZdZZhlrL5XFqm3ak/hxX1JboaBx7B/tqzSsoiZ4OwslvzYiAi50G7FVKkiTGBBMDObEB4FU6nm6YnjMt8Vze7zCwfm3BFkfMdli4BdeeKFZSpqj4yzfV1991aIqTlY6Fm+lreOLL744jjrHb9GBFa7yWPRz+umnW1w9nyOh30gEG8IsnleVlSvBhpAr5yPFJ17xrvbYeeedLU95Ntj1jEVTBPW/rCbCOkYRUL/mrGZWwRPU77PS+T1HoJ4IuNCtJ/o1KFvM53//+1/CLGFUxQRfmiwxPu3w9K1vfcvy4rg1gspQOoQpadiDN7Y4YY6XXHKJohW8Kj+2FNRpRDB65oJ55ahQQGBQ9mqrrZbUlVXX2rZS9SiUfiDfFzZYlv/6178S/MoRsFlpaBOChC4Cl7ZSn1Ia3sV9/PHHLW6WUpZuI94ZV1quK620UnjnnXdKTp/Oz/87AtVGwIVutRGuc/6yJnC9YZ3ywYLk1QyCmG0xMsX8cDHjXpRFssEGG4QpU6Z0yUf58U7sAQccYFs9cs4q20cOGTIkEdCKV6hc0X3MMcckdJOHXhFJpyc+99gwAWtajJiV1gTVoVB5A/2+8ETh4UAB+glbcqrPlHvl/WjSMh1BiN3FHBHJanXaVfmz+Qahu/YSveQ3aNAgywMXNSccaWMV9SHL0L8cgQZBwIVugzREI5MBg+MDg9MCFuZ2Ofd27NixRnp3TLKc+omxlpJWi7B23XXXROAieO+8805L3pO8SinP41QPAW+r6mHrOdcfARe69W+DmlCA1o9g0qenjE0uX06WYZWp3qNlX2aekV86z3SZ5Vge6TxERwwaAp94LKDCYkLY4opmRyq5M+P4/rs4AmnM1Wd6c81qN6jgfpxvOX2kEnkUR8SfOgKVQ8CFbuWw7Nc5IVARbmxUsPnmm5tgw9pldeq4ceOs7mmhWytAxNBxX7OASu7v7hZe1Yo+L8cRcAQcASHgQldI+LVbBCTc2ByB/XBZpISAO/bYY7tNW60IWEYIew485z1SFAGscA5QYCtID46AI+AINBICLnQbqTUanBaEG0KO14fWX3/9LnOn7CRV6wA9UgRYTKPFU1x16HutafLyHAFHwBEohoAL3WLo+LM5ENCCqVdeecV2DOJEGI7+mzhx4hxxa3FDLm32WmYXJehhJyPmcvWsFnR4GY6AI+AIlIKAC91SUPI4XRBwYdYFDv/jCDgCjkDJCLjQLRkqjxgjgMWLa1efegti3N6ihWu96Ymx8t+OgCPgCAgBF7pCwq+OgCPgCDgCjkCVEXChW2WAa5p9Z4cV1/bKfaHtxTtyRefv1ZQOL8wRcAQcAUcgEwEXupmw9LWbneznaES3v/VUaDp0mdBy89G5SpjQzT3ra7Vyeh0BR8AR6G8IuNDtRy3a9tLdofmY1cK0PX8SZl53cAgdbbna5QVyn6xqX6a9TwLuRDsCjkA1EXChW010a5R358ym0Pr4FWbhYuVO23fBMPPy3UPnzGk5Clxw1aglvBhHwBFwBIoj4EK3OD594mn720+H5mNXD00H/yo0DVk2NO2/aJhx0fahc+pHOfr76rxuZ0fobGkOoaOd85D6RFs4kY6AI+AIFEPAhW4xdPrIs86ZU0Pbi3eF6UP/EZoOWSpM23O+0HzSGqHjozdyNehrQjdvmXc2fRxabjoydHzybn7O2gVvH+mSTqYj4AgUQMCFbgFg+sxtCajmT0PT4SuE6aevF1ofvii03HJU6Pjo9Vw1+prQNcs2hPbxD4amQ5YOM685MGfp9rV69JlO5IQ6Ao5ArRBwoVsrpKtZTkd7aH38yjB10Nyh5c5TciXNag6hdUY1S61e3u2tlvesO04OTQcuHpoGLx5aH7s8V57PT1cPd8/ZEXAEqo6AC92qQ1zNAvLu1lkzzMJtPu73oX3CkyG0t4XQV61ChCq0t7WEmRfvEKbt/TNbINZ8xIqh/d3nqwmm5+0IOAKOQNURcKFbdYirX0D7O8+EaXv8OMy8aIecwMU9axZhH5wDlWt50rgwfeg6oemARUPTob8O0/ZdIDQf/8fQ+dl71QfUS2g8BEwZ64P9ufGQdIrqjIAL3To3QK+L7+wILdcfEpoOWjK0jr0il53ez+115nXIIO9abn3k4tC0/yK516AOXCLMHLmrudA7m/2M3Dq0ihfpCDgCFULAhW6FgKxXNp0zpoamg34Zpp/yt9x7uX3dIjALPYSOj94MnZ9PCq1jLrP6zbr/vHpB7OXWE4G856PthdtD+5uP15MSL9sRqAgCLnQrAmP9Mmkdc7lZhC03HpEjoi9buTGMeeHbPuGJ0HzkymHmlfv03XnquF7+u2cIaFHdvcPsPfRZtx0/e9OXnuXksR2BhkDAhW5DNEP5REw/bd3QfPiKoeOd53KZ9NUFVGkITOh2hs5pk0PzSX8N009eM4S2WelY/r+/I8CiwBByHo9DlgpNB/wiNJ+8Zmgfd1/onDXdN03p7+3fD+vnQrdPNmrugIOOd58PTYMXCzPO/k+uFnlXXJ+sUhbReat9+ln/CU37L+wWThZG/f1evg+0PX+reTyYSmHntWn7/Nz2F+9sndnfEfD69TMEXOj2xQbNu15nXjPY5jtbn7i6f24ekbdyZo7ay1Yvt7/zbF9sLae5NwhoTveV+0PzcX8w5QuhO/3kv+UWDra796M38Hra2iPgQrf2mPe+xM7O0DljSmg+6rf2SQ426H3OjZVDnuG2Mp934BJ2qENjEejUVB2BfB9of/uZnKV7+Iq2Un/mJTvmis4roFWnwwtwBCqEgAvdCgFZs2yMCXWGWbxSc8jSoeWGIfmi++E7jPn5aY4sbDpsudByvepaM7S9oHojkO8DHR9PCC03HRHaXrwzzBi+RZi2zwKh9Ylr+m/frzfuXn7VEHChWzVoq5QxTKizM8w4ZxNbtdw+6ZXkAPsqlVi/bPNWTMen74Tmo1cJM87Kz13XjyIvuU4I2GlTeQHc/v6LpoSxA1vntI/9FKo6tYkXWx4CLnTLw60+qfIClx2omo5cOUw/89/1oaOWpVLn9rYw/cQ1bKOMkH+FpJYkeFmNgkBnUPu33HJs7lW56w7JEZd3QzcKpU6HI1AIARe6hZBpxPtaWHTtwbZ6s+2ZGxuRysrSlGemM4ZvaSu1Oya/Wdn8Pbc+gkBuxb4RyznLM6eFZhSxw5YP7a8/mvP2dHT0kbo4mQMZARe6faX1cbWygGrKB2H6qX8391pn82d9hfry6cy7FFtuP8FeFZmtaPTDOezyURqQKdteuidM23v+MOO8zYK9OmR9xfvFgOwMfajSLnT7SmNpk4CxV4SmA38ZWm4+amBsDJAXum1PX28Lx2bdfmKuxXzVal/pudWh05TQjjBz5G5h2gGLhlkPDs+Vkx8n1SnUc3UEeo+AC93eY1iDHDrzi0VCmHHJTmHabj8MHR+Mz5fbzzX7vHBtn/iynTY044JtcvV2oVuDftf4RXR+8ra9QsTe48mYyCtqjU+9UzgQEXCh2xdaXe8qvjk2NB+1Sphx7qahs6UpT3k/F7qqZXtrbsXqMavn7rjQ7Qs9tyY08vrctF3nsdO2rMD8a3U1KdwLcQR6iIAL3R4CVpfo+RW7LbefFKbuMldoHQgLqGKg8wJ2+hn/tIUznZ+9n386MBSOGAr/HSGQ7xesbbCtQg9dOrS9dFcuQn85+COqrv/sHwi40G30dsy7yjqnfhimn7NxaDp8hdAhoTNQ3Gh55tpy9WBzMbe9cn+u1QZK/Ru9j9aTvnzfaHvtkTBtr5/axhmd0/MLDL1/1LNlvOwCCLjQLQBMw9zWhu9P3xCm7TV/aGEhUXLazkCx9HL1bH34otzxbvcNyzWPM9WG6aZ1IwShy6r+WdNDy81Hhmm7zRNaH74wtwbCxs5AGSN1awEvuIcIuNDtIWA1jW4MpSOE1pmBww2m7fHjwPmyFgagwGmf8HhoGrx4mHn5nvn3Mttr2hxeWIMikF/z0PHRG4Fdqti9jIV3FgbgOGnQVnKy8gi40G3krpC3cjldp/mw5cPMi7YLndM/z1Gcd6s1MvmVpo26c57q9KHr5LLOM9tKl+P59UEE8sK1deyoMHW3H4SZ1x4cAuft5i3hPlgjJ7mfIuBCt5EbVozkwRFh2s7fzR1lBr0DWHtvPvZ3Zs2Y8uEMtZF7b21pY0x0tIfOaZPDjEt2DNP2nC+0jbs3R8MAVFBrC76X1hMEXOj2BK1axs0L1s4pH4YZwzYOCJuOD17NUTBQLbzOzjDzskGh+YiVQvubY3NYDGAFpJbdsU+UlR8X7a8+HJqGLBemn7ZO6Gz+JN9PfG63T7ThACDShW6jNnJemLSNGx2mDvp+aLn12Nxm73Z/4DKQWXefZoupWseMzLXcQFVAGrXf1pUuDkRos3HScssxtgZi1n3nhOALquraKl54VwRc6HbFo0H+5YXqrBmh5fpDw7T9F57tKsvP8zYIoTUng7N1p+23cGi58fBc2b7tX83boKELlIfos/dt7r/pgEVDx4evNzTJTtzAQsCFbiO2d55xcKJO08FLhhkXbB06Z2gB1cA+SYV3lKft8SN7H9Oazo/6a8QeXF+a8opp65jLQtOBi4cZI7ZKtlGtL2FeuiMQggvdBu4FuFCnDZo7tD5wXo5KFzD2PmbzYcvlVjDPnJbDxRfKNHAvrgNp9AemHTrawowRW9tJRG3P3lIHQrxIR2BOBFzozolJfe/kBQi76kw/bd3QfOJfZr9z6POXtjHIjPM2D83Hrh7a33sh11Z5z0B9G85LbygE8n2i/a2nbOFd81G/DZ0zpjYUiU7MwETAhW7DtXtuPrf97WfC1EFzh5lX75ejcIDP5SbN1NkRWCTTNGTZ0PZc3npxZSSBx39ECOT7Rcstx4Zp+y8SWm44LP9w4C5EjNDxn3VCwIVunYAvWmx7W5h5xd6hafBioe2FO3JRXegmkLU+cXWYtstcoeXW43L33O2eYOM/5kSgc2ZTaD7+T3bu7uxXzVzwzomU36kFAi50a4FyT8toawktNwwJM0fuGoLPW86BXvsHr4bpQ/8RWh+9NPfMFZI5MPIbQiAnXNuev93e201O6PIpCQHk1xoj4EK3xoD3qDi2sSP4QqEeweaRHYEsBDo+15GQWU/9niNQGwRc6NYG556XksxTuhtsDvBQQng/N8Fojhh+wxHoioAsW+8zXXHxfzVHwIVuzSHvQYFu4fYALI/qCHSDgARvN9H8sSNQTQRc6FYTXc/bEXAEHAFHwBGIEHChG4HhPx0BR8ARcAQcgWoi4EK3muh63o6AI+AIOAKOQISAC90IDP/pCDgCjoAj4AhUE4E+JXQ7OzsDHw99H4GOjo4Qf1Sj+B6/ywmk835SDnKexhFoPATKGcvlpKlVzcsSui0tLeGTTz4JU6ZMKUpne3t7+PTTT8OsWbOKxuvtw5kzZwZo8tDYCGggTJgwISy22GJh7rnnDvPMM49dv/Wtb4VvfvOb9vsHP/iBXZdccskwfvz48OGHH1q8W2+9tWAFJaA/+uij8Itf/CJceeWVBeP25AH9iv7V06C6Qs9GG20URo8enWTB2Nlxxx0TGtva2pJn/qNnCIBzc3Oz8SNw5fP555+Hpqam8Nlnn3W5X047tra2mnIoqigvfU/PBvoVfj9jxozAtREDdNFXNDbrRWPJQldM7Zlnngl/+MMfAozxH//4R6ZAFegvv/xyWGCBBcLdd99t9dP9cioLUAhwBhWB/xK0yy+/fNh44427DI5yyvA09UGAfrH++uuH3/3ud0ZAWkl74403AkL5xhtvrL7iLAAAIABJREFUtDYmPp9CFm3WoCKu0nHNiqPa84wP8f773/+GP/7xj0l5GgfEJU6cb/xMv99///0w11xzhZEjRyr7wL3FF188HHXUUXYPJk5I51WMRmVGmqx4ok3xuOqecMhKqzhZeRKfTyMF+sq+++4b5p133vDjH//Yrt/+9rfDF77wBcOd+/qce+65RnpW3bLqhPCmT953333J44kTJ4Z11lkn3HTTTXYPLAd6kNJ45513hp/+9KfhjjtyW9fqfm/wAV8UV5QoQilth3I1adIkU45Ioza64YYbrF/QhqXmZREr/FWS0KWiMAa0mF//+tdhk0026RUZDFwaRJ9iA5my+UyfPj38+c9/DquuuqqlQ2OR0F155ZWNOUKj8uRaKF/u0xCKWyheViWhJZ2+UFnEVRm6Ui7306FQnoXup9Pzn3zjehUqKyttPe4JB9rt3//+tylz0CGLRO2C0P3ud7+bKG9pWpVP+n65/+P8dthhh/D3v/99jqziOOmHPNNzBjjW/OWXX55E496vfvWrcMwxx9g9BIfiJ5Eq/KNY/sK5wkXWLbtrrrkmLLroouH11wsfXg8e3Y2VyZMnG5MmPwW8NLTnOeecY7cY1wQw1BjnWgqmlM8nHZRX3Gal0Escyo7TKe9CZem5ripb/3UlfbpOKk9K41133RUWXHDBcPvtt1u9GMfQQ9o0TUobYxbH4znlvfnmm+FnP/tZOPzwwy0v8QbRFV9Vx+uvv97a7cknn+ySBqX9//7v/8J7771nNElexOXG+UEDz0RjoXhxmlJ+lyR0KYyApfm9730vPPXUU6XknRkn3XCZkaKbcWNhzf7zn/9MnoouhO5WW22V3I9/pMtL/1fcQvf1vJRrT/KI61VK3uk46bIK5cf9Qs/Sedb6v+iiU8dCV8qUniN06XdnnXVWePDBB8PVV18dYIRPPPFEwgiEBwLskUceCR988EGX6rz00kuBwUhamMLHH39sz1WGIvOfDx4V4v7pT38KyyyzjP3GvZ2eUoEGaLnuuuvCK6+8omxssPKnkNDFdS6hS/0Jr776arj22mutLKyGdB2SzPM/6P+PPvqoafXpZ2+//XYYM2ZMQgfPYTLco158wEljSPgxxh977DFzzZImxue5554LeK/S9+1GHb+gHQzF5C+66KKw0EILBTFd+gTPVce4TjHZanvdQ+h+6UtfsrbVvbfeeiv86Ec/CuedlzvjOs5XcSp9Fd1Z+RZ7lhW/1HuFMCqWXkL34YcfLhat22dxO9Bnl1122UTJKZZYND/++OOmpGPtxgHvxBe/+MXEao6fKW1393jeW8xLFrr33HNPGDx4cPjGN74Rtttuu3D66aeHq666Khm0WcTCoGBGqrwqxuCl05LH+eefb8ymWGXQLk899dSw9NJLh1/+8peWDssBtwPhN7/5TfjrX/9qltDZZ59tzy+77LI5ylX5MFToovwRI0YEmHqx8u1h/gtrn/hoTWeeeablceGFF4Z3333XYlCGymEukjhnnHGGxYM2OoSCGo+OhUZHp1Bc6Bo3bpxp6zD1YcOGJfWSi1356AoDQDAgnNDEmQpo5CCcoLuY0MViYf53xRVXNNceLr/f//739v/II480jwd5EBByuBblSgTjUaNGhZVWWsksadIutdRShhPxlU44qU0Q0quvvrq5yyib39AI0yXAyBkPeF9WWWUVc0Oi/NF+PJMwK0Xokh/CljJWW201ywuX9qWX5g90EHH5K7iRP+UwzYM1LrqJwjMUVKw9WQb0r0GDBlneYEBZ0L7TTjuFd955J6EXFxxz65o/j/EB/7XWWsuoUP1SpNX1L+OIcMkll4SFF1446f8xNiKQuLfccouNFfrKs88+q0fJ+EXoYhnRNgrwoh/+8IeJ0FWZKFzDhw+3McrYe+GF3FnPWWUrr/vvvz/hB8TjQ9vSx2gHFCAFPHvcg2fRx3DhqmyVgZKGMkVcQjy+cJGPHTvW7iu+8o6vzz//fOIejtOjBKpOik858Cb6DwGamE485ZRTbL3CaaedZrRKCJOf8oQ3ghd1gUfCGx966CFlbfFQKI844gibNmD6ibqjMIt+5aVE9HXGOuslvvrVr4aDDjrI0qhtUbq/8pWvGI5XXHGFPaNs4SL6dCVfnonPIwMLlS0aSrkWFbqqFAOMgv/yl7+Er33ta8Zk/vWvfxnTUcPHhWmgPv3008YA1WnJD2GHkGRehDxwF4tBZuVFvlgTWLjzzTefNQDpmMdBmyfAqL7//e+HzTbbzFyBPMdC+dvf/hZefPFFAwoGRUBTpwFhHsRbe+21A3PCCE6CQLU/GV90amhmro85bfLgSj50TIJwQ1j85z//sfKIx4f58JNPPtnc5WJc1A/Gve666xpjJx5Ml8+aa65p+esZ/6mXFAWVxaKR7bff3tKQHgEBk6TTYjkST3EzqlWXW6KH/lJM6MrSPe6442yKQ8Tee++94ec//7kxGu6RD4OZeSWULgKMiznVE044QcnC1KlTAwyVIBqSh6l7u+yyi7VL+jnjgTlEhLMCzJZ+qP5OXyomdDWni1IKzQcffLCyMiGIG6xQ0Fg5/vjjzf0mBZT4MG3mjGFoBPr+BhtsEJZbbrnw2muvJVmSP/2OsaV+Tx9mkRvYEtRH+U0//9///jfHfbvRAF/CpJDQVVujtGI4ML7isUJ7gJXilSJ0wY01K/Ag8RQUmmOPPdYQEU1peChjvfXWs0V/YMxHPGq33XYzF7YUPDwgG264oRkW0Etbwm+23HJL866IXs1Zqo3VpsyHLrHEEonCJEUspkl5IAhRWilb6Rl/3/nOd4wXYXQooJgRV55P+g5eABRiFg9SP/gW2AwZMsSSKU94I95JeDH1oQ/SHvvvv7/xRiKzDgJMmVpiWpO6Dx06NOmToln0UM+9997b+POXv/xl45OkQVATUBAwGpkuAk+eUS7yCKOOAH3KF4UefgvWxP3tb39r/QYvWRzPEvbgq6jQVT4aeCwsYJECQqJYUHwEHlaCKk2a+eefP+yxxx5dkothqLLxw/ge2jsNqaAGhHGgEMii5jmdHbAUnw7NB4HFvdhNuN9++1ljIMTJU/mqnPiK9kTDaYDoGQKPRoHpEwrlcfHFF5urlAGiAJOm82KNxGHXXXcNP/nJTxKLnmfgscIKK5h1IxrA++ijjzbmq4FKXDotmp3wj7GMy6nXb9FTitCN53RhGnJBb7rppmbVUQdwoA+wcAbGS6Bvga3m4EqpK3TRfpSx+eabm0XIb/AWE8V9iRJAoC8hyElHH2VQS9Fh0VTWnC7uZQY1ASsJ60n52c1uviiLD/XFMqU/8Z+AlwSFQOMBC4V5sZtvvtmewzjFePGmxIwTRsq8HFo9QQo0v2FA4E3QGLc/DfKltikmdKGb+UEsMintkE8axgouUoVShC5x8Zyg8MdBUwNqk/iZfuP+ZoGg+Clxp02bZl6ZAw880KKBP8II/iZFkQdYlwh3hIfaEqEHbxIPEA/CIsWrscUWW1ieGjuig6voREll9T9KKvf44HFB6KJQShEkbzwn8DwFlA8MI/pfHJjGwGMg4ayy4jj8xtKlL0pp1XOmd/CIdheULx4+cE17BPEkMl3AFFUcoBfPCFY+gXywiqlL3B9oJ5TjAw44wOLFYyPOr7vfJQtdCsBypTJYqzScGjtdiAYkg534clURj8ZD6GqApNOm/wMADUxnRNOm81E2/1U+rkPN6ZKvtLHbbrvN3G8x84G5wVCgESWCuCzSQpNC+BKK0YbliCAkkBbtCvqoI+485sMI5F8oH6zfeDEanYEBz0ClbtBDvWlwlBY0V/KSonDYYYeZ4IXRExgoCGJZTnQ26kZAU2RgaqCpY9rDOn+JFvpWd5YuQheXPmmUDty32WYb6xO6lxa64LbnnnvaYEarxeUld1icVwyF8uIejGqNNdZIHvMMxYp+jPsrHZhPXGSRRZL5WKYdCgldFCUC/RgrF4ZJe+Fqk7US05IuS4MetzaWG4F7WA4ISAXGK4yUvkm/5EO+4EddsIr1ihUuVwRSfxO6wpGxgWdLlmg8VpiiYlxqrKCwdedeBmMMCYSu3LrCvbsrShzzlVi2CvAC8JenAU8KVpsEArSpHPgbQgChRoAHQS8ucALtSyA+AhrvHEH1sz/5L+EDTXgz8BQqYLUiXPEYMaVIgBdR7xNPPFHRjF+hjOI2J8DHZBhQPlYsAbropyrTbua/UHIZpzzng5WNlc76B+gmz0KBfk158AkUUZQa0kgecJ85XbyClM194iNLUGwOPfTQJGvGPGOfePB48VosbRRY+g31EMZJwhJ+lCx0yQvLFSEqjZlKZgXdzxK6cl/Q2XAFAAyBymU1gu4BDq4KBgYBMNV5YDpo4DQSQUwFxgH4mkfFhUwDahGNRc5/7bzzzuYG4a/yjZ/rN1oylhR0UR5Mnd9YlXQ4aa3CgDmBrbfe2lwYdFxcLbhgsIjUIbFSGCxYRQTRzyCCEWtOAuZMWSgtKBp0FgIWMh4ICXy7mf/CbQKTkZYsPOM49fotWsCxFKGrfqd00A22aPHq/GmhSxwGF/NB9B80WgQQrqZCIc4/Frq6zxQFyhDCijbFPUV74HGhb6Ah834xoZjQ1UIq2pu2xAsCw8HShPHyv1hQP5FlC3PAeoMGBK3oZf0DeWocqG+SN/0CXGRdMC+H8qjX/DSmiMvYE+OO8yhGYy2fScnNsnSFBcoMCpPGaUwfAgTlVfyhFKFLvwM7LCi8F1h/EoKUqXLjcvQbDFkXQD8Snsyx0480tumnTOnJpUla4lKu1h1IYWJ8wEfkMdOYKEXokq/iUx+sWgQeQo4xg7BF+KLAUz79A0OB/ibaMRLot3jWqLf6Ds+ZToTnxeUgT5i+YQzBwxlDCHKm78QbGT+s42EahaA2tj+pL9GBMgLfl6KivBC64IO1Dn2qLwoENKDAExhHTLGgoKcDbnEJdJ6pzHS8Yv9rKnRVSbRp3LEIXhpXbrasTqpO253QhRkofwFBx/j617+eMBssCABDOCJ86ex8aFQaAzcRoRShSzzKUSdgYj4WutCNggGzo8OgwfJhYKD1IWREpzoD83/KlytCFyVHCxhk2e+11142Xyvti46PW4ayqA8dhg91RBijDZfi7rLCa/iltq220FWVYCDMj+H+Bas0c1I80cV/5s1iS5d7WMpo/Xg9aLu4bXHxwUykkRdzL0voxv2N37ibYVCMjdgFKvp0hU4+MFUYMwJT0xf0SzEb7qNosKCF+PQ7paXP4UVASBNgVDA9uavFOBlbWOF4aQjqu/anQb40FosJXdqcscJYTY8VxhpWjKa7ShG6wofNTxC4CA7GHN4VYcw1HXQP7yFKEgoRFhg8UVY4aVCY4E3yXHFPfI6+wZyorE/4HVZxlqXL4jkpTHF/i+lSvvRv8NECM9ZNoGjiZuY+fAfFHwWFeqifIXQZV4wBgrDhN9N6CG0F6sVrc1iXuHLpb4wjxhrrXtSW1RC64rOqL/Wh3VDgCSjuGCq0C7JB/QR+Ci8FY212E9dRdevuWlOhGw9UKoyWjX8ca05+9nQl1DkrIXQvuOAC0+LppHRyLEMsUX4j2DRfoTKzwJOlyzPqo86RFro8x+KRyzfOC0bOfLPKkaWrziCcELqxxlZI6DKHg/bO4h7qwmshXPmwUpznyjOmo96/VX/avJqWbrqeKD5MEWi1ZBob0UU63F3yrvAfWomPRq7FF+n84/+0aZZ7OX5PN10+6ZmXwpKQ9yKmKc5fjAMhjYuM9Qr77LOPRREzRPDDDOkfhDgvFGD6mLwsMH7eEtD8ckwbUzCsjCeoXPvTIF8ai8WErhYF6U2CYmMF/oTAkxeAahZavcwzcMXtiMWM5YtCRkjzNMXlisKEkGHKiPGK0I/fOsDNjEKlKZE4P5QolCn4BwGFglfrlF5thAKIoi9Ls5DQVb+gzRGQ8CmEIp4cLG/qhocHocr40UI94V5M6GqaCzpRIJgqRMiJRqtACOZqh1b13VoJXSzt2NJlfKJE4RFBRkhO4JmlD0ipFmaiv5Rrj4UuWpzcfPGAjAvT/bR7WffjuGjWCCe9HqEGVBxVikagocQA6cjqPHQK5lTUgCoH9zICXS5syoIB4n4oNyB0mRcmUI7oRejihondVlgQLGGPAzRiaSFkFBicDNK00IXOLEsXtzyamVxQMEpWKmuCX/k2+lVtC4a4VRlsBLWrnsMoEQxowgTd5zfuX5iW2h4MsRCZWyUwwGE2uOjpMyguvGKDV6OQpUs69SGsURZyYPUw0DTYaG+8KFiW4E8dYKDM+aC5E6AJYQYjzNqRCkuZAJPEukHxJB/cWyzY43UgLYqxiBlfwgIrBwuO8QnzJlC++if9lnFGf6RufBjH9GUYPkFKHa98wHS09gEvCW5QFmfFFpclaqAv1RVewry6pmXAQTghOLBi4pXihaqA0GVcygtAPNoj/Z5uOr2UHClloisdj//QRZ/BM4XVyjiAXtqHZ/Qt+k96cRJpTzrpJHNpI5gIjBvaSG+D2M0QrA+yFgZFg1CMHvV7+iu8B34ZYwWfwfLllRx5YaRUlCp0aQMsWuVLeupMYJUw6xGUJ3XD0tTcseizyKkvPcNYYWzqzQLVF/4R81mViaUbr4sgW71dkyqiIn97JHQRWrEGp0qmKdF9rCzii1kSD2HDPAVzFHxYpccA0co2pU3nyX8YIOY+6WCuXAlo4Jpr4L/yQCODESlvnvGqEfMOvPrDoOKDNcHqVm33psawzFNfdBSEKYGOoQalk8LU0IgUmJ/BJcHCAmils2FtYHWIMROX39Apa0MdDqaIpg2OBDFFFl5gjUjo8ox5HdwhaJ8MBurFvCKvJ4GDmI5l1GBf1BfXF9owIS100SzRrKUsxXUBY5QYtRkCgvbFfUVgPpeFITA1tHTyYWDjAiYonf2JvlQGQgZ3PoKceR+57oj6wAMPWL/jGXnTrrjRcOcSyBtXFdaLXIDc5x7MS68x8Z9XKnBdkQ8fxgmux54EhDSWD0FjQPUAYyw2FBQYKWXwW/2QePqQnleuGFfEo18zHaTFXT2hqZZxNRZZuwGWwi/dxvQNxgpWOxYkYwWXPkIMwaH4KFqMS3iFAooa418CjPso/HjRGOPkRT6Ur8VQGs/KQ1eVw5QHbUJZEq7URc9RghCmKBOUwQfBSrvI2pRlyH3cvijyxCNvFpmiaKDMEZSv6Iiv6jesaid/XKmqB/GYKoNOhJSC6ke/h069LaH7xGPdBUqFAh5AlBfSQCdeRvoi0zaxZwEll/U6WN7Eg+9rYZTy0lX1YmyjNIIlafRGCcoTtMu4UXyELn0dBZ7AfQQ29cfAod/TrnxYRa1xG9dPNJRy7ZHQpWMyqNGqCWqgdEG6r/jyfxMPdwXvC6Jh00As4pAlqnTp/MQ4EDLMJZAWxilNC1ctr9cIROWD+xCBLgbLffJCmNEJyIcPDJmFVGKoKi9NB/8ZAFg+BPIT8HRyFkDE2jUdBmEOc6McNEQEgF4WV1oGOoxZnUP0gxuLWhgABAkjrBYEDZZVHFAuYNZ0FspD4NPR5aKM4/rv/oFALChhtlr8obHQP2pZWi00nlDqGYuydLKwwCMFD9FYQZnnv7wElIiSzLiUssc9LC8YdOy5wArD8yR+gjdOK3g1lrNqID6DgGUaA16VXuSjdNDAimLKgG8yjaApOeWjekIb3j/iQj+ejLSgUb7pq/KC1+BuRYkEBwV4KTJA+xpwX3VECaVcrvF9fqOYoCArkD+KHbyR+kAn+MvwIZ5oQejB16iP3jDhmZ4rT125j6GnNpHShAUc81nhhTKCFxWDjCDjBq8G5UEfZdNXkDXyoqm/qdxSryUJ3VIz83iOQG8QKDSIyLMnz7Lici/+9JROpc1Kp2e6puNwPx0K3SuURzp9+j9WAvP6MYNMx+G/8tc1K47uKQ5XD5VHAFzFuJk/1UIjWeyVL9FzbAQEeiR01UlKHYRZ8dEuZCHS4fhdan4ARnqlE4DkIa1F97hmla/7aRpIXwodoj8uJ84znYfiQ7PoTscRnVl5kiYdX3lmxU/Xq6f4pvP0/42JAH2AwLvCuDqxvvQWQGNSXDuqGC/d9XvFicdlVpqs8ZeOp/EY55Ues8Vqj/uWqQk8UqQjn3TIordQGWl61FfSeXb3n3ryiYPoy8pTNGbRRT7pNGk607iqXOULLuk8FCd9jdOIHq5Z2JI2iz7iU57alWtWvHTZ3f3vkdDtLjN/7gg4ArVBQMyDeStWLWsDfjGY2lDhpZSLAO2E+5tFVLjCtbkJTN7bsFxU+0Y6F7p9o52cSkegWwRKtQK6zcgj1AQBVq0zV8liKJQoF7g1gb3uhbjQrXsTOAGOQPkIwKxZlMI8oFtI5eNY75TedvVugdqV70K3dlh7SY6AI+AIJAhg2brClMAxYH640B0wTd23K4ol0B+sOS3GqGZrwMx9BWw1Efa8HYHyEXChWz52nrIKCCBcazm3VcuyKg2XsKp0vp7fnAjQTyqxcnXOnCt3h/4AjR4aGwEXuo3dPgOeOhgJgQ1CeC0m3l2sr4GDlcsGAHoJv1oMkk0HOEhcR0EKw76Gl9PrCPRHBComdGEg1WIi1QReGmwjMyZwhc7+HKgjbcCxaGxZp60r5SZF2LKFG7vdEC/+ZOESP9dvxROWCCV2R2PrvHQcxU1fiZcVCt2P4xKHLR/Zmi4dVL6u6efxf7nZ2X2KoyLZbShOx2sobN/IOcvcF7b8LhSUXtdC8Qbiffb+Rllim81tt9022Yy/GJ61xEl8lx3s2N5SO/U1Cn21xKIvlNVroct+lOztyZ6ZbAGmY7HE2NIgsG+mttmKOwXbFbJVmEL8TPcqdSVvPpyxyl687AGqrcIK0V2psgvlQ7lsR6YBJDrYYYh9TnVakfZYLZRPX72verPZA/vWav9i9QO212Qz/3hv63LrKmzBkq3dtH9tufnVOh0WM4E9YNnCNL0LFXsKs+VoepvQWtPZl8sTj0AxY3N++BO/wVTP1DfjenJP/SvrPs/4KI84Tvxb+aTj8p/9jzm7l21xlR9p6RfsI8y9OKgsxeV/VkjHI36huFnpdS+dD/+RD9qvOqaPZzFdhcqL4xWjK45XKC/RWa9rQaFLxWCE+qQroOcIXPZ81cBPx1PFFJ8TJNg3lHxjAcKelpzVqXhacFIoP+6LNq6F4ql8XZWGfTg5gUh7pPKcPCg/K2SVQVzRq3wLpSfPOC6/KU9lcpgEJ3dg4ZFXsXxiWlVuFn2F4qnsrHrW6x7WGwc+cCwbx+YNGzbMXMrajxqhy0lDtBuaPO5m9vaWkqe6cqVfsdE7cRQP5VCB+pMv++wi4Dl0g3g6rUXxdFXfwnKERrWbnsOI2TifNuguQC8nx8SBvs6+39AA3VjCKjOOp98oZ2y8z0EM7M1NHyathCxCF2WCA7ex0jgLlXxhyIUCB0VwQAYf6jnQg/AHF7bXrISyl4WpytGz9H/dj6/s/66DLeL7Wb+L5VfsWVZepdwrlCen/mDkELrjP2neVyjPQvdLobOeceYQulSkUGXSYEA4VqI2gC6lIrwMrsOU4/hsOB1buvGzdLk9oS/OJ/69//772xFS8b1K/c6iL+se5aluGtylzFkWyivOr5S6FMunlPSViCMa0No5v5L+9LWvfc2EBqcFSTvmpCWUJA7jxqXKMzaIx7uCl4J8ZAGyUTmHgROHD1vssWsTJzHJXc2hEWx+Tp64YomnU0bS9VIadn/Cxa1TVGg7BDwb3EMLwhQ61KZZ+eDOVj8nHu5mjmSEiYpWXJhZJ6lIqKNsoLxiPcDMUFJIq4Mthg8fbnRyPJlw4PALNq/X4R/CnSuKDicocTQlQpxN6DmJR4qc4qbr05//U2cUYU72+eIXv2hnJzO1wXGl4MIm/LRdOqCwoOSoL/JcCiUHu5CH8omNjnQ+KEkcaEBcFCHyIx/+c+ITbY43iMNTNF2BUgXN6XzpZ7Q7ackTBS0rMAZ5xhQPcbnqoATid9cP9JzXoNj4Q+VBE+NM5znH4wNlkzoQF3zU75WXruQJbyQeynIhBZJ2icvVUZzKJ6vetb43h9AVAYDPUUgwKqyLtCXLsVk8Y9BzQgbnixIv7TpWZbFOOP0DpgOjJC0HaCs+pw3BSDj9g3LJj06V1rqVH5YL6cmHU3rUCHqueuiq+wwUTgTifEnOaWTRCXRh5WCtwLjUKZSGBufEIlld5MnAw+qhE3MUlerDKSGFAh2M0y+IS90QtATmYjiCDywPOeQQey7hS9nQhMVCEG38po04Mo78EAQafNAt2rGKGHDCirjkp4GpeJZ5Hb9UL5gaAkwnMYkkLF0GLsc7qi/yDIsYgSNLJGZ2SsuVeVuElI6y07OFFlrIjmXT/0JX0cdpVMw5y1rlqC+OP9M5yhKMWflAG8Kf83wVELgIu5iBZzFOxeeqNsOi5cQrKQWKQ105C5V+Lrp5xjhdddVVkwVW3OP0GvodY1eBo+moE14XQpyH4gyEK8IN9z1CF2WE4zQ56g3hhMLGyWbpQJuAncY2/QHFkVPNmCbiHGfyQXEkPUdH0p7E48r/o48+2s6WZuEgcTfYYANTLHFv8x8vBm3G8XVsIYmQIejoOjwcCnhWoJmFdZRNf+E3ZznH3h94E0fo0T+JQzmc0oNrnVPZoK1YP1CfpOzdd9/d6koeKHvUFUykQJMPfB8hzMlJqieKHwc/oGQQlCd8mTEDPeSJDOHcYZ3oRlzGFtNE4AEufKgL01WEYuPSItTwaw6hC3EsxIBgGocPHYYTMDTPBn24CngGmHRIfqPBS0gKMDUUggWLAKuCY5KIj8Ur64CDxjmsmQ5GeWjbWDVYwDruSnkCJAsbeE48GhWtHg2zUBDoCDPmZ5jLhQmTB3RxpBQHh3M2qrQjMXAUBiyc2KJHKEAnaUUHvxHmGgSiF5o4b5PnwhV6cWtSfwYfLvqvfOUryaDQAdhommCmAY48iJcUAAAgAElEQVQQpi4ces7xfnRUYQWGOnaRsomLRQ/WxOHKBxoYGAxi2iemsxB+1b4P1nw4OB0hinBEMZBSxgBDkOgYSO7zHPoZuFoRrHyy6sRRZUxjkAZsYDrMfaLwkJfaO6uu5Mdz+gZKAfjh4mVxjQ7YLpaePHlOX8GSVWAMwIzVP3W/2BVaEbTM83MkHZa9sCAdzIx6YTVQV9zOlE1fgl5NqXCPfigLn74o5RUlmLEIToQsPIvR2Nefqb4IWM60RhlUAGvGKwpyOnDkHQJZ0x60E2OUKbVYOaLNmJflqFICeRJQwuBNsdKps2YtQl7RpN3TAeMDYYwAJdC+tC1eFC2u4j5KOAYH0xMqF94Oj4NPx4E+Rn/Xmd5Z/RSs+KDgw//gLzIAyAvjBLpk6XKPI085lzg+ax1a6HMIYXgTgfGGMoCyqOkT6oWBRjyVgxFIO2FcKKD4yFBSe+pZPa9zCF2sNohHS44DzBvw064JBOXFF18cRy36m8PmOVM2DgCCEF199dW7dA46KcJik002SaIDJNoMDFSBgYHgJb2YhJ4Vuu6zzz7WQeLndDC0PLk41MHoNJypqMVWpEExYWFP3Jm5zwHzaJTSdLmHkgCm8RmU3KeDkzeBTsbcUVpxoFOh3XEOMQGscB+iMMTnfMJc0WgZyLKK0ZpxQ3E/Dgw6BiIuVkLMDOJ4tfwtrBEIuIPRrmPaNKeLQgMGGkRcUaJ0LJpoxhoGb/otH5gZfYTBK6UKIYOApy1LCdBIeSg2pCM/FB/wE/3F8oFZIHS1uT1xb7jhButH5IPVLC2/WD5qLxQv2lt9SGmwtpirpu9Ar2gDE/oDljABJonVBA3pgMsZpoZwINC/BlIAN3BG2DJ28STBW/SBT6A0pwNTEEyRiNmDPUKIqROC0vMbixYBrSBBjEAiwIdifgZN/Oc0KQwdDJw4PwQntKIMEnBRsw5C5+7S7yW4UGqhU/0NZReeQhr6KX2D+lMP+ogMDp6lg+5RPnTJS0dZ6qsozJrThdfB1+GVBOqJEk0fo44YH/Q/AsIUowMeSl1RlIkLf2WlNp5KAmMSpWHMmDH2v5G/EqFLZQloKltvvbX9RvOgofQMYSLtTo2NoGAVpf4rbrrSdD7iYGnAJPkN2IoP08H9RaBcCT5cXAh2BAiBuSY6KtoccWAsNCzKAB2MY7KKBfKmbKwNGDACm/80OC4X3CEqW8wKTZOGxzWrgKsE1ySWAeWTD/HRCJmTlOuDe7hMmE8jUL46mPLiniw5Oi70cI9AJ0Mr1QAHL9oBIUKgbAkRaEBAH3zwwfYMoUJaLDnqR758CDB+NHCC7tmfOn0J6+6EriwACQHwwIpgER6B/wxUrF/u7bLLLvbBUwCjZLALr54KXfIXE0HxY5BDj5hFd9Clha7qjKJL/8DNzAePC32kUBANhYQuFgXClfoRVA5CF2GMS54AU6QOKAL0UawiFGIWR9KPYJRSAoW3JRwAX+JLzJ8jyBBKBLBkvNCXBg8ePAcSWUIXfHFVK08SgSeWJsqbArwLd7YWU0qYEVe/iUu7ozRLgKo/SOjK0sXqQ5AizMlDH+qAYKZ9tQ4AKxkjgpOPoFPlUX94H3PbBN0XzVxVPu5d3LoogSqL5/yGN0voItjpXyiH5Cdex2/KZvrxsMMOsyIQvvTZrICRxXQPAfnAmMeTg4KDIqlxHuOelU+t780hdLHocG0KAAgCVIDD9GdwxgGhy2o6QrHK6RnuYvIhiBnwGzcXVjDlEIjPB2uQMmRh09Fxx2UFOvBxxx2X9Si5p07DHAGNpgYngoSuGkv0ZQldMTa508EIehk4uNyZlyPAPBl0uJEoWx2UuOSv+tLZGQRy7+i+hK4GOOXRCbFWRJ+wghmg0OCOIcBk0TwZpMRRoM60AfUnNJLQxZLF0pXbSXjJ0k0LXeiX0BVmKI64nyR0VG/al/lY1ZeBSp+RK1/xCl2FNx4GBjeDnDkv8NSzQmm5T/vHli51U3+EJvo4Hg0E4ciRIwtmJUz06gj9k6A2Vt9U/UWb+o6ELtYMzBAXN0wOfPD28EGRHjVqVOJuVt4FiepnD1TfLKELnixQkyIcVx0vFDxU7mXi0ubxPL7iMyXCNIACU1z8l5dRfUPPdS1V6LIuBoEpbxzjQ/XCsKCstNCVkqWymaOdZ555EstT90ULV/VHplmwnvUWgMYjcWKhi6cN5VLHUSo98fngxcRQIMDnSMt4xmBba621kt+ME7yg6t8IezyYzP3CI1GwWXRFiGmxG3X8mkPoUkEWUhDUQAgOfgOGrGDRXCmhizBmTlJBZeM2QBhJ6GIFUCZWGuDyWXHFFe1KI2QNBOXJVZ0mS+iySCfL0qUT0XlZtKSQZmzqOAiNL33pS8kcCNhhUculqPKVj+pJZy9F6EILcz7qsOSjPPi90047JR4DCd20IgINuGNxjxIkhOxPnb40cHSgNwt7wFS4shqSvllM6Apb8JErH2tAFgGWBUJXAxAhBONBQ6cc3c+CgGfQCAPD3YYSRFuwPkFaueqQlZ570BcL3Th+XDbeCWnwWXkJE9yMWAwIXd0jfrpvqpy00KXdcSFrTjqrrIF6T2MqLXTlBUPZYl5f8cCJNpSlq4VxavNShC5eHvgPFit5qT9ThtqQchjPWLooTQS1fdrSlZeQ6SbyUB/mipKPR04LEGXpZgldeJ/cvaLJCs5/6R7rVuhPcXlEgfZY6PKcxVBs7sIzGT7KBww0psAToY9VzPQLH+6h3DDdB73Uh48C/RwsmQ5FruABpP5xWyluPa5zCF0sIxpVRKqxuLIQKJ5LheByhC6vDRHijlRI6OLWiYUuQhUXDEwZ9wlzf/rNEnd19kJgqmGzhC5uPpiwFpOIPlm6sfWRZmzq+FlClwVXuDfBUPGgT9jym86De6c7SxcrXIKC9MqHK8/Q7jRn3heFLq4n5ikZVASYHAMKtz19LUvoak5XAw/3KAMXxqKAxot2LaUMZYi+gNCSF4G4wlTpdE/3UQxR9NRHWPke06U+E6fXb8qjfXA1ElAGsEZk1XOPVx5ghlJ8lTa+qg/TX5lq0RyelAsYFH0ky9IlvuYMyRPlhEUu8dQJ97HmsbxUVlz+QPit9k4LXWGMx4/FZuBDv1O740Kl/zLO9axUSxfrGKGFMkUgD+UbY44nAh4ILZQtniKhq/6AUsjUHP2EgHCTgs34QijJFY1xA/8pR+iKRqZ1GHdaCU9ZwpG8tZYAPoXFqlfnhBU0IjCZ09WaDt4aYXzFry7FWGT9VplYy0yzaM2D+ENWmlrem0Po0pnkdoQQEcrENW4/DVgNRgCRe06VzaqAngG25t+UN/FxL2dZughdGkyrB5lbwNKgccoJojtL6MLQsZK0EECdmY6ItoVAUEDowsDE2BRXQlfuZeqNyxDNtFjA5YI2CKMjCC+5l7HwFdCy44VDiosrCCtJVjC0SYlSWq5g0GiWLnXgQ59AuYFx0c5otdxnQOPJAF9C3HeYD6X/KNBXwQtLnjxoJxRGFkwhLMlP/QCNmDkk4skboXx0lSaORQgNacWItQgIOZQz1UFp4yt9BK9MvHaB+sGooBEa+A1TRTsvFCiDDwoJ9cSdSVq8AQTqiXWiMaK6ooSxOj/egYtnMGXcd6IBho4nifuUMxCD6o3Q5ZUhzemqLzBewSlWjhB6uDU1/hBG9FP4aSFLF8wJsqCx/mg7LRDiGSv2yVM0oSDR5ppWUF9hsRe0SugSn/UdTIXo1RnyIx58jukJjSN5FMsRupRDXfmgUKLIarUzAhZ3OHKCRVuqA3OurF6mvrrHq0GMD8azcGbMIBfAWou+qAMKCgtBJYypH55K+CUBpZo+DfbQQFBd7U8dvxKhKxqwDtCOWPFKBag07gCsNT5ayi3thncn1fEEnvLKuqLFMR8CEGhqshhiYUw65UVnQPOnkxPoYDQKTIFGIB8aiEbGn6/Om1U298SAWEhFHmpcnvGbwYFminakuvN6ANaT6kxcNFo6flrowsRhzOp0xMX6ZjCSB9onNKBhoqzonTqwYABqcQELxAh0LjRSLZyCBgYhCySGDBlijJX8mPOkfehowgBsUZTojHEgPnO6CBuCtN84Tr1/0/dw5cqFBs0IDdokHainGI+eMcCUB/mQtlCgDYkjzNPx1Bfp+1lx6Des8oTG7gJ5qE7EpT7kCcOBBhQGldddXjynTPoqaYUNDAeBm86H/9zneTowv03fJB+YeSGs0+n6639hl7Z0GX9i3qyUZQEoCjkf+Abz4DwXr+B3MUtXQpc+RJm0J94TxjLzo+SLJ0fvTIM3PI+xzzNeHdLqZDx/CF1Zr8RlbGPVMsVFfPLktUGmytRfiCePYjlCl/TCi7GI0ofFjrCH7+HFFI2KxxXejrcABYC4LBCNFU7FZczAb+HD1IEP+fPGi+bOkVvM+aJ8khe8malQKSBqM2itd5hD6EIQwLOSkQqgdWE9sVhKjAswBAiAYfURdK9YpRj0O+64o+VLRxADSi/SUl4IMQCk8yvAIOTGgT4+LK5iPjPuSIofX8UYWa6O9aP4Kg/mzXwCwop8sbhYVJJmVLhKsEqghaB8cHEjEKUkKF8GAmWy4pl8mVvEylH9yYP5TFZF8pxFLQSYOXH1eo8EJFYNrn4sF+Iz+HCnSCkiLYKczqmFbpZh3q1P+1J/gvLUc786Ao5ADgHGL2Nb4ziNC/yEMcyn0DgijoRwnJ574hvxfX4jhJUvv7MC45uP8kawFKIV2pRfFp2F6qn7PRVa8EvKgz7x3Kw68Iw4xJWxkBWPezxXHVA80vnyn/sqt6c0Fyq30vczhW6lC/H8HIFyECjE6HqSV6l5lBqvJ2X3NG5vaOhN2pjOSuUT5+m/HQFHYDYCBYUugy/+zE7S9Vc5gzQrX93rmnvuX6EylCa+ZqXPuqc0xZ4pDtesUM79UvJUHJWZ/p++X+g58XiWFYqlyYrv9xwBR8ARcAR6j0BBodv7rD0HR8ARcAQcAUfAEYgRcKEbo+G/HQFHwBFwBByBKiLgQreK4HrWjoAj4Ag4Ao5AjIAL3RgN/z0gEWB+mxWdjbracUA2SkalG7WdoIsVxvQhrSTOIN9vVQABxmglxyntRfvVMrjQrSXaXpYj0AMEYAiFXhfpQTYDLipMtNCrMzEYvGKSfu0kfl7q71oz7VLpou80Km2l1qHW8SrVJ4rR7UK3GDr+rF8jIIbEphBsz8g71h4aDwG1E++ss3Wg3oGHUhSTeluXvGfKO/PsFaDtCytpjXXXIo2AQXc09va58GS/Bnani0MpClYcX79RSjjwQVsHq5/pebWuLnSrhazn22cQgGmy4492t2kUwtlAnt3XCPUWLPXERNY+58+yUb720k3TFDNmjnSUcNZ94seMlVN+tO+2ykjnWey/2oS9ztnalv2qtTVjXE6xPKr1jE0i2BhHO97Vm57e1lPtw9nY8aE75dRLadgJjhPK4nPJ2bJ3zz33TMhV3ORGBX640K0AiJ6FI1ANBNhX+atf/aplHQuOapTVqHnC9FR3dl3T3u/Qy332D4ZREsSYOdwCq1Oei0KMk3Nm2faSUCiOPcz4Unx22GNfYe0NnxG1ardUX7a/1UEeFCbM2Bo2vZNe1YipcsbaRYttetn+UfXkygEkautSyFDb4Tlhf/brr7/ekqFEsR1rvI1mKfn1NI4L3Z4i5vH7JQIwcA3GuILcZ54HF1Z383+kJx4fCYo4r1J/Kx+2/uToQPKD6WTRV2qefTWerEkEKRvp61AH6oNA4cByDmkBIzwWBA4s4UxlXIe0WU8XOJXShrTF/7d37yy6FFsYx1VEthhooplu8AKCgokggoHfQFAEBUM1EsTATDQXvIGKl8C7shUDMTAxEMVEDMVPIEZ+h334Nf7HOn3enpl9w/fsqQUz/XZ11aqq1d3rqbWqupZ7LAiKgCz2zD7XeronPV/qPYzIQp6eQ6Drt6htYiJ37ajnpPqS7a46y1Ndu/JspZHLWobadCE8G2DwYBTsJX72/7fvtDrXfaotYz+SD8+WmNjFL16XHfsXH3VsUe05jI+yE3S3JDjTL3sJ9PJxwdm/WvSVyP7j4qUKimGT+Pa35pIsyEXllRGEQrAJ+4TLK6iHiFiN0OURnci+3O0j3svpKBqK+pD22KObMhGbGT/7fLdpfOWWzJf5v5Qci5YrsIATlKABCRkJ/UlGgg+QDdBl6T744INLlC3X7KH+1ltv/dfABVgLfILwM1coWpX8/h599NGd8321yZ7s7qcgA/ZAv/HGGxdXJavr9OnTB4OAngFBSwwSsj7FsrUHugg66rOPveAADSy0yTPmKDIUS18+z4J92z0nph8EhGFtuyaYgb2HgZTANQUw0EeW3bPPPruEu5OX+1lgm4KFqEuUM6AmOpnAAgIWcJ0LOZmclh/Dv94D+9CTiT31hdRTh/fAXvaCNgjuIM37JGIXkEo2BpgiFGl75Jp3wjsXAd1Cw3ILi+7lHRGxCO/nn39+yar/H3zwwTId4b7YS1+M6vbKlwnoekYCXWnyGMCMZE98egB/MnnssceWIEDlIdeifcnDeh4DVJSv4wTdJDGPJ04CKQsKheI2Wo7ElKZQxfNsI3bWzP33378opRSn/KJdefkF/mhErRwlI5JU9QgULnxjijDwdAQSFPJI5jApjJNMKeWHHnpoWUSVLJOJOT6KEiV7oCVIiHsYAWL3o9iy0i3KAnoIkAIz/CIAVOi4db2dc0cCPG7mSMQewWKyvOsD8BDspXOKWpjOBhLKAxVRiVrcI00+IFbkMm0SB1kwGAQk1mEp1e1Za14bsBpEiOoTyJobz0omO8+h+rlva7s0IGwwUjCV+r5UPoTMMwiwILEAOK6ThSkS0eUKuyefQaawg5EpAlHY1qCrPeMcq3P9QLVDVCHAOKYJf2jg00BV3UIECqxjvhsByzXoAv4saXl4WAzsyBuRkzllgWnqj0A7+t2zYlBtEL5FE3S3JDPTL3sJ9NICXYqz4Ns6Lhyi6FqBa+4tithLaD4wMrpnhSDKO6XKshKOrMU1BQr//fffl7wj6BpJP/PMM7FcFIpIUxSKdgYoBxlOyI9kycplpY1EJuYzARkZda8ArNB4FJ/05GzeU/i3yAIo1i7ivWCBffbZZwdzw+XbdcTXn7Cnnh0K3Dni0QCSAVd9YIVR0J0DmurXduUBkuhfWUoAAngWw7k61KNfzg0eAIHfXVc3t3dxvYUL9Dy3CC1rnbXnef7ll1+WsizLQE7d+BnEABVyRSzvkTrXdvL95ptvlnLdD9a3kH2oe+GdMRdbe8nCCvA16BqIPvfccwfVjaCbJ4D1SV5j/z0T7i8KZA1kyNK0A9pl6ZozZslGBkrqXBPLXVQ3xMMC0AtTu867Pp+gu5bIPD8xEuiF3wLdO+6440AJpKQA81VXXXWw2AIPL7hVtZQAhZoytLjm6quvPsuNiFi6FOFxQFf+QNfvlNXC6AT9C6BYumvQJZOsRyJJyQMHc3Xi3aKUM/cul3REKbOuEACn3Ln1pXNN+pRsi3p2xGsFuhR4xOpiVQcg9UFbWeWdv/DCCwfA0KDOM8P6NUBDBnlc1xR6dTrqU/0FugBrpDXo6g/rTDmERwM5UyKmVqQBXSFIUfy5y1mEFmaheCwnwznQFRddgHqkT3gCMYHskTqlcY9zPScLoGvgkMzkdQ3ocoFHa9CVDnS9WyOZNnj88ceXuvBJvtzMBlboOKCLB8v/008/Xcop6+/WW29dXOb4uMbTBXzFlienw97XCbrjnZq/T5QEvPzoMNDNWgl0KacRdCkg1grQRV7wlJKylG8ja4qBgl6DLkXE0qXwRpqg+0+sZ3OdrJCRAt3SA4lAN7l3P3wexAKNgGufn1DK+HE/AzFzmSwxQIJ6Virb+S7Q5VJVvmcHb20A+izd2gl0c28HCoKxA91A5L333lu8KFy71VkbAqwnnnjioB9d2wLdgBYvz7SjueQRdHsOa6fBy7mAbnOk9Yk7mOcIVb9+jaDLhQ4oc33La1oH6GZ5S9sFurxBeQaWSs6eXXgBTBTougdA94svvljSjwO6XM0G36x1MvBnkR5LF9hGnjWDNn1y7z///PPl0vqeSZygm9Tm8cRJoBfiQkGXteRlwy/Q9YJz5ZkXTvm30tU8m+uNhikni08o5JG45HIvl3e8fhJ+p7h5EyzoaX5d38mEyxZIkHtWErcySze5kzUCuuZaoxF0A4OumZ+zMA5QorX8e3Z2ge4PP/ywLI7SHu1v8Q7wABrVdRzQZTWzzvHq+QpEkoVBgoEHEI33GnQ/+uijBbxd98flWl7eFxY1/qzciw26gGsNuu+///7yznR/zb8bvOpbf9qjLS2Och92ga51D9zvynWvWf7uL5mQv2uIVdwnQscBXQMBUxjHJc+JwTJXPuo5GctP0B2lMX+fKAn0Qlwo6LJWzN0iI/WU/3fffbeseGS9IJYDBdf8nHxZ0BZSWTiFUhxcblx/lGMKdslwgv4FDGfOnFmAFMhF7h/XI7deRHbcewDTIhiUPIEc93HEym0BksVMFsSN5DrFjbZA1zedBkYtqpHX/C5r1YrcyCI8q5RZeJHruYUDH4vszIu2MEg6S2vtWo+HI7AyIBkJ6AKYFlJ5xu+7777/apP8wJDb+a+//lrkRJ65c7N0TY+YZ24hV/Ksvs7Nb1uo1a5c9cmgwBwu6n5amOSZd+4+KuvejAvd1Msy5d5O/kC41cXVS/65tGuTQYjFXyNZAW4Vu8VvCOjqV+2VxrLmOYhY0Oa8W7RWune6tRo8V+QX6YP3HKVjuuY4QXeUxvx9oiTQC8GFSEGNnwz5ROWuu+46cBEGjl7CU6dOHSykogwoTp9Y5E4kRKNr35VycQWYFIw5Pa7kMa8FGcq36CUFY95LXVEKq/OTcEyxAkXzaO0e1L3jSqa8fTrDIpHOwr377rsPVq7Gg5VkaiCilM0VI5at1bQ+98DLwiGuxFahVl9l48l7ccUVVyzf6bpWPnOyvBcGBOY58bMyus/N5AWkQApliRkwmKoY+0nhayc+2ubPYKANObh/LRxTB57A0p92BZTq4PYGMvGIZ4MTIAnA/aGeWyuAydNiK1Tfl5NhQGLVLpd87tv6ZADS5h09w2+88cbidcArmUnzdUDt058WYNUWgMu9iypnwxTvmnLvvPPOco2rF/ABUHIzPaEdP/30U81eVojrl5XOkQVRBmwjmad1H3lP1MHVjH+f/r377rvLvXZNHqvP33zzzYVFbRz5TdAdpTF/nygJpDy8PBTU119/fdB/c0wWsGS1Brrmq+Rtro8S4ZLznSAl5lMVoEoxWI283vHIpyVcpfLce++9y8tKKRhtjwpIQwC3RRxWRrN+2nM2UD5o7GX+I9lbwczSWfefdWjLzBYfkRvgdUQpPvc5L4N0ABco4QlALZLBC3Cwvo4ibloDsaw6dVUfy/mTTz5Z+PF6BDjxVJ82oJ5FnhIWXp8Rlc4q4xbVNn8sf2kRi9ZiKQNH9WiDOpsjrU0sc3OReODXKnzX1cWCyzNT3QYK5Nnq3HhVd+cGkgCcpY8q77ntfSmvRWo+q4vKq3x9DCBrm7z62XtQWUd9Va5vnL1jQNs7DYjNsbL2UW0wKNCv2uuagUw8xrwGX+SrDs+IdvRc8mJYse0aC76B2lLZjn8TdHcIZSadLAmwCrwoKWm9Z/mwPFMGvagWtFAMjeJdN2dlrhAPLx8lLE8vZWWTqvq4zFgzgCI3levrvNxW+Jlz21J68b1cj4EIi8/mAyk1slrL62LL4Hz5b5XbSj+s3T2DW3mOy3Mr31H8t+q92Olb7TufenifWiQ3lt+Hvk7QHe/I/D0lcB4SMFLuw/h18bUiWZ+Xf1f6rrTyn8QjeZjT7bvLZECRslRTqPI5X8uvfGO5ykjrurIjv/JvHeXdRWt+u9oz1o/HUW2vbY4jv7Gu2rLOI33M5/q6fufrtK02Vc94VHZsV3Vu8RzLlnerj13f4mVw1jWg61MlvDwvu/qKn/SxvcrHo7a5Lm1s15gn+XTdtZFnfDpO0E0S83iiJbB+UXrR1kLZSpcPj/Fv68WLR3m38uE55l23ZZ5PCUwJ/COB8T2y6rgFV3ml/sn57/6aoPvvyn/WfhlIwMs+vvCXQZf2tgtTznt7a/aqYVmde9WovxszQXcf78ps05TAlMCUwB5JYN8Glvsw+MpTda63aYLuuUps5p8SmBLYSwlQxCwcyvBSEd7qmHT5SqDnyBxxf+75FtBvpW9JaILulmRm+pTAlMDeSgD4UYgnkfS9lfGXuv8BilX7fT53qes8Lv/adtz8F5pPfWOdVtH3re6YflQ9E3SPktC8PiUwJbDXEkjh+U7UZ0Xjt6cXq+FZtzaKGL/nvlj895VP4G43r8Lb/ZttbaBlQwrf5l4KUoeNQIQotHHNa6+9dhA8w7OWJ8We0jZQsXGHtJ7Do9o0QfcoCc3rUwJTAnslARtR+A7a1n9WplJ6FJ7PiWw6YqtFeVhmrgeYYyekudbfrjxj/pS9PYzFho2yuNUXL79TzOVzxGPMs67TubJrAnyu6SMeNprQR4MM/NZ8xvKVHdP8Vk/lHGuX49h+35Qju2uJkhTpn7xr0r6Aumv441kdybLr+qVM1/3eArDaY69z21VWxnHkq/zYx+qq3bv4V95GNb69t2OZox2q7GbV7lj1z8YqNrhpy87KV9fWcYLulmRm+pTAlMDeSSBlKVaxnbxGsqeuHbzG7Ty7HsA4H393/bD0Mc+5/K6th/HeasuuesrLrSku7KWmAEo9gGcMOn/cumvzOv+YPsppnW99DlyR7RZfeeWV9eXNe/s/GXckNFCy41UbsJTNFpriLQNa7ZXXn3bY3hNVvjJbxwm6W5KZ6VMCUwJ7JYEUtb2BbVwvTB8wsL+u3bpsuWmPXAEoRH5infhWk0t4TXYbsxG/8qyZYh5TqLtAICvGdoJt3o+nudGJoo8AAAmzSURBVE67kNl2EC9/ohm1qX5tlle4vup86qmnDuqMN3dpQS/kr6y9hb/99ttFqfttf2NblBZirj2Ry19fbQrx8ssvL/3Xp64DLlZigxMxou0bXPttgWq7SNSex+pq/2Tptkss7i6wqQ+2mOSWHcl2mCJo4W+rVDusodrDcrSFonsnD1f2GEBi5BXoysf6FujBb/fQfUD6asMagwTTDc5rn93f7FTVNpsj7/Vv7VNf7bR/88cff7xky+IWOcrgr73Udz07a74TdNcSmedTAlMCeykByp1SE8XFbkP2uTbPaMN6ytF+vjb+t6k/5WivXKBj7+r2ZdYxICPijyg/8ggrJxTbGB91LQCuSiQKDWUfAUOb9L/44otLW/ADrPb9tUtZ1o85SFF+tEcewPbAAw8s7UqpCwmnrVFuTGAEyBG3usAOIuvYU1ib20Z0rfCVJyflUQBqgCGiT6ArSo42kaWjAYu22Re6tq1BF8DZgxwFTn4rK2/0888/L8ESWIP4kzWX7OiiF7qPbAwo5HnppZfO2k97FwW6gE5gCJGDlDEQ0k+BSpCpBfeliEHuH/mYo9X39qTeVYd7pk/J0/mff/65bPVaIIra8eGHHy4BN4pQ1f3exbe0CbpJYh6nBKYE9l4CKULxWEWEGYl1KTAEq2kkkXcKfcciYRWt9+UVRpG11+b31ROfQJe1V2Qg18zxiirTdWkUNODP4sPLHKQFOSMBahZ7xF0qgk2UdQY4RguYZSvk3WFU+23oL0g9YA4Q7NZEdp2v+bDe9aloQ64bzIyWLmsVXwSg6j/LzwKjSLB3EZFqj3TAfttttx0MFoQuBLjRCOKldQzsDGoMXEYyAOICNohAeJrj1/fqN7gqtu9Y9qjfeNn32/ODV/fGAEZbyBltyXTkP0F3lMb8PSUwJbDXEqDwKGUWC1flqPC5ly1++fLLLxflx70qP6v3uuuuW/oFVM3DmaNDKUmRYgRDL7JN6QkjUBHUPsvRNRFnACzLSlv8+c3ia+GNdgCW4rYGHCxzc7NFomIFCy0YpdiFh8wy1C5u6FtuuWWx1qqzMh0DGVGtADneSAAN8XMLgaf8LmJ9ihGt7YjMRtDVBtY2wiP5cDk//PDDS7p/p0+f/p/V3tqkn7XBIEabRGRy7TBKdvrEU0Ee6tdfZXkhClIvSpSwj+4RYrlzyx8nepT8yZCr/eabbz4YRFWnPCISGZCw6NH6uVkSV/8m6K4EMk+nBKYE9lcCKcJXX311AV0tDTiAl3k3864oIBCX+Oqrr17SzBUCguuvv36JoSyOsj8W0pVXXrkZMzZea9Dl3uVOHd2VQuGZS87VyTrizjYYQMBUPwC9kJCFnOMiHV3XgS5ega7y5oaBboB4mKJXD8AVNxYBIJZZofakqV98WHIhi5tuumkJ3M7yL/7vGnS5pg1S0GGgy6LVx+QMqAGfWLdZtzwUXOasd/fFfHf1LhUM/wJdfeCdGMm9NY8/ftLF0hb8AHFbO28+diy7/t1zpj7395FHHlnuWek9cxZdkc0E3bUE5/mUwJTAZSGBlB5XLIvKeXOfWbq7QPeaa65Z+s/SZWWZF6Z8uVKBot/x3iWoo0CXdRsJEWle1/wlCnSBAYCsvdzQLN0sL6BrLhXJV50sXfO9EdAFkEBXvi3QLR0wsFoBLZfxk08+ubACHEDl9ttvX+aqDQK01dyvuMUWbDlHa9DlXuZuRQYHAZlyVpBHLERzrurBy5+8ta18jtJZ0Po2utPHPIEuOTUQiRdLV7qY15FV7uaLXbvnnnvOCkh/FPUcaA8QNzXQwi51ud6A6KuvvlqsaQvLUG05rI5p6R4mnXltSmBKYK8kkELkXrZqNZLOYhLoXgB6FGiZ47322msXZQmo5AFka6LQt5RmvCxo4sKORvdyaUDXPOaWpVs+lh6LNWDjfgYa4yIi9d51110Hq2aVbT41WcRvfew6EH366acXANHv5KOvAJ8XAOCOBJjN6yYP4DN+MvTHH3+cveGGGxaXbeWAuAVO5nUjAGw+vbaUbuCBt78Au2uAkZW9iwJdLn1z9SORCwva4Et9/oAlmVqtzTrOq7Buz8jHb54L1i0rt0HSmKc0AyV95rZHyWvMu/49QXctkXk+JTAlsLcSSFmak7UK1eIZn4VQ3JStuT4rSlEKmrVjpW3nPiHibmUtsxpZV/JwQ+cmrp4EEeiaswRGESvOvGHlpLOqzDdzZyKfM7E0uTZ/+OGHs99///1Zq5mVyxWqPu0zF2wxmDxAhOVo16MsLfx+++23hR8Xu75srV6WNzeojUTIgHdAW9XXNQBmlTPQJ1cLnbi5LQQLRFi9I5gqb45XvsqZBza/6XOsyIYlVhlzy+NtFTlZ+yMnbSELAxDXeSCsbm4+PD4dazPZmAcG0Mq55+59i6uAYsDocy59J8sGOOv7i3+8AbNV5MoYVLkX6vDn/vncSF483GfucOR8F9/a3nGCbpKYxymBKYH/KwlQiBS6hTgULNexbzyBMErpAlVzvbkEXbPClQuY69Afi4xSDWTWgqgsYFZHZDcigNLnONK5mlm5PmVCQBeQsLgAAzcnZd1nTBR19cprgZD82sWa2zW/+eOPPy6gzQK1mAcFGsvJ3//iy5LVx7fffvsgbwAB+LjCtU+d5FnbGmz0yc/I2yDhzTffXNy3ylkV3VzxCEAGQyxnefxZiObeuT/abEAArF3j+n/99dd39qW6a7d5ZQMU5bi/++Sr6+6Z3+7rqVOnDu5H1+PXsXts7t1AxJ/ny/1yVI/71/Nl3+U777zzYOBU+fhtHSfobklmpk8JTAnsrQQCk/Np4IWUPZ/6KGPzpiymNe0CynUe5yNQjL935T0q7bjlj5LTFp+x3FaeC23jWMfIa5SnQYH6DSB8OpRreavsyOc4v1nQAJnFrp7j8p2gexzpzjxTAlMCeycBYEaxZo1RfKyntfKjiOUbSR7lpMdjVNhj3vG3OrOgpSsznpdXWunq4c4+c+bMUpd5ZWm76qsPtQsPaWuqT/is+7vO6xwPPHdZY+s6d7VNO9ZlleseJMNdbTlK1vWlPuO5q8/rfimnrWO58ozt4J5nqct/XL7x3HWMN7c4d3jyre6jjhN0j5LQvD4lMCUwJXAeEkg5AwafwrSFIOU/6dJJgHzJnoVrIRQX9LnsGHWuLTsOkI88J+iO0pi/pwSmBKYELpIEUsYAwIYN5jZR6RepmslmJYEGNb/++uuyiYqV1peCdln/x6lngu5xpDTzTAlMCUwJTAn830ogr8M+dGCC7j7chdmGKYEpgctaAuYp90nxX9bC/rtz5M0a3Te5/wdZTJ/akWPMzgAAAABJRU5ErkJggg==)"
      ]
    },
    {
      "cell_type": "markdown",
      "metadata": {
        "id": "GqZbjHi4wpH1"
      },
      "source": [
        "### Example1\n",
        "\n",
        "จะเขียนโค้ดยาวๆแค่รอบเดียว"
      ]
    },
    {
      "cell_type": "markdown",
      "metadata": {
        "id": "SLH-L3zl7iBa"
      },
      "source": [
        "###### วิธีที่ 1  ค่อย return ตอนสุดท้าย\n"
      ]
    },
    {
      "cell_type": "code",
      "metadata": {
        "id": "BaMdfljrFWDY"
      },
      "source": [
        "def grading(score):\n",
        "    if score >= 80:\n",
        "        grade ='A'\n",
        "    elif score >= 75:\n",
        "        grade ='B+'\n",
        "    elif score >= 70:\n",
        "        grade ='B'\n",
        "    elif score >= 65:\n",
        "        grade ='C+'\n",
        "    elif score >= 60:\n",
        "        grade ='C'\n",
        "    elif score >= 55:\n",
        "        grade ='D+'\n",
        "    elif score >= 50:\n",
        "        grade ='D'\n",
        "    else:\n",
        "        grade ='F'\n",
        "\n",
        "    return grade"
      ],
      "execution_count": 24,
      "outputs": []
    },
    {
      "cell_type": "code",
      "metadata": {
        "id": "3s_eHnO20sw9",
        "outputId": "1ca965b8-0b90-42d6-83f6-f83c9479b371",
        "colab": {
          "base_uri": "https://localhost:8080/"
        }
      },
      "source": [
        "score = [49,65,70,95,82,20,77,77,81,59,10]\n",
        "for i in score:\n",
        "    print(f'คะแนน {i} ได้เกรด {grading(i)}')"
      ],
      "execution_count": 25,
      "outputs": [
        {
          "output_type": "stream",
          "text": [
            "คะแนน 49 ได้เกรด F\n",
            "คะแนน 65 ได้เกรด C+\n",
            "คะแนน 70 ได้เกรด B\n",
            "คะแนน 95 ได้เกรด A\n",
            "คะแนน 82 ได้เกรด A\n",
            "คะแนน 20 ได้เกรด F\n",
            "คะแนน 77 ได้เกรด B+\n",
            "คะแนน 77 ได้เกรด B+\n",
            "คะแนน 81 ได้เกรด A\n",
            "คะแนน 59 ได้เกรด D+\n",
            "คะแนน 10 ได้เกรด F\n"
          ],
          "name": "stdout"
        }
      ]
    },
    {
      "cell_type": "markdown",
      "metadata": {
        "id": "BwecazrB7nSg"
      },
      "source": [
        "###### วิธีที่ 2  return ในตัวเองเลย\n",
        "\n"
      ]
    },
    {
      "cell_type": "code",
      "metadata": {
        "id": "0cV8l-0-7R6T"
      },
      "source": [
        "def grading2(score):\n",
        "    if score >= 80:\n",
        "        return'A'\n",
        "    elif score >= 75:\n",
        "        return'B+'\n",
        "    elif score >= 70:\n",
        "        return'B'\n",
        "    elif score >= 65:\n",
        "        return'C+'\n",
        "    elif score >= 60:\n",
        "        return'C'\n",
        "    elif score >= 55:\n",
        "        return'D+'\n",
        "    elif score >= 50:\n",
        "        return'D'\n",
        "    else:\n",
        "        return'F'"
      ],
      "execution_count": 32,
      "outputs": []
    },
    {
      "cell_type": "code",
      "metadata": {
        "id": "YgVR3B0t7fU2",
        "outputId": "af06c6cd-19dd-4dc4-c302-038fc2527b1b",
        "colab": {
          "base_uri": "https://localhost:8080/"
        }
      },
      "source": [
        "score = [49,65,70,95,82,20,77,77,81,59,10]\n",
        "for i in score:\n",
        "    print(f'คะแนน {i} ได้เกรด {grading2(i)}')"
      ],
      "execution_count": 33,
      "outputs": [
        {
          "output_type": "stream",
          "text": [
            "คะแนน 49 ได้เกรด F\n",
            "คะแนน 65 ได้เกรด C+\n",
            "คะแนน 70 ได้เกรด B\n",
            "คะแนน 95 ได้เกรด A\n",
            "คะแนน 82 ได้เกรด A\n",
            "คะแนน 20 ได้เกรด F\n",
            "คะแนน 77 ได้เกรด B+\n",
            "คะแนน 77 ได้เกรด B+\n",
            "คะแนน 81 ได้เกรด A\n",
            "คะแนน 59 ได้เกรด D+\n",
            "คะแนน 10 ได้เกรด F\n"
          ],
          "name": "stdout"
        }
      ]
    },
    {
      "cell_type": "markdown",
      "metadata": {
        "id": "WFudzNl97o45"
      },
      "source": [
        "###### วิธีที่ 3  ทำได้เหมือนกัน แต่รูปแบบไม่สวย"
      ]
    },
    {
      "cell_type": "code",
      "metadata": {
        "id": "3sz3nNTp1F1C"
      },
      "source": [
        "def grading_list(list_score):\n",
        "    grade_list = []\n",
        "    for score in list_score:\n",
        "        if score >= 80:\n",
        "            grade ='A'\n",
        "        elif score >= 75:\n",
        "            grade ='B+'\n",
        "        elif score >= 70:\n",
        "            grade ='B'\n",
        "        elif score >= 65:\n",
        "            grade ='C+'\n",
        "        elif score >= 60:\n",
        "            grade ='C'\n",
        "        elif score >= 55:\n",
        "            grade ='D+'\n",
        "        elif score >= 50:\n",
        "            grade ='D'\n",
        "        else:\n",
        "            grade ='F'\n",
        "        grade_list.append([score,grade])\n",
        "    return grade_list"
      ],
      "execution_count": 29,
      "outputs": []
    },
    {
      "cell_type": "code",
      "metadata": {
        "id": "D37JsIDI4SNW",
        "outputId": "f3521540-c624-4d96-bc22-38595e3352b1",
        "colab": {
          "base_uri": "https://localhost:8080/"
        }
      },
      "source": [
        "g = grading_list(score)\n",
        "g"
      ],
      "execution_count": 30,
      "outputs": [
        {
          "output_type": "execute_result",
          "data": {
            "text/plain": [
              "[[49, 'F'],\n",
              " [65, 'C+'],\n",
              " [70, 'B'],\n",
              " [95, 'A'],\n",
              " [82, 'A'],\n",
              " [20, 'F'],\n",
              " [77, 'B+'],\n",
              " [77, 'B+'],\n",
              " [81, 'A'],\n",
              " [59, 'D+'],\n",
              " [10, 'F']]"
            ]
          },
          "metadata": {
            "tags": []
          },
          "execution_count": 30
        }
      ]
    },
    {
      "cell_type": "markdown",
      "metadata": {
        "id": "KGQ7VhzW9DwN"
      },
      "source": [
        "### Example 2 (ไม่มี input)"
      ]
    },
    {
      "cell_type": "code",
      "metadata": {
        "id": "Byr5QM-Z5Xk9"
      },
      "source": [
        "def mypi():\n",
        "    return 3.14"
      ],
      "execution_count": 36,
      "outputs": []
    },
    {
      "cell_type": "code",
      "metadata": {
        "id": "f0iDh0dL9dIZ",
        "outputId": "60e69185-816e-48c6-f769-20a3507bbf56",
        "colab": {
          "base_uri": "https://localhost:8080/"
        }
      },
      "source": [
        "r = 10\n",
        "print(f'รัศมี={r} จะมีเส้นรอบวง={2*mypi()*r}')"
      ],
      "execution_count": 39,
      "outputs": [
        {
          "output_type": "stream",
          "text": [
            "รัศมี=10 จะมีเส้นรอบวง=62.800000000000004\n"
          ],
          "name": "stdout"
        }
      ]
    },
    {
      "cell_type": "markdown",
      "metadata": {
        "id": "paWgj8mj-FVM"
      },
      "source": [
        "### Example 3 (ไม่มี output)"
      ]
    },
    {
      "cell_type": "code",
      "metadata": {
        "id": "fJS2Dd0g9tr4"
      },
      "source": [
        "def grading_nooutput(score):\n",
        "    if i >= 80:\n",
        "        print('ได้เกรด A')\n",
        "    elif i >= 75:\n",
        "        print('ได้เกรด B+')\n",
        "    elif i >= 70:\n",
        "        print('ได้เกรด B')\n",
        "    elif i >= 65:\n",
        "        print('ได้เกรด C+')\n",
        "    elif i >= 60:\n",
        "        print('ได้เกรด C')\n",
        "    elif i >= 55:\n",
        "        print('ได้เกรด D+')\n",
        "    elif i >= 50:\n",
        "        print('ได้เกรด D')\n",
        "    else:\n",
        "        print('ได้เกรด F')"
      ],
      "execution_count": 42,
      "outputs": []
    },
    {
      "cell_type": "code",
      "metadata": {
        "id": "XlKRAxHW-lyY",
        "outputId": "07812062-2fbc-4c3c-fb76-53429f0dd80d",
        "colab": {
          "base_uri": "https://localhost:8080/"
        }
      },
      "source": [
        "score = [49,65,70,95,82,20,77,77,81,59,10]\n",
        "for i in score:\n",
        "    print(f'คะแนน {i}', end=' ')\n",
        "    grading_nooutput(i)"
      ],
      "execution_count": 43,
      "outputs": [
        {
          "output_type": "stream",
          "text": [
            "คะแนน 49 ได้เกรด F\n",
            "คะแนน 65 ได้เกรด C+\n",
            "คะแนน 70 ได้เกรด B\n",
            "คะแนน 95 ได้เกรด A\n",
            "คะแนน 82 ได้เกรด A\n",
            "คะแนน 20 ได้เกรด F\n",
            "คะแนน 77 ได้เกรด B+\n",
            "คะแนน 77 ได้เกรด B+\n",
            "คะแนน 81 ได้เกรด A\n",
            "คะแนน 59 ได้เกรด D+\n",
            "คะแนน 10 ได้เกรด F\n"
          ],
          "name": "stdout"
        }
      ]
    },
    {
      "cell_type": "markdown",
      "metadata": {
        "id": "h2KttKgL_fEt"
      },
      "source": [
        "### Example 4 (ไม่มี input และ output)\n",
        "\n",
        "ลองสร้างสี่เหลี่ยม"
      ]
    },
    {
      "cell_type": "code",
      "metadata": {
        "id": "8zbllhv0_CRk"
      },
      "source": [
        "def draw_ract():\n",
        "    print('==========')\n",
        "    print('|        |')\n",
        "    print('|        |')\n",
        "    print('==========')"
      ],
      "execution_count": 44,
      "outputs": []
    },
    {
      "cell_type": "code",
      "metadata": {
        "id": "RmnVIyrW_3T3",
        "outputId": "5a7cd752-35c6-4189-97ed-c048e550c516",
        "colab": {
          "base_uri": "https://localhost:8080/"
        }
      },
      "source": [
        "draw_ract()"
      ],
      "execution_count": 45,
      "outputs": [
        {
          "output_type": "stream",
          "text": [
            "==========\n",
            "|        |\n",
            "|        |\n",
            "==========\n"
          ],
          "name": "stdout"
        }
      ]
    },
    {
      "cell_type": "code",
      "metadata": {
        "id": "4H7JWTj1_6qb",
        "outputId": "e8a12d29-f78e-4cc9-8ad0-ae6663290782",
        "colab": {
          "base_uri": "https://localhost:8080/"
        }
      },
      "source": [
        "draw_ract()\n",
        "draw_ract()"
      ],
      "execution_count": 46,
      "outputs": [
        {
          "output_type": "stream",
          "text": [
            "==========\n",
            "|        |\n",
            "|        |\n",
            "==========\n",
            "==========\n",
            "|        |\n",
            "|        |\n",
            "==========\n"
          ],
          "name": "stdout"
        }
      ]
    },
    {
      "cell_type": "markdown",
      "metadata": {
        "id": "oKKsDRH7A8vA"
      },
      "source": [
        "#### ลักษณะของ input (parameter , argument)\n",
        "\n",
        "*   จำเป็นต้องใส่ non-default\n",
        "*   ไม่จำเป็นต้องใส่\n",
        "\n"
      ]
    },
    {
      "cell_type": "code",
      "metadata": {
        "id": "UowRoxQQAG_Q"
      },
      "source": [
        "def A(input1, input2 = 3):\n",
        "    return input1 + input2"
      ],
      "execution_count": 47,
      "outputs": []
    },
    {
      "cell_type": "code",
      "metadata": {
        "id": "0WTNhbWaBtkO",
        "outputId": "a74a4cc6-ae7b-4a27-ab92-6420a5bdac6b",
        "colab": {
          "base_uri": "https://localhost:8080/"
        }
      },
      "source": [
        "A(1)  # ใส่ input ตัวเดียว"
      ],
      "execution_count": 48,
      "outputs": [
        {
          "output_type": "execute_result",
          "data": {
            "text/plain": [
              "4"
            ]
          },
          "metadata": {
            "tags": []
          },
          "execution_count": 48
        }
      ]
    },
    {
      "cell_type": "code",
      "metadata": {
        "id": "Irga3u3cB2S_",
        "outputId": "c951b05f-942e-49ec-832d-0ce22280aeab",
        "colab": {
          "base_uri": "https://localhost:8080/"
        }
      },
      "source": [
        "A(1,6)  # ใส่ input 2 ตัว"
      ],
      "execution_count": 50,
      "outputs": [
        {
          "output_type": "execute_result",
          "data": {
            "text/plain": [
              "7"
            ]
          },
          "metadata": {
            "tags": []
          },
          "execution_count": 50
        }
      ]
    },
    {
      "cell_type": "code",
      "metadata": {
        "id": "XnXSJy5OB53o",
        "outputId": "9e9e0424-7dbb-4c3a-a113-7a9931af8450",
        "colab": {
          "base_uri": "https://localhost:8080/",
          "height": 171
        }
      },
      "source": [
        "A()  # ไม่ใส่ input ก็จะ error"
      ],
      "execution_count": 51,
      "outputs": [
        {
          "output_type": "error",
          "ename": "TypeError",
          "evalue": "ignored",
          "traceback": [
            "\u001b[0;31m---------------------------------------------------------------------------\u001b[0m",
            "\u001b[0;31mTypeError\u001b[0m                                 Traceback (most recent call last)",
            "\u001b[0;32m<ipython-input-51-6234893e030b>\u001b[0m in \u001b[0;36m<module>\u001b[0;34m()\u001b[0m\n\u001b[0;32m----> 1\u001b[0;31m \u001b[0mA\u001b[0m\u001b[0;34m(\u001b[0m\u001b[0;34m)\u001b[0m\u001b[0;34m\u001b[0m\u001b[0;34m\u001b[0m\u001b[0m\n\u001b[0m",
            "\u001b[0;31mTypeError\u001b[0m: A() missing 1 required positional argument: 'input1'"
          ]
        }
      ]
    },
    {
      "cell_type": "code",
      "metadata": {
        "id": "3bxcxxNBCzsR"
      },
      "source": [
        "def printlove(input1, input2 = 'Stat', input3 = 'KKU'):\n",
        "    print(f'{input1} love {input2} {input3}')"
      ],
      "execution_count": 52,
      "outputs": []
    },
    {
      "cell_type": "code",
      "metadata": {
        "id": "YLQAWCYVDYQE",
        "outputId": "d991efd5-ff8b-49c2-9c6e-ecdd9ea71485",
        "colab": {
          "base_uri": "https://localhost:8080/"
        }
      },
      "source": [
        "printlove('Mintra')"
      ],
      "execution_count": 53,
      "outputs": [
        {
          "output_type": "stream",
          "text": [
            "Mintra love Stat KKU\n"
          ],
          "name": "stdout"
        }
      ]
    },
    {
      "cell_type": "code",
      "metadata": {
        "id": "IIcHy296Ddig",
        "outputId": "3536167b-2414-4e22-8a14-58fe118ec935",
        "colab": {
          "base_uri": "https://localhost:8080/"
        }
      },
      "source": [
        "printlove('Mintra','SI','Stat')"
      ],
      "execution_count": 54,
      "outputs": [
        {
          "output_type": "stream",
          "text": [
            "Mintra love SI Stat\n"
          ],
          "name": "stdout"
        }
      ]
    },
    {
      "cell_type": "code",
      "metadata": {
        "id": "08iXSWQkDlI5",
        "outputId": "9d6fb63f-a6c2-4608-8e67-1a15f6772407",
        "colab": {
          "base_uri": "https://localhost:8080/"
        }
      },
      "source": [
        "printlove(input3 = 'Mintra', input2 = 'SI', input1 = 'Stat')"
      ],
      "execution_count": 57,
      "outputs": [
        {
          "output_type": "stream",
          "text": [
            "Stat love SI Mintra\n"
          ],
          "name": "stdout"
        }
      ]
    },
    {
      "cell_type": "code",
      "metadata": {
        "id": "85gjBM0yD3I1",
        "outputId": "248b0b7c-44db-4874-d9bd-1802a476fafc",
        "colab": {
          "base_uri": "https://localhost:8080/",
          "height": 135
        }
      },
      "source": [
        "def printlove(input2 = 'Stat', input1, input3 = 'KKU'):\n",
        "    print(f'{input1} love {input2} {input3}')"
      ],
      "execution_count": 58,
      "outputs": [
        {
          "output_type": "error",
          "ename": "SyntaxError",
          "evalue": "ignored",
          "traceback": [
            "\u001b[0;36m  File \u001b[0;32m\"<ipython-input-58-c61932165c07>\"\u001b[0;36m, line \u001b[0;32m1\u001b[0m\n\u001b[0;31m    def printlove(input2 = 'Stat', input1, input3 = 'KKU'):\u001b[0m\n\u001b[0m                 ^\u001b[0m\n\u001b[0;31mSyntaxError\u001b[0m\u001b[0;31m:\u001b[0m non-default argument follows default argument\n"
          ]
        }
      ]
    },
    {
      "cell_type": "markdown",
      "metadata": {
        "id": "gV5xsUVLE9bc"
      },
      "source": [
        "#### HW4\n",
        "สร้างฟังก์ชัน\n",
        "\n",
        "*   วาดรูปบ้าน\n",
        "*   วาดรูปต้นไม้"
      ]
    },
    {
      "cell_type": "code",
      "metadata": {
        "id": "d2I6ak5zEaFi"
      },
      "source": [
        ""
      ],
      "execution_count": null,
      "outputs": []
    }
  ]
}