{
  "nbformat": 4,
  "nbformat_minor": 0,
  "metadata": {
    "colab": {
      "name": "Data Preprocessing (Chapter 3).ipynb",
      "provenance": [],
      "authorship_tag": "ABX9TyP9vytQ+nyTAeK68RgInFqF",
      "include_colab_link": true
    },
    "kernelspec": {
      "name": "python3",
      "display_name": "Python 3"
    },
    "language_info": {
      "name": "python"
    }
  },
  "cells": [
    {
      "cell_type": "markdown",
      "metadata": {
        "id": "view-in-github",
        "colab_type": "text"
      },
      "source": [
        "<a href=\"https://colab.research.google.com/github/mintra-tippayaratsontorn/DWDM21/blob/main/Data_Preprocessing_(Chapter_3).ipynb\" target=\"_parent\"><img src=\"https://colab.research.google.com/assets/colab-badge.svg\" alt=\"Open In Colab\"/></a>"
      ]
    },
    {
      "cell_type": "code",
      "metadata": {
        "id": "Xa7UHYZu6ftc"
      },
      "source": [
        "import pandas as pd"
      ],
      "execution_count": 1,
      "outputs": []
    },
    {
      "cell_type": "code",
      "metadata": {
        "colab": {
          "base_uri": "https://localhost:8080/"
        },
        "id": "ZnHd0Tnx71hX",
        "outputId": "71042d88-99e4-4f48-fdd6-6081ecb93773"
      },
      "source": [
        "from google.colab import drive\n",
        "drive.mount('/content/drive')"
      ],
      "execution_count": 2,
      "outputs": [
        {
          "output_type": "stream",
          "text": [
            "Mounted at /content/drive\n"
          ],
          "name": "stdout"
        }
      ]
    },
    {
      "cell_type": "code",
      "metadata": {
        "id": "rHCW3z5383zX"
      },
      "source": [
        "import os"
      ],
      "execution_count": 3,
      "outputs": []
    },
    {
      "cell_type": "code",
      "metadata": {
        "colab": {
          "base_uri": "https://localhost:8080/",
          "height": 521
        },
        "id": "w66T7G0n9AAW",
        "outputId": "f883160b-69e1-4224-941d-165d66506034"
      },
      "source": [
        "path = '/content/drive/My Drive/DWDM2021_DATA'\n",
        "data_cases = pd.read_csv(os.path.join(path,'confirmed-cases.csv'))\n",
        "data_cases"
      ],
      "execution_count": 4,
      "outputs": [
        {
          "output_type": "execute_result",
          "data": {
            "text/html": [
              "<div>\n",
              "<style scoped>\n",
              "    .dataframe tbody tr th:only-of-type {\n",
              "        vertical-align: middle;\n",
              "    }\n",
              "\n",
              "    .dataframe tbody tr th {\n",
              "        vertical-align: top;\n",
              "    }\n",
              "\n",
              "    .dataframe thead th {\n",
              "        text-align: right;\n",
              "    }\n",
              "</style>\n",
              "<table border=\"1\" class=\"dataframe\">\n",
              "  <thead>\n",
              "    <tr style=\"text-align: right;\">\n",
              "      <th></th>\n",
              "      <th>No.</th>\n",
              "      <th>announce_date</th>\n",
              "      <th>Notified date</th>\n",
              "      <th>sex</th>\n",
              "      <th>age</th>\n",
              "      <th>Unit</th>\n",
              "      <th>nationality</th>\n",
              "      <th>province_of_isolation</th>\n",
              "      <th>risk</th>\n",
              "      <th>province_of_onset</th>\n",
              "      <th>district_of_onset</th>\n",
              "    </tr>\n",
              "  </thead>\n",
              "  <tbody>\n",
              "    <tr>\n",
              "      <th>0</th>\n",
              "      <td>1</td>\n",
              "      <td>12/1/2020</td>\n",
              "      <td>NaN</td>\n",
              "      <td>หญิง</td>\n",
              "      <td>61.0</td>\n",
              "      <td>ปี</td>\n",
              "      <td>China</td>\n",
              "      <td>กรุงเทพมหานคร</td>\n",
              "      <td>คนต่างชาติเดินทางมาจากต่างประเทศ</td>\n",
              "      <td>กรุงเทพมหานคร</td>\n",
              "      <td>NaN</td>\n",
              "    </tr>\n",
              "    <tr>\n",
              "      <th>1</th>\n",
              "      <td>2</td>\n",
              "      <td>17/1/2020</td>\n",
              "      <td>NaN</td>\n",
              "      <td>หญิง</td>\n",
              "      <td>74.0</td>\n",
              "      <td>ปี</td>\n",
              "      <td>China</td>\n",
              "      <td>กรุงเทพมหานคร</td>\n",
              "      <td>คนต่างชาติเดินทางมาจากต่างประเทศ</td>\n",
              "      <td>กรุงเทพมหานคร</td>\n",
              "      <td>NaN</td>\n",
              "    </tr>\n",
              "    <tr>\n",
              "      <th>2</th>\n",
              "      <td>3</td>\n",
              "      <td>22/1/2020</td>\n",
              "      <td>NaN</td>\n",
              "      <td>หญิง</td>\n",
              "      <td>73.0</td>\n",
              "      <td>ปี</td>\n",
              "      <td>Thailand</td>\n",
              "      <td>นครปฐม</td>\n",
              "      <td>คนต่างชาติเดินทางมาจากต่างประเทศ</td>\n",
              "      <td>นครปฐม</td>\n",
              "      <td>เมือง</td>\n",
              "    </tr>\n",
              "    <tr>\n",
              "      <th>3</th>\n",
              "      <td>4</td>\n",
              "      <td>22/1/2020</td>\n",
              "      <td>NaN</td>\n",
              "      <td>ชาย</td>\n",
              "      <td>68.0</td>\n",
              "      <td>ปี</td>\n",
              "      <td>China</td>\n",
              "      <td>กรุงเทพมหานคร</td>\n",
              "      <td>คนต่างชาติเดินทางมาจากต่างประเทศ</td>\n",
              "      <td>กรุงเทพมหานคร</td>\n",
              "      <td>NaN</td>\n",
              "    </tr>\n",
              "    <tr>\n",
              "      <th>4</th>\n",
              "      <td>5</td>\n",
              "      <td>24/1/2020</td>\n",
              "      <td>NaN</td>\n",
              "      <td>หญิง</td>\n",
              "      <td>66.0</td>\n",
              "      <td>ปี</td>\n",
              "      <td>China</td>\n",
              "      <td>นนทบุรี</td>\n",
              "      <td>คนต่างชาติเดินทางมาจากต่างประเทศ</td>\n",
              "      <td>กรุงเทพมหานคร</td>\n",
              "      <td>NaN</td>\n",
              "    </tr>\n",
              "    <tr>\n",
              "      <th>...</th>\n",
              "      <td>...</td>\n",
              "      <td>...</td>\n",
              "      <td>...</td>\n",
              "      <td>...</td>\n",
              "      <td>...</td>\n",
              "      <td>...</td>\n",
              "      <td>...</td>\n",
              "      <td>...</td>\n",
              "      <td>...</td>\n",
              "      <td>...</td>\n",
              "      <td>...</td>\n",
              "    </tr>\n",
              "    <tr>\n",
              "      <th>512617</th>\n",
              "      <td>512618</td>\n",
              "      <td>26/7/2021</td>\n",
              "      <td>25/7/2021</td>\n",
              "      <td>ชาย</td>\n",
              "      <td>NaN</td>\n",
              "      <td>NaN</td>\n",
              "      <td>NaN</td>\n",
              "      <td>ชลบุรี</td>\n",
              "      <td>ทัณฑสถาน/เรือนจำ</td>\n",
              "      <td>NaN</td>\n",
              "      <td>NaN</td>\n",
              "    </tr>\n",
              "    <tr>\n",
              "      <th>512618</th>\n",
              "      <td>512619</td>\n",
              "      <td>26/7/2021</td>\n",
              "      <td>25/7/2021</td>\n",
              "      <td>ชาย</td>\n",
              "      <td>NaN</td>\n",
              "      <td>NaN</td>\n",
              "      <td>NaN</td>\n",
              "      <td>ชลบุรี</td>\n",
              "      <td>ทัณฑสถาน/เรือนจำ</td>\n",
              "      <td>NaN</td>\n",
              "      <td>NaN</td>\n",
              "    </tr>\n",
              "    <tr>\n",
              "      <th>512619</th>\n",
              "      <td>512620</td>\n",
              "      <td>26/7/2021</td>\n",
              "      <td>25/7/2021</td>\n",
              "      <td>ชาย</td>\n",
              "      <td>NaN</td>\n",
              "      <td>NaN</td>\n",
              "      <td>NaN</td>\n",
              "      <td>ชลบุรี</td>\n",
              "      <td>ทัณฑสถาน/เรือนจำ</td>\n",
              "      <td>NaN</td>\n",
              "      <td>NaN</td>\n",
              "    </tr>\n",
              "    <tr>\n",
              "      <th>512620</th>\n",
              "      <td>512621</td>\n",
              "      <td>26/7/2021</td>\n",
              "      <td>25/7/2021</td>\n",
              "      <td>ชาย</td>\n",
              "      <td>NaN</td>\n",
              "      <td>NaN</td>\n",
              "      <td>NaN</td>\n",
              "      <td>ชลบุรี</td>\n",
              "      <td>ทัณฑสถาน/เรือนจำ</td>\n",
              "      <td>NaN</td>\n",
              "      <td>NaN</td>\n",
              "    </tr>\n",
              "    <tr>\n",
              "      <th>512621</th>\n",
              "      <td>512622</td>\n",
              "      <td>26/7/2021</td>\n",
              "      <td>25/7/2021</td>\n",
              "      <td>ชาย</td>\n",
              "      <td>NaN</td>\n",
              "      <td>NaN</td>\n",
              "      <td>NaN</td>\n",
              "      <td>ชลบุรี</td>\n",
              "      <td>ทัณฑสถาน/เรือนจำ</td>\n",
              "      <td>NaN</td>\n",
              "      <td>NaN</td>\n",
              "    </tr>\n",
              "  </tbody>\n",
              "</table>\n",
              "<p>512622 rows × 11 columns</p>\n",
              "</div>"
            ],
            "text/plain": [
              "           No. announce_date  ... province_of_onset district_of_onset\n",
              "0            1     12/1/2020  ...     กรุงเทพมหานคร               NaN\n",
              "1            2     17/1/2020  ...     กรุงเทพมหานคร               NaN\n",
              "2            3     22/1/2020  ...            นครปฐม             เมือง\n",
              "3            4     22/1/2020  ...     กรุงเทพมหานคร               NaN\n",
              "4            5     24/1/2020  ...     กรุงเทพมหานคร               NaN\n",
              "...        ...           ...  ...               ...               ...\n",
              "512617  512618     26/7/2021  ...               NaN               NaN\n",
              "512618  512619     26/7/2021  ...               NaN               NaN\n",
              "512619  512620     26/7/2021  ...               NaN               NaN\n",
              "512620  512621     26/7/2021  ...               NaN               NaN\n",
              "512621  512622     26/7/2021  ...               NaN               NaN\n",
              "\n",
              "[512622 rows x 11 columns]"
            ]
          },
          "metadata": {
            "tags": []
          },
          "execution_count": 4
        }
      ]
    },
    {
      "cell_type": "markdown",
      "metadata": {
        "id": "0sViJ3V4-YJT"
      },
      "source": [
        "## Meta Data (Data ที่ใช้อธิบาย Data)"
      ]
    },
    {
      "cell_type": "markdown",
      "metadata": {
        "id": "0ruOyzPwAM9A"
      },
      "source": [
        "## ชี้ข้อมูลในตาราง"
      ]
    },
    {
      "cell_type": "markdown",
      "metadata": {
        "id": "_rLcZnqmBgIi"
      },
      "source": [
        "### ชี้แบบธรรมดา ใช้ [ชื่อ column][index]"
      ]
    },
    {
      "cell_type": "code",
      "metadata": {
        "colab": {
          "base_uri": "https://localhost:8080/"
        },
        "id": "YVTapC6k9JJH",
        "outputId": "4772ec26-e72f-4782-864e-031ea1a9a18c"
      },
      "source": [
        "data_cases['risk']"
      ],
      "execution_count": 5,
      "outputs": [
        {
          "output_type": "execute_result",
          "data": {
            "text/plain": [
              "0         คนต่างชาติเดินทางมาจากต่างประเทศ\n",
              "1         คนต่างชาติเดินทางมาจากต่างประเทศ\n",
              "2         คนต่างชาติเดินทางมาจากต่างประเทศ\n",
              "3         คนต่างชาติเดินทางมาจากต่างประเทศ\n",
              "4         คนต่างชาติเดินทางมาจากต่างประเทศ\n",
              "                        ...               \n",
              "512617                    ทัณฑสถาน/เรือนจำ\n",
              "512618                    ทัณฑสถาน/เรือนจำ\n",
              "512619                    ทัณฑสถาน/เรือนจำ\n",
              "512620                    ทัณฑสถาน/เรือนจำ\n",
              "512621                    ทัณฑสถาน/เรือนจำ\n",
              "Name: risk, Length: 512622, dtype: object"
            ]
          },
          "metadata": {
            "tags": []
          },
          "execution_count": 5
        }
      ]
    },
    {
      "cell_type": "code",
      "metadata": {
        "colab": {
          "base_uri": "https://localhost:8080/",
          "height": 35
        },
        "id": "m_SXqArWAfvj",
        "outputId": "8c7eae94-e860-442d-df4a-9747ca1f89c7"
      },
      "source": [
        "data_cases['risk'][678]"
      ],
      "execution_count": 6,
      "outputs": [
        {
          "output_type": "execute_result",
          "data": {
            "application/vnd.google.colaboratory.intrinsic+json": {
              "type": "string"
            },
            "text/plain": [
              "'สัมผัสใกล้ชิดกับผู้ป่วยยืนยันรายก่อนหน้านี้'"
            ]
          },
          "metadata": {
            "tags": []
          },
          "execution_count": 6
        }
      ]
    },
    {
      "cell_type": "code",
      "metadata": {
        "colab": {
          "base_uri": "https://localhost:8080/",
          "height": 419
        },
        "id": "WGzm1tR8Aorr",
        "outputId": "4d227ab9-4d8c-43e9-f74a-03f4534a6171"
      },
      "source": [
        "data_cases[['age','risk','sex']]"
      ],
      "execution_count": 7,
      "outputs": [
        {
          "output_type": "execute_result",
          "data": {
            "text/html": [
              "<div>\n",
              "<style scoped>\n",
              "    .dataframe tbody tr th:only-of-type {\n",
              "        vertical-align: middle;\n",
              "    }\n",
              "\n",
              "    .dataframe tbody tr th {\n",
              "        vertical-align: top;\n",
              "    }\n",
              "\n",
              "    .dataframe thead th {\n",
              "        text-align: right;\n",
              "    }\n",
              "</style>\n",
              "<table border=\"1\" class=\"dataframe\">\n",
              "  <thead>\n",
              "    <tr style=\"text-align: right;\">\n",
              "      <th></th>\n",
              "      <th>age</th>\n",
              "      <th>risk</th>\n",
              "      <th>sex</th>\n",
              "    </tr>\n",
              "  </thead>\n",
              "  <tbody>\n",
              "    <tr>\n",
              "      <th>0</th>\n",
              "      <td>61.0</td>\n",
              "      <td>คนต่างชาติเดินทางมาจากต่างประเทศ</td>\n",
              "      <td>หญิง</td>\n",
              "    </tr>\n",
              "    <tr>\n",
              "      <th>1</th>\n",
              "      <td>74.0</td>\n",
              "      <td>คนต่างชาติเดินทางมาจากต่างประเทศ</td>\n",
              "      <td>หญิง</td>\n",
              "    </tr>\n",
              "    <tr>\n",
              "      <th>2</th>\n",
              "      <td>73.0</td>\n",
              "      <td>คนต่างชาติเดินทางมาจากต่างประเทศ</td>\n",
              "      <td>หญิง</td>\n",
              "    </tr>\n",
              "    <tr>\n",
              "      <th>3</th>\n",
              "      <td>68.0</td>\n",
              "      <td>คนต่างชาติเดินทางมาจากต่างประเทศ</td>\n",
              "      <td>ชาย</td>\n",
              "    </tr>\n",
              "    <tr>\n",
              "      <th>4</th>\n",
              "      <td>66.0</td>\n",
              "      <td>คนต่างชาติเดินทางมาจากต่างประเทศ</td>\n",
              "      <td>หญิง</td>\n",
              "    </tr>\n",
              "    <tr>\n",
              "      <th>...</th>\n",
              "      <td>...</td>\n",
              "      <td>...</td>\n",
              "      <td>...</td>\n",
              "    </tr>\n",
              "    <tr>\n",
              "      <th>512617</th>\n",
              "      <td>NaN</td>\n",
              "      <td>ทัณฑสถาน/เรือนจำ</td>\n",
              "      <td>ชาย</td>\n",
              "    </tr>\n",
              "    <tr>\n",
              "      <th>512618</th>\n",
              "      <td>NaN</td>\n",
              "      <td>ทัณฑสถาน/เรือนจำ</td>\n",
              "      <td>ชาย</td>\n",
              "    </tr>\n",
              "    <tr>\n",
              "      <th>512619</th>\n",
              "      <td>NaN</td>\n",
              "      <td>ทัณฑสถาน/เรือนจำ</td>\n",
              "      <td>ชาย</td>\n",
              "    </tr>\n",
              "    <tr>\n",
              "      <th>512620</th>\n",
              "      <td>NaN</td>\n",
              "      <td>ทัณฑสถาน/เรือนจำ</td>\n",
              "      <td>ชาย</td>\n",
              "    </tr>\n",
              "    <tr>\n",
              "      <th>512621</th>\n",
              "      <td>NaN</td>\n",
              "      <td>ทัณฑสถาน/เรือนจำ</td>\n",
              "      <td>ชาย</td>\n",
              "    </tr>\n",
              "  </tbody>\n",
              "</table>\n",
              "<p>512622 rows × 3 columns</p>\n",
              "</div>"
            ],
            "text/plain": [
              "         age                              risk   sex\n",
              "0       61.0  คนต่างชาติเดินทางมาจากต่างประเทศ  หญิง\n",
              "1       74.0  คนต่างชาติเดินทางมาจากต่างประเทศ  หญิง\n",
              "2       73.0  คนต่างชาติเดินทางมาจากต่างประเทศ  หญิง\n",
              "3       68.0  คนต่างชาติเดินทางมาจากต่างประเทศ   ชาย\n",
              "4       66.0  คนต่างชาติเดินทางมาจากต่างประเทศ  หญิง\n",
              "...      ...                               ...   ...\n",
              "512617   NaN                  ทัณฑสถาน/เรือนจำ   ชาย\n",
              "512618   NaN                  ทัณฑสถาน/เรือนจำ   ชาย\n",
              "512619   NaN                  ทัณฑสถาน/เรือนจำ   ชาย\n",
              "512620   NaN                  ทัณฑสถาน/เรือนจำ   ชาย\n",
              "512621   NaN                  ทัณฑสถาน/เรือนจำ   ชาย\n",
              "\n",
              "[512622 rows x 3 columns]"
            ]
          },
          "metadata": {
            "tags": []
          },
          "execution_count": 7
        }
      ]
    },
    {
      "cell_type": "markdown",
      "metadata": {
        "id": "n3Vu-bsfBc72"
      },
      "source": [
        "### ชี้แบบ .iloc[] (มองข้อมูลเป็น matrix)"
      ]
    },
    {
      "cell_type": "code",
      "metadata": {
        "colab": {
          "base_uri": "https://localhost:8080/",
          "height": 35
        },
        "id": "z-L0IphKBQgj",
        "outputId": "7ae1f10d-8dc2-4837-a9c1-ede45b6271db"
      },
      "source": [
        "data_cases.iloc[678,8]"
      ],
      "execution_count": 8,
      "outputs": [
        {
          "output_type": "execute_result",
          "data": {
            "application/vnd.google.colaboratory.intrinsic+json": {
              "type": "string"
            },
            "text/plain": [
              "'สัมผัสใกล้ชิดกับผู้ป่วยยืนยันรายก่อนหน้านี้'"
            ]
          },
          "metadata": {
            "tags": []
          },
          "execution_count": 8
        }
      ]
    },
    {
      "cell_type": "code",
      "metadata": {
        "colab": {
          "base_uri": "https://localhost:8080/",
          "height": 359
        },
        "id": "wx33RvOjCdoz",
        "outputId": "c9ed700a-9a0f-42ba-e388-1af84cd67109"
      },
      "source": [
        "data_cases.iloc[-10:,4:9:2]"
      ],
      "execution_count": 9,
      "outputs": [
        {
          "output_type": "execute_result",
          "data": {
            "text/html": [
              "<div>\n",
              "<style scoped>\n",
              "    .dataframe tbody tr th:only-of-type {\n",
              "        vertical-align: middle;\n",
              "    }\n",
              "\n",
              "    .dataframe tbody tr th {\n",
              "        vertical-align: top;\n",
              "    }\n",
              "\n",
              "    .dataframe thead th {\n",
              "        text-align: right;\n",
              "    }\n",
              "</style>\n",
              "<table border=\"1\" class=\"dataframe\">\n",
              "  <thead>\n",
              "    <tr style=\"text-align: right;\">\n",
              "      <th></th>\n",
              "      <th>age</th>\n",
              "      <th>nationality</th>\n",
              "      <th>risk</th>\n",
              "    </tr>\n",
              "  </thead>\n",
              "  <tbody>\n",
              "    <tr>\n",
              "      <th>512612</th>\n",
              "      <td>NaN</td>\n",
              "      <td>NaN</td>\n",
              "      <td>ทัณฑสถาน/เรือนจำ</td>\n",
              "    </tr>\n",
              "    <tr>\n",
              "      <th>512613</th>\n",
              "      <td>NaN</td>\n",
              "      <td>NaN</td>\n",
              "      <td>ทัณฑสถาน/เรือนจำ</td>\n",
              "    </tr>\n",
              "    <tr>\n",
              "      <th>512614</th>\n",
              "      <td>NaN</td>\n",
              "      <td>NaN</td>\n",
              "      <td>ทัณฑสถาน/เรือนจำ</td>\n",
              "    </tr>\n",
              "    <tr>\n",
              "      <th>512615</th>\n",
              "      <td>NaN</td>\n",
              "      <td>NaN</td>\n",
              "      <td>ทัณฑสถาน/เรือนจำ</td>\n",
              "    </tr>\n",
              "    <tr>\n",
              "      <th>512616</th>\n",
              "      <td>NaN</td>\n",
              "      <td>NaN</td>\n",
              "      <td>ทัณฑสถาน/เรือนจำ</td>\n",
              "    </tr>\n",
              "    <tr>\n",
              "      <th>512617</th>\n",
              "      <td>NaN</td>\n",
              "      <td>NaN</td>\n",
              "      <td>ทัณฑสถาน/เรือนจำ</td>\n",
              "    </tr>\n",
              "    <tr>\n",
              "      <th>512618</th>\n",
              "      <td>NaN</td>\n",
              "      <td>NaN</td>\n",
              "      <td>ทัณฑสถาน/เรือนจำ</td>\n",
              "    </tr>\n",
              "    <tr>\n",
              "      <th>512619</th>\n",
              "      <td>NaN</td>\n",
              "      <td>NaN</td>\n",
              "      <td>ทัณฑสถาน/เรือนจำ</td>\n",
              "    </tr>\n",
              "    <tr>\n",
              "      <th>512620</th>\n",
              "      <td>NaN</td>\n",
              "      <td>NaN</td>\n",
              "      <td>ทัณฑสถาน/เรือนจำ</td>\n",
              "    </tr>\n",
              "    <tr>\n",
              "      <th>512621</th>\n",
              "      <td>NaN</td>\n",
              "      <td>NaN</td>\n",
              "      <td>ทัณฑสถาน/เรือนจำ</td>\n",
              "    </tr>\n",
              "  </tbody>\n",
              "</table>\n",
              "</div>"
            ],
            "text/plain": [
              "        age nationality              risk\n",
              "512612  NaN         NaN  ทัณฑสถาน/เรือนจำ\n",
              "512613  NaN         NaN  ทัณฑสถาน/เรือนจำ\n",
              "512614  NaN         NaN  ทัณฑสถาน/เรือนจำ\n",
              "512615  NaN         NaN  ทัณฑสถาน/เรือนจำ\n",
              "512616  NaN         NaN  ทัณฑสถาน/เรือนจำ\n",
              "512617  NaN         NaN  ทัณฑสถาน/เรือนจำ\n",
              "512618  NaN         NaN  ทัณฑสถาน/เรือนจำ\n",
              "512619  NaN         NaN  ทัณฑสถาน/เรือนจำ\n",
              "512620  NaN         NaN  ทัณฑสถาน/เรือนจำ\n",
              "512621  NaN         NaN  ทัณฑสถาน/เรือนจำ"
            ]
          },
          "metadata": {
            "tags": []
          },
          "execution_count": 9
        }
      ]
    },
    {
      "cell_type": "code",
      "metadata": {
        "colab": {
          "base_uri": "https://localhost:8080/",
          "height": 359
        },
        "id": "-4KzW63qCnXh",
        "outputId": "81a5930d-76eb-49be-8d7e-4da315db16c2"
      },
      "source": [
        "data_cases.iloc[-10:,[3,4,8]]"
      ],
      "execution_count": 10,
      "outputs": [
        {
          "output_type": "execute_result",
          "data": {
            "text/html": [
              "<div>\n",
              "<style scoped>\n",
              "    .dataframe tbody tr th:only-of-type {\n",
              "        vertical-align: middle;\n",
              "    }\n",
              "\n",
              "    .dataframe tbody tr th {\n",
              "        vertical-align: top;\n",
              "    }\n",
              "\n",
              "    .dataframe thead th {\n",
              "        text-align: right;\n",
              "    }\n",
              "</style>\n",
              "<table border=\"1\" class=\"dataframe\">\n",
              "  <thead>\n",
              "    <tr style=\"text-align: right;\">\n",
              "      <th></th>\n",
              "      <th>sex</th>\n",
              "      <th>age</th>\n",
              "      <th>risk</th>\n",
              "    </tr>\n",
              "  </thead>\n",
              "  <tbody>\n",
              "    <tr>\n",
              "      <th>512612</th>\n",
              "      <td>หญิง</td>\n",
              "      <td>NaN</td>\n",
              "      <td>ทัณฑสถาน/เรือนจำ</td>\n",
              "    </tr>\n",
              "    <tr>\n",
              "      <th>512613</th>\n",
              "      <td>ชาย</td>\n",
              "      <td>NaN</td>\n",
              "      <td>ทัณฑสถาน/เรือนจำ</td>\n",
              "    </tr>\n",
              "    <tr>\n",
              "      <th>512614</th>\n",
              "      <td>ชาย</td>\n",
              "      <td>NaN</td>\n",
              "      <td>ทัณฑสถาน/เรือนจำ</td>\n",
              "    </tr>\n",
              "    <tr>\n",
              "      <th>512615</th>\n",
              "      <td>ชาย</td>\n",
              "      <td>NaN</td>\n",
              "      <td>ทัณฑสถาน/เรือนจำ</td>\n",
              "    </tr>\n",
              "    <tr>\n",
              "      <th>512616</th>\n",
              "      <td>ชาย</td>\n",
              "      <td>NaN</td>\n",
              "      <td>ทัณฑสถาน/เรือนจำ</td>\n",
              "    </tr>\n",
              "    <tr>\n",
              "      <th>512617</th>\n",
              "      <td>ชาย</td>\n",
              "      <td>NaN</td>\n",
              "      <td>ทัณฑสถาน/เรือนจำ</td>\n",
              "    </tr>\n",
              "    <tr>\n",
              "      <th>512618</th>\n",
              "      <td>ชาย</td>\n",
              "      <td>NaN</td>\n",
              "      <td>ทัณฑสถาน/เรือนจำ</td>\n",
              "    </tr>\n",
              "    <tr>\n",
              "      <th>512619</th>\n",
              "      <td>ชาย</td>\n",
              "      <td>NaN</td>\n",
              "      <td>ทัณฑสถาน/เรือนจำ</td>\n",
              "    </tr>\n",
              "    <tr>\n",
              "      <th>512620</th>\n",
              "      <td>ชาย</td>\n",
              "      <td>NaN</td>\n",
              "      <td>ทัณฑสถาน/เรือนจำ</td>\n",
              "    </tr>\n",
              "    <tr>\n",
              "      <th>512621</th>\n",
              "      <td>ชาย</td>\n",
              "      <td>NaN</td>\n",
              "      <td>ทัณฑสถาน/เรือนจำ</td>\n",
              "    </tr>\n",
              "  </tbody>\n",
              "</table>\n",
              "</div>"
            ],
            "text/plain": [
              "         sex  age              risk\n",
              "512612  หญิง  NaN  ทัณฑสถาน/เรือนจำ\n",
              "512613   ชาย  NaN  ทัณฑสถาน/เรือนจำ\n",
              "512614   ชาย  NaN  ทัณฑสถาน/เรือนจำ\n",
              "512615   ชาย  NaN  ทัณฑสถาน/เรือนจำ\n",
              "512616   ชาย  NaN  ทัณฑสถาน/เรือนจำ\n",
              "512617   ชาย  NaN  ทัณฑสถาน/เรือนจำ\n",
              "512618   ชาย  NaN  ทัณฑสถาน/เรือนจำ\n",
              "512619   ชาย  NaN  ทัณฑสถาน/เรือนจำ\n",
              "512620   ชาย  NaN  ทัณฑสถาน/เรือนจำ\n",
              "512621   ชาย  NaN  ทัณฑสถาน/เรือนจำ"
            ]
          },
          "metadata": {
            "tags": []
          },
          "execution_count": 10
        }
      ]
    },
    {
      "cell_type": "code",
      "metadata": {
        "colab": {
          "base_uri": "https://localhost:8080/",
          "height": 297
        },
        "id": "VBJfWyg6CzK5",
        "outputId": "658fa155-d96c-49c4-a399-39503db05dee"
      },
      "source": [
        "data_cases.describe()"
      ],
      "execution_count": 11,
      "outputs": [
        {
          "output_type": "execute_result",
          "data": {
            "text/html": [
              "<div>\n",
              "<style scoped>\n",
              "    .dataframe tbody tr th:only-of-type {\n",
              "        vertical-align: middle;\n",
              "    }\n",
              "\n",
              "    .dataframe tbody tr th {\n",
              "        vertical-align: top;\n",
              "    }\n",
              "\n",
              "    .dataframe thead th {\n",
              "        text-align: right;\n",
              "    }\n",
              "</style>\n",
              "<table border=\"1\" class=\"dataframe\">\n",
              "  <thead>\n",
              "    <tr style=\"text-align: right;\">\n",
              "      <th></th>\n",
              "      <th>No.</th>\n",
              "      <th>age</th>\n",
              "    </tr>\n",
              "  </thead>\n",
              "  <tbody>\n",
              "    <tr>\n",
              "      <th>count</th>\n",
              "      <td>512622.000000</td>\n",
              "      <td>462839.000000</td>\n",
              "    </tr>\n",
              "    <tr>\n",
              "      <th>mean</th>\n",
              "      <td>256311.500000</td>\n",
              "      <td>35.529470</td>\n",
              "    </tr>\n",
              "    <tr>\n",
              "      <th>std</th>\n",
              "      <td>147981.369183</td>\n",
              "      <td>16.153885</td>\n",
              "    </tr>\n",
              "    <tr>\n",
              "      <th>min</th>\n",
              "      <td>1.000000</td>\n",
              "      <td>1.000000</td>\n",
              "    </tr>\n",
              "    <tr>\n",
              "      <th>25%</th>\n",
              "      <td>128156.250000</td>\n",
              "      <td>25.000000</td>\n",
              "    </tr>\n",
              "    <tr>\n",
              "      <th>50%</th>\n",
              "      <td>256311.500000</td>\n",
              "      <td>34.000000</td>\n",
              "    </tr>\n",
              "    <tr>\n",
              "      <th>75%</th>\n",
              "      <td>384466.750000</td>\n",
              "      <td>46.000000</td>\n",
              "    </tr>\n",
              "    <tr>\n",
              "      <th>max</th>\n",
              "      <td>512622.000000</td>\n",
              "      <td>108.000000</td>\n",
              "    </tr>\n",
              "  </tbody>\n",
              "</table>\n",
              "</div>"
            ],
            "text/plain": [
              "                 No.            age\n",
              "count  512622.000000  462839.000000\n",
              "mean   256311.500000      35.529470\n",
              "std    147981.369183      16.153885\n",
              "min         1.000000       1.000000\n",
              "25%    128156.250000      25.000000\n",
              "50%    256311.500000      34.000000\n",
              "75%    384466.750000      46.000000\n",
              "max    512622.000000     108.000000"
            ]
          },
          "metadata": {
            "tags": []
          },
          "execution_count": 11
        }
      ]
    },
    {
      "cell_type": "code",
      "metadata": {
        "colab": {
          "base_uri": "https://localhost:8080/",
          "height": 401
        },
        "id": "sElbZ282FFdN",
        "outputId": "eff61965-552f-43b5-d577-22ad29ebbc86"
      },
      "source": [
        "from matplotlib import pyplot as plt\n",
        "\n",
        "plt.boxplot(data_cases['age'])  # มีค่า missing ก็ plot ไม่ได้"
      ],
      "execution_count": 12,
      "outputs": [
        {
          "output_type": "execute_result",
          "data": {
            "text/plain": [
              "{'boxes': [<matplotlib.lines.Line2D at 0x7fa3b55c09d0>],\n",
              " 'caps': [<matplotlib.lines.Line2D at 0x7fa3b55cba90>,\n",
              "  <matplotlib.lines.Line2D at 0x7fa3b55cbfd0>],\n",
              " 'fliers': [<matplotlib.lines.Line2D at 0x7fa3b55d5ad0>],\n",
              " 'means': [],\n",
              " 'medians': [<matplotlib.lines.Line2D at 0x7fa3b55d5590>],\n",
              " 'whiskers': [<matplotlib.lines.Line2D at 0x7fa3b55c0fd0>,\n",
              "  <matplotlib.lines.Line2D at 0x7fa3b55cb550>]}"
            ]
          },
          "metadata": {
            "tags": []
          },
          "execution_count": 12
        },
        {
          "output_type": "display_data",
          "data": {
            "image/png": "[encoded data removed]",
            "text/plain": [
              "<Figure size 432x288 with 1 Axes>"
            ]
          },
          "metadata": {
            "tags": [],
            "needs_background": "light"
          }
        }
      ]
    },
    {
      "cell_type": "markdown",
      "metadata": {
        "id": "YFADCv7CDBm3"
      },
      "source": [
        "## Missing Values\n",
        "\n",
        "* NaN = Not a Number\n",
        "* Null ค่าว่าง \n",
        "* NA = Not Available"
      ]
    },
    {
      "cell_type": "code",
      "metadata": {
        "colab": {
          "base_uri": "https://localhost:8080/",
          "height": 0
        },
        "id": "-U48kNNDGRSu",
        "outputId": "1656df6f-0eee-48d5-cfd3-f6b8b5596af0"
      },
      "source": [
        "data_cases"
      ],
      "execution_count": 13,
      "outputs": [
        {
          "output_type": "execute_result",
          "data": {
            "text/html": [
              "<div>\n",
              "<style scoped>\n",
              "    .dataframe tbody tr th:only-of-type {\n",
              "        vertical-align: middle;\n",
              "    }\n",
              "\n",
              "    .dataframe tbody tr th {\n",
              "        vertical-align: top;\n",
              "    }\n",
              "\n",
              "    .dataframe thead th {\n",
              "        text-align: right;\n",
              "    }\n",
              "</style>\n",
              "<table border=\"1\" class=\"dataframe\">\n",
              "  <thead>\n",
              "    <tr style=\"text-align: right;\">\n",
              "      <th></th>\n",
              "      <th>No.</th>\n",
              "      <th>announce_date</th>\n",
              "      <th>Notified date</th>\n",
              "      <th>sex</th>\n",
              "      <th>age</th>\n",
              "      <th>Unit</th>\n",
              "      <th>nationality</th>\n",
              "      <th>province_of_isolation</th>\n",
              "      <th>risk</th>\n",
              "      <th>province_of_onset</th>\n",
              "      <th>district_of_onset</th>\n",
              "    </tr>\n",
              "  </thead>\n",
              "  <tbody>\n",
              "    <tr>\n",
              "      <th>0</th>\n",
              "      <td>1</td>\n",
              "      <td>12/1/2020</td>\n",
              "      <td>NaN</td>\n",
              "      <td>หญิง</td>\n",
              "      <td>61.0</td>\n",
              "      <td>ปี</td>\n",
              "      <td>China</td>\n",
              "      <td>กรุงเทพมหานคร</td>\n",
              "      <td>คนต่างชาติเดินทางมาจากต่างประเทศ</td>\n",
              "      <td>กรุงเทพมหานคร</td>\n",
              "      <td>NaN</td>\n",
              "    </tr>\n",
              "    <tr>\n",
              "      <th>1</th>\n",
              "      <td>2</td>\n",
              "      <td>17/1/2020</td>\n",
              "      <td>NaN</td>\n",
              "      <td>หญิง</td>\n",
              "      <td>74.0</td>\n",
              "      <td>ปี</td>\n",
              "      <td>China</td>\n",
              "      <td>กรุงเทพมหานคร</td>\n",
              "      <td>คนต่างชาติเดินทางมาจากต่างประเทศ</td>\n",
              "      <td>กรุงเทพมหานคร</td>\n",
              "      <td>NaN</td>\n",
              "    </tr>\n",
              "    <tr>\n",
              "      <th>2</th>\n",
              "      <td>3</td>\n",
              "      <td>22/1/2020</td>\n",
              "      <td>NaN</td>\n",
              "      <td>หญิง</td>\n",
              "      <td>73.0</td>\n",
              "      <td>ปี</td>\n",
              "      <td>Thailand</td>\n",
              "      <td>นครปฐม</td>\n",
              "      <td>คนต่างชาติเดินทางมาจากต่างประเทศ</td>\n",
              "      <td>นครปฐม</td>\n",
              "      <td>เมือง</td>\n",
              "    </tr>\n",
              "    <tr>\n",
              "      <th>3</th>\n",
              "      <td>4</td>\n",
              "      <td>22/1/2020</td>\n",
              "      <td>NaN</td>\n",
              "      <td>ชาย</td>\n",
              "      <td>68.0</td>\n",
              "      <td>ปี</td>\n",
              "      <td>China</td>\n",
              "      <td>กรุงเทพมหานคร</td>\n",
              "      <td>คนต่างชาติเดินทางมาจากต่างประเทศ</td>\n",
              "      <td>กรุงเทพมหานคร</td>\n",
              "      <td>NaN</td>\n",
              "    </tr>\n",
              "    <tr>\n",
              "      <th>4</th>\n",
              "      <td>5</td>\n",
              "      <td>24/1/2020</td>\n",
              "      <td>NaN</td>\n",
              "      <td>หญิง</td>\n",
              "      <td>66.0</td>\n",
              "      <td>ปี</td>\n",
              "      <td>China</td>\n",
              "      <td>นนทบุรี</td>\n",
              "      <td>คนต่างชาติเดินทางมาจากต่างประเทศ</td>\n",
              "      <td>กรุงเทพมหานคร</td>\n",
              "      <td>NaN</td>\n",
              "    </tr>\n",
              "    <tr>\n",
              "      <th>...</th>\n",
              "      <td>...</td>\n",
              "      <td>...</td>\n",
              "      <td>...</td>\n",
              "      <td>...</td>\n",
              "      <td>...</td>\n",
              "      <td>...</td>\n",
              "      <td>...</td>\n",
              "      <td>...</td>\n",
              "      <td>...</td>\n",
              "      <td>...</td>\n",
              "      <td>...</td>\n",
              "    </tr>\n",
              "    <tr>\n",
              "      <th>512617</th>\n",
              "      <td>512618</td>\n",
              "      <td>26/7/2021</td>\n",
              "      <td>25/7/2021</td>\n",
              "      <td>ชาย</td>\n",
              "      <td>NaN</td>\n",
              "      <td>NaN</td>\n",
              "      <td>NaN</td>\n",
              "      <td>ชลบุรี</td>\n",
              "      <td>ทัณฑสถาน/เรือนจำ</td>\n",
              "      <td>NaN</td>\n",
              "      <td>NaN</td>\n",
              "    </tr>\n",
              "    <tr>\n",
              "      <th>512618</th>\n",
              "      <td>512619</td>\n",
              "      <td>26/7/2021</td>\n",
              "      <td>25/7/2021</td>\n",
              "      <td>ชาย</td>\n",
              "      <td>NaN</td>\n",
              "      <td>NaN</td>\n",
              "      <td>NaN</td>\n",
              "      <td>ชลบุรี</td>\n",
              "      <td>ทัณฑสถาน/เรือนจำ</td>\n",
              "      <td>NaN</td>\n",
              "      <td>NaN</td>\n",
              "    </tr>\n",
              "    <tr>\n",
              "      <th>512619</th>\n",
              "      <td>512620</td>\n",
              "      <td>26/7/2021</td>\n",
              "      <td>25/7/2021</td>\n",
              "      <td>ชาย</td>\n",
              "      <td>NaN</td>\n",
              "      <td>NaN</td>\n",
              "      <td>NaN</td>\n",
              "      <td>ชลบุรี</td>\n",
              "      <td>ทัณฑสถาน/เรือนจำ</td>\n",
              "      <td>NaN</td>\n",
              "      <td>NaN</td>\n",
              "    </tr>\n",
              "    <tr>\n",
              "      <th>512620</th>\n",
              "      <td>512621</td>\n",
              "      <td>26/7/2021</td>\n",
              "      <td>25/7/2021</td>\n",
              "      <td>ชาย</td>\n",
              "      <td>NaN</td>\n",
              "      <td>NaN</td>\n",
              "      <td>NaN</td>\n",
              "      <td>ชลบุรี</td>\n",
              "      <td>ทัณฑสถาน/เรือนจำ</td>\n",
              "      <td>NaN</td>\n",
              "      <td>NaN</td>\n",
              "    </tr>\n",
              "    <tr>\n",
              "      <th>512621</th>\n",
              "      <td>512622</td>\n",
              "      <td>26/7/2021</td>\n",
              "      <td>25/7/2021</td>\n",
              "      <td>ชาย</td>\n",
              "      <td>NaN</td>\n",
              "      <td>NaN</td>\n",
              "      <td>NaN</td>\n",
              "      <td>ชลบุรี</td>\n",
              "      <td>ทัณฑสถาน/เรือนจำ</td>\n",
              "      <td>NaN</td>\n",
              "      <td>NaN</td>\n",
              "    </tr>\n",
              "  </tbody>\n",
              "</table>\n",
              "<p>512622 rows × 11 columns</p>\n",
              "</div>"
            ],
            "text/plain": [
              "           No. announce_date  ... province_of_onset district_of_onset\n",
              "0            1     12/1/2020  ...     กรุงเทพมหานคร               NaN\n",
              "1            2     17/1/2020  ...     กรุงเทพมหานคร               NaN\n",
              "2            3     22/1/2020  ...            นครปฐม             เมือง\n",
              "3            4     22/1/2020  ...     กรุงเทพมหานคร               NaN\n",
              "4            5     24/1/2020  ...     กรุงเทพมหานคร               NaN\n",
              "...        ...           ...  ...               ...               ...\n",
              "512617  512618     26/7/2021  ...               NaN               NaN\n",
              "512618  512619     26/7/2021  ...               NaN               NaN\n",
              "512619  512620     26/7/2021  ...               NaN               NaN\n",
              "512620  512621     26/7/2021  ...               NaN               NaN\n",
              "512621  512622     26/7/2021  ...               NaN               NaN\n",
              "\n",
              "[512622 rows x 11 columns]"
            ]
          },
          "metadata": {
            "tags": []
          },
          "execution_count": 13
        }
      ]
    },
    {
      "cell_type": "code",
      "metadata": {
        "colab": {
          "base_uri": "https://localhost:8080/",
          "height": 0
        },
        "id": "Igi0pZw2DHqj",
        "outputId": "28fa0644-c9c3-4f0c-8575-17272113ff29"
      },
      "source": [
        "# จัดการ missing\n",
        "data_cases.isnull()"
      ],
      "execution_count": 14,
      "outputs": [
        {
          "output_type": "execute_result",
          "data": {
            "text/html": [
              "<div>\n",
              "<style scoped>\n",
              "    .dataframe tbody tr th:only-of-type {\n",
              "        vertical-align: middle;\n",
              "    }\n",
              "\n",
              "    .dataframe tbody tr th {\n",
              "        vertical-align: top;\n",
              "    }\n",
              "\n",
              "    .dataframe thead th {\n",
              "        text-align: right;\n",
              "    }\n",
              "</style>\n",
              "<table border=\"1\" class=\"dataframe\">\n",
              "  <thead>\n",
              "    <tr style=\"text-align: right;\">\n",
              "      <th></th>\n",
              "      <th>No.</th>\n",
              "      <th>announce_date</th>\n",
              "      <th>Notified date</th>\n",
              "      <th>sex</th>\n",
              "      <th>age</th>\n",
              "      <th>Unit</th>\n",
              "      <th>nationality</th>\n",
              "      <th>province_of_isolation</th>\n",
              "      <th>risk</th>\n",
              "      <th>province_of_onset</th>\n",
              "      <th>district_of_onset</th>\n",
              "    </tr>\n",
              "  </thead>\n",
              "  <tbody>\n",
              "    <tr>\n",
              "      <th>0</th>\n",
              "      <td>False</td>\n",
              "      <td>False</td>\n",
              "      <td>True</td>\n",
              "      <td>False</td>\n",
              "      <td>False</td>\n",
              "      <td>False</td>\n",
              "      <td>False</td>\n",
              "      <td>False</td>\n",
              "      <td>False</td>\n",
              "      <td>False</td>\n",
              "      <td>True</td>\n",
              "    </tr>\n",
              "    <tr>\n",
              "      <th>1</th>\n",
              "      <td>False</td>\n",
              "      <td>False</td>\n",
              "      <td>True</td>\n",
              "      <td>False</td>\n",
              "      <td>False</td>\n",
              "      <td>False</td>\n",
              "      <td>False</td>\n",
              "      <td>False</td>\n",
              "      <td>False</td>\n",
              "      <td>False</td>\n",
              "      <td>True</td>\n",
              "    </tr>\n",
              "    <tr>\n",
              "      <th>2</th>\n",
              "      <td>False</td>\n",
              "      <td>False</td>\n",
              "      <td>True</td>\n",
              "      <td>False</td>\n",
              "      <td>False</td>\n",
              "      <td>False</td>\n",
              "      <td>False</td>\n",
              "      <td>False</td>\n",
              "      <td>False</td>\n",
              "      <td>False</td>\n",
              "      <td>False</td>\n",
              "    </tr>\n",
              "    <tr>\n",
              "      <th>3</th>\n",
              "      <td>False</td>\n",
              "      <td>False</td>\n",
              "      <td>True</td>\n",
              "      <td>False</td>\n",
              "      <td>False</td>\n",
              "      <td>False</td>\n",
              "      <td>False</td>\n",
              "      <td>False</td>\n",
              "      <td>False</td>\n",
              "      <td>False</td>\n",
              "      <td>True</td>\n",
              "    </tr>\n",
              "    <tr>\n",
              "      <th>4</th>\n",
              "      <td>False</td>\n",
              "      <td>False</td>\n",
              "      <td>True</td>\n",
              "      <td>False</td>\n",
              "      <td>False</td>\n",
              "      <td>False</td>\n",
              "      <td>False</td>\n",
              "      <td>False</td>\n",
              "      <td>False</td>\n",
              "      <td>False</td>\n",
              "      <td>True</td>\n",
              "    </tr>\n",
              "    <tr>\n",
              "      <th>...</th>\n",
              "      <td>...</td>\n",
              "      <td>...</td>\n",
              "      <td>...</td>\n",
              "      <td>...</td>\n",
              "      <td>...</td>\n",
              "      <td>...</td>\n",
              "      <td>...</td>\n",
              "      <td>...</td>\n",
              "      <td>...</td>\n",
              "      <td>...</td>\n",
              "      <td>...</td>\n",
              "    </tr>\n",
              "    <tr>\n",
              "      <th>512617</th>\n",
              "      <td>False</td>\n",
              "      <td>False</td>\n",
              "      <td>False</td>\n",
              "      <td>False</td>\n",
              "      <td>True</td>\n",
              "      <td>True</td>\n",
              "      <td>True</td>\n",
              "      <td>False</td>\n",
              "      <td>False</td>\n",
              "      <td>True</td>\n",
              "      <td>True</td>\n",
              "    </tr>\n",
              "    <tr>\n",
              "      <th>512618</th>\n",
              "      <td>False</td>\n",
              "      <td>False</td>\n",
              "      <td>False</td>\n",
              "      <td>False</td>\n",
              "      <td>True</td>\n",
              "      <td>True</td>\n",
              "      <td>True</td>\n",
              "      <td>False</td>\n",
              "      <td>False</td>\n",
              "      <td>True</td>\n",
              "      <td>True</td>\n",
              "    </tr>\n",
              "    <tr>\n",
              "      <th>512619</th>\n",
              "      <td>False</td>\n",
              "      <td>False</td>\n",
              "      <td>False</td>\n",
              "      <td>False</td>\n",
              "      <td>True</td>\n",
              "      <td>True</td>\n",
              "      <td>True</td>\n",
              "      <td>False</td>\n",
              "      <td>False</td>\n",
              "      <td>True</td>\n",
              "      <td>True</td>\n",
              "    </tr>\n",
              "    <tr>\n",
              "      <th>512620</th>\n",
              "      <td>False</td>\n",
              "      <td>False</td>\n",
              "      <td>False</td>\n",
              "      <td>False</td>\n",
              "      <td>True</td>\n",
              "      <td>True</td>\n",
              "      <td>True</td>\n",
              "      <td>False</td>\n",
              "      <td>False</td>\n",
              "      <td>True</td>\n",
              "      <td>True</td>\n",
              "    </tr>\n",
              "    <tr>\n",
              "      <th>512621</th>\n",
              "      <td>False</td>\n",
              "      <td>False</td>\n",
              "      <td>False</td>\n",
              "      <td>False</td>\n",
              "      <td>True</td>\n",
              "      <td>True</td>\n",
              "      <td>True</td>\n",
              "      <td>False</td>\n",
              "      <td>False</td>\n",
              "      <td>True</td>\n",
              "      <td>True</td>\n",
              "    </tr>\n",
              "  </tbody>\n",
              "</table>\n",
              "<p>512622 rows × 11 columns</p>\n",
              "</div>"
            ],
            "text/plain": [
              "          No.  announce_date  ...  province_of_onset  district_of_onset\n",
              "0       False          False  ...              False               True\n",
              "1       False          False  ...              False               True\n",
              "2       False          False  ...              False              False\n",
              "3       False          False  ...              False               True\n",
              "4       False          False  ...              False               True\n",
              "...       ...            ...  ...                ...                ...\n",
              "512617  False          False  ...               True               True\n",
              "512618  False          False  ...               True               True\n",
              "512619  False          False  ...               True               True\n",
              "512620  False          False  ...               True               True\n",
              "512621  False          False  ...               True               True\n",
              "\n",
              "[512622 rows x 11 columns]"
            ]
          },
          "metadata": {
            "tags": []
          },
          "execution_count": 14
        }
      ]
    },
    {
      "cell_type": "code",
      "metadata": {
        "colab": {
          "base_uri": "https://localhost:8080/"
        },
        "id": "mtnAiKf8GJDQ",
        "outputId": "3684be78-0042-41be-f578-1787efce16ed"
      },
      "source": [
        "# สรุปข้อมูลแบบ column\n",
        "data_cases.isnull().any()"
      ],
      "execution_count": 15,
      "outputs": [
        {
          "output_type": "execute_result",
          "data": {
            "text/plain": [
              "No.                      False\n",
              "announce_date            False\n",
              "Notified date             True\n",
              "sex                       True\n",
              "age                       True\n",
              "Unit                      True\n",
              "nationality               True\n",
              "province_of_isolation     True\n",
              "risk                      True\n",
              "province_of_onset         True\n",
              "district_of_onset         True\n",
              "dtype: bool"
            ]
          },
          "metadata": {
            "tags": []
          },
          "execution_count": 15
        }
      ]
    },
    {
      "cell_type": "markdown",
      "metadata": {
        "id": "G7fTYDIIGmfg"
      },
      "source": [
        "## Handling Missing Value 1 (ลบค่า missing)"
      ]
    },
    {
      "cell_type": "code",
      "metadata": {
        "colab": {
          "base_uri": "https://localhost:8080/",
          "height": 0
        },
        "id": "x6Lh8UnOGdGC",
        "outputId": "599cf1df-57e4-48a9-f88c-75c47379dd71"
      },
      "source": [
        "plt.boxplot(data_cases['age'].dropna())"
      ],
      "execution_count": 16,
      "outputs": [
        {
          "output_type": "execute_result",
          "data": {
            "text/plain": [
              "{'boxes': [<matplotlib.lines.Line2D at 0x7fa3b5123e50>],\n",
              " 'caps': [<matplotlib.lines.Line2D at 0x7fa3b512bf50>,\n",
              "  <matplotlib.lines.Line2D at 0x7fa3b51304d0>],\n",
              " 'fliers': [<matplotlib.lines.Line2D at 0x7fa3b5130f90>],\n",
              " 'means': [],\n",
              " 'medians': [<matplotlib.lines.Line2D at 0x7fa3b5130a50>],\n",
              " 'whiskers': [<matplotlib.lines.Line2D at 0x7fa3b512b4d0>,\n",
              "  <matplotlib.lines.Line2D at 0x7fa3b512ba10>]}"
            ]
          },
          "metadata": {
            "tags": []
          },
          "execution_count": 16
        },
        {
          "output_type": "display_data",
          "data": {
            "image/png": "[encoded data removed]",
            "text/plain": [
              "<Figure size 432x288 with 1 Axes>"
            ]
          },
          "metadata": {
            "tags": [],
            "needs_background": "light"
          }
        }
      ]
    },
    {
      "cell_type": "code",
      "metadata": {
        "colab": {
          "base_uri": "https://localhost:8080/",
          "height": 0
        },
        "id": "6CorpItnH0MK",
        "outputId": "ae519f66-f900-4d22-983e-cd5fe54a59c6"
      },
      "source": [
        "data_cases.dropna()"
      ],
      "execution_count": 17,
      "outputs": [
        {
          "output_type": "execute_result",
          "data": {
            "text/html": [
              "<div>\n",
              "<style scoped>\n",
              "    .dataframe tbody tr th:only-of-type {\n",
              "        vertical-align: middle;\n",
              "    }\n",
              "\n",
              "    .dataframe tbody tr th {\n",
              "        vertical-align: top;\n",
              "    }\n",
              "\n",
              "    .dataframe thead th {\n",
              "        text-align: right;\n",
              "    }\n",
              "</style>\n",
              "<table border=\"1\" class=\"dataframe\">\n",
              "  <thead>\n",
              "    <tr style=\"text-align: right;\">\n",
              "      <th></th>\n",
              "      <th>No.</th>\n",
              "      <th>announce_date</th>\n",
              "      <th>Notified date</th>\n",
              "      <th>sex</th>\n",
              "      <th>age</th>\n",
              "      <th>Unit</th>\n",
              "      <th>nationality</th>\n",
              "      <th>province_of_isolation</th>\n",
              "      <th>risk</th>\n",
              "      <th>province_of_onset</th>\n",
              "      <th>district_of_onset</th>\n",
              "    </tr>\n",
              "  </thead>\n",
              "  <tbody>\n",
              "    <tr>\n",
              "      <th>47</th>\n",
              "      <td>48</td>\n",
              "      <td>6/3/2020</td>\n",
              "      <td>4/3/2020</td>\n",
              "      <td>ชาย</td>\n",
              "      <td>43.0</td>\n",
              "      <td>ปี</td>\n",
              "      <td>United Kingdom</td>\n",
              "      <td>กรุงเทพมหานคร</td>\n",
              "      <td>คนต่างชาติเดินทางมาจากต่างประเทศ</td>\n",
              "      <td>กรุงเทพมหานคร</td>\n",
              "      <td>คลองตัน</td>\n",
              "    </tr>\n",
              "    <tr>\n",
              "      <th>124</th>\n",
              "      <td>125</td>\n",
              "      <td>6/3/2021</td>\n",
              "      <td>5/3/2021</td>\n",
              "      <td>หญิง</td>\n",
              "      <td>55.0</td>\n",
              "      <td>ปี</td>\n",
              "      <td>Thailand</td>\n",
              "      <td>ปทุมธานี</td>\n",
              "      <td>Cluster ตลาดพรพัฒน์</td>\n",
              "      <td>ปทุมธานี</td>\n",
              "      <td>ธัญบุรี</td>\n",
              "    </tr>\n",
              "    <tr>\n",
              "      <th>161</th>\n",
              "      <td>162</td>\n",
              "      <td>17/3/2020</td>\n",
              "      <td>21/3/2020</td>\n",
              "      <td>ชาย</td>\n",
              "      <td>14.0</td>\n",
              "      <td>ปี</td>\n",
              "      <td>Thailand</td>\n",
              "      <td>สุราษฎร์ธานี</td>\n",
              "      <td>สัมผัสใกล้ชิดกับผู้ป่วยยืนยันรายก่อนหน้านี้</td>\n",
              "      <td>สุราษฎร์ธานี</td>\n",
              "      <td>เมือง</td>\n",
              "    </tr>\n",
              "    <tr>\n",
              "      <th>181</th>\n",
              "      <td>182</td>\n",
              "      <td>18/3/2020</td>\n",
              "      <td>15/3/2020</td>\n",
              "      <td>ชาย</td>\n",
              "      <td>33.0</td>\n",
              "      <td>ปี</td>\n",
              "      <td>Thailand</td>\n",
              "      <td>ขอนแก่น</td>\n",
              "      <td>สนามมวย</td>\n",
              "      <td>ขอนแก่น</td>\n",
              "      <td>เมือง</td>\n",
              "    </tr>\n",
              "    <tr>\n",
              "      <th>186</th>\n",
              "      <td>187</td>\n",
              "      <td>18/3/2020</td>\n",
              "      <td>16/3/2020</td>\n",
              "      <td>ชาย</td>\n",
              "      <td>36.0</td>\n",
              "      <td>ปี</td>\n",
              "      <td>Thailand</td>\n",
              "      <td>ร้อยเอ็ด</td>\n",
              "      <td>สนามมวย</td>\n",
              "      <td>ร้อยเอ็ด</td>\n",
              "      <td>เชียงขวัญ</td>\n",
              "    </tr>\n",
              "    <tr>\n",
              "      <th>...</th>\n",
              "      <td>...</td>\n",
              "      <td>...</td>\n",
              "      <td>...</td>\n",
              "      <td>...</td>\n",
              "      <td>...</td>\n",
              "      <td>...</td>\n",
              "      <td>...</td>\n",
              "      <td>...</td>\n",
              "      <td>...</td>\n",
              "      <td>...</td>\n",
              "      <td>...</td>\n",
              "    </tr>\n",
              "    <tr>\n",
              "      <th>511575</th>\n",
              "      <td>511576</td>\n",
              "      <td>26/7/2021</td>\n",
              "      <td>25/7/2021</td>\n",
              "      <td>ชาย</td>\n",
              "      <td>50.0</td>\n",
              "      <td>ปี</td>\n",
              "      <td>Thailand</td>\n",
              "      <td>กรุงเทพมหานคร</td>\n",
              "      <td>การค้นหาผู้ป่วยเชิงรุกและค้นหาผู้ติดเชื้อในชุมชน</td>\n",
              "      <td>กรุงเทพมหานคร</td>\n",
              "      <td>มีนบุรี</td>\n",
              "    </tr>\n",
              "    <tr>\n",
              "      <th>511577</th>\n",
              "      <td>511578</td>\n",
              "      <td>26/7/2021</td>\n",
              "      <td>25/7/2021</td>\n",
              "      <td>หญิง</td>\n",
              "      <td>42.0</td>\n",
              "      <td>ปี</td>\n",
              "      <td>Thailand</td>\n",
              "      <td>กรุงเทพมหานคร</td>\n",
              "      <td>การค้นหาผู้ป่วยเชิงรุกและค้นหาผู้ติดเชื้อในชุมชน</td>\n",
              "      <td>กรุงเทพมหานคร</td>\n",
              "      <td>บางบอน</td>\n",
              "    </tr>\n",
              "    <tr>\n",
              "      <th>511578</th>\n",
              "      <td>511579</td>\n",
              "      <td>26/7/2021</td>\n",
              "      <td>25/7/2021</td>\n",
              "      <td>ชาย</td>\n",
              "      <td>32.0</td>\n",
              "      <td>ปี</td>\n",
              "      <td>Thailand</td>\n",
              "      <td>กรุงเทพมหานคร</td>\n",
              "      <td>การค้นหาผู้ป่วยเชิงรุกและค้นหาผู้ติดเชื้อในชุมชน</td>\n",
              "      <td>กรุงเทพมหานคร</td>\n",
              "      <td>ทุ่งครุ</td>\n",
              "    </tr>\n",
              "    <tr>\n",
              "      <th>511579</th>\n",
              "      <td>511580</td>\n",
              "      <td>26/7/2021</td>\n",
              "      <td>25/7/2021</td>\n",
              "      <td>ชาย</td>\n",
              "      <td>37.0</td>\n",
              "      <td>ปี</td>\n",
              "      <td>Thailand</td>\n",
              "      <td>กรุงเทพมหานคร</td>\n",
              "      <td>การค้นหาผู้ป่วยเชิงรุกและค้นหาผู้ติดเชื้อในชุมชน</td>\n",
              "      <td>กรุงเทพมหานคร</td>\n",
              "      <td>พญาไท</td>\n",
              "    </tr>\n",
              "    <tr>\n",
              "      <th>511580</th>\n",
              "      <td>511581</td>\n",
              "      <td>26/7/2021</td>\n",
              "      <td>25/7/2021</td>\n",
              "      <td>ชาย</td>\n",
              "      <td>44.0</td>\n",
              "      <td>ปี</td>\n",
              "      <td>Thailand</td>\n",
              "      <td>กรุงเทพมหานคร</td>\n",
              "      <td>การค้นหาผู้ป่วยเชิงรุกและค้นหาผู้ติดเชื้อในชุมชน</td>\n",
              "      <td>กรุงเทพมหานคร</td>\n",
              "      <td>มีนบุรี</td>\n",
              "    </tr>\n",
              "  </tbody>\n",
              "</table>\n",
              "<p>362205 rows × 11 columns</p>\n",
              "</div>"
            ],
            "text/plain": [
              "           No. announce_date  ... province_of_onset district_of_onset\n",
              "47          48      6/3/2020  ...     กรุงเทพมหานคร           คลองตัน\n",
              "124        125      6/3/2021  ...          ปทุมธานี           ธัญบุรี\n",
              "161        162     17/3/2020  ...      สุราษฎร์ธานี             เมือง\n",
              "181        182     18/3/2020  ...           ขอนแก่น             เมือง\n",
              "186        187     18/3/2020  ...          ร้อยเอ็ด         เชียงขวัญ\n",
              "...        ...           ...  ...               ...               ...\n",
              "511575  511576     26/7/2021  ...     กรุงเทพมหานคร           มีนบุรี\n",
              "511577  511578     26/7/2021  ...     กรุงเทพมหานคร            บางบอน\n",
              "511578  511579     26/7/2021  ...     กรุงเทพมหานคร           ทุ่งครุ\n",
              "511579  511580     26/7/2021  ...     กรุงเทพมหานคร             พญาไท\n",
              "511580  511581     26/7/2021  ...     กรุงเทพมหานคร           มีนบุรี\n",
              "\n",
              "[362205 rows x 11 columns]"
            ]
          },
          "metadata": {
            "tags": []
          },
          "execution_count": 17
        }
      ]
    },
    {
      "cell_type": "code",
      "metadata": {
        "colab": {
          "base_uri": "https://localhost:8080/"
        },
        "id": "Sz9SNxiPIRvY",
        "outputId": "de11f040-e360-4694-e462-7ee06d617deb"
      },
      "source": [
        "data_cases.dropna().shape"
      ],
      "execution_count": 18,
      "outputs": [
        {
          "output_type": "execute_result",
          "data": {
            "text/plain": [
              "(362205, 11)"
            ]
          },
          "metadata": {
            "tags": []
          },
          "execution_count": 18
        }
      ]
    },
    {
      "cell_type": "code",
      "metadata": {
        "colab": {
          "base_uri": "https://localhost:8080/"
        },
        "id": "gkXvOe3pIcCl",
        "outputId": "7a9fc8a7-7512-4b8a-9e14-195cfdffa630"
      },
      "source": [
        "# สามารถเลือกตัวได้\n",
        "data_cases.dropna().shape[0]"
      ],
      "execution_count": 19,
      "outputs": [
        {
          "output_type": "execute_result",
          "data": {
            "text/plain": [
              "362205"
            ]
          },
          "metadata": {
            "tags": []
          },
          "execution_count": 19
        }
      ]
    },
    {
      "cell_type": "markdown",
      "metadata": {
        "id": "dw47XTp_IPO5"
      },
      "source": [
        "# Quiz 3 ให้หาว่า การทำ dropna() ทำให้ข้อมูลหายไปกี่ %\n",
        "\n",
        "```\n",
        "size before drop = 1000\n",
        "size aftre drop = 10\n",
        "we loss 99% of data\n",
        "```"
      ]
    },
    {
      "cell_type": "code",
      "metadata": {
        "colab": {
          "base_uri": "https://localhost:8080/"
        },
        "id": "3lRw_Qm7K6om",
        "outputId": "26d7fe61-3aee-44e7-a64f-971277f3a8ce"
      },
      "source": [
        "removed = data_cases.shape[0] - data_cases.dropna().shape[0]\n",
        "\n",
        "print(f'size before drop = {data_cases.shape[0]}')\n",
        "print(f'size aftre drop = {data_cases.dropna().shape[0]}')\n",
        "print(f'we loss {100*(removed/data_cases.shape[0])}% of data')"
      ],
      "execution_count": 20,
      "outputs": [
        {
          "output_type": "stream",
          "text": [
            "size before drop = 512622\n",
            "size aftre drop = 362205\n",
            "we loss 29.342673548930794% of data\n"
          ],
          "name": "stdout"
        }
      ]
    },
    {
      "cell_type": "markdown",
      "metadata": {
        "id": "JLMt4szaOh30"
      },
      "source": [
        "## Handling Missing Value 1.5 (ลบค่า missing เฉพาะใน column ที่เราสนใจ)"
      ]
    },
    {
      "cell_type": "code",
      "metadata": {
        "id": "ncvZqMclNHt7"
      },
      "source": [
        "data_cases_nomissingAge = data_cases.dropna(subset=['age'])"
      ],
      "execution_count": 21,
      "outputs": []
    },
    {
      "cell_type": "code",
      "metadata": {
        "colab": {
          "base_uri": "https://localhost:8080/",
          "height": 0
        },
        "id": "IjJ2B7tdNHrg",
        "outputId": "b63f0056-f82b-4802-eddd-7652f80c065c"
      },
      "source": [
        "plt.boxplot(data_cases_nomissingAge['age'])"
      ],
      "execution_count": 22,
      "outputs": [
        {
          "output_type": "execute_result",
          "data": {
            "text/plain": [
              "{'boxes': [<matplotlib.lines.Line2D at 0x7fa3b4612f90>],\n",
              " 'caps': [<matplotlib.lines.Line2D at 0x7fa3b46210d0>,\n",
              "  <matplotlib.lines.Line2D at 0x7fa3b4621610>],\n",
              " 'fliers': [<matplotlib.lines.Line2D at 0x7fa3b4629110>],\n",
              " 'means': [],\n",
              " 'medians': [<matplotlib.lines.Line2D at 0x7fa3b4621b90>],\n",
              " 'whiskers': [<matplotlib.lines.Line2D at 0x7fa3b461a610>,\n",
              "  <matplotlib.lines.Line2D at 0x7fa3b461ab50>]}"
            ]
          },
          "metadata": {
            "tags": []
          },
          "execution_count": 22
        },
        {
          "output_type": "display_data",
          "data": {
            "image/png": "[encoded data removed]",
            "text/plain": [
              "<Figure size 432x288 with 1 Axes>"
            ]
          },
          "metadata": {
            "tags": [],
            "needs_background": "light"
          }
        }
      ]
    },
    {
      "cell_type": "markdown",
      "metadata": {
        "id": "twBvkKy5Po-0"
      },
      "source": [
        "# Quiz 3.1 ให้หาว่า การทำ dropna() แบบเลือก drop เฉพาะ column ที่เราสนใจ (age) ทำให้ข้อมูลหายไปกี่ %\n"
      ]
    },
    {
      "cell_type": "code",
      "metadata": {
        "colab": {
          "base_uri": "https://localhost:8080/"
        },
        "id": "JdAfOkn8Pl7N",
        "outputId": "4c0f1d09-a79e-42c7-ed1c-7ccb2553a777"
      },
      "source": [
        "removed = data_cases.shape[0] - data_cases_nomissingAge.shape[0]\n",
        "\n",
        "print(f'size before drop = {data_cases.shape[0]}')\n",
        "print(f'size aftre drop = {data_cases_nomissingAge.shape[0]}')\n",
        "print(f'we loss {100*(removed/data_cases.shape[0])}% of data')"
      ],
      "execution_count": 23,
      "outputs": [
        {
          "output_type": "stream",
          "text": [
            "size before drop = 512622\n",
            "size aftre drop = 462839\n",
            "we loss 9.711444300088564% of data\n"
          ],
          "name": "stdout"
        }
      ]
    },
    {
      "cell_type": "markdown",
      "metadata": {
        "id": "S90BqdTeSq93"
      },
      "source": [
        "## Handling Missing Value 2 (แทนด้วย class ใหม่(unknown))"
      ]
    },
    {
      "cell_type": "code",
      "metadata": {
        "colab": {
          "base_uri": "https://localhost:8080/",
          "height": 0
        },
        "id": "iUQ73kT1RCVg",
        "outputId": "ce0561bc-2561-4051-8fb1-ab284ea6d555"
      },
      "source": [
        "data_cases"
      ],
      "execution_count": 24,
      "outputs": [
        {
          "output_type": "execute_result",
          "data": {
            "text/html": [
              "<div>\n",
              "<style scoped>\n",
              "    .dataframe tbody tr th:only-of-type {\n",
              "        vertical-align: middle;\n",
              "    }\n",
              "\n",
              "    .dataframe tbody tr th {\n",
              "        vertical-align: top;\n",
              "    }\n",
              "\n",
              "    .dataframe thead th {\n",
              "        text-align: right;\n",
              "    }\n",
              "</style>\n",
              "<table border=\"1\" class=\"dataframe\">\n",
              "  <thead>\n",
              "    <tr style=\"text-align: right;\">\n",
              "      <th></th>\n",
              "      <th>No.</th>\n",
              "      <th>announce_date</th>\n",
              "      <th>Notified date</th>\n",
              "      <th>sex</th>\n",
              "      <th>age</th>\n",
              "      <th>Unit</th>\n",
              "      <th>nationality</th>\n",
              "      <th>province_of_isolation</th>\n",
              "      <th>risk</th>\n",
              "      <th>province_of_onset</th>\n",
              "      <th>district_of_onset</th>\n",
              "    </tr>\n",
              "  </thead>\n",
              "  <tbody>\n",
              "    <tr>\n",
              "      <th>0</th>\n",
              "      <td>1</td>\n",
              "      <td>12/1/2020</td>\n",
              "      <td>NaN</td>\n",
              "      <td>หญิง</td>\n",
              "      <td>61.0</td>\n",
              "      <td>ปี</td>\n",
              "      <td>China</td>\n",
              "      <td>กรุงเทพมหานคร</td>\n",
              "      <td>คนต่างชาติเดินทางมาจากต่างประเทศ</td>\n",
              "      <td>กรุงเทพมหานคร</td>\n",
              "      <td>NaN</td>\n",
              "    </tr>\n",
              "    <tr>\n",
              "      <th>1</th>\n",
              "      <td>2</td>\n",
              "      <td>17/1/2020</td>\n",
              "      <td>NaN</td>\n",
              "      <td>หญิง</td>\n",
              "      <td>74.0</td>\n",
              "      <td>ปี</td>\n",
              "      <td>China</td>\n",
              "      <td>กรุงเทพมหานคร</td>\n",
              "      <td>คนต่างชาติเดินทางมาจากต่างประเทศ</td>\n",
              "      <td>กรุงเทพมหานคร</td>\n",
              "      <td>NaN</td>\n",
              "    </tr>\n",
              "    <tr>\n",
              "      <th>2</th>\n",
              "      <td>3</td>\n",
              "      <td>22/1/2020</td>\n",
              "      <td>NaN</td>\n",
              "      <td>หญิง</td>\n",
              "      <td>73.0</td>\n",
              "      <td>ปี</td>\n",
              "      <td>Thailand</td>\n",
              "      <td>นครปฐม</td>\n",
              "      <td>คนต่างชาติเดินทางมาจากต่างประเทศ</td>\n",
              "      <td>นครปฐม</td>\n",
              "      <td>เมือง</td>\n",
              "    </tr>\n",
              "    <tr>\n",
              "      <th>3</th>\n",
              "      <td>4</td>\n",
              "      <td>22/1/2020</td>\n",
              "      <td>NaN</td>\n",
              "      <td>ชาย</td>\n",
              "      <td>68.0</td>\n",
              "      <td>ปี</td>\n",
              "      <td>China</td>\n",
              "      <td>กรุงเทพมหานคร</td>\n",
              "      <td>คนต่างชาติเดินทางมาจากต่างประเทศ</td>\n",
              "      <td>กรุงเทพมหานคร</td>\n",
              "      <td>NaN</td>\n",
              "    </tr>\n",
              "    <tr>\n",
              "      <th>4</th>\n",
              "      <td>5</td>\n",
              "      <td>24/1/2020</td>\n",
              "      <td>NaN</td>\n",
              "      <td>หญิง</td>\n",
              "      <td>66.0</td>\n",
              "      <td>ปี</td>\n",
              "      <td>China</td>\n",
              "      <td>นนทบุรี</td>\n",
              "      <td>คนต่างชาติเดินทางมาจากต่างประเทศ</td>\n",
              "      <td>กรุงเทพมหานคร</td>\n",
              "      <td>NaN</td>\n",
              "    </tr>\n",
              "    <tr>\n",
              "      <th>...</th>\n",
              "      <td>...</td>\n",
              "      <td>...</td>\n",
              "      <td>...</td>\n",
              "      <td>...</td>\n",
              "      <td>...</td>\n",
              "      <td>...</td>\n",
              "      <td>...</td>\n",
              "      <td>...</td>\n",
              "      <td>...</td>\n",
              "      <td>...</td>\n",
              "      <td>...</td>\n",
              "    </tr>\n",
              "    <tr>\n",
              "      <th>512617</th>\n",
              "      <td>512618</td>\n",
              "      <td>26/7/2021</td>\n",
              "      <td>25/7/2021</td>\n",
              "      <td>ชาย</td>\n",
              "      <td>NaN</td>\n",
              "      <td>NaN</td>\n",
              "      <td>NaN</td>\n",
              "      <td>ชลบุรี</td>\n",
              "      <td>ทัณฑสถาน/เรือนจำ</td>\n",
              "      <td>NaN</td>\n",
              "      <td>NaN</td>\n",
              "    </tr>\n",
              "    <tr>\n",
              "      <th>512618</th>\n",
              "      <td>512619</td>\n",
              "      <td>26/7/2021</td>\n",
              "      <td>25/7/2021</td>\n",
              "      <td>ชาย</td>\n",
              "      <td>NaN</td>\n",
              "      <td>NaN</td>\n",
              "      <td>NaN</td>\n",
              "      <td>ชลบุรี</td>\n",
              "      <td>ทัณฑสถาน/เรือนจำ</td>\n",
              "      <td>NaN</td>\n",
              "      <td>NaN</td>\n",
              "    </tr>\n",
              "    <tr>\n",
              "      <th>512619</th>\n",
              "      <td>512620</td>\n",
              "      <td>26/7/2021</td>\n",
              "      <td>25/7/2021</td>\n",
              "      <td>ชาย</td>\n",
              "      <td>NaN</td>\n",
              "      <td>NaN</td>\n",
              "      <td>NaN</td>\n",
              "      <td>ชลบุรี</td>\n",
              "      <td>ทัณฑสถาน/เรือนจำ</td>\n",
              "      <td>NaN</td>\n",
              "      <td>NaN</td>\n",
              "    </tr>\n",
              "    <tr>\n",
              "      <th>512620</th>\n",
              "      <td>512621</td>\n",
              "      <td>26/7/2021</td>\n",
              "      <td>25/7/2021</td>\n",
              "      <td>ชาย</td>\n",
              "      <td>NaN</td>\n",
              "      <td>NaN</td>\n",
              "      <td>NaN</td>\n",
              "      <td>ชลบุรี</td>\n",
              "      <td>ทัณฑสถาน/เรือนจำ</td>\n",
              "      <td>NaN</td>\n",
              "      <td>NaN</td>\n",
              "    </tr>\n",
              "    <tr>\n",
              "      <th>512621</th>\n",
              "      <td>512622</td>\n",
              "      <td>26/7/2021</td>\n",
              "      <td>25/7/2021</td>\n",
              "      <td>ชาย</td>\n",
              "      <td>NaN</td>\n",
              "      <td>NaN</td>\n",
              "      <td>NaN</td>\n",
              "      <td>ชลบุรี</td>\n",
              "      <td>ทัณฑสถาน/เรือนจำ</td>\n",
              "      <td>NaN</td>\n",
              "      <td>NaN</td>\n",
              "    </tr>\n",
              "  </tbody>\n",
              "</table>\n",
              "<p>512622 rows × 11 columns</p>\n",
              "</div>"
            ],
            "text/plain": [
              "           No. announce_date  ... province_of_onset district_of_onset\n",
              "0            1     12/1/2020  ...     กรุงเทพมหานคร               NaN\n",
              "1            2     17/1/2020  ...     กรุงเทพมหานคร               NaN\n",
              "2            3     22/1/2020  ...            นครปฐม             เมือง\n",
              "3            4     22/1/2020  ...     กรุงเทพมหานคร               NaN\n",
              "4            5     24/1/2020  ...     กรุงเทพมหานคร               NaN\n",
              "...        ...           ...  ...               ...               ...\n",
              "512617  512618     26/7/2021  ...               NaN               NaN\n",
              "512618  512619     26/7/2021  ...               NaN               NaN\n",
              "512619  512620     26/7/2021  ...               NaN               NaN\n",
              "512620  512621     26/7/2021  ...               NaN               NaN\n",
              "512621  512622     26/7/2021  ...               NaN               NaN\n",
              "\n",
              "[512622 rows x 11 columns]"
            ]
          },
          "metadata": {
            "tags": []
          },
          "execution_count": 24
        }
      ]
    },
    {
      "cell_type": "code",
      "metadata": {
        "id": "uGVTLld8TuJg"
      },
      "source": [
        "# เติมค่าว่างในช่องที่ไม่มีข้อมูล\n",
        "data_cases[['risk']] = data_cases[['risk']].fillna('ไม่มีข้อมูล')"
      ],
      "execution_count": 25,
      "outputs": []
    },
    {
      "cell_type": "code",
      "metadata": {
        "colab": {
          "base_uri": "https://localhost:8080/"
        },
        "id": "biu_UpSiWe-J",
        "outputId": "c87eb730-b472-45e6-dd23-bb5dfdef6317"
      },
      "source": [
        "set(data_cases['risk'])"
      ],
      "execution_count": 26,
      "outputs": [
        {
          "output_type": "execute_result",
          "data": {
            "text/plain": [
              "{'2.สัมผัสผู้ติดเชื้อ',\n",
              " 'ACF รองเมือง',\n",
              " 'ACF สนามกีฬาธูปะเตมีย์',\n",
              " 'ACF สนามกีฬาไทย-ญี่ปุ่น',\n",
              " 'ACF สีลม',\n",
              " 'ACF เคหะหลักสี่',\n",
              " 'Cluster Icon siam',\n",
              " \"Cluster Memory 90's กรุงเทพมหานคร\",\n",
              " 'Cluster New Jazz กรุงเทพมหานคร',\n",
              " 'Cluster The Lounge Salaya',\n",
              " 'Cluster กรุงเทพมหานคร. คลองเตย',\n",
              " 'Cluster คลองเตย',\n",
              " 'Cluster งานมอเตอร์ โชว์',\n",
              " 'Cluster จนท. สนามบินสุวรรณภูมิ',\n",
              " 'Cluster จันทบุรี',\n",
              " 'Cluster จันทบุรี (ชาวกินี )',\n",
              " 'Cluster จันทบุรี (ชาวกินี)',\n",
              " 'Cluster ชลบุรี',\n",
              " 'Cluster ชลบุรี บริษัทไดกิ้น',\n",
              " 'Cluster ชลบุรี โรงเบียร์ 90',\n",
              " 'Cluster ตราด',\n",
              " 'Cluster ตราด ',\n",
              " 'Cluster ตลาดนนทบุรี',\n",
              " 'Cluster ตลาดบางพลี',\n",
              " 'Cluster ตลาดบางแค',\n",
              " 'Cluster ตลาดบางแค/คลองขวาง',\n",
              " 'Cluster ตลาดพรพัฒน์',\n",
              " 'Cluster ตลาดสี่มุมเมือง',\n",
              " 'Cluster ทัณฑสถานหญิงกลาง',\n",
              " 'Cluster ทัณฑสถานโรงพยาบาลราชทัณฑ์',\n",
              " 'Cluster ทันฑสถานบำบัดพิเศษกลาง',\n",
              " 'Cluster บริษัทศรีสวัสดิ์',\n",
              " 'Cluster บางแค',\n",
              " 'Cluster บ่อนพัทยา/ชลบุรี',\n",
              " 'Cluster บ่อนเทพารักษ์',\n",
              " 'Cluster บ่อนไก่อ่างทอง',\n",
              " 'Cluster ปากช่อง',\n",
              " 'Cluster ผับ Thonglor',\n",
              " 'Cluster มหาสารคาม',\n",
              " 'Cluster ระยอง',\n",
              " 'Cluster ระยอง วิริยะประกันภัย',\n",
              " 'Cluster สถานบันเทิงย่านทองหล่อ',\n",
              " 'Cluster สมุทรปราการ (โรงงาน บริษัทเมทัล โปรดักส์)',\n",
              " 'Cluster สมุทรปราการ GRP Hightech',\n",
              " 'Cluster สมุทรปราการ ตลาดเคหะบางพลี',\n",
              " 'Cluster สมุทรสาคร',\n",
              " 'Cluster ห้างแสงทอง (สายล่าง)',\n",
              " 'Cluster เครือคัสเซ่อร์พีคโฮลดิ้ง (CPG,CPH)',\n",
              " 'Cluster เรือนจำกลางคลองเปรม',\n",
              " 'Cluster เรือนจำพิเศษกรุงเทพ',\n",
              " 'Cluster เรือนจำพิเศษธนบุรี',\n",
              " 'Cluster เรือนจำพิเศษมีนบุรี',\n",
              " 'Cluster โรงงาน  Big Star',\n",
              " 'Cluster โรงงาน Big Star',\n",
              " 'Cluster โรงงาน QPP ประจวบฯ',\n",
              " 'Cluster โรงงาน standard can',\n",
              " 'Cluster โรงงานทำขนม บางขุนเทียน',\n",
              " 'Refer in',\n",
              " 'SHUI',\n",
              " 'Sandbox',\n",
              " 'State Quarantine',\n",
              " 'cluster ชลบุรี\\n(อยู่ระหว่างการสอบสวน)',\n",
              " 'การค้นหาผู้ป่วยเชิงรุกและค้นหาผู้ติดเชื้อในชุมชน',\n",
              " 'คนต่างชาติเดินทางมาจากต่างประเทศ',\n",
              " 'คนไทยมาจากพื้นที่เสี่ยง',\n",
              " 'คนไทยเดินทางกลับจากต่างประเทศ',\n",
              " 'คนไทยเดินทางมาจากต่างประเทศ',\n",
              " 'ค้นหาเชิงรุก',\n",
              " 'ตรวจก่อนทำหัตถการ',\n",
              " 'ตรวจสุขภาพแรงงานต่างด้าว',\n",
              " 'ตลาด',\n",
              " 'ทัณฑสถาน/เรือนจำ',\n",
              " 'บุคลากรด้านการแพทย์และสาธารณสุข',\n",
              " 'ปอดอักเสบ (Pneumonia)',\n",
              " 'ปอดอักเสบ Pneumonia',\n",
              " 'ผับหัวหิน',\n",
              " 'ผู้ติดเชื้อในประเทศ',\n",
              " 'ผู้ที่เดินทางมาจากต่างประเทศ และเข้า AOQ',\n",
              " 'ผู้ที่เดินทางมาจากต่างประเทศ และเข้า ASQ/ALQ',\n",
              " 'ผู้ที่เดินทางมาจากต่างประเทศ และเข้า HQ/AHQ',\n",
              " 'ผู้ที่เดินทางมาจากต่างประเทศ และเข้า OQ',\n",
              " 'ผู้ป่วย PUI',\n",
              " 'ผู้ป่วย กรุงเทพมหานคร',\n",
              " 'ผู้เดินทางมาจากพื้นที่เสี่ยง กรุงเทพมหานคร.',\n",
              " 'พิธีกรรมทางศาสนา',\n",
              " 'รอประสาน',\n",
              " 'ระบุไม่ได้',\n",
              " 'ระหว่างการสอบสวนโรค',\n",
              " 'ระหว่างสอบสวน',\n",
              " 'รับจ้างขนของที่ตลาดท่ายาง',\n",
              " 'ร้านอาหาร',\n",
              " 'ศูนย์กักกัน ผู้ต้องกัก',\n",
              " 'สถานที่ทำงาน',\n",
              " 'สถานบันเทิง',\n",
              " 'สนามมวย',\n",
              " 'สัมผัสผู้ติดเชื้อยืนยัน\\nอยู่ระหว่างสอบสวน',\n",
              " 'สัมผัสผู้ติดเชื้อยืนยัน อยู่ระหว่างสอบสวน',\n",
              " 'สัมผัสผู้ป่วยที่ติดโควิด',\n",
              " 'สัมผัสผู้ป่วยยืนยัน',\n",
              " 'สัมผัสผู้ป่วยยืนยัน \\n อยู่ระหว่างสอบสวน',\n",
              " 'สัมผัสผู้ป่วยยืนยัน (ยังไม่สามารถระบุได้)',\n",
              " 'สัมผัสผู้ป่วยยืนยัน ภายในครอบครัว/ชุมชน/เพื่อน',\n",
              " 'สัมผัสผู้ป่วยยืนยัน อยุ๋ระหว่างสอบสวน',\n",
              " 'สัมผัสผู้ป่วยยืนยัน อยู่ระหว่างสอบสวน',\n",
              " 'สัมผัสผู้ป่วยยืนยันเพื่อนร่วมงาน',\n",
              " 'สัมผัสผู้เดินทางจากต่างประเทศ',\n",
              " 'สัมผัสสามีสะอาด เขตบ้าน (รพ.มหาชัย 2)',\n",
              " 'สัมผัสใกล้ชิดกับผู้ป่วยยืนยันรายก่อนหน้านี้',\n",
              " 'สัมผัสใกล้ชิดผู้ป่วยยันยันก่อนหน้า',\n",
              " 'สัมผัสใกล้ชิดผู้ป่วยยืนยันก่อนหน้า',\n",
              " 'สัมผัสในสถานพยาบาล',\n",
              " 'อยุ่ระหว่างสอบสวน',\n",
              " 'อยู่ระหว่างการสอบสวน',\n",
              " 'อยู่ระหว่างการสอบสวน\\n',\n",
              " 'อยู่ระหว่างสอบสวน',\n",
              " 'อยู่ระหว่างสอบสวนโรค',\n",
              " 'อาชีพเสี่ยง เช่น ทำงานในสถานที่แออัด หรือทำงานใกล้ชิดสัมผัสชาวต่างชาติ เป็นต้น',\n",
              " 'อาศัย/เดินทางไปในพื้นที่ที่มีการระบาด',\n",
              " 'อื่น',\n",
              " 'อื่นๆ',\n",
              " 'เดินทางมาจากพื้นที่จังหวัดเสี่ยง',\n",
              " 'เดินทางมาจากพื้นที่มีการระบาดของโรค',\n",
              " 'เดินทางมาจากพื้นที่เสี่ยงที่มีการระบาดของโรค',\n",
              " 'แรงงานต่างด้าวตรวจก่อนขึ้นทะเบียน',\n",
              " 'ไปยัง/มาจาก พื้นที่ระบาดกรุงเทพมหานครมหานคร',\n",
              " 'ไปยังพื้นที่ที่มีการระบาด',\n",
              " 'ไปสถานที่ชุมชน เช่น ตลาดนัด สถานที่ท่องเที่ยว',\n",
              " 'ไปสถานที่เสี่ยง เช่น ตลาด สถานที่ชุมชน',\n",
              " 'ไปสถานที่แออัด เช่น งานแฟร์ คอนเสิร์ต',\n",
              " 'ไปเที่ยวสถานบันเทิงในอุบลที่พบการระบาดของโรค Ubar',\n",
              " 'ไปแหล่งชุมชน/สถานที่คนหนาแน่น',\n",
              " 'ไม่มีข้อมูล'}"
            ]
          },
          "metadata": {
            "tags": []
          },
          "execution_count": 26
        }
      ]
    },
    {
      "cell_type": "markdown",
      "metadata": {
        "id": "-M5q7U_qXFRB"
      },
      "source": [
        "## Handling Missing Value 3 (แทนด้วย class ใหม่(ค่าที่เหมาะสม))"
      ]
    },
    {
      "cell_type": "code",
      "metadata": {
        "colab": {
          "base_uri": "https://localhost:8080/"
        },
        "id": "NoWsRd73WK-T",
        "outputId": "cec841a5-3869-4c33-cf5f-8cfafeb9be9b"
      },
      "source": [
        "set(data_cases['Unit'])"
      ],
      "execution_count": 27,
      "outputs": [
        {
          "output_type": "execute_result",
          "data": {
            "text/plain": [
              "{' วัน', ' เดือน', nan, 'ปี', 'วัน', 'เดือน'}"
            ]
          },
          "metadata": {
            "tags": []
          },
          "execution_count": 27
        }
      ]
    },
    {
      "cell_type": "code",
      "metadata": {
        "id": "uCQ0iL8SXe6s"
      },
      "source": [
        "# เติมค่าว่างในช่องที่ไม่มีข้อมูล\n",
        "data_cases[['Unit']] = data_cases[['Unit']].fillna('ปี?')"
      ],
      "execution_count": 28,
      "outputs": []
    },
    {
      "cell_type": "code",
      "metadata": {
        "colab": {
          "base_uri": "https://localhost:8080/"
        },
        "id": "_Fdxw6SWYEcn",
        "outputId": "6f950248-73ef-43ff-be01-16c5b98c44b6"
      },
      "source": [
        "data_cases.isnull().any()"
      ],
      "execution_count": 29,
      "outputs": [
        {
          "output_type": "execute_result",
          "data": {
            "text/plain": [
              "No.                      False\n",
              "announce_date            False\n",
              "Notified date             True\n",
              "sex                       True\n",
              "age                       True\n",
              "Unit                     False\n",
              "nationality               True\n",
              "province_of_isolation     True\n",
              "risk                     False\n",
              "province_of_onset         True\n",
              "district_of_onset         True\n",
              "dtype: bool"
            ]
          },
          "metadata": {
            "tags": []
          },
          "execution_count": 29
        }
      ]
    },
    {
      "cell_type": "markdown",
      "metadata": {
        "id": "Yv9hXCFRGzsm"
      },
      "source": [
        "## Handling Missing Value 4 (แทนด้วย ค่ากลาง)"
      ]
    },
    {
      "cell_type": "markdown",
      "metadata": {
        "id": "fwL2fGq9HDx7"
      },
      "source": [
        "ถ้าเป็น numeric ใช้ mean"
      ]
    },
    {
      "cell_type": "code",
      "metadata": {
        "id": "Cl61Hzl51elV",
        "colab": {
          "base_uri": "https://localhost:8080/"
        },
        "outputId": "1bc885b7-db8b-4119-fd38-2e2cb2b71b46"
      },
      "source": [
        "data_cases[['age']].mean(skipna=True)"
      ],
      "execution_count": 30,
      "outputs": [
        {
          "output_type": "execute_result",
          "data": {
            "text/plain": [
              "age    35.52947\n",
              "dtype: float64"
            ]
          },
          "metadata": {
            "tags": []
          },
          "execution_count": 30
        }
      ]
    },
    {
      "cell_type": "code",
      "metadata": {
        "id": "01aVwDQPJF-L",
        "colab": {
          "base_uri": "https://localhost:8080/"
        },
        "outputId": "6b73cb37-0b4a-4320-d97e-7845b0ee8fb1"
      },
      "source": [
        "data_cases[['age']].dropna().mean()"
      ],
      "execution_count": 31,
      "outputs": [
        {
          "output_type": "execute_result",
          "data": {
            "text/plain": [
              "age    35.52947\n",
              "dtype: float64"
            ]
          },
          "metadata": {
            "tags": []
          },
          "execution_count": 31
        }
      ]
    },
    {
      "cell_type": "code",
      "metadata": {
        "id": "nwo_xL32YJIg"
      },
      "source": [
        "# หา mean\n",
        "avg_age = data_cases[['age']].mean()\n",
        "# เติม mean ลงไปแทนค่า missing\n",
        "data_cases[['age']] = data_cases[['age']].fillna('avg_age')"
      ],
      "execution_count": 32,
      "outputs": []
    },
    {
      "cell_type": "code",
      "metadata": {
        "id": "_JKI1m-1KFth",
        "colab": {
          "base_uri": "https://localhost:8080/"
        },
        "outputId": "10de1740-93e2-447b-fa2d-724befeb1cfc"
      },
      "source": [
        "data_cases.isnull().any()"
      ],
      "execution_count": 33,
      "outputs": [
        {
          "output_type": "execute_result",
          "data": {
            "text/plain": [
              "No.                      False\n",
              "announce_date            False\n",
              "Notified date             True\n",
              "sex                       True\n",
              "age                      False\n",
              "Unit                     False\n",
              "nationality               True\n",
              "province_of_isolation     True\n",
              "risk                     False\n",
              "province_of_onset         True\n",
              "district_of_onset         True\n",
              "dtype: bool"
            ]
          },
          "metadata": {
            "tags": []
          },
          "execution_count": 33
        }
      ]
    },
    {
      "cell_type": "code",
      "metadata": {
        "id": "V8AFnZdoKaEa",
        "colab": {
          "base_uri": "https://localhost:8080/"
        },
        "outputId": "c79575c3-6220-4b65-d4c2-0ec75e07ada5"
      },
      "source": [
        "data_cases[['age']].mean()  # ค่า mean เท่าเดิม"
      ],
      "execution_count": 34,
      "outputs": [
        {
          "output_type": "execute_result",
          "data": {
            "text/plain": [
              "Series([], dtype: float64)"
            ]
          },
          "metadata": {
            "tags": []
          },
          "execution_count": 34
        }
      ]
    },
    {
      "cell_type": "markdown",
      "metadata": {
        "id": "lCf7tyn3LLiB"
      },
      "source": [
        "ถ้าเป็น norminal (ตัวหนังสือ) จะใช้ Mode"
      ]
    },
    {
      "cell_type": "code",
      "metadata": {
        "id": "WtmBoISLKw1H",
        "colab": {
          "base_uri": "https://localhost:8080/",
          "height": 0
        },
        "outputId": "4ca9462e-f5e3-4765-a6a9-4368ee4518e0"
      },
      "source": [
        "data_cases[['nationality']].mode()"
      ],
      "execution_count": 35,
      "outputs": [
        {
          "output_type": "execute_result",
          "data": {
            "text/html": [
              "<div>\n",
              "<style scoped>\n",
              "    .dataframe tbody tr th:only-of-type {\n",
              "        vertical-align: middle;\n",
              "    }\n",
              "\n",
              "    .dataframe tbody tr th {\n",
              "        vertical-align: top;\n",
              "    }\n",
              "\n",
              "    .dataframe thead th {\n",
              "        text-align: right;\n",
              "    }\n",
              "</style>\n",
              "<table border=\"1\" class=\"dataframe\">\n",
              "  <thead>\n",
              "    <tr style=\"text-align: right;\">\n",
              "      <th></th>\n",
              "      <th>nationality</th>\n",
              "    </tr>\n",
              "  </thead>\n",
              "  <tbody>\n",
              "    <tr>\n",
              "      <th>0</th>\n",
              "      <td>Thailand</td>\n",
              "    </tr>\n",
              "  </tbody>\n",
              "</table>\n",
              "</div>"
            ],
            "text/plain": [
              "  nationality\n",
              "0    Thailand"
            ]
          },
          "metadata": {
            "tags": []
          },
          "execution_count": 35
        }
      ]
    },
    {
      "cell_type": "code",
      "metadata": {
        "id": "8jcN6n0-MJbb"
      },
      "source": [
        "# หา Mode\n",
        "mode_nation = data_cases[['nationality']].mode().iloc[0,0]\n",
        "# เติม  mean ลงไปแทนค่า missing\n",
        "data_cases[['nationality']] = data_cases[['nationality']].fillna('mode_nation')"
      ],
      "execution_count": 36,
      "outputs": []
    },
    {
      "cell_type": "code",
      "metadata": {
        "id": "ku9Nmo5tMa25",
        "colab": {
          "base_uri": "https://localhost:8080/",
          "height": 0
        },
        "outputId": "eb92cd78-8b0b-43b1-8e73-36c2e3d971ce"
      },
      "source": [
        "data_cases[['nationality']].mode().iloc[0,0]"
      ],
      "execution_count": 37,
      "outputs": [
        {
          "output_type": "execute_result",
          "data": {
            "application/vnd.google.colaboratory.intrinsic+json": {
              "type": "string"
            },
            "text/plain": [
              "'Thailand'"
            ]
          },
          "metadata": {
            "tags": []
          },
          "execution_count": 37
        }
      ]
    },
    {
      "cell_type": "code",
      "metadata": {
        "id": "bn6HGQKf2FVF",
        "colab": {
          "base_uri": "https://localhost:8080/"
        },
        "outputId": "843b2588-95de-4e7d-8e0a-8397f242345c"
      },
      "source": [
        "data_cases['nationality'].mode()"
      ],
      "execution_count": 38,
      "outputs": [
        {
          "output_type": "execute_result",
          "data": {
            "text/plain": [
              "0    Thailand\n",
              "dtype: object"
            ]
          },
          "metadata": {
            "tags": []
          },
          "execution_count": 38
        }
      ]
    },
    {
      "cell_type": "code",
      "metadata": {
        "id": "scOwI_022FSo",
        "colab": {
          "base_uri": "https://localhost:8080/"
        },
        "outputId": "d36b201c-8b10-471c-d167-f426728692db"
      },
      "source": [
        "data_cases.isnull().any()"
      ],
      "execution_count": 39,
      "outputs": [
        {
          "output_type": "execute_result",
          "data": {
            "text/plain": [
              "No.                      False\n",
              "announce_date            False\n",
              "Notified date             True\n",
              "sex                       True\n",
              "age                      False\n",
              "Unit                     False\n",
              "nationality              False\n",
              "province_of_isolation     True\n",
              "risk                     False\n",
              "province_of_onset         True\n",
              "district_of_onset         True\n",
              "dtype: bool"
            ]
          },
          "metadata": {
            "tags": []
          },
          "execution_count": 39
        }
      ]
    },
    {
      "cell_type": "markdown",
      "metadata": {
        "id": "H6TXgqXwOOY0"
      },
      "source": [
        "ถ้าเป็น ordinal ใช้ mean"
      ]
    },
    {
      "cell_type": "markdown",
      "metadata": {
        "id": "fee2Ryv7RZDB"
      },
      "source": [
        "# เติมด้วยค่าของ column ใกล้เคียง (เดี๋ยวย้อนกลับมา)"
      ]
    },
    {
      "cell_type": "code",
      "metadata": {
        "id": "IqfJFMYwMdoy",
        "colab": {
          "base_uri": "https://localhost:8080/",
          "height": 703
        },
        "outputId": "b1c47c73-05fc-4b86-fe2e-f81040a49960"
      },
      "source": [
        "data_cases.head(20)"
      ],
      "execution_count": 40,
      "outputs": [
        {
          "output_type": "execute_result",
          "data": {
            "text/html": [
              "<div>\n",
              "<style scoped>\n",
              "    .dataframe tbody tr th:only-of-type {\n",
              "        vertical-align: middle;\n",
              "    }\n",
              "\n",
              "    .dataframe tbody tr th {\n",
              "        vertical-align: top;\n",
              "    }\n",
              "\n",
              "    .dataframe thead th {\n",
              "        text-align: right;\n",
              "    }\n",
              "</style>\n",
              "<table border=\"1\" class=\"dataframe\">\n",
              "  <thead>\n",
              "    <tr style=\"text-align: right;\">\n",
              "      <th></th>\n",
              "      <th>No.</th>\n",
              "      <th>announce_date</th>\n",
              "      <th>Notified date</th>\n",
              "      <th>sex</th>\n",
              "      <th>age</th>\n",
              "      <th>Unit</th>\n",
              "      <th>nationality</th>\n",
              "      <th>province_of_isolation</th>\n",
              "      <th>risk</th>\n",
              "      <th>province_of_onset</th>\n",
              "      <th>district_of_onset</th>\n",
              "    </tr>\n",
              "  </thead>\n",
              "  <tbody>\n",
              "    <tr>\n",
              "      <th>0</th>\n",
              "      <td>1</td>\n",
              "      <td>12/1/2020</td>\n",
              "      <td>NaN</td>\n",
              "      <td>หญิง</td>\n",
              "      <td>61</td>\n",
              "      <td>ปี</td>\n",
              "      <td>China</td>\n",
              "      <td>กรุงเทพมหานคร</td>\n",
              "      <td>คนต่างชาติเดินทางมาจากต่างประเทศ</td>\n",
              "      <td>กรุงเทพมหานคร</td>\n",
              "      <td>NaN</td>\n",
              "    </tr>\n",
              "    <tr>\n",
              "      <th>1</th>\n",
              "      <td>2</td>\n",
              "      <td>17/1/2020</td>\n",
              "      <td>NaN</td>\n",
              "      <td>หญิง</td>\n",
              "      <td>74</td>\n",
              "      <td>ปี</td>\n",
              "      <td>China</td>\n",
              "      <td>กรุงเทพมหานคร</td>\n",
              "      <td>คนต่างชาติเดินทางมาจากต่างประเทศ</td>\n",
              "      <td>กรุงเทพมหานคร</td>\n",
              "      <td>NaN</td>\n",
              "    </tr>\n",
              "    <tr>\n",
              "      <th>2</th>\n",
              "      <td>3</td>\n",
              "      <td>22/1/2020</td>\n",
              "      <td>NaN</td>\n",
              "      <td>หญิง</td>\n",
              "      <td>73</td>\n",
              "      <td>ปี</td>\n",
              "      <td>Thailand</td>\n",
              "      <td>นครปฐม</td>\n",
              "      <td>คนต่างชาติเดินทางมาจากต่างประเทศ</td>\n",
              "      <td>นครปฐม</td>\n",
              "      <td>เมือง</td>\n",
              "    </tr>\n",
              "    <tr>\n",
              "      <th>3</th>\n",
              "      <td>4</td>\n",
              "      <td>22/1/2020</td>\n",
              "      <td>NaN</td>\n",
              "      <td>ชาย</td>\n",
              "      <td>68</td>\n",
              "      <td>ปี</td>\n",
              "      <td>China</td>\n",
              "      <td>กรุงเทพมหานคร</td>\n",
              "      <td>คนต่างชาติเดินทางมาจากต่างประเทศ</td>\n",
              "      <td>กรุงเทพมหานคร</td>\n",
              "      <td>NaN</td>\n",
              "    </tr>\n",
              "    <tr>\n",
              "      <th>4</th>\n",
              "      <td>5</td>\n",
              "      <td>24/1/2020</td>\n",
              "      <td>NaN</td>\n",
              "      <td>หญิง</td>\n",
              "      <td>66</td>\n",
              "      <td>ปี</td>\n",
              "      <td>China</td>\n",
              "      <td>นนทบุรี</td>\n",
              "      <td>คนต่างชาติเดินทางมาจากต่างประเทศ</td>\n",
              "      <td>กรุงเทพมหานคร</td>\n",
              "      <td>NaN</td>\n",
              "    </tr>\n",
              "    <tr>\n",
              "      <th>5</th>\n",
              "      <td>6</td>\n",
              "      <td>25/1/2020</td>\n",
              "      <td>NaN</td>\n",
              "      <td>หญิง</td>\n",
              "      <td>33</td>\n",
              "      <td>ปี</td>\n",
              "      <td>China</td>\n",
              "      <td>กรุงเทพมหานคร</td>\n",
              "      <td>คนต่างชาติเดินทางมาจากต่างประเทศ</td>\n",
              "      <td>กรุงเทพมหานคร</td>\n",
              "      <td>NaN</td>\n",
              "    </tr>\n",
              "    <tr>\n",
              "      <th>6</th>\n",
              "      <td>7</td>\n",
              "      <td>26/1/2020</td>\n",
              "      <td>NaN</td>\n",
              "      <td>หญิง</td>\n",
              "      <td>57</td>\n",
              "      <td>ปี</td>\n",
              "      <td>China</td>\n",
              "      <td>กรุงเทพมหานคร</td>\n",
              "      <td>คนต่างชาติเดินทางมาจากต่างประเทศ</td>\n",
              "      <td>กรุงเทพมหานคร</td>\n",
              "      <td>NaN</td>\n",
              "    </tr>\n",
              "    <tr>\n",
              "      <th>7</th>\n",
              "      <td>8</td>\n",
              "      <td>26/1/2020</td>\n",
              "      <td>NaN</td>\n",
              "      <td>หญิง</td>\n",
              "      <td>73</td>\n",
              "      <td>ปี</td>\n",
              "      <td>China</td>\n",
              "      <td>ประจวบคีรีขันธ์</td>\n",
              "      <td>คนต่างชาติเดินทางมาจากต่างประเทศ</td>\n",
              "      <td>ประจวบคีรีขันธ์</td>\n",
              "      <td>หัวหิน</td>\n",
              "    </tr>\n",
              "    <tr>\n",
              "      <th>8</th>\n",
              "      <td>9</td>\n",
              "      <td>28/1/2020</td>\n",
              "      <td>NaN</td>\n",
              "      <td>ชาย</td>\n",
              "      <td>63</td>\n",
              "      <td>ปี</td>\n",
              "      <td>China</td>\n",
              "      <td>กรุงเทพมหานคร</td>\n",
              "      <td>คนต่างชาติเดินทางมาจากต่างประเทศ</td>\n",
              "      <td>กรุงเทพมหานคร</td>\n",
              "      <td>NaN</td>\n",
              "    </tr>\n",
              "    <tr>\n",
              "      <th>9</th>\n",
              "      <td>10</td>\n",
              "      <td>28/1/2020</td>\n",
              "      <td>NaN</td>\n",
              "      <td>หญิง</td>\n",
              "      <td>28</td>\n",
              "      <td>ปี</td>\n",
              "      <td>China</td>\n",
              "      <td>นนทบุรี</td>\n",
              "      <td>คนต่างชาติเดินทางมาจากต่างประเทศ</td>\n",
              "      <td>นนทบุรี</td>\n",
              "      <td>NaN</td>\n",
              "    </tr>\n",
              "    <tr>\n",
              "      <th>10</th>\n",
              "      <td>11</td>\n",
              "      <td>28/1/2020</td>\n",
              "      <td>NaN</td>\n",
              "      <td>ชาย</td>\n",
              "      <td>33</td>\n",
              "      <td>ปี</td>\n",
              "      <td>China</td>\n",
              "      <td>กรุงเทพมหานคร</td>\n",
              "      <td>สัมผัสใกล้ชิดกับผู้ป่วยยืนยันรายก่อนหน้านี้</td>\n",
              "      <td>กรุงเทพมหานคร</td>\n",
              "      <td>NaN</td>\n",
              "    </tr>\n",
              "    <tr>\n",
              "      <th>11</th>\n",
              "      <td>12</td>\n",
              "      <td>28/1/2020</td>\n",
              "      <td>NaN</td>\n",
              "      <td>ชาย</td>\n",
              "      <td>61</td>\n",
              "      <td>ปี</td>\n",
              "      <td>China</td>\n",
              "      <td>กรุงเทพมหานคร</td>\n",
              "      <td>สัมผัสใกล้ชิดกับผู้ป่วยยืนยันรายก่อนหน้านี้</td>\n",
              "      <td>กรุงเทพมหานคร</td>\n",
              "      <td>NaN</td>\n",
              "    </tr>\n",
              "    <tr>\n",
              "      <th>12</th>\n",
              "      <td>13</td>\n",
              "      <td>28/1/2020</td>\n",
              "      <td>NaN</td>\n",
              "      <td>ชาย</td>\n",
              "      <td>6</td>\n",
              "      <td>ปี</td>\n",
              "      <td>China</td>\n",
              "      <td>กรุงเทพมหานคร</td>\n",
              "      <td>สัมผัสใกล้ชิดกับผู้ป่วยยืนยันรายก่อนหน้านี้</td>\n",
              "      <td>กรุงเทพมหานคร</td>\n",
              "      <td>NaN</td>\n",
              "    </tr>\n",
              "    <tr>\n",
              "      <th>13</th>\n",
              "      <td>14</td>\n",
              "      <td>28/1/2020</td>\n",
              "      <td>NaN</td>\n",
              "      <td>หญิง</td>\n",
              "      <td>32</td>\n",
              "      <td>ปี</td>\n",
              "      <td>China</td>\n",
              "      <td>ภูเก็ต</td>\n",
              "      <td>คนต่างชาติเดินทางมาจากต่างประเทศ</td>\n",
              "      <td>ภูเก็ต</td>\n",
              "      <td>เมือง</td>\n",
              "    </tr>\n",
              "    <tr>\n",
              "      <th>14</th>\n",
              "      <td>15</td>\n",
              "      <td>31/1/2020</td>\n",
              "      <td>NaN</td>\n",
              "      <td>ชาย</td>\n",
              "      <td>56</td>\n",
              "      <td>ปี</td>\n",
              "      <td>China</td>\n",
              "      <td>กรุงเทพมหานคร</td>\n",
              "      <td>คนต่างชาติเดินทางมาจากต่างประเทศ</td>\n",
              "      <td>กรุงเทพมหานคร</td>\n",
              "      <td>NaN</td>\n",
              "    </tr>\n",
              "    <tr>\n",
              "      <th>15</th>\n",
              "      <td>16</td>\n",
              "      <td>31/1/2020</td>\n",
              "      <td>NaN</td>\n",
              "      <td>ชาย</td>\n",
              "      <td>50</td>\n",
              "      <td>ปี</td>\n",
              "      <td>Thailand</td>\n",
              "      <td>กรุงเทพมหานคร</td>\n",
              "      <td>อาชีพเสี่ยง เช่น ทำงานในสถานที่แออัด หรือทำงาน...</td>\n",
              "      <td>กรุงเทพมหานคร</td>\n",
              "      <td>NaN</td>\n",
              "    </tr>\n",
              "    <tr>\n",
              "      <th>16</th>\n",
              "      <td>17</td>\n",
              "      <td>31/1/2020</td>\n",
              "      <td>NaN</td>\n",
              "      <td>ชาย</td>\n",
              "      <td>28</td>\n",
              "      <td>ปี</td>\n",
              "      <td>China</td>\n",
              "      <td>เชียงใหม่</td>\n",
              "      <td>คนต่างชาติเดินทางมาจากต่างประเทศ</td>\n",
              "      <td>เชียงใหม่</td>\n",
              "      <td>หางดง</td>\n",
              "    </tr>\n",
              "    <tr>\n",
              "      <th>17</th>\n",
              "      <td>18</td>\n",
              "      <td>31/1/2020</td>\n",
              "      <td>NaN</td>\n",
              "      <td>ชาย</td>\n",
              "      <td>30</td>\n",
              "      <td>ปี</td>\n",
              "      <td>China</td>\n",
              "      <td>กรุงเทพมหานคร</td>\n",
              "      <td>คนต่างชาติเดินทางมาจากต่างประเทศ</td>\n",
              "      <td>กรุงเทพมหานคร</td>\n",
              "      <td>NaN</td>\n",
              "    </tr>\n",
              "    <tr>\n",
              "      <th>18</th>\n",
              "      <td>19</td>\n",
              "      <td>31/1/2020</td>\n",
              "      <td>NaN</td>\n",
              "      <td>ชาย</td>\n",
              "      <td>33</td>\n",
              "      <td>ปี</td>\n",
              "      <td>China</td>\n",
              "      <td>กรุงเทพมหานคร</td>\n",
              "      <td>คนต่างชาติเดินทางมาจากต่างประเทศ</td>\n",
              "      <td>กรุงเทพมหานคร</td>\n",
              "      <td>NaN</td>\n",
              "    </tr>\n",
              "    <tr>\n",
              "      <th>19</th>\n",
              "      <td>20</td>\n",
              "      <td>4/2/2020</td>\n",
              "      <td>NaN</td>\n",
              "      <td>หญิง</td>\n",
              "      <td>43</td>\n",
              "      <td>ปี</td>\n",
              "      <td>Thailand</td>\n",
              "      <td>กรุงเทพมหานคร</td>\n",
              "      <td>คนไทยเดินทางกลับจากต่างประเทศ</td>\n",
              "      <td>กรุงเทพมหานคร</td>\n",
              "      <td>NaN</td>\n",
              "    </tr>\n",
              "  </tbody>\n",
              "</table>\n",
              "</div>"
            ],
            "text/plain": [
              "    No. announce_date  ... province_of_onset district_of_onset\n",
              "0     1     12/1/2020  ...     กรุงเทพมหานคร               NaN\n",
              "1     2     17/1/2020  ...     กรุงเทพมหานคร               NaN\n",
              "2     3     22/1/2020  ...            นครปฐม             เมือง\n",
              "3     4     22/1/2020  ...     กรุงเทพมหานคร               NaN\n",
              "4     5     24/1/2020  ...     กรุงเทพมหานคร               NaN\n",
              "5     6     25/1/2020  ...     กรุงเทพมหานคร               NaN\n",
              "6     7     26/1/2020  ...     กรุงเทพมหานคร               NaN\n",
              "7     8     26/1/2020  ...   ประจวบคีรีขันธ์            หัวหิน\n",
              "8     9     28/1/2020  ...     กรุงเทพมหานคร               NaN\n",
              "9    10     28/1/2020  ...           นนทบุรี               NaN\n",
              "10   11     28/1/2020  ...     กรุงเทพมหานคร               NaN\n",
              "11   12     28/1/2020  ...     กรุงเทพมหานคร               NaN\n",
              "12   13     28/1/2020  ...     กรุงเทพมหานคร               NaN\n",
              "13   14     28/1/2020  ...            ภูเก็ต             เมือง\n",
              "14   15     31/1/2020  ...     กรุงเทพมหานคร               NaN\n",
              "15   16     31/1/2020  ...     กรุงเทพมหานคร               NaN\n",
              "16   17     31/1/2020  ...         เชียงใหม่             หางดง\n",
              "17   18     31/1/2020  ...     กรุงเทพมหานคร               NaN\n",
              "18   19     31/1/2020  ...     กรุงเทพมหานคร               NaN\n",
              "19   20      4/2/2020  ...     กรุงเทพมหานคร               NaN\n",
              "\n",
              "[20 rows x 11 columns]"
            ]
          },
          "metadata": {
            "tags": []
          },
          "execution_count": 40
        }
      ]
    },
    {
      "cell_type": "markdown",
      "metadata": {
        "id": "FgYEcRdnRs4t"
      },
      "source": [
        "## Handling Missing Value 5 (แทนด้วย ค่ากลางของ sample ใน  class เดียวกัน)"
      ]
    },
    {
      "cell_type": "code",
      "metadata": {
        "id": "w7-_7mapQxgD",
        "colab": {
          "base_uri": "https://localhost:8080/",
          "height": 0
        },
        "outputId": "80a132ac-00fd-4c2c-cbee-d617c177c31c"
      },
      "source": [
        "# รันตารางข้อมูลใหม่ \n",
        "data_cases2 = pd.read_csv(os.path.join(path,'confirmed-cases.csv'))\n",
        "data_cases2"
      ],
      "execution_count": 41,
      "outputs": [
        {
          "output_type": "execute_result",
          "data": {
            "text/html": [
              "<div>\n",
              "<style scoped>\n",
              "    .dataframe tbody tr th:only-of-type {\n",
              "        vertical-align: middle;\n",
              "    }\n",
              "\n",
              "    .dataframe tbody tr th {\n",
              "        vertical-align: top;\n",
              "    }\n",
              "\n",
              "    .dataframe thead th {\n",
              "        text-align: right;\n",
              "    }\n",
              "</style>\n",
              "<table border=\"1\" class=\"dataframe\">\n",
              "  <thead>\n",
              "    <tr style=\"text-align: right;\">\n",
              "      <th></th>\n",
              "      <th>No.</th>\n",
              "      <th>announce_date</th>\n",
              "      <th>Notified date</th>\n",
              "      <th>sex</th>\n",
              "      <th>age</th>\n",
              "      <th>Unit</th>\n",
              "      <th>nationality</th>\n",
              "      <th>province_of_isolation</th>\n",
              "      <th>risk</th>\n",
              "      <th>province_of_onset</th>\n",
              "      <th>district_of_onset</th>\n",
              "    </tr>\n",
              "  </thead>\n",
              "  <tbody>\n",
              "    <tr>\n",
              "      <th>0</th>\n",
              "      <td>1</td>\n",
              "      <td>12/1/2020</td>\n",
              "      <td>NaN</td>\n",
              "      <td>หญิง</td>\n",
              "      <td>61.0</td>\n",
              "      <td>ปี</td>\n",
              "      <td>China</td>\n",
              "      <td>กรุงเทพมหานคร</td>\n",
              "      <td>คนต่างชาติเดินทางมาจากต่างประเทศ</td>\n",
              "      <td>กรุงเทพมหานคร</td>\n",
              "      <td>NaN</td>\n",
              "    </tr>\n",
              "    <tr>\n",
              "      <th>1</th>\n",
              "      <td>2</td>\n",
              "      <td>17/1/2020</td>\n",
              "      <td>NaN</td>\n",
              "      <td>หญิง</td>\n",
              "      <td>74.0</td>\n",
              "      <td>ปี</td>\n",
              "      <td>China</td>\n",
              "      <td>กรุงเทพมหานคร</td>\n",
              "      <td>คนต่างชาติเดินทางมาจากต่างประเทศ</td>\n",
              "      <td>กรุงเทพมหานคร</td>\n",
              "      <td>NaN</td>\n",
              "    </tr>\n",
              "    <tr>\n",
              "      <th>2</th>\n",
              "      <td>3</td>\n",
              "      <td>22/1/2020</td>\n",
              "      <td>NaN</td>\n",
              "      <td>หญิง</td>\n",
              "      <td>73.0</td>\n",
              "      <td>ปี</td>\n",
              "      <td>Thailand</td>\n",
              "      <td>นครปฐม</td>\n",
              "      <td>คนต่างชาติเดินทางมาจากต่างประเทศ</td>\n",
              "      <td>นครปฐม</td>\n",
              "      <td>เมือง</td>\n",
              "    </tr>\n",
              "    <tr>\n",
              "      <th>3</th>\n",
              "      <td>4</td>\n",
              "      <td>22/1/2020</td>\n",
              "      <td>NaN</td>\n",
              "      <td>ชาย</td>\n",
              "      <td>68.0</td>\n",
              "      <td>ปี</td>\n",
              "      <td>China</td>\n",
              "      <td>กรุงเทพมหานคร</td>\n",
              "      <td>คนต่างชาติเดินทางมาจากต่างประเทศ</td>\n",
              "      <td>กรุงเทพมหานคร</td>\n",
              "      <td>NaN</td>\n",
              "    </tr>\n",
              "    <tr>\n",
              "      <th>4</th>\n",
              "      <td>5</td>\n",
              "      <td>24/1/2020</td>\n",
              "      <td>NaN</td>\n",
              "      <td>หญิง</td>\n",
              "      <td>66.0</td>\n",
              "      <td>ปี</td>\n",
              "      <td>China</td>\n",
              "      <td>นนทบุรี</td>\n",
              "      <td>คนต่างชาติเดินทางมาจากต่างประเทศ</td>\n",
              "      <td>กรุงเทพมหานคร</td>\n",
              "      <td>NaN</td>\n",
              "    </tr>\n",
              "    <tr>\n",
              "      <th>...</th>\n",
              "      <td>...</td>\n",
              "      <td>...</td>\n",
              "      <td>...</td>\n",
              "      <td>...</td>\n",
              "      <td>...</td>\n",
              "      <td>...</td>\n",
              "      <td>...</td>\n",
              "      <td>...</td>\n",
              "      <td>...</td>\n",
              "      <td>...</td>\n",
              "      <td>...</td>\n",
              "    </tr>\n",
              "    <tr>\n",
              "      <th>512617</th>\n",
              "      <td>512618</td>\n",
              "      <td>26/7/2021</td>\n",
              "      <td>25/7/2021</td>\n",
              "      <td>ชาย</td>\n",
              "      <td>NaN</td>\n",
              "      <td>NaN</td>\n",
              "      <td>NaN</td>\n",
              "      <td>ชลบุรี</td>\n",
              "      <td>ทัณฑสถาน/เรือนจำ</td>\n",
              "      <td>NaN</td>\n",
              "      <td>NaN</td>\n",
              "    </tr>\n",
              "    <tr>\n",
              "      <th>512618</th>\n",
              "      <td>512619</td>\n",
              "      <td>26/7/2021</td>\n",
              "      <td>25/7/2021</td>\n",
              "      <td>ชาย</td>\n",
              "      <td>NaN</td>\n",
              "      <td>NaN</td>\n",
              "      <td>NaN</td>\n",
              "      <td>ชลบุรี</td>\n",
              "      <td>ทัณฑสถาน/เรือนจำ</td>\n",
              "      <td>NaN</td>\n",
              "      <td>NaN</td>\n",
              "    </tr>\n",
              "    <tr>\n",
              "      <th>512619</th>\n",
              "      <td>512620</td>\n",
              "      <td>26/7/2021</td>\n",
              "      <td>25/7/2021</td>\n",
              "      <td>ชาย</td>\n",
              "      <td>NaN</td>\n",
              "      <td>NaN</td>\n",
              "      <td>NaN</td>\n",
              "      <td>ชลบุรี</td>\n",
              "      <td>ทัณฑสถาน/เรือนจำ</td>\n",
              "      <td>NaN</td>\n",
              "      <td>NaN</td>\n",
              "    </tr>\n",
              "    <tr>\n",
              "      <th>512620</th>\n",
              "      <td>512621</td>\n",
              "      <td>26/7/2021</td>\n",
              "      <td>25/7/2021</td>\n",
              "      <td>ชาย</td>\n",
              "      <td>NaN</td>\n",
              "      <td>NaN</td>\n",
              "      <td>NaN</td>\n",
              "      <td>ชลบุรี</td>\n",
              "      <td>ทัณฑสถาน/เรือนจำ</td>\n",
              "      <td>NaN</td>\n",
              "      <td>NaN</td>\n",
              "    </tr>\n",
              "    <tr>\n",
              "      <th>512621</th>\n",
              "      <td>512622</td>\n",
              "      <td>26/7/2021</td>\n",
              "      <td>25/7/2021</td>\n",
              "      <td>ชาย</td>\n",
              "      <td>NaN</td>\n",
              "      <td>NaN</td>\n",
              "      <td>NaN</td>\n",
              "      <td>ชลบุรี</td>\n",
              "      <td>ทัณฑสถาน/เรือนจำ</td>\n",
              "      <td>NaN</td>\n",
              "      <td>NaN</td>\n",
              "    </tr>\n",
              "  </tbody>\n",
              "</table>\n",
              "<p>512622 rows × 11 columns</p>\n",
              "</div>"
            ],
            "text/plain": [
              "           No. announce_date  ... province_of_onset district_of_onset\n",
              "0            1     12/1/2020  ...     กรุงเทพมหานคร               NaN\n",
              "1            2     17/1/2020  ...     กรุงเทพมหานคร               NaN\n",
              "2            3     22/1/2020  ...            นครปฐม             เมือง\n",
              "3            4     22/1/2020  ...     กรุงเทพมหานคร               NaN\n",
              "4            5     24/1/2020  ...     กรุงเทพมหานคร               NaN\n",
              "...        ...           ...  ...               ...               ...\n",
              "512617  512618     26/7/2021  ...               NaN               NaN\n",
              "512618  512619     26/7/2021  ...               NaN               NaN\n",
              "512619  512620     26/7/2021  ...               NaN               NaN\n",
              "512620  512621     26/7/2021  ...               NaN               NaN\n",
              "512621  512622     26/7/2021  ...               NaN               NaN\n",
              "\n",
              "[512622 rows x 11 columns]"
            ]
          },
          "metadata": {
            "tags": []
          },
          "execution_count": 41
        }
      ]
    },
    {
      "cell_type": "markdown",
      "metadata": {
        "id": "UIc2BnS22ZoD"
      },
      "source": [
        "# Select date by values [PD]"
      ]
    },
    {
      "cell_type": "markdown",
      "metadata": {
        "id": "6YkOA3A32yxE"
      },
      "source": [
        "การเลือก record สามารถเลือกโดยใช้ ```list ของ boolean```(ความยาวของ list เท่ากับ จำนวน record)\n",
        "\n",
        "``` ชื่อตาราง[list ของ boolean] ```"
      ]
    },
    {
      "cell_type": "markdown",
      "metadata": {
        "id": "AVzSaTY62jKE"
      },
      "source": [
        "#### สร้าง list ของ boolean"
      ]
    },
    {
      "cell_type": "code",
      "metadata": {
        "id": "ZGYZyR_iTsP_",
        "colab": {
          "base_uri": "https://localhost:8080/"
        },
        "outputId": "268e2aa4-444a-4e6d-cbfd-6b30d8a919e7"
      },
      "source": [
        "data_cases2['risk'] == 'ทัณฑสถาน/เรือนจำ'"
      ],
      "execution_count": 42,
      "outputs": [
        {
          "output_type": "execute_result",
          "data": {
            "text/plain": [
              "0         False\n",
              "1         False\n",
              "2         False\n",
              "3         False\n",
              "4         False\n",
              "          ...  \n",
              "512617     True\n",
              "512618     True\n",
              "512619     True\n",
              "512620     True\n",
              "512621     True\n",
              "Name: risk, Length: 512622, dtype: bool"
            ]
          },
          "metadata": {
            "tags": []
          },
          "execution_count": 42
        }
      ]
    },
    {
      "cell_type": "markdown",
      "metadata": {
        "id": "qgkVPxf_2-du"
      },
      "source": [
        "#### นำ list ของ boolean มาเลือกค่าในตาราง"
      ]
    },
    {
      "cell_type": "code",
      "metadata": {
        "id": "tea2insx27Lx",
        "colab": {
          "base_uri": "https://localhost:8080/",
          "height": 0
        },
        "outputId": "66721707-284a-4279-b098-bd2e0e164b8e"
      },
      "source": [
        "data_cases2[data_cases2['risk'] == 'ทัณฑสถาน/เรือนจำ']"
      ],
      "execution_count": 43,
      "outputs": [
        {
          "output_type": "execute_result",
          "data": {
            "text/html": [
              "<div>\n",
              "<style scoped>\n",
              "    .dataframe tbody tr th:only-of-type {\n",
              "        vertical-align: middle;\n",
              "    }\n",
              "\n",
              "    .dataframe tbody tr th {\n",
              "        vertical-align: top;\n",
              "    }\n",
              "\n",
              "    .dataframe thead th {\n",
              "        text-align: right;\n",
              "    }\n",
              "</style>\n",
              "<table border=\"1\" class=\"dataframe\">\n",
              "  <thead>\n",
              "    <tr style=\"text-align: right;\">\n",
              "      <th></th>\n",
              "      <th>No.</th>\n",
              "      <th>announce_date</th>\n",
              "      <th>Notified date</th>\n",
              "      <th>sex</th>\n",
              "      <th>age</th>\n",
              "      <th>Unit</th>\n",
              "      <th>nationality</th>\n",
              "      <th>province_of_isolation</th>\n",
              "      <th>risk</th>\n",
              "      <th>province_of_onset</th>\n",
              "      <th>district_of_onset</th>\n",
              "    </tr>\n",
              "  </thead>\n",
              "  <tbody>\n",
              "    <tr>\n",
              "      <th>100018</th>\n",
              "      <td>100019</td>\n",
              "      <td>16/5/2021</td>\n",
              "      <td>15/5/2021</td>\n",
              "      <td>หญิง</td>\n",
              "      <td>26.0</td>\n",
              "      <td>ปี</td>\n",
              "      <td>Thailand</td>\n",
              "      <td>ฉะเชิงเทรา</td>\n",
              "      <td>ทัณฑสถาน/เรือนจำ</td>\n",
              "      <td>ฉะเชิงเทรา</td>\n",
              "      <td>เมืองฉะเชิงเทรา‎</td>\n",
              "    </tr>\n",
              "    <tr>\n",
              "      <th>100019</th>\n",
              "      <td>100020</td>\n",
              "      <td>16/5/2021</td>\n",
              "      <td>15/5/2021</td>\n",
              "      <td>หญิง</td>\n",
              "      <td>41.0</td>\n",
              "      <td>ปี</td>\n",
              "      <td>Thailand</td>\n",
              "      <td>ฉะเชิงเทรา</td>\n",
              "      <td>ทัณฑสถาน/เรือนจำ</td>\n",
              "      <td>ฉะเชิงเทรา</td>\n",
              "      <td>เมืองฉะเชิงเทรา‎</td>\n",
              "    </tr>\n",
              "    <tr>\n",
              "      <th>101468</th>\n",
              "      <td>101469</td>\n",
              "      <td>17/5/2021</td>\n",
              "      <td>16/5/2021</td>\n",
              "      <td>NaN</td>\n",
              "      <td>NaN</td>\n",
              "      <td>NaN</td>\n",
              "      <td>NaN</td>\n",
              "      <td>เชียงใหม่</td>\n",
              "      <td>ทัณฑสถาน/เรือนจำ</td>\n",
              "      <td>NaN</td>\n",
              "      <td>NaN</td>\n",
              "    </tr>\n",
              "    <tr>\n",
              "      <th>101469</th>\n",
              "      <td>101470</td>\n",
              "      <td>17/5/2021</td>\n",
              "      <td>16/5/2021</td>\n",
              "      <td>NaN</td>\n",
              "      <td>NaN</td>\n",
              "      <td>NaN</td>\n",
              "      <td>NaN</td>\n",
              "      <td>เชียงใหม่</td>\n",
              "      <td>ทัณฑสถาน/เรือนจำ</td>\n",
              "      <td>NaN</td>\n",
              "      <td>NaN</td>\n",
              "    </tr>\n",
              "    <tr>\n",
              "      <th>101470</th>\n",
              "      <td>101471</td>\n",
              "      <td>17/5/2021</td>\n",
              "      <td>16/5/2021</td>\n",
              "      <td>NaN</td>\n",
              "      <td>NaN</td>\n",
              "      <td>NaN</td>\n",
              "      <td>NaN</td>\n",
              "      <td>เชียงใหม่</td>\n",
              "      <td>ทัณฑสถาน/เรือนจำ</td>\n",
              "      <td>NaN</td>\n",
              "      <td>NaN</td>\n",
              "    </tr>\n",
              "    <tr>\n",
              "      <th>...</th>\n",
              "      <td>...</td>\n",
              "      <td>...</td>\n",
              "      <td>...</td>\n",
              "      <td>...</td>\n",
              "      <td>...</td>\n",
              "      <td>...</td>\n",
              "      <td>...</td>\n",
              "      <td>...</td>\n",
              "      <td>...</td>\n",
              "      <td>...</td>\n",
              "      <td>...</td>\n",
              "    </tr>\n",
              "    <tr>\n",
              "      <th>512617</th>\n",
              "      <td>512618</td>\n",
              "      <td>26/7/2021</td>\n",
              "      <td>25/7/2021</td>\n",
              "      <td>ชาย</td>\n",
              "      <td>NaN</td>\n",
              "      <td>NaN</td>\n",
              "      <td>NaN</td>\n",
              "      <td>ชลบุรี</td>\n",
              "      <td>ทัณฑสถาน/เรือนจำ</td>\n",
              "      <td>NaN</td>\n",
              "      <td>NaN</td>\n",
              "    </tr>\n",
              "    <tr>\n",
              "      <th>512618</th>\n",
              "      <td>512619</td>\n",
              "      <td>26/7/2021</td>\n",
              "      <td>25/7/2021</td>\n",
              "      <td>ชาย</td>\n",
              "      <td>NaN</td>\n",
              "      <td>NaN</td>\n",
              "      <td>NaN</td>\n",
              "      <td>ชลบุรี</td>\n",
              "      <td>ทัณฑสถาน/เรือนจำ</td>\n",
              "      <td>NaN</td>\n",
              "      <td>NaN</td>\n",
              "    </tr>\n",
              "    <tr>\n",
              "      <th>512619</th>\n",
              "      <td>512620</td>\n",
              "      <td>26/7/2021</td>\n",
              "      <td>25/7/2021</td>\n",
              "      <td>ชาย</td>\n",
              "      <td>NaN</td>\n",
              "      <td>NaN</td>\n",
              "      <td>NaN</td>\n",
              "      <td>ชลบุรี</td>\n",
              "      <td>ทัณฑสถาน/เรือนจำ</td>\n",
              "      <td>NaN</td>\n",
              "      <td>NaN</td>\n",
              "    </tr>\n",
              "    <tr>\n",
              "      <th>512620</th>\n",
              "      <td>512621</td>\n",
              "      <td>26/7/2021</td>\n",
              "      <td>25/7/2021</td>\n",
              "      <td>ชาย</td>\n",
              "      <td>NaN</td>\n",
              "      <td>NaN</td>\n",
              "      <td>NaN</td>\n",
              "      <td>ชลบุรี</td>\n",
              "      <td>ทัณฑสถาน/เรือนจำ</td>\n",
              "      <td>NaN</td>\n",
              "      <td>NaN</td>\n",
              "    </tr>\n",
              "    <tr>\n",
              "      <th>512621</th>\n",
              "      <td>512622</td>\n",
              "      <td>26/7/2021</td>\n",
              "      <td>25/7/2021</td>\n",
              "      <td>ชาย</td>\n",
              "      <td>NaN</td>\n",
              "      <td>NaN</td>\n",
              "      <td>NaN</td>\n",
              "      <td>ชลบุรี</td>\n",
              "      <td>ทัณฑสถาน/เรือนจำ</td>\n",
              "      <td>NaN</td>\n",
              "      <td>NaN</td>\n",
              "    </tr>\n",
              "  </tbody>\n",
              "</table>\n",
              "<p>41331 rows × 11 columns</p>\n",
              "</div>"
            ],
            "text/plain": [
              "           No. announce_date  ... province_of_onset district_of_onset\n",
              "100018  100019     16/5/2021  ...        ฉะเชิงเทรา  เมืองฉะเชิงเทรา‎\n",
              "100019  100020     16/5/2021  ...        ฉะเชิงเทรา  เมืองฉะเชิงเทรา‎\n",
              "101468  101469     17/5/2021  ...               NaN               NaN\n",
              "101469  101470     17/5/2021  ...               NaN               NaN\n",
              "101470  101471     17/5/2021  ...               NaN               NaN\n",
              "...        ...           ...  ...               ...               ...\n",
              "512617  512618     26/7/2021  ...               NaN               NaN\n",
              "512618  512619     26/7/2021  ...               NaN               NaN\n",
              "512619  512620     26/7/2021  ...               NaN               NaN\n",
              "512620  512621     26/7/2021  ...               NaN               NaN\n",
              "512621  512622     26/7/2021  ...               NaN               NaN\n",
              "\n",
              "[41331 rows x 11 columns]"
            ]
          },
          "metadata": {
            "tags": []
          },
          "execution_count": 43
        }
      ]
    },
    {
      "cell_type": "markdown",
      "metadata": {
        "id": "Ev5Bsqjb3Fna"
      },
      "source": [
        "สร้าง list ของ boolean"
      ]
    },
    {
      "cell_type": "code",
      "metadata": {
        "id": "R0qkMtfL3DLe",
        "colab": {
          "base_uri": "https://localhost:8080/"
        },
        "outputId": "38475174-0f77-40dc-b8a3-b9d3e8c320f9"
      },
      "source": [
        "data_cases2['age'] > 70"
      ],
      "execution_count": 44,
      "outputs": [
        {
          "output_type": "execute_result",
          "data": {
            "text/plain": [
              "0         False\n",
              "1          True\n",
              "2          True\n",
              "3         False\n",
              "4         False\n",
              "          ...  \n",
              "512617    False\n",
              "512618    False\n",
              "512619    False\n",
              "512620    False\n",
              "512621    False\n",
              "Name: age, Length: 512622, dtype: bool"
            ]
          },
          "metadata": {
            "tags": []
          },
          "execution_count": 44
        }
      ]
    },
    {
      "cell_type": "markdown",
      "metadata": {
        "id": "ZLsU_N9b3Lqg"
      },
      "source": [
        "เลือก"
      ]
    },
    {
      "cell_type": "code",
      "metadata": {
        "id": "5yQIeqkQ3H31",
        "colab": {
          "base_uri": "https://localhost:8080/",
          "height": 0
        },
        "outputId": "68e8ef79-98ca-4717-a0fc-115cc8beb69d"
      },
      "source": [
        "data_cases2[data_cases2['age'] > 70]"
      ],
      "execution_count": 45,
      "outputs": [
        {
          "output_type": "execute_result",
          "data": {
            "text/html": [
              "<div>\n",
              "<style scoped>\n",
              "    .dataframe tbody tr th:only-of-type {\n",
              "        vertical-align: middle;\n",
              "    }\n",
              "\n",
              "    .dataframe tbody tr th {\n",
              "        vertical-align: top;\n",
              "    }\n",
              "\n",
              "    .dataframe thead th {\n",
              "        text-align: right;\n",
              "    }\n",
              "</style>\n",
              "<table border=\"1\" class=\"dataframe\">\n",
              "  <thead>\n",
              "    <tr style=\"text-align: right;\">\n",
              "      <th></th>\n",
              "      <th>No.</th>\n",
              "      <th>announce_date</th>\n",
              "      <th>Notified date</th>\n",
              "      <th>sex</th>\n",
              "      <th>age</th>\n",
              "      <th>Unit</th>\n",
              "      <th>nationality</th>\n",
              "      <th>province_of_isolation</th>\n",
              "      <th>risk</th>\n",
              "      <th>province_of_onset</th>\n",
              "      <th>district_of_onset</th>\n",
              "    </tr>\n",
              "  </thead>\n",
              "  <tbody>\n",
              "    <tr>\n",
              "      <th>1</th>\n",
              "      <td>2</td>\n",
              "      <td>17/1/2020</td>\n",
              "      <td>NaN</td>\n",
              "      <td>หญิง</td>\n",
              "      <td>74.0</td>\n",
              "      <td>ปี</td>\n",
              "      <td>China</td>\n",
              "      <td>กรุงเทพมหานคร</td>\n",
              "      <td>คนต่างชาติเดินทางมาจากต่างประเทศ</td>\n",
              "      <td>กรุงเทพมหานคร</td>\n",
              "      <td>NaN</td>\n",
              "    </tr>\n",
              "    <tr>\n",
              "      <th>2</th>\n",
              "      <td>3</td>\n",
              "      <td>22/1/2020</td>\n",
              "      <td>NaN</td>\n",
              "      <td>หญิง</td>\n",
              "      <td>73.0</td>\n",
              "      <td>ปี</td>\n",
              "      <td>Thailand</td>\n",
              "      <td>นครปฐม</td>\n",
              "      <td>คนต่างชาติเดินทางมาจากต่างประเทศ</td>\n",
              "      <td>นครปฐม</td>\n",
              "      <td>เมือง</td>\n",
              "    </tr>\n",
              "    <tr>\n",
              "      <th>7</th>\n",
              "      <td>8</td>\n",
              "      <td>26/1/2020</td>\n",
              "      <td>NaN</td>\n",
              "      <td>หญิง</td>\n",
              "      <td>73.0</td>\n",
              "      <td>ปี</td>\n",
              "      <td>China</td>\n",
              "      <td>ประจวบคีรีขันธ์</td>\n",
              "      <td>คนต่างชาติเดินทางมาจากต่างประเทศ</td>\n",
              "      <td>ประจวบคีรีขันธ์</td>\n",
              "      <td>หัวหิน</td>\n",
              "    </tr>\n",
              "    <tr>\n",
              "      <th>82</th>\n",
              "      <td>83</td>\n",
              "      <td>15/3/2020</td>\n",
              "      <td>NaN</td>\n",
              "      <td>ชาย</td>\n",
              "      <td>76.0</td>\n",
              "      <td>ปี</td>\n",
              "      <td>Thailand</td>\n",
              "      <td>กรุงเทพมหานคร</td>\n",
              "      <td>สนามมวย</td>\n",
              "      <td>กรุงเทพมหานคร</td>\n",
              "      <td>NaN</td>\n",
              "    </tr>\n",
              "    <tr>\n",
              "      <th>119</th>\n",
              "      <td>120</td>\n",
              "      <td>16/3/2020</td>\n",
              "      <td>NaN</td>\n",
              "      <td>ชาย</td>\n",
              "      <td>73.0</td>\n",
              "      <td>ปี</td>\n",
              "      <td>Thailand</td>\n",
              "      <td>กรุงเทพมหานคร</td>\n",
              "      <td>สนามมวย</td>\n",
              "      <td>ฉะเชิงเทรา</td>\n",
              "      <td>NaN</td>\n",
              "    </tr>\n",
              "    <tr>\n",
              "      <th>...</th>\n",
              "      <td>...</td>\n",
              "      <td>...</td>\n",
              "      <td>...</td>\n",
              "      <td>...</td>\n",
              "      <td>...</td>\n",
              "      <td>...</td>\n",
              "      <td>...</td>\n",
              "      <td>...</td>\n",
              "      <td>...</td>\n",
              "      <td>...</td>\n",
              "      <td>...</td>\n",
              "    </tr>\n",
              "    <tr>\n",
              "      <th>511418</th>\n",
              "      <td>511419</td>\n",
              "      <td>26/7/2021</td>\n",
              "      <td>25/7/2021</td>\n",
              "      <td>หญิง</td>\n",
              "      <td>73.0</td>\n",
              "      <td>ปี</td>\n",
              "      <td>Thailand</td>\n",
              "      <td>กรุงเทพมหานคร</td>\n",
              "      <td>การค้นหาผู้ป่วยเชิงรุกและค้นหาผู้ติดเชื้อในชุมชน</td>\n",
              "      <td>กรุงเทพมหานคร</td>\n",
              "      <td>ราชเทวี</td>\n",
              "    </tr>\n",
              "    <tr>\n",
              "      <th>511463</th>\n",
              "      <td>511464</td>\n",
              "      <td>26/7/2021</td>\n",
              "      <td>25/7/2021</td>\n",
              "      <td>หญิง</td>\n",
              "      <td>83.0</td>\n",
              "      <td>ปี</td>\n",
              "      <td>NaN</td>\n",
              "      <td>กรุงเทพมหานคร</td>\n",
              "      <td>การค้นหาผู้ป่วยเชิงรุกและค้นหาผู้ติดเชื้อในชุมชน</td>\n",
              "      <td>กรุงเทพมหานคร</td>\n",
              "      <td>บางบอน</td>\n",
              "    </tr>\n",
              "    <tr>\n",
              "      <th>511488</th>\n",
              "      <td>511489</td>\n",
              "      <td>26/7/2021</td>\n",
              "      <td>25/7/2021</td>\n",
              "      <td>ชาย</td>\n",
              "      <td>80.0</td>\n",
              "      <td>ปี</td>\n",
              "      <td>Thailand</td>\n",
              "      <td>กรุงเทพมหานคร</td>\n",
              "      <td>การค้นหาผู้ป่วยเชิงรุกและค้นหาผู้ติดเชื้อในชุมชน</td>\n",
              "      <td>กรุงเทพมหานคร</td>\n",
              "      <td>บางบอน</td>\n",
              "    </tr>\n",
              "    <tr>\n",
              "      <th>511506</th>\n",
              "      <td>511507</td>\n",
              "      <td>26/7/2021</td>\n",
              "      <td>25/7/2021</td>\n",
              "      <td>ชาย</td>\n",
              "      <td>71.0</td>\n",
              "      <td>ปี</td>\n",
              "      <td>Thailand</td>\n",
              "      <td>กรุงเทพมหานคร</td>\n",
              "      <td>การค้นหาผู้ป่วยเชิงรุกและค้นหาผู้ติดเชื้อในชุมชน</td>\n",
              "      <td>กรุงเทพมหานคร</td>\n",
              "      <td>สัมพันธวงศ์</td>\n",
              "    </tr>\n",
              "    <tr>\n",
              "      <th>511561</th>\n",
              "      <td>511562</td>\n",
              "      <td>26/7/2021</td>\n",
              "      <td>25/7/2021</td>\n",
              "      <td>ชาย</td>\n",
              "      <td>75.0</td>\n",
              "      <td>ปี</td>\n",
              "      <td>Thailand</td>\n",
              "      <td>กรุงเทพมหานคร</td>\n",
              "      <td>การค้นหาผู้ป่วยเชิงรุกและค้นหาผู้ติดเชื้อในชุมชน</td>\n",
              "      <td>กรุงเทพมหานคร</td>\n",
              "      <td>ธนบุรี</td>\n",
              "    </tr>\n",
              "  </tbody>\n",
              "</table>\n",
              "<p>11623 rows × 11 columns</p>\n",
              "</div>"
            ],
            "text/plain": [
              "           No. announce_date  ... province_of_onset district_of_onset\n",
              "1            2     17/1/2020  ...     กรุงเทพมหานคร               NaN\n",
              "2            3     22/1/2020  ...            นครปฐม             เมือง\n",
              "7            8     26/1/2020  ...   ประจวบคีรีขันธ์            หัวหิน\n",
              "82          83     15/3/2020  ...     กรุงเทพมหานคร               NaN\n",
              "119        120     16/3/2020  ...        ฉะเชิงเทรา               NaN\n",
              "...        ...           ...  ...               ...               ...\n",
              "511418  511419     26/7/2021  ...     กรุงเทพมหานคร           ราชเทวี\n",
              "511463  511464     26/7/2021  ...     กรุงเทพมหานคร            บางบอน\n",
              "511488  511489     26/7/2021  ...     กรุงเทพมหานคร            บางบอน\n",
              "511506  511507     26/7/2021  ...     กรุงเทพมหานคร       สัมพันธวงศ์\n",
              "511561  511562     26/7/2021  ...     กรุงเทพมหานคร            ธนบุรี\n",
              "\n",
              "[11623 rows x 11 columns]"
            ]
          },
          "metadata": {
            "tags": []
          },
          "execution_count": 45
        }
      ]
    },
    {
      "cell_type": "code",
      "metadata": {
        "id": "_sICdgph3KRe"
      },
      "source": [
        "blist_age70up = data_cases2['age'] > 70"
      ],
      "execution_count": 46,
      "outputs": []
    },
    {
      "cell_type": "code",
      "metadata": {
        "id": "4vMjdm0p3QjW",
        "colab": {
          "base_uri": "https://localhost:8080/"
        },
        "outputId": "1c0a1f51-0603-41fd-b86a-801811dd2236"
      },
      "source": [
        "blist_female = data_cases2['sex'] == 'หญิง'\n",
        "blist_female"
      ],
      "execution_count": 47,
      "outputs": [
        {
          "output_type": "execute_result",
          "data": {
            "text/plain": [
              "0          True\n",
              "1          True\n",
              "2          True\n",
              "3         False\n",
              "4          True\n",
              "          ...  \n",
              "512617    False\n",
              "512618    False\n",
              "512619    False\n",
              "512620    False\n",
              "512621    False\n",
              "Name: sex, Length: 512622, dtype: bool"
            ]
          },
          "metadata": {
            "tags": []
          },
          "execution_count": 47
        }
      ]
    },
    {
      "cell_type": "markdown",
      "metadata": {
        "id": "euMPfYKE3VUS"
      },
      "source": [
        "เราใช้ & (and) และ | (or) ในการรวม list ของ boolean"
      ]
    },
    {
      "cell_type": "code",
      "metadata": {
        "id": "7q_7i7e13Sdh",
        "colab": {
          "base_uri": "https://localhost:8080/"
        },
        "outputId": "9c5a182f-cacc-41a0-ae17-14aaeb8e2233"
      },
      "source": [
        "blist_age70up & blist_female"
      ],
      "execution_count": 48,
      "outputs": [
        {
          "output_type": "execute_result",
          "data": {
            "text/plain": [
              "0         False\n",
              "1          True\n",
              "2          True\n",
              "3         False\n",
              "4         False\n",
              "          ...  \n",
              "512617    False\n",
              "512618    False\n",
              "512619    False\n",
              "512620    False\n",
              "512621    False\n",
              "Length: 512622, dtype: bool"
            ]
          },
          "metadata": {
            "tags": []
          },
          "execution_count": 48
        }
      ]
    },
    {
      "cell_type": "code",
      "metadata": {
        "id": "Qlebg6xD3YKu",
        "colab": {
          "base_uri": "https://localhost:8080/",
          "height": 0
        },
        "outputId": "e0bbd65b-f64b-48cb-cbe3-e6d797a72255"
      },
      "source": [
        "data_cases2[blist_age70up & blist_female]"
      ],
      "execution_count": 49,
      "outputs": [
        {
          "output_type": "execute_result",
          "data": {
            "text/html": [
              "<div>\n",
              "<style scoped>\n",
              "    .dataframe tbody tr th:only-of-type {\n",
              "        vertical-align: middle;\n",
              "    }\n",
              "\n",
              "    .dataframe tbody tr th {\n",
              "        vertical-align: top;\n",
              "    }\n",
              "\n",
              "    .dataframe thead th {\n",
              "        text-align: right;\n",
              "    }\n",
              "</style>\n",
              "<table border=\"1\" class=\"dataframe\">\n",
              "  <thead>\n",
              "    <tr style=\"text-align: right;\">\n",
              "      <th></th>\n",
              "      <th>No.</th>\n",
              "      <th>announce_date</th>\n",
              "      <th>Notified date</th>\n",
              "      <th>sex</th>\n",
              "      <th>age</th>\n",
              "      <th>Unit</th>\n",
              "      <th>nationality</th>\n",
              "      <th>province_of_isolation</th>\n",
              "      <th>risk</th>\n",
              "      <th>province_of_onset</th>\n",
              "      <th>district_of_onset</th>\n",
              "    </tr>\n",
              "  </thead>\n",
              "  <tbody>\n",
              "    <tr>\n",
              "      <th>1</th>\n",
              "      <td>2</td>\n",
              "      <td>17/1/2020</td>\n",
              "      <td>NaN</td>\n",
              "      <td>หญิง</td>\n",
              "      <td>74.0</td>\n",
              "      <td>ปี</td>\n",
              "      <td>China</td>\n",
              "      <td>กรุงเทพมหานคร</td>\n",
              "      <td>คนต่างชาติเดินทางมาจากต่างประเทศ</td>\n",
              "      <td>กรุงเทพมหานคร</td>\n",
              "      <td>NaN</td>\n",
              "    </tr>\n",
              "    <tr>\n",
              "      <th>2</th>\n",
              "      <td>3</td>\n",
              "      <td>22/1/2020</td>\n",
              "      <td>NaN</td>\n",
              "      <td>หญิง</td>\n",
              "      <td>73.0</td>\n",
              "      <td>ปี</td>\n",
              "      <td>Thailand</td>\n",
              "      <td>นครปฐม</td>\n",
              "      <td>คนต่างชาติเดินทางมาจากต่างประเทศ</td>\n",
              "      <td>นครปฐม</td>\n",
              "      <td>เมือง</td>\n",
              "    </tr>\n",
              "    <tr>\n",
              "      <th>7</th>\n",
              "      <td>8</td>\n",
              "      <td>26/1/2020</td>\n",
              "      <td>NaN</td>\n",
              "      <td>หญิง</td>\n",
              "      <td>73.0</td>\n",
              "      <td>ปี</td>\n",
              "      <td>China</td>\n",
              "      <td>ประจวบคีรีขันธ์</td>\n",
              "      <td>คนต่างชาติเดินทางมาจากต่างประเทศ</td>\n",
              "      <td>ประจวบคีรีขันธ์</td>\n",
              "      <td>หัวหิน</td>\n",
              "    </tr>\n",
              "    <tr>\n",
              "      <th>476</th>\n",
              "      <td>477</td>\n",
              "      <td>22/3/2020</td>\n",
              "      <td>21/3/2020</td>\n",
              "      <td>หญิง</td>\n",
              "      <td>72.0</td>\n",
              "      <td>ปี</td>\n",
              "      <td>Thailand</td>\n",
              "      <td>กรุงเทพมหานคร</td>\n",
              "      <td>สัมผัสใกล้ชิดกับผู้ป่วยยืนยันรายก่อนหน้านี้</td>\n",
              "      <td>กรุงเทพมหานคร</td>\n",
              "      <td>ภาษีเจริญ</td>\n",
              "    </tr>\n",
              "    <tr>\n",
              "      <th>564</th>\n",
              "      <td>565</td>\n",
              "      <td>22/3/2020</td>\n",
              "      <td>21/3/2020</td>\n",
              "      <td>หญิง</td>\n",
              "      <td>71.0</td>\n",
              "      <td>ปี</td>\n",
              "      <td>Thailand</td>\n",
              "      <td>นนทบุรี</td>\n",
              "      <td>สัมผัสใกล้ชิดกับผู้ป่วยยืนยันรายก่อนหน้านี้</td>\n",
              "      <td>นนทบุรี</td>\n",
              "      <td>NaN</td>\n",
              "    </tr>\n",
              "    <tr>\n",
              "      <th>...</th>\n",
              "      <td>...</td>\n",
              "      <td>...</td>\n",
              "      <td>...</td>\n",
              "      <td>...</td>\n",
              "      <td>...</td>\n",
              "      <td>...</td>\n",
              "      <td>...</td>\n",
              "      <td>...</td>\n",
              "      <td>...</td>\n",
              "      <td>...</td>\n",
              "      <td>...</td>\n",
              "    </tr>\n",
              "    <tr>\n",
              "      <th>511082</th>\n",
              "      <td>511083</td>\n",
              "      <td>26/7/2021</td>\n",
              "      <td>25/7/2021</td>\n",
              "      <td>หญิง</td>\n",
              "      <td>74.0</td>\n",
              "      <td>ปี</td>\n",
              "      <td>Thailand</td>\n",
              "      <td>กรุงเทพมหานคร</td>\n",
              "      <td>การค้นหาผู้ป่วยเชิงรุกและค้นหาผู้ติดเชื้อในชุมชน</td>\n",
              "      <td>กรุงเทพมหานคร</td>\n",
              "      <td>คลองสามวา</td>\n",
              "    </tr>\n",
              "    <tr>\n",
              "      <th>511128</th>\n",
              "      <td>511129</td>\n",
              "      <td>26/7/2021</td>\n",
              "      <td>25/7/2021</td>\n",
              "      <td>หญิง</td>\n",
              "      <td>79.0</td>\n",
              "      <td>ปี</td>\n",
              "      <td>Thailand</td>\n",
              "      <td>กรุงเทพมหานคร</td>\n",
              "      <td>สัมผัสใกล้ชิดกับผู้ป่วยยืนยันรายก่อนหน้านี้</td>\n",
              "      <td>กรุงเทพมหานคร</td>\n",
              "      <td>ตลิ่งชัน</td>\n",
              "    </tr>\n",
              "    <tr>\n",
              "      <th>511196</th>\n",
              "      <td>511197</td>\n",
              "      <td>26/7/2021</td>\n",
              "      <td>25/7/2021</td>\n",
              "      <td>หญิง</td>\n",
              "      <td>71.0</td>\n",
              "      <td>ปี</td>\n",
              "      <td>Thailand</td>\n",
              "      <td>กรุงเทพมหานคร</td>\n",
              "      <td>การค้นหาผู้ป่วยเชิงรุกและค้นหาผู้ติดเชื้อในชุมชน</td>\n",
              "      <td>กรุงเทพมหานคร</td>\n",
              "      <td>สัมพันธวงศ์</td>\n",
              "    </tr>\n",
              "    <tr>\n",
              "      <th>511418</th>\n",
              "      <td>511419</td>\n",
              "      <td>26/7/2021</td>\n",
              "      <td>25/7/2021</td>\n",
              "      <td>หญิง</td>\n",
              "      <td>73.0</td>\n",
              "      <td>ปี</td>\n",
              "      <td>Thailand</td>\n",
              "      <td>กรุงเทพมหานคร</td>\n",
              "      <td>การค้นหาผู้ป่วยเชิงรุกและค้นหาผู้ติดเชื้อในชุมชน</td>\n",
              "      <td>กรุงเทพมหานคร</td>\n",
              "      <td>ราชเทวี</td>\n",
              "    </tr>\n",
              "    <tr>\n",
              "      <th>511463</th>\n",
              "      <td>511464</td>\n",
              "      <td>26/7/2021</td>\n",
              "      <td>25/7/2021</td>\n",
              "      <td>หญิง</td>\n",
              "      <td>83.0</td>\n",
              "      <td>ปี</td>\n",
              "      <td>NaN</td>\n",
              "      <td>กรุงเทพมหานคร</td>\n",
              "      <td>การค้นหาผู้ป่วยเชิงรุกและค้นหาผู้ติดเชื้อในชุมชน</td>\n",
              "      <td>กรุงเทพมหานคร</td>\n",
              "      <td>บางบอน</td>\n",
              "    </tr>\n",
              "  </tbody>\n",
              "</table>\n",
              "<p>6350 rows × 11 columns</p>\n",
              "</div>"
            ],
            "text/plain": [
              "           No. announce_date  ... province_of_onset district_of_onset\n",
              "1            2     17/1/2020  ...     กรุงเทพมหานคร               NaN\n",
              "2            3     22/1/2020  ...            นครปฐม             เมือง\n",
              "7            8     26/1/2020  ...   ประจวบคีรีขันธ์            หัวหิน\n",
              "476        477     22/3/2020  ...     กรุงเทพมหานคร         ภาษีเจริญ\n",
              "564        565     22/3/2020  ...           นนทบุรี               NaN\n",
              "...        ...           ...  ...               ...               ...\n",
              "511082  511083     26/7/2021  ...     กรุงเทพมหานคร         คลองสามวา\n",
              "511128  511129     26/7/2021  ...     กรุงเทพมหานคร          ตลิ่งชัน\n",
              "511196  511197     26/7/2021  ...     กรุงเทพมหานคร       สัมพันธวงศ์\n",
              "511418  511419     26/7/2021  ...     กรุงเทพมหานคร           ราชเทวี\n",
              "511463  511464     26/7/2021  ...     กรุงเทพมหานคร            บางบอน\n",
              "\n",
              "[6350 rows x 11 columns]"
            ]
          },
          "metadata": {
            "tags": []
          },
          "execution_count": 49
        }
      ]
    },
    {
      "cell_type": "markdown",
      "metadata": {
        "id": "qjaREU-Q3ixD"
      },
      "source": [
        "## Quiz 4 + HW\n",
        "\n",
        "หา records ต่อไปนี้\n",
        "\n",
        "1. records ที่กักตัวที่ขอนแก่น\n",
        "2. records ที่กักตัวที่ ขอนแก่น+โคราช+อุดร\n",
        "3. records ที่เป็นผู้หญิงที่พบเชื้อที่ กทม\n",
        "4. records ที่เป็นผู้ชาย อายุ 18-22 ปี ที่กักตัวที่เชียงใหม่\n",
        "5. หาอายุเฉลี่ยของคนที่พบเชื้อที่ ขอนแก่น"
      ]
    },
    {
      "cell_type": "markdown",
      "metadata": {
        "id": "qqnEhcPo3n4b"
      },
      "source": [
        "##### 1. records ที่กักตัวที่ขอนแก่น"
      ]
    },
    {
      "cell_type": "code",
      "metadata": {
        "id": "nmqfJ_7P3aLj",
        "colab": {
          "base_uri": "https://localhost:8080/",
          "height": 0
        },
        "outputId": "56ad5add-eea1-4e7c-f5b4-e2e8a65ab2f0"
      },
      "source": [
        "data_cases2[data_cases2['province_of_isolation']=='ขอนแก่น']"
      ],
      "execution_count": 50,
      "outputs": [
        {
          "output_type": "execute_result",
          "data": {
            "text/html": [
              "<div>\n",
              "<style scoped>\n",
              "    .dataframe tbody tr th:only-of-type {\n",
              "        vertical-align: middle;\n",
              "    }\n",
              "\n",
              "    .dataframe tbody tr th {\n",
              "        vertical-align: top;\n",
              "    }\n",
              "\n",
              "    .dataframe thead th {\n",
              "        text-align: right;\n",
              "    }\n",
              "</style>\n",
              "<table border=\"1\" class=\"dataframe\">\n",
              "  <thead>\n",
              "    <tr style=\"text-align: right;\">\n",
              "      <th></th>\n",
              "      <th>No.</th>\n",
              "      <th>announce_date</th>\n",
              "      <th>Notified date</th>\n",
              "      <th>sex</th>\n",
              "      <th>age</th>\n",
              "      <th>Unit</th>\n",
              "      <th>nationality</th>\n",
              "      <th>province_of_isolation</th>\n",
              "      <th>risk</th>\n",
              "      <th>province_of_onset</th>\n",
              "      <th>district_of_onset</th>\n",
              "    </tr>\n",
              "  </thead>\n",
              "  <tbody>\n",
              "    <tr>\n",
              "      <th>181</th>\n",
              "      <td>182</td>\n",
              "      <td>18/3/2020</td>\n",
              "      <td>15/3/2020</td>\n",
              "      <td>ชาย</td>\n",
              "      <td>33.0</td>\n",
              "      <td>ปี</td>\n",
              "      <td>Thailand</td>\n",
              "      <td>ขอนแก่น</td>\n",
              "      <td>สนามมวย</td>\n",
              "      <td>ขอนแก่น</td>\n",
              "      <td>เมือง</td>\n",
              "    </tr>\n",
              "    <tr>\n",
              "      <th>463</th>\n",
              "      <td>464</td>\n",
              "      <td>22/3/2020</td>\n",
              "      <td>21/3/2020</td>\n",
              "      <td>หญิง</td>\n",
              "      <td>36.0</td>\n",
              "      <td>ปี</td>\n",
              "      <td>Thailand</td>\n",
              "      <td>ขอนแก่น</td>\n",
              "      <td>สัมผัสใกล้ชิดกับผู้ป่วยยืนยันรายก่อนหน้านี้</td>\n",
              "      <td>ขอนแก่น</td>\n",
              "      <td>เมือง</td>\n",
              "    </tr>\n",
              "    <tr>\n",
              "      <th>1467</th>\n",
              "      <td>1468</td>\n",
              "      <td>30/3/2020</td>\n",
              "      <td>26/3/2020</td>\n",
              "      <td>ชาย</td>\n",
              "      <td>19.0</td>\n",
              "      <td>ปี</td>\n",
              "      <td>Thailand</td>\n",
              "      <td>ขอนแก่น</td>\n",
              "      <td>คนไทยเดินทางกลับจากต่างประเทศ</td>\n",
              "      <td>ขอนแก่น</td>\n",
              "      <td>เมือง</td>\n",
              "    </tr>\n",
              "    <tr>\n",
              "      <th>1971</th>\n",
              "      <td>1972</td>\n",
              "      <td>3/4/2020</td>\n",
              "      <td>31/3/2020</td>\n",
              "      <td>หญิง</td>\n",
              "      <td>70.0</td>\n",
              "      <td>ปี</td>\n",
              "      <td>Thailand</td>\n",
              "      <td>ขอนแก่น</td>\n",
              "      <td>ไปสถานที่ชุมชน เช่น ตลาดนัด สถานที่ท่องเที่ยว</td>\n",
              "      <td>ขอนแก่น</td>\n",
              "      <td>เมือง</td>\n",
              "    </tr>\n",
              "    <tr>\n",
              "      <th>2638</th>\n",
              "      <td>2639</td>\n",
              "      <td>15/4/2020</td>\n",
              "      <td>14/4/2020</td>\n",
              "      <td>หญิง</td>\n",
              "      <td>63.0</td>\n",
              "      <td>ปี</td>\n",
              "      <td>Thailand</td>\n",
              "      <td>ขอนแก่น</td>\n",
              "      <td>สัมผัสผู้เดินทางจากต่างประเทศ</td>\n",
              "      <td>ขอนแก่น</td>\n",
              "      <td>น้ำพอง</td>\n",
              "    </tr>\n",
              "    <tr>\n",
              "      <th>...</th>\n",
              "      <td>...</td>\n",
              "      <td>...</td>\n",
              "      <td>...</td>\n",
              "      <td>...</td>\n",
              "      <td>...</td>\n",
              "      <td>...</td>\n",
              "      <td>...</td>\n",
              "      <td>...</td>\n",
              "      <td>...</td>\n",
              "      <td>...</td>\n",
              "      <td>...</td>\n",
              "    </tr>\n",
              "    <tr>\n",
              "      <th>505598</th>\n",
              "      <td>505599</td>\n",
              "      <td>26/7/2021</td>\n",
              "      <td>25/7/2021</td>\n",
              "      <td>ชาย</td>\n",
              "      <td>19.0</td>\n",
              "      <td>ปี</td>\n",
              "      <td>Thailand</td>\n",
              "      <td>ขอนแก่น</td>\n",
              "      <td>การค้นหาผู้ป่วยเชิงรุกและค้นหาผู้ติดเชื้อในชุมชน</td>\n",
              "      <td>ขอนแก่น</td>\n",
              "      <td>ภูเวียง</td>\n",
              "    </tr>\n",
              "    <tr>\n",
              "      <th>505599</th>\n",
              "      <td>505600</td>\n",
              "      <td>26/7/2021</td>\n",
              "      <td>25/7/2021</td>\n",
              "      <td>ชาย</td>\n",
              "      <td>37.0</td>\n",
              "      <td>ปี</td>\n",
              "      <td>Thailand</td>\n",
              "      <td>ขอนแก่น</td>\n",
              "      <td>การค้นหาผู้ป่วยเชิงรุกและค้นหาผู้ติดเชื้อในชุมชน</td>\n",
              "      <td>ขอนแก่น</td>\n",
              "      <td>ภูเวียง</td>\n",
              "    </tr>\n",
              "    <tr>\n",
              "      <th>511809</th>\n",
              "      <td>511810</td>\n",
              "      <td>26/7/2021</td>\n",
              "      <td>25/7/2021</td>\n",
              "      <td>ชาย</td>\n",
              "      <td>NaN</td>\n",
              "      <td>NaN</td>\n",
              "      <td>NaN</td>\n",
              "      <td>ขอนแก่น</td>\n",
              "      <td>ทัณฑสถาน/เรือนจำ</td>\n",
              "      <td>NaN</td>\n",
              "      <td>NaN</td>\n",
              "    </tr>\n",
              "    <tr>\n",
              "      <th>511810</th>\n",
              "      <td>511811</td>\n",
              "      <td>26/7/2021</td>\n",
              "      <td>25/7/2021</td>\n",
              "      <td>ชาย</td>\n",
              "      <td>NaN</td>\n",
              "      <td>NaN</td>\n",
              "      <td>NaN</td>\n",
              "      <td>ขอนแก่น</td>\n",
              "      <td>ทัณฑสถาน/เรือนจำ</td>\n",
              "      <td>NaN</td>\n",
              "      <td>NaN</td>\n",
              "    </tr>\n",
              "    <tr>\n",
              "      <th>511811</th>\n",
              "      <td>511812</td>\n",
              "      <td>26/7/2021</td>\n",
              "      <td>25/7/2021</td>\n",
              "      <td>ชาย</td>\n",
              "      <td>NaN</td>\n",
              "      <td>NaN</td>\n",
              "      <td>NaN</td>\n",
              "      <td>ขอนแก่น</td>\n",
              "      <td>ทัณฑสถาน/เรือนจำ</td>\n",
              "      <td>NaN</td>\n",
              "      <td>NaN</td>\n",
              "    </tr>\n",
              "  </tbody>\n",
              "</table>\n",
              "<p>3707 rows × 11 columns</p>\n",
              "</div>"
            ],
            "text/plain": [
              "           No. announce_date  ... province_of_onset district_of_onset\n",
              "181        182     18/3/2020  ...           ขอนแก่น             เมือง\n",
              "463        464     22/3/2020  ...           ขอนแก่น             เมือง\n",
              "1467      1468     30/3/2020  ...           ขอนแก่น             เมือง\n",
              "1971      1972      3/4/2020  ...           ขอนแก่น             เมือง\n",
              "2638      2639     15/4/2020  ...           ขอนแก่น            น้ำพอง\n",
              "...        ...           ...  ...               ...               ...\n",
              "505598  505599     26/7/2021  ...           ขอนแก่น           ภูเวียง\n",
              "505599  505600     26/7/2021  ...           ขอนแก่น           ภูเวียง\n",
              "511809  511810     26/7/2021  ...               NaN               NaN\n",
              "511810  511811     26/7/2021  ...               NaN               NaN\n",
              "511811  511812     26/7/2021  ...               NaN               NaN\n",
              "\n",
              "[3707 rows x 11 columns]"
            ]
          },
          "metadata": {
            "tags": []
          },
          "execution_count": 50
        }
      ]
    },
    {
      "cell_type": "markdown",
      "metadata": {
        "id": "0-MP7mAZ3uNu"
      },
      "source": [
        "##### 2. records ที่ กักตัวที่ ขอนแก่น+โคราช+อุดร"
      ]
    },
    {
      "cell_type": "code",
      "metadata": {
        "id": "9wiO_dRx3qT9",
        "colab": {
          "base_uri": "https://localhost:8080/",
          "height": 0
        },
        "outputId": "aa69659e-b8a1-45c8-f12d-246588856bbd"
      },
      "source": [
        "data_cases2[(data_cases2['province_of_isolation']=='ขอนแก่น') | \n",
        "            (data_cases2['province_of_isolation']=='นครราชสีมา') | \n",
        "            (data_cases2['province_of_isolation']=='อุดรธานี')]"
      ],
      "execution_count": 51,
      "outputs": [
        {
          "output_type": "execute_result",
          "data": {
            "text/html": [
              "<div>\n",
              "<style scoped>\n",
              "    .dataframe tbody tr th:only-of-type {\n",
              "        vertical-align: middle;\n",
              "    }\n",
              "\n",
              "    .dataframe tbody tr th {\n",
              "        vertical-align: top;\n",
              "    }\n",
              "\n",
              "    .dataframe thead th {\n",
              "        text-align: right;\n",
              "    }\n",
              "</style>\n",
              "<table border=\"1\" class=\"dataframe\">\n",
              "  <thead>\n",
              "    <tr style=\"text-align: right;\">\n",
              "      <th></th>\n",
              "      <th>No.</th>\n",
              "      <th>announce_date</th>\n",
              "      <th>Notified date</th>\n",
              "      <th>sex</th>\n",
              "      <th>age</th>\n",
              "      <th>Unit</th>\n",
              "      <th>nationality</th>\n",
              "      <th>province_of_isolation</th>\n",
              "      <th>risk</th>\n",
              "      <th>province_of_onset</th>\n",
              "      <th>district_of_onset</th>\n",
              "    </tr>\n",
              "  </thead>\n",
              "  <tbody>\n",
              "    <tr>\n",
              "      <th>181</th>\n",
              "      <td>182</td>\n",
              "      <td>18/3/2020</td>\n",
              "      <td>15/3/2020</td>\n",
              "      <td>ชาย</td>\n",
              "      <td>33.0</td>\n",
              "      <td>ปี</td>\n",
              "      <td>Thailand</td>\n",
              "      <td>ขอนแก่น</td>\n",
              "      <td>สนามมวย</td>\n",
              "      <td>ขอนแก่น</td>\n",
              "      <td>เมือง</td>\n",
              "    </tr>\n",
              "    <tr>\n",
              "      <th>189</th>\n",
              "      <td>190</td>\n",
              "      <td>18/3/2020</td>\n",
              "      <td>16/3/2020</td>\n",
              "      <td>ชาย</td>\n",
              "      <td>57.0</td>\n",
              "      <td>ปี</td>\n",
              "      <td>Thailand</td>\n",
              "      <td>นครราชสีมา</td>\n",
              "      <td>สนามมวย</td>\n",
              "      <td>นครราชสีมา</td>\n",
              "      <td>พิมาย</td>\n",
              "    </tr>\n",
              "    <tr>\n",
              "      <th>207</th>\n",
              "      <td>208</td>\n",
              "      <td>18/3/2020</td>\n",
              "      <td>16/3/2020</td>\n",
              "      <td>หญิง</td>\n",
              "      <td>30.0</td>\n",
              "      <td>ปี</td>\n",
              "      <td>Thailand</td>\n",
              "      <td>นครราชสีมา</td>\n",
              "      <td>สถานบันเทิง</td>\n",
              "      <td>กรุงเทพมหานคร</td>\n",
              "      <td>NaN</td>\n",
              "    </tr>\n",
              "    <tr>\n",
              "      <th>212</th>\n",
              "      <td>213</td>\n",
              "      <td>18/3/2020</td>\n",
              "      <td>14/3/2020</td>\n",
              "      <td>หญิง</td>\n",
              "      <td>22.0</td>\n",
              "      <td>ปี</td>\n",
              "      <td>Thailand</td>\n",
              "      <td>นครราชสีมา</td>\n",
              "      <td>ไปสถานที่ชุมชน เช่น ตลาดนัด สถานที่ท่องเที่ยว</td>\n",
              "      <td>นครราชสีมา</td>\n",
              "      <td>วังน้ำเขียว</td>\n",
              "    </tr>\n",
              "    <tr>\n",
              "      <th>284</th>\n",
              "      <td>285</td>\n",
              "      <td>20/3/2020</td>\n",
              "      <td>17/3/2020</td>\n",
              "      <td>ชาย</td>\n",
              "      <td>42.0</td>\n",
              "      <td>ปี</td>\n",
              "      <td>Thailand</td>\n",
              "      <td>นครราชสีมา</td>\n",
              "      <td>สนามมวย</td>\n",
              "      <td>นครราชสีมา</td>\n",
              "      <td>เมืองนครราชสีมา</td>\n",
              "    </tr>\n",
              "    <tr>\n",
              "      <th>...</th>\n",
              "      <td>...</td>\n",
              "      <td>...</td>\n",
              "      <td>...</td>\n",
              "      <td>...</td>\n",
              "      <td>...</td>\n",
              "      <td>...</td>\n",
              "      <td>...</td>\n",
              "      <td>...</td>\n",
              "      <td>...</td>\n",
              "      <td>...</td>\n",
              "      <td>...</td>\n",
              "    </tr>\n",
              "    <tr>\n",
              "      <th>507218</th>\n",
              "      <td>507219</td>\n",
              "      <td>26/7/2021</td>\n",
              "      <td>25/7/2021</td>\n",
              "      <td>หญิง</td>\n",
              "      <td>NaN</td>\n",
              "      <td>NaN</td>\n",
              "      <td>Thailand</td>\n",
              "      <td>นครราชสีมา</td>\n",
              "      <td>อยู่ระหว่างการสอบสวน</td>\n",
              "      <td>NaN</td>\n",
              "      <td>NaN</td>\n",
              "    </tr>\n",
              "    <tr>\n",
              "      <th>507219</th>\n",
              "      <td>507220</td>\n",
              "      <td>26/7/2021</td>\n",
              "      <td>25/7/2021</td>\n",
              "      <td>ชาย</td>\n",
              "      <td>NaN</td>\n",
              "      <td>NaN</td>\n",
              "      <td>Thailand</td>\n",
              "      <td>นครราชสีมา</td>\n",
              "      <td>อยู่ระหว่างการสอบสวน</td>\n",
              "      <td>NaN</td>\n",
              "      <td>NaN</td>\n",
              "    </tr>\n",
              "    <tr>\n",
              "      <th>511809</th>\n",
              "      <td>511810</td>\n",
              "      <td>26/7/2021</td>\n",
              "      <td>25/7/2021</td>\n",
              "      <td>ชาย</td>\n",
              "      <td>NaN</td>\n",
              "      <td>NaN</td>\n",
              "      <td>NaN</td>\n",
              "      <td>ขอนแก่น</td>\n",
              "      <td>ทัณฑสถาน/เรือนจำ</td>\n",
              "      <td>NaN</td>\n",
              "      <td>NaN</td>\n",
              "    </tr>\n",
              "    <tr>\n",
              "      <th>511810</th>\n",
              "      <td>511811</td>\n",
              "      <td>26/7/2021</td>\n",
              "      <td>25/7/2021</td>\n",
              "      <td>ชาย</td>\n",
              "      <td>NaN</td>\n",
              "      <td>NaN</td>\n",
              "      <td>NaN</td>\n",
              "      <td>ขอนแก่น</td>\n",
              "      <td>ทัณฑสถาน/เรือนจำ</td>\n",
              "      <td>NaN</td>\n",
              "      <td>NaN</td>\n",
              "    </tr>\n",
              "    <tr>\n",
              "      <th>511811</th>\n",
              "      <td>511812</td>\n",
              "      <td>26/7/2021</td>\n",
              "      <td>25/7/2021</td>\n",
              "      <td>ชาย</td>\n",
              "      <td>NaN</td>\n",
              "      <td>NaN</td>\n",
              "      <td>NaN</td>\n",
              "      <td>ขอนแก่น</td>\n",
              "      <td>ทัณฑสถาน/เรือนจำ</td>\n",
              "      <td>NaN</td>\n",
              "      <td>NaN</td>\n",
              "    </tr>\n",
              "  </tbody>\n",
              "</table>\n",
              "<p>10539 rows × 11 columns</p>\n",
              "</div>"
            ],
            "text/plain": [
              "           No. announce_date  ... province_of_onset district_of_onset\n",
              "181        182     18/3/2020  ...           ขอนแก่น             เมือง\n",
              "189        190     18/3/2020  ...        นครราชสีมา             พิมาย\n",
              "207        208     18/3/2020  ...     กรุงเทพมหานคร               NaN\n",
              "212        213     18/3/2020  ...        นครราชสีมา       วังน้ำเขียว\n",
              "284        285     20/3/2020  ...        นครราชสีมา   เมืองนครราชสีมา\n",
              "...        ...           ...  ...               ...               ...\n",
              "507218  507219     26/7/2021  ...               NaN               NaN\n",
              "507219  507220     26/7/2021  ...               NaN               NaN\n",
              "511809  511810     26/7/2021  ...               NaN               NaN\n",
              "511810  511811     26/7/2021  ...               NaN               NaN\n",
              "511811  511812     26/7/2021  ...               NaN               NaN\n",
              "\n",
              "[10539 rows x 11 columns]"
            ]
          },
          "metadata": {
            "tags": []
          },
          "execution_count": 51
        }
      ]
    },
    {
      "cell_type": "markdown",
      "metadata": {
        "id": "UTO1OqA83zIB"
      },
      "source": [
        "##### 3. records ที่ เป็นผู้หญิงที่พบเชื้อที่ กทม"
      ]
    },
    {
      "cell_type": "code",
      "metadata": {
        "id": "5LQiFyBt3wgj",
        "colab": {
          "base_uri": "https://localhost:8080/",
          "height": 0
        },
        "outputId": "19b5e880-f168-4946-9d1c-5a6bf2bb7c53"
      },
      "source": [
        "data_cases2[(data_cases2['district_of_onset']=='กรุงเทพมหานคร') & (data_cases2['sex']=='หญิง')]"
      ],
      "execution_count": 52,
      "outputs": [
        {
          "output_type": "execute_result",
          "data": {
            "text/html": [
              "<div>\n",
              "<style scoped>\n",
              "    .dataframe tbody tr th:only-of-type {\n",
              "        vertical-align: middle;\n",
              "    }\n",
              "\n",
              "    .dataframe tbody tr th {\n",
              "        vertical-align: top;\n",
              "    }\n",
              "\n",
              "    .dataframe thead th {\n",
              "        text-align: right;\n",
              "    }\n",
              "</style>\n",
              "<table border=\"1\" class=\"dataframe\">\n",
              "  <thead>\n",
              "    <tr style=\"text-align: right;\">\n",
              "      <th></th>\n",
              "      <th>No.</th>\n",
              "      <th>announce_date</th>\n",
              "      <th>Notified date</th>\n",
              "      <th>sex</th>\n",
              "      <th>age</th>\n",
              "      <th>Unit</th>\n",
              "      <th>nationality</th>\n",
              "      <th>province_of_isolation</th>\n",
              "      <th>risk</th>\n",
              "      <th>province_of_onset</th>\n",
              "      <th>district_of_onset</th>\n",
              "    </tr>\n",
              "  </thead>\n",
              "  <tbody>\n",
              "    <tr>\n",
              "      <th>292</th>\n",
              "      <td>293</td>\n",
              "      <td>20/3/2020</td>\n",
              "      <td>22/3/2020</td>\n",
              "      <td>หญิง</td>\n",
              "      <td>24.0</td>\n",
              "      <td>ปี</td>\n",
              "      <td>Thailand</td>\n",
              "      <td>กรุงเทพมหานคร</td>\n",
              "      <td>สถานบันเทิง</td>\n",
              "      <td>กรุงเทพมหานคร</td>\n",
              "      <td>กรุงเทพมหานคร</td>\n",
              "    </tr>\n",
              "    <tr>\n",
              "      <th>318</th>\n",
              "      <td>319</td>\n",
              "      <td>20/3/2020</td>\n",
              "      <td>20/3/2020</td>\n",
              "      <td>หญิง</td>\n",
              "      <td>35.0</td>\n",
              "      <td>ปี</td>\n",
              "      <td>Thailand</td>\n",
              "      <td>กรุงเทพมหานคร</td>\n",
              "      <td>สถานบันเทิง</td>\n",
              "      <td>กรุงเทพมหานคร</td>\n",
              "      <td>กรุงเทพมหานคร</td>\n",
              "    </tr>\n",
              "    <tr>\n",
              "      <th>1928</th>\n",
              "      <td>1929</td>\n",
              "      <td>3/4/2020</td>\n",
              "      <td>2/4/2020</td>\n",
              "      <td>หญิง</td>\n",
              "      <td>23.0</td>\n",
              "      <td>ปี</td>\n",
              "      <td>Thailand</td>\n",
              "      <td>พิษณุโลก</td>\n",
              "      <td>คนไทยเดินทางกลับจากต่างประเทศ</td>\n",
              "      <td>กรุงเทพมหานคร</td>\n",
              "      <td>กรุงเทพมหานคร</td>\n",
              "    </tr>\n",
              "    <tr>\n",
              "      <th>30541</th>\n",
              "      <td>30542</td>\n",
              "      <td>9/4/2021</td>\n",
              "      <td>8/4/2021</td>\n",
              "      <td>หญิง</td>\n",
              "      <td>31.0</td>\n",
              "      <td>ปี</td>\n",
              "      <td>Thailand</td>\n",
              "      <td>ชลบุรี</td>\n",
              "      <td>อยู่ระหว่างการสอบสวน</td>\n",
              "      <td>ชลบุรี</td>\n",
              "      <td>กรุงเทพมหานคร</td>\n",
              "    </tr>\n",
              "    <tr>\n",
              "      <th>208455</th>\n",
              "      <td>208456</td>\n",
              "      <td>18/6/2021</td>\n",
              "      <td>17/6/2021</td>\n",
              "      <td>หญิง</td>\n",
              "      <td>9.0</td>\n",
              "      <td>ปี</td>\n",
              "      <td>Thailand</td>\n",
              "      <td>สมุทรปราการ</td>\n",
              "      <td>สัมผัสใกล้ชิดกับผู้ป่วยยืนยันรายก่อนหน้านี้</td>\n",
              "      <td>สมุทรปราการ</td>\n",
              "      <td>กรุงเทพมหานคร</td>\n",
              "    </tr>\n",
              "    <tr>\n",
              "      <th>...</th>\n",
              "      <td>...</td>\n",
              "      <td>...</td>\n",
              "      <td>...</td>\n",
              "      <td>...</td>\n",
              "      <td>...</td>\n",
              "      <td>...</td>\n",
              "      <td>...</td>\n",
              "      <td>...</td>\n",
              "      <td>...</td>\n",
              "      <td>...</td>\n",
              "      <td>...</td>\n",
              "    </tr>\n",
              "    <tr>\n",
              "      <th>429001</th>\n",
              "      <td>429002</td>\n",
              "      <td>21/7/2021</td>\n",
              "      <td>20/7/2021</td>\n",
              "      <td>หญิง</td>\n",
              "      <td>29.0</td>\n",
              "      <td>ปี</td>\n",
              "      <td>Thailand</td>\n",
              "      <td>สมุทรสาคร</td>\n",
              "      <td>อื่นๆ</td>\n",
              "      <td>กรุงเทพมหานคร</td>\n",
              "      <td>กรุงเทพมหานคร</td>\n",
              "    </tr>\n",
              "    <tr>\n",
              "      <th>461987</th>\n",
              "      <td>461988</td>\n",
              "      <td>23/7/2021</td>\n",
              "      <td>22/7/2021</td>\n",
              "      <td>หญิง</td>\n",
              "      <td>27.0</td>\n",
              "      <td>ปี</td>\n",
              "      <td>Thailand</td>\n",
              "      <td>มุกดาหาร</td>\n",
              "      <td>อื่นๆ</td>\n",
              "      <td>กรุงเทพมหานคร</td>\n",
              "      <td>กรุงเทพมหานคร</td>\n",
              "    </tr>\n",
              "    <tr>\n",
              "      <th>471588</th>\n",
              "      <td>471589</td>\n",
              "      <td>24/7/2021</td>\n",
              "      <td>23/7/2021</td>\n",
              "      <td>หญิง</td>\n",
              "      <td>37.0</td>\n",
              "      <td>ปี</td>\n",
              "      <td>Thailand</td>\n",
              "      <td>กาญจนบุรี</td>\n",
              "      <td>อื่นๆ</td>\n",
              "      <td>กรุงเทพมหานคร</td>\n",
              "      <td>กรุงเทพมหานคร</td>\n",
              "    </tr>\n",
              "    <tr>\n",
              "      <th>471589</th>\n",
              "      <td>471590</td>\n",
              "      <td>24/7/2021</td>\n",
              "      <td>23/7/2021</td>\n",
              "      <td>หญิง</td>\n",
              "      <td>43.0</td>\n",
              "      <td>ปี</td>\n",
              "      <td>Thailand</td>\n",
              "      <td>กาญจนบุรี</td>\n",
              "      <td>อื่นๆ</td>\n",
              "      <td>กรุงเทพมหานคร</td>\n",
              "      <td>กรุงเทพมหานคร</td>\n",
              "    </tr>\n",
              "    <tr>\n",
              "      <th>488250</th>\n",
              "      <td>488251</td>\n",
              "      <td>25/7/2021</td>\n",
              "      <td>24/7/2021</td>\n",
              "      <td>หญิง</td>\n",
              "      <td>48.0</td>\n",
              "      <td>ปี</td>\n",
              "      <td>Thailand</td>\n",
              "      <td>ฉะเชิงเทรา</td>\n",
              "      <td>สัมผัสใกล้ชิดกับผู้ป่วยยืนยันรายก่อนหน้านี้</td>\n",
              "      <td>ฉะเชิงเทรา</td>\n",
              "      <td>กรุงเทพมหานคร</td>\n",
              "    </tr>\n",
              "  </tbody>\n",
              "</table>\n",
              "<p>77 rows × 11 columns</p>\n",
              "</div>"
            ],
            "text/plain": [
              "           No. announce_date  ... province_of_onset district_of_onset\n",
              "292        293     20/3/2020  ...     กรุงเทพมหานคร     กรุงเทพมหานคร\n",
              "318        319     20/3/2020  ...     กรุงเทพมหานคร     กรุงเทพมหานคร\n",
              "1928      1929      3/4/2020  ...     กรุงเทพมหานคร     กรุงเทพมหานคร\n",
              "30541    30542      9/4/2021  ...            ชลบุรี     กรุงเทพมหานคร\n",
              "208455  208456     18/6/2021  ...       สมุทรปราการ     กรุงเทพมหานคร\n",
              "...        ...           ...  ...               ...               ...\n",
              "429001  429002     21/7/2021  ...     กรุงเทพมหานคร     กรุงเทพมหานคร\n",
              "461987  461988     23/7/2021  ...     กรุงเทพมหานคร     กรุงเทพมหานคร\n",
              "471588  471589     24/7/2021  ...     กรุงเทพมหานคร     กรุงเทพมหานคร\n",
              "471589  471590     24/7/2021  ...     กรุงเทพมหานคร     กรุงเทพมหานคร\n",
              "488250  488251     25/7/2021  ...        ฉะเชิงเทรา     กรุงเทพมหานคร\n",
              "\n",
              "[77 rows x 11 columns]"
            ]
          },
          "metadata": {
            "tags": []
          },
          "execution_count": 52
        }
      ]
    },
    {
      "cell_type": "markdown",
      "metadata": {
        "id": "SAqKxGfN3_k6"
      },
      "source": [
        "##### 4. records ที่ เป็นผู้ชาย อายุ 18-22 ปี ที่กักตัวที่เชียงใหม่"
      ]
    },
    {
      "cell_type": "code",
      "metadata": {
        "id": "vRjrEObv6L4t",
        "colab": {
          "base_uri": "https://localhost:8080/",
          "height": 0
        },
        "outputId": "2b8e336a-af88-4a1c-c548-b42fad26ad39"
      },
      "source": [
        "list_1 = data_cases2['sex'] == 'ชาย'\n",
        "list_2 = data_cases2['age'] >= 18\n",
        "list_3 = data_cases2['age'] <= 22\n",
        "list_4 = data_cases2['province_of_isolation'] == 'เชียงใหม่'\n",
        "\n",
        "data_cases2[list_1 & list_2 & list_3 & list_4]"
      ],
      "execution_count": 53,
      "outputs": [
        {
          "output_type": "execute_result",
          "data": {
            "text/html": [
              "<div>\n",
              "<style scoped>\n",
              "    .dataframe tbody tr th:only-of-type {\n",
              "        vertical-align: middle;\n",
              "    }\n",
              "\n",
              "    .dataframe tbody tr th {\n",
              "        vertical-align: top;\n",
              "    }\n",
              "\n",
              "    .dataframe thead th {\n",
              "        text-align: right;\n",
              "    }\n",
              "</style>\n",
              "<table border=\"1\" class=\"dataframe\">\n",
              "  <thead>\n",
              "    <tr style=\"text-align: right;\">\n",
              "      <th></th>\n",
              "      <th>No.</th>\n",
              "      <th>announce_date</th>\n",
              "      <th>Notified date</th>\n",
              "      <th>sex</th>\n",
              "      <th>age</th>\n",
              "      <th>Unit</th>\n",
              "      <th>nationality</th>\n",
              "      <th>province_of_isolation</th>\n",
              "      <th>risk</th>\n",
              "      <th>province_of_onset</th>\n",
              "      <th>district_of_onset</th>\n",
              "    </tr>\n",
              "  </thead>\n",
              "  <tbody>\n",
              "    <tr>\n",
              "      <th>1407</th>\n",
              "      <td>1408</td>\n",
              "      <td>30/3/2020</td>\n",
              "      <td>29/3/2020</td>\n",
              "      <td>ชาย</td>\n",
              "      <td>21.0</td>\n",
              "      <td>ปี</td>\n",
              "      <td>Thailand</td>\n",
              "      <td>เชียงใหม่</td>\n",
              "      <td>สัมผัสใกล้ชิดกับผู้ป่วยยืนยันรายก่อนหน้านี้</td>\n",
              "      <td>เชียงใหม่</td>\n",
              "      <td>เมือง</td>\n",
              "    </tr>\n",
              "    <tr>\n",
              "      <th>30340</th>\n",
              "      <td>30341</td>\n",
              "      <td>9/4/2021</td>\n",
              "      <td>8/4/2021</td>\n",
              "      <td>ชาย</td>\n",
              "      <td>22.0</td>\n",
              "      <td>ปี</td>\n",
              "      <td>Thailand</td>\n",
              "      <td>เชียงใหม่</td>\n",
              "      <td>สถานบันเทิง</td>\n",
              "      <td>เชียงใหม่</td>\n",
              "      <td>เมืองเชียงใหม่</td>\n",
              "    </tr>\n",
              "    <tr>\n",
              "      <th>31499</th>\n",
              "      <td>31500</td>\n",
              "      <td>10/4/2021</td>\n",
              "      <td>9/4/2021</td>\n",
              "      <td>ชาย</td>\n",
              "      <td>22.0</td>\n",
              "      <td>ปี</td>\n",
              "      <td>Thailand</td>\n",
              "      <td>เชียงใหม่</td>\n",
              "      <td>สถานบันเทิง</td>\n",
              "      <td>เชียงใหม่</td>\n",
              "      <td>NaN</td>\n",
              "    </tr>\n",
              "    <tr>\n",
              "      <th>31500</th>\n",
              "      <td>31501</td>\n",
              "      <td>10/4/2021</td>\n",
              "      <td>9/4/2021</td>\n",
              "      <td>ชาย</td>\n",
              "      <td>22.0</td>\n",
              "      <td>ปี</td>\n",
              "      <td>Thailand</td>\n",
              "      <td>เชียงใหม่</td>\n",
              "      <td>สถานบันเทิง</td>\n",
              "      <td>เชียงใหม่</td>\n",
              "      <td>NaN</td>\n",
              "    </tr>\n",
              "    <tr>\n",
              "      <th>31501</th>\n",
              "      <td>31502</td>\n",
              "      <td>10/4/2021</td>\n",
              "      <td>9/4/2021</td>\n",
              "      <td>ชาย</td>\n",
              "      <td>20.0</td>\n",
              "      <td>ปี</td>\n",
              "      <td>Thailand</td>\n",
              "      <td>เชียงใหม่</td>\n",
              "      <td>สถานบันเทิง</td>\n",
              "      <td>เชียงใหม่</td>\n",
              "      <td>NaN</td>\n",
              "    </tr>\n",
              "    <tr>\n",
              "      <th>...</th>\n",
              "      <td>...</td>\n",
              "      <td>...</td>\n",
              "      <td>...</td>\n",
              "      <td>...</td>\n",
              "      <td>...</td>\n",
              "      <td>...</td>\n",
              "      <td>...</td>\n",
              "      <td>...</td>\n",
              "      <td>...</td>\n",
              "      <td>...</td>\n",
              "      <td>...</td>\n",
              "    </tr>\n",
              "    <tr>\n",
              "      <th>481940</th>\n",
              "      <td>481941</td>\n",
              "      <td>25/7/2021</td>\n",
              "      <td>24/7/2021</td>\n",
              "      <td>ชาย</td>\n",
              "      <td>21.0</td>\n",
              "      <td>ปี</td>\n",
              "      <td>Thailand</td>\n",
              "      <td>เชียงใหม่</td>\n",
              "      <td>สัมผัสใกล้ชิดกับผู้ป่วยยืนยันรายก่อนหน้านี้</td>\n",
              "      <td>เชียงใหม่</td>\n",
              "      <td>หางดง</td>\n",
              "    </tr>\n",
              "    <tr>\n",
              "      <th>481953</th>\n",
              "      <td>481954</td>\n",
              "      <td>25/7/2021</td>\n",
              "      <td>24/7/2021</td>\n",
              "      <td>ชาย</td>\n",
              "      <td>19.0</td>\n",
              "      <td>ปี</td>\n",
              "      <td>Thailand</td>\n",
              "      <td>เชียงใหม่</td>\n",
              "      <td>สัมผัสใกล้ชิดกับผู้ป่วยยืนยันรายก่อนหน้านี้</td>\n",
              "      <td>เชียงใหม่</td>\n",
              "      <td>หางดง</td>\n",
              "    </tr>\n",
              "    <tr>\n",
              "      <th>481961</th>\n",
              "      <td>481962</td>\n",
              "      <td>25/7/2021</td>\n",
              "      <td>24/7/2021</td>\n",
              "      <td>ชาย</td>\n",
              "      <td>22.0</td>\n",
              "      <td>ปี</td>\n",
              "      <td>Thailand</td>\n",
              "      <td>เชียงใหม่</td>\n",
              "      <td>สัมผัสใกล้ชิดกับผู้ป่วยยืนยันรายก่อนหน้านี้</td>\n",
              "      <td>เชียงใหม่</td>\n",
              "      <td>เชียงดาว</td>\n",
              "    </tr>\n",
              "    <tr>\n",
              "      <th>497281</th>\n",
              "      <td>497282</td>\n",
              "      <td>26/7/2021</td>\n",
              "      <td>25/7/2021</td>\n",
              "      <td>ชาย</td>\n",
              "      <td>22.0</td>\n",
              "      <td>ปี</td>\n",
              "      <td>NaN</td>\n",
              "      <td>เชียงใหม่</td>\n",
              "      <td>สัมผัสใกล้ชิดกับผู้ป่วยยืนยันรายก่อนหน้านี้</td>\n",
              "      <td>เชียงใหม่</td>\n",
              "      <td>เชียงดาว</td>\n",
              "    </tr>\n",
              "    <tr>\n",
              "      <th>497302</th>\n",
              "      <td>497303</td>\n",
              "      <td>26/7/2021</td>\n",
              "      <td>25/7/2021</td>\n",
              "      <td>ชาย</td>\n",
              "      <td>22.0</td>\n",
              "      <td>ปี</td>\n",
              "      <td>NaN</td>\n",
              "      <td>เชียงใหม่</td>\n",
              "      <td>สัมผัสใกล้ชิดกับผู้ป่วยยืนยันรายก่อนหน้านี้</td>\n",
              "      <td>เชียงใหม่</td>\n",
              "      <td>หางดง</td>\n",
              "    </tr>\n",
              "  </tbody>\n",
              "</table>\n",
              "<p>411 rows × 11 columns</p>\n",
              "</div>"
            ],
            "text/plain": [
              "           No. announce_date  ... province_of_onset district_of_onset\n",
              "1407      1408     30/3/2020  ...         เชียงใหม่             เมือง\n",
              "30340    30341      9/4/2021  ...         เชียงใหม่    เมืองเชียงใหม่\n",
              "31499    31500     10/4/2021  ...         เชียงใหม่               NaN\n",
              "31500    31501     10/4/2021  ...         เชียงใหม่               NaN\n",
              "31501    31502     10/4/2021  ...         เชียงใหม่               NaN\n",
              "...        ...           ...  ...               ...               ...\n",
              "481940  481941     25/7/2021  ...         เชียงใหม่             หางดง\n",
              "481953  481954     25/7/2021  ...         เชียงใหม่             หางดง\n",
              "481961  481962     25/7/2021  ...         เชียงใหม่          เชียงดาว\n",
              "497281  497282     26/7/2021  ...         เชียงใหม่          เชียงดาว\n",
              "497302  497303     26/7/2021  ...         เชียงใหม่             หางดง\n",
              "\n",
              "[411 rows x 11 columns]"
            ]
          },
          "metadata": {
            "tags": []
          },
          "execution_count": 53
        }
      ]
    },
    {
      "cell_type": "markdown",
      "metadata": {
        "id": "TlMe66024OSZ"
      },
      "source": [
        "##### 5. หาอายุเฉลี่ยของคนที่พบเชื้อที่ ขอนแก่น"
      ]
    },
    {
      "cell_type": "code",
      "metadata": {
        "colab": {
          "base_uri": "https://localhost:8080/"
        },
        "id": "hvWXXseT7ffH",
        "outputId": "7e582887-efe2-4618-8eaa-176bcc3a3390"
      },
      "source": [
        "KK_cases = data_cases2['province_of_onset'] == 'ขอนแก่น'\n",
        "KK_mean = data_cases2[KK_cases]['age'].mean()\n",
        "KK_mean"
      ],
      "execution_count": 54,
      "outputs": [
        {
          "output_type": "execute_result",
          "data": {
            "text/plain": [
              "34.0952533675433"
            ]
          },
          "metadata": {
            "tags": []
          },
          "execution_count": 54
        }
      ]
    },
    {
      "cell_type": "markdown",
      "metadata": {
        "id": "UX_fXFCr3wNk"
      },
      "source": [
        "#### พบที่ขอนแก่น"
      ]
    },
    {
      "cell_type": "code",
      "metadata": {
        "colab": {
          "base_uri": "https://localhost:8080/",
          "height": 0
        },
        "id": "EQ7_e2jk3zO4",
        "outputId": "6876da1f-572a-4b07-87a0-65dbc241f26a"
      },
      "source": [
        "data_cases2[KK_cases]"
      ],
      "execution_count": 55,
      "outputs": [
        {
          "output_type": "execute_result",
          "data": {
            "text/html": [
              "<div>\n",
              "<style scoped>\n",
              "    .dataframe tbody tr th:only-of-type {\n",
              "        vertical-align: middle;\n",
              "    }\n",
              "\n",
              "    .dataframe tbody tr th {\n",
              "        vertical-align: top;\n",
              "    }\n",
              "\n",
              "    .dataframe thead th {\n",
              "        text-align: right;\n",
              "    }\n",
              "</style>\n",
              "<table border=\"1\" class=\"dataframe\">\n",
              "  <thead>\n",
              "    <tr style=\"text-align: right;\">\n",
              "      <th></th>\n",
              "      <th>No.</th>\n",
              "      <th>announce_date</th>\n",
              "      <th>Notified date</th>\n",
              "      <th>sex</th>\n",
              "      <th>age</th>\n",
              "      <th>Unit</th>\n",
              "      <th>nationality</th>\n",
              "      <th>province_of_isolation</th>\n",
              "      <th>risk</th>\n",
              "      <th>province_of_onset</th>\n",
              "      <th>district_of_onset</th>\n",
              "    </tr>\n",
              "  </thead>\n",
              "  <tbody>\n",
              "    <tr>\n",
              "      <th>181</th>\n",
              "      <td>182</td>\n",
              "      <td>18/3/2020</td>\n",
              "      <td>15/3/2020</td>\n",
              "      <td>ชาย</td>\n",
              "      <td>33.0</td>\n",
              "      <td>ปี</td>\n",
              "      <td>Thailand</td>\n",
              "      <td>ขอนแก่น</td>\n",
              "      <td>สนามมวย</td>\n",
              "      <td>ขอนแก่น</td>\n",
              "      <td>เมือง</td>\n",
              "    </tr>\n",
              "    <tr>\n",
              "      <th>463</th>\n",
              "      <td>464</td>\n",
              "      <td>22/3/2020</td>\n",
              "      <td>21/3/2020</td>\n",
              "      <td>หญิง</td>\n",
              "      <td>36.0</td>\n",
              "      <td>ปี</td>\n",
              "      <td>Thailand</td>\n",
              "      <td>ขอนแก่น</td>\n",
              "      <td>สัมผัสใกล้ชิดกับผู้ป่วยยืนยันรายก่อนหน้านี้</td>\n",
              "      <td>ขอนแก่น</td>\n",
              "      <td>เมือง</td>\n",
              "    </tr>\n",
              "    <tr>\n",
              "      <th>1467</th>\n",
              "      <td>1468</td>\n",
              "      <td>30/3/2020</td>\n",
              "      <td>26/3/2020</td>\n",
              "      <td>ชาย</td>\n",
              "      <td>19.0</td>\n",
              "      <td>ปี</td>\n",
              "      <td>Thailand</td>\n",
              "      <td>ขอนแก่น</td>\n",
              "      <td>คนไทยเดินทางกลับจากต่างประเทศ</td>\n",
              "      <td>ขอนแก่น</td>\n",
              "      <td>เมือง</td>\n",
              "    </tr>\n",
              "    <tr>\n",
              "      <th>1971</th>\n",
              "      <td>1972</td>\n",
              "      <td>3/4/2020</td>\n",
              "      <td>31/3/2020</td>\n",
              "      <td>หญิง</td>\n",
              "      <td>70.0</td>\n",
              "      <td>ปี</td>\n",
              "      <td>Thailand</td>\n",
              "      <td>ขอนแก่น</td>\n",
              "      <td>ไปสถานที่ชุมชน เช่น ตลาดนัด สถานที่ท่องเที่ยว</td>\n",
              "      <td>ขอนแก่น</td>\n",
              "      <td>เมือง</td>\n",
              "    </tr>\n",
              "    <tr>\n",
              "      <th>2638</th>\n",
              "      <td>2639</td>\n",
              "      <td>15/4/2020</td>\n",
              "      <td>14/4/2020</td>\n",
              "      <td>หญิง</td>\n",
              "      <td>63.0</td>\n",
              "      <td>ปี</td>\n",
              "      <td>Thailand</td>\n",
              "      <td>ขอนแก่น</td>\n",
              "      <td>สัมผัสผู้เดินทางจากต่างประเทศ</td>\n",
              "      <td>ขอนแก่น</td>\n",
              "      <td>น้ำพอง</td>\n",
              "    </tr>\n",
              "    <tr>\n",
              "      <th>...</th>\n",
              "      <td>...</td>\n",
              "      <td>...</td>\n",
              "      <td>...</td>\n",
              "      <td>...</td>\n",
              "      <td>...</td>\n",
              "      <td>...</td>\n",
              "      <td>...</td>\n",
              "      <td>...</td>\n",
              "      <td>...</td>\n",
              "      <td>...</td>\n",
              "      <td>...</td>\n",
              "    </tr>\n",
              "    <tr>\n",
              "      <th>507541</th>\n",
              "      <td>507542</td>\n",
              "      <td>26/7/2021</td>\n",
              "      <td>25/7/2021</td>\n",
              "      <td>หญิง</td>\n",
              "      <td>24.0</td>\n",
              "      <td>ปี</td>\n",
              "      <td>Thailand</td>\n",
              "      <td>อุบลราชธานี</td>\n",
              "      <td>อื่นๆ</td>\n",
              "      <td>ขอนแก่น</td>\n",
              "      <td>NaN</td>\n",
              "    </tr>\n",
              "    <tr>\n",
              "      <th>507542</th>\n",
              "      <td>507543</td>\n",
              "      <td>26/7/2021</td>\n",
              "      <td>25/7/2021</td>\n",
              "      <td>หญิง</td>\n",
              "      <td>51.0</td>\n",
              "      <td>ปี</td>\n",
              "      <td>Thailand</td>\n",
              "      <td>อุบลราชธานี</td>\n",
              "      <td>อื่นๆ</td>\n",
              "      <td>ขอนแก่น</td>\n",
              "      <td>NaN</td>\n",
              "    </tr>\n",
              "    <tr>\n",
              "      <th>507543</th>\n",
              "      <td>507544</td>\n",
              "      <td>26/7/2021</td>\n",
              "      <td>25/7/2021</td>\n",
              "      <td>หญิง</td>\n",
              "      <td>13.0</td>\n",
              "      <td>ปี</td>\n",
              "      <td>Thailand</td>\n",
              "      <td>อุบลราชธานี</td>\n",
              "      <td>อื่นๆ</td>\n",
              "      <td>ขอนแก่น</td>\n",
              "      <td>NaN</td>\n",
              "    </tr>\n",
              "    <tr>\n",
              "      <th>507544</th>\n",
              "      <td>507545</td>\n",
              "      <td>26/7/2021</td>\n",
              "      <td>25/7/2021</td>\n",
              "      <td>หญิง</td>\n",
              "      <td>23.0</td>\n",
              "      <td>ปี</td>\n",
              "      <td>Thailand</td>\n",
              "      <td>อุบลราชธานี</td>\n",
              "      <td>อื่นๆ</td>\n",
              "      <td>ขอนแก่น</td>\n",
              "      <td>NaN</td>\n",
              "    </tr>\n",
              "    <tr>\n",
              "      <th>507546</th>\n",
              "      <td>507547</td>\n",
              "      <td>26/7/2021</td>\n",
              "      <td>25/7/2021</td>\n",
              "      <td>ชาย</td>\n",
              "      <td>24.0</td>\n",
              "      <td>ปี</td>\n",
              "      <td>Thailand</td>\n",
              "      <td>อุบลราชธานี</td>\n",
              "      <td>อื่นๆ</td>\n",
              "      <td>ขอนแก่น</td>\n",
              "      <td>NaN</td>\n",
              "    </tr>\n",
              "  </tbody>\n",
              "</table>\n",
              "<p>3149 rows × 11 columns</p>\n",
              "</div>"
            ],
            "text/plain": [
              "           No. announce_date  ... province_of_onset district_of_onset\n",
              "181        182     18/3/2020  ...           ขอนแก่น             เมือง\n",
              "463        464     22/3/2020  ...           ขอนแก่น             เมือง\n",
              "1467      1468     30/3/2020  ...           ขอนแก่น             เมือง\n",
              "1971      1972      3/4/2020  ...           ขอนแก่น             เมือง\n",
              "2638      2639     15/4/2020  ...           ขอนแก่น            น้ำพอง\n",
              "...        ...           ...  ...               ...               ...\n",
              "507541  507542     26/7/2021  ...           ขอนแก่น               NaN\n",
              "507542  507543     26/7/2021  ...           ขอนแก่น               NaN\n",
              "507543  507544     26/7/2021  ...           ขอนแก่น               NaN\n",
              "507544  507545     26/7/2021  ...           ขอนแก่น               NaN\n",
              "507546  507547     26/7/2021  ...           ขอนแก่น               NaN\n",
              "\n",
              "[3149 rows x 11 columns]"
            ]
          },
          "metadata": {
            "tags": []
          },
          "execution_count": 55
        }
      ]
    },
    {
      "cell_type": "markdown",
      "metadata": {
        "id": "fooMS7bL4HHd"
      },
      "source": [
        "#### เอาค่า mean ไปเติมตรง missing column 'age'"
      ]
    },
    {
      "cell_type": "code",
      "metadata": {
        "colab": {
          "base_uri": "https://localhost:8080/"
        },
        "id": "FcEOb68N4G3d",
        "outputId": "c8c34db7-05d9-4ce8-82fd-9330be4f3416"
      },
      "source": [
        "data_KK = data_cases2[KK_cases]\n",
        "data_KK.isnull().any()"
      ],
      "execution_count": 56,
      "outputs": [
        {
          "output_type": "execute_result",
          "data": {
            "text/plain": [
              "No.                      False\n",
              "announce_date            False\n",
              "Notified date            False\n",
              "sex                       True\n",
              "age                       True\n",
              "Unit                      True\n",
              "nationality               True\n",
              "province_of_isolation    False\n",
              "risk                      True\n",
              "province_of_onset        False\n",
              "district_of_onset         True\n",
              "dtype: bool"
            ]
          },
          "metadata": {
            "tags": []
          },
          "execution_count": 56
        }
      ]
    },
    {
      "cell_type": "code",
      "metadata": {
        "colab": {
          "base_uri": "https://localhost:8080/"
        },
        "id": "T_O_8iyZ5hbe",
        "outputId": "9a72e7f6-bda8-4eff-c9ef-f50d87847564"
      },
      "source": [
        "# เติม  mean ลงไปแทนค่า missing\n",
        "data_KK[['age']] = data_KK[['age']].fillna(KK_mean)"
      ],
      "execution_count": 57,
      "outputs": [
        {
          "output_type": "stream",
          "text": [
            "/usr/local/lib/python3.7/dist-packages/pandas/core/frame.py:3069: SettingWithCopyWarning: \n",
            "A value is trying to be set on a copy of a slice from a DataFrame.\n",
            "Try using .loc[row_indexer,col_indexer] = value instead\n",
            "\n",
            "See the caveats in the documentation: https://pandas.pydata.org/pandas-docs/stable/user_guide/indexing.html#returning-a-view-versus-a-copy\n",
            "  self[k1] = value[k2]\n"
          ],
          "name": "stderr"
        }
      ]
    },
    {
      "cell_type": "code",
      "metadata": {
        "colab": {
          "base_uri": "https://localhost:8080/"
        },
        "id": "aD_Nads66bXv",
        "outputId": "e8901057-3085-423f-87bd-1b481d45e4ad"
      },
      "source": [
        "data_KK.isnull().any()"
      ],
      "execution_count": 58,
      "outputs": [
        {
          "output_type": "execute_result",
          "data": {
            "text/plain": [
              "No.                      False\n",
              "announce_date            False\n",
              "Notified date            False\n",
              "sex                       True\n",
              "age                      False\n",
              "Unit                      True\n",
              "nationality               True\n",
              "province_of_isolation    False\n",
              "risk                      True\n",
              "province_of_onset        False\n",
              "district_of_onset         True\n",
              "dtype: bool"
            ]
          },
          "metadata": {
            "tags": []
          },
          "execution_count": 58
        }
      ]
    },
    {
      "cell_type": "code",
      "metadata": {
        "colab": {
          "base_uri": "https://localhost:8080/",
          "height": 0
        },
        "id": "T_Rpcadt6te0",
        "outputId": "f9a18755-d7e9-4679-a0e8-b80982f7cad7"
      },
      "source": [
        "data_KK"
      ],
      "execution_count": 59,
      "outputs": [
        {
          "output_type": "execute_result",
          "data": {
            "text/html": [
              "<div>\n",
              "<style scoped>\n",
              "    .dataframe tbody tr th:only-of-type {\n",
              "        vertical-align: middle;\n",
              "    }\n",
              "\n",
              "    .dataframe tbody tr th {\n",
              "        vertical-align: top;\n",
              "    }\n",
              "\n",
              "    .dataframe thead th {\n",
              "        text-align: right;\n",
              "    }\n",
              "</style>\n",
              "<table border=\"1\" class=\"dataframe\">\n",
              "  <thead>\n",
              "    <tr style=\"text-align: right;\">\n",
              "      <th></th>\n",
              "      <th>No.</th>\n",
              "      <th>announce_date</th>\n",
              "      <th>Notified date</th>\n",
              "      <th>sex</th>\n",
              "      <th>age</th>\n",
              "      <th>Unit</th>\n",
              "      <th>nationality</th>\n",
              "      <th>province_of_isolation</th>\n",
              "      <th>risk</th>\n",
              "      <th>province_of_onset</th>\n",
              "      <th>district_of_onset</th>\n",
              "    </tr>\n",
              "  </thead>\n",
              "  <tbody>\n",
              "    <tr>\n",
              "      <th>181</th>\n",
              "      <td>182</td>\n",
              "      <td>18/3/2020</td>\n",
              "      <td>15/3/2020</td>\n",
              "      <td>ชาย</td>\n",
              "      <td>33.0</td>\n",
              "      <td>ปี</td>\n",
              "      <td>Thailand</td>\n",
              "      <td>ขอนแก่น</td>\n",
              "      <td>สนามมวย</td>\n",
              "      <td>ขอนแก่น</td>\n",
              "      <td>เมือง</td>\n",
              "    </tr>\n",
              "    <tr>\n",
              "      <th>463</th>\n",
              "      <td>464</td>\n",
              "      <td>22/3/2020</td>\n",
              "      <td>21/3/2020</td>\n",
              "      <td>หญิง</td>\n",
              "      <td>36.0</td>\n",
              "      <td>ปี</td>\n",
              "      <td>Thailand</td>\n",
              "      <td>ขอนแก่น</td>\n",
              "      <td>สัมผัสใกล้ชิดกับผู้ป่วยยืนยันรายก่อนหน้านี้</td>\n",
              "      <td>ขอนแก่น</td>\n",
              "      <td>เมือง</td>\n",
              "    </tr>\n",
              "    <tr>\n",
              "      <th>1467</th>\n",
              "      <td>1468</td>\n",
              "      <td>30/3/2020</td>\n",
              "      <td>26/3/2020</td>\n",
              "      <td>ชาย</td>\n",
              "      <td>19.0</td>\n",
              "      <td>ปี</td>\n",
              "      <td>Thailand</td>\n",
              "      <td>ขอนแก่น</td>\n",
              "      <td>คนไทยเดินทางกลับจากต่างประเทศ</td>\n",
              "      <td>ขอนแก่น</td>\n",
              "      <td>เมือง</td>\n",
              "    </tr>\n",
              "    <tr>\n",
              "      <th>1971</th>\n",
              "      <td>1972</td>\n",
              "      <td>3/4/2020</td>\n",
              "      <td>31/3/2020</td>\n",
              "      <td>หญิง</td>\n",
              "      <td>70.0</td>\n",
              "      <td>ปี</td>\n",
              "      <td>Thailand</td>\n",
              "      <td>ขอนแก่น</td>\n",
              "      <td>ไปสถานที่ชุมชน เช่น ตลาดนัด สถานที่ท่องเที่ยว</td>\n",
              "      <td>ขอนแก่น</td>\n",
              "      <td>เมือง</td>\n",
              "    </tr>\n",
              "    <tr>\n",
              "      <th>2638</th>\n",
              "      <td>2639</td>\n",
              "      <td>15/4/2020</td>\n",
              "      <td>14/4/2020</td>\n",
              "      <td>หญิง</td>\n",
              "      <td>63.0</td>\n",
              "      <td>ปี</td>\n",
              "      <td>Thailand</td>\n",
              "      <td>ขอนแก่น</td>\n",
              "      <td>สัมผัสผู้เดินทางจากต่างประเทศ</td>\n",
              "      <td>ขอนแก่น</td>\n",
              "      <td>น้ำพอง</td>\n",
              "    </tr>\n",
              "    <tr>\n",
              "      <th>...</th>\n",
              "      <td>...</td>\n",
              "      <td>...</td>\n",
              "      <td>...</td>\n",
              "      <td>...</td>\n",
              "      <td>...</td>\n",
              "      <td>...</td>\n",
              "      <td>...</td>\n",
              "      <td>...</td>\n",
              "      <td>...</td>\n",
              "      <td>...</td>\n",
              "      <td>...</td>\n",
              "    </tr>\n",
              "    <tr>\n",
              "      <th>507541</th>\n",
              "      <td>507542</td>\n",
              "      <td>26/7/2021</td>\n",
              "      <td>25/7/2021</td>\n",
              "      <td>หญิง</td>\n",
              "      <td>24.0</td>\n",
              "      <td>ปี</td>\n",
              "      <td>Thailand</td>\n",
              "      <td>อุบลราชธานี</td>\n",
              "      <td>อื่นๆ</td>\n",
              "      <td>ขอนแก่น</td>\n",
              "      <td>NaN</td>\n",
              "    </tr>\n",
              "    <tr>\n",
              "      <th>507542</th>\n",
              "      <td>507543</td>\n",
              "      <td>26/7/2021</td>\n",
              "      <td>25/7/2021</td>\n",
              "      <td>หญิง</td>\n",
              "      <td>51.0</td>\n",
              "      <td>ปี</td>\n",
              "      <td>Thailand</td>\n",
              "      <td>อุบลราชธานี</td>\n",
              "      <td>อื่นๆ</td>\n",
              "      <td>ขอนแก่น</td>\n",
              "      <td>NaN</td>\n",
              "    </tr>\n",
              "    <tr>\n",
              "      <th>507543</th>\n",
              "      <td>507544</td>\n",
              "      <td>26/7/2021</td>\n",
              "      <td>25/7/2021</td>\n",
              "      <td>หญิง</td>\n",
              "      <td>13.0</td>\n",
              "      <td>ปี</td>\n",
              "      <td>Thailand</td>\n",
              "      <td>อุบลราชธานี</td>\n",
              "      <td>อื่นๆ</td>\n",
              "      <td>ขอนแก่น</td>\n",
              "      <td>NaN</td>\n",
              "    </tr>\n",
              "    <tr>\n",
              "      <th>507544</th>\n",
              "      <td>507545</td>\n",
              "      <td>26/7/2021</td>\n",
              "      <td>25/7/2021</td>\n",
              "      <td>หญิง</td>\n",
              "      <td>23.0</td>\n",
              "      <td>ปี</td>\n",
              "      <td>Thailand</td>\n",
              "      <td>อุบลราชธานี</td>\n",
              "      <td>อื่นๆ</td>\n",
              "      <td>ขอนแก่น</td>\n",
              "      <td>NaN</td>\n",
              "    </tr>\n",
              "    <tr>\n",
              "      <th>507546</th>\n",
              "      <td>507547</td>\n",
              "      <td>26/7/2021</td>\n",
              "      <td>25/7/2021</td>\n",
              "      <td>ชาย</td>\n",
              "      <td>24.0</td>\n",
              "      <td>ปี</td>\n",
              "      <td>Thailand</td>\n",
              "      <td>อุบลราชธานี</td>\n",
              "      <td>อื่นๆ</td>\n",
              "      <td>ขอนแก่น</td>\n",
              "      <td>NaN</td>\n",
              "    </tr>\n",
              "  </tbody>\n",
              "</table>\n",
              "<p>3149 rows × 11 columns</p>\n",
              "</div>"
            ],
            "text/plain": [
              "           No. announce_date  ... province_of_onset district_of_onset\n",
              "181        182     18/3/2020  ...           ขอนแก่น             เมือง\n",
              "463        464     22/3/2020  ...           ขอนแก่น             เมือง\n",
              "1467      1468     30/3/2020  ...           ขอนแก่น             เมือง\n",
              "1971      1972      3/4/2020  ...           ขอนแก่น             เมือง\n",
              "2638      2639     15/4/2020  ...           ขอนแก่น            น้ำพอง\n",
              "...        ...           ...  ...               ...               ...\n",
              "507541  507542     26/7/2021  ...           ขอนแก่น               NaN\n",
              "507542  507543     26/7/2021  ...           ขอนแก่น               NaN\n",
              "507543  507544     26/7/2021  ...           ขอนแก่น               NaN\n",
              "507544  507545     26/7/2021  ...           ขอนแก่น               NaN\n",
              "507546  507547     26/7/2021  ...           ขอนแก่น               NaN\n",
              "\n",
              "[3149 rows x 11 columns]"
            ]
          },
          "metadata": {
            "tags": []
          },
          "execution_count": 59
        }
      ]
    },
    {
      "cell_type": "markdown",
      "metadata": {
        "id": "j5g86vUC7YhZ"
      },
      "source": [
        "เติมค่า mean แทน missing ของเชียงใหม่"
      ]
    },
    {
      "cell_type": "code",
      "metadata": {
        "colab": {
          "base_uri": "https://localhost:8080/"
        },
        "id": "_2ixYEdQ7dr1",
        "outputId": "5a8bbff4-2240-461c-f45e-85cfd1ade18d"
      },
      "source": [
        "# หาค่า mean ของเชียงใหม่\n",
        "CM_cases = data_cases2['province_of_onset'] == 'เชียงใหม่'\n",
        "CM_mean = data_cases2[CM_cases]['age'].mean()\n",
        "\n",
        "# เลือกมาเฉพาะ data เชียงใหม่\n",
        "data_CM = data_cases2[CM_cases]\n",
        "\n",
        "# เติมค่า mean แทน missing\n",
        "data_CM[['age']] = data_CM[['age']].fillna(CM_mean)"
      ],
      "execution_count": 60,
      "outputs": [
        {
          "output_type": "stream",
          "text": [
            "/usr/local/lib/python3.7/dist-packages/pandas/core/frame.py:3069: SettingWithCopyWarning: \n",
            "A value is trying to be set on a copy of a slice from a DataFrame.\n",
            "Try using .loc[row_indexer,col_indexer] = value instead\n",
            "\n",
            "See the caveats in the documentation: https://pandas.pydata.org/pandas-docs/stable/user_guide/indexing.html#returning-a-view-versus-a-copy\n",
            "  self[k1] = value[k2]\n"
          ],
          "name": "stderr"
        }
      ]
    },
    {
      "cell_type": "code",
      "metadata": {
        "colab": {
          "base_uri": "https://localhost:8080/",
          "height": 0
        },
        "id": "u7cVjGES8U0T",
        "outputId": "b74225df-c9ce-4d96-f55c-38a7c43432f0"
      },
      "source": [
        "data_CM"
      ],
      "execution_count": 61,
      "outputs": [
        {
          "output_type": "execute_result",
          "data": {
            "text/html": [
              "<div>\n",
              "<style scoped>\n",
              "    .dataframe tbody tr th:only-of-type {\n",
              "        vertical-align: middle;\n",
              "    }\n",
              "\n",
              "    .dataframe tbody tr th {\n",
              "        vertical-align: top;\n",
              "    }\n",
              "\n",
              "    .dataframe thead th {\n",
              "        text-align: right;\n",
              "    }\n",
              "</style>\n",
              "<table border=\"1\" class=\"dataframe\">\n",
              "  <thead>\n",
              "    <tr style=\"text-align: right;\">\n",
              "      <th></th>\n",
              "      <th>No.</th>\n",
              "      <th>announce_date</th>\n",
              "      <th>Notified date</th>\n",
              "      <th>sex</th>\n",
              "      <th>age</th>\n",
              "      <th>Unit</th>\n",
              "      <th>nationality</th>\n",
              "      <th>province_of_isolation</th>\n",
              "      <th>risk</th>\n",
              "      <th>province_of_onset</th>\n",
              "      <th>district_of_onset</th>\n",
              "    </tr>\n",
              "  </thead>\n",
              "  <tbody>\n",
              "    <tr>\n",
              "      <th>16</th>\n",
              "      <td>17</td>\n",
              "      <td>31/1/2020</td>\n",
              "      <td>NaN</td>\n",
              "      <td>ชาย</td>\n",
              "      <td>28.0</td>\n",
              "      <td>ปี</td>\n",
              "      <td>China</td>\n",
              "      <td>เชียงใหม่</td>\n",
              "      <td>คนต่างชาติเดินทางมาจากต่างประเทศ</td>\n",
              "      <td>เชียงใหม่</td>\n",
              "      <td>หางดง</td>\n",
              "    </tr>\n",
              "    <tr>\n",
              "      <th>91</th>\n",
              "      <td>92</td>\n",
              "      <td>15/3/2020</td>\n",
              "      <td>NaN</td>\n",
              "      <td>ชาย</td>\n",
              "      <td>37.0</td>\n",
              "      <td>ปี</td>\n",
              "      <td>Thailand</td>\n",
              "      <td>เชียงใหม่</td>\n",
              "      <td>สนามมวย</td>\n",
              "      <td>เชียงใหม่</td>\n",
              "      <td>แม่ริม</td>\n",
              "    </tr>\n",
              "    <tr>\n",
              "      <th>185</th>\n",
              "      <td>186</td>\n",
              "      <td>18/3/2020</td>\n",
              "      <td>NaN</td>\n",
              "      <td>ชาย</td>\n",
              "      <td>31.0</td>\n",
              "      <td>ปี</td>\n",
              "      <td>Thailand</td>\n",
              "      <td>เชียงใหม่</td>\n",
              "      <td>สนามมวย</td>\n",
              "      <td>เชียงใหม่</td>\n",
              "      <td>นครพิงค์</td>\n",
              "    </tr>\n",
              "    <tr>\n",
              "      <th>192</th>\n",
              "      <td>193</td>\n",
              "      <td>18/3/2020</td>\n",
              "      <td>NaN</td>\n",
              "      <td>ชาย</td>\n",
              "      <td>32.0</td>\n",
              "      <td>ปี</td>\n",
              "      <td>Thailand</td>\n",
              "      <td>เชียงใหม่</td>\n",
              "      <td>สัมผัสใกล้ชิดกับผู้ป่วยยืนยันรายก่อนหน้านี้</td>\n",
              "      <td>เชียงใหม่</td>\n",
              "      <td>NaN</td>\n",
              "    </tr>\n",
              "    <tr>\n",
              "      <th>252</th>\n",
              "      <td>253</td>\n",
              "      <td>19/3/2020</td>\n",
              "      <td>NaN</td>\n",
              "      <td>ชาย</td>\n",
              "      <td>25.0</td>\n",
              "      <td>ปี</td>\n",
              "      <td>Thailand</td>\n",
              "      <td>เชียงใหม่</td>\n",
              "      <td>สัมผัสใกล้ชิดกับผู้ป่วยยืนยันรายก่อนหน้านี้</td>\n",
              "      <td>เชียงใหม่</td>\n",
              "      <td>NaN</td>\n",
              "    </tr>\n",
              "    <tr>\n",
              "      <th>...</th>\n",
              "      <td>...</td>\n",
              "      <td>...</td>\n",
              "      <td>...</td>\n",
              "      <td>...</td>\n",
              "      <td>...</td>\n",
              "      <td>...</td>\n",
              "      <td>...</td>\n",
              "      <td>...</td>\n",
              "      <td>...</td>\n",
              "      <td>...</td>\n",
              "      <td>...</td>\n",
              "    </tr>\n",
              "    <tr>\n",
              "      <th>497341</th>\n",
              "      <td>497342</td>\n",
              "      <td>26/7/2021</td>\n",
              "      <td>25/7/2021</td>\n",
              "      <td>ชาย</td>\n",
              "      <td>25.0</td>\n",
              "      <td>ปี</td>\n",
              "      <td>NaN</td>\n",
              "      <td>เชียงใหม่</td>\n",
              "      <td>อื่นๆ</td>\n",
              "      <td>เชียงใหม่</td>\n",
              "      <td>สันกำแพง</td>\n",
              "    </tr>\n",
              "    <tr>\n",
              "      <th>497342</th>\n",
              "      <td>497343</td>\n",
              "      <td>26/7/2021</td>\n",
              "      <td>25/7/2021</td>\n",
              "      <td>ชาย</td>\n",
              "      <td>25.0</td>\n",
              "      <td>ปี</td>\n",
              "      <td>NaN</td>\n",
              "      <td>เชียงใหม่</td>\n",
              "      <td>อื่นๆ</td>\n",
              "      <td>เชียงใหม่</td>\n",
              "      <td>NaN</td>\n",
              "    </tr>\n",
              "    <tr>\n",
              "      <th>497343</th>\n",
              "      <td>497344</td>\n",
              "      <td>26/7/2021</td>\n",
              "      <td>25/7/2021</td>\n",
              "      <td>หญิง</td>\n",
              "      <td>35.0</td>\n",
              "      <td>ปี</td>\n",
              "      <td>NaN</td>\n",
              "      <td>เชียงใหม่</td>\n",
              "      <td>อื่นๆ</td>\n",
              "      <td>เชียงใหม่</td>\n",
              "      <td>-เลือกอำเภอ-</td>\n",
              "    </tr>\n",
              "    <tr>\n",
              "      <th>497344</th>\n",
              "      <td>497345</td>\n",
              "      <td>26/7/2021</td>\n",
              "      <td>25/7/2021</td>\n",
              "      <td>ชาย</td>\n",
              "      <td>63.0</td>\n",
              "      <td>ปี</td>\n",
              "      <td>NaN</td>\n",
              "      <td>เชียงใหม่</td>\n",
              "      <td>อื่นๆ</td>\n",
              "      <td>เชียงใหม่</td>\n",
              "      <td>แม่ริม</td>\n",
              "    </tr>\n",
              "    <tr>\n",
              "      <th>497345</th>\n",
              "      <td>497346</td>\n",
              "      <td>26/7/2021</td>\n",
              "      <td>25/7/2021</td>\n",
              "      <td>หญิง</td>\n",
              "      <td>29.0</td>\n",
              "      <td>ปี</td>\n",
              "      <td>NaN</td>\n",
              "      <td>เชียงใหม่</td>\n",
              "      <td>สัมผัสใกล้ชิดกับผู้ป่วยยืนยันรายก่อนหน้านี้</td>\n",
              "      <td>เชียงใหม่</td>\n",
              "      <td>แม่อาย</td>\n",
              "    </tr>\n",
              "  </tbody>\n",
              "</table>\n",
              "<p>4074 rows × 11 columns</p>\n",
              "</div>"
            ],
            "text/plain": [
              "           No. announce_date  ... province_of_onset district_of_onset\n",
              "16          17     31/1/2020  ...         เชียงใหม่             หางดง\n",
              "91          92     15/3/2020  ...         เชียงใหม่            แม่ริม\n",
              "185        186     18/3/2020  ...         เชียงใหม่          นครพิงค์\n",
              "192        193     18/3/2020  ...         เชียงใหม่               NaN\n",
              "252        253     19/3/2020  ...         เชียงใหม่               NaN\n",
              "...        ...           ...  ...               ...               ...\n",
              "497341  497342     26/7/2021  ...         เชียงใหม่          สันกำแพง\n",
              "497342  497343     26/7/2021  ...         เชียงใหม่               NaN\n",
              "497343  497344     26/7/2021  ...         เชียงใหม่      -เลือกอำเภอ-\n",
              "497344  497345     26/7/2021  ...         เชียงใหม่            แม่ริม\n",
              "497345  497346     26/7/2021  ...         เชียงใหม่            แม่อาย\n",
              "\n",
              "[4074 rows x 11 columns]"
            ]
          },
          "metadata": {
            "tags": []
          },
          "execution_count": 61
        }
      ]
    },
    {
      "cell_type": "markdown",
      "metadata": {
        "id": "kG1YU6AX6_XW"
      },
      "source": [
        "## ต่อตารางในแนวแกน Y [PD]"
      ]
    },
    {
      "cell_type": "code",
      "metadata": {
        "colab": {
          "base_uri": "https://localhost:8080/",
          "height": 0
        },
        "id": "5JfPSWCF7FBw",
        "outputId": "7752914e-57ba-44bf-8736-102447c5feb9"
      },
      "source": [
        "data_CMKK = pd.concat([data_CM,data_KK])\n",
        "data_CMKK"
      ],
      "execution_count": 62,
      "outputs": [
        {
          "output_type": "execute_result",
          "data": {
            "text/html": [
              "<div>\n",
              "<style scoped>\n",
              "    .dataframe tbody tr th:only-of-type {\n",
              "        vertical-align: middle;\n",
              "    }\n",
              "\n",
              "    .dataframe tbody tr th {\n",
              "        vertical-align: top;\n",
              "    }\n",
              "\n",
              "    .dataframe thead th {\n",
              "        text-align: right;\n",
              "    }\n",
              "</style>\n",
              "<table border=\"1\" class=\"dataframe\">\n",
              "  <thead>\n",
              "    <tr style=\"text-align: right;\">\n",
              "      <th></th>\n",
              "      <th>No.</th>\n",
              "      <th>announce_date</th>\n",
              "      <th>Notified date</th>\n",
              "      <th>sex</th>\n",
              "      <th>age</th>\n",
              "      <th>Unit</th>\n",
              "      <th>nationality</th>\n",
              "      <th>province_of_isolation</th>\n",
              "      <th>risk</th>\n",
              "      <th>province_of_onset</th>\n",
              "      <th>district_of_onset</th>\n",
              "    </tr>\n",
              "  </thead>\n",
              "  <tbody>\n",
              "    <tr>\n",
              "      <th>16</th>\n",
              "      <td>17</td>\n",
              "      <td>31/1/2020</td>\n",
              "      <td>NaN</td>\n",
              "      <td>ชาย</td>\n",
              "      <td>28.0</td>\n",
              "      <td>ปี</td>\n",
              "      <td>China</td>\n",
              "      <td>เชียงใหม่</td>\n",
              "      <td>คนต่างชาติเดินทางมาจากต่างประเทศ</td>\n",
              "      <td>เชียงใหม่</td>\n",
              "      <td>หางดง</td>\n",
              "    </tr>\n",
              "    <tr>\n",
              "      <th>91</th>\n",
              "      <td>92</td>\n",
              "      <td>15/3/2020</td>\n",
              "      <td>NaN</td>\n",
              "      <td>ชาย</td>\n",
              "      <td>37.0</td>\n",
              "      <td>ปี</td>\n",
              "      <td>Thailand</td>\n",
              "      <td>เชียงใหม่</td>\n",
              "      <td>สนามมวย</td>\n",
              "      <td>เชียงใหม่</td>\n",
              "      <td>แม่ริม</td>\n",
              "    </tr>\n",
              "    <tr>\n",
              "      <th>185</th>\n",
              "      <td>186</td>\n",
              "      <td>18/3/2020</td>\n",
              "      <td>NaN</td>\n",
              "      <td>ชาย</td>\n",
              "      <td>31.0</td>\n",
              "      <td>ปี</td>\n",
              "      <td>Thailand</td>\n",
              "      <td>เชียงใหม่</td>\n",
              "      <td>สนามมวย</td>\n",
              "      <td>เชียงใหม่</td>\n",
              "      <td>นครพิงค์</td>\n",
              "    </tr>\n",
              "    <tr>\n",
              "      <th>192</th>\n",
              "      <td>193</td>\n",
              "      <td>18/3/2020</td>\n",
              "      <td>NaN</td>\n",
              "      <td>ชาย</td>\n",
              "      <td>32.0</td>\n",
              "      <td>ปี</td>\n",
              "      <td>Thailand</td>\n",
              "      <td>เชียงใหม่</td>\n",
              "      <td>สัมผัสใกล้ชิดกับผู้ป่วยยืนยันรายก่อนหน้านี้</td>\n",
              "      <td>เชียงใหม่</td>\n",
              "      <td>NaN</td>\n",
              "    </tr>\n",
              "    <tr>\n",
              "      <th>252</th>\n",
              "      <td>253</td>\n",
              "      <td>19/3/2020</td>\n",
              "      <td>NaN</td>\n",
              "      <td>ชาย</td>\n",
              "      <td>25.0</td>\n",
              "      <td>ปี</td>\n",
              "      <td>Thailand</td>\n",
              "      <td>เชียงใหม่</td>\n",
              "      <td>สัมผัสใกล้ชิดกับผู้ป่วยยืนยันรายก่อนหน้านี้</td>\n",
              "      <td>เชียงใหม่</td>\n",
              "      <td>NaN</td>\n",
              "    </tr>\n",
              "    <tr>\n",
              "      <th>...</th>\n",
              "      <td>...</td>\n",
              "      <td>...</td>\n",
              "      <td>...</td>\n",
              "      <td>...</td>\n",
              "      <td>...</td>\n",
              "      <td>...</td>\n",
              "      <td>...</td>\n",
              "      <td>...</td>\n",
              "      <td>...</td>\n",
              "      <td>...</td>\n",
              "      <td>...</td>\n",
              "    </tr>\n",
              "    <tr>\n",
              "      <th>507541</th>\n",
              "      <td>507542</td>\n",
              "      <td>26/7/2021</td>\n",
              "      <td>25/7/2021</td>\n",
              "      <td>หญิง</td>\n",
              "      <td>24.0</td>\n",
              "      <td>ปี</td>\n",
              "      <td>Thailand</td>\n",
              "      <td>อุบลราชธานี</td>\n",
              "      <td>อื่นๆ</td>\n",
              "      <td>ขอนแก่น</td>\n",
              "      <td>NaN</td>\n",
              "    </tr>\n",
              "    <tr>\n",
              "      <th>507542</th>\n",
              "      <td>507543</td>\n",
              "      <td>26/7/2021</td>\n",
              "      <td>25/7/2021</td>\n",
              "      <td>หญิง</td>\n",
              "      <td>51.0</td>\n",
              "      <td>ปี</td>\n",
              "      <td>Thailand</td>\n",
              "      <td>อุบลราชธานี</td>\n",
              "      <td>อื่นๆ</td>\n",
              "      <td>ขอนแก่น</td>\n",
              "      <td>NaN</td>\n",
              "    </tr>\n",
              "    <tr>\n",
              "      <th>507543</th>\n",
              "      <td>507544</td>\n",
              "      <td>26/7/2021</td>\n",
              "      <td>25/7/2021</td>\n",
              "      <td>หญิง</td>\n",
              "      <td>13.0</td>\n",
              "      <td>ปี</td>\n",
              "      <td>Thailand</td>\n",
              "      <td>อุบลราชธานี</td>\n",
              "      <td>อื่นๆ</td>\n",
              "      <td>ขอนแก่น</td>\n",
              "      <td>NaN</td>\n",
              "    </tr>\n",
              "    <tr>\n",
              "      <th>507544</th>\n",
              "      <td>507545</td>\n",
              "      <td>26/7/2021</td>\n",
              "      <td>25/7/2021</td>\n",
              "      <td>หญิง</td>\n",
              "      <td>23.0</td>\n",
              "      <td>ปี</td>\n",
              "      <td>Thailand</td>\n",
              "      <td>อุบลราชธานี</td>\n",
              "      <td>อื่นๆ</td>\n",
              "      <td>ขอนแก่น</td>\n",
              "      <td>NaN</td>\n",
              "    </tr>\n",
              "    <tr>\n",
              "      <th>507546</th>\n",
              "      <td>507547</td>\n",
              "      <td>26/7/2021</td>\n",
              "      <td>25/7/2021</td>\n",
              "      <td>ชาย</td>\n",
              "      <td>24.0</td>\n",
              "      <td>ปี</td>\n",
              "      <td>Thailand</td>\n",
              "      <td>อุบลราชธานี</td>\n",
              "      <td>อื่นๆ</td>\n",
              "      <td>ขอนแก่น</td>\n",
              "      <td>NaN</td>\n",
              "    </tr>\n",
              "  </tbody>\n",
              "</table>\n",
              "<p>7223 rows × 11 columns</p>\n",
              "</div>"
            ],
            "text/plain": [
              "           No. announce_date  ... province_of_onset district_of_onset\n",
              "16          17     31/1/2020  ...         เชียงใหม่             หางดง\n",
              "91          92     15/3/2020  ...         เชียงใหม่            แม่ริม\n",
              "185        186     18/3/2020  ...         เชียงใหม่          นครพิงค์\n",
              "192        193     18/3/2020  ...         เชียงใหม่               NaN\n",
              "252        253     19/3/2020  ...         เชียงใหม่               NaN\n",
              "...        ...           ...  ...               ...               ...\n",
              "507541  507542     26/7/2021  ...           ขอนแก่น               NaN\n",
              "507542  507543     26/7/2021  ...           ขอนแก่น               NaN\n",
              "507543  507544     26/7/2021  ...           ขอนแก่น               NaN\n",
              "507544  507545     26/7/2021  ...           ขอนแก่น               NaN\n",
              "507546  507547     26/7/2021  ...           ขอนแก่น               NaN\n",
              "\n",
              "[7223 rows x 11 columns]"
            ]
          },
          "metadata": {
            "tags": []
          },
          "execution_count": 62
        }
      ]
    },
    {
      "cell_type": "markdown",
      "metadata": {
        "id": "MGxEpJRq3XQF"
      },
      "source": [
        "## Handling Missing Value 5 (แทนด้วย ค่ากลางของ sample ใน  class เดียวกัน) (ต่อ)"
      ]
    },
    {
      "cell_type": "code",
      "metadata": {
        "colab": {
          "base_uri": "https://localhost:8080/",
          "height": 0
        },
        "id": "Dv0wuJ023dE6",
        "outputId": "f23c1a60-507a-406d-9fe1-3817a19dafaa"
      },
      "source": [
        "data_cases2"
      ],
      "execution_count": 63,
      "outputs": [
        {
          "output_type": "execute_result",
          "data": {
            "text/html": [
              "<div>\n",
              "<style scoped>\n",
              "    .dataframe tbody tr th:only-of-type {\n",
              "        vertical-align: middle;\n",
              "    }\n",
              "\n",
              "    .dataframe tbody tr th {\n",
              "        vertical-align: top;\n",
              "    }\n",
              "\n",
              "    .dataframe thead th {\n",
              "        text-align: right;\n",
              "    }\n",
              "</style>\n",
              "<table border=\"1\" class=\"dataframe\">\n",
              "  <thead>\n",
              "    <tr style=\"text-align: right;\">\n",
              "      <th></th>\n",
              "      <th>No.</th>\n",
              "      <th>announce_date</th>\n",
              "      <th>Notified date</th>\n",
              "      <th>sex</th>\n",
              "      <th>age</th>\n",
              "      <th>Unit</th>\n",
              "      <th>nationality</th>\n",
              "      <th>province_of_isolation</th>\n",
              "      <th>risk</th>\n",
              "      <th>province_of_onset</th>\n",
              "      <th>district_of_onset</th>\n",
              "    </tr>\n",
              "  </thead>\n",
              "  <tbody>\n",
              "    <tr>\n",
              "      <th>0</th>\n",
              "      <td>1</td>\n",
              "      <td>12/1/2020</td>\n",
              "      <td>NaN</td>\n",
              "      <td>หญิง</td>\n",
              "      <td>61.0</td>\n",
              "      <td>ปี</td>\n",
              "      <td>China</td>\n",
              "      <td>กรุงเทพมหานคร</td>\n",
              "      <td>คนต่างชาติเดินทางมาจากต่างประเทศ</td>\n",
              "      <td>กรุงเทพมหานคร</td>\n",
              "      <td>NaN</td>\n",
              "    </tr>\n",
              "    <tr>\n",
              "      <th>1</th>\n",
              "      <td>2</td>\n",
              "      <td>17/1/2020</td>\n",
              "      <td>NaN</td>\n",
              "      <td>หญิง</td>\n",
              "      <td>74.0</td>\n",
              "      <td>ปี</td>\n",
              "      <td>China</td>\n",
              "      <td>กรุงเทพมหานคร</td>\n",
              "      <td>คนต่างชาติเดินทางมาจากต่างประเทศ</td>\n",
              "      <td>กรุงเทพมหานคร</td>\n",
              "      <td>NaN</td>\n",
              "    </tr>\n",
              "    <tr>\n",
              "      <th>2</th>\n",
              "      <td>3</td>\n",
              "      <td>22/1/2020</td>\n",
              "      <td>NaN</td>\n",
              "      <td>หญิง</td>\n",
              "      <td>73.0</td>\n",
              "      <td>ปี</td>\n",
              "      <td>Thailand</td>\n",
              "      <td>นครปฐม</td>\n",
              "      <td>คนต่างชาติเดินทางมาจากต่างประเทศ</td>\n",
              "      <td>นครปฐม</td>\n",
              "      <td>เมือง</td>\n",
              "    </tr>\n",
              "    <tr>\n",
              "      <th>3</th>\n",
              "      <td>4</td>\n",
              "      <td>22/1/2020</td>\n",
              "      <td>NaN</td>\n",
              "      <td>ชาย</td>\n",
              "      <td>68.0</td>\n",
              "      <td>ปี</td>\n",
              "      <td>China</td>\n",
              "      <td>กรุงเทพมหานคร</td>\n",
              "      <td>คนต่างชาติเดินทางมาจากต่างประเทศ</td>\n",
              "      <td>กรุงเทพมหานคร</td>\n",
              "      <td>NaN</td>\n",
              "    </tr>\n",
              "    <tr>\n",
              "      <th>4</th>\n",
              "      <td>5</td>\n",
              "      <td>24/1/2020</td>\n",
              "      <td>NaN</td>\n",
              "      <td>หญิง</td>\n",
              "      <td>66.0</td>\n",
              "      <td>ปี</td>\n",
              "      <td>China</td>\n",
              "      <td>นนทบุรี</td>\n",
              "      <td>คนต่างชาติเดินทางมาจากต่างประเทศ</td>\n",
              "      <td>กรุงเทพมหานคร</td>\n",
              "      <td>NaN</td>\n",
              "    </tr>\n",
              "    <tr>\n",
              "      <th>...</th>\n",
              "      <td>...</td>\n",
              "      <td>...</td>\n",
              "      <td>...</td>\n",
              "      <td>...</td>\n",
              "      <td>...</td>\n",
              "      <td>...</td>\n",
              "      <td>...</td>\n",
              "      <td>...</td>\n",
              "      <td>...</td>\n",
              "      <td>...</td>\n",
              "      <td>...</td>\n",
              "    </tr>\n",
              "    <tr>\n",
              "      <th>512617</th>\n",
              "      <td>512618</td>\n",
              "      <td>26/7/2021</td>\n",
              "      <td>25/7/2021</td>\n",
              "      <td>ชาย</td>\n",
              "      <td>NaN</td>\n",
              "      <td>NaN</td>\n",
              "      <td>NaN</td>\n",
              "      <td>ชลบุรี</td>\n",
              "      <td>ทัณฑสถาน/เรือนจำ</td>\n",
              "      <td>NaN</td>\n",
              "      <td>NaN</td>\n",
              "    </tr>\n",
              "    <tr>\n",
              "      <th>512618</th>\n",
              "      <td>512619</td>\n",
              "      <td>26/7/2021</td>\n",
              "      <td>25/7/2021</td>\n",
              "      <td>ชาย</td>\n",
              "      <td>NaN</td>\n",
              "      <td>NaN</td>\n",
              "      <td>NaN</td>\n",
              "      <td>ชลบุรี</td>\n",
              "      <td>ทัณฑสถาน/เรือนจำ</td>\n",
              "      <td>NaN</td>\n",
              "      <td>NaN</td>\n",
              "    </tr>\n",
              "    <tr>\n",
              "      <th>512619</th>\n",
              "      <td>512620</td>\n",
              "      <td>26/7/2021</td>\n",
              "      <td>25/7/2021</td>\n",
              "      <td>ชาย</td>\n",
              "      <td>NaN</td>\n",
              "      <td>NaN</td>\n",
              "      <td>NaN</td>\n",
              "      <td>ชลบุรี</td>\n",
              "      <td>ทัณฑสถาน/เรือนจำ</td>\n",
              "      <td>NaN</td>\n",
              "      <td>NaN</td>\n",
              "    </tr>\n",
              "    <tr>\n",
              "      <th>512620</th>\n",
              "      <td>512621</td>\n",
              "      <td>26/7/2021</td>\n",
              "      <td>25/7/2021</td>\n",
              "      <td>ชาย</td>\n",
              "      <td>NaN</td>\n",
              "      <td>NaN</td>\n",
              "      <td>NaN</td>\n",
              "      <td>ชลบุรี</td>\n",
              "      <td>ทัณฑสถาน/เรือนจำ</td>\n",
              "      <td>NaN</td>\n",
              "      <td>NaN</td>\n",
              "    </tr>\n",
              "    <tr>\n",
              "      <th>512621</th>\n",
              "      <td>512622</td>\n",
              "      <td>26/7/2021</td>\n",
              "      <td>25/7/2021</td>\n",
              "      <td>ชาย</td>\n",
              "      <td>NaN</td>\n",
              "      <td>NaN</td>\n",
              "      <td>NaN</td>\n",
              "      <td>ชลบุรี</td>\n",
              "      <td>ทัณฑสถาน/เรือนจำ</td>\n",
              "      <td>NaN</td>\n",
              "      <td>NaN</td>\n",
              "    </tr>\n",
              "  </tbody>\n",
              "</table>\n",
              "<p>512622 rows × 11 columns</p>\n",
              "</div>"
            ],
            "text/plain": [
              "           No. announce_date  ... province_of_onset district_of_onset\n",
              "0            1     12/1/2020  ...     กรุงเทพมหานคร               NaN\n",
              "1            2     17/1/2020  ...     กรุงเทพมหานคร               NaN\n",
              "2            3     22/1/2020  ...            นครปฐม             เมือง\n",
              "3            4     22/1/2020  ...     กรุงเทพมหานคร               NaN\n",
              "4            5     24/1/2020  ...     กรุงเทพมหานคร               NaN\n",
              "...        ...           ...  ...               ...               ...\n",
              "512617  512618     26/7/2021  ...               NaN               NaN\n",
              "512618  512619     26/7/2021  ...               NaN               NaN\n",
              "512619  512620     26/7/2021  ...               NaN               NaN\n",
              "512620  512621     26/7/2021  ...               NaN               NaN\n",
              "512621  512622     26/7/2021  ...               NaN               NaN\n",
              "\n",
              "[512622 rows x 11 columns]"
            ]
          },
          "metadata": {
            "tags": []
          },
          "execution_count": 63
        }
      ]
    },
    {
      "cell_type": "markdown",
      "metadata": {
        "id": "xliAALrxB7KC"
      },
      "source": [
        "เติมค่า missing ให้จังหวัดก่อน"
      ]
    },
    {
      "cell_type": "code",
      "metadata": {
        "id": "KXfMBXU13fYy"
      },
      "source": [
        "data_cases2[['province_of_onset']] = data_cases2[['province_of_onset']].fillna('ไม่มีข้อมูล')"
      ],
      "execution_count": 64,
      "outputs": []
    },
    {
      "cell_type": "markdown",
      "metadata": {
        "id": "jdBxsGR3CDNy"
      },
      "source": [
        "หาจังหวัดทั้งหมด"
      ]
    },
    {
      "cell_type": "code",
      "metadata": {
        "colab": {
          "base_uri": "https://localhost:8080/"
        },
        "id": "zZ9rhLRSCCEu",
        "outputId": "ee9993f4-c18b-4cbd-c08e-f372faf9fee2"
      },
      "source": [
        "all_cities = set(data_cases2['province_of_onset'])\n",
        "all_cities"
      ],
      "execution_count": 65,
      "outputs": [
        {
          "output_type": "execute_result",
          "data": {
            "text/plain": [
              "{'กระบี่',\n",
              " 'กรุงเทพมหานคร',\n",
              " 'กัมพูชา',\n",
              " 'กาญจนบุรี',\n",
              " 'กาฬสินธิ์',\n",
              " 'กาฬสินธุ์',\n",
              " 'กาฬสินธ์ุ',\n",
              " 'กาฬสิินธุ์',\n",
              " 'กำแพงเพชร',\n",
              " 'ขอนแก่น',\n",
              " 'ขอนแก่่น',\n",
              " 'จ.ปัตตานี',\n",
              " 'จังหวัดร้อยเอ็ด',\n",
              " 'จันทบุรี',\n",
              " 'ฉะเชิงเทรา',\n",
              " 'ชลบุรี',\n",
              " 'ชลบุุรี',\n",
              " 'ชัยนาท',\n",
              " 'ชัยภูมิ',\n",
              " 'ชััยภูมิ',\n",
              " 'ชุมพร',\n",
              " 'ชุุมพร',\n",
              " 'ตรัง',\n",
              " 'ตราด',\n",
              " 'ตาก',\n",
              " 'ธารโต',\n",
              " 'นคนปฐม',\n",
              " 'นคปฐม',\n",
              " 'นครนาชสีมา',\n",
              " 'นครนายก',\n",
              " 'นครปฐม',\n",
              " 'นครประฐม',\n",
              " 'นครพนม',\n",
              " 'นครราชธสีมา',\n",
              " 'นครราชสีมา',\n",
              " 'นครศรธรรมาช',\n",
              " 'นครศรี',\n",
              " 'นครศรีธรรมราช',\n",
              " 'นครศรีธรรรมราช',\n",
              " 'นครศรีราชสีมา',\n",
              " 'นครศรีีธรรมราช',\n",
              " 'นครสวรรค์',\n",
              " 'นครสววรค์',\n",
              " 'นตรปฐม',\n",
              " 'นนทบุรี',\n",
              " 'นนทุบรี',\n",
              " 'นราธิวาส',\n",
              " 'นาราธิวาส',\n",
              " 'นาวัง',\n",
              " 'น่าน',\n",
              " 'บางกะปิ',\n",
              " 'บึงกาฬ',\n",
              " 'บึงโขงหลง',\n",
              " 'บึึงกาฬ',\n",
              " 'บุรีรัมย์',\n",
              " 'บ้านหลวง',\n",
              " 'ปทุมทานี',\n",
              " 'ปทุมธานี',\n",
              " 'ปทุมธานีี',\n",
              " 'ปทุุมธานี',\n",
              " 'ประจวบครีขันธ์',\n",
              " 'ประจวบคีรีขันธื',\n",
              " 'ประจวบคีรีขันธ์',\n",
              " 'ปราจีนบุรี',\n",
              " 'ปลายพระยา',\n",
              " 'ปัตตานี',\n",
              " 'ปัตตานี\\u200b',\n",
              " 'ปัว',\n",
              " 'พม่า',\n",
              " 'พระนครศรียุธยา',\n",
              " 'พระนครศรีอยุทธยา',\n",
              " 'พระนครศรีอยุธนา',\n",
              " 'พระนครศรีอยุธยา',\n",
              " 'พระนครศีรอยุธยา',\n",
              " 'พระนครศีอยุธยา',\n",
              " 'พระนตรศรีอยุธยา',\n",
              " 'พะเยา',\n",
              " 'พังงา',\n",
              " 'พัทลุง',\n",
              " 'พิจิตร',\n",
              " 'พิษณุโลก',\n",
              " 'ภูเก็ต',\n",
              " 'ภูเพียง',\n",
              " 'มหาสารคราม',\n",
              " 'มหาสารคาม',\n",
              " 'มาเลเซีย',\n",
              " 'มุกดาหาร',\n",
              " 'ยะลา',\n",
              " 'ยานนาวา',\n",
              " 'ยโสธร',\n",
              " 'ระนอง',\n",
              " 'ระยอง',\n",
              " 'ราชบุรี',\n",
              " 'ร้องกวาง',\n",
              " 'ร้อยเอ็ด',\n",
              " 'ร้อยเอ็็ด',\n",
              " 'ร้อยเอ้ด',\n",
              " 'ร้้อยเอ็ด',\n",
              " 'ลพบรี',\n",
              " 'ลพบุรี',\n",
              " 'ลพบุุรี',\n",
              " 'ลอง',\n",
              " 'ลำปาง',\n",
              " 'ลำพูน',\n",
              " 'วังชิ้น',\n",
              " 'ศรีษะเกษ',\n",
              " 'ศรีสะเกษ',\n",
              " 'ศรีีสะเกษ',\n",
              " 'ศีรษะเกษ',\n",
              " 'ศีรสะเกษ',\n",
              " 'สกลนคร',\n",
              " 'สงขขลา',\n",
              " 'สงขลา',\n",
              " 'สงขลา\\u200b',\n",
              " 'สตูล',\n",
              " 'สถานที่ทำงาน',\n",
              " 'สมทรสาคร',\n",
              " 'สมุทปราการ',\n",
              " 'สมุทรปราการ',\n",
              " 'สมุทรปาการ',\n",
              " 'สมุทรสงคราม',\n",
              " 'สมุทรสาคร',\n",
              " 'สมุทราปราการ',\n",
              " 'สมุทราสาคร',\n",
              " 'สมุทสงคราม',\n",
              " 'สมุทสาคร',\n",
              " 'สมุุทรปราการ',\n",
              " 'สมุุทรสงคราม',\n",
              " 'สมุุทรสาคร',\n",
              " 'สมุุทสาคร',\n",
              " 'สระบุรี',\n",
              " 'สระบุุรี',\n",
              " 'สระแก้ว',\n",
              " 'สรแก้ว',\n",
              " 'สอง',\n",
              " 'สองแคว',\n",
              " 'สิงห์บุรี',\n",
              " 'สุทรปราการ',\n",
              " 'สุพรรณบุรี',\n",
              " 'สุมทรสาคร',\n",
              " 'สุมุทรปราการ',\n",
              " 'สุมุทรสาคร',\n",
              " 'สุราษฎร์ธานี',\n",
              " 'สุรินทร์',\n",
              " 'สุุราษฎร์ธานี',\n",
              " 'สุโขทัย',\n",
              " 'สูงเม่น',\n",
              " 'หนองคาย',\n",
              " 'หนองบัวลำภู',\n",
              " 'หนองบัวลำภูู',\n",
              " 'หนองบัวลำำภู',\n",
              " 'หนองบััวลำภู',\n",
              " 'หนองม่วงไข่',\n",
              " 'อยุธยา',\n",
              " 'อำนาจเจริญ',\n",
              " 'อุดรธานี',\n",
              " 'อุดรธานีี',\n",
              " 'อุตรดิตถ์',\n",
              " 'อุทัยธานี',\n",
              " 'อุบลราขธานี',\n",
              " 'อุบลราชธานี',\n",
              " 'อุุดรธาน',\n",
              " 'อุุดรธานี',\n",
              " 'อุุตรดิตถ์',\n",
              " 'อุุทัยธานี',\n",
              " 'อ่างทอง',\n",
              " 'ูภูเก็ต',\n",
              " 'เชียงราย',\n",
              " 'เชียงใหม่',\n",
              " 'เด่นชัย',\n",
              " 'เพชบุรี',\n",
              " 'เพชรบุรี',\n",
              " 'เพชรบูรณ์',\n",
              " 'เพรชบุรี',\n",
              " 'เพรบุรี',\n",
              " 'เมือง',\n",
              " 'เมืองน่าน',\n",
              " 'เรือ',\n",
              " 'เลย',\n",
              " 'เวียงจันทร์',\n",
              " 'เวียงสา',\n",
              " 'แพร่',\n",
              " 'แม่ฮ่องสอน',\n",
              " 'ไม่มีข้อมูล',\n",
              " 'ไม่ระบุ'}"
            ]
          },
          "metadata": {
            "tags": []
          },
          "execution_count": 65
        }
      ]
    },
    {
      "cell_type": "code",
      "metadata": {
        "colab": {
          "base_uri": "https://localhost:8080/"
        },
        "id": "da2lb5XlLYDp",
        "outputId": "2474dc48-bfcd-42f3-cf95-f6a5ad3edf68"
      },
      "source": [
        "fixed_cities = []\n",
        "\n",
        "for city in all_cities:\n",
        "    # หาค่า mean ของทุกจังหวัด\n",
        "    X_cases = data_cases2['province_of_onset'] == city\n",
        "    X_mean = data_cases2[X_cases]['age'].mean()\n",
        "\n",
        "    # เลือกมาเฉพาะ data ทุกจังหวัด\n",
        "    data_X = data_cases2[X_cases]\n",
        "\n",
        "    # เติมค่า mean แทน missing\n",
        "    data_X[['age']] = data_X[['age']].fillna(X_mean)\n",
        "\n",
        "    fixed_cities.append(data_X)\n",
        "\n",
        "\n",
        "data_cases2_nomissingage = pd.concat(fixed_cities)"
      ],
      "execution_count": 66,
      "outputs": [
        {
          "output_type": "stream",
          "text": [
            "/usr/local/lib/python3.7/dist-packages/pandas/core/frame.py:3069: SettingWithCopyWarning: \n",
            "A value is trying to be set on a copy of a slice from a DataFrame.\n",
            "Try using .loc[row_indexer,col_indexer] = value instead\n",
            "\n",
            "See the caveats in the documentation: https://pandas.pydata.org/pandas-docs/stable/user_guide/indexing.html#returning-a-view-versus-a-copy\n",
            "  self[k1] = value[k2]\n"
          ],
          "name": "stderr"
        }
      ]
    },
    {
      "cell_type": "code",
      "metadata": {
        "colab": {
          "base_uri": "https://localhost:8080/",
          "height": 0
        },
        "id": "a4ijx_eSEdZR",
        "outputId": "2b471a66-7901-4116-b107-ae9afc676d31"
      },
      "source": [
        "data_cases2_nomissingage"
      ],
      "execution_count": 67,
      "outputs": [
        {
          "output_type": "execute_result",
          "data": {
            "text/html": [
              "<div>\n",
              "<style scoped>\n",
              "    .dataframe tbody tr th:only-of-type {\n",
              "        vertical-align: middle;\n",
              "    }\n",
              "\n",
              "    .dataframe tbody tr th {\n",
              "        vertical-align: top;\n",
              "    }\n",
              "\n",
              "    .dataframe thead th {\n",
              "        text-align: right;\n",
              "    }\n",
              "</style>\n",
              "<table border=\"1\" class=\"dataframe\">\n",
              "  <thead>\n",
              "    <tr style=\"text-align: right;\">\n",
              "      <th></th>\n",
              "      <th>No.</th>\n",
              "      <th>announce_date</th>\n",
              "      <th>Notified date</th>\n",
              "      <th>sex</th>\n",
              "      <th>age</th>\n",
              "      <th>Unit</th>\n",
              "      <th>nationality</th>\n",
              "      <th>province_of_isolation</th>\n",
              "      <th>risk</th>\n",
              "      <th>province_of_onset</th>\n",
              "      <th>district_of_onset</th>\n",
              "    </tr>\n",
              "  </thead>\n",
              "  <tbody>\n",
              "    <tr>\n",
              "      <th>415</th>\n",
              "      <td>416</td>\n",
              "      <td>22/3/2020</td>\n",
              "      <td>22/3/2020</td>\n",
              "      <td>ชาย</td>\n",
              "      <td>29.000000</td>\n",
              "      <td>ปี</td>\n",
              "      <td>Thailand</td>\n",
              "      <td>กรุงเทพมหานคร</td>\n",
              "      <td>สนามมวย</td>\n",
              "      <td>ไม่มีข้อมูล</td>\n",
              "      <td>NaN</td>\n",
              "    </tr>\n",
              "    <tr>\n",
              "      <th>530</th>\n",
              "      <td>531</td>\n",
              "      <td>22/3/2020</td>\n",
              "      <td>20/3/2020</td>\n",
              "      <td>ชาย</td>\n",
              "      <td>37.000000</td>\n",
              "      <td>ปี</td>\n",
              "      <td>Thailand</td>\n",
              "      <td>กรุงเทพมหานคร</td>\n",
              "      <td>สัมผัสใกล้ชิดกับผู้ป่วยยืนยันรายก่อนหน้านี้</td>\n",
              "      <td>ไม่มีข้อมูล</td>\n",
              "      <td>NaN</td>\n",
              "    </tr>\n",
              "    <tr>\n",
              "      <th>556</th>\n",
              "      <td>557</td>\n",
              "      <td>22/3/2020</td>\n",
              "      <td>21/3/2020</td>\n",
              "      <td>หญิง</td>\n",
              "      <td>6.000000</td>\n",
              "      <td>ปี</td>\n",
              "      <td>Thailand</td>\n",
              "      <td>กรุงเทพมหานคร</td>\n",
              "      <td>สนามมวย</td>\n",
              "      <td>ไม่มีข้อมูล</td>\n",
              "      <td>NaN</td>\n",
              "    </tr>\n",
              "    <tr>\n",
              "      <th>577</th>\n",
              "      <td>578</td>\n",
              "      <td>22/3/2020</td>\n",
              "      <td>20/3/2020</td>\n",
              "      <td>ชาย</td>\n",
              "      <td>35.378474</td>\n",
              "      <td>NaN</td>\n",
              "      <td>Thailand</td>\n",
              "      <td>กรุงเทพมหานคร</td>\n",
              "      <td>สนามมวย</td>\n",
              "      <td>ไม่มีข้อมูล</td>\n",
              "      <td>NaN</td>\n",
              "    </tr>\n",
              "    <tr>\n",
              "      <th>589</th>\n",
              "      <td>590</td>\n",
              "      <td>22/3/2020</td>\n",
              "      <td>21/3/2020</td>\n",
              "      <td>ชาย</td>\n",
              "      <td>35.378474</td>\n",
              "      <td>NaN</td>\n",
              "      <td>Thailand</td>\n",
              "      <td>กรุงเทพมหานคร</td>\n",
              "      <td>อยู่ระหว่างการสอบสวน</td>\n",
              "      <td>ไม่มีข้อมูล</td>\n",
              "      <td>NaN</td>\n",
              "    </tr>\n",
              "    <tr>\n",
              "      <th>...</th>\n",
              "      <td>...</td>\n",
              "      <td>...</td>\n",
              "      <td>...</td>\n",
              "      <td>...</td>\n",
              "      <td>...</td>\n",
              "      <td>...</td>\n",
              "      <td>...</td>\n",
              "      <td>...</td>\n",
              "      <td>...</td>\n",
              "      <td>...</td>\n",
              "      <td>...</td>\n",
              "    </tr>\n",
              "    <tr>\n",
              "      <th>499840</th>\n",
              "      <td>499841</td>\n",
              "      <td>26/7/2021</td>\n",
              "      <td>25/7/2021</td>\n",
              "      <td>หญิง</td>\n",
              "      <td>63.000000</td>\n",
              "      <td>ปี</td>\n",
              "      <td>Thailand</td>\n",
              "      <td>อ่างทอง</td>\n",
              "      <td>สัมผัสใกล้ชิดกับผู้ป่วยยืนยันรายก่อนหน้านี้</td>\n",
              "      <td>อ่างทอง</td>\n",
              "      <td>เมืองอ่างทอง</td>\n",
              "    </tr>\n",
              "    <tr>\n",
              "      <th>499841</th>\n",
              "      <td>499842</td>\n",
              "      <td>26/7/2021</td>\n",
              "      <td>25/7/2021</td>\n",
              "      <td>หญิง</td>\n",
              "      <td>50.000000</td>\n",
              "      <td>ปี</td>\n",
              "      <td>Thailand</td>\n",
              "      <td>อ่างทอง</td>\n",
              "      <td>สัมผัสใกล้ชิดกับผู้ป่วยยืนยันรายก่อนหน้านี้</td>\n",
              "      <td>อ่างทอง</td>\n",
              "      <td>เมืองอ่างทอง</td>\n",
              "    </tr>\n",
              "    <tr>\n",
              "      <th>499842</th>\n",
              "      <td>499843</td>\n",
              "      <td>26/7/2021</td>\n",
              "      <td>25/7/2021</td>\n",
              "      <td>หญิง</td>\n",
              "      <td>56.000000</td>\n",
              "      <td>ปี</td>\n",
              "      <td>Thailand</td>\n",
              "      <td>อ่างทอง</td>\n",
              "      <td>สัมผัสใกล้ชิดกับผู้ป่วยยืนยันรายก่อนหน้านี้</td>\n",
              "      <td>อ่างทอง</td>\n",
              "      <td>เมืองอ่างทอง</td>\n",
              "    </tr>\n",
              "    <tr>\n",
              "      <th>502060</th>\n",
              "      <td>502061</td>\n",
              "      <td>26/7/2021</td>\n",
              "      <td>25/7/2021</td>\n",
              "      <td>ชาย</td>\n",
              "      <td>42.000000</td>\n",
              "      <td>ปี</td>\n",
              "      <td>Thailand</td>\n",
              "      <td>สุพรรณบุรี</td>\n",
              "      <td>อยู่ระหว่างการสอบสวน</td>\n",
              "      <td>อ่างทอง</td>\n",
              "      <td>สามโก้</td>\n",
              "    </tr>\n",
              "    <tr>\n",
              "      <th>502062</th>\n",
              "      <td>502063</td>\n",
              "      <td>26/7/2021</td>\n",
              "      <td>25/7/2021</td>\n",
              "      <td>ชาย</td>\n",
              "      <td>34.000000</td>\n",
              "      <td>ปี</td>\n",
              "      <td>Thailand</td>\n",
              "      <td>สุพรรณบุรี</td>\n",
              "      <td>อื่นๆ</td>\n",
              "      <td>อ่างทอง</td>\n",
              "      <td>เมือง</td>\n",
              "    </tr>\n",
              "  </tbody>\n",
              "</table>\n",
              "<p>512622 rows × 11 columns</p>\n",
              "</div>"
            ],
            "text/plain": [
              "           No. announce_date  ... province_of_onset district_of_onset\n",
              "415        416     22/3/2020  ...       ไม่มีข้อมูล               NaN\n",
              "530        531     22/3/2020  ...       ไม่มีข้อมูล               NaN\n",
              "556        557     22/3/2020  ...       ไม่มีข้อมูล               NaN\n",
              "577        578     22/3/2020  ...       ไม่มีข้อมูล               NaN\n",
              "589        590     22/3/2020  ...       ไม่มีข้อมูล               NaN\n",
              "...        ...           ...  ...               ...               ...\n",
              "499840  499841     26/7/2021  ...           อ่างทอง      เมืองอ่างทอง\n",
              "499841  499842     26/7/2021  ...           อ่างทอง      เมืองอ่างทอง\n",
              "499842  499843     26/7/2021  ...           อ่างทอง      เมืองอ่างทอง\n",
              "502060  502061     26/7/2021  ...           อ่างทอง            สามโก้\n",
              "502062  502063     26/7/2021  ...           อ่างทอง             เมือง\n",
              "\n",
              "[512622 rows x 11 columns]"
            ]
          },
          "metadata": {
            "tags": []
          },
          "execution_count": 67
        }
      ]
    },
    {
      "cell_type": "code",
      "metadata": {
        "colab": {
          "base_uri": "https://localhost:8080/"
        },
        "id": "w5zwq6QuErNz",
        "outputId": "89a0b775-eee9-4cc7-ecf3-6bc906031caf"
      },
      "source": [
        "data_cases2_nomissingage.isnull().any()"
      ],
      "execution_count": 68,
      "outputs": [
        {
          "output_type": "execute_result",
          "data": {
            "text/plain": [
              "No.                      False\n",
              "announce_date            False\n",
              "Notified date             True\n",
              "sex                       True\n",
              "age                       True\n",
              "Unit                      True\n",
              "nationality               True\n",
              "province_of_isolation     True\n",
              "risk                      True\n",
              "province_of_onset        False\n",
              "district_of_onset         True\n",
              "dtype: bool"
            ]
          },
          "metadata": {
            "tags": []
          },
          "execution_count": 68
        }
      ]
    },
    {
      "cell_type": "markdown",
      "metadata": {
        "id": "vDl3WqDLKNFA"
      },
      "source": [
        "เติม mean ของทั้งตารางให้กับ missing ที่ยังเหลืออยู่"
      ]
    },
    {
      "cell_type": "code",
      "metadata": {
        "id": "TR6zkuw9F_BD"
      },
      "source": [
        "data_cases2_nomissingage[['age']] = data_cases2_nomissingage[['age']].fillna(data_cases2_nomissingage['age'].mean())"
      ],
      "execution_count": 69,
      "outputs": []
    },
    {
      "cell_type": "code",
      "metadata": {
        "colab": {
          "base_uri": "https://localhost:8080/"
        },
        "id": "sD8TA_SsH6NA",
        "outputId": "08f1e89a-ff06-4ed7-d7fe-aa64582f1d91"
      },
      "source": [
        "data_cases2_nomissingage.isnull().any()"
      ],
      "execution_count": 70,
      "outputs": [
        {
          "output_type": "execute_result",
          "data": {
            "text/plain": [
              "No.                      False\n",
              "announce_date            False\n",
              "Notified date             True\n",
              "sex                       True\n",
              "age                      False\n",
              "Unit                      True\n",
              "nationality               True\n",
              "province_of_isolation     True\n",
              "risk                      True\n",
              "province_of_onset        False\n",
              "district_of_onset         True\n",
              "dtype: bool"
            ]
          },
          "metadata": {
            "tags": []
          },
          "execution_count": 70
        }
      ]
    },
    {
      "cell_type": "code",
      "metadata": {
        "colab": {
          "base_uri": "https://localhost:8080/",
          "height": 0
        },
        "id": "gYlcE10DGSWr",
        "outputId": "4e610704-f55e-4105-c004-8588d56b10ac"
      },
      "source": [
        "data_cases2_nomissingage"
      ],
      "execution_count": 71,
      "outputs": [
        {
          "output_type": "execute_result",
          "data": {
            "text/html": [
              "<div>\n",
              "<style scoped>\n",
              "    .dataframe tbody tr th:only-of-type {\n",
              "        vertical-align: middle;\n",
              "    }\n",
              "\n",
              "    .dataframe tbody tr th {\n",
              "        vertical-align: top;\n",
              "    }\n",
              "\n",
              "    .dataframe thead th {\n",
              "        text-align: right;\n",
              "    }\n",
              "</style>\n",
              "<table border=\"1\" class=\"dataframe\">\n",
              "  <thead>\n",
              "    <tr style=\"text-align: right;\">\n",
              "      <th></th>\n",
              "      <th>No.</th>\n",
              "      <th>announce_date</th>\n",
              "      <th>Notified date</th>\n",
              "      <th>sex</th>\n",
              "      <th>age</th>\n",
              "      <th>Unit</th>\n",
              "      <th>nationality</th>\n",
              "      <th>province_of_isolation</th>\n",
              "      <th>risk</th>\n",
              "      <th>province_of_onset</th>\n",
              "      <th>district_of_onset</th>\n",
              "    </tr>\n",
              "  </thead>\n",
              "  <tbody>\n",
              "    <tr>\n",
              "      <th>415</th>\n",
              "      <td>416</td>\n",
              "      <td>22/3/2020</td>\n",
              "      <td>22/3/2020</td>\n",
              "      <td>ชาย</td>\n",
              "      <td>29.000000</td>\n",
              "      <td>ปี</td>\n",
              "      <td>Thailand</td>\n",
              "      <td>กรุงเทพมหานคร</td>\n",
              "      <td>สนามมวย</td>\n",
              "      <td>ไม่มีข้อมูล</td>\n",
              "      <td>NaN</td>\n",
              "    </tr>\n",
              "    <tr>\n",
              "      <th>530</th>\n",
              "      <td>531</td>\n",
              "      <td>22/3/2020</td>\n",
              "      <td>20/3/2020</td>\n",
              "      <td>ชาย</td>\n",
              "      <td>37.000000</td>\n",
              "      <td>ปี</td>\n",
              "      <td>Thailand</td>\n",
              "      <td>กรุงเทพมหานคร</td>\n",
              "      <td>สัมผัสใกล้ชิดกับผู้ป่วยยืนยันรายก่อนหน้านี้</td>\n",
              "      <td>ไม่มีข้อมูล</td>\n",
              "      <td>NaN</td>\n",
              "    </tr>\n",
              "    <tr>\n",
              "      <th>556</th>\n",
              "      <td>557</td>\n",
              "      <td>22/3/2020</td>\n",
              "      <td>21/3/2020</td>\n",
              "      <td>หญิง</td>\n",
              "      <td>6.000000</td>\n",
              "      <td>ปี</td>\n",
              "      <td>Thailand</td>\n",
              "      <td>กรุงเทพมหานคร</td>\n",
              "      <td>สนามมวย</td>\n",
              "      <td>ไม่มีข้อมูล</td>\n",
              "      <td>NaN</td>\n",
              "    </tr>\n",
              "    <tr>\n",
              "      <th>577</th>\n",
              "      <td>578</td>\n",
              "      <td>22/3/2020</td>\n",
              "      <td>20/3/2020</td>\n",
              "      <td>ชาย</td>\n",
              "      <td>35.378474</td>\n",
              "      <td>NaN</td>\n",
              "      <td>Thailand</td>\n",
              "      <td>กรุงเทพมหานคร</td>\n",
              "      <td>สนามมวย</td>\n",
              "      <td>ไม่มีข้อมูล</td>\n",
              "      <td>NaN</td>\n",
              "    </tr>\n",
              "    <tr>\n",
              "      <th>589</th>\n",
              "      <td>590</td>\n",
              "      <td>22/3/2020</td>\n",
              "      <td>21/3/2020</td>\n",
              "      <td>ชาย</td>\n",
              "      <td>35.378474</td>\n",
              "      <td>NaN</td>\n",
              "      <td>Thailand</td>\n",
              "      <td>กรุงเทพมหานคร</td>\n",
              "      <td>อยู่ระหว่างการสอบสวน</td>\n",
              "      <td>ไม่มีข้อมูล</td>\n",
              "      <td>NaN</td>\n",
              "    </tr>\n",
              "    <tr>\n",
              "      <th>...</th>\n",
              "      <td>...</td>\n",
              "      <td>...</td>\n",
              "      <td>...</td>\n",
              "      <td>...</td>\n",
              "      <td>...</td>\n",
              "      <td>...</td>\n",
              "      <td>...</td>\n",
              "      <td>...</td>\n",
              "      <td>...</td>\n",
              "      <td>...</td>\n",
              "      <td>...</td>\n",
              "    </tr>\n",
              "    <tr>\n",
              "      <th>499840</th>\n",
              "      <td>499841</td>\n",
              "      <td>26/7/2021</td>\n",
              "      <td>25/7/2021</td>\n",
              "      <td>หญิง</td>\n",
              "      <td>63.000000</td>\n",
              "      <td>ปี</td>\n",
              "      <td>Thailand</td>\n",
              "      <td>อ่างทอง</td>\n",
              "      <td>สัมผัสใกล้ชิดกับผู้ป่วยยืนยันรายก่อนหน้านี้</td>\n",
              "      <td>อ่างทอง</td>\n",
              "      <td>เมืองอ่างทอง</td>\n",
              "    </tr>\n",
              "    <tr>\n",
              "      <th>499841</th>\n",
              "      <td>499842</td>\n",
              "      <td>26/7/2021</td>\n",
              "      <td>25/7/2021</td>\n",
              "      <td>หญิง</td>\n",
              "      <td>50.000000</td>\n",
              "      <td>ปี</td>\n",
              "      <td>Thailand</td>\n",
              "      <td>อ่างทอง</td>\n",
              "      <td>สัมผัสใกล้ชิดกับผู้ป่วยยืนยันรายก่อนหน้านี้</td>\n",
              "      <td>อ่างทอง</td>\n",
              "      <td>เมืองอ่างทอง</td>\n",
              "    </tr>\n",
              "    <tr>\n",
              "      <th>499842</th>\n",
              "      <td>499843</td>\n",
              "      <td>26/7/2021</td>\n",
              "      <td>25/7/2021</td>\n",
              "      <td>หญิง</td>\n",
              "      <td>56.000000</td>\n",
              "      <td>ปี</td>\n",
              "      <td>Thailand</td>\n",
              "      <td>อ่างทอง</td>\n",
              "      <td>สัมผัสใกล้ชิดกับผู้ป่วยยืนยันรายก่อนหน้านี้</td>\n",
              "      <td>อ่างทอง</td>\n",
              "      <td>เมืองอ่างทอง</td>\n",
              "    </tr>\n",
              "    <tr>\n",
              "      <th>502060</th>\n",
              "      <td>502061</td>\n",
              "      <td>26/7/2021</td>\n",
              "      <td>25/7/2021</td>\n",
              "      <td>ชาย</td>\n",
              "      <td>42.000000</td>\n",
              "      <td>ปี</td>\n",
              "      <td>Thailand</td>\n",
              "      <td>สุพรรณบุรี</td>\n",
              "      <td>อยู่ระหว่างการสอบสวน</td>\n",
              "      <td>อ่างทอง</td>\n",
              "      <td>สามโก้</td>\n",
              "    </tr>\n",
              "    <tr>\n",
              "      <th>502062</th>\n",
              "      <td>502063</td>\n",
              "      <td>26/7/2021</td>\n",
              "      <td>25/7/2021</td>\n",
              "      <td>ชาย</td>\n",
              "      <td>34.000000</td>\n",
              "      <td>ปี</td>\n",
              "      <td>Thailand</td>\n",
              "      <td>สุพรรณบุรี</td>\n",
              "      <td>อื่นๆ</td>\n",
              "      <td>อ่างทอง</td>\n",
              "      <td>เมือง</td>\n",
              "    </tr>\n",
              "  </tbody>\n",
              "</table>\n",
              "<p>512622 rows × 11 columns</p>\n",
              "</div>"
            ],
            "text/plain": [
              "           No. announce_date  ... province_of_onset district_of_onset\n",
              "415        416     22/3/2020  ...       ไม่มีข้อมูล               NaN\n",
              "530        531     22/3/2020  ...       ไม่มีข้อมูล               NaN\n",
              "556        557     22/3/2020  ...       ไม่มีข้อมูล               NaN\n",
              "577        578     22/3/2020  ...       ไม่มีข้อมูล               NaN\n",
              "589        590     22/3/2020  ...       ไม่มีข้อมูล               NaN\n",
              "...        ...           ...  ...               ...               ...\n",
              "499840  499841     26/7/2021  ...           อ่างทอง      เมืองอ่างทอง\n",
              "499841  499842     26/7/2021  ...           อ่างทอง      เมืองอ่างทอง\n",
              "499842  499843     26/7/2021  ...           อ่างทอง      เมืองอ่างทอง\n",
              "502060  502061     26/7/2021  ...           อ่างทอง            สามโก้\n",
              "502062  502063     26/7/2021  ...           อ่างทอง             เมือง\n",
              "\n",
              "[512622 rows x 11 columns]"
            ]
          },
          "metadata": {
            "tags": []
          },
          "execution_count": 71
        }
      ]
    },
    {
      "cell_type": "markdown",
      "metadata": {
        "id": "GjRRlAdEGp3f"
      },
      "source": [
        "### การเรียงข้อมูล [PD]"
      ]
    },
    {
      "cell_type": "code",
      "metadata": {
        "colab": {
          "base_uri": "https://localhost:8080/",
          "height": 0
        },
        "id": "8btV_EPtHkvy",
        "outputId": "2dd69e4b-f305-4044-f2bb-e0ffe82336d2"
      },
      "source": [
        "data_cases2_nomissingage = data_cases2_nomissingage.sort_values(by=['No.'])\n",
        "data_cases2_nomissingage"
      ],
      "execution_count": 72,
      "outputs": [
        {
          "output_type": "execute_result",
          "data": {
            "text/html": [
              "<div>\n",
              "<style scoped>\n",
              "    .dataframe tbody tr th:only-of-type {\n",
              "        vertical-align: middle;\n",
              "    }\n",
              "\n",
              "    .dataframe tbody tr th {\n",
              "        vertical-align: top;\n",
              "    }\n",
              "\n",
              "    .dataframe thead th {\n",
              "        text-align: right;\n",
              "    }\n",
              "</style>\n",
              "<table border=\"1\" class=\"dataframe\">\n",
              "  <thead>\n",
              "    <tr style=\"text-align: right;\">\n",
              "      <th></th>\n",
              "      <th>No.</th>\n",
              "      <th>announce_date</th>\n",
              "      <th>Notified date</th>\n",
              "      <th>sex</th>\n",
              "      <th>age</th>\n",
              "      <th>Unit</th>\n",
              "      <th>nationality</th>\n",
              "      <th>province_of_isolation</th>\n",
              "      <th>risk</th>\n",
              "      <th>province_of_onset</th>\n",
              "      <th>district_of_onset</th>\n",
              "    </tr>\n",
              "  </thead>\n",
              "  <tbody>\n",
              "    <tr>\n",
              "      <th>0</th>\n",
              "      <td>1</td>\n",
              "      <td>12/1/2020</td>\n",
              "      <td>NaN</td>\n",
              "      <td>หญิง</td>\n",
              "      <td>61.000000</td>\n",
              "      <td>ปี</td>\n",
              "      <td>China</td>\n",
              "      <td>กรุงเทพมหานคร</td>\n",
              "      <td>คนต่างชาติเดินทางมาจากต่างประเทศ</td>\n",
              "      <td>กรุงเทพมหานคร</td>\n",
              "      <td>NaN</td>\n",
              "    </tr>\n",
              "    <tr>\n",
              "      <th>1</th>\n",
              "      <td>2</td>\n",
              "      <td>17/1/2020</td>\n",
              "      <td>NaN</td>\n",
              "      <td>หญิง</td>\n",
              "      <td>74.000000</td>\n",
              "      <td>ปี</td>\n",
              "      <td>China</td>\n",
              "      <td>กรุงเทพมหานคร</td>\n",
              "      <td>คนต่างชาติเดินทางมาจากต่างประเทศ</td>\n",
              "      <td>กรุงเทพมหานคร</td>\n",
              "      <td>NaN</td>\n",
              "    </tr>\n",
              "    <tr>\n",
              "      <th>2</th>\n",
              "      <td>3</td>\n",
              "      <td>22/1/2020</td>\n",
              "      <td>NaN</td>\n",
              "      <td>หญิง</td>\n",
              "      <td>73.000000</td>\n",
              "      <td>ปี</td>\n",
              "      <td>Thailand</td>\n",
              "      <td>นครปฐม</td>\n",
              "      <td>คนต่างชาติเดินทางมาจากต่างประเทศ</td>\n",
              "      <td>นครปฐม</td>\n",
              "      <td>เมือง</td>\n",
              "    </tr>\n",
              "    <tr>\n",
              "      <th>3</th>\n",
              "      <td>4</td>\n",
              "      <td>22/1/2020</td>\n",
              "      <td>NaN</td>\n",
              "      <td>ชาย</td>\n",
              "      <td>68.000000</td>\n",
              "      <td>ปี</td>\n",
              "      <td>China</td>\n",
              "      <td>กรุงเทพมหานคร</td>\n",
              "      <td>คนต่างชาติเดินทางมาจากต่างประเทศ</td>\n",
              "      <td>กรุงเทพมหานคร</td>\n",
              "      <td>NaN</td>\n",
              "    </tr>\n",
              "    <tr>\n",
              "      <th>4</th>\n",
              "      <td>5</td>\n",
              "      <td>24/1/2020</td>\n",
              "      <td>NaN</td>\n",
              "      <td>หญิง</td>\n",
              "      <td>66.000000</td>\n",
              "      <td>ปี</td>\n",
              "      <td>China</td>\n",
              "      <td>นนทบุรี</td>\n",
              "      <td>คนต่างชาติเดินทางมาจากต่างประเทศ</td>\n",
              "      <td>กรุงเทพมหานคร</td>\n",
              "      <td>NaN</td>\n",
              "    </tr>\n",
              "    <tr>\n",
              "      <th>...</th>\n",
              "      <td>...</td>\n",
              "      <td>...</td>\n",
              "      <td>...</td>\n",
              "      <td>...</td>\n",
              "      <td>...</td>\n",
              "      <td>...</td>\n",
              "      <td>...</td>\n",
              "      <td>...</td>\n",
              "      <td>...</td>\n",
              "      <td>...</td>\n",
              "      <td>...</td>\n",
              "    </tr>\n",
              "    <tr>\n",
              "      <th>512617</th>\n",
              "      <td>512618</td>\n",
              "      <td>26/7/2021</td>\n",
              "      <td>25/7/2021</td>\n",
              "      <td>ชาย</td>\n",
              "      <td>35.378474</td>\n",
              "      <td>NaN</td>\n",
              "      <td>NaN</td>\n",
              "      <td>ชลบุรี</td>\n",
              "      <td>ทัณฑสถาน/เรือนจำ</td>\n",
              "      <td>ไม่มีข้อมูล</td>\n",
              "      <td>NaN</td>\n",
              "    </tr>\n",
              "    <tr>\n",
              "      <th>512618</th>\n",
              "      <td>512619</td>\n",
              "      <td>26/7/2021</td>\n",
              "      <td>25/7/2021</td>\n",
              "      <td>ชาย</td>\n",
              "      <td>35.378474</td>\n",
              "      <td>NaN</td>\n",
              "      <td>NaN</td>\n",
              "      <td>ชลบุรี</td>\n",
              "      <td>ทัณฑสถาน/เรือนจำ</td>\n",
              "      <td>ไม่มีข้อมูล</td>\n",
              "      <td>NaN</td>\n",
              "    </tr>\n",
              "    <tr>\n",
              "      <th>512619</th>\n",
              "      <td>512620</td>\n",
              "      <td>26/7/2021</td>\n",
              "      <td>25/7/2021</td>\n",
              "      <td>ชาย</td>\n",
              "      <td>35.378474</td>\n",
              "      <td>NaN</td>\n",
              "      <td>NaN</td>\n",
              "      <td>ชลบุรี</td>\n",
              "      <td>ทัณฑสถาน/เรือนจำ</td>\n",
              "      <td>ไม่มีข้อมูล</td>\n",
              "      <td>NaN</td>\n",
              "    </tr>\n",
              "    <tr>\n",
              "      <th>512620</th>\n",
              "      <td>512621</td>\n",
              "      <td>26/7/2021</td>\n",
              "      <td>25/7/2021</td>\n",
              "      <td>ชาย</td>\n",
              "      <td>35.378474</td>\n",
              "      <td>NaN</td>\n",
              "      <td>NaN</td>\n",
              "      <td>ชลบุรี</td>\n",
              "      <td>ทัณฑสถาน/เรือนจำ</td>\n",
              "      <td>ไม่มีข้อมูล</td>\n",
              "      <td>NaN</td>\n",
              "    </tr>\n",
              "    <tr>\n",
              "      <th>512621</th>\n",
              "      <td>512622</td>\n",
              "      <td>26/7/2021</td>\n",
              "      <td>25/7/2021</td>\n",
              "      <td>ชาย</td>\n",
              "      <td>35.378474</td>\n",
              "      <td>NaN</td>\n",
              "      <td>NaN</td>\n",
              "      <td>ชลบุรี</td>\n",
              "      <td>ทัณฑสถาน/เรือนจำ</td>\n",
              "      <td>ไม่มีข้อมูล</td>\n",
              "      <td>NaN</td>\n",
              "    </tr>\n",
              "  </tbody>\n",
              "</table>\n",
              "<p>512622 rows × 11 columns</p>\n",
              "</div>"
            ],
            "text/plain": [
              "           No. announce_date  ... province_of_onset district_of_onset\n",
              "0            1     12/1/2020  ...     กรุงเทพมหานคร               NaN\n",
              "1            2     17/1/2020  ...     กรุงเทพมหานคร               NaN\n",
              "2            3     22/1/2020  ...            นครปฐม             เมือง\n",
              "3            4     22/1/2020  ...     กรุงเทพมหานคร               NaN\n",
              "4            5     24/1/2020  ...     กรุงเทพมหานคร               NaN\n",
              "...        ...           ...  ...               ...               ...\n",
              "512617  512618     26/7/2021  ...       ไม่มีข้อมูล               NaN\n",
              "512618  512619     26/7/2021  ...       ไม่มีข้อมูล               NaN\n",
              "512619  512620     26/7/2021  ...       ไม่มีข้อมูล               NaN\n",
              "512620  512621     26/7/2021  ...       ไม่มีข้อมูล               NaN\n",
              "512621  512622     26/7/2021  ...       ไม่มีข้อมูล               NaN\n",
              "\n",
              "[512622 rows x 11 columns]"
            ]
          },
          "metadata": {
            "tags": []
          },
          "execution_count": 72
        }
      ]
    },
    {
      "cell_type": "markdown",
      "metadata": {
        "id": "jARi1KzDJNjr"
      },
      "source": [
        "# Outliner"
      ]
    },
    {
      "cell_type": "code",
      "metadata": {
        "id": "lqIZnZOiJWuw"
      },
      "source": [
        "from matplotlib import pyplot as plt"
      ],
      "execution_count": 73,
      "outputs": []
    },
    {
      "cell_type": "code",
      "metadata": {
        "colab": {
          "base_uri": "https://localhost:8080/",
          "height": 265
        },
        "id": "9A4JDX3ZK7qg",
        "outputId": "443603c4-8531-45e6-d0d8-4b098c4a07f1"
      },
      "source": [
        "data_dict = plt.boxplot(data_cases2_nomissingage['age'])"
      ],
      "execution_count": 74,
      "outputs": [
        {
          "output_type": "display_data",
          "data": {
            "image/png": "[encoded data removed]",
            "text/plain": [
              "<Figure size 432x288 with 1 Axes>"
            ]
          },
          "metadata": {
            "tags": [],
            "needs_background": "light"
          }
        }
      ]
    },
    {
      "cell_type": "code",
      "metadata": {
        "colab": {
          "base_uri": "https://localhost:8080/"
        },
        "id": "TQwZHT9dMCIL",
        "outputId": "093ce423-123f-4d64-d9ae-621c62c11a99"
      },
      "source": [
        "data_dict  # curly brackets"
      ],
      "execution_count": 75,
      "outputs": [
        {
          "output_type": "execute_result",
          "data": {
            "text/plain": [
              "{'boxes': [<matplotlib.lines.Line2D at 0x7fa3b33da3d0>],\n",
              " 'caps': [<matplotlib.lines.Line2D at 0x7fa3b333b550>,\n",
              "  <matplotlib.lines.Line2D at 0x7fa3b333bb10>],\n",
              " 'fliers': [<matplotlib.lines.Line2D at 0x7fa3b3342190>],\n",
              " 'means': [],\n",
              " 'medians': [<matplotlib.lines.Line2D at 0x7fa3b333bf90>],\n",
              " 'whiskers': [<matplotlib.lines.Line2D at 0x7fa3b33daa10>,\n",
              "  <matplotlib.lines.Line2D at 0x7fa3b33daf50>]}"
            ]
          },
          "metadata": {
            "tags": []
          },
          "execution_count": 75
        }
      ]
    },
    {
      "cell_type": "code",
      "metadata": {
        "colab": {
          "base_uri": "https://localhost:8080/"
        },
        "id": "CC0n-mMEMgsg",
        "outputId": "ef48f819-0157-4f82-ce2e-e04af43beb60"
      },
      "source": [
        "data_dict['boxes']"
      ],
      "execution_count": 76,
      "outputs": [
        {
          "output_type": "execute_result",
          "data": {
            "text/plain": [
              "[<matplotlib.lines.Line2D at 0x7fa3b33da3d0>]"
            ]
          },
          "metadata": {
            "tags": []
          },
          "execution_count": 76
        }
      ]
    },
    {
      "cell_type": "code",
      "metadata": {
        "colab": {
          "base_uri": "https://localhost:8080/"
        },
        "id": "k9rK00OzM7FY",
        "outputId": "e3cdf58c-d48b-4d3c-f90c-ad7459ab2a69"
      },
      "source": [
        "data_dict['boxes'][0]"
      ],
      "execution_count": 77,
      "outputs": [
        {
          "output_type": "execute_result",
          "data": {
            "text/plain": [
              "<matplotlib.lines.Line2D at 0x7fa3b33da3d0>"
            ]
          },
          "metadata": {
            "tags": []
          },
          "execution_count": 77
        }
      ]
    },
    {
      "cell_type": "code",
      "metadata": {
        "colab": {
          "base_uri": "https://localhost:8080/"
        },
        "id": "Dhl3OhXPOGO7",
        "outputId": "cff977bb-66b6-4df5-b077-d1d1ff6726bd"
      },
      "source": [
        "data_dict['boxes'][0].get_ydata()"
      ],
      "execution_count": 78,
      "outputs": [
        {
          "output_type": "execute_result",
          "data": {
            "text/plain": [
              "array([26., 26., 44., 44., 26.])"
            ]
          },
          "metadata": {
            "tags": []
          },
          "execution_count": 78
        }
      ]
    },
    {
      "cell_type": "code",
      "metadata": {
        "id": "7QHQhSeMOTxq"
      },
      "source": [
        "Q1 = data_dict['boxes'][0].get_ydata()[0]"
      ],
      "execution_count": 79,
      "outputs": []
    },
    {
      "cell_type": "code",
      "metadata": {
        "colab": {
          "base_uri": "https://localhost:8080/"
        },
        "id": "yuopj3SoOhe3",
        "outputId": "c9c1b003-e36b-4db5-ed69-72a9c0b28fef"
      },
      "source": [
        "Q1"
      ],
      "execution_count": 80,
      "outputs": [
        {
          "output_type": "execute_result",
          "data": {
            "text/plain": [
              "26.0"
            ]
          },
          "metadata": {
            "tags": []
          },
          "execution_count": 80
        }
      ]
    },
    {
      "cell_type": "code",
      "metadata": {
        "colab": {
          "base_uri": "https://localhost:8080/"
        },
        "id": "bBmGuUcuOjj4",
        "outputId": "e11be0b2-288c-42e7-cfdd-87e2f029d425"
      },
      "source": [
        "data_dict['fliers'][0].get_ydata()"
      ],
      "execution_count": 81,
      "outputs": [
        {
          "output_type": "execute_result",
          "data": {
            "text/plain": [
              "array([74., 73., 73., ..., 83., 80., 75.])"
            ]
          },
          "metadata": {
            "tags": []
          },
          "execution_count": 81
        }
      ]
    },
    {
      "cell_type": "code",
      "metadata": {
        "colab": {
          "base_uri": "https://localhost:8080/"
        },
        "id": "eu8OvbwyOxs6",
        "outputId": "89f6e1db-ec6c-42bc-8f96-3105a543575f"
      },
      "source": [
        "data_dict['caps'][0].get_ydata()"
      ],
      "execution_count": 82,
      "outputs": [
        {
          "output_type": "execute_result",
          "data": {
            "text/plain": [
              "array([1., 1.])"
            ]
          },
          "metadata": {
            "tags": []
          },
          "execution_count": 82
        }
      ]
    },
    {
      "cell_type": "code",
      "metadata": {
        "colab": {
          "base_uri": "https://localhost:8080/"
        },
        "id": "L4D_KVlWPwmx",
        "outputId": "80a9a5ec-ba89-4b23-cb06-6699efceee43"
      },
      "source": [
        "data_dict['caps'][1].get_ydata()"
      ],
      "execution_count": 83,
      "outputs": [
        {
          "output_type": "execute_result",
          "data": {
            "text/plain": [
              "array([71., 71.])"
            ]
          },
          "metadata": {
            "tags": []
          },
          "execution_count": 83
        }
      ]
    },
    {
      "cell_type": "code",
      "metadata": {
        "colab": {
          "base_uri": "https://localhost:8080/",
          "height": 521
        },
        "id": "BzYi5uNMPyog",
        "outputId": "4687652f-a590-45d8-a948-167a629c8506"
      },
      "source": [
        "# เลือกเฉพาะ data ที่อยู่ใน caps\n",
        "cap1 = data_cases2_nomissingage['age'] >= data_dict['caps'][0].get_ydata()[0]\n",
        "cap2 = data_cases2_nomissingage['age'] <= data_dict['caps'][1].get_ydata()[0]\n",
        "\n",
        "data_cases2_nomissingage_nooutlier = data_cases2_nomissingage[cap1 & cap2]\n",
        "data_cases2_nomissingage_nooutlier"
      ],
      "execution_count": 84,
      "outputs": [
        {
          "output_type": "execute_result",
          "data": {
            "text/html": [
              "<div>\n",
              "<style scoped>\n",
              "    .dataframe tbody tr th:only-of-type {\n",
              "        vertical-align: middle;\n",
              "    }\n",
              "\n",
              "    .dataframe tbody tr th {\n",
              "        vertical-align: top;\n",
              "    }\n",
              "\n",
              "    .dataframe thead th {\n",
              "        text-align: right;\n",
              "    }\n",
              "</style>\n",
              "<table border=\"1\" class=\"dataframe\">\n",
              "  <thead>\n",
              "    <tr style=\"text-align: right;\">\n",
              "      <th></th>\n",
              "      <th>No.</th>\n",
              "      <th>announce_date</th>\n",
              "      <th>Notified date</th>\n",
              "      <th>sex</th>\n",
              "      <th>age</th>\n",
              "      <th>Unit</th>\n",
              "      <th>nationality</th>\n",
              "      <th>province_of_isolation</th>\n",
              "      <th>risk</th>\n",
              "      <th>province_of_onset</th>\n",
              "      <th>district_of_onset</th>\n",
              "    </tr>\n",
              "  </thead>\n",
              "  <tbody>\n",
              "    <tr>\n",
              "      <th>0</th>\n",
              "      <td>1</td>\n",
              "      <td>12/1/2020</td>\n",
              "      <td>NaN</td>\n",
              "      <td>หญิง</td>\n",
              "      <td>61.000000</td>\n",
              "      <td>ปี</td>\n",
              "      <td>China</td>\n",
              "      <td>กรุงเทพมหานคร</td>\n",
              "      <td>คนต่างชาติเดินทางมาจากต่างประเทศ</td>\n",
              "      <td>กรุงเทพมหานคร</td>\n",
              "      <td>NaN</td>\n",
              "    </tr>\n",
              "    <tr>\n",
              "      <th>3</th>\n",
              "      <td>4</td>\n",
              "      <td>22/1/2020</td>\n",
              "      <td>NaN</td>\n",
              "      <td>ชาย</td>\n",
              "      <td>68.000000</td>\n",
              "      <td>ปี</td>\n",
              "      <td>China</td>\n",
              "      <td>กรุงเทพมหานคร</td>\n",
              "      <td>คนต่างชาติเดินทางมาจากต่างประเทศ</td>\n",
              "      <td>กรุงเทพมหานคร</td>\n",
              "      <td>NaN</td>\n",
              "    </tr>\n",
              "    <tr>\n",
              "      <th>4</th>\n",
              "      <td>5</td>\n",
              "      <td>24/1/2020</td>\n",
              "      <td>NaN</td>\n",
              "      <td>หญิง</td>\n",
              "      <td>66.000000</td>\n",
              "      <td>ปี</td>\n",
              "      <td>China</td>\n",
              "      <td>นนทบุรี</td>\n",
              "      <td>คนต่างชาติเดินทางมาจากต่างประเทศ</td>\n",
              "      <td>กรุงเทพมหานคร</td>\n",
              "      <td>NaN</td>\n",
              "    </tr>\n",
              "    <tr>\n",
              "      <th>5</th>\n",
              "      <td>6</td>\n",
              "      <td>25/1/2020</td>\n",
              "      <td>NaN</td>\n",
              "      <td>หญิง</td>\n",
              "      <td>33.000000</td>\n",
              "      <td>ปี</td>\n",
              "      <td>China</td>\n",
              "      <td>กรุงเทพมหานคร</td>\n",
              "      <td>คนต่างชาติเดินทางมาจากต่างประเทศ</td>\n",
              "      <td>กรุงเทพมหานคร</td>\n",
              "      <td>NaN</td>\n",
              "    </tr>\n",
              "    <tr>\n",
              "      <th>6</th>\n",
              "      <td>7</td>\n",
              "      <td>26/1/2020</td>\n",
              "      <td>NaN</td>\n",
              "      <td>หญิง</td>\n",
              "      <td>57.000000</td>\n",
              "      <td>ปี</td>\n",
              "      <td>China</td>\n",
              "      <td>กรุงเทพมหานคร</td>\n",
              "      <td>คนต่างชาติเดินทางมาจากต่างประเทศ</td>\n",
              "      <td>กรุงเทพมหานคร</td>\n",
              "      <td>NaN</td>\n",
              "    </tr>\n",
              "    <tr>\n",
              "      <th>...</th>\n",
              "      <td>...</td>\n",
              "      <td>...</td>\n",
              "      <td>...</td>\n",
              "      <td>...</td>\n",
              "      <td>...</td>\n",
              "      <td>...</td>\n",
              "      <td>...</td>\n",
              "      <td>...</td>\n",
              "      <td>...</td>\n",
              "      <td>...</td>\n",
              "      <td>...</td>\n",
              "    </tr>\n",
              "    <tr>\n",
              "      <th>512617</th>\n",
              "      <td>512618</td>\n",
              "      <td>26/7/2021</td>\n",
              "      <td>25/7/2021</td>\n",
              "      <td>ชาย</td>\n",
              "      <td>35.378474</td>\n",
              "      <td>NaN</td>\n",
              "      <td>NaN</td>\n",
              "      <td>ชลบุรี</td>\n",
              "      <td>ทัณฑสถาน/เรือนจำ</td>\n",
              "      <td>ไม่มีข้อมูล</td>\n",
              "      <td>NaN</td>\n",
              "    </tr>\n",
              "    <tr>\n",
              "      <th>512618</th>\n",
              "      <td>512619</td>\n",
              "      <td>26/7/2021</td>\n",
              "      <td>25/7/2021</td>\n",
              "      <td>ชาย</td>\n",
              "      <td>35.378474</td>\n",
              "      <td>NaN</td>\n",
              "      <td>NaN</td>\n",
              "      <td>ชลบุรี</td>\n",
              "      <td>ทัณฑสถาน/เรือนจำ</td>\n",
              "      <td>ไม่มีข้อมูล</td>\n",
              "      <td>NaN</td>\n",
              "    </tr>\n",
              "    <tr>\n",
              "      <th>512619</th>\n",
              "      <td>512620</td>\n",
              "      <td>26/7/2021</td>\n",
              "      <td>25/7/2021</td>\n",
              "      <td>ชาย</td>\n",
              "      <td>35.378474</td>\n",
              "      <td>NaN</td>\n",
              "      <td>NaN</td>\n",
              "      <td>ชลบุรี</td>\n",
              "      <td>ทัณฑสถาน/เรือนจำ</td>\n",
              "      <td>ไม่มีข้อมูล</td>\n",
              "      <td>NaN</td>\n",
              "    </tr>\n",
              "    <tr>\n",
              "      <th>512620</th>\n",
              "      <td>512621</td>\n",
              "      <td>26/7/2021</td>\n",
              "      <td>25/7/2021</td>\n",
              "      <td>ชาย</td>\n",
              "      <td>35.378474</td>\n",
              "      <td>NaN</td>\n",
              "      <td>NaN</td>\n",
              "      <td>ชลบุรี</td>\n",
              "      <td>ทัณฑสถาน/เรือนจำ</td>\n",
              "      <td>ไม่มีข้อมูล</td>\n",
              "      <td>NaN</td>\n",
              "    </tr>\n",
              "    <tr>\n",
              "      <th>512621</th>\n",
              "      <td>512622</td>\n",
              "      <td>26/7/2021</td>\n",
              "      <td>25/7/2021</td>\n",
              "      <td>ชาย</td>\n",
              "      <td>35.378474</td>\n",
              "      <td>NaN</td>\n",
              "      <td>NaN</td>\n",
              "      <td>ชลบุรี</td>\n",
              "      <td>ทัณฑสถาน/เรือนจำ</td>\n",
              "      <td>ไม่มีข้อมูล</td>\n",
              "      <td>NaN</td>\n",
              "    </tr>\n",
              "  </tbody>\n",
              "</table>\n",
              "<p>502350 rows × 11 columns</p>\n",
              "</div>"
            ],
            "text/plain": [
              "           No. announce_date  ... province_of_onset district_of_onset\n",
              "0            1     12/1/2020  ...     กรุงเทพมหานคร               NaN\n",
              "3            4     22/1/2020  ...     กรุงเทพมหานคร               NaN\n",
              "4            5     24/1/2020  ...     กรุงเทพมหานคร               NaN\n",
              "5            6     25/1/2020  ...     กรุงเทพมหานคร               NaN\n",
              "6            7     26/1/2020  ...     กรุงเทพมหานคร               NaN\n",
              "...        ...           ...  ...               ...               ...\n",
              "512617  512618     26/7/2021  ...       ไม่มีข้อมูล               NaN\n",
              "512618  512619     26/7/2021  ...       ไม่มีข้อมูล               NaN\n",
              "512619  512620     26/7/2021  ...       ไม่มีข้อมูล               NaN\n",
              "512620  512621     26/7/2021  ...       ไม่มีข้อมูล               NaN\n",
              "512621  512622     26/7/2021  ...       ไม่มีข้อมูล               NaN\n",
              "\n",
              "[502350 rows x 11 columns]"
            ]
          },
          "metadata": {
            "tags": []
          },
          "execution_count": 84
        }
      ]
    },
    {
      "cell_type": "code",
      "metadata": {
        "colab": {
          "base_uri": "https://localhost:8080/",
          "height": 265
        },
        "id": "IHAujeCtQkTa",
        "outputId": "6cf9bf76-1af4-4f01-b17f-45745f818f9d"
      },
      "source": [
        "data_dict = plt.boxplot(data_cases2_nomissingage_nooutlier['age'])"
      ],
      "execution_count": 85,
      "outputs": [
        {
          "output_type": "display_data",
          "data": {
            "image/png": "[encoded data removed]",
            "text/plain": [
              "<Figure size 432x288 with 1 Axes>"
            ]
          },
          "metadata": {
            "tags": [],
            "needs_background": "light"
          }
        }
      ]
    },
    {
      "cell_type": "markdown",
      "metadata": {
        "id": "p15XRBWeRRnB"
      },
      "source": [
        "ตัด outlier แบบ manual"
      ]
    },
    {
      "cell_type": "code",
      "metadata": {
        "colab": {
          "base_uri": "https://localhost:8080/",
          "height": 521
        },
        "id": "Y8DLKmkHRCe4",
        "outputId": "cb2a17cc-4947-4226-b7fc-cc5f8efc752d"
      },
      "source": [
        "data_cases2_nomissingage[data_cases2_nomissingage['province_of_onset'] != 'ลอง']"
      ],
      "execution_count": 86,
      "outputs": [
        {
          "output_type": "execute_result",
          "data": {
            "text/html": [
              "<div>\n",
              "<style scoped>\n",
              "    .dataframe tbody tr th:only-of-type {\n",
              "        vertical-align: middle;\n",
              "    }\n",
              "\n",
              "    .dataframe tbody tr th {\n",
              "        vertical-align: top;\n",
              "    }\n",
              "\n",
              "    .dataframe thead th {\n",
              "        text-align: right;\n",
              "    }\n",
              "</style>\n",
              "<table border=\"1\" class=\"dataframe\">\n",
              "  <thead>\n",
              "    <tr style=\"text-align: right;\">\n",
              "      <th></th>\n",
              "      <th>No.</th>\n",
              "      <th>announce_date</th>\n",
              "      <th>Notified date</th>\n",
              "      <th>sex</th>\n",
              "      <th>age</th>\n",
              "      <th>Unit</th>\n",
              "      <th>nationality</th>\n",
              "      <th>province_of_isolation</th>\n",
              "      <th>risk</th>\n",
              "      <th>province_of_onset</th>\n",
              "      <th>district_of_onset</th>\n",
              "    </tr>\n",
              "  </thead>\n",
              "  <tbody>\n",
              "    <tr>\n",
              "      <th>0</th>\n",
              "      <td>1</td>\n",
              "      <td>12/1/2020</td>\n",
              "      <td>NaN</td>\n",
              "      <td>หญิง</td>\n",
              "      <td>61.000000</td>\n",
              "      <td>ปี</td>\n",
              "      <td>China</td>\n",
              "      <td>กรุงเทพมหานคร</td>\n",
              "      <td>คนต่างชาติเดินทางมาจากต่างประเทศ</td>\n",
              "      <td>กรุงเทพมหานคร</td>\n",
              "      <td>NaN</td>\n",
              "    </tr>\n",
              "    <tr>\n",
              "      <th>1</th>\n",
              "      <td>2</td>\n",
              "      <td>17/1/2020</td>\n",
              "      <td>NaN</td>\n",
              "      <td>หญิง</td>\n",
              "      <td>74.000000</td>\n",
              "      <td>ปี</td>\n",
              "      <td>China</td>\n",
              "      <td>กรุงเทพมหานคร</td>\n",
              "      <td>คนต่างชาติเดินทางมาจากต่างประเทศ</td>\n",
              "      <td>กรุงเทพมหานคร</td>\n",
              "      <td>NaN</td>\n",
              "    </tr>\n",
              "    <tr>\n",
              "      <th>2</th>\n",
              "      <td>3</td>\n",
              "      <td>22/1/2020</td>\n",
              "      <td>NaN</td>\n",
              "      <td>หญิง</td>\n",
              "      <td>73.000000</td>\n",
              "      <td>ปี</td>\n",
              "      <td>Thailand</td>\n",
              "      <td>นครปฐม</td>\n",
              "      <td>คนต่างชาติเดินทางมาจากต่างประเทศ</td>\n",
              "      <td>นครปฐม</td>\n",
              "      <td>เมือง</td>\n",
              "    </tr>\n",
              "    <tr>\n",
              "      <th>3</th>\n",
              "      <td>4</td>\n",
              "      <td>22/1/2020</td>\n",
              "      <td>NaN</td>\n",
              "      <td>ชาย</td>\n",
              "      <td>68.000000</td>\n",
              "      <td>ปี</td>\n",
              "      <td>China</td>\n",
              "      <td>กรุงเทพมหานคร</td>\n",
              "      <td>คนต่างชาติเดินทางมาจากต่างประเทศ</td>\n",
              "      <td>กรุงเทพมหานคร</td>\n",
              "      <td>NaN</td>\n",
              "    </tr>\n",
              "    <tr>\n",
              "      <th>4</th>\n",
              "      <td>5</td>\n",
              "      <td>24/1/2020</td>\n",
              "      <td>NaN</td>\n",
              "      <td>หญิง</td>\n",
              "      <td>66.000000</td>\n",
              "      <td>ปี</td>\n",
              "      <td>China</td>\n",
              "      <td>นนทบุรี</td>\n",
              "      <td>คนต่างชาติเดินทางมาจากต่างประเทศ</td>\n",
              "      <td>กรุงเทพมหานคร</td>\n",
              "      <td>NaN</td>\n",
              "    </tr>\n",
              "    <tr>\n",
              "      <th>...</th>\n",
              "      <td>...</td>\n",
              "      <td>...</td>\n",
              "      <td>...</td>\n",
              "      <td>...</td>\n",
              "      <td>...</td>\n",
              "      <td>...</td>\n",
              "      <td>...</td>\n",
              "      <td>...</td>\n",
              "      <td>...</td>\n",
              "      <td>...</td>\n",
              "      <td>...</td>\n",
              "    </tr>\n",
              "    <tr>\n",
              "      <th>512617</th>\n",
              "      <td>512618</td>\n",
              "      <td>26/7/2021</td>\n",
              "      <td>25/7/2021</td>\n",
              "      <td>ชาย</td>\n",
              "      <td>35.378474</td>\n",
              "      <td>NaN</td>\n",
              "      <td>NaN</td>\n",
              "      <td>ชลบุรี</td>\n",
              "      <td>ทัณฑสถาน/เรือนจำ</td>\n",
              "      <td>ไม่มีข้อมูล</td>\n",
              "      <td>NaN</td>\n",
              "    </tr>\n",
              "    <tr>\n",
              "      <th>512618</th>\n",
              "      <td>512619</td>\n",
              "      <td>26/7/2021</td>\n",
              "      <td>25/7/2021</td>\n",
              "      <td>ชาย</td>\n",
              "      <td>35.378474</td>\n",
              "      <td>NaN</td>\n",
              "      <td>NaN</td>\n",
              "      <td>ชลบุรี</td>\n",
              "      <td>ทัณฑสถาน/เรือนจำ</td>\n",
              "      <td>ไม่มีข้อมูล</td>\n",
              "      <td>NaN</td>\n",
              "    </tr>\n",
              "    <tr>\n",
              "      <th>512619</th>\n",
              "      <td>512620</td>\n",
              "      <td>26/7/2021</td>\n",
              "      <td>25/7/2021</td>\n",
              "      <td>ชาย</td>\n",
              "      <td>35.378474</td>\n",
              "      <td>NaN</td>\n",
              "      <td>NaN</td>\n",
              "      <td>ชลบุรี</td>\n",
              "      <td>ทัณฑสถาน/เรือนจำ</td>\n",
              "      <td>ไม่มีข้อมูล</td>\n",
              "      <td>NaN</td>\n",
              "    </tr>\n",
              "    <tr>\n",
              "      <th>512620</th>\n",
              "      <td>512621</td>\n",
              "      <td>26/7/2021</td>\n",
              "      <td>25/7/2021</td>\n",
              "      <td>ชาย</td>\n",
              "      <td>35.378474</td>\n",
              "      <td>NaN</td>\n",
              "      <td>NaN</td>\n",
              "      <td>ชลบุรี</td>\n",
              "      <td>ทัณฑสถาน/เรือนจำ</td>\n",
              "      <td>ไม่มีข้อมูล</td>\n",
              "      <td>NaN</td>\n",
              "    </tr>\n",
              "    <tr>\n",
              "      <th>512621</th>\n",
              "      <td>512622</td>\n",
              "      <td>26/7/2021</td>\n",
              "      <td>25/7/2021</td>\n",
              "      <td>ชาย</td>\n",
              "      <td>35.378474</td>\n",
              "      <td>NaN</td>\n",
              "      <td>NaN</td>\n",
              "      <td>ชลบุรี</td>\n",
              "      <td>ทัณฑสถาน/เรือนจำ</td>\n",
              "      <td>ไม่มีข้อมูล</td>\n",
              "      <td>NaN</td>\n",
              "    </tr>\n",
              "  </tbody>\n",
              "</table>\n",
              "<p>512616 rows × 11 columns</p>\n",
              "</div>"
            ],
            "text/plain": [
              "           No. announce_date  ... province_of_onset district_of_onset\n",
              "0            1     12/1/2020  ...     กรุงเทพมหานคร               NaN\n",
              "1            2     17/1/2020  ...     กรุงเทพมหานคร               NaN\n",
              "2            3     22/1/2020  ...            นครปฐม             เมือง\n",
              "3            4     22/1/2020  ...     กรุงเทพมหานคร               NaN\n",
              "4            5     24/1/2020  ...     กรุงเทพมหานคร               NaN\n",
              "...        ...           ...  ...               ...               ...\n",
              "512617  512618     26/7/2021  ...       ไม่มีข้อมูล               NaN\n",
              "512618  512619     26/7/2021  ...       ไม่มีข้อมูล               NaN\n",
              "512619  512620     26/7/2021  ...       ไม่มีข้อมูล               NaN\n",
              "512620  512621     26/7/2021  ...       ไม่มีข้อมูล               NaN\n",
              "512621  512622     26/7/2021  ...       ไม่มีข้อมูล               NaN\n",
              "\n",
              "[512616 rows x 11 columns]"
            ]
          },
          "metadata": {
            "tags": []
          },
          "execution_count": 86
        }
      ]
    },
    {
      "cell_type": "markdown",
      "metadata": {
        "id": "LbhsBoyQR_wS"
      },
      "source": [
        "# Quiz 5 / HW 8\n",
        "\n",
        "เขียนฟังก์ชัน คำนวณหา Q1 , Q2 , Q3 , IQR , min , max โดยรับ input เป็น output ของ boxplot \n",
        "\n",
        "```\n",
        "def box_vals(box_out_dict):\n",
        "    #your code1\n",
        "    .\n",
        "    .\n",
        "    .\n",
        "    #your codex\n",
        "    return Q1 , Q2 , Q3 , IQR , vmin , vmax\n",
        "```"
      ]
    },
    {
      "cell_type": "code",
      "metadata": {
        "id": "1xry6Z2249v0"
      },
      "source": [
        "def box_vals(box_out_dict) :\n",
        "        Q1 = box_out_dict['boxes'][0].get_ydata()[0] \n",
        "        Q2 = box_out_dict['medians'][0].get_ydata()[0]\n",
        "        Q3 = box_out_dict['boxes'][0].get_ydata()[2]\n",
        "        IQR =  Q3 - Q1\n",
        "        vmin =  box_out_dict['caps'][0].get_ydata()[0]\n",
        "        vmax =  box_out_dict['caps'][1].get_ydata()[0] \n",
        "        return Q1,Q2,Q3,IQR,vmin,vmax"
      ],
      "execution_count": 89,
      "outputs": []
    },
    {
      "cell_type": "code",
      "metadata": {
        "colab": {
          "base_uri": "https://localhost:8080/"
        },
        "id": "5mqwixTL5AE9",
        "outputId": "8b4b9114-9ff0-4f12-a6f2-ff9b4275c9c5"
      },
      "source": [
        "box_vals(data_dict)"
      ],
      "execution_count": 90,
      "outputs": [
        {
          "output_type": "execute_result",
          "data": {
            "text/plain": [
              "(25.0, 35.0, 43.0, 18.0, 1.0, 70.0)"
            ]
          },
          "metadata": {
            "tags": []
          },
          "execution_count": 90
        }
      ]
    },
    {
      "cell_type": "code",
      "metadata": {
        "colab": {
          "base_uri": "https://localhost:8080/",
          "height": 265
        },
        "id": "RtBhHBhn5Tm_",
        "outputId": "b1f188f7-9b0b-4a9b-fd8f-6d9b5b6ecc15"
      },
      "source": [
        "data_dict = plt.boxplot(data_cases2_nomissingage_nooutlier['age'],vert=False)"
      ],
      "execution_count": 91,
      "outputs": [
        {
          "output_type": "display_data",
          "data": {
            "image/png": "[encoded data removed]",
            "text/plain": [
              "<Figure size 432x288 with 1 Axes>"
            ]
          },
          "metadata": {
            "tags": [],
            "needs_background": "light"
          }
        }
      ]
    },
    {
      "cell_type": "code",
      "metadata": {
        "colab": {
          "base_uri": "https://localhost:8080/"
        },
        "id": "SbS_wPx250Vp",
        "outputId": "65786223-fedd-46a1-b48b-474853fd012a"
      },
      "source": [
        "data_dict['boxes'][0].get_ydata()  # ได้ค่าของกรอบ"
      ],
      "execution_count": 92,
      "outputs": [
        {
          "output_type": "execute_result",
          "data": {
            "text/plain": [
              "array([0.925, 1.075, 1.075, 0.925, 0.925])"
            ]
          },
          "metadata": {
            "tags": []
          },
          "execution_count": 92
        }
      ]
    },
    {
      "cell_type": "markdown",
      "metadata": {
        "id": "zAQaOxFW6sEX"
      },
      "source": [
        "# HW9 / Quiz กลุ่ม III (แก้ให้ function box_vals สามารถรับ input ที่ box plot วาดแนวนอนได้ (vert=False)"
      ]
    },
    {
      "cell_type": "code",
      "metadata": {
        "id": "gkGlobRK6DCM"
      },
      "source": [
        "def box_vals(box_out_dict, vert=True) :\n",
        "        Q1 = box_out_dict['boxes'][0].get_ydata()[0] \n",
        "        Q2 = box_out_dict['medians'][0].get_ydata()[0]\n",
        "        Q3 = box_out_dict['boxes'][0].get_ydata()[2]\n",
        "        IQR =  Q3 - Q1\n",
        "        vmin =  box_out_dict['caps'][0].get_ydata()[0]\n",
        "        vmax =  box_out_dict['caps'][1].get_ydata()[0] \n",
        "\n",
        "        ### code ###\n",
        "        \n",
        "        return Q1,Q2,Q3,IQR,vmin,vmax"
      ],
      "execution_count": null,
      "outputs": []
    },
    {
      "cell_type": "code",
      "metadata": {
        "id": "t4oHRGk96kcH"
      },
      "source": [
        ""
      ],
      "execution_count": null,
      "outputs": []
    }
  ]
}