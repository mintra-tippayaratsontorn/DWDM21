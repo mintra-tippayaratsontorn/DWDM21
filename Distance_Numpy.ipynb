{
  "nbformat": 4,
  "nbformat_minor": 0,
  "metadata": {
    "colab": {
      "name": "Distance Numpy.ipynb",
      "provenance": [],
      "authorship_tag": "ABX9TyM9yFjvAi/DaM8GOVZ6sSsI",
      "include_colab_link": true
    },
    "kernelspec": {
      "name": "python3",
      "display_name": "Python 3"
    },
    "language_info": {
      "name": "python"
    }
  },
  "cells": [
    {
      "cell_type": "markdown",
      "metadata": {
        "id": "view-in-github",
        "colab_type": "text"
      },
      "source": [
        "<a href=\"https://colab.research.google.com/github/mintra-tippayaratsontorn/DWDM21/blob/main/Distance_Numpy.ipynb\" target=\"_parent\"><img src=\"https://colab.research.google.com/assets/colab-badge.svg\" alt=\"Open In Colab\"/></a>"
      ]
    },
    {
      "cell_type": "code",
      "metadata": {
        "id": "NcguZoSldgJy"
      },
      "source": [
        "import numpy as np  # package สำหรับทำงานกับข้อมูลที่เป็นตัวเลข (อยู่ในรูปแบบ Matrix)"
      ],
      "execution_count": null,
      "outputs": []
    },
    {
      "cell_type": "markdown",
      "metadata": {
        "id": "1re6lws0mNoJ"
      },
      "source": [
        "# Numpy Array"
      ]
    },
    {
      "cell_type": "markdown",
      "metadata": {
        "id": "x2hGejJImQUr"
      },
      "source": [
        "## สร้าง numpy array (matrix) จาก list"
      ]
    },
    {
      "cell_type": "code",
      "metadata": {
        "id": "4sag9JKMeE45"
      },
      "source": [
        "np_a = np.array([[1,2,3],[4,5,6]]) #สร้าง numpy array ที่มี 2 แถว 3 หลัก"
      ],
      "execution_count": null,
      "outputs": []
    },
    {
      "cell_type": "code",
      "metadata": {
        "colab": {
          "base_uri": "https://localhost:8080/"
        },
        "id": "qa8kdDeGenXW",
        "outputId": "6ab718ba-4e10-4844-f122-d49ba6cb7903"
      },
      "source": [
        "np_a"
      ],
      "execution_count": null,
      "outputs": [
        {
          "output_type": "execute_result",
          "data": {
            "text/plain": [
              "array([[1, 2, 3],\n",
              "       [4, 5, 6]])"
            ]
          },
          "metadata": {},
          "execution_count": 3
        }
      ]
    },
    {
      "cell_type": "code",
      "metadata": {
        "colab": {
          "base_uri": "https://localhost:8080/"
        },
        "id": "avcHIy0feprs",
        "outputId": "0ff326f6-d17f-47ce-d044-af89227c4ba6"
      },
      "source": [
        "np_a.shape"
      ],
      "execution_count": null,
      "outputs": [
        {
          "output_type": "execute_result",
          "data": {
            "text/plain": [
              "(2, 3)"
            ]
          },
          "metadata": {},
          "execution_count": 4
        }
      ]
    },
    {
      "cell_type": "code",
      "metadata": {
        "id": "vLofsK1AepiG",
        "colab": {
          "base_uri": "https://localhost:8080/"
        },
        "outputId": "90fabf06-0cca-42f9-9d4c-25d91d2715c4"
      },
      "source": [
        "np_b = np.array([[1,4],[2,5],[3,6]])\n",
        "np_b"
      ],
      "execution_count": null,
      "outputs": [
        {
          "output_type": "execute_result",
          "data": {
            "text/plain": [
              "array([[1, 4],\n",
              "       [2, 5],\n",
              "       [3, 6]])"
            ]
          },
          "metadata": {},
          "execution_count": 5
        }
      ]
    },
    {
      "cell_type": "markdown",
      "metadata": {
        "id": "Sg_P5lrjmaqe"
      },
      "source": [
        "### Matrix transpose"
      ]
    },
    {
      "cell_type": "code",
      "metadata": {
        "colab": {
          "base_uri": "https://localhost:8080/"
        },
        "id": "mYcgCesimZCC",
        "outputId": "0e408a9b-0740-4be7-dbc7-dea5b3b759ed"
      },
      "source": [
        "np_a.T  "
      ],
      "execution_count": null,
      "outputs": [
        {
          "output_type": "execute_result",
          "data": {
            "text/plain": [
              "array([[1, 4],\n",
              "       [2, 5],\n",
              "       [3, 6]])"
            ]
          },
          "metadata": {},
          "execution_count": 6
        }
      ]
    },
    {
      "cell_type": "markdown",
      "metadata": {
        "id": "-dh-KgHSmelf"
      },
      "source": [
        "## สร้าง matrix เริ่มต้น (zeros, ones)"
      ]
    },
    {
      "cell_type": "code",
      "metadata": {
        "colab": {
          "base_uri": "https://localhost:8080/"
        },
        "id": "s1FLUS3ymdCG",
        "outputId": "d644c209-bc92-43e4-fd26-1daa1a22577a"
      },
      "source": [
        "np_z = np.zeros((4,5))\n",
        "np_z"
      ],
      "execution_count": null,
      "outputs": [
        {
          "output_type": "execute_result",
          "data": {
            "text/plain": [
              "array([[0., 0., 0., 0., 0.],\n",
              "       [0., 0., 0., 0., 0.],\n",
              "       [0., 0., 0., 0., 0.],\n",
              "       [0., 0., 0., 0., 0.]])"
            ]
          },
          "metadata": {},
          "execution_count": 7
        }
      ]
    },
    {
      "cell_type": "code",
      "metadata": {
        "colab": {
          "base_uri": "https://localhost:8080/"
        },
        "id": "zVKCasf9mgww",
        "outputId": "6be9534d-4601-4797-d279-a60970db4976"
      },
      "source": [
        "np_o = np.ones((5,6))\n",
        "np_o"
      ],
      "execution_count": null,
      "outputs": [
        {
          "output_type": "execute_result",
          "data": {
            "text/plain": [
              "array([[1., 1., 1., 1., 1., 1.],\n",
              "       [1., 1., 1., 1., 1., 1.],\n",
              "       [1., 1., 1., 1., 1., 1.],\n",
              "       [1., 1., 1., 1., 1., 1.],\n",
              "       [1., 1., 1., 1., 1., 1.]])"
            ]
          },
          "metadata": {},
          "execution_count": 8
        }
      ]
    },
    {
      "cell_type": "code",
      "metadata": {
        "colab": {
          "base_uri": "https://localhost:8080/"
        },
        "id": "YTXn80McmiUO",
        "outputId": "254150d2-f65b-4017-baf5-c29f3f55c213"
      },
      "source": [
        "np_200 = 200 * np.ones((4,7))\n",
        "np_200"
      ],
      "execution_count": null,
      "outputs": [
        {
          "output_type": "execute_result",
          "data": {
            "text/plain": [
              "array([[200., 200., 200., 200., 200., 200., 200.],\n",
              "       [200., 200., 200., 200., 200., 200., 200.],\n",
              "       [200., 200., 200., 200., 200., 200., 200.],\n",
              "       [200., 200., 200., 200., 200., 200., 200.]])"
            ]
          },
          "metadata": {},
          "execution_count": 9
        }
      ]
    },
    {
      "cell_type": "markdown",
      "metadata": {
        "id": "f5ZsuqiTmlXv"
      },
      "source": [
        "## สร้าง matrix random"
      ]
    },
    {
      "cell_type": "code",
      "metadata": {
        "colab": {
          "base_uri": "https://localhost:8080/"
        },
        "id": "QrFsq342mjqx",
        "outputId": "42cd5271-39d2-4f0f-e202-04595866b3ed"
      },
      "source": [
        "np.random.randn(5,5)  #random มาจากเลข normal distribution ที่มี mu = 0 std=1"
      ],
      "execution_count": null,
      "outputs": [
        {
          "output_type": "execute_result",
          "data": {
            "text/plain": [
              "array([[ 0.09074093,  0.04952357,  1.1270504 , -0.55651863, -0.73801945],\n",
              "       [ 0.66900207,  1.16493531,  0.31683095,  0.15582684, -0.17976567],\n",
              "       [-0.01666671, -2.23504099, -0.3180238 ,  1.27839017, -0.84728722],\n",
              "       [-1.22980054, -1.09077676,  1.15440283,  1.32804407,  1.73501532],\n",
              "       [-1.16255511, -1.30427134,  1.02725464, -0.36236389, -0.87241601]])"
            ]
          },
          "metadata": {},
          "execution_count": 10
        }
      ]
    },
    {
      "cell_type": "code",
      "metadata": {
        "colab": {
          "base_uri": "https://localhost:8080/"
        },
        "id": "f4atoB9CmoAZ",
        "outputId": "0c6c3383-de2a-475a-b393-9914c148801d"
      },
      "source": [
        "2+(5*np.random.randn(3,3))"
      ],
      "execution_count": null,
      "outputs": [
        {
          "output_type": "execute_result",
          "data": {
            "text/plain": [
              "array([[ 6.00937433,  2.13594112,  2.94303893],\n",
              "       [ 0.21384909,  2.57857166,  1.12814316],\n",
              "       [ 0.45202849, -0.58735981,  9.5799066 ]])"
            ]
          },
          "metadata": {},
          "execution_count": 11
        }
      ]
    },
    {
      "cell_type": "code",
      "metadata": {
        "colab": {
          "base_uri": "https://localhost:8080/"
        },
        "id": "bzR91sMbmpjq",
        "outputId": "5e845326-8f42-4da3-b14e-e51a9761f5ab"
      },
      "source": [
        "np.random.randint(5,11,(4,5))  #random เลขจำนวนเต็ม ระหว่าง (5,11)  ขนาด (4x5)"
      ],
      "execution_count": null,
      "outputs": [
        {
          "output_type": "execute_result",
          "data": {
            "text/plain": [
              "array([[ 7, 10,  9,  7,  7],\n",
              "       [ 5,  5,  8,  7,  6],\n",
              "       [ 5,  8,  8,  5,  8],\n",
              "       [10,  8,  9,  8,  7]])"
            ]
          },
          "metadata": {},
          "execution_count": 12
        }
      ]
    },
    {
      "cell_type": "markdown",
      "metadata": {
        "id": "dAXhlfQYOxVx"
      },
      "source": [
        "### Matrix properties"
      ]
    },
    {
      "cell_type": "code",
      "metadata": {
        "colab": {
          "base_uri": "https://localhost:8080/"
        },
        "id": "9D9Yo-HtNtR6",
        "outputId": "863a59dd-7747-42c8-83ba-5eb9de8697f1"
      },
      "source": [
        "np_a"
      ],
      "execution_count": null,
      "outputs": [
        {
          "output_type": "execute_result",
          "data": {
            "text/plain": [
              "array([[1, 2, 3],\n",
              "       [4, 5, 6]])"
            ]
          },
          "metadata": {},
          "execution_count": 13
        }
      ]
    },
    {
      "cell_type": "code",
      "metadata": {
        "colab": {
          "base_uri": "https://localhost:8080/"
        },
        "id": "7il23mC_O3Su",
        "outputId": "cc84e0c5-ced4-4a37-93ee-4b142c84d6d4"
      },
      "source": [
        "np_a.T  # transpose"
      ],
      "execution_count": null,
      "outputs": [
        {
          "output_type": "execute_result",
          "data": {
            "text/plain": [
              "array([[1, 4],\n",
              "       [2, 5],\n",
              "       [3, 6]])"
            ]
          },
          "metadata": {},
          "execution_count": 14
        }
      ]
    },
    {
      "cell_type": "code",
      "metadata": {
        "colab": {
          "base_uri": "https://localhost:8080/"
        },
        "id": "7NzyLFzyO9A6",
        "outputId": "693bac86-4e19-4ae3-f7ae-fcd10746b770"
      },
      "source": [
        "1 + np_a  # adding scalar to matrix"
      ],
      "execution_count": null,
      "outputs": [
        {
          "output_type": "execute_result",
          "data": {
            "text/plain": [
              "array([[2, 3, 4],\n",
              "       [5, 6, 7]])"
            ]
          },
          "metadata": {},
          "execution_count": 15
        }
      ]
    },
    {
      "cell_type": "code",
      "metadata": {
        "colab": {
          "base_uri": "https://localhost:8080/"
        },
        "id": "LU5D1cl0PEtM",
        "outputId": "970282d5-6b2e-4091-9cf4-34fa69a9f54e"
      },
      "source": [
        "2 * np_a  # multiply scalar to matrix"
      ],
      "execution_count": null,
      "outputs": [
        {
          "output_type": "execute_result",
          "data": {
            "text/plain": [
              "array([[ 2,  4,  6],\n",
              "       [ 8, 10, 12]])"
            ]
          },
          "metadata": {},
          "execution_count": 16
        }
      ]
    },
    {
      "cell_type": "code",
      "metadata": {
        "colab": {
          "base_uri": "https://localhost:8080/"
        },
        "id": "NLttNT-fPGpD",
        "outputId": "fad9d60a-a41b-47a6-a90b-e5535d3d2611"
      },
      "source": [
        "np_c = np.array([[6,5,4],[3,2,1]])\n",
        "np_c"
      ],
      "execution_count": null,
      "outputs": [
        {
          "output_type": "execute_result",
          "data": {
            "text/plain": [
              "array([[6, 5, 4],\n",
              "       [3, 2, 1]])"
            ]
          },
          "metadata": {},
          "execution_count": 17
        }
      ]
    },
    {
      "cell_type": "code",
      "metadata": {
        "colab": {
          "base_uri": "https://localhost:8080/"
        },
        "id": "2nsjtPqDPqe6",
        "outputId": "06949f01-66ff-4e26-8505-4d85749467bd"
      },
      "source": [
        "np_a + np_c  # adding matrix to matrix"
      ],
      "execution_count": null,
      "outputs": [
        {
          "output_type": "execute_result",
          "data": {
            "text/plain": [
              "array([[7, 7, 7],\n",
              "       [7, 7, 7]])"
            ]
          },
          "metadata": {},
          "execution_count": 18
        }
      ]
    },
    {
      "cell_type": "code",
      "metadata": {
        "colab": {
          "base_uri": "https://localhost:8080/"
        },
        "id": "rgnthFpTP3EI",
        "outputId": "9852cfde-2f5a-45d0-a5c1-5bd48cec746e"
      },
      "source": [
        "np_a.shape  # ดูขนาดของ a"
      ],
      "execution_count": null,
      "outputs": [
        {
          "output_type": "execute_result",
          "data": {
            "text/plain": [
              "(2, 3)"
            ]
          },
          "metadata": {},
          "execution_count": 19
        }
      ]
    },
    {
      "cell_type": "code",
      "metadata": {
        "colab": {
          "base_uri": "https://localhost:8080/"
        },
        "id": "2NcNLc1EQDs6",
        "outputId": "a62e4c02-7093-479f-df2c-4c983f9631b8"
      },
      "source": [
        "np_c.shape  # ดูขนาดของ c"
      ],
      "execution_count": null,
      "outputs": [
        {
          "output_type": "execute_result",
          "data": {
            "text/plain": [
              "(2, 3)"
            ]
          },
          "metadata": {},
          "execution_count": 20
        }
      ]
    },
    {
      "cell_type": "code",
      "metadata": {
        "colab": {
          "base_uri": "https://localhost:8080/"
        },
        "id": "lcZ6UK7ZQjjU",
        "outputId": "a9fbaf7b-9ff3-4293-ae21-74a0e3c84c05"
      },
      "source": [
        "np_c.T.shape"
      ],
      "execution_count": null,
      "outputs": [
        {
          "output_type": "execute_result",
          "data": {
            "text/plain": [
              "(3, 2)"
            ]
          },
          "metadata": {},
          "execution_count": 21
        }
      ]
    },
    {
      "cell_type": "markdown",
      "metadata": {
        "id": "XnWgH_-uRCrA"
      },
      "source": [
        "![image.png](data:image/png;base64,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)"
      ]
    },
    {
      "cell_type": "markdown",
      "metadata": {
        "id": "WQJdYr1qRGmo"
      },
      "source": [
        "การคูณ matrix แบบนี้ เรียกว่า \"dot product\""
      ]
    },
    {
      "cell_type": "code",
      "metadata": {
        "colab": {
          "base_uri": "https://localhost:8080/"
        },
        "id": "NHHAyHurQF27",
        "outputId": "93fd2968-d7e6-4c9f-f912-b299550a939d"
      },
      "source": [
        "np.dot(np_a,np_c.T)  # การคูณ matrix กับ matrix \"(a,b)*(b,c)=(a,c)\""
      ],
      "execution_count": null,
      "outputs": [
        {
          "output_type": "execute_result",
          "data": {
            "text/plain": [
              "array([[28, 10],\n",
              "       [73, 28]])"
            ]
          },
          "metadata": {},
          "execution_count": 22
        }
      ]
    },
    {
      "cell_type": "markdown",
      "metadata": {
        "id": "h0Ug77iTRUar"
      },
      "source": [
        "## Indexing & Slicing"
      ]
    },
    {
      "cell_type": "code",
      "metadata": {
        "colab": {
          "base_uri": "https://localhost:8080/"
        },
        "id": "6vh7O5pTRB8c",
        "outputId": "315ac20e-0ddd-4d69-aa1f-f40cbe62cc86"
      },
      "source": [
        "np_a  # วิธีอ่านคือเริ่มจากหลักและแถวที่ 0"
      ],
      "execution_count": null,
      "outputs": [
        {
          "output_type": "execute_result",
          "data": {
            "text/plain": [
              "array([[1, 2, 3],\n",
              "       [4, 5, 6]])"
            ]
          },
          "metadata": {},
          "execution_count": 23
        }
      ]
    },
    {
      "cell_type": "code",
      "metadata": {
        "colab": {
          "base_uri": "https://localhost:8080/"
        },
        "id": "9viDpxbaRg0m",
        "outputId": "d4ee94b4-4f4c-4f7f-8ff6-0f0789a11763"
      },
      "source": [
        "np_a[1,1]"
      ],
      "execution_count": null,
      "outputs": [
        {
          "output_type": "execute_result",
          "data": {
            "text/plain": [
              "5"
            ]
          },
          "metadata": {},
          "execution_count": 24
        }
      ]
    },
    {
      "cell_type": "code",
      "metadata": {
        "colab": {
          "base_uri": "https://localhost:8080/"
        },
        "id": "OQ_B6qykSGZx",
        "outputId": "162fb0c1-4c7f-4654-8dbf-4895a25f8947"
      },
      "source": [
        "np_a[:2,:2]"
      ],
      "execution_count": null,
      "outputs": [
        {
          "output_type": "execute_result",
          "data": {
            "text/plain": [
              "array([[1, 2],\n",
              "       [4, 5]])"
            ]
          },
          "metadata": {},
          "execution_count": 25
        }
      ]
    },
    {
      "cell_type": "code",
      "metadata": {
        "colab": {
          "base_uri": "https://localhost:8080/"
        },
        "id": "Yv6tEnFWSUGB",
        "outputId": "95dd0fdf-90cb-4e59-b303-487bd5bc5685"
      },
      "source": [
        "np_a[0,:]  # ตัดแถวแรกออกมา"
      ],
      "execution_count": null,
      "outputs": [
        {
          "output_type": "execute_result",
          "data": {
            "text/plain": [
              "array([1, 2, 3])"
            ]
          },
          "metadata": {},
          "execution_count": 26
        }
      ]
    },
    {
      "cell_type": "markdown",
      "metadata": {
        "id": "6l2hTdx-Sr0W"
      },
      "source": [
        "## Useful functions"
      ]
    },
    {
      "cell_type": "code",
      "metadata": {
        "colab": {
          "base_uri": "https://localhost:8080/"
        },
        "id": "wHpDuwVfS4P_",
        "outputId": "d67d69a0-90c0-4dfc-8439-c4db704e37c9"
      },
      "source": [
        "np_a"
      ],
      "execution_count": null,
      "outputs": [
        {
          "output_type": "execute_result",
          "data": {
            "text/plain": [
              "array([[1, 2, 3],\n",
              "       [4, 5, 6]])"
            ]
          },
          "metadata": {},
          "execution_count": 27
        }
      ]
    },
    {
      "cell_type": "code",
      "metadata": {
        "colab": {
          "base_uri": "https://localhost:8080/"
        },
        "id": "ycUmZZ-RSnpA",
        "outputId": "f4b31e79-a092-4f02-9b62-96e54ee2822e"
      },
      "source": [
        "np.sum(np_a)  # รวมเลขใน np_a"
      ],
      "execution_count": null,
      "outputs": [
        {
          "output_type": "execute_result",
          "data": {
            "text/plain": [
              "21"
            ]
          },
          "metadata": {},
          "execution_count": 28
        }
      ]
    },
    {
      "cell_type": "code",
      "metadata": {
        "colab": {
          "base_uri": "https://localhost:8080/"
        },
        "id": "T2_gH2IZSzsL",
        "outputId": "61c770e8-b797-45ec-fcf9-57f9606a3640"
      },
      "source": [
        "np.sum(np_a,axis=0)  # หา sum ค่าในแนวนอนมารวมกัน โดยใช้ axis=0"
      ],
      "execution_count": null,
      "outputs": [
        {
          "output_type": "execute_result",
          "data": {
            "text/plain": [
              "array([5, 7, 9])"
            ]
          },
          "metadata": {},
          "execution_count": 29
        }
      ]
    },
    {
      "cell_type": "code",
      "metadata": {
        "colab": {
          "base_uri": "https://localhost:8080/"
        },
        "id": "himrTI-aTHyh",
        "outputId": "9616ec02-c8c3-4b03-beae-076fe3f4550a"
      },
      "source": [
        "np.sum(np_a,axis=1)  # หา sum ค่าในแนวตั้งมารวมกัน โดยใช้ axis=1"
      ],
      "execution_count": null,
      "outputs": [
        {
          "output_type": "execute_result",
          "data": {
            "text/plain": [
              "array([ 6, 15])"
            ]
          },
          "metadata": {},
          "execution_count": 30
        }
      ]
    },
    {
      "cell_type": "code",
      "metadata": {
        "colab": {
          "base_uri": "https://localhost:8080/"
        },
        "id": "O-nCzOrCTUOZ",
        "outputId": "99257d71-ea64-4012-e5cd-15d24cba4a6f"
      },
      "source": [
        "np.mean(np_a)  # หา mean ของทุกตัว"
      ],
      "execution_count": null,
      "outputs": [
        {
          "output_type": "execute_result",
          "data": {
            "text/plain": [
              "3.5"
            ]
          },
          "metadata": {},
          "execution_count": 31
        }
      ]
    },
    {
      "cell_type": "code",
      "metadata": {
        "colab": {
          "base_uri": "https://localhost:8080/"
        },
        "id": "ix48mk1CTbXz",
        "outputId": "0bce02e5-06dc-4d67-c465-f840e8cddd78"
      },
      "source": [
        "np.mean(np_a,axis=0)  # หา mean ของ column โดยใช้ axis=0"
      ],
      "execution_count": null,
      "outputs": [
        {
          "output_type": "execute_result",
          "data": {
            "text/plain": [
              "array([2.5, 3.5, 4.5])"
            ]
          },
          "metadata": {},
          "execution_count": 32
        }
      ]
    },
    {
      "cell_type": "code",
      "metadata": {
        "colab": {
          "base_uri": "https://localhost:8080/"
        },
        "id": "0sZVqUo0Tq54",
        "outputId": "8e36e561-5edc-4e6a-a623-34594aa8a864"
      },
      "source": [
        "np.mean(np_a,axis=1)  # หา mean ของ row โดยใช้ axis=1"
      ],
      "execution_count": null,
      "outputs": [
        {
          "output_type": "execute_result",
          "data": {
            "text/plain": [
              "array([2., 5.])"
            ]
          },
          "metadata": {},
          "execution_count": 33
        }
      ]
    },
    {
      "cell_type": "markdown",
      "metadata": {
        "id": "RnxP5YN3U5yM"
      },
      "source": [
        "## วนลูปเอง"
      ]
    },
    {
      "cell_type": "markdown",
      "metadata": {
        "id": "HuvA0EwmVAPc"
      },
      "source": [
        "#### summation"
      ]
    },
    {
      "cell_type": "code",
      "metadata": {
        "colab": {
          "base_uri": "https://localhost:8080/"
        },
        "id": "A6B8lySeVSWD",
        "outputId": "78edcba3-6e1e-42e2-b054-7682a02f1ceb"
      },
      "source": [
        "np_a.shape"
      ],
      "execution_count": null,
      "outputs": [
        {
          "output_type": "execute_result",
          "data": {
            "text/plain": [
              "(2, 3)"
            ]
          },
          "metadata": {},
          "execution_count": 34
        }
      ]
    },
    {
      "cell_type": "markdown",
      "metadata": {
        "id": "rJkA-RCDWvyM"
      },
      "source": [
        "```np_a.sum(np_a)```"
      ]
    },
    {
      "cell_type": "code",
      "metadata": {
        "colab": {
          "base_uri": "https://localhost:8080/"
        },
        "id": "GkeaTGxGUM5U",
        "outputId": "28532501-ee3f-4b8a-d8b2-6ac50a26af75"
      },
      "source": [
        "sum_all = 0\n",
        "\n",
        "for row in range(np_a.shape[0]):\n",
        "    for col in range(np_a.shape[1]):\n",
        "        sum_all = sum_all + np_a[row,col]\n",
        "        print(f'we are at row={row},col={col} np_a[{row},{col}]={np_a[row,col]} sum_all={sum_all}')"
      ],
      "execution_count": null,
      "outputs": [
        {
          "output_type": "stream",
          "name": "stdout",
          "text": [
            "we are at row=0,col=0 np_a[0,0]=1 sum_all=1\n",
            "we are at row=0,col=1 np_a[0,1]=2 sum_all=3\n",
            "we are at row=0,col=2 np_a[0,2]=3 sum_all=6\n",
            "we are at row=1,col=0 np_a[1,0]=4 sum_all=10\n",
            "we are at row=1,col=1 np_a[1,1]=5 sum_all=15\n",
            "we are at row=1,col=2 np_a[1,2]=6 sum_all=21\n"
          ]
        }
      ]
    },
    {
      "cell_type": "markdown",
      "metadata": {
        "id": "hZ9F-62iW5zn"
      },
      "source": [
        "```np_a.sum(np_a,axis=0)```"
      ]
    },
    {
      "cell_type": "code",
      "metadata": {
        "colab": {
          "base_uri": "https://localhost:8080/"
        },
        "id": "Cv6Kcn1dV342",
        "outputId": "fa6d8e3d-4cbb-402a-bf22-60beec5c538f"
      },
      "source": [
        "sum_all = np.zeros(np_a.shape[1])\n",
        "\n",
        "for row in range(np_a.shape[0]):\n",
        "    for col in range(np_a.shape[1]):\n",
        "        sum_all[col] = sum_all[col] + np_a[row,col]  # sum_all ในแนวที่เราต้องการ\n",
        "print(sum_all)"
      ],
      "execution_count": null,
      "outputs": [
        {
          "output_type": "stream",
          "name": "stdout",
          "text": [
            "[5. 7. 9.]\n"
          ]
        }
      ]
    },
    {
      "cell_type": "markdown",
      "metadata": {
        "id": "TsWU8XZ7YibY"
      },
      "source": [
        "# Quiz กลุ่ม \n",
        "วนลูปหาค่า\n",
        "\n",
        "* ```np.sum(np_a,axis=1)```\n",
        "\n",
        "* ```np.mean(np_a)```\n",
        "\n",
        "* ```np.mean(np_a,axis=0)```\n",
        "\n",
        "* ```np.mean(np_a,axis=1)```\n",
        "\n",
        "* ```np.max(np_a)```\n",
        "\n",
        "* ```np.max(np_a,axis=0)```\n",
        "\n",
        "* ```np.max(np_a,axis=1)```\n",
        "\n",
        "* ```np.min(np_a)``` \n",
        "\n",
        "* ```np.min(np_a,axis=0)``` \n",
        "\n",
        "* ```np.min(np_a,axis=1)```"
      ]
    },
    {
      "cell_type": "code",
      "metadata": {
        "colab": {
          "base_uri": "https://localhost:8080/"
        },
        "id": "f6sOp28ZesUp",
        "outputId": "5a9ae70d-fca6-470c-ebe9-b712bb0dd80c"
      },
      "source": [
        "np_a"
      ],
      "execution_count": null,
      "outputs": [
        {
          "output_type": "execute_result",
          "data": {
            "text/plain": [
              "array([[1, 2, 3],\n",
              "       [4, 5, 6]])"
            ]
          },
          "metadata": {},
          "execution_count": 37
        }
      ]
    },
    {
      "cell_type": "code",
      "metadata": {
        "colab": {
          "base_uri": "https://localhost:8080/"
        },
        "id": "Ifx-JstZXrBg",
        "outputId": "2c89de65-4205-4ff6-b276-7eb38de3ef19"
      },
      "source": [
        "# np.sum(np_a,axis=1)\n",
        "\n",
        "sum_all = np.zeros(np_a.shape[0])\n",
        "\n",
        "for row in range(np_a.shape[0]):\n",
        "    for col in range(np_a.shape[1]):\n",
        "        sum_all[row] = sum_all[row] + np_a[row,col]  # sum_all ในแนวที่เราต้องการ\n",
        "print(sum_all)"
      ],
      "execution_count": null,
      "outputs": [
        {
          "output_type": "stream",
          "name": "stdout",
          "text": [
            "[ 6. 15.]\n"
          ]
        }
      ]
    },
    {
      "cell_type": "code",
      "metadata": {
        "colab": {
          "base_uri": "https://localhost:8080/"
        },
        "id": "BKWSn_jDZfeo",
        "outputId": "291a8d11-f50d-408f-eff4-f41fb9450bcd"
      },
      "source": [
        "# np.mean(np_a)\n",
        "\n",
        "mean_a = 0\n",
        "for row in range(np_a.shape[0]):\n",
        "     for col in range(np_a.shape[1]):\n",
        "         mean_a = mean_a + np_a[row,col]\n",
        "mean_a = mean_a/(np_a.shape[0]*np_a.shape[1])\n",
        "print(mean_a)"
      ],
      "execution_count": null,
      "outputs": [
        {
          "output_type": "stream",
          "name": "stdout",
          "text": [
            "3.5\n"
          ]
        }
      ]
    },
    {
      "cell_type": "code",
      "metadata": {
        "colab": {
          "base_uri": "https://localhost:8080/"
        },
        "id": "KxHYotDuel0U",
        "outputId": "17728701-3773-4eb7-fffa-4aa9cf100020"
      },
      "source": [
        "# np.mean(np_a,axis=0)\n",
        "\n",
        "mean_a = np.zeros(np_a.shape[1])\n",
        "for row in range(np_a.shape[0]):\n",
        "     for col in range(np_a.shape[1]):\n",
        "          mean_a[col] = mean_a[col] + np_a[row,col]/np_a.shape[0]\n",
        "print(mean_a)"
      ],
      "execution_count": null,
      "outputs": [
        {
          "output_type": "stream",
          "name": "stdout",
          "text": [
            "[2.5 3.5 4.5]\n"
          ]
        }
      ]
    },
    {
      "cell_type": "code",
      "metadata": {
        "colab": {
          "base_uri": "https://localhost:8080/"
        },
        "id": "6SfFh2_WezoF",
        "outputId": "ccb27c37-ecf3-4a0b-8ae9-58f4c0a6039b"
      },
      "source": [
        "# np.mean(np_a,axis=1)\n",
        "\n",
        "mean_a = np.zeros(np_a.shape[0])\n",
        "for row in range(np_a.shape[0]):\n",
        "     for col in range(np_a.shape[1]):\n",
        "          mean_a[row] = mean_a[row] + np_a[row,col]/np_a.shape[1]\n",
        "print(mean_a)"
      ],
      "execution_count": null,
      "outputs": [
        {
          "output_type": "stream",
          "name": "stdout",
          "text": [
            "[2. 5.]\n"
          ]
        }
      ]
    },
    {
      "cell_type": "code",
      "metadata": {
        "colab": {
          "base_uri": "https://localhost:8080/"
        },
        "id": "-RdO92d5eluM",
        "outputId": "a468581b-5645-43d8-bc97-ad9761a617c2"
      },
      "source": [
        "# np.max(np_a)\n",
        "\n",
        "max_a = -100000\n",
        "for row in range(np_a.shape[0]):\n",
        "    for col in range(np_a.shape[1]):\n",
        "        if np_a[row,col] > max_a:\n",
        "            max_a = np_a[row,col]\n",
        "print(max_a)"
      ],
      "execution_count": null,
      "outputs": [
        {
          "output_type": "stream",
          "name": "stdout",
          "text": [
            "6\n"
          ]
        }
      ]
    },
    {
      "cell_type": "code",
      "metadata": {
        "colab": {
          "base_uri": "https://localhost:8080/"
        },
        "id": "GB987uhNeyv6",
        "outputId": "6cc22bd4-788b-43e1-bf2f-c083f4c8dcb3"
      },
      "source": [
        "# np.max(np_a,axis=0)\n",
        "\n",
        "max_a = -100000* np.ones(np_a.shape[1])\n",
        "for col in range(np_a.shape[1]):\n",
        "    for row in range(np_a.shape[0]):\n",
        "        if np_a[row,col] > max_a[col]:\n",
        "            max_a[col] = np_a[row,col]\n",
        "print(max_a)"
      ],
      "execution_count": null,
      "outputs": [
        {
          "output_type": "stream",
          "name": "stdout",
          "text": [
            "[4. 5. 6.]\n"
          ]
        }
      ]
    },
    {
      "cell_type": "code",
      "metadata": {
        "colab": {
          "base_uri": "https://localhost:8080/"
        },
        "id": "pufn526Aeytf",
        "outputId": "7d6c64c0-224b-4967-ec45-adb0619a536e"
      },
      "source": [
        "# np.max(np_a,axis=1)\n",
        "\n",
        "max_a = -100000* np.ones(np_a.shape[0])\n",
        "for row in range(np_a.shape[0]):\n",
        "    for col in range(np_a.shape[1]):\n",
        "        if np_a[row,col] > max_a[row]:\n",
        "            max_a[row] = np_a[row,col]\n",
        "print(max_a)"
      ],
      "execution_count": null,
      "outputs": [
        {
          "output_type": "stream",
          "name": "stdout",
          "text": [
            "[3. 6.]\n"
          ]
        }
      ]
    },
    {
      "cell_type": "code",
      "metadata": {
        "colab": {
          "base_uri": "https://localhost:8080/"
        },
        "id": "mlCyUROgaarj",
        "outputId": "b4111d88-247e-4deb-cc85-4b8b99f4c580"
      },
      "source": [
        "# np.min(np_a)\n",
        "\n",
        "min_a = 100000\n",
        "for row in range(np_a.shape[0]):\n",
        "    for col in range(np_a.shape[1]):\n",
        "        if np_a[row,col] < min_a:\n",
        "            min_a = np_a[row,col]\n",
        "print(min_a)"
      ],
      "execution_count": null,
      "outputs": [
        {
          "output_type": "stream",
          "name": "stdout",
          "text": [
            "1\n"
          ]
        }
      ]
    },
    {
      "cell_type": "code",
      "metadata": {
        "colab": {
          "base_uri": "https://localhost:8080/"
        },
        "id": "TyTFcoo0fFNk",
        "outputId": "a791dcff-c06e-47d8-b071-a6f5f9a92aed"
      },
      "source": [
        "# np.min(np_a,axis=0)\n",
        "\n",
        "min_a = np.zeros(np_a.shape[1])\n",
        "for col in range(np_a.shape[1]):\n",
        "    min_a[col] = min(np_a[:,col])\n",
        "print(min_a)"
      ],
      "execution_count": null,
      "outputs": [
        {
          "output_type": "stream",
          "name": "stdout",
          "text": [
            "[1. 2. 3.]\n"
          ]
        }
      ]
    },
    {
      "cell_type": "code",
      "metadata": {
        "colab": {
          "base_uri": "https://localhost:8080/"
        },
        "id": "sgXFIHo_fG_x",
        "outputId": "df2c39f8-2094-49e7-97a0-17f605792e2b"
      },
      "source": [
        "# np.min(np_a,axis=1)\n",
        "\n",
        "min_a = np.zeros(np_a.shape[0])\n",
        "for row in range(np_a.shape[0]):\n",
        "   min_a[row] = min(np_a[row,:])\n",
        "print(min_a)"
      ],
      "execution_count": null,
      "outputs": [
        {
          "output_type": "stream",
          "name": "stdout",
          "text": [
            "[1. 4.]\n"
          ]
        }
      ]
    },
    {
      "cell_type": "markdown",
      "metadata": {
        "id": "PAgE48TIYgsL"
      },
      "source": [
        "# Distance Matrix"
      ]
    },
    {
      "cell_type": "code",
      "metadata": {
        "colab": {
          "base_uri": "https://localhost:8080/"
        },
        "id": "RMtJ0P2xXYYm",
        "outputId": "64edaa01-e585-4ab4-d447-62cc7b5ff866"
      },
      "source": [
        "data1 = np.array([[1,2],[3,5],[2,0],[4,5]])\n",
        "data1"
      ],
      "execution_count": null,
      "outputs": [
        {
          "output_type": "execute_result",
          "data": {
            "text/plain": [
              "array([[1, 2],\n",
              "       [3, 5],\n",
              "       [2, 0],\n",
              "       [4, 5]])"
            ]
          },
          "metadata": {},
          "execution_count": 48
        }
      ]
    },
    {
      "cell_type": "code",
      "metadata": {
        "id": "dFmY9G2BZAc3"
      },
      "source": [
        "from matplotlib import pyplot as plt"
      ],
      "execution_count": null,
      "outputs": []
    },
    {
      "cell_type": "code",
      "metadata": {
        "colab": {
          "base_uri": "https://localhost:8080/"
        },
        "id": "PVnIyJubZ8YD",
        "outputId": "400c5954-2e4d-4478-99b0-78983214f275"
      },
      "source": [
        "plt.scatter(data1[:,0],data1[:,1])"
      ],
      "execution_count": null,
      "outputs": [
        {
          "output_type": "execute_result",
          "data": {
            "text/plain": [
              "<matplotlib.collections.PathCollection at 0x7f3aa8eb20d0>"
            ]
          },
          "metadata": {},
          "execution_count": 50
        },
        {
          "output_type": "display_data",
          "data": {
            "image/png": "[encoded data removed]",
            "text/plain": [
              "<Figure size 432x288 with 1 Axes>"
            ]
          },
          "metadata": {
            "needs_background": "light"
          }
        }
      ]
    },
    {
      "cell_type": "markdown",
      "metadata": {
        "id": "n8c4-SB6abYD"
      },
      "source": [
        "## Euclidean Distance (L2-norm)\n",
        "$\\sqrt{(x_1-x_2)^2+(y_1-y_2)^2}$"
      ]
    },
    {
      "cell_type": "markdown",
      "metadata": {
        "id": "B_qnlpOoeNo_"
      },
      "source": [
        "dist(P1,P2)"
      ]
    },
    {
      "cell_type": "code",
      "metadata": {
        "colab": {
          "base_uri": "https://localhost:8080/"
        },
        "id": "u2BfE9zxZ9cE",
        "outputId": "7a675c34-20cf-4f4d-c1df-15c58b926315"
      },
      "source": [
        "dist_p1_p2 = np.sqrt(np.power(data1[0,0]-data1[1,0],2) + np.power(data1[0,1]-data1[1,1],2))\n",
        "dist_p1_p2"
      ],
      "execution_count": null,
      "outputs": [
        {
          "output_type": "execute_result",
          "data": {
            "text/plain": [
              "3.605551275463989"
            ]
          },
          "metadata": {},
          "execution_count": 51
        }
      ]
    },
    {
      "cell_type": "code",
      "metadata": {
        "colab": {
          "base_uri": "https://localhost:8080/"
        },
        "id": "UfcyEzN_eTnc",
        "outputId": "adbd24cd-60b1-431f-9761-c3aae9c585fe"
      },
      "source": [
        "dist_p1_p2 = np.power(np.power(data1[0,0]-data1[1,0],2) + np.power(data1[0,1]-data1[1,1],2),0.5)\n",
        "dist_p1_p2"
      ],
      "execution_count": null,
      "outputs": [
        {
          "output_type": "execute_result",
          "data": {
            "text/plain": [
              "3.605551275463989"
            ]
          },
          "metadata": {},
          "execution_count": 52
        }
      ]
    },
    {
      "cell_type": "markdown",
      "metadata": {
        "id": "-0tG5QkVeRrM"
      },
      "source": [
        "dist(P2,P4)"
      ]
    },
    {
      "cell_type": "code",
      "metadata": {
        "colab": {
          "base_uri": "https://localhost:8080/"
        },
        "id": "RrnDqIBedxKQ",
        "outputId": "f9ca72c0-a958-4c03-999c-5e0b2da3fbd6"
      },
      "source": [
        "dist_p2_p4 = np.sqrt(np.power(data1[1,0]-data1[3,0],2) + np.power(data1[1,1]-data1[3,1],2))\n",
        "dist_p2_p4"
      ],
      "execution_count": null,
      "outputs": [
        {
          "output_type": "execute_result",
          "data": {
            "text/plain": [
              "1.0"
            ]
          },
          "metadata": {},
          "execution_count": 53
        }
      ]
    },
    {
      "cell_type": "markdown",
      "metadata": {
        "id": "gtduQzIff7G2"
      },
      "source": [
        "## Distance function"
      ]
    },
    {
      "cell_type": "markdown",
      "metadata": {
        "id": "N1HDDj9Igyqo"
      },
      "source": [
        "p1 = [x,y]"
      ]
    },
    {
      "cell_type": "code",
      "metadata": {
        "id": "WlANQBySfhUc"
      },
      "source": [
        "# เขียน function\n",
        "def dist_l2(p1,p2):\n",
        "    return np.sqrt(np.power(p1[0]-p2[0],2,) + np.power(p1[1]-p2[1],2))"
      ],
      "execution_count": null,
      "outputs": []
    },
    {
      "cell_type": "code",
      "metadata": {
        "colab": {
          "base_uri": "https://localhost:8080/"
        },
        "id": "o8UstWejg4gM",
        "outputId": "46d123d5-a003-4a7f-fe9d-b1c29742d578"
      },
      "source": [
        "# ทดลองใช้ function\n",
        "dist_l2(data1[0,:],data1[1,:])"
      ],
      "execution_count": null,
      "outputs": [
        {
          "output_type": "execute_result",
          "data": {
            "text/plain": [
              "3.605551275463989"
            ]
          },
          "metadata": {},
          "execution_count": 55
        }
      ]
    },
    {
      "cell_type": "code",
      "metadata": {
        "colab": {
          "base_uri": "https://localhost:8080/"
        },
        "id": "4O-7L9GyhIHA",
        "outputId": "c8f976ca-4c3e-46e0-81a7-395cfa815627"
      },
      "source": [
        "dist_l2(data1[1,:],data1[3,:])"
      ],
      "execution_count": null,
      "outputs": [
        {
          "output_type": "execute_result",
          "data": {
            "text/plain": [
              "1.0"
            ]
          },
          "metadata": {},
          "execution_count": 56
        }
      ]
    },
    {
      "cell_type": "markdown",
      "metadata": {
        "id": "pnwf_cKLiD2r"
      },
      "source": [
        "dim = n"
      ]
    },
    {
      "cell_type": "code",
      "metadata": {
        "id": "1XAsNFAXhR2T"
      },
      "source": [
        "# เขียน function\n",
        "def dist_l2_n(p1,p2):\n",
        "    sum = 0\n",
        "    for i in range(len(p1)):\n",
        "        sum = sum + np.power(p1[i]-p2[i],2)\n",
        "    return np.sqrt(sum)"
      ],
      "execution_count": null,
      "outputs": []
    },
    {
      "cell_type": "code",
      "metadata": {
        "colab": {
          "base_uri": "https://localhost:8080/"
        },
        "id": "7gLdRtYIkMfC",
        "outputId": "de2b7bb5-54a8-4eaa-bd24-b155bc7ab067"
      },
      "source": [
        "dist_l2_n(data1[0,:],data1[1,:])"
      ],
      "execution_count": null,
      "outputs": [
        {
          "output_type": "execute_result",
          "data": {
            "text/plain": [
              "3.605551275463989"
            ]
          },
          "metadata": {},
          "execution_count": 58
        }
      ]
    },
    {
      "cell_type": "markdown",
      "metadata": {
        "id": "bWuhf7_nkVAB"
      },
      "source": [
        "## Manhattan Distance (L1-norm)\n",
        "$|x_1-x_2| + |y_1-y_2|$"
      ]
    },
    {
      "cell_type": "markdown",
      "metadata": {
        "id": "R8k6BOnGkquY"
      },
      "source": [
        "# Quiz 6 \n",
        "\n",
        "เขียน function คำนวณ manhattan distance ของ ข้อมูล 2 dimensions"
      ]
    },
    {
      "cell_type": "code",
      "metadata": {
        "id": "j574Duz-kSGR"
      },
      "source": [
        "def dist_l2_q(p1,p2):\n",
        "   return (np.abs(p1[0] - p2[0]) + np.abs(p1[1] - p2[1]))"
      ],
      "execution_count": null,
      "outputs": []
    },
    {
      "cell_type": "code",
      "metadata": {
        "colab": {
          "base_uri": "https://localhost:8080/"
        },
        "id": "U5kO3VLtm3y2",
        "outputId": "216258aa-de27-4a33-b5d4-d58aa40a442a"
      },
      "source": [
        "dist_l2_q(data1[0,:],data1[1,:])"
      ],
      "execution_count": null,
      "outputs": [
        {
          "output_type": "execute_result",
          "data": {
            "text/plain": [
              "5"
            ]
          },
          "metadata": {},
          "execution_count": 60
        }
      ]
    },
    {
      "cell_type": "markdown",
      "metadata": {
        "id": "x4jKQgF7oJ9X"
      },
      "source": [
        "# HW 11\n",
        "1. Function คำนวณ manhattan distance ของ ข้อมูล N dimensions\n",
        "2. Function คำนวณ L-$\\infty$ ของ ข้อมูล N dimensions\n",
        "3. Function คำนวณ Distance Matrix ด้วย Euclidean Distance"
      ]
    },
    {
      "cell_type": "markdown",
      "metadata": {
        "id": "C6G9MAKfH65N"
      },
      "source": [
        "######(HW 11) 1. Function คำนวณ manhattan distance ของ ข้อมูล N dimensions\n"
      ]
    },
    {
      "cell_type": "code",
      "metadata": {
        "id": "RExigFLtG6g3"
      },
      "source": [
        "def dist_l1_n(p1,p2):\n",
        "    sumv = 0\n",
        "    for i in range(len(p1)):\n",
        "        sumv =  sumv + np.abs(p1[i] - p2[i]) \n",
        "    return sumv"
      ],
      "execution_count": null,
      "outputs": []
    },
    {
      "cell_type": "code",
      "metadata": {
        "id": "a-_o3RLfG7WZ",
        "colab": {
          "base_uri": "https://localhost:8080/"
        },
        "outputId": "2bdead10-2be0-4336-8af8-9dda31ca1ec3"
      },
      "source": [
        "dist_l1_n(data1[0,:],data1[1,:])"
      ],
      "execution_count": null,
      "outputs": [
        {
          "output_type": "execute_result",
          "data": {
            "text/plain": [
              "5"
            ]
          },
          "metadata": {},
          "execution_count": 62
        }
      ]
    },
    {
      "cell_type": "code",
      "metadata": {
        "id": "SvWLNbnoFXQC",
        "colab": {
          "base_uri": "https://localhost:8080/"
        },
        "outputId": "645708c2-7b01-4913-abeb-91ecf7608877"
      },
      "source": [
        "dist_l1_n(data1[2,:],data1[3,:])"
      ],
      "execution_count": null,
      "outputs": [
        {
          "output_type": "execute_result",
          "data": {
            "text/plain": [
              "7"
            ]
          },
          "metadata": {},
          "execution_count": 63
        }
      ]
    },
    {
      "cell_type": "markdown",
      "metadata": {
        "id": "9EjeY_9lH-7u"
      },
      "source": [
        "######(HW 11) 2. Function คำนวณ L-$\\infty$ ของ ข้อมูล N dimensions"
      ]
    },
    {
      "cell_type": "code",
      "metadata": {
        "id": "674Oi0ZOIDDu"
      },
      "source": [
        "# หาแกนที่มีค่ามากสุด\n",
        "def dist_linf_n(p1,p2):\n",
        "    maxv = -10000\n",
        "    for i in range(len(p1)):\n",
        "        this_dist = np.abs(p1[i] - p2[i])\n",
        "        if this_dist > maxv:\n",
        "            maxv = this_dist\n",
        "    return maxv"
      ],
      "execution_count": null,
      "outputs": []
    },
    {
      "cell_type": "code",
      "metadata": {
        "id": "BgOl0TU0Ic7_",
        "colab": {
          "base_uri": "https://localhost:8080/"
        },
        "outputId": "52f06eab-a419-438f-8592-283f64d7a6c8"
      },
      "source": [
        "dist_linf_n(data1[0,:],data1[2,:])"
      ],
      "execution_count": null,
      "outputs": [
        {
          "output_type": "execute_result",
          "data": {
            "text/plain": [
              "2"
            ]
          },
          "metadata": {},
          "execution_count": 65
        }
      ]
    },
    {
      "cell_type": "code",
      "metadata": {
        "id": "lCFrQQkkJnZC",
        "colab": {
          "base_uri": "https://localhost:8080/"
        },
        "outputId": "24253abd-fe62-4dee-ff25-4c8ec51871e1"
      },
      "source": [
        "dist_linf_n([-20,2,7],[0,5,9])"
      ],
      "execution_count": null,
      "outputs": [
        {
          "output_type": "execute_result",
          "data": {
            "text/plain": [
              "20"
            ]
          },
          "metadata": {},
          "execution_count": 66
        }
      ]
    },
    {
      "cell_type": "markdown",
      "metadata": {
        "id": "BMrvW2pbH-yd"
      },
      "source": [
        "######(HW 11) 3. Function คำนวณ Distance Matrix ด้วย Euclidean Distance"
      ]
    },
    {
      "cell_type": "code",
      "metadata": {
        "id": "cbOF8u41MZOO"
      },
      "source": [
        "def dist_mat_eud(data):\n",
        "    d_mat = np.zeros((data.shape[0],data.shape[0]))\n",
        "    for i in range(data.shape[0]):\n",
        "        for j in range(data.shape[0]):\n",
        "            d_mat[i,j] = dist_l2_n(data[i,:],data[j,:])\n",
        "    return d_mat"
      ],
      "execution_count": null,
      "outputs": []
    },
    {
      "cell_type": "code",
      "metadata": {
        "id": "3zlNaBlGNUiI",
        "colab": {
          "base_uri": "https://localhost:8080/"
        },
        "outputId": "9f39b513-ea8e-42f6-daad-ec2b0bc98648"
      },
      "source": [
        "dist_mat_eud(data1)"
      ],
      "execution_count": null,
      "outputs": [
        {
          "output_type": "execute_result",
          "data": {
            "text/plain": [
              "array([[0.        , 3.60555128, 2.23606798, 4.24264069],\n",
              "       [3.60555128, 0.        , 5.09901951, 1.        ],\n",
              "       [2.23606798, 5.09901951, 0.        , 5.38516481],\n",
              "       [4.24264069, 1.        , 5.38516481, 0.        ]])"
            ]
          },
          "metadata": {},
          "execution_count": 68
        }
      ]
    },
    {
      "cell_type": "markdown",
      "metadata": {
        "id": "yQ5pUbPskDoL"
      },
      "source": [
        "# Distance of Binary Value\n"
      ]
    },
    {
      "cell_type": "markdown",
      "metadata": {
        "id": "BZV3Km2NkSo1"
      },
      "source": [
        "Create Table\n",
        "![image.png](data:image/png;base64,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)"
      ]
    },
    {
      "cell_type": "code",
      "metadata": {
        "id": "B7MB-hVmniHu"
      },
      "source": [
        "import pandas as pd"
      ],
      "execution_count": null,
      "outputs": []
    },
    {
      "cell_type": "code",
      "metadata": {
        "id": "q6pLN6nUke5_",
        "colab": {
          "base_uri": "https://localhost:8080/",
          "height": 143
        },
        "outputId": "1dade792-d465-4642-a30d-76691f0cf01f"
      },
      "source": [
        "records = [['Jack',1,1,0,1,0,0,0],\n",
        "        ['Mary',0,1,0,1,0,1,0],\n",
        "        ['Jim',1,1,1,0,0,0,0]]\n",
        "lables = ['Name','Gender','Fever','Cough','Test-1','Test-2','Test-3','Test-4']\n",
        "\n",
        "binary_table = pd.DataFrame.from_records(records,columns=lables)\n",
        "binary_table"
      ],
      "execution_count": null,
      "outputs": [
        {
          "output_type": "execute_result",
          "data": {
            "text/html": [
              "<div>\n",
              "<style scoped>\n",
              "    .dataframe tbody tr th:only-of-type {\n",
              "        vertical-align: middle;\n",
              "    }\n",
              "\n",
              "    .dataframe tbody tr th {\n",
              "        vertical-align: top;\n",
              "    }\n",
              "\n",
              "    .dataframe thead th {\n",
              "        text-align: right;\n",
              "    }\n",
              "</style>\n",
              "<table border=\"1\" class=\"dataframe\">\n",
              "  <thead>\n",
              "    <tr style=\"text-align: right;\">\n",
              "      <th></th>\n",
              "      <th>Name</th>\n",
              "      <th>Gender</th>\n",
              "      <th>Fever</th>\n",
              "      <th>Cough</th>\n",
              "      <th>Test-1</th>\n",
              "      <th>Test-2</th>\n",
              "      <th>Test-3</th>\n",
              "      <th>Test-4</th>\n",
              "    </tr>\n",
              "  </thead>\n",
              "  <tbody>\n",
              "    <tr>\n",
              "      <th>0</th>\n",
              "      <td>Jack</td>\n",
              "      <td>1</td>\n",
              "      <td>1</td>\n",
              "      <td>0</td>\n",
              "      <td>1</td>\n",
              "      <td>0</td>\n",
              "      <td>0</td>\n",
              "      <td>0</td>\n",
              "    </tr>\n",
              "    <tr>\n",
              "      <th>1</th>\n",
              "      <td>Mary</td>\n",
              "      <td>0</td>\n",
              "      <td>1</td>\n",
              "      <td>0</td>\n",
              "      <td>1</td>\n",
              "      <td>0</td>\n",
              "      <td>1</td>\n",
              "      <td>0</td>\n",
              "    </tr>\n",
              "    <tr>\n",
              "      <th>2</th>\n",
              "      <td>Jim</td>\n",
              "      <td>1</td>\n",
              "      <td>1</td>\n",
              "      <td>1</td>\n",
              "      <td>0</td>\n",
              "      <td>0</td>\n",
              "      <td>0</td>\n",
              "      <td>0</td>\n",
              "    </tr>\n",
              "  </tbody>\n",
              "</table>\n",
              "</div>"
            ],
            "text/plain": [
              "   Name  Gender  Fever  Cough  Test-1  Test-2  Test-3  Test-4\n",
              "0  Jack       1      1      0       1       0       0       0\n",
              "1  Mary       0      1      0       1       0       1       0\n",
              "2   Jim       1      1      1       0       0       0       0"
            ]
          },
          "metadata": {},
          "execution_count": 70
        }
      ]
    },
    {
      "cell_type": "code",
      "metadata": {
        "id": "8W7mEeXRnvMF"
      },
      "source": [
        "def dist_binary_symmetric(p1,p2):\n",
        "    q = 0.\n",
        "    r = 0.\n",
        "    s = 0.\n",
        "    t = 0.\n",
        "    for i in range(len(p1)):\n",
        "        \n",
        "        if (p1[i] == 1 and p2[i] == 1):\n",
        "            q = q + 1\n",
        "        \n",
        "        if (p1[i] == 0 and p2[i] == 1):\n",
        "            r = r + 1\n",
        "        \n",
        "        if (p1[i] == 1 and p2[i] == 0):\n",
        "            s = s + 1\n",
        "        \n",
        "        if (p1[i] == 0 and p2[i] == 0):\n",
        "            t = t + 1\n",
        "    return (r+s)/(q+r+s+t)"
      ],
      "execution_count": null,
      "outputs": []
    },
    {
      "cell_type": "code",
      "metadata": {
        "id": "Lt9gy4e1r--5",
        "colab": {
          "base_uri": "https://localhost:8080/"
        },
        "outputId": "72dacb26-a5fa-4614-9c38-f3b7fd791291"
      },
      "source": [
        "dist_binary_symmetric(binary_table.iloc[0,1:],binary_table.iloc[1,1:])"
      ],
      "execution_count": null,
      "outputs": [
        {
          "output_type": "execute_result",
          "data": {
            "text/plain": [
              "0.2857142857142857"
            ]
          },
          "metadata": {},
          "execution_count": 72
        }
      ]
    },
    {
      "cell_type": "code",
      "metadata": {
        "id": "DXQ3Ir7ishOf",
        "colab": {
          "base_uri": "https://localhost:8080/"
        },
        "outputId": "d406df6f-915c-4334-b56a-7f30fe7a64a3"
      },
      "source": [
        "2/7.  # หาดูว่า 2/7 เท่ากับเท่าไหร่"
      ],
      "execution_count": null,
      "outputs": [
        {
          "output_type": "execute_result",
          "data": {
            "text/plain": [
              "0.2857142857142857"
            ]
          },
          "metadata": {},
          "execution_count": 73
        }
      ]
    }
  ]
}