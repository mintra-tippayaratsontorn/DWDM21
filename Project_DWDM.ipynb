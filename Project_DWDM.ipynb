{
  "nbformat": 4,
  "nbformat_minor": 0,
  "metadata": {
    "colab": {
      "name": "Project DWDM.ipynb",
      "provenance": [],
      "authorship_tag": "ABX9TyMz5niko1jtZq5KKVd0PB0B",
      "include_colab_link": true
    },
    "kernelspec": {
      "name": "python3",
      "display_name": "Python 3"
    },
    "language_info": {
      "name": "python"
    }
  },
  "cells": [
    {
      "cell_type": "markdown",
      "metadata": {
        "id": "view-in-github",
        "colab_type": "text"
      },
      "source": [
        "<a href=\"https://colab.research.google.com/github/mintra-tippayaratsontorn/DWDM21/blob/main/Project_DWDM.ipynb\" target=\"_parent\"><img src=\"https://colab.research.google.com/assets/colab-badge.svg\" alt=\"Open In Colab\"/></a>"
      ]
    },
    {
      "cell_type": "markdown",
      "metadata": {
        "id": "W3FvHh-vN5q-"
      },
      "source": [
        "แหล่งที่มาของข้อมูล : https://data.go.th/\n",
        "\n",
        "save data ไว้ใน drive : https://drive.google.com/drive/folders/1KDoVw9s6RkRB1E3TOG2Oo7qMFhfDRUX3?usp=sharing"
      ]
    },
    {
      "cell_type": "markdown",
      "metadata": {
        "id": "sdEFxLRclB7Z"
      },
      "source": [
        "**ปัญหา** คือ เราไม่สามารถพยากรณ์ข้อมูลปีต่อๆไปได้ เนื่องจากยังไม่ทราบความสัมพันธ์ของข้อมูลปัจจุบันที่มีอยู่\n",
        "\n",
        "**วัตถุประสงค์** คือ ศึกษาความสัมพันธ์ของตารางที่ 1 ถึง 4 ว่าความสัมพันธ์ที่ได้จากการคาดเดาปีต่อๆไปเป็นยังไง?\n",
        "\n",
        "* ข้อมูลชุดที่ 1 จำนวนผู้ลงทะเบียนใช้บริการอินเทอร์เน็ตความเร็วสูง \n",
        "* ข้อมูลชุดที่ 2 อัตราการเข้าถึงของบริการอินเทอร์เน็ตความเร็วสูงต่อจำนวนครัวเรือน\n",
        "* ข้อมูลชุดที่ 3 อัตราการเข้าถึงของบริการอินเทอร์เน็ตความเร็วสูงต่อจำนวนประชากร\n",
        "* ข้อมูลชุดที่ 4 จำนวนเลขหมายโทรศัพท์เคลื่อนที่ที่ได้รับการจดทะเบียน"
      ]
    },
    {
      "cell_type": "markdown",
      "metadata": {
        "id": "az3OI73GsmFD"
      },
      "source": [
        "# Data Preprecessing"
      ]
    },
    {
      "cell_type": "code",
      "metadata": {
        "id": "hCLi-68U7R8r"
      },
      "source": [
        "import pandas as pd"
      ],
      "execution_count": 1,
      "outputs": []
    },
    {
      "cell_type": "code",
      "metadata": {
        "colab": {
          "base_uri": "https://localhost:8080/"
        },
        "id": "F6ZSI1LE9ZTP",
        "outputId": "4bdeed03-2e40-46ec-e418-b44e5aa50cde"
      },
      "source": [
        "from google.colab import drive\n",
        "drive.mount('/content/drive')"
      ],
      "execution_count": 2,
      "outputs": [
        {
          "output_type": "stream",
          "name": "stdout",
          "text": [
            "Mounted at /content/drive\n"
          ]
        }
      ]
    },
    {
      "cell_type": "code",
      "metadata": {
        "id": "JsYIGYC89dFO"
      },
      "source": [
        "import os"
      ],
      "execution_count": 3,
      "outputs": []
    },
    {
      "cell_type": "code",
      "metadata": {
        "id": "q5BEyWyQNuC4"
      },
      "source": [
        "path = '/content/drive/My Drive/Project_DWDM'"
      ],
      "execution_count": 4,
      "outputs": []
    },
    {
      "cell_type": "markdown",
      "metadata": {
        "id": "UTxuLAHOFzAv"
      },
      "source": [
        "### ข้อมูลชุดที่ 1 จำนวนผู้ลงทะเบียนใช้บริการอินเทอร์เน็ตความเร็วสูง\n",
        "\n",
        "https://data.go.th/dataset/broadband-subscribers?fbclid=IwAR2hJLTNGiEnMNwRApUdbzzaFUj-1_Ag7HWgdZPxX-oaEKw2PBU0_W3-_m0"
      ]
    },
    {
      "cell_type": "markdown",
      "metadata": {
        "id": "3Pj7GHohbE46"
      },
      "source": [
        "**คำอธิบายตาราง**\n",
        "* no. คือ ลำดับ\n",
        "* quarter คือ ไตรมาส (4 ไตรมาส)\n",
        "* Thailand Internet Users_subscriber คือ ประเภท\n",
        "* year คือ ปี\n",
        "* value_subscriber คือ  จำนวนผู้ลงทะเบียนใช้บริการอินเทอร์เน็ตความเร็วสูง"
      ]
    },
    {
      "cell_type": "code",
      "metadata": {
        "colab": {
          "base_uri": "https://localhost:8080/",
          "height": 422
        },
        "id": "D5IoZfde-rVk",
        "outputId": "fd5d26b5-9ee9-4c1e-8dc4-115a78999500"
      },
      "source": [
        "data_subscriber = pd.read_csv(os.path.join(path,'10broadband-subscribers.csv'))\n",
        "data_subscriber"
      ],
      "execution_count": 5,
      "outputs": [
        {
          "output_type": "execute_result",
          "data": {
            "text/html": [
              "<div>\n",
              "<style scoped>\n",
              "    .dataframe tbody tr th:only-of-type {\n",
              "        vertical-align: middle;\n",
              "    }\n",
              "\n",
              "    .dataframe tbody tr th {\n",
              "        vertical-align: top;\n",
              "    }\n",
              "\n",
              "    .dataframe thead th {\n",
              "        text-align: right;\n",
              "    }\n",
              "</style>\n",
              "<table border=\"1\" class=\"dataframe\">\n",
              "  <thead>\n",
              "    <tr style=\"text-align: right;\">\n",
              "      <th></th>\n",
              "      <th>no.</th>\n",
              "      <th>quarter</th>\n",
              "      <th>Thailand Internet Users_subscriber</th>\n",
              "      <th>year</th>\n",
              "      <th>value_subscriber</th>\n",
              "    </tr>\n",
              "  </thead>\n",
              "  <tbody>\n",
              "    <tr>\n",
              "      <th>0</th>\n",
              "      <td>4</td>\n",
              "      <td>4</td>\n",
              "      <td>Total Internet subscribers</td>\n",
              "      <td>2003</td>\n",
              "      <td>652726.00</td>\n",
              "    </tr>\n",
              "    <tr>\n",
              "      <th>1</th>\n",
              "      <td>3</td>\n",
              "      <td>3</td>\n",
              "      <td>Total Internet subscribers</td>\n",
              "      <td>2003</td>\n",
              "      <td>529530.00</td>\n",
              "    </tr>\n",
              "    <tr>\n",
              "      <th>2</th>\n",
              "      <td>2</td>\n",
              "      <td>2</td>\n",
              "      <td>Total Internet subscribers</td>\n",
              "      <td>2003</td>\n",
              "      <td>453043.00</td>\n",
              "    </tr>\n",
              "    <tr>\n",
              "      <th>3</th>\n",
              "      <td>1</td>\n",
              "      <td>1</td>\n",
              "      <td>Total Internet subscribers</td>\n",
              "      <td>2003</td>\n",
              "      <td>365219.00</td>\n",
              "    </tr>\n",
              "    <tr>\n",
              "      <th>4</th>\n",
              "      <td>8</td>\n",
              "      <td>4</td>\n",
              "      <td>Total Internet subscribers</td>\n",
              "      <td>2004</td>\n",
              "      <td>1231344.00</td>\n",
              "    </tr>\n",
              "    <tr>\n",
              "      <th>...</th>\n",
              "      <td>...</td>\n",
              "      <td>...</td>\n",
              "      <td>...</td>\n",
              "      <td>...</td>\n",
              "      <td>...</td>\n",
              "    </tr>\n",
              "    <tr>\n",
              "      <th>68</th>\n",
              "      <td>72</td>\n",
              "      <td>4</td>\n",
              "      <td>Total Internet subscribers</td>\n",
              "      <td>2020</td>\n",
              "      <td>11478264.92</td>\n",
              "    </tr>\n",
              "    <tr>\n",
              "      <th>69</th>\n",
              "      <td>71</td>\n",
              "      <td>3</td>\n",
              "      <td>Total Internet subscribers</td>\n",
              "      <td>2020</td>\n",
              "      <td>11282645.58</td>\n",
              "    </tr>\n",
              "    <tr>\n",
              "      <th>70</th>\n",
              "      <td>70</td>\n",
              "      <td>2</td>\n",
              "      <td>Total Internet subscribers</td>\n",
              "      <td>2020</td>\n",
              "      <td>10912996.14</td>\n",
              "    </tr>\n",
              "    <tr>\n",
              "      <th>71</th>\n",
              "      <td>69</td>\n",
              "      <td>1</td>\n",
              "      <td>Total Internet subscribers</td>\n",
              "      <td>2020</td>\n",
              "      <td>10264995.67</td>\n",
              "    </tr>\n",
              "    <tr>\n",
              "      <th>72</th>\n",
              "      <td>73</td>\n",
              "      <td>1</td>\n",
              "      <td>Total Internet subscribers</td>\n",
              "      <td>2021</td>\n",
              "      <td>11876158.44</td>\n",
              "    </tr>\n",
              "  </tbody>\n",
              "</table>\n",
              "<p>73 rows × 5 columns</p>\n",
              "</div>"
            ],
            "text/plain": [
              "    no.  quarter Thailand Internet Users_subscriber  year  value_subscriber\n",
              "0     4        4         Total Internet subscribers  2003         652726.00\n",
              "1     3        3         Total Internet subscribers  2003         529530.00\n",
              "2     2        2         Total Internet subscribers  2003         453043.00\n",
              "3     1        1         Total Internet subscribers  2003         365219.00\n",
              "4     8        4         Total Internet subscribers  2004        1231344.00\n",
              "..  ...      ...                                ...   ...               ...\n",
              "68   72        4         Total Internet subscribers  2020       11478264.92\n",
              "69   71        3         Total Internet subscribers  2020       11282645.58\n",
              "70   70        2         Total Internet subscribers  2020       10912996.14\n",
              "71   69        1         Total Internet subscribers  2020       10264995.67\n",
              "72   73        1         Total Internet subscribers  2021       11876158.44\n",
              "\n",
              "[73 rows x 5 columns]"
            ]
          },
          "metadata": {},
          "execution_count": 5
        }
      ]
    },
    {
      "cell_type": "markdown",
      "metadata": {
        "id": "bz4p8dexLFv0"
      },
      "source": [
        "### ข้อมูลชุดที่ 2 อัตราการเข้าถึงของบริการอินเทอร์เน็ตความเร็วสูงต่อจำนวนครัวเรือน\n",
        "\n",
        "https://data.go.th/dataset/broadband-penetration-per-household?fbclid=IwAR0tNweDa7pmiAaygo0Z88iFFIYLtQRFjujfaIyEpUub_bFVQEkcCbXAZJc"
      ]
    },
    {
      "cell_type": "markdown",
      "metadata": {
        "id": "wVr472ekcGp_"
      },
      "source": [
        "**คำอธิบายตาราง**\n",
        "* no. คือ ลำดับ\n",
        "* type_household คือ ประเภท\n",
        "* quarter คือ ไตรมาส (4 ไตรมาส)\n",
        "* year คือ ปี\n",
        "* value_household คือ  อัตราการเข้าถึงของบริการอินเทอร์เน็ตความเร็วสูงต่อจำนวนครัวเรือน"
      ]
    },
    {
      "cell_type": "code",
      "metadata": {
        "colab": {
          "base_uri": "https://localhost:8080/",
          "height": 422
        },
        "id": "Q9iofwQ19jwW",
        "outputId": "f3f44410-d5d0-44b8-adb2-92f0d38a5cb6"
      },
      "source": [
        "data_household = pd.read_csv(os.path.join(path,'12broadband-penetration-per-household-.csv'))\n",
        "data_household"
      ],
      "execution_count": 6,
      "outputs": [
        {
          "output_type": "execute_result",
          "data": {
            "text/html": [
              "<div>\n",
              "<style scoped>\n",
              "    .dataframe tbody tr th:only-of-type {\n",
              "        vertical-align: middle;\n",
              "    }\n",
              "\n",
              "    .dataframe tbody tr th {\n",
              "        vertical-align: top;\n",
              "    }\n",
              "\n",
              "    .dataframe thead th {\n",
              "        text-align: right;\n",
              "    }\n",
              "</style>\n",
              "<table border=\"1\" class=\"dataframe\">\n",
              "  <thead>\n",
              "    <tr style=\"text-align: right;\">\n",
              "      <th></th>\n",
              "      <th>no.</th>\n",
              "      <th>type_household</th>\n",
              "      <th>quarter</th>\n",
              "      <th>year</th>\n",
              "      <th>value_household</th>\n",
              "    </tr>\n",
              "  </thead>\n",
              "  <tbody>\n",
              "    <tr>\n",
              "      <th>0</th>\n",
              "      <td>4</td>\n",
              "      <td>per household (%)</td>\n",
              "      <td>4</td>\n",
              "      <td>2003</td>\n",
              "      <td>0.000649</td>\n",
              "    </tr>\n",
              "    <tr>\n",
              "      <th>1</th>\n",
              "      <td>3</td>\n",
              "      <td>per household (%)</td>\n",
              "      <td>3</td>\n",
              "      <td>2003</td>\n",
              "      <td>0.000459</td>\n",
              "    </tr>\n",
              "    <tr>\n",
              "      <th>2</th>\n",
              "      <td>2</td>\n",
              "      <td>per household (%)</td>\n",
              "      <td>2</td>\n",
              "      <td>2003</td>\n",
              "      <td>0.000343</td>\n",
              "    </tr>\n",
              "    <tr>\n",
              "      <th>3</th>\n",
              "      <td>1</td>\n",
              "      <td>per household (%)</td>\n",
              "      <td>1</td>\n",
              "      <td>2003</td>\n",
              "      <td>0.000281</td>\n",
              "    </tr>\n",
              "    <tr>\n",
              "      <th>4</th>\n",
              "      <td>8</td>\n",
              "      <td>per household (%)</td>\n",
              "      <td>4</td>\n",
              "      <td>2004</td>\n",
              "      <td>0.008716</td>\n",
              "    </tr>\n",
              "    <tr>\n",
              "      <th>...</th>\n",
              "      <td>...</td>\n",
              "      <td>...</td>\n",
              "      <td>...</td>\n",
              "      <td>...</td>\n",
              "      <td>...</td>\n",
              "    </tr>\n",
              "    <tr>\n",
              "      <th>68</th>\n",
              "      <td>72</td>\n",
              "      <td>per household (%)</td>\n",
              "      <td>4</td>\n",
              "      <td>2020</td>\n",
              "      <td>0.514683</td>\n",
              "    </tr>\n",
              "    <tr>\n",
              "      <th>69</th>\n",
              "      <td>71</td>\n",
              "      <td>per household (%)</td>\n",
              "      <td>3</td>\n",
              "      <td>2020</td>\n",
              "      <td>0.515873</td>\n",
              "    </tr>\n",
              "    <tr>\n",
              "      <th>70</th>\n",
              "      <td>70</td>\n",
              "      <td>per household (%)</td>\n",
              "      <td>2</td>\n",
              "      <td>2020</td>\n",
              "      <td>0.498972</td>\n",
              "    </tr>\n",
              "    <tr>\n",
              "      <th>71</th>\n",
              "      <td>69</td>\n",
              "      <td>per household (%)</td>\n",
              "      <td>1</td>\n",
              "      <td>2020</td>\n",
              "      <td>0.469344</td>\n",
              "    </tr>\n",
              "    <tr>\n",
              "      <th>72</th>\n",
              "      <td>73</td>\n",
              "      <td>per household (%)</td>\n",
              "      <td>1</td>\n",
              "      <td>2021</td>\n",
              "      <td>0.532524</td>\n",
              "    </tr>\n",
              "  </tbody>\n",
              "</table>\n",
              "<p>73 rows × 5 columns</p>\n",
              "</div>"
            ],
            "text/plain": [
              "    no.     type_household  quarter  year  value_household\n",
              "0     4  per household (%)        4  2003         0.000649\n",
              "1     3  per household (%)        3  2003         0.000459\n",
              "2     2  per household (%)        2  2003         0.000343\n",
              "3     1  per household (%)        1  2003         0.000281\n",
              "4     8  per household (%)        4  2004         0.008716\n",
              "..  ...                ...      ...   ...              ...\n",
              "68   72  per household (%)        4  2020         0.514683\n",
              "69   71  per household (%)        3  2020         0.515873\n",
              "70   70  per household (%)        2  2020         0.498972\n",
              "71   69  per household (%)        1  2020         0.469344\n",
              "72   73  per household (%)        1  2021         0.532524\n",
              "\n",
              "[73 rows x 5 columns]"
            ]
          },
          "metadata": {},
          "execution_count": 6
        }
      ]
    },
    {
      "cell_type": "markdown",
      "metadata": {
        "id": "LlMsbfC1LXcz"
      },
      "source": [
        "### ข้อมูลชุดที่ 3 อัตราการเข้าถึงของบริการอินเทอร์เน็ตความเร็วสูงต่อจำนวนประชากร\n",
        "\n",
        "https://data.go.th/dataset/broadband-penetration-per-population?fbclid=IwAR0D5Z4yxZOXJYPM9hgBJpAVbuWBkxwNzEdW_jWwlvvkCKQxaGERqrxffFs"
      ]
    },
    {
      "cell_type": "markdown",
      "metadata": {
        "id": "1NmR_7Ytc1HT"
      },
      "source": [
        "**คำอธิบายตาราง**\n",
        "* no. คือ ลำดับ\n",
        "* type_population คือ ประเภท\n",
        "* quarter คือ ไตรมาส (4 ไตรมาส)\n",
        "* year คือ ปี\n",
        "* value_population คือ  อัตราการเข้าถึงของบริการอินเทอร์เน็ตความเร็วสูงต่อจำนวนประชากร"
      ]
    },
    {
      "cell_type": "code",
      "metadata": {
        "colab": {
          "base_uri": "https://localhost:8080/",
          "height": 422
        },
        "id": "uET6yqEN-vt9",
        "outputId": "cb8091e0-060c-4346-86e4-3a3f7256886b"
      },
      "source": [
        "data_population = pd.read_csv(os.path.join(path,'11broadband-penetration-per-population-.csv'))\n",
        "data_population"
      ],
      "execution_count": 7,
      "outputs": [
        {
          "output_type": "execute_result",
          "data": {
            "text/html": [
              "<div>\n",
              "<style scoped>\n",
              "    .dataframe tbody tr th:only-of-type {\n",
              "        vertical-align: middle;\n",
              "    }\n",
              "\n",
              "    .dataframe tbody tr th {\n",
              "        vertical-align: top;\n",
              "    }\n",
              "\n",
              "    .dataframe thead th {\n",
              "        text-align: right;\n",
              "    }\n",
              "</style>\n",
              "<table border=\"1\" class=\"dataframe\">\n",
              "  <thead>\n",
              "    <tr style=\"text-align: right;\">\n",
              "      <th></th>\n",
              "      <th>no.</th>\n",
              "      <th>type_population</th>\n",
              "      <th>quarter</th>\n",
              "      <th>year</th>\n",
              "      <th>value_population</th>\n",
              "    </tr>\n",
              "  </thead>\n",
              "  <tbody>\n",
              "    <tr>\n",
              "      <th>0</th>\n",
              "      <td>1</td>\n",
              "      <td>per population (%)</td>\n",
              "      <td>1</td>\n",
              "      <td>2003</td>\n",
              "      <td>0.0001</td>\n",
              "    </tr>\n",
              "    <tr>\n",
              "      <th>1</th>\n",
              "      <td>2</td>\n",
              "      <td>per population (%)</td>\n",
              "      <td>2</td>\n",
              "      <td>2003</td>\n",
              "      <td>0.0001</td>\n",
              "    </tr>\n",
              "    <tr>\n",
              "      <th>2</th>\n",
              "      <td>3</td>\n",
              "      <td>per population (%)</td>\n",
              "      <td>3</td>\n",
              "      <td>2003</td>\n",
              "      <td>0.0001</td>\n",
              "    </tr>\n",
              "    <tr>\n",
              "      <th>3</th>\n",
              "      <td>4</td>\n",
              "      <td>per population (%)</td>\n",
              "      <td>4</td>\n",
              "      <td>2003</td>\n",
              "      <td>0.0002</td>\n",
              "    </tr>\n",
              "    <tr>\n",
              "      <th>4</th>\n",
              "      <td>5</td>\n",
              "      <td>per population (%)</td>\n",
              "      <td>1</td>\n",
              "      <td>2004</td>\n",
              "      <td>0.0005</td>\n",
              "    </tr>\n",
              "    <tr>\n",
              "      <th>...</th>\n",
              "      <td>...</td>\n",
              "      <td>...</td>\n",
              "      <td>...</td>\n",
              "      <td>...</td>\n",
              "      <td>...</td>\n",
              "    </tr>\n",
              "    <tr>\n",
              "      <th>68</th>\n",
              "      <td>69</td>\n",
              "      <td>per population (%)</td>\n",
              "      <td>1</td>\n",
              "      <td>2020</td>\n",
              "      <td>0.1510</td>\n",
              "    </tr>\n",
              "    <tr>\n",
              "      <th>69</th>\n",
              "      <td>70</td>\n",
              "      <td>per population (%)</td>\n",
              "      <td>2</td>\n",
              "      <td>2020</td>\n",
              "      <td>0.1605</td>\n",
              "    </tr>\n",
              "    <tr>\n",
              "      <th>70</th>\n",
              "      <td>71</td>\n",
              "      <td>per population (%)</td>\n",
              "      <td>3</td>\n",
              "      <td>2020</td>\n",
              "      <td>0.1659</td>\n",
              "    </tr>\n",
              "    <tr>\n",
              "      <th>71</th>\n",
              "      <td>72</td>\n",
              "      <td>per population (%)</td>\n",
              "      <td>4</td>\n",
              "      <td>2020</td>\n",
              "      <td>0.1685</td>\n",
              "    </tr>\n",
              "    <tr>\n",
              "      <th>72</th>\n",
              "      <td>73</td>\n",
              "      <td>per population (%)</td>\n",
              "      <td>1</td>\n",
              "      <td>2021</td>\n",
              "      <td>0.1740</td>\n",
              "    </tr>\n",
              "  </tbody>\n",
              "</table>\n",
              "<p>73 rows × 5 columns</p>\n",
              "</div>"
            ],
            "text/plain": [
              "    no.     type_population  quarter  year  value_population\n",
              "0     1  per population (%)        1  2003            0.0001\n",
              "1     2  per population (%)        2  2003            0.0001\n",
              "2     3  per population (%)        3  2003            0.0001\n",
              "3     4  per population (%)        4  2003            0.0002\n",
              "4     5  per population (%)        1  2004            0.0005\n",
              "..  ...                 ...      ...   ...               ...\n",
              "68   69  per population (%)        1  2020            0.1510\n",
              "69   70  per population (%)        2  2020            0.1605\n",
              "70   71  per population (%)        3  2020            0.1659\n",
              "71   72  per population (%)        4  2020            0.1685\n",
              "72   73  per population (%)        1  2021            0.1740\n",
              "\n",
              "[73 rows x 5 columns]"
            ]
          },
          "metadata": {},
          "execution_count": 7
        }
      ]
    },
    {
      "cell_type": "markdown",
      "metadata": {
        "id": "m0cAMDL7r4RA"
      },
      "source": [
        "## Check Missing แต่ละตาราง\n",
        "* True แสดงว่า column นั้น ยังมีข้อมูลที่ missing อยู่\n",
        "* False แสดงว่า column นั้น ไม่มีข้อมูลที่ missing แล้ว"
      ]
    },
    {
      "cell_type": "code",
      "metadata": {
        "colab": {
          "base_uri": "https://localhost:8080/"
        },
        "id": "tytmNdp2lVak",
        "outputId": "67968339-3cbc-4f41-cfb8-2b210e10e6d8"
      },
      "source": [
        "# เช็ค missing ตาราง data_subscriber\n",
        "data_subscriber.isnull().any()"
      ],
      "execution_count": 8,
      "outputs": [
        {
          "output_type": "execute_result",
          "data": {
            "text/plain": [
              "no.                                   False\n",
              "quarter                               False\n",
              "Thailand Internet Users_subscriber    False\n",
              "year                                  False\n",
              "value_subscriber                      False\n",
              "dtype: bool"
            ]
          },
          "metadata": {},
          "execution_count": 8
        }
      ]
    },
    {
      "cell_type": "code",
      "metadata": {
        "id": "6OXynIdk_aV-",
        "colab": {
          "base_uri": "https://localhost:8080/"
        },
        "outputId": "60a415f0-0b55-4f31-9509-1285dc848552"
      },
      "source": [
        "# เช็ค missing ตาราง data_household\n",
        "data_household.isnull().any()"
      ],
      "execution_count": 9,
      "outputs": [
        {
          "output_type": "execute_result",
          "data": {
            "text/plain": [
              "no.                False\n",
              "type_household     False\n",
              "quarter            False\n",
              "year               False\n",
              "value_household    False\n",
              "dtype: bool"
            ]
          },
          "metadata": {},
          "execution_count": 9
        }
      ]
    },
    {
      "cell_type": "code",
      "metadata": {
        "colab": {
          "base_uri": "https://localhost:8080/"
        },
        "id": "nMEpbYejlVXt",
        "outputId": "7113b319-de73-4cc1-f068-bc4feebf5d37"
      },
      "source": [
        "# เช็ค missing ตาราง data_population\n",
        "data_population.isnull().any()"
      ],
      "execution_count": 10,
      "outputs": [
        {
          "output_type": "execute_result",
          "data": {
            "text/plain": [
              "no.                 False\n",
              "type_population     False\n",
              "quarter             False\n",
              "year                False\n",
              "value_population    False\n",
              "dtype: bool"
            ]
          },
          "metadata": {},
          "execution_count": 10
        }
      ]
    },
    {
      "cell_type": "markdown",
      "metadata": {
        "id": "Y5FtksubMBtJ"
      },
      "source": [
        "สรุปได้ว่าข้อมูลทั้ง 3 ตารางไม่มีข้อมูลที่ missing"
      ]
    },
    {
      "cell_type": "markdown",
      "metadata": {
        "id": "t5EEDUOBn1ys"
      },
      "source": [
        "## Sort (เรียงข้อมูล)"
      ]
    },
    {
      "cell_type": "code",
      "metadata": {
        "colab": {
          "base_uri": "https://localhost:8080/",
          "height": 422
        },
        "id": "p7tPje5xn1JM",
        "outputId": "74579b0f-e6ff-4d35-eb39-f60a1d2b6f3f"
      },
      "source": [
        "data_subscriber2 = data_subscriber.sort_values(by=['no.'])  # เรียงข้อมูลโดยใช้ column ของ No. เป็นหลักในการเรียง\n",
        "data_subscriber2"
      ],
      "execution_count": 11,
      "outputs": [
        {
          "output_type": "execute_result",
          "data": {
            "text/html": [
              "<div>\n",
              "<style scoped>\n",
              "    .dataframe tbody tr th:only-of-type {\n",
              "        vertical-align: middle;\n",
              "    }\n",
              "\n",
              "    .dataframe tbody tr th {\n",
              "        vertical-align: top;\n",
              "    }\n",
              "\n",
              "    .dataframe thead th {\n",
              "        text-align: right;\n",
              "    }\n",
              "</style>\n",
              "<table border=\"1\" class=\"dataframe\">\n",
              "  <thead>\n",
              "    <tr style=\"text-align: right;\">\n",
              "      <th></th>\n",
              "      <th>no.</th>\n",
              "      <th>quarter</th>\n",
              "      <th>Thailand Internet Users_subscriber</th>\n",
              "      <th>year</th>\n",
              "      <th>value_subscriber</th>\n",
              "    </tr>\n",
              "  </thead>\n",
              "  <tbody>\n",
              "    <tr>\n",
              "      <th>3</th>\n",
              "      <td>1</td>\n",
              "      <td>1</td>\n",
              "      <td>Total Internet subscribers</td>\n",
              "      <td>2003</td>\n",
              "      <td>365219.00</td>\n",
              "    </tr>\n",
              "    <tr>\n",
              "      <th>2</th>\n",
              "      <td>2</td>\n",
              "      <td>2</td>\n",
              "      <td>Total Internet subscribers</td>\n",
              "      <td>2003</td>\n",
              "      <td>453043.00</td>\n",
              "    </tr>\n",
              "    <tr>\n",
              "      <th>1</th>\n",
              "      <td>3</td>\n",
              "      <td>3</td>\n",
              "      <td>Total Internet subscribers</td>\n",
              "      <td>2003</td>\n",
              "      <td>529530.00</td>\n",
              "    </tr>\n",
              "    <tr>\n",
              "      <th>0</th>\n",
              "      <td>4</td>\n",
              "      <td>4</td>\n",
              "      <td>Total Internet subscribers</td>\n",
              "      <td>2003</td>\n",
              "      <td>652726.00</td>\n",
              "    </tr>\n",
              "    <tr>\n",
              "      <th>7</th>\n",
              "      <td>5</td>\n",
              "      <td>1</td>\n",
              "      <td>Total Internet subscribers</td>\n",
              "      <td>2004</td>\n",
              "      <td>785931.00</td>\n",
              "    </tr>\n",
              "    <tr>\n",
              "      <th>...</th>\n",
              "      <td>...</td>\n",
              "      <td>...</td>\n",
              "      <td>...</td>\n",
              "      <td>...</td>\n",
              "      <td>...</td>\n",
              "    </tr>\n",
              "    <tr>\n",
              "      <th>71</th>\n",
              "      <td>69</td>\n",
              "      <td>1</td>\n",
              "      <td>Total Internet subscribers</td>\n",
              "      <td>2020</td>\n",
              "      <td>10264995.67</td>\n",
              "    </tr>\n",
              "    <tr>\n",
              "      <th>70</th>\n",
              "      <td>70</td>\n",
              "      <td>2</td>\n",
              "      <td>Total Internet subscribers</td>\n",
              "      <td>2020</td>\n",
              "      <td>10912996.14</td>\n",
              "    </tr>\n",
              "    <tr>\n",
              "      <th>69</th>\n",
              "      <td>71</td>\n",
              "      <td>3</td>\n",
              "      <td>Total Internet subscribers</td>\n",
              "      <td>2020</td>\n",
              "      <td>11282645.58</td>\n",
              "    </tr>\n",
              "    <tr>\n",
              "      <th>68</th>\n",
              "      <td>72</td>\n",
              "      <td>4</td>\n",
              "      <td>Total Internet subscribers</td>\n",
              "      <td>2020</td>\n",
              "      <td>11478264.92</td>\n",
              "    </tr>\n",
              "    <tr>\n",
              "      <th>72</th>\n",
              "      <td>73</td>\n",
              "      <td>1</td>\n",
              "      <td>Total Internet subscribers</td>\n",
              "      <td>2021</td>\n",
              "      <td>11876158.44</td>\n",
              "    </tr>\n",
              "  </tbody>\n",
              "</table>\n",
              "<p>73 rows × 5 columns</p>\n",
              "</div>"
            ],
            "text/plain": [
              "    no.  quarter Thailand Internet Users_subscriber  year  value_subscriber\n",
              "3     1        1         Total Internet subscribers  2003         365219.00\n",
              "2     2        2         Total Internet subscribers  2003         453043.00\n",
              "1     3        3         Total Internet subscribers  2003         529530.00\n",
              "0     4        4         Total Internet subscribers  2003         652726.00\n",
              "7     5        1         Total Internet subscribers  2004         785931.00\n",
              "..  ...      ...                                ...   ...               ...\n",
              "71   69        1         Total Internet subscribers  2020       10264995.67\n",
              "70   70        2         Total Internet subscribers  2020       10912996.14\n",
              "69   71        3         Total Internet subscribers  2020       11282645.58\n",
              "68   72        4         Total Internet subscribers  2020       11478264.92\n",
              "72   73        1         Total Internet subscribers  2021       11876158.44\n",
              "\n",
              "[73 rows x 5 columns]"
            ]
          },
          "metadata": {},
          "execution_count": 11
        }
      ]
    },
    {
      "cell_type": "code",
      "metadata": {
        "colab": {
          "base_uri": "https://localhost:8080/",
          "height": 422
        },
        "id": "12dNSiV676xp",
        "outputId": "9463b453-6764-40ed-f717-041e420116da"
      },
      "source": [
        "data_household2 = data_household.sort_values(by=['no.'])  # เรียงข้อมูลโดยใช้ column ของ No. เป็นหลักในการเรียง\n",
        "data_household2"
      ],
      "execution_count": 12,
      "outputs": [
        {
          "output_type": "execute_result",
          "data": {
            "text/html": [
              "<div>\n",
              "<style scoped>\n",
              "    .dataframe tbody tr th:only-of-type {\n",
              "        vertical-align: middle;\n",
              "    }\n",
              "\n",
              "    .dataframe tbody tr th {\n",
              "        vertical-align: top;\n",
              "    }\n",
              "\n",
              "    .dataframe thead th {\n",
              "        text-align: right;\n",
              "    }\n",
              "</style>\n",
              "<table border=\"1\" class=\"dataframe\">\n",
              "  <thead>\n",
              "    <tr style=\"text-align: right;\">\n",
              "      <th></th>\n",
              "      <th>no.</th>\n",
              "      <th>type_household</th>\n",
              "      <th>quarter</th>\n",
              "      <th>year</th>\n",
              "      <th>value_household</th>\n",
              "    </tr>\n",
              "  </thead>\n",
              "  <tbody>\n",
              "    <tr>\n",
              "      <th>3</th>\n",
              "      <td>1</td>\n",
              "      <td>per household (%)</td>\n",
              "      <td>1</td>\n",
              "      <td>2003</td>\n",
              "      <td>0.000281</td>\n",
              "    </tr>\n",
              "    <tr>\n",
              "      <th>2</th>\n",
              "      <td>2</td>\n",
              "      <td>per household (%)</td>\n",
              "      <td>2</td>\n",
              "      <td>2003</td>\n",
              "      <td>0.000343</td>\n",
              "    </tr>\n",
              "    <tr>\n",
              "      <th>1</th>\n",
              "      <td>3</td>\n",
              "      <td>per household (%)</td>\n",
              "      <td>3</td>\n",
              "      <td>2003</td>\n",
              "      <td>0.000459</td>\n",
              "    </tr>\n",
              "    <tr>\n",
              "      <th>0</th>\n",
              "      <td>4</td>\n",
              "      <td>per household (%)</td>\n",
              "      <td>4</td>\n",
              "      <td>2003</td>\n",
              "      <td>0.000649</td>\n",
              "    </tr>\n",
              "    <tr>\n",
              "      <th>7</th>\n",
              "      <td>5</td>\n",
              "      <td>per household (%)</td>\n",
              "      <td>1</td>\n",
              "      <td>2004</td>\n",
              "      <td>0.001556</td>\n",
              "    </tr>\n",
              "    <tr>\n",
              "      <th>...</th>\n",
              "      <td>...</td>\n",
              "      <td>...</td>\n",
              "      <td>...</td>\n",
              "      <td>...</td>\n",
              "      <td>...</td>\n",
              "    </tr>\n",
              "    <tr>\n",
              "      <th>71</th>\n",
              "      <td>69</td>\n",
              "      <td>per household (%)</td>\n",
              "      <td>1</td>\n",
              "      <td>2020</td>\n",
              "      <td>0.469344</td>\n",
              "    </tr>\n",
              "    <tr>\n",
              "      <th>70</th>\n",
              "      <td>70</td>\n",
              "      <td>per household (%)</td>\n",
              "      <td>2</td>\n",
              "      <td>2020</td>\n",
              "      <td>0.498972</td>\n",
              "    </tr>\n",
              "    <tr>\n",
              "      <th>69</th>\n",
              "      <td>71</td>\n",
              "      <td>per household (%)</td>\n",
              "      <td>3</td>\n",
              "      <td>2020</td>\n",
              "      <td>0.515873</td>\n",
              "    </tr>\n",
              "    <tr>\n",
              "      <th>68</th>\n",
              "      <td>72</td>\n",
              "      <td>per household (%)</td>\n",
              "      <td>4</td>\n",
              "      <td>2020</td>\n",
              "      <td>0.514683</td>\n",
              "    </tr>\n",
              "    <tr>\n",
              "      <th>72</th>\n",
              "      <td>73</td>\n",
              "      <td>per household (%)</td>\n",
              "      <td>1</td>\n",
              "      <td>2021</td>\n",
              "      <td>0.532524</td>\n",
              "    </tr>\n",
              "  </tbody>\n",
              "</table>\n",
              "<p>73 rows × 5 columns</p>\n",
              "</div>"
            ],
            "text/plain": [
              "    no.     type_household  quarter  year  value_household\n",
              "3     1  per household (%)        1  2003         0.000281\n",
              "2     2  per household (%)        2  2003         0.000343\n",
              "1     3  per household (%)        3  2003         0.000459\n",
              "0     4  per household (%)        4  2003         0.000649\n",
              "7     5  per household (%)        1  2004         0.001556\n",
              "..  ...                ...      ...   ...              ...\n",
              "71   69  per household (%)        1  2020         0.469344\n",
              "70   70  per household (%)        2  2020         0.498972\n",
              "69   71  per household (%)        3  2020         0.515873\n",
              "68   72  per household (%)        4  2020         0.514683\n",
              "72   73  per household (%)        1  2021         0.532524\n",
              "\n",
              "[73 rows x 5 columns]"
            ]
          },
          "metadata": {},
          "execution_count": 12
        }
      ]
    },
    {
      "cell_type": "code",
      "metadata": {
        "colab": {
          "base_uri": "https://localhost:8080/",
          "height": 422
        },
        "id": "r6XFAcfDxg0F",
        "outputId": "86de8b95-5478-4624-d87f-a5257b72e026"
      },
      "source": [
        "# ตัด column ของตาราง data_population (ตัด column ที่ซ้ำกันออกคือ QUARTER กับ YEAR)\n",
        "data_population.drop(['quarter','year'], axis=1, inplace=True)  # axis=1 คือลบcolumn / axis=0 คือลบrow\n",
        "data_population"
      ],
      "execution_count": 13,
      "outputs": [
        {
          "output_type": "execute_result",
          "data": {
            "text/html": [
              "<div>\n",
              "<style scoped>\n",
              "    .dataframe tbody tr th:only-of-type {\n",
              "        vertical-align: middle;\n",
              "    }\n",
              "\n",
              "    .dataframe tbody tr th {\n",
              "        vertical-align: top;\n",
              "    }\n",
              "\n",
              "    .dataframe thead th {\n",
              "        text-align: right;\n",
              "    }\n",
              "</style>\n",
              "<table border=\"1\" class=\"dataframe\">\n",
              "  <thead>\n",
              "    <tr style=\"text-align: right;\">\n",
              "      <th></th>\n",
              "      <th>no.</th>\n",
              "      <th>type_population</th>\n",
              "      <th>value_population</th>\n",
              "    </tr>\n",
              "  </thead>\n",
              "  <tbody>\n",
              "    <tr>\n",
              "      <th>0</th>\n",
              "      <td>1</td>\n",
              "      <td>per population (%)</td>\n",
              "      <td>0.0001</td>\n",
              "    </tr>\n",
              "    <tr>\n",
              "      <th>1</th>\n",
              "      <td>2</td>\n",
              "      <td>per population (%)</td>\n",
              "      <td>0.0001</td>\n",
              "    </tr>\n",
              "    <tr>\n",
              "      <th>2</th>\n",
              "      <td>3</td>\n",
              "      <td>per population (%)</td>\n",
              "      <td>0.0001</td>\n",
              "    </tr>\n",
              "    <tr>\n",
              "      <th>3</th>\n",
              "      <td>4</td>\n",
              "      <td>per population (%)</td>\n",
              "      <td>0.0002</td>\n",
              "    </tr>\n",
              "    <tr>\n",
              "      <th>4</th>\n",
              "      <td>5</td>\n",
              "      <td>per population (%)</td>\n",
              "      <td>0.0005</td>\n",
              "    </tr>\n",
              "    <tr>\n",
              "      <th>...</th>\n",
              "      <td>...</td>\n",
              "      <td>...</td>\n",
              "      <td>...</td>\n",
              "    </tr>\n",
              "    <tr>\n",
              "      <th>68</th>\n",
              "      <td>69</td>\n",
              "      <td>per population (%)</td>\n",
              "      <td>0.1510</td>\n",
              "    </tr>\n",
              "    <tr>\n",
              "      <th>69</th>\n",
              "      <td>70</td>\n",
              "      <td>per population (%)</td>\n",
              "      <td>0.1605</td>\n",
              "    </tr>\n",
              "    <tr>\n",
              "      <th>70</th>\n",
              "      <td>71</td>\n",
              "      <td>per population (%)</td>\n",
              "      <td>0.1659</td>\n",
              "    </tr>\n",
              "    <tr>\n",
              "      <th>71</th>\n",
              "      <td>72</td>\n",
              "      <td>per population (%)</td>\n",
              "      <td>0.1685</td>\n",
              "    </tr>\n",
              "    <tr>\n",
              "      <th>72</th>\n",
              "      <td>73</td>\n",
              "      <td>per population (%)</td>\n",
              "      <td>0.1740</td>\n",
              "    </tr>\n",
              "  </tbody>\n",
              "</table>\n",
              "<p>73 rows × 3 columns</p>\n",
              "</div>"
            ],
            "text/plain": [
              "    no.     type_population  value_population\n",
              "0     1  per population (%)            0.0001\n",
              "1     2  per population (%)            0.0001\n",
              "2     3  per population (%)            0.0001\n",
              "3     4  per population (%)            0.0002\n",
              "4     5  per population (%)            0.0005\n",
              "..  ...                 ...               ...\n",
              "68   69  per population (%)            0.1510\n",
              "69   70  per population (%)            0.1605\n",
              "70   71  per population (%)            0.1659\n",
              "71   72  per population (%)            0.1685\n",
              "72   73  per population (%)            0.1740\n",
              "\n",
              "[73 rows x 3 columns]"
            ]
          },
          "metadata": {},
          "execution_count": 13
        }
      ]
    },
    {
      "cell_type": "code",
      "metadata": {
        "colab": {
          "base_uri": "https://localhost:8080/",
          "height": 422
        },
        "id": "WVM5ABNolVLC",
        "outputId": "cd09582b-f744-43eb-f360-b162d449ad95"
      },
      "source": [
        "# เชื่อมตาราง data_subscriber2 และ data_population เข้าด้วยกัน โดยให้ตาราง data_subscriber2 เป็นตารางหลักอยู่ที่ด้านซ้าย\n",
        "merge_table1 = data_subscriber2.merge(data_population,how='left',left_on='no.',right_on='no.')\n",
        "merge_table1"
      ],
      "execution_count": 14,
      "outputs": [
        {
          "output_type": "execute_result",
          "data": {
            "text/html": [
              "<div>\n",
              "<style scoped>\n",
              "    .dataframe tbody tr th:only-of-type {\n",
              "        vertical-align: middle;\n",
              "    }\n",
              "\n",
              "    .dataframe tbody tr th {\n",
              "        vertical-align: top;\n",
              "    }\n",
              "\n",
              "    .dataframe thead th {\n",
              "        text-align: right;\n",
              "    }\n",
              "</style>\n",
              "<table border=\"1\" class=\"dataframe\">\n",
              "  <thead>\n",
              "    <tr style=\"text-align: right;\">\n",
              "      <th></th>\n",
              "      <th>no.</th>\n",
              "      <th>quarter</th>\n",
              "      <th>Thailand Internet Users_subscriber</th>\n",
              "      <th>year</th>\n",
              "      <th>value_subscriber</th>\n",
              "      <th>type_population</th>\n",
              "      <th>value_population</th>\n",
              "    </tr>\n",
              "  </thead>\n",
              "  <tbody>\n",
              "    <tr>\n",
              "      <th>0</th>\n",
              "      <td>1</td>\n",
              "      <td>1</td>\n",
              "      <td>Total Internet subscribers</td>\n",
              "      <td>2003</td>\n",
              "      <td>365219.00</td>\n",
              "      <td>per population (%)</td>\n",
              "      <td>0.0001</td>\n",
              "    </tr>\n",
              "    <tr>\n",
              "      <th>1</th>\n",
              "      <td>2</td>\n",
              "      <td>2</td>\n",
              "      <td>Total Internet subscribers</td>\n",
              "      <td>2003</td>\n",
              "      <td>453043.00</td>\n",
              "      <td>per population (%)</td>\n",
              "      <td>0.0001</td>\n",
              "    </tr>\n",
              "    <tr>\n",
              "      <th>2</th>\n",
              "      <td>3</td>\n",
              "      <td>3</td>\n",
              "      <td>Total Internet subscribers</td>\n",
              "      <td>2003</td>\n",
              "      <td>529530.00</td>\n",
              "      <td>per population (%)</td>\n",
              "      <td>0.0001</td>\n",
              "    </tr>\n",
              "    <tr>\n",
              "      <th>3</th>\n",
              "      <td>4</td>\n",
              "      <td>4</td>\n",
              "      <td>Total Internet subscribers</td>\n",
              "      <td>2003</td>\n",
              "      <td>652726.00</td>\n",
              "      <td>per population (%)</td>\n",
              "      <td>0.0002</td>\n",
              "    </tr>\n",
              "    <tr>\n",
              "      <th>4</th>\n",
              "      <td>5</td>\n",
              "      <td>1</td>\n",
              "      <td>Total Internet subscribers</td>\n",
              "      <td>2004</td>\n",
              "      <td>785931.00</td>\n",
              "      <td>per population (%)</td>\n",
              "      <td>0.0005</td>\n",
              "    </tr>\n",
              "    <tr>\n",
              "      <th>...</th>\n",
              "      <td>...</td>\n",
              "      <td>...</td>\n",
              "      <td>...</td>\n",
              "      <td>...</td>\n",
              "      <td>...</td>\n",
              "      <td>...</td>\n",
              "      <td>...</td>\n",
              "    </tr>\n",
              "    <tr>\n",
              "      <th>68</th>\n",
              "      <td>69</td>\n",
              "      <td>1</td>\n",
              "      <td>Total Internet subscribers</td>\n",
              "      <td>2020</td>\n",
              "      <td>10264995.67</td>\n",
              "      <td>per population (%)</td>\n",
              "      <td>0.1510</td>\n",
              "    </tr>\n",
              "    <tr>\n",
              "      <th>69</th>\n",
              "      <td>70</td>\n",
              "      <td>2</td>\n",
              "      <td>Total Internet subscribers</td>\n",
              "      <td>2020</td>\n",
              "      <td>10912996.14</td>\n",
              "      <td>per population (%)</td>\n",
              "      <td>0.1605</td>\n",
              "    </tr>\n",
              "    <tr>\n",
              "      <th>70</th>\n",
              "      <td>71</td>\n",
              "      <td>3</td>\n",
              "      <td>Total Internet subscribers</td>\n",
              "      <td>2020</td>\n",
              "      <td>11282645.58</td>\n",
              "      <td>per population (%)</td>\n",
              "      <td>0.1659</td>\n",
              "    </tr>\n",
              "    <tr>\n",
              "      <th>71</th>\n",
              "      <td>72</td>\n",
              "      <td>4</td>\n",
              "      <td>Total Internet subscribers</td>\n",
              "      <td>2020</td>\n",
              "      <td>11478264.92</td>\n",
              "      <td>per population (%)</td>\n",
              "      <td>0.1685</td>\n",
              "    </tr>\n",
              "    <tr>\n",
              "      <th>72</th>\n",
              "      <td>73</td>\n",
              "      <td>1</td>\n",
              "      <td>Total Internet subscribers</td>\n",
              "      <td>2021</td>\n",
              "      <td>11876158.44</td>\n",
              "      <td>per population (%)</td>\n",
              "      <td>0.1740</td>\n",
              "    </tr>\n",
              "  </tbody>\n",
              "</table>\n",
              "<p>73 rows × 7 columns</p>\n",
              "</div>"
            ],
            "text/plain": [
              "    no.  quarter  ...     type_population  value_population\n",
              "0     1        1  ...  per population (%)            0.0001\n",
              "1     2        2  ...  per population (%)            0.0001\n",
              "2     3        3  ...  per population (%)            0.0001\n",
              "3     4        4  ...  per population (%)            0.0002\n",
              "4     5        1  ...  per population (%)            0.0005\n",
              "..  ...      ...  ...                 ...               ...\n",
              "68   69        1  ...  per population (%)            0.1510\n",
              "69   70        2  ...  per population (%)            0.1605\n",
              "70   71        3  ...  per population (%)            0.1659\n",
              "71   72        4  ...  per population (%)            0.1685\n",
              "72   73        1  ...  per population (%)            0.1740\n",
              "\n",
              "[73 rows x 7 columns]"
            ]
          },
          "metadata": {},
          "execution_count": 14
        }
      ]
    },
    {
      "cell_type": "code",
      "metadata": {
        "colab": {
          "base_uri": "https://localhost:8080/",
          "height": 422
        },
        "id": "kqzhMnwR9rpi",
        "outputId": "aeb157e1-287f-4b6e-f346-bf2bec80cb32"
      },
      "source": [
        "# ตัด column ของตาราง data_household2 (ตัด column ที่ซ้ำกันออกคือ QUARTER กับ YEAR)\n",
        "data_household2.drop(['quarter','year'], axis=1, inplace=True)  # axis=1 คือลบcolumn / axis=0 คือลบrow\n",
        "data_household2"
      ],
      "execution_count": 15,
      "outputs": [
        {
          "output_type": "execute_result",
          "data": {
            "text/html": [
              "<div>\n",
              "<style scoped>\n",
              "    .dataframe tbody tr th:only-of-type {\n",
              "        vertical-align: middle;\n",
              "    }\n",
              "\n",
              "    .dataframe tbody tr th {\n",
              "        vertical-align: top;\n",
              "    }\n",
              "\n",
              "    .dataframe thead th {\n",
              "        text-align: right;\n",
              "    }\n",
              "</style>\n",
              "<table border=\"1\" class=\"dataframe\">\n",
              "  <thead>\n",
              "    <tr style=\"text-align: right;\">\n",
              "      <th></th>\n",
              "      <th>no.</th>\n",
              "      <th>type_household</th>\n",
              "      <th>value_household</th>\n",
              "    </tr>\n",
              "  </thead>\n",
              "  <tbody>\n",
              "    <tr>\n",
              "      <th>3</th>\n",
              "      <td>1</td>\n",
              "      <td>per household (%)</td>\n",
              "      <td>0.000281</td>\n",
              "    </tr>\n",
              "    <tr>\n",
              "      <th>2</th>\n",
              "      <td>2</td>\n",
              "      <td>per household (%)</td>\n",
              "      <td>0.000343</td>\n",
              "    </tr>\n",
              "    <tr>\n",
              "      <th>1</th>\n",
              "      <td>3</td>\n",
              "      <td>per household (%)</td>\n",
              "      <td>0.000459</td>\n",
              "    </tr>\n",
              "    <tr>\n",
              "      <th>0</th>\n",
              "      <td>4</td>\n",
              "      <td>per household (%)</td>\n",
              "      <td>0.000649</td>\n",
              "    </tr>\n",
              "    <tr>\n",
              "      <th>7</th>\n",
              "      <td>5</td>\n",
              "      <td>per household (%)</td>\n",
              "      <td>0.001556</td>\n",
              "    </tr>\n",
              "    <tr>\n",
              "      <th>...</th>\n",
              "      <td>...</td>\n",
              "      <td>...</td>\n",
              "      <td>...</td>\n",
              "    </tr>\n",
              "    <tr>\n",
              "      <th>71</th>\n",
              "      <td>69</td>\n",
              "      <td>per household (%)</td>\n",
              "      <td>0.469344</td>\n",
              "    </tr>\n",
              "    <tr>\n",
              "      <th>70</th>\n",
              "      <td>70</td>\n",
              "      <td>per household (%)</td>\n",
              "      <td>0.498972</td>\n",
              "    </tr>\n",
              "    <tr>\n",
              "      <th>69</th>\n",
              "      <td>71</td>\n",
              "      <td>per household (%)</td>\n",
              "      <td>0.515873</td>\n",
              "    </tr>\n",
              "    <tr>\n",
              "      <th>68</th>\n",
              "      <td>72</td>\n",
              "      <td>per household (%)</td>\n",
              "      <td>0.514683</td>\n",
              "    </tr>\n",
              "    <tr>\n",
              "      <th>72</th>\n",
              "      <td>73</td>\n",
              "      <td>per household (%)</td>\n",
              "      <td>0.532524</td>\n",
              "    </tr>\n",
              "  </tbody>\n",
              "</table>\n",
              "<p>73 rows × 3 columns</p>\n",
              "</div>"
            ],
            "text/plain": [
              "    no.     type_household  value_household\n",
              "3     1  per household (%)         0.000281\n",
              "2     2  per household (%)         0.000343\n",
              "1     3  per household (%)         0.000459\n",
              "0     4  per household (%)         0.000649\n",
              "7     5  per household (%)         0.001556\n",
              "..  ...                ...              ...\n",
              "71   69  per household (%)         0.469344\n",
              "70   70  per household (%)         0.498972\n",
              "69   71  per household (%)         0.515873\n",
              "68   72  per household (%)         0.514683\n",
              "72   73  per household (%)         0.532524\n",
              "\n",
              "[73 rows x 3 columns]"
            ]
          },
          "metadata": {},
          "execution_count": 15
        }
      ]
    },
    {
      "cell_type": "code",
      "metadata": {
        "colab": {
          "base_uri": "https://localhost:8080/",
          "height": 422
        },
        "id": "4PMB6AAF5cCO",
        "outputId": "fa974c3c-5b55-4775-b4ea-3e4baeac6d1b"
      },
      "source": [
        "# เชื่อมตาราง merge_table1 และ data_household2 เข้าด้วยกัน โดยให้ตาราง merge_table1 เป็นตารางหลักอยู่ที่ด้านซ้าย\n",
        "merge_table2 = merge_table1.merge(data_household2,how='left',left_on='no.',right_on='no.')\n",
        "merge_table2"
      ],
      "execution_count": 16,
      "outputs": [
        {
          "output_type": "execute_result",
          "data": {
            "text/html": [
              "<div>\n",
              "<style scoped>\n",
              "    .dataframe tbody tr th:only-of-type {\n",
              "        vertical-align: middle;\n",
              "    }\n",
              "\n",
              "    .dataframe tbody tr th {\n",
              "        vertical-align: top;\n",
              "    }\n",
              "\n",
              "    .dataframe thead th {\n",
              "        text-align: right;\n",
              "    }\n",
              "</style>\n",
              "<table border=\"1\" class=\"dataframe\">\n",
              "  <thead>\n",
              "    <tr style=\"text-align: right;\">\n",
              "      <th></th>\n",
              "      <th>no.</th>\n",
              "      <th>quarter</th>\n",
              "      <th>Thailand Internet Users_subscriber</th>\n",
              "      <th>year</th>\n",
              "      <th>value_subscriber</th>\n",
              "      <th>type_population</th>\n",
              "      <th>value_population</th>\n",
              "      <th>type_household</th>\n",
              "      <th>value_household</th>\n",
              "    </tr>\n",
              "  </thead>\n",
              "  <tbody>\n",
              "    <tr>\n",
              "      <th>0</th>\n",
              "      <td>1</td>\n",
              "      <td>1</td>\n",
              "      <td>Total Internet subscribers</td>\n",
              "      <td>2003</td>\n",
              "      <td>365219.00</td>\n",
              "      <td>per population (%)</td>\n",
              "      <td>0.0001</td>\n",
              "      <td>per household (%)</td>\n",
              "      <td>0.000281</td>\n",
              "    </tr>\n",
              "    <tr>\n",
              "      <th>1</th>\n",
              "      <td>2</td>\n",
              "      <td>2</td>\n",
              "      <td>Total Internet subscribers</td>\n",
              "      <td>2003</td>\n",
              "      <td>453043.00</td>\n",
              "      <td>per population (%)</td>\n",
              "      <td>0.0001</td>\n",
              "      <td>per household (%)</td>\n",
              "      <td>0.000343</td>\n",
              "    </tr>\n",
              "    <tr>\n",
              "      <th>2</th>\n",
              "      <td>3</td>\n",
              "      <td>3</td>\n",
              "      <td>Total Internet subscribers</td>\n",
              "      <td>2003</td>\n",
              "      <td>529530.00</td>\n",
              "      <td>per population (%)</td>\n",
              "      <td>0.0001</td>\n",
              "      <td>per household (%)</td>\n",
              "      <td>0.000459</td>\n",
              "    </tr>\n",
              "    <tr>\n",
              "      <th>3</th>\n",
              "      <td>4</td>\n",
              "      <td>4</td>\n",
              "      <td>Total Internet subscribers</td>\n",
              "      <td>2003</td>\n",
              "      <td>652726.00</td>\n",
              "      <td>per population (%)</td>\n",
              "      <td>0.0002</td>\n",
              "      <td>per household (%)</td>\n",
              "      <td>0.000649</td>\n",
              "    </tr>\n",
              "    <tr>\n",
              "      <th>4</th>\n",
              "      <td>5</td>\n",
              "      <td>1</td>\n",
              "      <td>Total Internet subscribers</td>\n",
              "      <td>2004</td>\n",
              "      <td>785931.00</td>\n",
              "      <td>per population (%)</td>\n",
              "      <td>0.0005</td>\n",
              "      <td>per household (%)</td>\n",
              "      <td>0.001556</td>\n",
              "    </tr>\n",
              "    <tr>\n",
              "      <th>...</th>\n",
              "      <td>...</td>\n",
              "      <td>...</td>\n",
              "      <td>...</td>\n",
              "      <td>...</td>\n",
              "      <td>...</td>\n",
              "      <td>...</td>\n",
              "      <td>...</td>\n",
              "      <td>...</td>\n",
              "      <td>...</td>\n",
              "    </tr>\n",
              "    <tr>\n",
              "      <th>68</th>\n",
              "      <td>69</td>\n",
              "      <td>1</td>\n",
              "      <td>Total Internet subscribers</td>\n",
              "      <td>2020</td>\n",
              "      <td>10264995.67</td>\n",
              "      <td>per population (%)</td>\n",
              "      <td>0.1510</td>\n",
              "      <td>per household (%)</td>\n",
              "      <td>0.469344</td>\n",
              "    </tr>\n",
              "    <tr>\n",
              "      <th>69</th>\n",
              "      <td>70</td>\n",
              "      <td>2</td>\n",
              "      <td>Total Internet subscribers</td>\n",
              "      <td>2020</td>\n",
              "      <td>10912996.14</td>\n",
              "      <td>per population (%)</td>\n",
              "      <td>0.1605</td>\n",
              "      <td>per household (%)</td>\n",
              "      <td>0.498972</td>\n",
              "    </tr>\n",
              "    <tr>\n",
              "      <th>70</th>\n",
              "      <td>71</td>\n",
              "      <td>3</td>\n",
              "      <td>Total Internet subscribers</td>\n",
              "      <td>2020</td>\n",
              "      <td>11282645.58</td>\n",
              "      <td>per population (%)</td>\n",
              "      <td>0.1659</td>\n",
              "      <td>per household (%)</td>\n",
              "      <td>0.515873</td>\n",
              "    </tr>\n",
              "    <tr>\n",
              "      <th>71</th>\n",
              "      <td>72</td>\n",
              "      <td>4</td>\n",
              "      <td>Total Internet subscribers</td>\n",
              "      <td>2020</td>\n",
              "      <td>11478264.92</td>\n",
              "      <td>per population (%)</td>\n",
              "      <td>0.1685</td>\n",
              "      <td>per household (%)</td>\n",
              "      <td>0.514683</td>\n",
              "    </tr>\n",
              "    <tr>\n",
              "      <th>72</th>\n",
              "      <td>73</td>\n",
              "      <td>1</td>\n",
              "      <td>Total Internet subscribers</td>\n",
              "      <td>2021</td>\n",
              "      <td>11876158.44</td>\n",
              "      <td>per population (%)</td>\n",
              "      <td>0.1740</td>\n",
              "      <td>per household (%)</td>\n",
              "      <td>0.532524</td>\n",
              "    </tr>\n",
              "  </tbody>\n",
              "</table>\n",
              "<p>73 rows × 9 columns</p>\n",
              "</div>"
            ],
            "text/plain": [
              "    no.  quarter  ...     type_household  value_household\n",
              "0     1        1  ...  per household (%)         0.000281\n",
              "1     2        2  ...  per household (%)         0.000343\n",
              "2     3        3  ...  per household (%)         0.000459\n",
              "3     4        4  ...  per household (%)         0.000649\n",
              "4     5        1  ...  per household (%)         0.001556\n",
              "..  ...      ...  ...                ...              ...\n",
              "68   69        1  ...  per household (%)         0.469344\n",
              "69   70        2  ...  per household (%)         0.498972\n",
              "70   71        3  ...  per household (%)         0.515873\n",
              "71   72        4  ...  per household (%)         0.514683\n",
              "72   73        1  ...  per household (%)         0.532524\n",
              "\n",
              "[73 rows x 9 columns]"
            ]
          },
          "metadata": {},
          "execution_count": 16
        }
      ]
    },
    {
      "cell_type": "markdown",
      "metadata": {
        "id": "pytNrd2UppT5"
      },
      "source": [
        "### ข้อมูลชุดที่ 4 จำนวนเลขหมายโทรศัพท์เคลื่อนที่ที่ได้รับการจดทะเบียน\n",
        "\n",
        "https://data.go.th/dataset/mobile-subscribers?fbclid=IwAR3ZoY2gqT_ogfZwHHI40nC_ejcmi3O9xZMOmcac_rCCdA5brXcHVh85Ayw"
      ]
    },
    {
      "cell_type": "markdown",
      "metadata": {
        "id": "tm1dPczUW-7N"
      },
      "source": [
        "**คำอธิบายตาราง**\n",
        "* no. คือ ลำดับ\n",
        "* Mobile Market Report คือ ประเภท\n",
        "* quarter คือ ไตรมาส (4 ไตรมาส)\n",
        "* year คือ ปี\n",
        "* value_mobile คือ  จำนวนเลขหมายโทรศัพท์เคลื่อนที่ที่ได้รับการจดทะเบียน"
      ]
    },
    {
      "cell_type": "code",
      "metadata": {
        "colab": {
          "base_uri": "https://localhost:8080/",
          "height": 422
        },
        "id": "KvRqq9w7pl5D",
        "outputId": "c7d0529b-4309-4fde-f794-dafc5c4fcb10"
      },
      "source": [
        "data_mobile = pd.read_csv(os.path.join(path,'05mobile-subscribers.csv'))\n",
        "data_mobile"
      ],
      "execution_count": 17,
      "outputs": [
        {
          "output_type": "execute_result",
          "data": {
            "text/html": [
              "<div>\n",
              "<style scoped>\n",
              "    .dataframe tbody tr th:only-of-type {\n",
              "        vertical-align: middle;\n",
              "    }\n",
              "\n",
              "    .dataframe tbody tr th {\n",
              "        vertical-align: top;\n",
              "    }\n",
              "\n",
              "    .dataframe thead th {\n",
              "        text-align: right;\n",
              "    }\n",
              "</style>\n",
              "<table border=\"1\" class=\"dataframe\">\n",
              "  <thead>\n",
              "    <tr style=\"text-align: right;\">\n",
              "      <th></th>\n",
              "      <th>no.</th>\n",
              "      <th>Mobile Market Report</th>\n",
              "      <th>quarter</th>\n",
              "      <th>year</th>\n",
              "      <th>value_mobile</th>\n",
              "    </tr>\n",
              "  </thead>\n",
              "  <tbody>\n",
              "    <tr>\n",
              "      <th>0</th>\n",
              "      <td>4</td>\n",
              "      <td>Mobile Subscribers</td>\n",
              "      <td>4</td>\n",
              "      <td>2002</td>\n",
              "      <td>17449890</td>\n",
              "    </tr>\n",
              "    <tr>\n",
              "      <th>1</th>\n",
              "      <td>3</td>\n",
              "      <td>Mobile Subscribers</td>\n",
              "      <td>3</td>\n",
              "      <td>2002</td>\n",
              "      <td>15743776</td>\n",
              "    </tr>\n",
              "    <tr>\n",
              "      <th>2</th>\n",
              "      <td>2</td>\n",
              "      <td>Mobile Subscribers</td>\n",
              "      <td>2</td>\n",
              "      <td>2002</td>\n",
              "      <td>12416261</td>\n",
              "    </tr>\n",
              "    <tr>\n",
              "      <th>3</th>\n",
              "      <td>1</td>\n",
              "      <td>Mobile Subscribers</td>\n",
              "      <td>1</td>\n",
              "      <td>2002</td>\n",
              "      <td>9669909</td>\n",
              "    </tr>\n",
              "    <tr>\n",
              "      <th>4</th>\n",
              "      <td>8</td>\n",
              "      <td>Mobile Subscribers</td>\n",
              "      <td>4</td>\n",
              "      <td>2003</td>\n",
              "      <td>21616910</td>\n",
              "    </tr>\n",
              "    <tr>\n",
              "      <th>...</th>\n",
              "      <td>...</td>\n",
              "      <td>...</td>\n",
              "      <td>...</td>\n",
              "      <td>...</td>\n",
              "      <td>...</td>\n",
              "    </tr>\n",
              "    <tr>\n",
              "      <th>72</th>\n",
              "      <td>76</td>\n",
              "      <td>Mobile Subscribers</td>\n",
              "      <td>4</td>\n",
              "      <td>2020</td>\n",
              "      <td>116294420</td>\n",
              "    </tr>\n",
              "    <tr>\n",
              "      <th>73</th>\n",
              "      <td>75</td>\n",
              "      <td>Mobile Subscribers</td>\n",
              "      <td>3</td>\n",
              "      <td>2020</td>\n",
              "      <td>119169759</td>\n",
              "    </tr>\n",
              "    <tr>\n",
              "      <th>74</th>\n",
              "      <td>74</td>\n",
              "      <td>Mobile Subscribers</td>\n",
              "      <td>2</td>\n",
              "      <td>2020</td>\n",
              "      <td>131881072</td>\n",
              "    </tr>\n",
              "    <tr>\n",
              "      <th>75</th>\n",
              "      <td>73</td>\n",
              "      <td>Mobile Subscribers</td>\n",
              "      <td>1</td>\n",
              "      <td>2020</td>\n",
              "      <td>132594791</td>\n",
              "    </tr>\n",
              "    <tr>\n",
              "      <th>76</th>\n",
              "      <td>77</td>\n",
              "      <td>Mobile Subscribers</td>\n",
              "      <td>1</td>\n",
              "      <td>2021</td>\n",
              "      <td>117562201</td>\n",
              "    </tr>\n",
              "  </tbody>\n",
              "</table>\n",
              "<p>77 rows × 5 columns</p>\n",
              "</div>"
            ],
            "text/plain": [
              "    no. Mobile Market Report  quarter  year  value_mobile\n",
              "0     4   Mobile Subscribers        4  2002      17449890\n",
              "1     3   Mobile Subscribers        3  2002      15743776\n",
              "2     2   Mobile Subscribers        2  2002      12416261\n",
              "3     1   Mobile Subscribers        1  2002       9669909\n",
              "4     8   Mobile Subscribers        4  2003      21616910\n",
              "..  ...                  ...      ...   ...           ...\n",
              "72   76   Mobile Subscribers        4  2020     116294420\n",
              "73   75   Mobile Subscribers        3  2020     119169759\n",
              "74   74   Mobile Subscribers        2  2020     131881072\n",
              "75   73   Mobile Subscribers        1  2020     132594791\n",
              "76   77   Mobile Subscribers        1  2021     117562201\n",
              "\n",
              "[77 rows x 5 columns]"
            ]
          },
          "metadata": {},
          "execution_count": 17
        }
      ]
    },
    {
      "cell_type": "code",
      "metadata": {
        "colab": {
          "base_uri": "https://localhost:8080/"
        },
        "id": "m0Izaqjvp81Q",
        "outputId": "df5bb21e-df34-4d1e-9257-6e7b82f3db42"
      },
      "source": [
        "# เช็ค missing ตาราง data_mobile\n",
        "data_mobile.isnull().any()"
      ],
      "execution_count": 18,
      "outputs": [
        {
          "output_type": "execute_result",
          "data": {
            "text/plain": [
              "no.                     False\n",
              "Mobile Market Report    False\n",
              "quarter                 False\n",
              "year                    False\n",
              "value_mobile            False\n",
              "dtype: bool"
            ]
          },
          "metadata": {},
          "execution_count": 18
        }
      ]
    },
    {
      "cell_type": "code",
      "metadata": {
        "colab": {
          "base_uri": "https://localhost:8080/",
          "height": 422
        },
        "id": "CGMUXyErqhp-",
        "outputId": "69692f09-11ba-4011-9fe1-a48f1a05e442"
      },
      "source": [
        "# เรียงข้อมูลโดยใช้ column ของ No. เป็นหลักในการเรียง\n",
        "data_mobile2 = data_mobile.sort_values(by=['no.'])\n",
        "data_mobile2"
      ],
      "execution_count": 19,
      "outputs": [
        {
          "output_type": "execute_result",
          "data": {
            "text/html": [
              "<div>\n",
              "<style scoped>\n",
              "    .dataframe tbody tr th:only-of-type {\n",
              "        vertical-align: middle;\n",
              "    }\n",
              "\n",
              "    .dataframe tbody tr th {\n",
              "        vertical-align: top;\n",
              "    }\n",
              "\n",
              "    .dataframe thead th {\n",
              "        text-align: right;\n",
              "    }\n",
              "</style>\n",
              "<table border=\"1\" class=\"dataframe\">\n",
              "  <thead>\n",
              "    <tr style=\"text-align: right;\">\n",
              "      <th></th>\n",
              "      <th>no.</th>\n",
              "      <th>Mobile Market Report</th>\n",
              "      <th>quarter</th>\n",
              "      <th>year</th>\n",
              "      <th>value_mobile</th>\n",
              "    </tr>\n",
              "  </thead>\n",
              "  <tbody>\n",
              "    <tr>\n",
              "      <th>3</th>\n",
              "      <td>1</td>\n",
              "      <td>Mobile Subscribers</td>\n",
              "      <td>1</td>\n",
              "      <td>2002</td>\n",
              "      <td>9669909</td>\n",
              "    </tr>\n",
              "    <tr>\n",
              "      <th>2</th>\n",
              "      <td>2</td>\n",
              "      <td>Mobile Subscribers</td>\n",
              "      <td>2</td>\n",
              "      <td>2002</td>\n",
              "      <td>12416261</td>\n",
              "    </tr>\n",
              "    <tr>\n",
              "      <th>1</th>\n",
              "      <td>3</td>\n",
              "      <td>Mobile Subscribers</td>\n",
              "      <td>3</td>\n",
              "      <td>2002</td>\n",
              "      <td>15743776</td>\n",
              "    </tr>\n",
              "    <tr>\n",
              "      <th>0</th>\n",
              "      <td>4</td>\n",
              "      <td>Mobile Subscribers</td>\n",
              "      <td>4</td>\n",
              "      <td>2002</td>\n",
              "      <td>17449890</td>\n",
              "    </tr>\n",
              "    <tr>\n",
              "      <th>7</th>\n",
              "      <td>5</td>\n",
              "      <td>Mobile Subscribers</td>\n",
              "      <td>1</td>\n",
              "      <td>2003</td>\n",
              "      <td>18763102</td>\n",
              "    </tr>\n",
              "    <tr>\n",
              "      <th>...</th>\n",
              "      <td>...</td>\n",
              "      <td>...</td>\n",
              "      <td>...</td>\n",
              "      <td>...</td>\n",
              "      <td>...</td>\n",
              "    </tr>\n",
              "    <tr>\n",
              "      <th>75</th>\n",
              "      <td>73</td>\n",
              "      <td>Mobile Subscribers</td>\n",
              "      <td>1</td>\n",
              "      <td>2020</td>\n",
              "      <td>132594791</td>\n",
              "    </tr>\n",
              "    <tr>\n",
              "      <th>74</th>\n",
              "      <td>74</td>\n",
              "      <td>Mobile Subscribers</td>\n",
              "      <td>2</td>\n",
              "      <td>2020</td>\n",
              "      <td>131881072</td>\n",
              "    </tr>\n",
              "    <tr>\n",
              "      <th>73</th>\n",
              "      <td>75</td>\n",
              "      <td>Mobile Subscribers</td>\n",
              "      <td>3</td>\n",
              "      <td>2020</td>\n",
              "      <td>119169759</td>\n",
              "    </tr>\n",
              "    <tr>\n",
              "      <th>72</th>\n",
              "      <td>76</td>\n",
              "      <td>Mobile Subscribers</td>\n",
              "      <td>4</td>\n",
              "      <td>2020</td>\n",
              "      <td>116294420</td>\n",
              "    </tr>\n",
              "    <tr>\n",
              "      <th>76</th>\n",
              "      <td>77</td>\n",
              "      <td>Mobile Subscribers</td>\n",
              "      <td>1</td>\n",
              "      <td>2021</td>\n",
              "      <td>117562201</td>\n",
              "    </tr>\n",
              "  </tbody>\n",
              "</table>\n",
              "<p>77 rows × 5 columns</p>\n",
              "</div>"
            ],
            "text/plain": [
              "    no. Mobile Market Report  quarter  year  value_mobile\n",
              "3     1   Mobile Subscribers        1  2002       9669909\n",
              "2     2   Mobile Subscribers        2  2002      12416261\n",
              "1     3   Mobile Subscribers        3  2002      15743776\n",
              "0     4   Mobile Subscribers        4  2002      17449890\n",
              "7     5   Mobile Subscribers        1  2003      18763102\n",
              "..  ...                  ...      ...   ...           ...\n",
              "75   73   Mobile Subscribers        1  2020     132594791\n",
              "74   74   Mobile Subscribers        2  2020     131881072\n",
              "73   75   Mobile Subscribers        3  2020     119169759\n",
              "72   76   Mobile Subscribers        4  2020     116294420\n",
              "76   77   Mobile Subscribers        1  2021     117562201\n",
              "\n",
              "[77 rows x 5 columns]"
            ]
          },
          "metadata": {},
          "execution_count": 19
        }
      ]
    },
    {
      "cell_type": "code",
      "metadata": {
        "colab": {
          "base_uri": "https://localhost:8080/",
          "height": 422
        },
        "id": "LKibC0YkqybM",
        "outputId": "8983d797-b9a4-4e7b-8f7b-9d7ef7fa7952"
      },
      "source": [
        "# ตัด column ของตาราง data_population (ตัด column ที่ซ้ำกันออกคือ No. กับ QUARTER)\n",
        "data_mobile2.drop(['quarter','year'], axis=1, inplace=True)  # axis=1 คือลบcolumn / axis=0 คือลบrow\n",
        "data_mobile2"
      ],
      "execution_count": 20,
      "outputs": [
        {
          "output_type": "execute_result",
          "data": {
            "text/html": [
              "<div>\n",
              "<style scoped>\n",
              "    .dataframe tbody tr th:only-of-type {\n",
              "        vertical-align: middle;\n",
              "    }\n",
              "\n",
              "    .dataframe tbody tr th {\n",
              "        vertical-align: top;\n",
              "    }\n",
              "\n",
              "    .dataframe thead th {\n",
              "        text-align: right;\n",
              "    }\n",
              "</style>\n",
              "<table border=\"1\" class=\"dataframe\">\n",
              "  <thead>\n",
              "    <tr style=\"text-align: right;\">\n",
              "      <th></th>\n",
              "      <th>no.</th>\n",
              "      <th>Mobile Market Report</th>\n",
              "      <th>value_mobile</th>\n",
              "    </tr>\n",
              "  </thead>\n",
              "  <tbody>\n",
              "    <tr>\n",
              "      <th>3</th>\n",
              "      <td>1</td>\n",
              "      <td>Mobile Subscribers</td>\n",
              "      <td>9669909</td>\n",
              "    </tr>\n",
              "    <tr>\n",
              "      <th>2</th>\n",
              "      <td>2</td>\n",
              "      <td>Mobile Subscribers</td>\n",
              "      <td>12416261</td>\n",
              "    </tr>\n",
              "    <tr>\n",
              "      <th>1</th>\n",
              "      <td>3</td>\n",
              "      <td>Mobile Subscribers</td>\n",
              "      <td>15743776</td>\n",
              "    </tr>\n",
              "    <tr>\n",
              "      <th>0</th>\n",
              "      <td>4</td>\n",
              "      <td>Mobile Subscribers</td>\n",
              "      <td>17449890</td>\n",
              "    </tr>\n",
              "    <tr>\n",
              "      <th>7</th>\n",
              "      <td>5</td>\n",
              "      <td>Mobile Subscribers</td>\n",
              "      <td>18763102</td>\n",
              "    </tr>\n",
              "    <tr>\n",
              "      <th>...</th>\n",
              "      <td>...</td>\n",
              "      <td>...</td>\n",
              "      <td>...</td>\n",
              "    </tr>\n",
              "    <tr>\n",
              "      <th>75</th>\n",
              "      <td>73</td>\n",
              "      <td>Mobile Subscribers</td>\n",
              "      <td>132594791</td>\n",
              "    </tr>\n",
              "    <tr>\n",
              "      <th>74</th>\n",
              "      <td>74</td>\n",
              "      <td>Mobile Subscribers</td>\n",
              "      <td>131881072</td>\n",
              "    </tr>\n",
              "    <tr>\n",
              "      <th>73</th>\n",
              "      <td>75</td>\n",
              "      <td>Mobile Subscribers</td>\n",
              "      <td>119169759</td>\n",
              "    </tr>\n",
              "    <tr>\n",
              "      <th>72</th>\n",
              "      <td>76</td>\n",
              "      <td>Mobile Subscribers</td>\n",
              "      <td>116294420</td>\n",
              "    </tr>\n",
              "    <tr>\n",
              "      <th>76</th>\n",
              "      <td>77</td>\n",
              "      <td>Mobile Subscribers</td>\n",
              "      <td>117562201</td>\n",
              "    </tr>\n",
              "  </tbody>\n",
              "</table>\n",
              "<p>77 rows × 3 columns</p>\n",
              "</div>"
            ],
            "text/plain": [
              "    no. Mobile Market Report  value_mobile\n",
              "3     1   Mobile Subscribers       9669909\n",
              "2     2   Mobile Subscribers      12416261\n",
              "1     3   Mobile Subscribers      15743776\n",
              "0     4   Mobile Subscribers      17449890\n",
              "7     5   Mobile Subscribers      18763102\n",
              "..  ...                  ...           ...\n",
              "75   73   Mobile Subscribers     132594791\n",
              "74   74   Mobile Subscribers     131881072\n",
              "73   75   Mobile Subscribers     119169759\n",
              "72   76   Mobile Subscribers     116294420\n",
              "76   77   Mobile Subscribers     117562201\n",
              "\n",
              "[77 rows x 3 columns]"
            ]
          },
          "metadata": {},
          "execution_count": 20
        }
      ]
    },
    {
      "cell_type": "code",
      "metadata": {
        "colab": {
          "base_uri": "https://localhost:8080/",
          "height": 422
        },
        "id": "XLicTrzPvFzv",
        "outputId": "368a3405-9f86-4f37-aa02-354383b3fdb1"
      },
      "source": [
        "data_mobile3 = data_mobile2.iloc[4:,:]\n",
        "data_mobile3"
      ],
      "execution_count": 21,
      "outputs": [
        {
          "output_type": "execute_result",
          "data": {
            "text/html": [
              "<div>\n",
              "<style scoped>\n",
              "    .dataframe tbody tr th:only-of-type {\n",
              "        vertical-align: middle;\n",
              "    }\n",
              "\n",
              "    .dataframe tbody tr th {\n",
              "        vertical-align: top;\n",
              "    }\n",
              "\n",
              "    .dataframe thead th {\n",
              "        text-align: right;\n",
              "    }\n",
              "</style>\n",
              "<table border=\"1\" class=\"dataframe\">\n",
              "  <thead>\n",
              "    <tr style=\"text-align: right;\">\n",
              "      <th></th>\n",
              "      <th>no.</th>\n",
              "      <th>Mobile Market Report</th>\n",
              "      <th>value_mobile</th>\n",
              "    </tr>\n",
              "  </thead>\n",
              "  <tbody>\n",
              "    <tr>\n",
              "      <th>7</th>\n",
              "      <td>5</td>\n",
              "      <td>Mobile Subscribers</td>\n",
              "      <td>18763102</td>\n",
              "    </tr>\n",
              "    <tr>\n",
              "      <th>6</th>\n",
              "      <td>6</td>\n",
              "      <td>Mobile Subscribers</td>\n",
              "      <td>19788956</td>\n",
              "    </tr>\n",
              "    <tr>\n",
              "      <th>5</th>\n",
              "      <td>7</td>\n",
              "      <td>Mobile Subscribers</td>\n",
              "      <td>20655866</td>\n",
              "    </tr>\n",
              "    <tr>\n",
              "      <th>4</th>\n",
              "      <td>8</td>\n",
              "      <td>Mobile Subscribers</td>\n",
              "      <td>21616910</td>\n",
              "    </tr>\n",
              "    <tr>\n",
              "      <th>11</th>\n",
              "      <td>9</td>\n",
              "      <td>Mobile Subscribers</td>\n",
              "      <td>23217311</td>\n",
              "    </tr>\n",
              "    <tr>\n",
              "      <th>...</th>\n",
              "      <td>...</td>\n",
              "      <td>...</td>\n",
              "      <td>...</td>\n",
              "    </tr>\n",
              "    <tr>\n",
              "      <th>75</th>\n",
              "      <td>73</td>\n",
              "      <td>Mobile Subscribers</td>\n",
              "      <td>132594791</td>\n",
              "    </tr>\n",
              "    <tr>\n",
              "      <th>74</th>\n",
              "      <td>74</td>\n",
              "      <td>Mobile Subscribers</td>\n",
              "      <td>131881072</td>\n",
              "    </tr>\n",
              "    <tr>\n",
              "      <th>73</th>\n",
              "      <td>75</td>\n",
              "      <td>Mobile Subscribers</td>\n",
              "      <td>119169759</td>\n",
              "    </tr>\n",
              "    <tr>\n",
              "      <th>72</th>\n",
              "      <td>76</td>\n",
              "      <td>Mobile Subscribers</td>\n",
              "      <td>116294420</td>\n",
              "    </tr>\n",
              "    <tr>\n",
              "      <th>76</th>\n",
              "      <td>77</td>\n",
              "      <td>Mobile Subscribers</td>\n",
              "      <td>117562201</td>\n",
              "    </tr>\n",
              "  </tbody>\n",
              "</table>\n",
              "<p>73 rows × 3 columns</p>\n",
              "</div>"
            ],
            "text/plain": [
              "    no. Mobile Market Report  value_mobile\n",
              "7     5   Mobile Subscribers      18763102\n",
              "6     6   Mobile Subscribers      19788956\n",
              "5     7   Mobile Subscribers      20655866\n",
              "4     8   Mobile Subscribers      21616910\n",
              "11    9   Mobile Subscribers      23217311\n",
              "..  ...                  ...           ...\n",
              "75   73   Mobile Subscribers     132594791\n",
              "74   74   Mobile Subscribers     131881072\n",
              "73   75   Mobile Subscribers     119169759\n",
              "72   76   Mobile Subscribers     116294420\n",
              "76   77   Mobile Subscribers     117562201\n",
              "\n",
              "[73 rows x 3 columns]"
            ]
          },
          "metadata": {},
          "execution_count": 21
        }
      ]
    },
    {
      "cell_type": "code",
      "metadata": {
        "colab": {
          "base_uri": "https://localhost:8080/",
          "height": 649
        },
        "id": "o_zH5Xmuq-4x",
        "outputId": "767c4645-a5b4-43e1-ce72-dd04a1308bfa"
      },
      "source": [
        "# เชื่อมตาราง merge_table2 และ data_mobile เข้าด้วยกัน โดยให้ตาราง merge_table2 เป็นตารางหลักอยู่ที่ด้านซ้าย\n",
        "merge_table3 = data_mobile3.merge(merge_table2,how='left',left_on='no.',right_on='no.')\n",
        "merge_table3"
      ],
      "execution_count": 22,
      "outputs": [
        {
          "output_type": "execute_result",
          "data": {
            "text/html": [
              "<div>\n",
              "<style scoped>\n",
              "    .dataframe tbody tr th:only-of-type {\n",
              "        vertical-align: middle;\n",
              "    }\n",
              "\n",
              "    .dataframe tbody tr th {\n",
              "        vertical-align: top;\n",
              "    }\n",
              "\n",
              "    .dataframe thead th {\n",
              "        text-align: right;\n",
              "    }\n",
              "</style>\n",
              "<table border=\"1\" class=\"dataframe\">\n",
              "  <thead>\n",
              "    <tr style=\"text-align: right;\">\n",
              "      <th></th>\n",
              "      <th>no.</th>\n",
              "      <th>Mobile Market Report</th>\n",
              "      <th>value_mobile</th>\n",
              "      <th>quarter</th>\n",
              "      <th>Thailand Internet Users_subscriber</th>\n",
              "      <th>year</th>\n",
              "      <th>value_subscriber</th>\n",
              "      <th>type_population</th>\n",
              "      <th>value_population</th>\n",
              "      <th>type_household</th>\n",
              "      <th>value_household</th>\n",
              "    </tr>\n",
              "  </thead>\n",
              "  <tbody>\n",
              "    <tr>\n",
              "      <th>0</th>\n",
              "      <td>5</td>\n",
              "      <td>Mobile Subscribers</td>\n",
              "      <td>18763102</td>\n",
              "      <td>1.0</td>\n",
              "      <td>Total Internet subscribers</td>\n",
              "      <td>2004.0</td>\n",
              "      <td>785931.00</td>\n",
              "      <td>per population (%)</td>\n",
              "      <td>0.0005</td>\n",
              "      <td>per household (%)</td>\n",
              "      <td>0.001556</td>\n",
              "    </tr>\n",
              "    <tr>\n",
              "      <th>1</th>\n",
              "      <td>6</td>\n",
              "      <td>Mobile Subscribers</td>\n",
              "      <td>19788956</td>\n",
              "      <td>2.0</td>\n",
              "      <td>Total Internet subscribers</td>\n",
              "      <td>2004.0</td>\n",
              "      <td>914400.00</td>\n",
              "      <td>per population (%)</td>\n",
              "      <td>0.0007</td>\n",
              "      <td>per household (%)</td>\n",
              "      <td>0.002265</td>\n",
              "    </tr>\n",
              "    <tr>\n",
              "      <th>2</th>\n",
              "      <td>7</td>\n",
              "      <td>Mobile Subscribers</td>\n",
              "      <td>20655866</td>\n",
              "      <td>3.0</td>\n",
              "      <td>Total Internet subscribers</td>\n",
              "      <td>2004.0</td>\n",
              "      <td>1091652.00</td>\n",
              "      <td>per population (%)</td>\n",
              "      <td>0.0015</td>\n",
              "      <td>per household (%)</td>\n",
              "      <td>0.004964</td>\n",
              "    </tr>\n",
              "    <tr>\n",
              "      <th>3</th>\n",
              "      <td>8</td>\n",
              "      <td>Mobile Subscribers</td>\n",
              "      <td>21616910</td>\n",
              "      <td>4.0</td>\n",
              "      <td>Total Internet subscribers</td>\n",
              "      <td>2004.0</td>\n",
              "      <td>1231344.00</td>\n",
              "      <td>per population (%)</td>\n",
              "      <td>0.0026</td>\n",
              "      <td>per household (%)</td>\n",
              "      <td>0.008716</td>\n",
              "    </tr>\n",
              "    <tr>\n",
              "      <th>4</th>\n",
              "      <td>9</td>\n",
              "      <td>Mobile Subscribers</td>\n",
              "      <td>23217311</td>\n",
              "      <td>1.0</td>\n",
              "      <td>Total Internet subscribers</td>\n",
              "      <td>2005.0</td>\n",
              "      <td>1197942.00</td>\n",
              "      <td>per population (%)</td>\n",
              "      <td>0.0045</td>\n",
              "      <td>per household (%)</td>\n",
              "      <td>0.015449</td>\n",
              "    </tr>\n",
              "    <tr>\n",
              "      <th>...</th>\n",
              "      <td>...</td>\n",
              "      <td>...</td>\n",
              "      <td>...</td>\n",
              "      <td>...</td>\n",
              "      <td>...</td>\n",
              "      <td>...</td>\n",
              "      <td>...</td>\n",
              "      <td>...</td>\n",
              "      <td>...</td>\n",
              "      <td>...</td>\n",
              "      <td>...</td>\n",
              "    </tr>\n",
              "    <tr>\n",
              "      <th>68</th>\n",
              "      <td>73</td>\n",
              "      <td>Mobile Subscribers</td>\n",
              "      <td>132594791</td>\n",
              "      <td>1.0</td>\n",
              "      <td>Total Internet subscribers</td>\n",
              "      <td>2021.0</td>\n",
              "      <td>11876158.44</td>\n",
              "      <td>per population (%)</td>\n",
              "      <td>0.1740</td>\n",
              "      <td>per household (%)</td>\n",
              "      <td>0.532524</td>\n",
              "    </tr>\n",
              "    <tr>\n",
              "      <th>69</th>\n",
              "      <td>74</td>\n",
              "      <td>Mobile Subscribers</td>\n",
              "      <td>131881072</td>\n",
              "      <td>NaN</td>\n",
              "      <td>NaN</td>\n",
              "      <td>NaN</td>\n",
              "      <td>NaN</td>\n",
              "      <td>NaN</td>\n",
              "      <td>NaN</td>\n",
              "      <td>NaN</td>\n",
              "      <td>NaN</td>\n",
              "    </tr>\n",
              "    <tr>\n",
              "      <th>70</th>\n",
              "      <td>75</td>\n",
              "      <td>Mobile Subscribers</td>\n",
              "      <td>119169759</td>\n",
              "      <td>NaN</td>\n",
              "      <td>NaN</td>\n",
              "      <td>NaN</td>\n",
              "      <td>NaN</td>\n",
              "      <td>NaN</td>\n",
              "      <td>NaN</td>\n",
              "      <td>NaN</td>\n",
              "      <td>NaN</td>\n",
              "    </tr>\n",
              "    <tr>\n",
              "      <th>71</th>\n",
              "      <td>76</td>\n",
              "      <td>Mobile Subscribers</td>\n",
              "      <td>116294420</td>\n",
              "      <td>NaN</td>\n",
              "      <td>NaN</td>\n",
              "      <td>NaN</td>\n",
              "      <td>NaN</td>\n",
              "      <td>NaN</td>\n",
              "      <td>NaN</td>\n",
              "      <td>NaN</td>\n",
              "      <td>NaN</td>\n",
              "    </tr>\n",
              "    <tr>\n",
              "      <th>72</th>\n",
              "      <td>77</td>\n",
              "      <td>Mobile Subscribers</td>\n",
              "      <td>117562201</td>\n",
              "      <td>NaN</td>\n",
              "      <td>NaN</td>\n",
              "      <td>NaN</td>\n",
              "      <td>NaN</td>\n",
              "      <td>NaN</td>\n",
              "      <td>NaN</td>\n",
              "      <td>NaN</td>\n",
              "      <td>NaN</td>\n",
              "    </tr>\n",
              "  </tbody>\n",
              "</table>\n",
              "<p>73 rows × 11 columns</p>\n",
              "</div>"
            ],
            "text/plain": [
              "    no. Mobile Market Report  ...     type_household  value_household\n",
              "0     5   Mobile Subscribers  ...  per household (%)         0.001556\n",
              "1     6   Mobile Subscribers  ...  per household (%)         0.002265\n",
              "2     7   Mobile Subscribers  ...  per household (%)         0.004964\n",
              "3     8   Mobile Subscribers  ...  per household (%)         0.008716\n",
              "4     9   Mobile Subscribers  ...  per household (%)         0.015449\n",
              "..  ...                  ...  ...                ...              ...\n",
              "68   73   Mobile Subscribers  ...  per household (%)         0.532524\n",
              "69   74   Mobile Subscribers  ...                NaN              NaN\n",
              "70   75   Mobile Subscribers  ...                NaN              NaN\n",
              "71   76   Mobile Subscribers  ...                NaN              NaN\n",
              "72   77   Mobile Subscribers  ...                NaN              NaN\n",
              "\n",
              "[73 rows x 11 columns]"
            ]
          },
          "metadata": {},
          "execution_count": 22
        }
      ]
    },
    {
      "cell_type": "code",
      "metadata": {
        "colab": {
          "base_uri": "https://localhost:8080/"
        },
        "id": "_wRjav9f4a2Q",
        "outputId": "ebde0141-251b-4f41-c63d-82051063ae9e"
      },
      "source": [
        "# เช็ค missing ตาราง merge_table3\n",
        "merge_table3.isnull().any()"
      ],
      "execution_count": 23,
      "outputs": [
        {
          "output_type": "execute_result",
          "data": {
            "text/plain": [
              "no.                                   False\n",
              "Mobile Market Report                  False\n",
              "value_mobile                          False\n",
              "quarter                                True\n",
              "Thailand Internet Users_subscriber     True\n",
              "year                                   True\n",
              "value_subscriber                       True\n",
              "type_population                        True\n",
              "value_population                       True\n",
              "type_household                         True\n",
              "value_household                        True\n",
              "dtype: bool"
            ]
          },
          "metadata": {},
          "execution_count": 23
        }
      ]
    },
    {
      "cell_type": "code",
      "metadata": {
        "colab": {
          "base_uri": "https://localhost:8080/",
          "height": 649
        },
        "id": "1Ff18h_gzc6R",
        "outputId": "827937d1-3cbc-4d13-91fc-ff73aebe9a8a"
      },
      "source": [
        "# จัดการ missing โดยการ dropna()\n",
        "merge_table3_drop = merge_table3.dropna()\n",
        "merge_table3_drop"
      ],
      "execution_count": 24,
      "outputs": [
        {
          "output_type": "execute_result",
          "data": {
            "text/html": [
              "<div>\n",
              "<style scoped>\n",
              "    .dataframe tbody tr th:only-of-type {\n",
              "        vertical-align: middle;\n",
              "    }\n",
              "\n",
              "    .dataframe tbody tr th {\n",
              "        vertical-align: top;\n",
              "    }\n",
              "\n",
              "    .dataframe thead th {\n",
              "        text-align: right;\n",
              "    }\n",
              "</style>\n",
              "<table border=\"1\" class=\"dataframe\">\n",
              "  <thead>\n",
              "    <tr style=\"text-align: right;\">\n",
              "      <th></th>\n",
              "      <th>no.</th>\n",
              "      <th>Mobile Market Report</th>\n",
              "      <th>value_mobile</th>\n",
              "      <th>quarter</th>\n",
              "      <th>Thailand Internet Users_subscriber</th>\n",
              "      <th>year</th>\n",
              "      <th>value_subscriber</th>\n",
              "      <th>type_population</th>\n",
              "      <th>value_population</th>\n",
              "      <th>type_household</th>\n",
              "      <th>value_household</th>\n",
              "    </tr>\n",
              "  </thead>\n",
              "  <tbody>\n",
              "    <tr>\n",
              "      <th>0</th>\n",
              "      <td>5</td>\n",
              "      <td>Mobile Subscribers</td>\n",
              "      <td>18763102</td>\n",
              "      <td>1.0</td>\n",
              "      <td>Total Internet subscribers</td>\n",
              "      <td>2004.0</td>\n",
              "      <td>785931.00</td>\n",
              "      <td>per population (%)</td>\n",
              "      <td>0.0005</td>\n",
              "      <td>per household (%)</td>\n",
              "      <td>0.001556</td>\n",
              "    </tr>\n",
              "    <tr>\n",
              "      <th>1</th>\n",
              "      <td>6</td>\n",
              "      <td>Mobile Subscribers</td>\n",
              "      <td>19788956</td>\n",
              "      <td>2.0</td>\n",
              "      <td>Total Internet subscribers</td>\n",
              "      <td>2004.0</td>\n",
              "      <td>914400.00</td>\n",
              "      <td>per population (%)</td>\n",
              "      <td>0.0007</td>\n",
              "      <td>per household (%)</td>\n",
              "      <td>0.002265</td>\n",
              "    </tr>\n",
              "    <tr>\n",
              "      <th>2</th>\n",
              "      <td>7</td>\n",
              "      <td>Mobile Subscribers</td>\n",
              "      <td>20655866</td>\n",
              "      <td>3.0</td>\n",
              "      <td>Total Internet subscribers</td>\n",
              "      <td>2004.0</td>\n",
              "      <td>1091652.00</td>\n",
              "      <td>per population (%)</td>\n",
              "      <td>0.0015</td>\n",
              "      <td>per household (%)</td>\n",
              "      <td>0.004964</td>\n",
              "    </tr>\n",
              "    <tr>\n",
              "      <th>3</th>\n",
              "      <td>8</td>\n",
              "      <td>Mobile Subscribers</td>\n",
              "      <td>21616910</td>\n",
              "      <td>4.0</td>\n",
              "      <td>Total Internet subscribers</td>\n",
              "      <td>2004.0</td>\n",
              "      <td>1231344.00</td>\n",
              "      <td>per population (%)</td>\n",
              "      <td>0.0026</td>\n",
              "      <td>per household (%)</td>\n",
              "      <td>0.008716</td>\n",
              "    </tr>\n",
              "    <tr>\n",
              "      <th>4</th>\n",
              "      <td>9</td>\n",
              "      <td>Mobile Subscribers</td>\n",
              "      <td>23217311</td>\n",
              "      <td>1.0</td>\n",
              "      <td>Total Internet subscribers</td>\n",
              "      <td>2005.0</td>\n",
              "      <td>1197942.00</td>\n",
              "      <td>per population (%)</td>\n",
              "      <td>0.0045</td>\n",
              "      <td>per household (%)</td>\n",
              "      <td>0.015449</td>\n",
              "    </tr>\n",
              "    <tr>\n",
              "      <th>...</th>\n",
              "      <td>...</td>\n",
              "      <td>...</td>\n",
              "      <td>...</td>\n",
              "      <td>...</td>\n",
              "      <td>...</td>\n",
              "      <td>...</td>\n",
              "      <td>...</td>\n",
              "      <td>...</td>\n",
              "      <td>...</td>\n",
              "      <td>...</td>\n",
              "      <td>...</td>\n",
              "    </tr>\n",
              "    <tr>\n",
              "      <th>64</th>\n",
              "      <td>69</td>\n",
              "      <td>Mobile Subscribers</td>\n",
              "      <td>122173569</td>\n",
              "      <td>1.0</td>\n",
              "      <td>Total Internet subscribers</td>\n",
              "      <td>2020.0</td>\n",
              "      <td>10264995.67</td>\n",
              "      <td>per population (%)</td>\n",
              "      <td>0.1510</td>\n",
              "      <td>per household (%)</td>\n",
              "      <td>0.469344</td>\n",
              "    </tr>\n",
              "    <tr>\n",
              "      <th>65</th>\n",
              "      <td>70</td>\n",
              "      <td>Mobile Subscribers</td>\n",
              "      <td>124366678</td>\n",
              "      <td>2.0</td>\n",
              "      <td>Total Internet subscribers</td>\n",
              "      <td>2020.0</td>\n",
              "      <td>10912996.14</td>\n",
              "      <td>per population (%)</td>\n",
              "      <td>0.1605</td>\n",
              "      <td>per household (%)</td>\n",
              "      <td>0.498972</td>\n",
              "    </tr>\n",
              "    <tr>\n",
              "      <th>66</th>\n",
              "      <td>71</td>\n",
              "      <td>Mobile Subscribers</td>\n",
              "      <td>126137528</td>\n",
              "      <td>3.0</td>\n",
              "      <td>Total Internet subscribers</td>\n",
              "      <td>2020.0</td>\n",
              "      <td>11282645.58</td>\n",
              "      <td>per population (%)</td>\n",
              "      <td>0.1659</td>\n",
              "      <td>per household (%)</td>\n",
              "      <td>0.515873</td>\n",
              "    </tr>\n",
              "    <tr>\n",
              "      <th>67</th>\n",
              "      <td>72</td>\n",
              "      <td>Mobile Subscribers</td>\n",
              "      <td>129613743</td>\n",
              "      <td>4.0</td>\n",
              "      <td>Total Internet subscribers</td>\n",
              "      <td>2020.0</td>\n",
              "      <td>11478264.92</td>\n",
              "      <td>per population (%)</td>\n",
              "      <td>0.1685</td>\n",
              "      <td>per household (%)</td>\n",
              "      <td>0.514683</td>\n",
              "    </tr>\n",
              "    <tr>\n",
              "      <th>68</th>\n",
              "      <td>73</td>\n",
              "      <td>Mobile Subscribers</td>\n",
              "      <td>132594791</td>\n",
              "      <td>1.0</td>\n",
              "      <td>Total Internet subscribers</td>\n",
              "      <td>2021.0</td>\n",
              "      <td>11876158.44</td>\n",
              "      <td>per population (%)</td>\n",
              "      <td>0.1740</td>\n",
              "      <td>per household (%)</td>\n",
              "      <td>0.532524</td>\n",
              "    </tr>\n",
              "  </tbody>\n",
              "</table>\n",
              "<p>69 rows × 11 columns</p>\n",
              "</div>"
            ],
            "text/plain": [
              "    no. Mobile Market Report  ...     type_household  value_household\n",
              "0     5   Mobile Subscribers  ...  per household (%)         0.001556\n",
              "1     6   Mobile Subscribers  ...  per household (%)         0.002265\n",
              "2     7   Mobile Subscribers  ...  per household (%)         0.004964\n",
              "3     8   Mobile Subscribers  ...  per household (%)         0.008716\n",
              "4     9   Mobile Subscribers  ...  per household (%)         0.015449\n",
              "..  ...                  ...  ...                ...              ...\n",
              "64   69   Mobile Subscribers  ...  per household (%)         0.469344\n",
              "65   70   Mobile Subscribers  ...  per household (%)         0.498972\n",
              "66   71   Mobile Subscribers  ...  per household (%)         0.515873\n",
              "67   72   Mobile Subscribers  ...  per household (%)         0.514683\n",
              "68   73   Mobile Subscribers  ...  per household (%)         0.532524\n",
              "\n",
              "[69 rows x 11 columns]"
            ]
          },
          "metadata": {},
          "execution_count": 24
        }
      ]
    },
    {
      "cell_type": "code",
      "metadata": {
        "colab": {
          "base_uri": "https://localhost:8080/"
        },
        "id": "B1QHkoVM25mt",
        "outputId": "34fd7c5f-5b12-4a5c-947a-57843c55fbcf"
      },
      "source": [
        "# เช็ค missing ตาราง merge_table3_drop\n",
        "merge_table3_drop.isnull().any()"
      ],
      "execution_count": 25,
      "outputs": [
        {
          "output_type": "execute_result",
          "data": {
            "text/plain": [
              "no.                                   False\n",
              "Mobile Market Report                  False\n",
              "value_mobile                          False\n",
              "quarter                               False\n",
              "Thailand Internet Users_subscriber    False\n",
              "year                                  False\n",
              "value_subscriber                      False\n",
              "type_population                       False\n",
              "value_population                      False\n",
              "type_household                        False\n",
              "value_household                       False\n",
              "dtype: bool"
            ]
          },
          "metadata": {},
          "execution_count": 25
        }
      ]
    },
    {
      "cell_type": "code",
      "metadata": {
        "colab": {
          "base_uri": "https://localhost:8080/"
        },
        "id": "VwzdLfHf3ELv",
        "outputId": "700c356d-2cd0-4371-c7c8-d812761ea581"
      },
      "source": [
        "# จากการทำ dropna() ทำให้ข้อมูลหายไปกี่ % \n",
        "removed = merge_table3.shape[0] - merge_table3_drop.shape[0]\n",
        "\n",
        "print(f'size before drop = {merge_table3.shape[0]}')\n",
        "print(f'size aftre drop = {merge_table3_drop.shape[0]}')\n",
        "print(f'we loss {100*(removed/merge_table3.shape[0])}% of data')"
      ],
      "execution_count": 26,
      "outputs": [
        {
          "output_type": "stream",
          "name": "stdout",
          "text": [
            "size before drop = 73\n",
            "size aftre drop = 69\n",
            "we loss 5.47945205479452% of data\n"
          ]
        }
      ]
    },
    {
      "cell_type": "markdown",
      "metadata": {
        "id": "EJaD0CEKPEEd"
      },
      "source": [
        "# Classification\n",
        "แก้ไขข้อมูลกำหนดค่าในตาราง เพื่อให้ข้อมูลในตารางนำไปใช้ในการ Assosiation ได้\n",
        "โดยการเพิ่ม column ใหม่ในตาราง merge_table3_drop และ column ที่สร้างใหม่นั้นจะตามหลังด้วย _group โดยการจัดกลุ่มให้ค่าทั้งหมดในแต่ละ column ซึ่งจัดกลุ่มดังนี้"
      ]
    },
    {
      "cell_type": "code",
      "metadata": {
        "id": "h1l1Yb_c2B6Y"
      },
      "source": [
        "from pandas.api.types import CategoricalDtype"
      ],
      "execution_count": 27,
      "outputs": []
    },
    {
      "cell_type": "markdown",
      "metadata": {
        "id": "LgI14j9Z3u73"
      },
      "source": [
        "## เพิ่ม column ใหม่ในตาราง merge_table3_drop"
      ]
    },
    {
      "cell_type": "code",
      "metadata": {
        "colab": {
          "base_uri": "https://localhost:8080/"
        },
        "id": "xNoNAT89dRRc",
        "outputId": "a234ad99-9330-42a2-f47e-dbb4fc01d570"
      },
      "source": [
        "merge_table3_drop.columns"
      ],
      "execution_count": 28,
      "outputs": [
        {
          "output_type": "execute_result",
          "data": {
            "text/plain": [
              "Index(['no.', 'Mobile Market Report', 'value_mobile', 'quarter',\n",
              "       'Thailand Internet Users_subscriber', 'year', 'value_subscriber',\n",
              "       'type_population', 'value_population', 'type_household',\n",
              "       'value_household'],\n",
              "      dtype='object')"
            ]
          },
          "metadata": {},
          "execution_count": 28
        }
      ]
    },
    {
      "cell_type": "markdown",
      "metadata": {
        "id": "fZUj2q0wCnxX"
      },
      "source": [
        "#####**column ชื่อว่า value_subscriber**\n",
        "* ถ้ามีค่าตั้งแต่ 0 - 2000000 จะให้เป็น low\n",
        "* ถ้ามีค่าตั้งแต่ 2000000 - 5000000 จะให้เป็น median\n",
        "* ถ้ามีค่าตั้งแต่ 5000000 - 12000000 จะให้เป็น high"
      ]
    },
    {
      "cell_type": "code",
      "metadata": {
        "colab": {
          "base_uri": "https://localhost:8080/"
        },
        "id": "GGRZgmut3_vN",
        "outputId": "dd1675d6-f138-41ce-e214-9885bb48aefe"
      },
      "source": [
        "bucket = ['low','median','high']\n",
        "merge_table3_drop['subscriber_group'] = pd.cut(merge_table3_drop.value_subscriber,\n",
        "                            bins=[0,2000000,5000000,12000000],\n",
        "                            labels=bucket,\n",
        "                            right=False).astype(str).astype(CategoricalDtype(bucket,ordered=True))"
      ],
      "execution_count": 29,
      "outputs": [
        {
          "output_type": "stream",
          "name": "stderr",
          "text": [
            "/usr/local/lib/python3.7/dist-packages/ipykernel_launcher.py:5: SettingWithCopyWarning: \n",
            "A value is trying to be set on a copy of a slice from a DataFrame.\n",
            "Try using .loc[row_indexer,col_indexer] = value instead\n",
            "\n",
            "See the caveats in the documentation: https://pandas.pydata.org/pandas-docs/stable/user_guide/indexing.html#returning-a-view-versus-a-copy\n",
            "  \"\"\"\n"
          ]
        }
      ]
    },
    {
      "cell_type": "markdown",
      "metadata": {
        "id": "lG-fXSTnD0L_"
      },
      "source": [
        "#####**column ชื่อว่า value_household**\n",
        "* ถ้ามีค่าตั้งแต่ 0 - 0.1 จะให้เป็น low\n",
        "* ถ้ามีค่าตั้งแต่ 0.1 - 0.3 จะให้เป็น median\n",
        "* ถ้ามีค่าตั้งแต่ 0.3 - 0.6 จะให้เป็น high"
      ]
    },
    {
      "cell_type": "code",
      "metadata": {
        "colab": {
          "base_uri": "https://localhost:8080/"
        },
        "id": "6U1jyH8G4TDB",
        "outputId": "8fab3ace-be5f-4ba9-adb5-117aff77d783"
      },
      "source": [
        "bucket = ['low','median','high']\n",
        "merge_table3_drop['household_group'] = pd.cut(merge_table3_drop.value_household,\n",
        "                            bins=[0,0.1,0.3,0.6],\n",
        "                            labels=bucket,\n",
        "                            right=False).astype(str).astype(CategoricalDtype(bucket,ordered=True))"
      ],
      "execution_count": 30,
      "outputs": [
        {
          "output_type": "stream",
          "name": "stderr",
          "text": [
            "/usr/local/lib/python3.7/dist-packages/ipykernel_launcher.py:5: SettingWithCopyWarning: \n",
            "A value is trying to be set on a copy of a slice from a DataFrame.\n",
            "Try using .loc[row_indexer,col_indexer] = value instead\n",
            "\n",
            "See the caveats in the documentation: https://pandas.pydata.org/pandas-docs/stable/user_guide/indexing.html#returning-a-view-versus-a-copy\n",
            "  \"\"\"\n"
          ]
        }
      ]
    },
    {
      "cell_type": "markdown",
      "metadata": {
        "id": "FauJtv-KEFiz"
      },
      "source": [
        "#####**column ชื่อว่า value_population**\n",
        "* ถ้ามีค่าตั้งแต่ 0 - 0.05 จะให้เป็น low\n",
        "* ถ้ามีค่าตั้งแต่ 0.05 - 0.10 จะให้เป็น median\n",
        "* ถ้ามีค่าตั้งแต่ 0.10 - 0.18 จะให้เป็น high"
      ]
    },
    {
      "cell_type": "code",
      "metadata": {
        "colab": {
          "base_uri": "https://localhost:8080/"
        },
        "id": "I9U98Bt94SXn",
        "outputId": "81dc6d3a-21b9-4909-a5b7-7419e2eaf7ef"
      },
      "source": [
        "bucket = ['low','median','high']\n",
        "merge_table3_drop['population_group'] = pd.cut(merge_table3_drop.value_population,\n",
        "                            bins=[0,0.05,0.10,0.18],\n",
        "                            labels=bucket,\n",
        "                            right=False).astype(str).astype(CategoricalDtype(bucket,ordered=True))"
      ],
      "execution_count": 31,
      "outputs": [
        {
          "output_type": "stream",
          "name": "stderr",
          "text": [
            "/usr/local/lib/python3.7/dist-packages/ipykernel_launcher.py:5: SettingWithCopyWarning: \n",
            "A value is trying to be set on a copy of a slice from a DataFrame.\n",
            "Try using .loc[row_indexer,col_indexer] = value instead\n",
            "\n",
            "See the caveats in the documentation: https://pandas.pydata.org/pandas-docs/stable/user_guide/indexing.html#returning-a-view-versus-a-copy\n",
            "  \"\"\"\n"
          ]
        }
      ]
    },
    {
      "cell_type": "markdown",
      "metadata": {
        "id": "HBMiuVWTEWPH"
      },
      "source": [
        "#####**column ชื่อว่า value_mobile**\n",
        "* ถ้ามีค่าตั้งแต่ 0 - 2000000 จะให้เป็น low\n",
        "* ถ้ามีค่าตั้งแต่ 2000000 - 5000000 จะให้เป็น median\n",
        "* ถ้ามีค่าตั้งแต่ 5000000 - 12000000 จะให้เป็น high"
      ]
    },
    {
      "cell_type": "code",
      "metadata": {
        "colab": {
          "base_uri": "https://localhost:8080/"
        },
        "id": "UYZMrBYA7F8-",
        "outputId": "adf0b4bf-a65a-470f-8bbb-80558af7ce3f"
      },
      "source": [
        "bucket = ['low','median','high']\n",
        "merge_table3_drop['mobile_group'] = pd.cut(merge_table3_drop.value_mobile,\n",
        "                            bins=[0,50000000,100000000,140000000],\n",
        "                            labels=bucket,\n",
        "                            right=False).astype(str).astype(CategoricalDtype(bucket,ordered=True))"
      ],
      "execution_count": 32,
      "outputs": [
        {
          "output_type": "stream",
          "name": "stderr",
          "text": [
            "/usr/local/lib/python3.7/dist-packages/ipykernel_launcher.py:5: SettingWithCopyWarning: \n",
            "A value is trying to be set on a copy of a slice from a DataFrame.\n",
            "Try using .loc[row_indexer,col_indexer] = value instead\n",
            "\n",
            "See the caveats in the documentation: https://pandas.pydata.org/pandas-docs/stable/user_guide/indexing.html#returning-a-view-versus-a-copy\n",
            "  \"\"\"\n"
          ]
        }
      ]
    },
    {
      "cell_type": "code",
      "metadata": {
        "colab": {
          "base_uri": "https://localhost:8080/",
          "height": 649
        },
        "id": "nw720Ko14IHz",
        "outputId": "32d3fac6-b33e-4ea6-80d6-16da0fad94ee"
      },
      "source": [
        "merge_table3_drop  # นี่เป็นตารางแสดงผลจากการที่เราเพิ่ม column"
      ],
      "execution_count": 33,
      "outputs": [
        {
          "output_type": "execute_result",
          "data": {
            "text/html": [
              "<div>\n",
              "<style scoped>\n",
              "    .dataframe tbody tr th:only-of-type {\n",
              "        vertical-align: middle;\n",
              "    }\n",
              "\n",
              "    .dataframe tbody tr th {\n",
              "        vertical-align: top;\n",
              "    }\n",
              "\n",
              "    .dataframe thead th {\n",
              "        text-align: right;\n",
              "    }\n",
              "</style>\n",
              "<table border=\"1\" class=\"dataframe\">\n",
              "  <thead>\n",
              "    <tr style=\"text-align: right;\">\n",
              "      <th></th>\n",
              "      <th>no.</th>\n",
              "      <th>Mobile Market Report</th>\n",
              "      <th>value_mobile</th>\n",
              "      <th>quarter</th>\n",
              "      <th>Thailand Internet Users_subscriber</th>\n",
              "      <th>year</th>\n",
              "      <th>value_subscriber</th>\n",
              "      <th>type_population</th>\n",
              "      <th>value_population</th>\n",
              "      <th>type_household</th>\n",
              "      <th>value_household</th>\n",
              "      <th>subscriber_group</th>\n",
              "      <th>household_group</th>\n",
              "      <th>population_group</th>\n",
              "      <th>mobile_group</th>\n",
              "    </tr>\n",
              "  </thead>\n",
              "  <tbody>\n",
              "    <tr>\n",
              "      <th>0</th>\n",
              "      <td>5</td>\n",
              "      <td>Mobile Subscribers</td>\n",
              "      <td>18763102</td>\n",
              "      <td>1.0</td>\n",
              "      <td>Total Internet subscribers</td>\n",
              "      <td>2004.0</td>\n",
              "      <td>785931.00</td>\n",
              "      <td>per population (%)</td>\n",
              "      <td>0.0005</td>\n",
              "      <td>per household (%)</td>\n",
              "      <td>0.001556</td>\n",
              "      <td>low</td>\n",
              "      <td>low</td>\n",
              "      <td>low</td>\n",
              "      <td>low</td>\n",
              "    </tr>\n",
              "    <tr>\n",
              "      <th>1</th>\n",
              "      <td>6</td>\n",
              "      <td>Mobile Subscribers</td>\n",
              "      <td>19788956</td>\n",
              "      <td>2.0</td>\n",
              "      <td>Total Internet subscribers</td>\n",
              "      <td>2004.0</td>\n",
              "      <td>914400.00</td>\n",
              "      <td>per population (%)</td>\n",
              "      <td>0.0007</td>\n",
              "      <td>per household (%)</td>\n",
              "      <td>0.002265</td>\n",
              "      <td>low</td>\n",
              "      <td>low</td>\n",
              "      <td>low</td>\n",
              "      <td>low</td>\n",
              "    </tr>\n",
              "    <tr>\n",
              "      <th>2</th>\n",
              "      <td>7</td>\n",
              "      <td>Mobile Subscribers</td>\n",
              "      <td>20655866</td>\n",
              "      <td>3.0</td>\n",
              "      <td>Total Internet subscribers</td>\n",
              "      <td>2004.0</td>\n",
              "      <td>1091652.00</td>\n",
              "      <td>per population (%)</td>\n",
              "      <td>0.0015</td>\n",
              "      <td>per household (%)</td>\n",
              "      <td>0.004964</td>\n",
              "      <td>low</td>\n",
              "      <td>low</td>\n",
              "      <td>low</td>\n",
              "      <td>low</td>\n",
              "    </tr>\n",
              "    <tr>\n",
              "      <th>3</th>\n",
              "      <td>8</td>\n",
              "      <td>Mobile Subscribers</td>\n",
              "      <td>21616910</td>\n",
              "      <td>4.0</td>\n",
              "      <td>Total Internet subscribers</td>\n",
              "      <td>2004.0</td>\n",
              "      <td>1231344.00</td>\n",
              "      <td>per population (%)</td>\n",
              "      <td>0.0026</td>\n",
              "      <td>per household (%)</td>\n",
              "      <td>0.008716</td>\n",
              "      <td>low</td>\n",
              "      <td>low</td>\n",
              "      <td>low</td>\n",
              "      <td>low</td>\n",
              "    </tr>\n",
              "    <tr>\n",
              "      <th>4</th>\n",
              "      <td>9</td>\n",
              "      <td>Mobile Subscribers</td>\n",
              "      <td>23217311</td>\n",
              "      <td>1.0</td>\n",
              "      <td>Total Internet subscribers</td>\n",
              "      <td>2005.0</td>\n",
              "      <td>1197942.00</td>\n",
              "      <td>per population (%)</td>\n",
              "      <td>0.0045</td>\n",
              "      <td>per household (%)</td>\n",
              "      <td>0.015449</td>\n",
              "      <td>low</td>\n",
              "      <td>low</td>\n",
              "      <td>low</td>\n",
              "      <td>low</td>\n",
              "    </tr>\n",
              "    <tr>\n",
              "      <th>...</th>\n",
              "      <td>...</td>\n",
              "      <td>...</td>\n",
              "      <td>...</td>\n",
              "      <td>...</td>\n",
              "      <td>...</td>\n",
              "      <td>...</td>\n",
              "      <td>...</td>\n",
              "      <td>...</td>\n",
              "      <td>...</td>\n",
              "      <td>...</td>\n",
              "      <td>...</td>\n",
              "      <td>...</td>\n",
              "      <td>...</td>\n",
              "      <td>...</td>\n",
              "      <td>...</td>\n",
              "    </tr>\n",
              "    <tr>\n",
              "      <th>64</th>\n",
              "      <td>69</td>\n",
              "      <td>Mobile Subscribers</td>\n",
              "      <td>122173569</td>\n",
              "      <td>1.0</td>\n",
              "      <td>Total Internet subscribers</td>\n",
              "      <td>2020.0</td>\n",
              "      <td>10264995.67</td>\n",
              "      <td>per population (%)</td>\n",
              "      <td>0.1510</td>\n",
              "      <td>per household (%)</td>\n",
              "      <td>0.469344</td>\n",
              "      <td>high</td>\n",
              "      <td>high</td>\n",
              "      <td>high</td>\n",
              "      <td>high</td>\n",
              "    </tr>\n",
              "    <tr>\n",
              "      <th>65</th>\n",
              "      <td>70</td>\n",
              "      <td>Mobile Subscribers</td>\n",
              "      <td>124366678</td>\n",
              "      <td>2.0</td>\n",
              "      <td>Total Internet subscribers</td>\n",
              "      <td>2020.0</td>\n",
              "      <td>10912996.14</td>\n",
              "      <td>per population (%)</td>\n",
              "      <td>0.1605</td>\n",
              "      <td>per household (%)</td>\n",
              "      <td>0.498972</td>\n",
              "      <td>high</td>\n",
              "      <td>high</td>\n",
              "      <td>high</td>\n",
              "      <td>high</td>\n",
              "    </tr>\n",
              "    <tr>\n",
              "      <th>66</th>\n",
              "      <td>71</td>\n",
              "      <td>Mobile Subscribers</td>\n",
              "      <td>126137528</td>\n",
              "      <td>3.0</td>\n",
              "      <td>Total Internet subscribers</td>\n",
              "      <td>2020.0</td>\n",
              "      <td>11282645.58</td>\n",
              "      <td>per population (%)</td>\n",
              "      <td>0.1659</td>\n",
              "      <td>per household (%)</td>\n",
              "      <td>0.515873</td>\n",
              "      <td>high</td>\n",
              "      <td>high</td>\n",
              "      <td>high</td>\n",
              "      <td>high</td>\n",
              "    </tr>\n",
              "    <tr>\n",
              "      <th>67</th>\n",
              "      <td>72</td>\n",
              "      <td>Mobile Subscribers</td>\n",
              "      <td>129613743</td>\n",
              "      <td>4.0</td>\n",
              "      <td>Total Internet subscribers</td>\n",
              "      <td>2020.0</td>\n",
              "      <td>11478264.92</td>\n",
              "      <td>per population (%)</td>\n",
              "      <td>0.1685</td>\n",
              "      <td>per household (%)</td>\n",
              "      <td>0.514683</td>\n",
              "      <td>high</td>\n",
              "      <td>high</td>\n",
              "      <td>high</td>\n",
              "      <td>high</td>\n",
              "    </tr>\n",
              "    <tr>\n",
              "      <th>68</th>\n",
              "      <td>73</td>\n",
              "      <td>Mobile Subscribers</td>\n",
              "      <td>132594791</td>\n",
              "      <td>1.0</td>\n",
              "      <td>Total Internet subscribers</td>\n",
              "      <td>2021.0</td>\n",
              "      <td>11876158.44</td>\n",
              "      <td>per population (%)</td>\n",
              "      <td>0.1740</td>\n",
              "      <td>per household (%)</td>\n",
              "      <td>0.532524</td>\n",
              "      <td>high</td>\n",
              "      <td>high</td>\n",
              "      <td>high</td>\n",
              "      <td>high</td>\n",
              "    </tr>\n",
              "  </tbody>\n",
              "</table>\n",
              "<p>69 rows × 15 columns</p>\n",
              "</div>"
            ],
            "text/plain": [
              "    no. Mobile Market Report  ...  population_group  mobile_group\n",
              "0     5   Mobile Subscribers  ...               low           low\n",
              "1     6   Mobile Subscribers  ...               low           low\n",
              "2     7   Mobile Subscribers  ...               low           low\n",
              "3     8   Mobile Subscribers  ...               low           low\n",
              "4     9   Mobile Subscribers  ...               low           low\n",
              "..  ...                  ...  ...               ...           ...\n",
              "64   69   Mobile Subscribers  ...              high          high\n",
              "65   70   Mobile Subscribers  ...              high          high\n",
              "66   71   Mobile Subscribers  ...              high          high\n",
              "67   72   Mobile Subscribers  ...              high          high\n",
              "68   73   Mobile Subscribers  ...              high          high\n",
              "\n",
              "[69 rows x 15 columns]"
            ]
          },
          "metadata": {},
          "execution_count": 33
        }
      ]
    },
    {
      "cell_type": "markdown",
      "metadata": {
        "id": "mKOe4zNGc68x"
      },
      "source": [
        "###### ลองทำ"
      ]
    },
    {
      "cell_type": "code",
      "metadata": {
        "id": "giqkeJ8jc6vu",
        "outputId": "84deaf6e-5127-4911-f886-3c498c4dac6f",
        "colab": {
          "base_uri": "https://localhost:8080/",
          "height": 422
        }
      },
      "source": [
        "t1 = merge_table3_drop[['year','value_mobile','value_subscriber','value_household','value_population']]\n",
        "t1"
      ],
      "execution_count": 36,
      "outputs": [
        {
          "output_type": "execute_result",
          "data": {
            "text/html": [
              "<div>\n",
              "<style scoped>\n",
              "    .dataframe tbody tr th:only-of-type {\n",
              "        vertical-align: middle;\n",
              "    }\n",
              "\n",
              "    .dataframe tbody tr th {\n",
              "        vertical-align: top;\n",
              "    }\n",
              "\n",
              "    .dataframe thead th {\n",
              "        text-align: right;\n",
              "    }\n",
              "</style>\n",
              "<table border=\"1\" class=\"dataframe\">\n",
              "  <thead>\n",
              "    <tr style=\"text-align: right;\">\n",
              "      <th></th>\n",
              "      <th>year</th>\n",
              "      <th>value_mobile</th>\n",
              "      <th>value_subscriber</th>\n",
              "      <th>value_household</th>\n",
              "      <th>value_population</th>\n",
              "    </tr>\n",
              "  </thead>\n",
              "  <tbody>\n",
              "    <tr>\n",
              "      <th>0</th>\n",
              "      <td>2004.0</td>\n",
              "      <td>18763102</td>\n",
              "      <td>785931.00</td>\n",
              "      <td>0.001556</td>\n",
              "      <td>0.0005</td>\n",
              "    </tr>\n",
              "    <tr>\n",
              "      <th>1</th>\n",
              "      <td>2004.0</td>\n",
              "      <td>19788956</td>\n",
              "      <td>914400.00</td>\n",
              "      <td>0.002265</td>\n",
              "      <td>0.0007</td>\n",
              "    </tr>\n",
              "    <tr>\n",
              "      <th>2</th>\n",
              "      <td>2004.0</td>\n",
              "      <td>20655866</td>\n",
              "      <td>1091652.00</td>\n",
              "      <td>0.004964</td>\n",
              "      <td>0.0015</td>\n",
              "    </tr>\n",
              "    <tr>\n",
              "      <th>3</th>\n",
              "      <td>2004.0</td>\n",
              "      <td>21616910</td>\n",
              "      <td>1231344.00</td>\n",
              "      <td>0.008716</td>\n",
              "      <td>0.0026</td>\n",
              "    </tr>\n",
              "    <tr>\n",
              "      <th>4</th>\n",
              "      <td>2005.0</td>\n",
              "      <td>23217311</td>\n",
              "      <td>1197942.00</td>\n",
              "      <td>0.015449</td>\n",
              "      <td>0.0045</td>\n",
              "    </tr>\n",
              "    <tr>\n",
              "      <th>...</th>\n",
              "      <td>...</td>\n",
              "      <td>...</td>\n",
              "      <td>...</td>\n",
              "      <td>...</td>\n",
              "      <td>...</td>\n",
              "    </tr>\n",
              "    <tr>\n",
              "      <th>64</th>\n",
              "      <td>2020.0</td>\n",
              "      <td>122173569</td>\n",
              "      <td>10264995.67</td>\n",
              "      <td>0.469344</td>\n",
              "      <td>0.1510</td>\n",
              "    </tr>\n",
              "    <tr>\n",
              "      <th>65</th>\n",
              "      <td>2020.0</td>\n",
              "      <td>124366678</td>\n",
              "      <td>10912996.14</td>\n",
              "      <td>0.498972</td>\n",
              "      <td>0.1605</td>\n",
              "    </tr>\n",
              "    <tr>\n",
              "      <th>66</th>\n",
              "      <td>2020.0</td>\n",
              "      <td>126137528</td>\n",
              "      <td>11282645.58</td>\n",
              "      <td>0.515873</td>\n",
              "      <td>0.1659</td>\n",
              "    </tr>\n",
              "    <tr>\n",
              "      <th>67</th>\n",
              "      <td>2020.0</td>\n",
              "      <td>129613743</td>\n",
              "      <td>11478264.92</td>\n",
              "      <td>0.514683</td>\n",
              "      <td>0.1685</td>\n",
              "    </tr>\n",
              "    <tr>\n",
              "      <th>68</th>\n",
              "      <td>2021.0</td>\n",
              "      <td>132594791</td>\n",
              "      <td>11876158.44</td>\n",
              "      <td>0.532524</td>\n",
              "      <td>0.1740</td>\n",
              "    </tr>\n",
              "  </tbody>\n",
              "</table>\n",
              "<p>69 rows × 5 columns</p>\n",
              "</div>"
            ],
            "text/plain": [
              "      year  value_mobile  value_subscriber  value_household  value_population\n",
              "0   2004.0      18763102         785931.00         0.001556            0.0005\n",
              "1   2004.0      19788956         914400.00         0.002265            0.0007\n",
              "2   2004.0      20655866        1091652.00         0.004964            0.0015\n",
              "3   2004.0      21616910        1231344.00         0.008716            0.0026\n",
              "4   2005.0      23217311        1197942.00         0.015449            0.0045\n",
              "..     ...           ...               ...              ...               ...\n",
              "64  2020.0     122173569       10264995.67         0.469344            0.1510\n",
              "65  2020.0     124366678       10912996.14         0.498972            0.1605\n",
              "66  2020.0     126137528       11282645.58         0.515873            0.1659\n",
              "67  2020.0     129613743       11478264.92         0.514683            0.1685\n",
              "68  2021.0     132594791       11876158.44         0.532524            0.1740\n",
              "\n",
              "[69 rows x 5 columns]"
            ]
          },
          "metadata": {},
          "execution_count": 36
        }
      ]
    },
    {
      "cell_type": "code",
      "metadata": {
        "id": "9j-xwkJ1eBF4"
      },
      "source": [
        "import matplotlib.pyplot as plt"
      ],
      "execution_count": 38,
      "outputs": []
    },
    {
      "cell_type": "code",
      "metadata": {
        "id": "aIzCPGa1c6qJ",
        "outputId": "cad4b020-dace-43bb-ff30-77903b95054f",
        "colab": {
          "base_uri": "https://localhost:8080/",
          "height": 306
        }
      },
      "source": [
        "plt.scatter(t1['year'],t1['value_subscriber'],c='r', label='subscriber')\n",
        "plt.scatter(t1['year'],t1['value_household'],c='m', label='household')\n",
        "plt.scatter(t1['year'],t1['value_population'],c='b', label='population')\n",
        "plt.scatter(t1['year'],t1['value_mobile'],c='g', label='mobile')\n",
        "\n",
        "plt.ylabel('variable value')\n",
        "plt.xticks(t1['year']+1.1,t1['year'],rotation=-90)  # rotation คือหมุนตัวหนังสือไม่ให้ทับกัน\n",
        "plt.title('compare relationship')\n",
        "plt.legend();"
      ],
      "execution_count": 40,
      "outputs": [
        {
          "output_type": "display_data",
          "data": {
            "image/png": "[encoded data removed]",
            "text/plain": [
              "<Figure size 432x288 with 1 Axes>"
            ]
          },
          "metadata": {
            "needs_background": "light"
          }
        }
      ]
    },
    {
      "cell_type": "code",
      "metadata": {
        "id": "4gyIlTE5c6nB",
        "outputId": "c0c79b89-045a-4dd9-ccce-370158f4b3a3",
        "colab": {
          "base_uri": "https://localhost:8080/",
          "height": 306
        }
      },
      "source": [
        "plt.scatter(t1['year'],t1['value_subscriber'],c='r', label='subscriber')\n",
        "plt.scatter(t1['year'],t1['value_mobile'],c='g', label='mobile')\n",
        "\n",
        "plt.ylabel('variable value')\n",
        "plt.xticks(t1['year']+1.1,t1['year'],rotation=-90)  # rotation คือหมุนตัวหนังสือไม่ให้ทับกัน\n",
        "plt.title('compare relationship')\n",
        "plt.legend();"
      ],
      "execution_count": 41,
      "outputs": [
        {
          "output_type": "display_data",
          "data": {
            "image/png": "[encoded data removed]",
            "text/plain": [
              "<Figure size 432x288 with 1 Axes>"
            ]
          },
          "metadata": {
            "needs_background": "light"
          }
        }
      ]
    },
    {
      "cell_type": "code",
      "metadata": {
        "id": "Jfh84WATc6ki",
        "outputId": "34272be5-613a-4fed-d190-48e201ee6905",
        "colab": {
          "base_uri": "https://localhost:8080/",
          "height": 306
        }
      },
      "source": [
        "plt.scatter(t1['year'],t1['value_household'],c='m', label='household')\n",
        "plt.scatter(t1['year'],t1['value_population'],c='b', label='population')\n",
        "\n",
        "plt.ylabel('variable value')\n",
        "plt.xticks(t1['year']+1.1,t1['year'],rotation=-90)  # rotation คือหมุนตัวหนังสือไม่ให้ทับกัน\n",
        "plt.title('compare relationship')\n",
        "plt.legend();"
      ],
      "execution_count": 42,
      "outputs": [
        {
          "output_type": "display_data",
          "data": {
            "image/png": "[encoded data removed]",
            "text/plain": [
              "<Figure size 432x288 with 1 Axes>"
            ]
          },
          "metadata": {
            "needs_background": "light"
          }
        }
      ]
    },
    {
      "cell_type": "markdown",
      "metadata": {
        "id": "ow7Zey39FOIK"
      },
      "source": [
        "## ตัดตารางให้เหลือแต่กลุ่มของ column ที่ต้องการใช้"
      ]
    },
    {
      "cell_type": "code",
      "metadata": {
        "colab": {
          "base_uri": "https://localhost:8080/"
        },
        "id": "jjzCY50NFtTf",
        "outputId": "9478c45a-8857-4df1-9da0-87da6196f770"
      },
      "source": [
        "merge_table3_drop.columns  # เรียกดูชื่อ column"
      ],
      "execution_count": 96,
      "outputs": [
        {
          "output_type": "execute_result",
          "data": {
            "text/plain": [
              "Index(['no.', 'Mobile Market Report', 'value_mobile', 'quarter',\n",
              "       'Thailand Internet Users_subscriber', 'year', 'value_subscriber',\n",
              "       'type_population', 'value_population', 'type_household',\n",
              "       'value_household', 'subscriber_group', 'household_group',\n",
              "       'population_group', 'mobile_group'],\n",
              "      dtype='object')"
            ]
          },
          "metadata": {},
          "execution_count": 96
        }
      ]
    },
    {
      "cell_type": "code",
      "metadata": {
        "colab": {
          "base_uri": "https://localhost:8080/",
          "height": 422
        },
        "id": "kqfuAptGFc17",
        "outputId": "63503d96-6d31-46b3-d839-3883b425630f"
      },
      "source": [
        "data_cut = merge_table3_drop[['year', 'subscriber_group', 'household_group', 'population_group', 'mobile_group']]\n",
        "data_cut"
      ],
      "execution_count": 97,
      "outputs": [
        {
          "output_type": "execute_result",
          "data": {
            "text/html": [
              "<div>\n",
              "<style scoped>\n",
              "    .dataframe tbody tr th:only-of-type {\n",
              "        vertical-align: middle;\n",
              "    }\n",
              "\n",
              "    .dataframe tbody tr th {\n",
              "        vertical-align: top;\n",
              "    }\n",
              "\n",
              "    .dataframe thead th {\n",
              "        text-align: right;\n",
              "    }\n",
              "</style>\n",
              "<table border=\"1\" class=\"dataframe\">\n",
              "  <thead>\n",
              "    <tr style=\"text-align: right;\">\n",
              "      <th></th>\n",
              "      <th>year</th>\n",
              "      <th>subscriber_group</th>\n",
              "      <th>household_group</th>\n",
              "      <th>population_group</th>\n",
              "      <th>mobile_group</th>\n",
              "    </tr>\n",
              "  </thead>\n",
              "  <tbody>\n",
              "    <tr>\n",
              "      <th>0</th>\n",
              "      <td>2004.0</td>\n",
              "      <td>low</td>\n",
              "      <td>low</td>\n",
              "      <td>low</td>\n",
              "      <td>low</td>\n",
              "    </tr>\n",
              "    <tr>\n",
              "      <th>1</th>\n",
              "      <td>2004.0</td>\n",
              "      <td>low</td>\n",
              "      <td>low</td>\n",
              "      <td>low</td>\n",
              "      <td>low</td>\n",
              "    </tr>\n",
              "    <tr>\n",
              "      <th>2</th>\n",
              "      <td>2004.0</td>\n",
              "      <td>low</td>\n",
              "      <td>low</td>\n",
              "      <td>low</td>\n",
              "      <td>low</td>\n",
              "    </tr>\n",
              "    <tr>\n",
              "      <th>3</th>\n",
              "      <td>2004.0</td>\n",
              "      <td>low</td>\n",
              "      <td>low</td>\n",
              "      <td>low</td>\n",
              "      <td>low</td>\n",
              "    </tr>\n",
              "    <tr>\n",
              "      <th>4</th>\n",
              "      <td>2005.0</td>\n",
              "      <td>low</td>\n",
              "      <td>low</td>\n",
              "      <td>low</td>\n",
              "      <td>low</td>\n",
              "    </tr>\n",
              "    <tr>\n",
              "      <th>...</th>\n",
              "      <td>...</td>\n",
              "      <td>...</td>\n",
              "      <td>...</td>\n",
              "      <td>...</td>\n",
              "      <td>...</td>\n",
              "    </tr>\n",
              "    <tr>\n",
              "      <th>64</th>\n",
              "      <td>2020.0</td>\n",
              "      <td>high</td>\n",
              "      <td>high</td>\n",
              "      <td>high</td>\n",
              "      <td>high</td>\n",
              "    </tr>\n",
              "    <tr>\n",
              "      <th>65</th>\n",
              "      <td>2020.0</td>\n",
              "      <td>high</td>\n",
              "      <td>high</td>\n",
              "      <td>high</td>\n",
              "      <td>high</td>\n",
              "    </tr>\n",
              "    <tr>\n",
              "      <th>66</th>\n",
              "      <td>2020.0</td>\n",
              "      <td>high</td>\n",
              "      <td>high</td>\n",
              "      <td>high</td>\n",
              "      <td>high</td>\n",
              "    </tr>\n",
              "    <tr>\n",
              "      <th>67</th>\n",
              "      <td>2020.0</td>\n",
              "      <td>high</td>\n",
              "      <td>high</td>\n",
              "      <td>high</td>\n",
              "      <td>high</td>\n",
              "    </tr>\n",
              "    <tr>\n",
              "      <th>68</th>\n",
              "      <td>2021.0</td>\n",
              "      <td>high</td>\n",
              "      <td>high</td>\n",
              "      <td>high</td>\n",
              "      <td>high</td>\n",
              "    </tr>\n",
              "  </tbody>\n",
              "</table>\n",
              "<p>69 rows × 5 columns</p>\n",
              "</div>"
            ],
            "text/plain": [
              "      year subscriber_group household_group population_group mobile_group\n",
              "0   2004.0              low             low              low          low\n",
              "1   2004.0              low             low              low          low\n",
              "2   2004.0              low             low              low          low\n",
              "3   2004.0              low             low              low          low\n",
              "4   2005.0              low             low              low          low\n",
              "..     ...              ...             ...              ...          ...\n",
              "64  2020.0             high            high             high         high\n",
              "65  2020.0             high            high             high         high\n",
              "66  2020.0             high            high             high         high\n",
              "67  2020.0             high            high             high         high\n",
              "68  2021.0             high            high             high         high\n",
              "\n",
              "[69 rows x 5 columns]"
            ]
          },
          "metadata": {},
          "execution_count": 97
        }
      ]
    },
    {
      "cell_type": "code",
      "metadata": {
        "colab": {
          "base_uri": "https://localhost:8080/"
        },
        "id": "WW5SfM_u6jrx",
        "outputId": "68f13660-b8d8-4436-9b8e-baf5a914558c"
      },
      "source": [
        "data_cut.shape"
      ],
      "execution_count": 98,
      "outputs": [
        {
          "output_type": "execute_result",
          "data": {
            "text/plain": [
              "(69, 5)"
            ]
          },
          "metadata": {},
          "execution_count": 98
        }
      ]
    },
    {
      "cell_type": "markdown",
      "metadata": {
        "id": "efddsvbLPsbr"
      },
      "source": [
        "# Assosiation ตาราง data_cut"
      ]
    },
    {
      "cell_type": "markdown",
      "metadata": {
        "id": "4H28SziTPwjx"
      },
      "source": [
        "**โดยกำหนดให้**\n",
        "**Transection** คือ ข้อมูล Internet ความเร็วสูง\n",
        "\n",
        "**item** คือ low , median , high\n",
        "\n",
        "**ค่าสนับสนุน (Support)** คือ เปอร์เซ็นต์ของจำนวน Item sets ทั้งหมดที่เกิดขึ้นในฐานข้อมูล\n",
        "\n",
        "**ค่าความเชื่อมั่น (Confidence)** คือ เปอร์เซ็นต์ของจำนวน Item sets ทั้งหมดที่เกิดขึ้นในฐานข้อมูลต่อจำนวน Item sets ที่เกิดขึ้น\n",
        "\n",
        "**ค่าสหสัมพันธ์ (Lift)** คือ ค่าที่บ่งบอกว่ากฎมีความสัมพันธ์กัน หรือไม่ โดยถ้า Lift มีค่ามากกว่า 1 แสดงว่ากฎทั้งสองมีความสัมพันธ์กัน"
      ]
    },
    {
      "cell_type": "code",
      "metadata": {
        "id": "mR2Ajf0ywkSr"
      },
      "source": [
        "transactions = data_cut.groupby('year').apply(list)"
      ],
      "execution_count": 99,
      "outputs": []
    },
    {
      "cell_type": "markdown",
      "metadata": {
        "id": "80K5o5tCxBMY"
      },
      "source": [
        "transactions = []\n",
        "for i in range(0,len(data_cut)):#เริ่มจาก i ตั้งแต่ 0 ถึง 10000000\n",
        "  transactions.append([str(data_cut.values[i,j]) for j in range(0,4)]) # คือการดูข้อมูลตาม column\n",
        "transactions"
      ]
    },
    {
      "cell_type": "code",
      "metadata": {
        "colab": {
          "base_uri": "https://localhost:8080/"
        },
        "id": "tAY-eeEEJnux",
        "outputId": "c9b1818e-a536-4e72-876e-751c1c5d353e"
      },
      "source": [
        "!pip install apyori  # ทำการติดตั้งแพ็คเกจ apyori"
      ],
      "execution_count": 100,
      "outputs": [
        {
          "output_type": "stream",
          "name": "stdout",
          "text": [
            "Requirement already satisfied: apyori in /usr/local/lib/python3.7/dist-packages (1.1.2)\n"
          ]
        }
      ]
    },
    {
      "cell_type": "code",
      "metadata": {
        "id": "bNKUU11dKSDn"
      },
      "source": [
        "from apyori import apriori"
      ],
      "execution_count": 101,
      "outputs": []
    },
    {
      "cell_type": "code",
      "metadata": {
        "colab": {
          "base_uri": "https://localhost:8080/"
        },
        "id": "AjJmLpGMJt6q",
        "outputId": "7e6f3612-bc91-4b7b-d9a1-fd57b387634c"
      },
      "source": [
        "Asso = list(apriori(transactions,min_support = 0.6, min_cofidence = 0.8))\n",
        "Asso\n",
        "# min_support คือ ค่าสนับสนุนต่ำสุดที่ยอมรับได้ ต่ำกว่านี้จะไม่นำไปวิเคราะห์\n",
        "# min_confidence คือ ค่าเชื่อมั่นต่ำสุดที่สนใจ "
      ],
      "execution_count": 102,
      "outputs": [
        {
          "output_type": "execute_result",
          "data": {
            "text/plain": [
              "[RelationRecord(items=frozenset({'household_group'}), support=1.0, ordered_statistics=[OrderedStatistic(items_base=frozenset(), items_add=frozenset({'household_group'}), confidence=1.0, lift=1.0)]),\n",
              " RelationRecord(items=frozenset({'mobile_group'}), support=1.0, ordered_statistics=[OrderedStatistic(items_base=frozenset(), items_add=frozenset({'mobile_group'}), confidence=1.0, lift=1.0)]),\n",
              " RelationRecord(items=frozenset({'population_group'}), support=1.0, ordered_statistics=[OrderedStatistic(items_base=frozenset(), items_add=frozenset({'population_group'}), confidence=1.0, lift=1.0)]),\n",
              " RelationRecord(items=frozenset({'subscriber_group'}), support=1.0, ordered_statistics=[OrderedStatistic(items_base=frozenset(), items_add=frozenset({'subscriber_group'}), confidence=1.0, lift=1.0)]),\n",
              " RelationRecord(items=frozenset({'year'}), support=1.0, ordered_statistics=[OrderedStatistic(items_base=frozenset(), items_add=frozenset({'year'}), confidence=1.0, lift=1.0)]),\n",
              " RelationRecord(items=frozenset({'household_group', 'mobile_group'}), support=1.0, ordered_statistics=[OrderedStatistic(items_base=frozenset(), items_add=frozenset({'household_group', 'mobile_group'}), confidence=1.0, lift=1.0), OrderedStatistic(items_base=frozenset({'household_group'}), items_add=frozenset({'mobile_group'}), confidence=1.0, lift=1.0), OrderedStatistic(items_base=frozenset({'mobile_group'}), items_add=frozenset({'household_group'}), confidence=1.0, lift=1.0)]),\n",
              " RelationRecord(items=frozenset({'household_group', 'population_group'}), support=1.0, ordered_statistics=[OrderedStatistic(items_base=frozenset(), items_add=frozenset({'household_group', 'population_group'}), confidence=1.0, lift=1.0), OrderedStatistic(items_base=frozenset({'household_group'}), items_add=frozenset({'population_group'}), confidence=1.0, lift=1.0), OrderedStatistic(items_base=frozenset({'population_group'}), items_add=frozenset({'household_group'}), confidence=1.0, lift=1.0)]),\n",
              " RelationRecord(items=frozenset({'subscriber_group', 'household_group'}), support=1.0, ordered_statistics=[OrderedStatistic(items_base=frozenset(), items_add=frozenset({'subscriber_group', 'household_group'}), confidence=1.0, lift=1.0), OrderedStatistic(items_base=frozenset({'household_group'}), items_add=frozenset({'subscriber_group'}), confidence=1.0, lift=1.0), OrderedStatistic(items_base=frozenset({'subscriber_group'}), items_add=frozenset({'household_group'}), confidence=1.0, lift=1.0)]),\n",
              " RelationRecord(items=frozenset({'year', 'household_group'}), support=1.0, ordered_statistics=[OrderedStatistic(items_base=frozenset(), items_add=frozenset({'year', 'household_group'}), confidence=1.0, lift=1.0), OrderedStatistic(items_base=frozenset({'household_group'}), items_add=frozenset({'year'}), confidence=1.0, lift=1.0), OrderedStatistic(items_base=frozenset({'year'}), items_add=frozenset({'household_group'}), confidence=1.0, lift=1.0)]),\n",
              " RelationRecord(items=frozenset({'population_group', 'mobile_group'}), support=1.0, ordered_statistics=[OrderedStatistic(items_base=frozenset(), items_add=frozenset({'population_group', 'mobile_group'}), confidence=1.0, lift=1.0), OrderedStatistic(items_base=frozenset({'mobile_group'}), items_add=frozenset({'population_group'}), confidence=1.0, lift=1.0), OrderedStatistic(items_base=frozenset({'population_group'}), items_add=frozenset({'mobile_group'}), confidence=1.0, lift=1.0)]),\n",
              " RelationRecord(items=frozenset({'subscriber_group', 'mobile_group'}), support=1.0, ordered_statistics=[OrderedStatistic(items_base=frozenset(), items_add=frozenset({'subscriber_group', 'mobile_group'}), confidence=1.0, lift=1.0), OrderedStatistic(items_base=frozenset({'mobile_group'}), items_add=frozenset({'subscriber_group'}), confidence=1.0, lift=1.0), OrderedStatistic(items_base=frozenset({'subscriber_group'}), items_add=frozenset({'mobile_group'}), confidence=1.0, lift=1.0)]),\n",
              " RelationRecord(items=frozenset({'year', 'mobile_group'}), support=1.0, ordered_statistics=[OrderedStatistic(items_base=frozenset(), items_add=frozenset({'year', 'mobile_group'}), confidence=1.0, lift=1.0), OrderedStatistic(items_base=frozenset({'mobile_group'}), items_add=frozenset({'year'}), confidence=1.0, lift=1.0), OrderedStatistic(items_base=frozenset({'year'}), items_add=frozenset({'mobile_group'}), confidence=1.0, lift=1.0)]),\n",
              " RelationRecord(items=frozenset({'subscriber_group', 'population_group'}), support=1.0, ordered_statistics=[OrderedStatistic(items_base=frozenset(), items_add=frozenset({'subscriber_group', 'population_group'}), confidence=1.0, lift=1.0), OrderedStatistic(items_base=frozenset({'population_group'}), items_add=frozenset({'subscriber_group'}), confidence=1.0, lift=1.0), OrderedStatistic(items_base=frozenset({'subscriber_group'}), items_add=frozenset({'population_group'}), confidence=1.0, lift=1.0)]),\n",
              " RelationRecord(items=frozenset({'year', 'population_group'}), support=1.0, ordered_statistics=[OrderedStatistic(items_base=frozenset(), items_add=frozenset({'year', 'population_group'}), confidence=1.0, lift=1.0), OrderedStatistic(items_base=frozenset({'population_group'}), items_add=frozenset({'year'}), confidence=1.0, lift=1.0), OrderedStatistic(items_base=frozenset({'year'}), items_add=frozenset({'population_group'}), confidence=1.0, lift=1.0)]),\n",
              " RelationRecord(items=frozenset({'subscriber_group', 'year'}), support=1.0, ordered_statistics=[OrderedStatistic(items_base=frozenset(), items_add=frozenset({'subscriber_group', 'year'}), confidence=1.0, lift=1.0), OrderedStatistic(items_base=frozenset({'subscriber_group'}), items_add=frozenset({'year'}), confidence=1.0, lift=1.0), OrderedStatistic(items_base=frozenset({'year'}), items_add=frozenset({'subscriber_group'}), confidence=1.0, lift=1.0)]),\n",
              " RelationRecord(items=frozenset({'household_group', 'population_group', 'mobile_group'}), support=1.0, ordered_statistics=[OrderedStatistic(items_base=frozenset(), items_add=frozenset({'household_group', 'population_group', 'mobile_group'}), confidence=1.0, lift=1.0), OrderedStatistic(items_base=frozenset({'household_group'}), items_add=frozenset({'population_group', 'mobile_group'}), confidence=1.0, lift=1.0), OrderedStatistic(items_base=frozenset({'mobile_group'}), items_add=frozenset({'household_group', 'population_group'}), confidence=1.0, lift=1.0), OrderedStatistic(items_base=frozenset({'population_group'}), items_add=frozenset({'household_group', 'mobile_group'}), confidence=1.0, lift=1.0), OrderedStatistic(items_base=frozenset({'household_group', 'mobile_group'}), items_add=frozenset({'population_group'}), confidence=1.0, lift=1.0), OrderedStatistic(items_base=frozenset({'household_group', 'population_group'}), items_add=frozenset({'mobile_group'}), confidence=1.0, lift=1.0), OrderedStatistic(items_base=frozenset({'population_group', 'mobile_group'}), items_add=frozenset({'household_group'}), confidence=1.0, lift=1.0)]),\n",
              " RelationRecord(items=frozenset({'subscriber_group', 'household_group', 'mobile_group'}), support=1.0, ordered_statistics=[OrderedStatistic(items_base=frozenset(), items_add=frozenset({'subscriber_group', 'household_group', 'mobile_group'}), confidence=1.0, lift=1.0), OrderedStatistic(items_base=frozenset({'household_group'}), items_add=frozenset({'subscriber_group', 'mobile_group'}), confidence=1.0, lift=1.0), OrderedStatistic(items_base=frozenset({'mobile_group'}), items_add=frozenset({'subscriber_group', 'household_group'}), confidence=1.0, lift=1.0), OrderedStatistic(items_base=frozenset({'subscriber_group'}), items_add=frozenset({'household_group', 'mobile_group'}), confidence=1.0, lift=1.0), OrderedStatistic(items_base=frozenset({'household_group', 'mobile_group'}), items_add=frozenset({'subscriber_group'}), confidence=1.0, lift=1.0), OrderedStatistic(items_base=frozenset({'subscriber_group', 'household_group'}), items_add=frozenset({'mobile_group'}), confidence=1.0, lift=1.0), OrderedStatistic(items_base=frozenset({'subscriber_group', 'mobile_group'}), items_add=frozenset({'household_group'}), confidence=1.0, lift=1.0)]),\n",
              " RelationRecord(items=frozenset({'year', 'household_group', 'mobile_group'}), support=1.0, ordered_statistics=[OrderedStatistic(items_base=frozenset(), items_add=frozenset({'year', 'household_group', 'mobile_group'}), confidence=1.0, lift=1.0), OrderedStatistic(items_base=frozenset({'household_group'}), items_add=frozenset({'year', 'mobile_group'}), confidence=1.0, lift=1.0), OrderedStatistic(items_base=frozenset({'mobile_group'}), items_add=frozenset({'year', 'household_group'}), confidence=1.0, lift=1.0), OrderedStatistic(items_base=frozenset({'year'}), items_add=frozenset({'household_group', 'mobile_group'}), confidence=1.0, lift=1.0), OrderedStatistic(items_base=frozenset({'household_group', 'mobile_group'}), items_add=frozenset({'year'}), confidence=1.0, lift=1.0), OrderedStatistic(items_base=frozenset({'year', 'household_group'}), items_add=frozenset({'mobile_group'}), confidence=1.0, lift=1.0), OrderedStatistic(items_base=frozenset({'year', 'mobile_group'}), items_add=frozenset({'household_group'}), confidence=1.0, lift=1.0)]),\n",
              " RelationRecord(items=frozenset({'subscriber_group', 'household_group', 'population_group'}), support=1.0, ordered_statistics=[OrderedStatistic(items_base=frozenset(), items_add=frozenset({'subscriber_group', 'household_group', 'population_group'}), confidence=1.0, lift=1.0), OrderedStatistic(items_base=frozenset({'household_group'}), items_add=frozenset({'subscriber_group', 'population_group'}), confidence=1.0, lift=1.0), OrderedStatistic(items_base=frozenset({'population_group'}), items_add=frozenset({'subscriber_group', 'household_group'}), confidence=1.0, lift=1.0), OrderedStatistic(items_base=frozenset({'subscriber_group'}), items_add=frozenset({'household_group', 'population_group'}), confidence=1.0, lift=1.0), OrderedStatistic(items_base=frozenset({'household_group', 'population_group'}), items_add=frozenset({'subscriber_group'}), confidence=1.0, lift=1.0), OrderedStatistic(items_base=frozenset({'subscriber_group', 'household_group'}), items_add=frozenset({'population_group'}), confidence=1.0, lift=1.0), OrderedStatistic(items_base=frozenset({'subscriber_group', 'population_group'}), items_add=frozenset({'household_group'}), confidence=1.0, lift=1.0)]),\n",
              " RelationRecord(items=frozenset({'year', 'household_group', 'population_group'}), support=1.0, ordered_statistics=[OrderedStatistic(items_base=frozenset(), items_add=frozenset({'year', 'household_group', 'population_group'}), confidence=1.0, lift=1.0), OrderedStatistic(items_base=frozenset({'household_group'}), items_add=frozenset({'year', 'population_group'}), confidence=1.0, lift=1.0), OrderedStatistic(items_base=frozenset({'population_group'}), items_add=frozenset({'year', 'household_group'}), confidence=1.0, lift=1.0), OrderedStatistic(items_base=frozenset({'year'}), items_add=frozenset({'household_group', 'population_group'}), confidence=1.0, lift=1.0), OrderedStatistic(items_base=frozenset({'household_group', 'population_group'}), items_add=frozenset({'year'}), confidence=1.0, lift=1.0), OrderedStatistic(items_base=frozenset({'year', 'household_group'}), items_add=frozenset({'population_group'}), confidence=1.0, lift=1.0), OrderedStatistic(items_base=frozenset({'year', 'population_group'}), items_add=frozenset({'household_group'}), confidence=1.0, lift=1.0)]),\n",
              " RelationRecord(items=frozenset({'subscriber_group', 'year', 'household_group'}), support=1.0, ordered_statistics=[OrderedStatistic(items_base=frozenset(), items_add=frozenset({'subscriber_group', 'year', 'household_group'}), confidence=1.0, lift=1.0), OrderedStatistic(items_base=frozenset({'household_group'}), items_add=frozenset({'subscriber_group', 'year'}), confidence=1.0, lift=1.0), OrderedStatistic(items_base=frozenset({'subscriber_group'}), items_add=frozenset({'year', 'household_group'}), confidence=1.0, lift=1.0), OrderedStatistic(items_base=frozenset({'year'}), items_add=frozenset({'subscriber_group', 'household_group'}), confidence=1.0, lift=1.0), OrderedStatistic(items_base=frozenset({'subscriber_group', 'household_group'}), items_add=frozenset({'year'}), confidence=1.0, lift=1.0), OrderedStatistic(items_base=frozenset({'year', 'household_group'}), items_add=frozenset({'subscriber_group'}), confidence=1.0, lift=1.0), OrderedStatistic(items_base=frozenset({'subscriber_group', 'year'}), items_add=frozenset({'household_group'}), confidence=1.0, lift=1.0)]),\n",
              " RelationRecord(items=frozenset({'subscriber_group', 'population_group', 'mobile_group'}), support=1.0, ordered_statistics=[OrderedStatistic(items_base=frozenset(), items_add=frozenset({'subscriber_group', 'population_group', 'mobile_group'}), confidence=1.0, lift=1.0), OrderedStatistic(items_base=frozenset({'mobile_group'}), items_add=frozenset({'subscriber_group', 'population_group'}), confidence=1.0, lift=1.0), OrderedStatistic(items_base=frozenset({'population_group'}), items_add=frozenset({'subscriber_group', 'mobile_group'}), confidence=1.0, lift=1.0), OrderedStatistic(items_base=frozenset({'subscriber_group'}), items_add=frozenset({'population_group', 'mobile_group'}), confidence=1.0, lift=1.0), OrderedStatistic(items_base=frozenset({'population_group', 'mobile_group'}), items_add=frozenset({'subscriber_group'}), confidence=1.0, lift=1.0), OrderedStatistic(items_base=frozenset({'subscriber_group', 'mobile_group'}), items_add=frozenset({'population_group'}), confidence=1.0, lift=1.0), OrderedStatistic(items_base=frozenset({'subscriber_group', 'population_group'}), items_add=frozenset({'mobile_group'}), confidence=1.0, lift=1.0)]),\n",
              " RelationRecord(items=frozenset({'year', 'population_group', 'mobile_group'}), support=1.0, ordered_statistics=[OrderedStatistic(items_base=frozenset(), items_add=frozenset({'year', 'population_group', 'mobile_group'}), confidence=1.0, lift=1.0), OrderedStatistic(items_base=frozenset({'mobile_group'}), items_add=frozenset({'year', 'population_group'}), confidence=1.0, lift=1.0), OrderedStatistic(items_base=frozenset({'population_group'}), items_add=frozenset({'year', 'mobile_group'}), confidence=1.0, lift=1.0), OrderedStatistic(items_base=frozenset({'year'}), items_add=frozenset({'population_group', 'mobile_group'}), confidence=1.0, lift=1.0), OrderedStatistic(items_base=frozenset({'population_group', 'mobile_group'}), items_add=frozenset({'year'}), confidence=1.0, lift=1.0), OrderedStatistic(items_base=frozenset({'year', 'mobile_group'}), items_add=frozenset({'population_group'}), confidence=1.0, lift=1.0), OrderedStatistic(items_base=frozenset({'year', 'population_group'}), items_add=frozenset({'mobile_group'}), confidence=1.0, lift=1.0)]),\n",
              " RelationRecord(items=frozenset({'subscriber_group', 'year', 'mobile_group'}), support=1.0, ordered_statistics=[OrderedStatistic(items_base=frozenset(), items_add=frozenset({'subscriber_group', 'year', 'mobile_group'}), confidence=1.0, lift=1.0), OrderedStatistic(items_base=frozenset({'mobile_group'}), items_add=frozenset({'subscriber_group', 'year'}), confidence=1.0, lift=1.0), OrderedStatistic(items_base=frozenset({'subscriber_group'}), items_add=frozenset({'year', 'mobile_group'}), confidence=1.0, lift=1.0), OrderedStatistic(items_base=frozenset({'year'}), items_add=frozenset({'subscriber_group', 'mobile_group'}), confidence=1.0, lift=1.0), OrderedStatistic(items_base=frozenset({'subscriber_group', 'mobile_group'}), items_add=frozenset({'year'}), confidence=1.0, lift=1.0), OrderedStatistic(items_base=frozenset({'year', 'mobile_group'}), items_add=frozenset({'subscriber_group'}), confidence=1.0, lift=1.0), OrderedStatistic(items_base=frozenset({'subscriber_group', 'year'}), items_add=frozenset({'mobile_group'}), confidence=1.0, lift=1.0)]),\n",
              " RelationRecord(items=frozenset({'subscriber_group', 'year', 'population_group'}), support=1.0, ordered_statistics=[OrderedStatistic(items_base=frozenset(), items_add=frozenset({'subscriber_group', 'year', 'population_group'}), confidence=1.0, lift=1.0), OrderedStatistic(items_base=frozenset({'population_group'}), items_add=frozenset({'subscriber_group', 'year'}), confidence=1.0, lift=1.0), OrderedStatistic(items_base=frozenset({'subscriber_group'}), items_add=frozenset({'year', 'population_group'}), confidence=1.0, lift=1.0), OrderedStatistic(items_base=frozenset({'year'}), items_add=frozenset({'subscriber_group', 'population_group'}), confidence=1.0, lift=1.0), OrderedStatistic(items_base=frozenset({'subscriber_group', 'population_group'}), items_add=frozenset({'year'}), confidence=1.0, lift=1.0), OrderedStatistic(items_base=frozenset({'year', 'population_group'}), items_add=frozenset({'subscriber_group'}), confidence=1.0, lift=1.0), OrderedStatistic(items_base=frozenset({'subscriber_group', 'year'}), items_add=frozenset({'population_group'}), confidence=1.0, lift=1.0)]),\n",
              " RelationRecord(items=frozenset({'subscriber_group', 'household_group', 'population_group', 'mobile_group'}), support=1.0, ordered_statistics=[OrderedStatistic(items_base=frozenset(), items_add=frozenset({'subscriber_group', 'household_group', 'population_group', 'mobile_group'}), confidence=1.0, lift=1.0), OrderedStatistic(items_base=frozenset({'household_group'}), items_add=frozenset({'subscriber_group', 'population_group', 'mobile_group'}), confidence=1.0, lift=1.0), OrderedStatistic(items_base=frozenset({'mobile_group'}), items_add=frozenset({'subscriber_group', 'household_group', 'population_group'}), confidence=1.0, lift=1.0), OrderedStatistic(items_base=frozenset({'population_group'}), items_add=frozenset({'subscriber_group', 'household_group', 'mobile_group'}), confidence=1.0, lift=1.0), OrderedStatistic(items_base=frozenset({'subscriber_group'}), items_add=frozenset({'household_group', 'population_group', 'mobile_group'}), confidence=1.0, lift=1.0), OrderedStatistic(items_base=frozenset({'household_group', 'mobile_group'}), items_add=frozenset({'subscriber_group', 'population_group'}), confidence=1.0, lift=1.0), OrderedStatistic(items_base=frozenset({'household_group', 'population_group'}), items_add=frozenset({'subscriber_group', 'mobile_group'}), confidence=1.0, lift=1.0), OrderedStatistic(items_base=frozenset({'subscriber_group', 'household_group'}), items_add=frozenset({'population_group', 'mobile_group'}), confidence=1.0, lift=1.0), OrderedStatistic(items_base=frozenset({'population_group', 'mobile_group'}), items_add=frozenset({'subscriber_group', 'household_group'}), confidence=1.0, lift=1.0), OrderedStatistic(items_base=frozenset({'subscriber_group', 'mobile_group'}), items_add=frozenset({'household_group', 'population_group'}), confidence=1.0, lift=1.0), OrderedStatistic(items_base=frozenset({'subscriber_group', 'population_group'}), items_add=frozenset({'household_group', 'mobile_group'}), confidence=1.0, lift=1.0), OrderedStatistic(items_base=frozenset({'household_group', 'population_group', 'mobile_group'}), items_add=frozenset({'subscriber_group'}), confidence=1.0, lift=1.0), OrderedStatistic(items_base=frozenset({'subscriber_group', 'household_group', 'mobile_group'}), items_add=frozenset({'population_group'}), confidence=1.0, lift=1.0), OrderedStatistic(items_base=frozenset({'subscriber_group', 'household_group', 'population_group'}), items_add=frozenset({'mobile_group'}), confidence=1.0, lift=1.0), OrderedStatistic(items_base=frozenset({'subscriber_group', 'population_group', 'mobile_group'}), items_add=frozenset({'household_group'}), confidence=1.0, lift=1.0)]),\n",
              " RelationRecord(items=frozenset({'year', 'household_group', 'population_group', 'mobile_group'}), support=1.0, ordered_statistics=[OrderedStatistic(items_base=frozenset(), items_add=frozenset({'year', 'household_group', 'population_group', 'mobile_group'}), confidence=1.0, lift=1.0), OrderedStatistic(items_base=frozenset({'household_group'}), items_add=frozenset({'year', 'population_group', 'mobile_group'}), confidence=1.0, lift=1.0), OrderedStatistic(items_base=frozenset({'mobile_group'}), items_add=frozenset({'year', 'household_group', 'population_group'}), confidence=1.0, lift=1.0), OrderedStatistic(items_base=frozenset({'population_group'}), items_add=frozenset({'year', 'household_group', 'mobile_group'}), confidence=1.0, lift=1.0), OrderedStatistic(items_base=frozenset({'year'}), items_add=frozenset({'household_group', 'population_group', 'mobile_group'}), confidence=1.0, lift=1.0), OrderedStatistic(items_base=frozenset({'household_group', 'mobile_group'}), items_add=frozenset({'year', 'population_group'}), confidence=1.0, lift=1.0), OrderedStatistic(items_base=frozenset({'household_group', 'population_group'}), items_add=frozenset({'year', 'mobile_group'}), confidence=1.0, lift=1.0), OrderedStatistic(items_base=frozenset({'year', 'household_group'}), items_add=frozenset({'population_group', 'mobile_group'}), confidence=1.0, lift=1.0), OrderedStatistic(items_base=frozenset({'population_group', 'mobile_group'}), items_add=frozenset({'year', 'household_group'}), confidence=1.0, lift=1.0), OrderedStatistic(items_base=frozenset({'year', 'mobile_group'}), items_add=frozenset({'household_group', 'population_group'}), confidence=1.0, lift=1.0), OrderedStatistic(items_base=frozenset({'year', 'population_group'}), items_add=frozenset({'household_group', 'mobile_group'}), confidence=1.0, lift=1.0), OrderedStatistic(items_base=frozenset({'household_group', 'population_group', 'mobile_group'}), items_add=frozenset({'year'}), confidence=1.0, lift=1.0), OrderedStatistic(items_base=frozenset({'year', 'household_group', 'mobile_group'}), items_add=frozenset({'population_group'}), confidence=1.0, lift=1.0), OrderedStatistic(items_base=frozenset({'year', 'household_group', 'population_group'}), items_add=frozenset({'mobile_group'}), confidence=1.0, lift=1.0), OrderedStatistic(items_base=frozenset({'year', 'population_group', 'mobile_group'}), items_add=frozenset({'household_group'}), confidence=1.0, lift=1.0)]),\n",
              " RelationRecord(items=frozenset({'subscriber_group', 'year', 'household_group', 'mobile_group'}), support=1.0, ordered_statistics=[OrderedStatistic(items_base=frozenset(), items_add=frozenset({'subscriber_group', 'year', 'household_group', 'mobile_group'}), confidence=1.0, lift=1.0), OrderedStatistic(items_base=frozenset({'household_group'}), items_add=frozenset({'subscriber_group', 'year', 'mobile_group'}), confidence=1.0, lift=1.0), OrderedStatistic(items_base=frozenset({'mobile_group'}), items_add=frozenset({'subscriber_group', 'year', 'household_group'}), confidence=1.0, lift=1.0), OrderedStatistic(items_base=frozenset({'subscriber_group'}), items_add=frozenset({'year', 'household_group', 'mobile_group'}), confidence=1.0, lift=1.0), OrderedStatistic(items_base=frozenset({'year'}), items_add=frozenset({'subscriber_group', 'household_group', 'mobile_group'}), confidence=1.0, lift=1.0), OrderedStatistic(items_base=frozenset({'household_group', 'mobile_group'}), items_add=frozenset({'subscriber_group', 'year'}), confidence=1.0, lift=1.0), OrderedStatistic(items_base=frozenset({'subscriber_group', 'household_group'}), items_add=frozenset({'year', 'mobile_group'}), confidence=1.0, lift=1.0), OrderedStatistic(items_base=frozenset({'year', 'household_group'}), items_add=frozenset({'subscriber_group', 'mobile_group'}), confidence=1.0, lift=1.0), OrderedStatistic(items_base=frozenset({'subscriber_group', 'mobile_group'}), items_add=frozenset({'year', 'household_group'}), confidence=1.0, lift=1.0), OrderedStatistic(items_base=frozenset({'year', 'mobile_group'}), items_add=frozenset({'subscriber_group', 'household_group'}), confidence=1.0, lift=1.0), OrderedStatistic(items_base=frozenset({'subscriber_group', 'year'}), items_add=frozenset({'household_group', 'mobile_group'}), confidence=1.0, lift=1.0), OrderedStatistic(items_base=frozenset({'subscriber_group', 'household_group', 'mobile_group'}), items_add=frozenset({'year'}), confidence=1.0, lift=1.0), OrderedStatistic(items_base=frozenset({'year', 'household_group', 'mobile_group'}), items_add=frozenset({'subscriber_group'}), confidence=1.0, lift=1.0), OrderedStatistic(items_base=frozenset({'subscriber_group', 'year', 'household_group'}), items_add=frozenset({'mobile_group'}), confidence=1.0, lift=1.0), OrderedStatistic(items_base=frozenset({'subscriber_group', 'year', 'mobile_group'}), items_add=frozenset({'household_group'}), confidence=1.0, lift=1.0)]),\n",
              " RelationRecord(items=frozenset({'subscriber_group', 'year', 'household_group', 'population_group'}), support=1.0, ordered_statistics=[OrderedStatistic(items_base=frozenset(), items_add=frozenset({'subscriber_group', 'year', 'household_group', 'population_group'}), confidence=1.0, lift=1.0), OrderedStatistic(items_base=frozenset({'household_group'}), items_add=frozenset({'subscriber_group', 'year', 'population_group'}), confidence=1.0, lift=1.0), OrderedStatistic(items_base=frozenset({'population_group'}), items_add=frozenset({'subscriber_group', 'year', 'household_group'}), confidence=1.0, lift=1.0), OrderedStatistic(items_base=frozenset({'subscriber_group'}), items_add=frozenset({'year', 'household_group', 'population_group'}), confidence=1.0, lift=1.0), OrderedStatistic(items_base=frozenset({'year'}), items_add=frozenset({'subscriber_group', 'household_group', 'population_group'}), confidence=1.0, lift=1.0), OrderedStatistic(items_base=frozenset({'household_group', 'population_group'}), items_add=frozenset({'subscriber_group', 'year'}), confidence=1.0, lift=1.0), OrderedStatistic(items_base=frozenset({'subscriber_group', 'household_group'}), items_add=frozenset({'year', 'population_group'}), confidence=1.0, lift=1.0), OrderedStatistic(items_base=frozenset({'year', 'household_group'}), items_add=frozenset({'subscriber_group', 'population_group'}), confidence=1.0, lift=1.0), OrderedStatistic(items_base=frozenset({'subscriber_group', 'population_group'}), items_add=frozenset({'year', 'household_group'}), confidence=1.0, lift=1.0), OrderedStatistic(items_base=frozenset({'year', 'population_group'}), items_add=frozenset({'subscriber_group', 'household_group'}), confidence=1.0, lift=1.0), OrderedStatistic(items_base=frozenset({'subscriber_group', 'year'}), items_add=frozenset({'household_group', 'population_group'}), confidence=1.0, lift=1.0), OrderedStatistic(items_base=frozenset({'subscriber_group', 'household_group', 'population_group'}), items_add=frozenset({'year'}), confidence=1.0, lift=1.0), OrderedStatistic(items_base=frozenset({'year', 'household_group', 'population_group'}), items_add=frozenset({'subscriber_group'}), confidence=1.0, lift=1.0), OrderedStatistic(items_base=frozenset({'subscriber_group', 'year', 'household_group'}), items_add=frozenset({'population_group'}), confidence=1.0, lift=1.0), OrderedStatistic(items_base=frozenset({'subscriber_group', 'year', 'population_group'}), items_add=frozenset({'household_group'}), confidence=1.0, lift=1.0)]),\n",
              " RelationRecord(items=frozenset({'subscriber_group', 'year', 'population_group', 'mobile_group'}), support=1.0, ordered_statistics=[OrderedStatistic(items_base=frozenset(), items_add=frozenset({'subscriber_group', 'year', 'population_group', 'mobile_group'}), confidence=1.0, lift=1.0), OrderedStatistic(items_base=frozenset({'mobile_group'}), items_add=frozenset({'subscriber_group', 'year', 'population_group'}), confidence=1.0, lift=1.0), OrderedStatistic(items_base=frozenset({'population_group'}), items_add=frozenset({'subscriber_group', 'year', 'mobile_group'}), confidence=1.0, lift=1.0), OrderedStatistic(items_base=frozenset({'subscriber_group'}), items_add=frozenset({'year', 'population_group', 'mobile_group'}), confidence=1.0, lift=1.0), OrderedStatistic(items_base=frozenset({'year'}), items_add=frozenset({'subscriber_group', 'population_group', 'mobile_group'}), confidence=1.0, lift=1.0), OrderedStatistic(items_base=frozenset({'population_group', 'mobile_group'}), items_add=frozenset({'subscriber_group', 'year'}), confidence=1.0, lift=1.0), OrderedStatistic(items_base=frozenset({'subscriber_group', 'mobile_group'}), items_add=frozenset({'year', 'population_group'}), confidence=1.0, lift=1.0), OrderedStatistic(items_base=frozenset({'year', 'mobile_group'}), items_add=frozenset({'subscriber_group', 'population_group'}), confidence=1.0, lift=1.0), OrderedStatistic(items_base=frozenset({'subscriber_group', 'population_group'}), items_add=frozenset({'year', 'mobile_group'}), confidence=1.0, lift=1.0), OrderedStatistic(items_base=frozenset({'year', 'population_group'}), items_add=frozenset({'subscriber_group', 'mobile_group'}), confidence=1.0, lift=1.0), OrderedStatistic(items_base=frozenset({'subscriber_group', 'year'}), items_add=frozenset({'population_group', 'mobile_group'}), confidence=1.0, lift=1.0), OrderedStatistic(items_base=frozenset({'subscriber_group', 'population_group', 'mobile_group'}), items_add=frozenset({'year'}), confidence=1.0, lift=1.0), OrderedStatistic(items_base=frozenset({'year', 'population_group', 'mobile_group'}), items_add=frozenset({'subscriber_group'}), confidence=1.0, lift=1.0), OrderedStatistic(items_base=frozenset({'subscriber_group', 'year', 'mobile_group'}), items_add=frozenset({'population_group'}), confidence=1.0, lift=1.0), OrderedStatistic(items_base=frozenset({'subscriber_group', 'year', 'population_group'}), items_add=frozenset({'mobile_group'}), confidence=1.0, lift=1.0)]),\n",
              " RelationRecord(items=frozenset({'year', 'subscriber_group', 'household_group', 'population_group', 'mobile_group'}), support=1.0, ordered_statistics=[OrderedStatistic(items_base=frozenset(), items_add=frozenset({'year', 'household_group', 'subscriber_group', 'population_group', 'mobile_group'}), confidence=1.0, lift=1.0), OrderedStatistic(items_base=frozenset({'household_group'}), items_add=frozenset({'subscriber_group', 'year', 'population_group', 'mobile_group'}), confidence=1.0, lift=1.0), OrderedStatistic(items_base=frozenset({'mobile_group'}), items_add=frozenset({'subscriber_group', 'year', 'household_group', 'population_group'}), confidence=1.0, lift=1.0), OrderedStatistic(items_base=frozenset({'population_group'}), items_add=frozenset({'subscriber_group', 'year', 'household_group', 'mobile_group'}), confidence=1.0, lift=1.0), OrderedStatistic(items_base=frozenset({'subscriber_group'}), items_add=frozenset({'year', 'household_group', 'population_group', 'mobile_group'}), confidence=1.0, lift=1.0), OrderedStatistic(items_base=frozenset({'year'}), items_add=frozenset({'subscriber_group', 'household_group', 'population_group', 'mobile_group'}), confidence=1.0, lift=1.0), OrderedStatistic(items_base=frozenset({'household_group', 'mobile_group'}), items_add=frozenset({'subscriber_group', 'year', 'population_group'}), confidence=1.0, lift=1.0), OrderedStatistic(items_base=frozenset({'household_group', 'population_group'}), items_add=frozenset({'subscriber_group', 'year', 'mobile_group'}), confidence=1.0, lift=1.0), OrderedStatistic(items_base=frozenset({'subscriber_group', 'household_group'}), items_add=frozenset({'year', 'population_group', 'mobile_group'}), confidence=1.0, lift=1.0), OrderedStatistic(items_base=frozenset({'year', 'household_group'}), items_add=frozenset({'subscriber_group', 'population_group', 'mobile_group'}), confidence=1.0, lift=1.0), OrderedStatistic(items_base=frozenset({'population_group', 'mobile_group'}), items_add=frozenset({'subscriber_group', 'year', 'household_group'}), confidence=1.0, lift=1.0), OrderedStatistic(items_base=frozenset({'subscriber_group', 'mobile_group'}), items_add=frozenset({'year', 'household_group', 'population_group'}), confidence=1.0, lift=1.0), OrderedStatistic(items_base=frozenset({'year', 'mobile_group'}), items_add=frozenset({'subscriber_group', 'household_group', 'population_group'}), confidence=1.0, lift=1.0), OrderedStatistic(items_base=frozenset({'subscriber_group', 'population_group'}), items_add=frozenset({'year', 'household_group', 'mobile_group'}), confidence=1.0, lift=1.0), OrderedStatistic(items_base=frozenset({'year', 'population_group'}), items_add=frozenset({'subscriber_group', 'household_group', 'mobile_group'}), confidence=1.0, lift=1.0), OrderedStatistic(items_base=frozenset({'subscriber_group', 'year'}), items_add=frozenset({'household_group', 'population_group', 'mobile_group'}), confidence=1.0, lift=1.0), OrderedStatistic(items_base=frozenset({'household_group', 'population_group', 'mobile_group'}), items_add=frozenset({'subscriber_group', 'year'}), confidence=1.0, lift=1.0), OrderedStatistic(items_base=frozenset({'subscriber_group', 'household_group', 'mobile_group'}), items_add=frozenset({'year', 'population_group'}), confidence=1.0, lift=1.0), OrderedStatistic(items_base=frozenset({'year', 'household_group', 'mobile_group'}), items_add=frozenset({'subscriber_group', 'population_group'}), confidence=1.0, lift=1.0), OrderedStatistic(items_base=frozenset({'subscriber_group', 'household_group', 'population_group'}), items_add=frozenset({'year', 'mobile_group'}), confidence=1.0, lift=1.0), OrderedStatistic(items_base=frozenset({'year', 'household_group', 'population_group'}), items_add=frozenset({'subscriber_group', 'mobile_group'}), confidence=1.0, lift=1.0), OrderedStatistic(items_base=frozenset({'subscriber_group', 'year', 'household_group'}), items_add=frozenset({'population_group', 'mobile_group'}), confidence=1.0, lift=1.0), OrderedStatistic(items_base=frozenset({'subscriber_group', 'population_group', 'mobile_group'}), items_add=frozenset({'year', 'household_group'}), confidence=1.0, lift=1.0), OrderedStatistic(items_base=frozenset({'year', 'population_group', 'mobile_group'}), items_add=frozenset({'subscriber_group', 'household_group'}), confidence=1.0, lift=1.0), OrderedStatistic(items_base=frozenset({'subscriber_group', 'year', 'mobile_group'}), items_add=frozenset({'household_group', 'population_group'}), confidence=1.0, lift=1.0), OrderedStatistic(items_base=frozenset({'subscriber_group', 'year', 'population_group'}), items_add=frozenset({'household_group', 'mobile_group'}), confidence=1.0, lift=1.0), OrderedStatistic(items_base=frozenset({'subscriber_group', 'household_group', 'population_group', 'mobile_group'}), items_add=frozenset({'year'}), confidence=1.0, lift=1.0), OrderedStatistic(items_base=frozenset({'year', 'household_group', 'population_group', 'mobile_group'}), items_add=frozenset({'subscriber_group'}), confidence=1.0, lift=1.0), OrderedStatistic(items_base=frozenset({'subscriber_group', 'year', 'household_group', 'mobile_group'}), items_add=frozenset({'population_group'}), confidence=1.0, lift=1.0), OrderedStatistic(items_base=frozenset({'subscriber_group', 'year', 'household_group', 'population_group'}), items_add=frozenset({'mobile_group'}), confidence=1.0, lift=1.0), OrderedStatistic(items_base=frozenset({'subscriber_group', 'year', 'population_group', 'mobile_group'}), items_add=frozenset({'household_group'}), confidence=1.0, lift=1.0)])]"
            ]
          },
          "metadata": {},
          "execution_count": 102
        }
      ]
    },
    {
      "cell_type": "markdown",
      "metadata": {
        "id": "Ci3u750qdIYV"
      },
      "source": [
        "# Visualization"
      ]
    },
    {
      "cell_type": "code",
      "metadata": {
        "id": "OtMg7zRxyvis"
      },
      "source": [
        "from sklearn.tree import DecisionTreeClassifier\n",
        "from sklearn.model_selection import train_test_split\n",
        "# การเลือกเทรน model โดยใช้ split เป็นเมธอดของสตริง ใช้สำหรับแยกสตริงออกเป็นส่วน ๆ และคืนค่ากลับมาเป็น list โดยเราสามารถกำหนดได้ว่าจะให้เเยกโดย 0ver100 คือเเยกโดยมีคนอายุมากกว่า100 ปีอยู่ในเขตนั้นหรือไม่เเละเป็นเพศชายหรือหญิง\n",
        "# เพราะ spliter เป็นการเเบ่งข้อมูลที่เป็นตัวเลข"
      ],
      "execution_count": 103,
      "outputs": []
    },
    {
      "cell_type": "code",
      "metadata": {
        "id": "S8WFYw5Ly0W8",
        "colab": {
          "base_uri": "https://localhost:8080/"
        },
        "outputId": "0c287b9b-0df2-48d0-f415-f4d41ed06976"
      },
      "source": [
        "X = data_cut.values\n",
        "X #.values ดึงเฉพาะค่าทั้งหมดออกมาจากตัวแปร dict ออกมาจากตาราง ให้อยู่ในรูปเเบบค่า Array เพื่อใช้ในการทำ Model"
      ],
      "execution_count": 104,
      "outputs": [
        {
          "output_type": "execute_result",
          "data": {
            "text/plain": [
              "array([[2004.0, 'low', 'low', 'low', 'low'],\n",
              "       [2004.0, 'low', 'low', 'low', 'low'],\n",
              "       [2004.0, 'low', 'low', 'low', 'low'],\n",
              "       [2004.0, 'low', 'low', 'low', 'low'],\n",
              "       [2005.0, 'low', 'low', 'low', 'low'],\n",
              "       [2005.0, 'low', 'low', 'low', 'low'],\n",
              "       [2005.0, 'low', 'low', 'low', 'low'],\n",
              "       [2005.0, 'low', 'low', 'low', 'low'],\n",
              "       [2006.0, 'low', 'low', 'low', 'low'],\n",
              "       [2006.0, 'low', 'low', 'low', 'low'],\n",
              "       [2006.0, 'low', 'low', 'low', 'low'],\n",
              "       [2006.0, 'low', 'low', 'low', 'low'],\n",
              "       [2007.0, 'low', 'low', 'low', 'low'],\n",
              "       [2007.0, 'low', 'low', 'low', 'low'],\n",
              "       [2007.0, 'low', 'low', 'low', 'low'],\n",
              "       [2007.0, 'low', 'low', 'low', 'low'],\n",
              "       [2008.0, 'median', 'low', 'low', 'low'],\n",
              "       [2008.0, 'median', 'low', 'low', 'low'],\n",
              "       [2008.0, 'median', 'median', 'low', 'median'],\n",
              "       [2008.0, 'median', 'median', 'low', 'median'],\n",
              "       [2009.0, 'median', 'median', 'low', 'median'],\n",
              "       [2009.0, 'median', 'median', 'low', 'median'],\n",
              "       [2009.0, 'median', 'median', 'low', 'median'],\n",
              "       [2009.0, 'median', 'median', 'low', 'median'],\n",
              "       [2010.0, 'median', 'median', 'low', 'median'],\n",
              "       [2010.0, 'median', 'median', 'low', 'median'],\n",
              "       [2010.0, 'median', 'median', 'low', 'median'],\n",
              "       [2010.0, 'median', 'median', 'low', 'median'],\n",
              "       [2011.0, 'median', 'median', 'median', 'median'],\n",
              "       [2011.0, 'median', 'median', 'median', 'median'],\n",
              "       [2011.0, 'median', 'median', 'median', 'median'],\n",
              "       [2011.0, 'median', 'median', 'median', 'median'],\n",
              "       [2012.0, 'median', 'median', 'median', 'median'],\n",
              "       [2012.0, 'median', 'median', 'median', 'median'],\n",
              "       [2012.0, 'median', 'median', 'median', 'median'],\n",
              "       [2012.0, 'median', 'median', 'median', 'median'],\n",
              "       [2013.0, 'median', 'median', 'median', 'median'],\n",
              "       [2013.0, 'median', 'median', 'median', 'median'],\n",
              "       [2013.0, 'median', 'median', 'median', 'median'],\n",
              "       [2013.0, 'median', 'median', 'median', 'median'],\n",
              "       [2014.0, 'high', 'median', 'median', 'median'],\n",
              "       [2014.0, 'high', 'median', 'median', 'median'],\n",
              "       [2014.0, 'high', 'median', 'median', 'median'],\n",
              "       [2014.0, 'high', 'median', 'median', 'median'],\n",
              "       [2015.0, 'high', 'median', 'median', 'median'],\n",
              "       [2015.0, 'high', 'median', 'median', 'median'],\n",
              "       [2015.0, 'high', 'median', 'median', 'median'],\n",
              "       [2015.0, 'high', 'median', 'median', 'median'],\n",
              "       [2016.0, 'high', 'high', 'median', 'median'],\n",
              "       [2016.0, 'high', 'high', 'high', 'high'],\n",
              "       [2016.0, 'high', 'high', 'high', 'high'],\n",
              "       [2016.0, 'high', 'high', 'high', 'high'],\n",
              "       [2017.0, 'high', 'high', 'high', 'high'],\n",
              "       [2017.0, 'high', 'high', 'high', 'high'],\n",
              "       [2017.0, 'high', 'high', 'high', 'high'],\n",
              "       [2017.0, 'high', 'high', 'high', 'high'],\n",
              "       [2018.0, 'high', 'high', 'high', 'high'],\n",
              "       [2018.0, 'high', 'high', 'high', 'high'],\n",
              "       [2018.0, 'high', 'high', 'high', 'high'],\n",
              "       [2018.0, 'high', 'high', 'high', 'high'],\n",
              "       [2019.0, 'high', 'high', 'high', 'high'],\n",
              "       [2019.0, 'high', 'high', 'high', 'high'],\n",
              "       [2019.0, 'high', 'high', 'high', 'high'],\n",
              "       [2019.0, 'high', 'high', 'high', 'high'],\n",
              "       [2020.0, 'high', 'high', 'high', 'high'],\n",
              "       [2020.0, 'high', 'high', 'high', 'high'],\n",
              "       [2020.0, 'high', 'high', 'high', 'high'],\n",
              "       [2020.0, 'high', 'high', 'high', 'high'],\n",
              "       [2021.0, 'high', 'high', 'high', 'high']], dtype=object)"
            ]
          },
          "metadata": {},
          "execution_count": 104
        }
      ]
    },
    {
      "cell_type": "code",
      "metadata": {
        "id": "swZod5F101Rx",
        "colab": {
          "base_uri": "https://localhost:8080/",
          "height": 858
        },
        "outputId": "8def5e3a-bcaa-4783-f307-155232b9c42c"
      },
      "source": [
        "data_cut['subscriber_group'] = data_cut['subscriber_group'].map({'low':0,'median':1,'high':2})\n",
        "data_cut['household_group'] = data_cut['household_group'].map({'low':0,'median':1,'high':2})\n",
        "data_cut['population_group'] = data_cut['population_group'].map({'low':0,'median':1,'high':2})\n",
        "data_cut['mobile_group'] = data_cut['mobile_group'].map({'low':0,'median':1,'high':2})\n",
        "data_cut"
      ],
      "execution_count": 105,
      "outputs": [
        {
          "output_type": "stream",
          "name": "stderr",
          "text": [
            "/usr/local/lib/python3.7/dist-packages/ipykernel_launcher.py:1: SettingWithCopyWarning: \n",
            "A value is trying to be set on a copy of a slice from a DataFrame.\n",
            "Try using .loc[row_indexer,col_indexer] = value instead\n",
            "\n",
            "See the caveats in the documentation: https://pandas.pydata.org/pandas-docs/stable/user_guide/indexing.html#returning-a-view-versus-a-copy\n",
            "  \"\"\"Entry point for launching an IPython kernel.\n",
            "/usr/local/lib/python3.7/dist-packages/ipykernel_launcher.py:2: SettingWithCopyWarning: \n",
            "A value is trying to be set on a copy of a slice from a DataFrame.\n",
            "Try using .loc[row_indexer,col_indexer] = value instead\n",
            "\n",
            "See the caveats in the documentation: https://pandas.pydata.org/pandas-docs/stable/user_guide/indexing.html#returning-a-view-versus-a-copy\n",
            "  \n",
            "/usr/local/lib/python3.7/dist-packages/ipykernel_launcher.py:3: SettingWithCopyWarning: \n",
            "A value is trying to be set on a copy of a slice from a DataFrame.\n",
            "Try using .loc[row_indexer,col_indexer] = value instead\n",
            "\n",
            "See the caveats in the documentation: https://pandas.pydata.org/pandas-docs/stable/user_guide/indexing.html#returning-a-view-versus-a-copy\n",
            "  This is separate from the ipykernel package so we can avoid doing imports until\n",
            "/usr/local/lib/python3.7/dist-packages/ipykernel_launcher.py:4: SettingWithCopyWarning: \n",
            "A value is trying to be set on a copy of a slice from a DataFrame.\n",
            "Try using .loc[row_indexer,col_indexer] = value instead\n",
            "\n",
            "See the caveats in the documentation: https://pandas.pydata.org/pandas-docs/stable/user_guide/indexing.html#returning-a-view-versus-a-copy\n",
            "  after removing the cwd from sys.path.\n"
          ]
        },
        {
          "output_type": "execute_result",
          "data": {
            "text/html": [
              "<div>\n",
              "<style scoped>\n",
              "    .dataframe tbody tr th:only-of-type {\n",
              "        vertical-align: middle;\n",
              "    }\n",
              "\n",
              "    .dataframe tbody tr th {\n",
              "        vertical-align: top;\n",
              "    }\n",
              "\n",
              "    .dataframe thead th {\n",
              "        text-align: right;\n",
              "    }\n",
              "</style>\n",
              "<table border=\"1\" class=\"dataframe\">\n",
              "  <thead>\n",
              "    <tr style=\"text-align: right;\">\n",
              "      <th></th>\n",
              "      <th>year</th>\n",
              "      <th>subscriber_group</th>\n",
              "      <th>household_group</th>\n",
              "      <th>population_group</th>\n",
              "      <th>mobile_group</th>\n",
              "    </tr>\n",
              "  </thead>\n",
              "  <tbody>\n",
              "    <tr>\n",
              "      <th>0</th>\n",
              "      <td>2004.0</td>\n",
              "      <td>0</td>\n",
              "      <td>0</td>\n",
              "      <td>0</td>\n",
              "      <td>0</td>\n",
              "    </tr>\n",
              "    <tr>\n",
              "      <th>1</th>\n",
              "      <td>2004.0</td>\n",
              "      <td>0</td>\n",
              "      <td>0</td>\n",
              "      <td>0</td>\n",
              "      <td>0</td>\n",
              "    </tr>\n",
              "    <tr>\n",
              "      <th>2</th>\n",
              "      <td>2004.0</td>\n",
              "      <td>0</td>\n",
              "      <td>0</td>\n",
              "      <td>0</td>\n",
              "      <td>0</td>\n",
              "    </tr>\n",
              "    <tr>\n",
              "      <th>3</th>\n",
              "      <td>2004.0</td>\n",
              "      <td>0</td>\n",
              "      <td>0</td>\n",
              "      <td>0</td>\n",
              "      <td>0</td>\n",
              "    </tr>\n",
              "    <tr>\n",
              "      <th>4</th>\n",
              "      <td>2005.0</td>\n",
              "      <td>0</td>\n",
              "      <td>0</td>\n",
              "      <td>0</td>\n",
              "      <td>0</td>\n",
              "    </tr>\n",
              "    <tr>\n",
              "      <th>...</th>\n",
              "      <td>...</td>\n",
              "      <td>...</td>\n",
              "      <td>...</td>\n",
              "      <td>...</td>\n",
              "      <td>...</td>\n",
              "    </tr>\n",
              "    <tr>\n",
              "      <th>64</th>\n",
              "      <td>2020.0</td>\n",
              "      <td>2</td>\n",
              "      <td>2</td>\n",
              "      <td>2</td>\n",
              "      <td>2</td>\n",
              "    </tr>\n",
              "    <tr>\n",
              "      <th>65</th>\n",
              "      <td>2020.0</td>\n",
              "      <td>2</td>\n",
              "      <td>2</td>\n",
              "      <td>2</td>\n",
              "      <td>2</td>\n",
              "    </tr>\n",
              "    <tr>\n",
              "      <th>66</th>\n",
              "      <td>2020.0</td>\n",
              "      <td>2</td>\n",
              "      <td>2</td>\n",
              "      <td>2</td>\n",
              "      <td>2</td>\n",
              "    </tr>\n",
              "    <tr>\n",
              "      <th>67</th>\n",
              "      <td>2020.0</td>\n",
              "      <td>2</td>\n",
              "      <td>2</td>\n",
              "      <td>2</td>\n",
              "      <td>2</td>\n",
              "    </tr>\n",
              "    <tr>\n",
              "      <th>68</th>\n",
              "      <td>2021.0</td>\n",
              "      <td>2</td>\n",
              "      <td>2</td>\n",
              "      <td>2</td>\n",
              "      <td>2</td>\n",
              "    </tr>\n",
              "  </tbody>\n",
              "</table>\n",
              "<p>69 rows × 5 columns</p>\n",
              "</div>"
            ],
            "text/plain": [
              "      year subscriber_group household_group population_group mobile_group\n",
              "0   2004.0                0               0                0            0\n",
              "1   2004.0                0               0                0            0\n",
              "2   2004.0                0               0                0            0\n",
              "3   2004.0                0               0                0            0\n",
              "4   2005.0                0               0                0            0\n",
              "..     ...              ...             ...              ...          ...\n",
              "64  2020.0                2               2                2            2\n",
              "65  2020.0                2               2                2            2\n",
              "66  2020.0                2               2                2            2\n",
              "67  2020.0                2               2                2            2\n",
              "68  2021.0                2               2                2            2\n",
              "\n",
              "[69 rows x 5 columns]"
            ]
          },
          "metadata": {},
          "execution_count": 105
        }
      ]
    },
    {
      "cell_type": "code",
      "metadata": {
        "id": "xB0UcYwy7whJ"
      },
      "source": [
        "from matplotlib import pyplot as plt"
      ],
      "execution_count": 106,
      "outputs": []
    },
    {
      "cell_type": "code",
      "metadata": {
        "id": "5xr7hiLOB49T"
      },
      "source": [
        "import numpy as np"
      ],
      "execution_count": 107,
      "outputs": []
    },
    {
      "cell_type": "code",
      "metadata": {
        "colab": {
          "base_uri": "https://localhost:8080/",
          "height": 306
        },
        "id": "4iijgj9wKrtF",
        "outputId": "2c533a90-770e-4e14-8b84-af644cb7af7c"
      },
      "source": [
        "width = 0.45\n",
        "\n",
        "plt.bar(data_cut['year']-width/4, data_cut['mobile_group'], width=width, label='mobile_group')\n",
        "plt.bar(data_cut['year']-width/2, data_cut['household_group'], width=width, label='household_group')\n",
        "plt.bar(data_cut['year']+width/2, data_cut['subscriber_group'], width=width, label='subscriber_group')\n",
        "plt.bar(data_cut['year']+width/4, data_cut['population_group'], width=width, label='population_group')\n",
        "\n",
        "plt.ylabel('variable value')\n",
        "plt.xticks(data_cut['year']+1.1,data_cut['year'],rotation=-90)  # rotation คือหมุนตัวหนังสือไม่ให้ทับกัน\n",
        "plt.title('compare relationship')\n",
        "plt.legend();"
      ],
      "execution_count": 110,
      "outputs": [
        {
          "output_type": "display_data",
          "data": {
            "image/png": "[encoded data removed]",
            "text/plain": [
              "<Figure size 432x288 with 1 Axes>"
            ]
          },
          "metadata": {
            "needs_background": "light"
          }
        }
      ]
    },
    {
      "cell_type": "code",
      "metadata": {
        "colab": {
          "base_uri": "https://localhost:8080/",
          "height": 306
        },
        "id": "8DCHX3C-R_Tj",
        "outputId": "a0317d3b-de00-4f7e-d370-63d098f9b731"
      },
      "source": [
        "plt.scatter(data_cut['year'],data_cut['subscriber_group'],c='r', label='subscriber_group')\n",
        "plt.scatter(data_cut['year'],data_cut['household_group'],c='m', label='household_group')\n",
        "plt.scatter(data_cut['year'],data_cut['population_group'],c='b', label='population_group')\n",
        "plt.scatter(data_cut['year'],data_cut['mobile_group'],c='g', label='mobile_group')\n",
        "\n",
        "plt.ylabel('variable value')\n",
        "plt.xticks(data_cut['year']+1.1,data_cut['year'],rotation=-90)  # rotation คือหมุนตัวหนังสือไม่ให้ทับกัน\n",
        "plt.title('compare relationship')\n",
        "plt.legend();"
      ],
      "execution_count": 114,
      "outputs": [
        {
          "output_type": "display_data",
          "data": {
            "image/png": "[encoded data removed]",
            "text/plain": [
              "<Figure size 432x288 with 1 Axes>"
            ]
          },
          "metadata": {
            "needs_background": "light"
          }
        }
      ]
    },
    {
      "cell_type": "code",
      "metadata": {
        "id": "KotZmANsajy8"
      },
      "source": [
        ""
      ],
      "execution_count": 111,
      "outputs": []
    }
  ]
}