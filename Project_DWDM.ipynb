{
  "nbformat": 4,
  "nbformat_minor": 0,
  "metadata": {
    "colab": {
      "name": "Project DWDM.ipynb",
      "provenance": [],
      "authorship_tag": "ABX9TyNZ9jTtfstOPR/6N/FAC+vj",
      "include_colab_link": true
    },
    "kernelspec": {
      "name": "python3",
      "display_name": "Python 3"
    },
    "language_info": {
      "name": "python"
    }
  },
  "cells": [
    {
      "cell_type": "markdown",
      "metadata": {
        "id": "view-in-github",
        "colab_type": "text"
      },
      "source": [
        "<a href=\"https://colab.research.google.com/github/mintra-tippayaratsontorn/DWDM21/blob/main/Project_DWDM.ipynb\" target=\"_parent\"><img src=\"https://colab.research.google.com/assets/colab-badge.svg\" alt=\"Open In Colab\"/></a>"
      ]
    },
    {
      "cell_type": "markdown",
      "metadata": {
        "id": "pbIXuavd9NZW"
      },
      "source": [
        "# Project กลุ่ม\n",
        "* present วันที่ 31 สิงหาคม 2564\n",
        "* ข้อมูลที่ไปดึงมาจาก 3 แหล่ง\n",
        "* แสดงวิธีการโหลด\n",
        "* ความเชื่อมโยง 3 ตาราง (index)"
      ]
    },
    {
      "cell_type": "code",
      "metadata": {
        "id": "hCLi-68U7R8r"
      },
      "source": [
        "import pandas as pd"
      ],
      "execution_count": 1,
      "outputs": []
    },
    {
      "cell_type": "code",
      "metadata": {
        "colab": {
          "base_uri": "https://localhost:8080/"
        },
        "id": "F6ZSI1LE9ZTP",
        "outputId": "12d6e064-00b6-4a05-f9fb-dabff6b99754"
      },
      "source": [
        "from google.colab import drive\n",
        "drive.mount('/content/drive')"
      ],
      "execution_count": 2,
      "outputs": [
        {
          "output_type": "stream",
          "text": [
            "Mounted at /content/drive\n"
          ],
          "name": "stdout"
        }
      ]
    },
    {
      "cell_type": "code",
      "metadata": {
        "id": "JsYIGYC89dFO"
      },
      "source": [
        "import os"
      ],
      "execution_count": 3,
      "outputs": []
    },
    {
      "cell_type": "code",
      "metadata": {
        "colab": {
          "base_uri": "https://localhost:8080/",
          "height": 419
        },
        "id": "Q9iofwQ19jwW",
        "outputId": "a2937175-b514-4daf-e85f-4b3c8757f632"
      },
      "source": [
        "path = '/content/drive/My Drive/PROJECT_DWDM'\n",
        "data_58 = pd.read_csv(os.path.join(path,'ผลไม้ส่งออกรายเดือนปี58.csv'))\n",
        "data_58"
      ],
      "execution_count": 4,
      "outputs": [
        {
          "output_type": "execute_result",
          "data": {
            "text/html": [
              "<div>\n",
              "<style scoped>\n",
              "    .dataframe tbody tr th:only-of-type {\n",
              "        vertical-align: middle;\n",
              "    }\n",
              "\n",
              "    .dataframe tbody tr th {\n",
              "        vertical-align: top;\n",
              "    }\n",
              "\n",
              "    .dataframe thead th {\n",
              "        text-align: right;\n",
              "    }\n",
              "</style>\n",
              "<table border=\"1\" class=\"dataframe\">\n",
              "  <thead>\n",
              "    <tr style=\"text-align: right;\">\n",
              "      <th></th>\n",
              "      <th>No.</th>\n",
              "      <th>number_month</th>\n",
              "      <th>month</th>\n",
              "      <th>Year</th>\n",
              "      <th>type</th>\n",
              "      <th>product</th>\n",
              "      <th>qty_per_year</th>\n",
              "      <th>value_per_year</th>\n",
              "    </tr>\n",
              "  </thead>\n",
              "  <tbody>\n",
              "    <tr>\n",
              "      <th>0</th>\n",
              "      <td>1</td>\n",
              "      <td>1</td>\n",
              "      <td>ม.ค.</td>\n",
              "      <td>2558</td>\n",
              "      <td>เงาะ</td>\n",
              "      <td>เงาะบรรจุภาชนะที่อากาศผ่านเข้าออกไม่ได้</td>\n",
              "      <td>262,519</td>\n",
              "      <td>15,781,599</td>\n",
              "    </tr>\n",
              "    <tr>\n",
              "      <th>1</th>\n",
              "      <td>2</td>\n",
              "      <td>2</td>\n",
              "      <td>ก.พ.</td>\n",
              "      <td>2558</td>\n",
              "      <td>เงาะ</td>\n",
              "      <td>เงาะบรรจุภาชนะที่อากาศผ่านเข้าออกไม่ได้</td>\n",
              "      <td>98,167</td>\n",
              "      <td>5,549,497</td>\n",
              "    </tr>\n",
              "    <tr>\n",
              "      <th>2</th>\n",
              "      <td>3</td>\n",
              "      <td>3</td>\n",
              "      <td>มี.ค.</td>\n",
              "      <td>2558</td>\n",
              "      <td>เงาะ</td>\n",
              "      <td>เงาะบรรจุภาชนะที่อากาศผ่านเข้าออกไม่ได้</td>\n",
              "      <td>124,920</td>\n",
              "      <td>7,129,611</td>\n",
              "    </tr>\n",
              "    <tr>\n",
              "      <th>3</th>\n",
              "      <td>4</td>\n",
              "      <td>4</td>\n",
              "      <td>เม.ย.</td>\n",
              "      <td>2558</td>\n",
              "      <td>เงาะ</td>\n",
              "      <td>เงาะบรรจุภาชนะที่อากาศผ่านเข้าออกไม่ได้</td>\n",
              "      <td>65,049</td>\n",
              "      <td>3,908,310</td>\n",
              "    </tr>\n",
              "    <tr>\n",
              "      <th>4</th>\n",
              "      <td>5</td>\n",
              "      <td>5</td>\n",
              "      <td>พ.ค.</td>\n",
              "      <td>2558</td>\n",
              "      <td>เงาะ</td>\n",
              "      <td>เงาะบรรจุภาชนะที่อากาศผ่านเข้าออกไม่ได้</td>\n",
              "      <td>118,085</td>\n",
              "      <td>8,057,296</td>\n",
              "    </tr>\n",
              "    <tr>\n",
              "      <th>...</th>\n",
              "      <td>...</td>\n",
              "      <td>...</td>\n",
              "      <td>...</td>\n",
              "      <td>...</td>\n",
              "      <td>...</td>\n",
              "      <td>...</td>\n",
              "      <td>...</td>\n",
              "      <td>...</td>\n",
              "    </tr>\n",
              "    <tr>\n",
              "      <th>198</th>\n",
              "      <td>199</td>\n",
              "      <td>8</td>\n",
              "      <td>ส.ค.</td>\n",
              "      <td>2558</td>\n",
              "      <td>ลองกอง</td>\n",
              "      <td>NaN</td>\n",
              "      <td>121,927</td>\n",
              "      <td>2,507,646</td>\n",
              "    </tr>\n",
              "    <tr>\n",
              "      <th>199</th>\n",
              "      <td>200</td>\n",
              "      <td>9</td>\n",
              "      <td>ก.ย.</td>\n",
              "      <td>2558</td>\n",
              "      <td>ลองกอง</td>\n",
              "      <td>NaN</td>\n",
              "      <td>406,387</td>\n",
              "      <td>5,826,700</td>\n",
              "    </tr>\n",
              "    <tr>\n",
              "      <th>200</th>\n",
              "      <td>201</td>\n",
              "      <td>10</td>\n",
              "      <td>ต.ค.</td>\n",
              "      <td>2558</td>\n",
              "      <td>ลองกอง</td>\n",
              "      <td>NaN</td>\n",
              "      <td>703,727</td>\n",
              "      <td>10,147,319</td>\n",
              "    </tr>\n",
              "    <tr>\n",
              "      <th>201</th>\n",
              "      <td>202</td>\n",
              "      <td>11</td>\n",
              "      <td>พ.ย.</td>\n",
              "      <td>2558</td>\n",
              "      <td>ลองกอง</td>\n",
              "      <td>NaN</td>\n",
              "      <td>6,120</td>\n",
              "      <td>324,968</td>\n",
              "    </tr>\n",
              "    <tr>\n",
              "      <th>202</th>\n",
              "      <td>203</td>\n",
              "      <td>12</td>\n",
              "      <td>ธ.ค.</td>\n",
              "      <td>2558</td>\n",
              "      <td>ลองกอง</td>\n",
              "      <td>NaN</td>\n",
              "      <td>9,035</td>\n",
              "      <td>91,720</td>\n",
              "    </tr>\n",
              "  </tbody>\n",
              "</table>\n",
              "<p>203 rows × 8 columns</p>\n",
              "</div>"
            ],
            "text/plain": [
              "     No.  number_month  ... qty_per_year  value_per_year\n",
              "0      1             1  ...      262,519      15,781,599\n",
              "1      2             2  ...       98,167       5,549,497\n",
              "2      3             3  ...      124,920       7,129,611\n",
              "3      4             4  ...       65,049       3,908,310\n",
              "4      5             5  ...      118,085       8,057,296\n",
              "..   ...           ...  ...          ...             ...\n",
              "198  199             8  ...      121,927       2,507,646\n",
              "199  200             9  ...      406,387       5,826,700\n",
              "200  201            10  ...      703,727      10,147,319\n",
              "201  202            11  ...        6,120         324,968\n",
              "202  203            12  ...        9,035          91,720\n",
              "\n",
              "[203 rows x 8 columns]"
            ]
          },
          "metadata": {},
          "execution_count": 4
        }
      ]
    },
    {
      "cell_type": "code",
      "metadata": {
        "id": "D5IoZfde-rVk",
        "outputId": "fc8526ce-e0b4-466b-ce7f-03cd1c8ab59b",
        "colab": {
          "base_uri": "https://localhost:8080/",
          "height": 419
        }
      },
      "source": [
        "data_59 = pd.read_csv(os.path.join(path,'ผลไม้ส่งออกรายเดือนปี59.csv'))\n",
        "data_59"
      ],
      "execution_count": 5,
      "outputs": [
        {
          "output_type": "execute_result",
          "data": {
            "text/html": [
              "<div>\n",
              "<style scoped>\n",
              "    .dataframe tbody tr th:only-of-type {\n",
              "        vertical-align: middle;\n",
              "    }\n",
              "\n",
              "    .dataframe tbody tr th {\n",
              "        vertical-align: top;\n",
              "    }\n",
              "\n",
              "    .dataframe thead th {\n",
              "        text-align: right;\n",
              "    }\n",
              "</style>\n",
              "<table border=\"1\" class=\"dataframe\">\n",
              "  <thead>\n",
              "    <tr style=\"text-align: right;\">\n",
              "      <th></th>\n",
              "      <th>No.</th>\n",
              "      <th>number_month</th>\n",
              "      <th>month</th>\n",
              "      <th>Year</th>\n",
              "      <th>type</th>\n",
              "      <th>product</th>\n",
              "      <th>qty_per_year</th>\n",
              "      <th>value_per_year</th>\n",
              "    </tr>\n",
              "  </thead>\n",
              "  <tbody>\n",
              "    <tr>\n",
              "      <th>0</th>\n",
              "      <td>1</td>\n",
              "      <td>1</td>\n",
              "      <td>ม.ค.</td>\n",
              "      <td>2559</td>\n",
              "      <td>เงาะ</td>\n",
              "      <td>เงาะบรรจุภาชนะที่อากาศผ่านเข้าออกไม่ได้</td>\n",
              "      <td>217,213</td>\n",
              "      <td>13,813,306</td>\n",
              "    </tr>\n",
              "    <tr>\n",
              "      <th>1</th>\n",
              "      <td>2</td>\n",
              "      <td>2</td>\n",
              "      <td>ก.พ.</td>\n",
              "      <td>2559</td>\n",
              "      <td>เงาะ</td>\n",
              "      <td>เงาะบรรจุภาชนะที่อากาศผ่านเข้าออกไม่ได้</td>\n",
              "      <td>243,690</td>\n",
              "      <td>16,387,244</td>\n",
              "    </tr>\n",
              "    <tr>\n",
              "      <th>2</th>\n",
              "      <td>3</td>\n",
              "      <td>3</td>\n",
              "      <td>มี.ค.</td>\n",
              "      <td>2559</td>\n",
              "      <td>เงาะ</td>\n",
              "      <td>เงาะบรรจุภาชนะที่อากาศผ่านเข้าออกไม่ได้</td>\n",
              "      <td>181,398</td>\n",
              "      <td>13,115,358</td>\n",
              "    </tr>\n",
              "    <tr>\n",
              "      <th>3</th>\n",
              "      <td>4</td>\n",
              "      <td>4</td>\n",
              "      <td>เม.ย.</td>\n",
              "      <td>2559</td>\n",
              "      <td>เงาะ</td>\n",
              "      <td>เงาะบรรจุภาชนะที่อากาศผ่านเข้าออกไม่ได้</td>\n",
              "      <td>95,551</td>\n",
              "      <td>6,268,547</td>\n",
              "    </tr>\n",
              "    <tr>\n",
              "      <th>4</th>\n",
              "      <td>5</td>\n",
              "      <td>5</td>\n",
              "      <td>พ.ค.</td>\n",
              "      <td>2559</td>\n",
              "      <td>เงาะ</td>\n",
              "      <td>เงาะบรรจุภาชนะที่อากาศผ่านเข้าออกไม่ได้</td>\n",
              "      <td>179,018</td>\n",
              "      <td>13,068,776</td>\n",
              "    </tr>\n",
              "    <tr>\n",
              "      <th>...</th>\n",
              "      <td>...</td>\n",
              "      <td>...</td>\n",
              "      <td>...</td>\n",
              "      <td>...</td>\n",
              "      <td>...</td>\n",
              "      <td>...</td>\n",
              "      <td>...</td>\n",
              "      <td>...</td>\n",
              "    </tr>\n",
              "    <tr>\n",
              "      <th>198</th>\n",
              "      <td>199</td>\n",
              "      <td>8</td>\n",
              "      <td>ส.ค.</td>\n",
              "      <td>2559</td>\n",
              "      <td>ลองกอง</td>\n",
              "      <td>NaN</td>\n",
              "      <td>19,354</td>\n",
              "      <td>765,726</td>\n",
              "    </tr>\n",
              "    <tr>\n",
              "      <th>199</th>\n",
              "      <td>200</td>\n",
              "      <td>9</td>\n",
              "      <td>ก.ย.</td>\n",
              "      <td>2559</td>\n",
              "      <td>ลองกอง</td>\n",
              "      <td>NaN</td>\n",
              "      <td>78,113</td>\n",
              "      <td>1,369,584</td>\n",
              "    </tr>\n",
              "    <tr>\n",
              "      <th>200</th>\n",
              "      <td>201</td>\n",
              "      <td>10</td>\n",
              "      <td>ต.ค.</td>\n",
              "      <td>2559</td>\n",
              "      <td>ลองกอง</td>\n",
              "      <td>NaN</td>\n",
              "      <td>895,751</td>\n",
              "      <td>7,264,997</td>\n",
              "    </tr>\n",
              "    <tr>\n",
              "      <th>201</th>\n",
              "      <td>202</td>\n",
              "      <td>11</td>\n",
              "      <td>พ.ย.</td>\n",
              "      <td>2559</td>\n",
              "      <td>ลองกอง</td>\n",
              "      <td>NaN</td>\n",
              "      <td>789,156</td>\n",
              "      <td>15,511,989</td>\n",
              "    </tr>\n",
              "    <tr>\n",
              "      <th>202</th>\n",
              "      <td>203</td>\n",
              "      <td>12</td>\n",
              "      <td>ธ.ค.</td>\n",
              "      <td>2559</td>\n",
              "      <td>ลองกอง</td>\n",
              "      <td>NaN</td>\n",
              "      <td>399,055</td>\n",
              "      <td>5,130,042</td>\n",
              "    </tr>\n",
              "  </tbody>\n",
              "</table>\n",
              "<p>203 rows × 8 columns</p>\n",
              "</div>"
            ],
            "text/plain": [
              "     No.  number_month  ... qty_per_year  value_per_year\n",
              "0      1             1  ...      217,213      13,813,306\n",
              "1      2             2  ...      243,690      16,387,244\n",
              "2      3             3  ...      181,398      13,115,358\n",
              "3      4             4  ...       95,551       6,268,547\n",
              "4      5             5  ...      179,018      13,068,776\n",
              "..   ...           ...  ...          ...             ...\n",
              "198  199             8  ...       19,354         765,726\n",
              "199  200             9  ...       78,113       1,369,584\n",
              "200  201            10  ...      895,751       7,264,997\n",
              "201  202            11  ...      789,156      15,511,989\n",
              "202  203            12  ...      399,055       5,130,042\n",
              "\n",
              "[203 rows x 8 columns]"
            ]
          },
          "metadata": {},
          "execution_count": 5
        }
      ]
    },
    {
      "cell_type": "code",
      "metadata": {
        "id": "uET6yqEN-vt9",
        "outputId": "c446a9ee-d88f-4907-9cf3-4534acbcf2fb",
        "colab": {
          "base_uri": "https://localhost:8080/",
          "height": 419
        }
      },
      "source": [
        "data_60 = pd.read_csv(os.path.join(path,'ผลไม้ส่งออกรายเดือนปี60.csv'))\n",
        "data_60"
      ],
      "execution_count": 6,
      "outputs": [
        {
          "output_type": "execute_result",
          "data": {
            "text/html": [
              "<div>\n",
              "<style scoped>\n",
              "    .dataframe tbody tr th:only-of-type {\n",
              "        vertical-align: middle;\n",
              "    }\n",
              "\n",
              "    .dataframe tbody tr th {\n",
              "        vertical-align: top;\n",
              "    }\n",
              "\n",
              "    .dataframe thead th {\n",
              "        text-align: right;\n",
              "    }\n",
              "</style>\n",
              "<table border=\"1\" class=\"dataframe\">\n",
              "  <thead>\n",
              "    <tr style=\"text-align: right;\">\n",
              "      <th></th>\n",
              "      <th>No.</th>\n",
              "      <th>number_month</th>\n",
              "      <th>month</th>\n",
              "      <th>Year</th>\n",
              "      <th>type</th>\n",
              "      <th>product</th>\n",
              "      <th>qty_per_year</th>\n",
              "      <th>value_per_year</th>\n",
              "    </tr>\n",
              "  </thead>\n",
              "  <tbody>\n",
              "    <tr>\n",
              "      <th>0</th>\n",
              "      <td>1</td>\n",
              "      <td>1</td>\n",
              "      <td>ม.ค.</td>\n",
              "      <td>2560</td>\n",
              "      <td>เงาะ</td>\n",
              "      <td>เงาะบรรจุภาชนะที่อากาศผ่านเข้าออกไม่ได้</td>\n",
              "      <td>123,631</td>\n",
              "      <td>7,957,513</td>\n",
              "    </tr>\n",
              "    <tr>\n",
              "      <th>1</th>\n",
              "      <td>2</td>\n",
              "      <td>2</td>\n",
              "      <td>ก.พ.</td>\n",
              "      <td>2560</td>\n",
              "      <td>เงาะ</td>\n",
              "      <td>เงาะบรรจุภาชนะที่อากาศผ่านเข้าออกไม่ได้</td>\n",
              "      <td>70,831</td>\n",
              "      <td>4,619,708</td>\n",
              "    </tr>\n",
              "    <tr>\n",
              "      <th>2</th>\n",
              "      <td>3</td>\n",
              "      <td>3</td>\n",
              "      <td>มี.ค.</td>\n",
              "      <td>2560</td>\n",
              "      <td>เงาะ</td>\n",
              "      <td>เงาะบรรจุภาชนะที่อากาศผ่านเข้าออกไม่ได้</td>\n",
              "      <td>132,200</td>\n",
              "      <td>8,337,277</td>\n",
              "    </tr>\n",
              "    <tr>\n",
              "      <th>3</th>\n",
              "      <td>4</td>\n",
              "      <td>4</td>\n",
              "      <td>เม.ย.</td>\n",
              "      <td>2560</td>\n",
              "      <td>เงาะ</td>\n",
              "      <td>เงาะบรรจุภาชนะที่อากาศผ่านเข้าออกไม่ได้</td>\n",
              "      <td>92,494</td>\n",
              "      <td>6,485,861</td>\n",
              "    </tr>\n",
              "    <tr>\n",
              "      <th>4</th>\n",
              "      <td>5</td>\n",
              "      <td>5</td>\n",
              "      <td>พ.ค.</td>\n",
              "      <td>2560</td>\n",
              "      <td>เงาะ</td>\n",
              "      <td>เงาะบรรจุภาชนะที่อากาศผ่านเข้าออกไม่ได้</td>\n",
              "      <td>227,581</td>\n",
              "      <td>12,924,734</td>\n",
              "    </tr>\n",
              "    <tr>\n",
              "      <th>...</th>\n",
              "      <td>...</td>\n",
              "      <td>...</td>\n",
              "      <td>...</td>\n",
              "      <td>...</td>\n",
              "      <td>...</td>\n",
              "      <td>...</td>\n",
              "      <td>...</td>\n",
              "      <td>...</td>\n",
              "    </tr>\n",
              "    <tr>\n",
              "      <th>198</th>\n",
              "      <td>199</td>\n",
              "      <td>8</td>\n",
              "      <td>ส.ค.</td>\n",
              "      <td>2560</td>\n",
              "      <td>ลองกอง</td>\n",
              "      <td>NaN</td>\n",
              "      <td>173,789</td>\n",
              "      <td>6,607,820</td>\n",
              "    </tr>\n",
              "    <tr>\n",
              "      <th>199</th>\n",
              "      <td>200</td>\n",
              "      <td>9</td>\n",
              "      <td>ก.ย.</td>\n",
              "      <td>2560</td>\n",
              "      <td>ลองกอง</td>\n",
              "      <td>NaN</td>\n",
              "      <td>73,432</td>\n",
              "      <td>3,645,467</td>\n",
              "    </tr>\n",
              "    <tr>\n",
              "      <th>200</th>\n",
              "      <td>201</td>\n",
              "      <td>10</td>\n",
              "      <td>ต.ค.</td>\n",
              "      <td>2560</td>\n",
              "      <td>ลองกอง</td>\n",
              "      <td>NaN</td>\n",
              "      <td>13,840</td>\n",
              "      <td>717,044</td>\n",
              "    </tr>\n",
              "    <tr>\n",
              "      <th>201</th>\n",
              "      <td>202</td>\n",
              "      <td>11</td>\n",
              "      <td>พ.ย.</td>\n",
              "      <td>2560</td>\n",
              "      <td>ลองกอง</td>\n",
              "      <td>NaN</td>\n",
              "      <td>9,092</td>\n",
              "      <td>361,561</td>\n",
              "    </tr>\n",
              "    <tr>\n",
              "      <th>202</th>\n",
              "      <td>203</td>\n",
              "      <td>12</td>\n",
              "      <td>ธ.ค.</td>\n",
              "      <td>2560</td>\n",
              "      <td>ลองกอง</td>\n",
              "      <td>NaN</td>\n",
              "      <td>10,881</td>\n",
              "      <td>364,204</td>\n",
              "    </tr>\n",
              "  </tbody>\n",
              "</table>\n",
              "<p>203 rows × 8 columns</p>\n",
              "</div>"
            ],
            "text/plain": [
              "     No.  number_month  ... qty_per_year  value_per_year\n",
              "0      1             1  ...      123,631       7,957,513\n",
              "1      2             2  ...       70,831       4,619,708\n",
              "2      3             3  ...      132,200       8,337,277\n",
              "3      4             4  ...       92,494       6,485,861\n",
              "4      5             5  ...      227,581      12,924,734\n",
              "..   ...           ...  ...          ...             ...\n",
              "198  199             8  ...      173,789       6,607,820\n",
              "199  200             9  ...       73,432       3,645,467\n",
              "200  201            10  ...       13,840         717,044\n",
              "201  202            11  ...        9,092         361,561\n",
              "202  203            12  ...       10,881         364,204\n",
              "\n",
              "[203 rows x 8 columns]"
            ]
          },
          "metadata": {},
          "execution_count": 6
        }
      ]
    },
    {
      "cell_type": "markdown",
      "metadata": {
        "id": "m0cAMDL7r4RA"
      },
      "source": [
        "# จัดการ Missing แต่ละตาราง"
      ]
    },
    {
      "cell_type": "code",
      "metadata": {
        "id": "6OXynIdk_aV-",
        "outputId": "ab2bcd91-884b-417d-f615-6b2c303898f4",
        "colab": {
          "base_uri": "https://localhost:8080/"
        }
      },
      "source": [
        "# เช็ค missing\n",
        "data_58.isnull().any()"
      ],
      "execution_count": 7,
      "outputs": [
        {
          "output_type": "execute_result",
          "data": {
            "text/plain": [
              "No.               False\n",
              "number_month      False\n",
              "month             False\n",
              "Year              False\n",
              "type              False\n",
              "product            True\n",
              "qty_per_year       True\n",
              "value_per_year     True\n",
              "dtype: bool"
            ]
          },
          "metadata": {},
          "execution_count": 7
        }
      ]
    },
    {
      "cell_type": "code",
      "metadata": {
        "id": "8jFgK568CLbg"
      },
      "source": [
        "# product\n",
        "data_58[['product']] = data_58[['product']].fillna('ไม่มีข้อมูล')\n",
        "\n",
        "# qty_per_year\n",
        "avg_qty_per_year58 = data_58[['qty_per_year']].mean()\n",
        "# เติม mean ลงไปแทนค่า missing\n",
        "data_58[['qty_per_year']] = data_58[['qty_per_year']].fillna('avg_qty_per_year58')\n",
        "\n",
        "# value_per_year\n",
        "avg_value_per_year58 = data_58[['value_per_year']].mean()\n",
        "# เติม mean ลงไปแทนค่า missing\n",
        "data_58[['value_per_year']] = data_58[['value_per_year']].fillna('avg_value_per_year58')"
      ],
      "execution_count": 8,
      "outputs": []
    },
    {
      "cell_type": "code",
      "metadata": {
        "id": "hjzS0L6ZCLZM",
        "outputId": "6500ac75-993d-489e-c396-417b55eef5d2",
        "colab": {
          "base_uri": "https://localhost:8080/"
        }
      },
      "source": [
        "# เช็ค missing อีกรอบ\n",
        "data_58.isnull().any()"
      ],
      "execution_count": 9,
      "outputs": [
        {
          "output_type": "execute_result",
          "data": {
            "text/plain": [
              "No.               False\n",
              "number_month      False\n",
              "month             False\n",
              "Year              False\n",
              "type              False\n",
              "product           False\n",
              "qty_per_year      False\n",
              "value_per_year    False\n",
              "dtype: bool"
            ]
          },
          "metadata": {},
          "execution_count": 9
        }
      ]
    },
    {
      "cell_type": "code",
      "metadata": {
        "id": "fgZPuyGzAzYv",
        "outputId": "cf0a8138-9f57-475d-ca03-22b4bb848048",
        "colab": {
          "base_uri": "https://localhost:8080/"
        }
      },
      "source": [
        "# เช็ค missing\n",
        "data_59.isnull().any()"
      ],
      "execution_count": 10,
      "outputs": [
        {
          "output_type": "execute_result",
          "data": {
            "text/plain": [
              "No.               False\n",
              "number_month      False\n",
              "month             False\n",
              "Year              False\n",
              "type              False\n",
              "product            True\n",
              "qty_per_year       True\n",
              "value_per_year     True\n",
              "dtype: bool"
            ]
          },
          "metadata": {},
          "execution_count": 10
        }
      ]
    },
    {
      "cell_type": "code",
      "metadata": {
        "id": "ByhzIcwXCLWm"
      },
      "source": [
        "# product\n",
        "data_59[['product']] = data_59[['product']].fillna('ไม่มีข้อมูล')\n",
        "\n",
        "# qty_per_year\n",
        "avg_qty_per_year59 = data_59[['qty_per_year']].mean()\n",
        "# เติม mean ลงไปแทนค่า missing\n",
        "data_59[['qty_per_year']] = data_59[['qty_per_year']].fillna('avg_qty_per_year59')\n",
        "\n",
        "# value_per_year\n",
        "avg_value_per_year59 = data_59[['value_per_year']].mean()\n",
        "# เติม mean ลงไปแทนค่า missing\n",
        "data_59[['value_per_year']] = data_59[['value_per_year']].fillna('avg_value_per_year59')"
      ],
      "execution_count": 11,
      "outputs": []
    },
    {
      "cell_type": "code",
      "metadata": {
        "id": "f80BwDjPCLTq",
        "outputId": "00103033-98a8-48ab-b64d-17cf83d9f8fb",
        "colab": {
          "base_uri": "https://localhost:8080/"
        }
      },
      "source": [
        "# เช็ค missing อีกรอบ\n",
        "data_59.isnull().any()"
      ],
      "execution_count": 12,
      "outputs": [
        {
          "output_type": "execute_result",
          "data": {
            "text/plain": [
              "No.               False\n",
              "number_month      False\n",
              "month             False\n",
              "Year              False\n",
              "type              False\n",
              "product           False\n",
              "qty_per_year      False\n",
              "value_per_year    False\n",
              "dtype: bool"
            ]
          },
          "metadata": {},
          "execution_count": 12
        }
      ]
    },
    {
      "cell_type": "code",
      "metadata": {
        "id": "cRLlrNtsAzVq",
        "outputId": "6d1546bb-a9ea-43f3-b401-77d9b3a8870e",
        "colab": {
          "base_uri": "https://localhost:8080/"
        }
      },
      "source": [
        "# เช็ค missing\n",
        "data_60.isnull().any()"
      ],
      "execution_count": 13,
      "outputs": [
        {
          "output_type": "execute_result",
          "data": {
            "text/plain": [
              "No.               False\n",
              "number_month      False\n",
              "month             False\n",
              "Year              False\n",
              "type              False\n",
              "product            True\n",
              "qty_per_year       True\n",
              "value_per_year     True\n",
              "dtype: bool"
            ]
          },
          "metadata": {},
          "execution_count": 13
        }
      ]
    },
    {
      "cell_type": "code",
      "metadata": {
        "id": "6gLRVCxLD_9T"
      },
      "source": [
        "# product\n",
        "data_60[['product']] = data_60[['product']].fillna('ไม่มีข้อมูล')\n",
        "\n",
        "# qty_per_year\n",
        "avg_qty_per_year60 = data_60[['qty_per_year']].mean()\n",
        "# เติม mean ลงไปแทนค่า missing\n",
        "data_60[['qty_per_year']] = data_60[['qty_per_year']].fillna('avg_qty_per_year60')\n",
        "\n",
        "# value_per_year\n",
        "avg_value_per_year60 = data_60[['value_per_year']].mean()\n",
        "# เติม mean ลงไปแทนค่า missing\n",
        "data_60[['value_per_year']] = data_60[['value_per_year']].fillna('avg_value_per_year60')"
      ],
      "execution_count": 14,
      "outputs": []
    },
    {
      "cell_type": "code",
      "metadata": {
        "id": "RIm4xUOcEL6Z",
        "outputId": "0c0d5609-9237-49a2-e88e-847f607b98f4",
        "colab": {
          "base_uri": "https://localhost:8080/"
        }
      },
      "source": [
        "# เช็ค missing อีกรอบ\n",
        "data_60.isnull().any()"
      ],
      "execution_count": 15,
      "outputs": [
        {
          "output_type": "execute_result",
          "data": {
            "text/plain": [
              "No.               False\n",
              "number_month      False\n",
              "month             False\n",
              "Year              False\n",
              "type              False\n",
              "product           False\n",
              "qty_per_year      False\n",
              "value_per_year    False\n",
              "dtype: bool"
            ]
          },
          "metadata": {},
          "execution_count": 15
        }
      ]
    },
    {
      "cell_type": "markdown",
      "metadata": {
        "id": "ZdVwGSi3sokK"
      },
      "source": [
        "# เชื่อมตาราง"
      ]
    },
    {
      "cell_type": "code",
      "metadata": {
        "id": "XUvgjoCsBX2s",
        "outputId": "0d31a944-d33b-496b-c7de-c3a16b1a2254",
        "colab": {
          "base_uri": "https://localhost:8080/",
          "height": 419
        }
      },
      "source": [
        "data_export = pd.concat([data_58,data_59,data_60])  # ต่อตารางแนวแกน Y\n",
        "data_export"
      ],
      "execution_count": 17,
      "outputs": [
        {
          "output_type": "execute_result",
          "data": {
            "text/html": [
              "<div>\n",
              "<style scoped>\n",
              "    .dataframe tbody tr th:only-of-type {\n",
              "        vertical-align: middle;\n",
              "    }\n",
              "\n",
              "    .dataframe tbody tr th {\n",
              "        vertical-align: top;\n",
              "    }\n",
              "\n",
              "    .dataframe thead th {\n",
              "        text-align: right;\n",
              "    }\n",
              "</style>\n",
              "<table border=\"1\" class=\"dataframe\">\n",
              "  <thead>\n",
              "    <tr style=\"text-align: right;\">\n",
              "      <th></th>\n",
              "      <th>No.</th>\n",
              "      <th>number_month</th>\n",
              "      <th>month</th>\n",
              "      <th>Year</th>\n",
              "      <th>type</th>\n",
              "      <th>product</th>\n",
              "      <th>qty_per_year</th>\n",
              "      <th>value_per_year</th>\n",
              "    </tr>\n",
              "  </thead>\n",
              "  <tbody>\n",
              "    <tr>\n",
              "      <th>0</th>\n",
              "      <td>1</td>\n",
              "      <td>1</td>\n",
              "      <td>ม.ค.</td>\n",
              "      <td>2558</td>\n",
              "      <td>เงาะ</td>\n",
              "      <td>เงาะบรรจุภาชนะที่อากาศผ่านเข้าออกไม่ได้</td>\n",
              "      <td>262,519</td>\n",
              "      <td>15,781,599</td>\n",
              "    </tr>\n",
              "    <tr>\n",
              "      <th>1</th>\n",
              "      <td>2</td>\n",
              "      <td>2</td>\n",
              "      <td>ก.พ.</td>\n",
              "      <td>2558</td>\n",
              "      <td>เงาะ</td>\n",
              "      <td>เงาะบรรจุภาชนะที่อากาศผ่านเข้าออกไม่ได้</td>\n",
              "      <td>98,167</td>\n",
              "      <td>5,549,497</td>\n",
              "    </tr>\n",
              "    <tr>\n",
              "      <th>2</th>\n",
              "      <td>3</td>\n",
              "      <td>3</td>\n",
              "      <td>มี.ค.</td>\n",
              "      <td>2558</td>\n",
              "      <td>เงาะ</td>\n",
              "      <td>เงาะบรรจุภาชนะที่อากาศผ่านเข้าออกไม่ได้</td>\n",
              "      <td>124,920</td>\n",
              "      <td>7,129,611</td>\n",
              "    </tr>\n",
              "    <tr>\n",
              "      <th>3</th>\n",
              "      <td>4</td>\n",
              "      <td>4</td>\n",
              "      <td>เม.ย.</td>\n",
              "      <td>2558</td>\n",
              "      <td>เงาะ</td>\n",
              "      <td>เงาะบรรจุภาชนะที่อากาศผ่านเข้าออกไม่ได้</td>\n",
              "      <td>65,049</td>\n",
              "      <td>3,908,310</td>\n",
              "    </tr>\n",
              "    <tr>\n",
              "      <th>4</th>\n",
              "      <td>5</td>\n",
              "      <td>5</td>\n",
              "      <td>พ.ค.</td>\n",
              "      <td>2558</td>\n",
              "      <td>เงาะ</td>\n",
              "      <td>เงาะบรรจุภาชนะที่อากาศผ่านเข้าออกไม่ได้</td>\n",
              "      <td>118,085</td>\n",
              "      <td>8,057,296</td>\n",
              "    </tr>\n",
              "    <tr>\n",
              "      <th>...</th>\n",
              "      <td>...</td>\n",
              "      <td>...</td>\n",
              "      <td>...</td>\n",
              "      <td>...</td>\n",
              "      <td>...</td>\n",
              "      <td>...</td>\n",
              "      <td>...</td>\n",
              "      <td>...</td>\n",
              "    </tr>\n",
              "    <tr>\n",
              "      <th>198</th>\n",
              "      <td>199</td>\n",
              "      <td>8</td>\n",
              "      <td>ส.ค.</td>\n",
              "      <td>2560</td>\n",
              "      <td>ลองกอง</td>\n",
              "      <td>ไม่มีข้อมูล</td>\n",
              "      <td>173,789</td>\n",
              "      <td>6,607,820</td>\n",
              "    </tr>\n",
              "    <tr>\n",
              "      <th>199</th>\n",
              "      <td>200</td>\n",
              "      <td>9</td>\n",
              "      <td>ก.ย.</td>\n",
              "      <td>2560</td>\n",
              "      <td>ลองกอง</td>\n",
              "      <td>ไม่มีข้อมูล</td>\n",
              "      <td>73,432</td>\n",
              "      <td>3,645,467</td>\n",
              "    </tr>\n",
              "    <tr>\n",
              "      <th>200</th>\n",
              "      <td>201</td>\n",
              "      <td>10</td>\n",
              "      <td>ต.ค.</td>\n",
              "      <td>2560</td>\n",
              "      <td>ลองกอง</td>\n",
              "      <td>ไม่มีข้อมูล</td>\n",
              "      <td>13,840</td>\n",
              "      <td>717,044</td>\n",
              "    </tr>\n",
              "    <tr>\n",
              "      <th>201</th>\n",
              "      <td>202</td>\n",
              "      <td>11</td>\n",
              "      <td>พ.ย.</td>\n",
              "      <td>2560</td>\n",
              "      <td>ลองกอง</td>\n",
              "      <td>ไม่มีข้อมูล</td>\n",
              "      <td>9,092</td>\n",
              "      <td>361,561</td>\n",
              "    </tr>\n",
              "    <tr>\n",
              "      <th>202</th>\n",
              "      <td>203</td>\n",
              "      <td>12</td>\n",
              "      <td>ธ.ค.</td>\n",
              "      <td>2560</td>\n",
              "      <td>ลองกอง</td>\n",
              "      <td>ไม่มีข้อมูล</td>\n",
              "      <td>10,881</td>\n",
              "      <td>364,204</td>\n",
              "    </tr>\n",
              "  </tbody>\n",
              "</table>\n",
              "<p>609 rows × 8 columns</p>\n",
              "</div>"
            ],
            "text/plain": [
              "     No.  number_month  ... qty_per_year  value_per_year\n",
              "0      1             1  ...      262,519      15,781,599\n",
              "1      2             2  ...       98,167       5,549,497\n",
              "2      3             3  ...      124,920       7,129,611\n",
              "3      4             4  ...       65,049       3,908,310\n",
              "4      5             5  ...      118,085       8,057,296\n",
              "..   ...           ...  ...          ...             ...\n",
              "198  199             8  ...      173,789       6,607,820\n",
              "199  200             9  ...       73,432       3,645,467\n",
              "200  201            10  ...       13,840         717,044\n",
              "201  202            11  ...        9,092         361,561\n",
              "202  203            12  ...       10,881         364,204\n",
              "\n",
              "[609 rows x 8 columns]"
            ]
          },
          "metadata": {},
          "execution_count": 17
        }
      ]
    },
    {
      "cell_type": "code",
      "metadata": {
        "id": "REmlp1YgHrwv",
        "outputId": "6e63f05c-0212-49e2-8aa1-47d257d1fa3c",
        "colab": {
          "base_uri": "https://localhost:8080/"
        }
      },
      "source": [
        "# เช็ค missing\n",
        "data_export.isnull().any()"
      ],
      "execution_count": 18,
      "outputs": [
        {
          "output_type": "execute_result",
          "data": {
            "text/plain": [
              "No.               False\n",
              "number_month      False\n",
              "month             False\n",
              "Year              False\n",
              "type              False\n",
              "product           False\n",
              "qty_per_year      False\n",
              "value_per_year    False\n",
              "dtype: bool"
            ]
          },
          "metadata": {},
          "execution_count": 18
        }
      ]
    }
  ]
}