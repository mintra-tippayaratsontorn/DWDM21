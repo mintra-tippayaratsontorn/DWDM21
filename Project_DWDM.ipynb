{
  "nbformat": 4,
  "nbformat_minor": 0,
  "metadata": {
    "colab": {
      "name": "Project DWDM.ipynb",
      "provenance": [],
      "authorship_tag": "ABX9TyMaF3IU0NXLhtRaCxnAEfLA",
      "include_colab_link": true
    },
    "kernelspec": {
      "name": "python3",
      "display_name": "Python 3"
    },
    "language_info": {
      "name": "python"
    }
  },
  "cells": [
    {
      "cell_type": "markdown",
      "metadata": {
        "id": "view-in-github",
        "colab_type": "text"
      },
      "source": [
        "<a href=\"https://colab.research.google.com/github/mintra-tippayaratsontorn/DWDM21/blob/main/Project_DWDM.ipynb\" target=\"_parent\"><img src=\"https://colab.research.google.com/assets/colab-badge.svg\" alt=\"Open In Colab\"/></a>"
      ]
    },
    {
      "cell_type": "markdown",
      "metadata": {
        "id": "pbIXuavd9NZW"
      },
      "source": [
        "Project กลุ่ม\n",
        "* present วันที่ 31 สิงหาคม 2564\n",
        "* ข้อมูลที่ไปดึงมาจาก 3 แหล่ง\n",
        "* แสดงวิธีการโหลด\n",
        "* ความเชื่อมโยง 3 ตาราง (index)"
      ]
    },
    {
      "cell_type": "code",
      "metadata": {
        "id": "hCLi-68U7R8r"
      },
      "source": [
        "import pandas as pd"
      ],
      "execution_count": 1,
      "outputs": []
    },
    {
      "cell_type": "code",
      "metadata": {
        "colab": {
          "base_uri": "https://localhost:8080/"
        },
        "id": "F6ZSI1LE9ZTP",
        "outputId": "8f885516-bfaa-49c6-fbf4-2a271ad99524"
      },
      "source": [
        "from google.colab import drive\n",
        "drive.mount('/content/drive')"
      ],
      "execution_count": 2,
      "outputs": [
        {
          "output_type": "stream",
          "text": [
            "Mounted at /content/drive\n"
          ],
          "name": "stdout"
        }
      ]
    },
    {
      "cell_type": "code",
      "metadata": {
        "id": "JsYIGYC89dFO"
      },
      "source": [
        "import os"
      ],
      "execution_count": 3,
      "outputs": []
    },
    {
      "cell_type": "code",
      "metadata": {
        "id": "q5BEyWyQNuC4"
      },
      "source": [
        "path = '/content/drive/My Drive/PROJECT_DWDM'"
      ],
      "execution_count": 4,
      "outputs": []
    },
    {
      "cell_type": "markdown",
      "metadata": {
        "id": "Le71a_UlN0FM"
      },
      "source": [
        "# Load Data"
      ]
    },
    {
      "cell_type": "code",
      "metadata": {
        "colab": {
          "base_uri": "https://localhost:8080/",
          "height": 419
        },
        "id": "Q9iofwQ19jwW",
        "outputId": "67c2b3cf-a8db-47a2-98e6-f845eb368413"
      },
      "source": [
        "data_58 = pd.read_csv(os.path.join(path,'ผลไม้ส่งออกรายเดือนปี58.csv'))\n",
        "data_58"
      ],
      "execution_count": 5,
      "outputs": [
        {
          "output_type": "execute_result",
          "data": {
            "text/html": [
              "<div>\n",
              "<style scoped>\n",
              "    .dataframe tbody tr th:only-of-type {\n",
              "        vertical-align: middle;\n",
              "    }\n",
              "\n",
              "    .dataframe tbody tr th {\n",
              "        vertical-align: top;\n",
              "    }\n",
              "\n",
              "    .dataframe thead th {\n",
              "        text-align: right;\n",
              "    }\n",
              "</style>\n",
              "<table border=\"1\" class=\"dataframe\">\n",
              "  <thead>\n",
              "    <tr style=\"text-align: right;\">\n",
              "      <th></th>\n",
              "      <th>No.</th>\n",
              "      <th>number_month</th>\n",
              "      <th>month</th>\n",
              "      <th>Year</th>\n",
              "      <th>type</th>\n",
              "      <th>product</th>\n",
              "      <th>qty_per_year</th>\n",
              "      <th>value_per_year</th>\n",
              "    </tr>\n",
              "  </thead>\n",
              "  <tbody>\n",
              "    <tr>\n",
              "      <th>0</th>\n",
              "      <td>1</td>\n",
              "      <td>1</td>\n",
              "      <td>ม.ค.</td>\n",
              "      <td>2558</td>\n",
              "      <td>เงาะ</td>\n",
              "      <td>เงาะบรรจุภาชนะที่อากาศผ่านเข้าออกไม่ได้</td>\n",
              "      <td>262,519</td>\n",
              "      <td>15,781,599</td>\n",
              "    </tr>\n",
              "    <tr>\n",
              "      <th>1</th>\n",
              "      <td>2</td>\n",
              "      <td>2</td>\n",
              "      <td>ก.พ.</td>\n",
              "      <td>2558</td>\n",
              "      <td>เงาะ</td>\n",
              "      <td>เงาะบรรจุภาชนะที่อากาศผ่านเข้าออกไม่ได้</td>\n",
              "      <td>98,167</td>\n",
              "      <td>5,549,497</td>\n",
              "    </tr>\n",
              "    <tr>\n",
              "      <th>2</th>\n",
              "      <td>3</td>\n",
              "      <td>3</td>\n",
              "      <td>มี.ค.</td>\n",
              "      <td>2558</td>\n",
              "      <td>เงาะ</td>\n",
              "      <td>เงาะบรรจุภาชนะที่อากาศผ่านเข้าออกไม่ได้</td>\n",
              "      <td>124,920</td>\n",
              "      <td>7,129,611</td>\n",
              "    </tr>\n",
              "    <tr>\n",
              "      <th>3</th>\n",
              "      <td>4</td>\n",
              "      <td>4</td>\n",
              "      <td>เม.ย.</td>\n",
              "      <td>2558</td>\n",
              "      <td>เงาะ</td>\n",
              "      <td>เงาะบรรจุภาชนะที่อากาศผ่านเข้าออกไม่ได้</td>\n",
              "      <td>65,049</td>\n",
              "      <td>3,908,310</td>\n",
              "    </tr>\n",
              "    <tr>\n",
              "      <th>4</th>\n",
              "      <td>5</td>\n",
              "      <td>5</td>\n",
              "      <td>พ.ค.</td>\n",
              "      <td>2558</td>\n",
              "      <td>เงาะ</td>\n",
              "      <td>เงาะบรรจุภาชนะที่อากาศผ่านเข้าออกไม่ได้</td>\n",
              "      <td>118,085</td>\n",
              "      <td>8,057,296</td>\n",
              "    </tr>\n",
              "    <tr>\n",
              "      <th>...</th>\n",
              "      <td>...</td>\n",
              "      <td>...</td>\n",
              "      <td>...</td>\n",
              "      <td>...</td>\n",
              "      <td>...</td>\n",
              "      <td>...</td>\n",
              "      <td>...</td>\n",
              "      <td>...</td>\n",
              "    </tr>\n",
              "    <tr>\n",
              "      <th>198</th>\n",
              "      <td>199</td>\n",
              "      <td>8</td>\n",
              "      <td>ส.ค.</td>\n",
              "      <td>2558</td>\n",
              "      <td>ลองกอง</td>\n",
              "      <td>NaN</td>\n",
              "      <td>121,927</td>\n",
              "      <td>2,507,646</td>\n",
              "    </tr>\n",
              "    <tr>\n",
              "      <th>199</th>\n",
              "      <td>200</td>\n",
              "      <td>9</td>\n",
              "      <td>ก.ย.</td>\n",
              "      <td>2558</td>\n",
              "      <td>ลองกอง</td>\n",
              "      <td>NaN</td>\n",
              "      <td>406,387</td>\n",
              "      <td>5,826,700</td>\n",
              "    </tr>\n",
              "    <tr>\n",
              "      <th>200</th>\n",
              "      <td>201</td>\n",
              "      <td>10</td>\n",
              "      <td>ต.ค.</td>\n",
              "      <td>2558</td>\n",
              "      <td>ลองกอง</td>\n",
              "      <td>NaN</td>\n",
              "      <td>703,727</td>\n",
              "      <td>10,147,319</td>\n",
              "    </tr>\n",
              "    <tr>\n",
              "      <th>201</th>\n",
              "      <td>202</td>\n",
              "      <td>11</td>\n",
              "      <td>พ.ย.</td>\n",
              "      <td>2558</td>\n",
              "      <td>ลองกอง</td>\n",
              "      <td>NaN</td>\n",
              "      <td>6,120</td>\n",
              "      <td>324,968</td>\n",
              "    </tr>\n",
              "    <tr>\n",
              "      <th>202</th>\n",
              "      <td>203</td>\n",
              "      <td>12</td>\n",
              "      <td>ธ.ค.</td>\n",
              "      <td>2558</td>\n",
              "      <td>ลองกอง</td>\n",
              "      <td>NaN</td>\n",
              "      <td>9,035</td>\n",
              "      <td>91,720</td>\n",
              "    </tr>\n",
              "  </tbody>\n",
              "</table>\n",
              "<p>203 rows × 8 columns</p>\n",
              "</div>"
            ],
            "text/plain": [
              "     No.  number_month  ... qty_per_year  value_per_year\n",
              "0      1             1  ...      262,519      15,781,599\n",
              "1      2             2  ...       98,167       5,549,497\n",
              "2      3             3  ...      124,920       7,129,611\n",
              "3      4             4  ...       65,049       3,908,310\n",
              "4      5             5  ...      118,085       8,057,296\n",
              "..   ...           ...  ...          ...             ...\n",
              "198  199             8  ...      121,927       2,507,646\n",
              "199  200             9  ...      406,387       5,826,700\n",
              "200  201            10  ...      703,727      10,147,319\n",
              "201  202            11  ...        6,120         324,968\n",
              "202  203            12  ...        9,035          91,720\n",
              "\n",
              "[203 rows x 8 columns]"
            ]
          },
          "metadata": {},
          "execution_count": 5
        }
      ]
    },
    {
      "cell_type": "code",
      "metadata": {
        "colab": {
          "base_uri": "https://localhost:8080/",
          "height": 419
        },
        "id": "D5IoZfde-rVk",
        "outputId": "36372164-26ae-4c4e-d3e3-d3eaad066c93"
      },
      "source": [
        "data_59 = pd.read_csv(os.path.join(path,'ผลไม้ส่งออกรายเดือนปี59.csv'))\n",
        "data_59"
      ],
      "execution_count": 6,
      "outputs": [
        {
          "output_type": "execute_result",
          "data": {
            "text/html": [
              "<div>\n",
              "<style scoped>\n",
              "    .dataframe tbody tr th:only-of-type {\n",
              "        vertical-align: middle;\n",
              "    }\n",
              "\n",
              "    .dataframe tbody tr th {\n",
              "        vertical-align: top;\n",
              "    }\n",
              "\n",
              "    .dataframe thead th {\n",
              "        text-align: right;\n",
              "    }\n",
              "</style>\n",
              "<table border=\"1\" class=\"dataframe\">\n",
              "  <thead>\n",
              "    <tr style=\"text-align: right;\">\n",
              "      <th></th>\n",
              "      <th>No.</th>\n",
              "      <th>number_month</th>\n",
              "      <th>month</th>\n",
              "      <th>Year</th>\n",
              "      <th>type</th>\n",
              "      <th>product</th>\n",
              "      <th>qty_per_year</th>\n",
              "      <th>value_per_year</th>\n",
              "    </tr>\n",
              "  </thead>\n",
              "  <tbody>\n",
              "    <tr>\n",
              "      <th>0</th>\n",
              "      <td>1</td>\n",
              "      <td>1</td>\n",
              "      <td>ม.ค.</td>\n",
              "      <td>2559</td>\n",
              "      <td>เงาะ</td>\n",
              "      <td>เงาะบรรจุภาชนะที่อากาศผ่านเข้าออกไม่ได้</td>\n",
              "      <td>217,213</td>\n",
              "      <td>13,813,306</td>\n",
              "    </tr>\n",
              "    <tr>\n",
              "      <th>1</th>\n",
              "      <td>2</td>\n",
              "      <td>2</td>\n",
              "      <td>ก.พ.</td>\n",
              "      <td>2559</td>\n",
              "      <td>เงาะ</td>\n",
              "      <td>เงาะบรรจุภาชนะที่อากาศผ่านเข้าออกไม่ได้</td>\n",
              "      <td>243,690</td>\n",
              "      <td>16,387,244</td>\n",
              "    </tr>\n",
              "    <tr>\n",
              "      <th>2</th>\n",
              "      <td>3</td>\n",
              "      <td>3</td>\n",
              "      <td>มี.ค.</td>\n",
              "      <td>2559</td>\n",
              "      <td>เงาะ</td>\n",
              "      <td>เงาะบรรจุภาชนะที่อากาศผ่านเข้าออกไม่ได้</td>\n",
              "      <td>181,398</td>\n",
              "      <td>13,115,358</td>\n",
              "    </tr>\n",
              "    <tr>\n",
              "      <th>3</th>\n",
              "      <td>4</td>\n",
              "      <td>4</td>\n",
              "      <td>เม.ย.</td>\n",
              "      <td>2559</td>\n",
              "      <td>เงาะ</td>\n",
              "      <td>เงาะบรรจุภาชนะที่อากาศผ่านเข้าออกไม่ได้</td>\n",
              "      <td>95,551</td>\n",
              "      <td>6,268,547</td>\n",
              "    </tr>\n",
              "    <tr>\n",
              "      <th>4</th>\n",
              "      <td>5</td>\n",
              "      <td>5</td>\n",
              "      <td>พ.ค.</td>\n",
              "      <td>2559</td>\n",
              "      <td>เงาะ</td>\n",
              "      <td>เงาะบรรจุภาชนะที่อากาศผ่านเข้าออกไม่ได้</td>\n",
              "      <td>179,018</td>\n",
              "      <td>13,068,776</td>\n",
              "    </tr>\n",
              "    <tr>\n",
              "      <th>...</th>\n",
              "      <td>...</td>\n",
              "      <td>...</td>\n",
              "      <td>...</td>\n",
              "      <td>...</td>\n",
              "      <td>...</td>\n",
              "      <td>...</td>\n",
              "      <td>...</td>\n",
              "      <td>...</td>\n",
              "    </tr>\n",
              "    <tr>\n",
              "      <th>198</th>\n",
              "      <td>199</td>\n",
              "      <td>8</td>\n",
              "      <td>ส.ค.</td>\n",
              "      <td>2559</td>\n",
              "      <td>ลองกอง</td>\n",
              "      <td>NaN</td>\n",
              "      <td>19,354</td>\n",
              "      <td>765,726</td>\n",
              "    </tr>\n",
              "    <tr>\n",
              "      <th>199</th>\n",
              "      <td>200</td>\n",
              "      <td>9</td>\n",
              "      <td>ก.ย.</td>\n",
              "      <td>2559</td>\n",
              "      <td>ลองกอง</td>\n",
              "      <td>NaN</td>\n",
              "      <td>78,113</td>\n",
              "      <td>1,369,584</td>\n",
              "    </tr>\n",
              "    <tr>\n",
              "      <th>200</th>\n",
              "      <td>201</td>\n",
              "      <td>10</td>\n",
              "      <td>ต.ค.</td>\n",
              "      <td>2559</td>\n",
              "      <td>ลองกอง</td>\n",
              "      <td>NaN</td>\n",
              "      <td>895,751</td>\n",
              "      <td>7,264,997</td>\n",
              "    </tr>\n",
              "    <tr>\n",
              "      <th>201</th>\n",
              "      <td>202</td>\n",
              "      <td>11</td>\n",
              "      <td>พ.ย.</td>\n",
              "      <td>2559</td>\n",
              "      <td>ลองกอง</td>\n",
              "      <td>NaN</td>\n",
              "      <td>789,156</td>\n",
              "      <td>15,511,989</td>\n",
              "    </tr>\n",
              "    <tr>\n",
              "      <th>202</th>\n",
              "      <td>203</td>\n",
              "      <td>12</td>\n",
              "      <td>ธ.ค.</td>\n",
              "      <td>2559</td>\n",
              "      <td>ลองกอง</td>\n",
              "      <td>NaN</td>\n",
              "      <td>399,055</td>\n",
              "      <td>5,130,042</td>\n",
              "    </tr>\n",
              "  </tbody>\n",
              "</table>\n",
              "<p>203 rows × 8 columns</p>\n",
              "</div>"
            ],
            "text/plain": [
              "     No.  number_month  ... qty_per_year  value_per_year\n",
              "0      1             1  ...      217,213      13,813,306\n",
              "1      2             2  ...      243,690      16,387,244\n",
              "2      3             3  ...      181,398      13,115,358\n",
              "3      4             4  ...       95,551       6,268,547\n",
              "4      5             5  ...      179,018      13,068,776\n",
              "..   ...           ...  ...          ...             ...\n",
              "198  199             8  ...       19,354         765,726\n",
              "199  200             9  ...       78,113       1,369,584\n",
              "200  201            10  ...      895,751       7,264,997\n",
              "201  202            11  ...      789,156      15,511,989\n",
              "202  203            12  ...      399,055       5,130,042\n",
              "\n",
              "[203 rows x 8 columns]"
            ]
          },
          "metadata": {},
          "execution_count": 6
        }
      ]
    },
    {
      "cell_type": "code",
      "metadata": {
        "colab": {
          "base_uri": "https://localhost:8080/",
          "height": 419
        },
        "id": "uET6yqEN-vt9",
        "outputId": "8e429db9-24e1-432f-99a6-80b57bfc4700"
      },
      "source": [
        "data_60 = pd.read_csv(os.path.join(path,'ผลไม้ส่งออกรายเดือนปี60.csv'))\n",
        "data_60"
      ],
      "execution_count": 7,
      "outputs": [
        {
          "output_type": "execute_result",
          "data": {
            "text/html": [
              "<div>\n",
              "<style scoped>\n",
              "    .dataframe tbody tr th:only-of-type {\n",
              "        vertical-align: middle;\n",
              "    }\n",
              "\n",
              "    .dataframe tbody tr th {\n",
              "        vertical-align: top;\n",
              "    }\n",
              "\n",
              "    .dataframe thead th {\n",
              "        text-align: right;\n",
              "    }\n",
              "</style>\n",
              "<table border=\"1\" class=\"dataframe\">\n",
              "  <thead>\n",
              "    <tr style=\"text-align: right;\">\n",
              "      <th></th>\n",
              "      <th>No.</th>\n",
              "      <th>number_month</th>\n",
              "      <th>month</th>\n",
              "      <th>Year</th>\n",
              "      <th>type</th>\n",
              "      <th>product</th>\n",
              "      <th>qty_per_year</th>\n",
              "      <th>value_per_year</th>\n",
              "    </tr>\n",
              "  </thead>\n",
              "  <tbody>\n",
              "    <tr>\n",
              "      <th>0</th>\n",
              "      <td>1</td>\n",
              "      <td>1</td>\n",
              "      <td>ม.ค.</td>\n",
              "      <td>2560</td>\n",
              "      <td>เงาะ</td>\n",
              "      <td>เงาะบรรจุภาชนะที่อากาศผ่านเข้าออกไม่ได้</td>\n",
              "      <td>123,631</td>\n",
              "      <td>7,957,513</td>\n",
              "    </tr>\n",
              "    <tr>\n",
              "      <th>1</th>\n",
              "      <td>2</td>\n",
              "      <td>2</td>\n",
              "      <td>ก.พ.</td>\n",
              "      <td>2560</td>\n",
              "      <td>เงาะ</td>\n",
              "      <td>เงาะบรรจุภาชนะที่อากาศผ่านเข้าออกไม่ได้</td>\n",
              "      <td>70,831</td>\n",
              "      <td>4,619,708</td>\n",
              "    </tr>\n",
              "    <tr>\n",
              "      <th>2</th>\n",
              "      <td>3</td>\n",
              "      <td>3</td>\n",
              "      <td>มี.ค.</td>\n",
              "      <td>2560</td>\n",
              "      <td>เงาะ</td>\n",
              "      <td>เงาะบรรจุภาชนะที่อากาศผ่านเข้าออกไม่ได้</td>\n",
              "      <td>132,200</td>\n",
              "      <td>8,337,277</td>\n",
              "    </tr>\n",
              "    <tr>\n",
              "      <th>3</th>\n",
              "      <td>4</td>\n",
              "      <td>4</td>\n",
              "      <td>เม.ย.</td>\n",
              "      <td>2560</td>\n",
              "      <td>เงาะ</td>\n",
              "      <td>เงาะบรรจุภาชนะที่อากาศผ่านเข้าออกไม่ได้</td>\n",
              "      <td>92,494</td>\n",
              "      <td>6,485,861</td>\n",
              "    </tr>\n",
              "    <tr>\n",
              "      <th>4</th>\n",
              "      <td>5</td>\n",
              "      <td>5</td>\n",
              "      <td>พ.ค.</td>\n",
              "      <td>2560</td>\n",
              "      <td>เงาะ</td>\n",
              "      <td>เงาะบรรจุภาชนะที่อากาศผ่านเข้าออกไม่ได้</td>\n",
              "      <td>227,581</td>\n",
              "      <td>12,924,734</td>\n",
              "    </tr>\n",
              "    <tr>\n",
              "      <th>...</th>\n",
              "      <td>...</td>\n",
              "      <td>...</td>\n",
              "      <td>...</td>\n",
              "      <td>...</td>\n",
              "      <td>...</td>\n",
              "      <td>...</td>\n",
              "      <td>...</td>\n",
              "      <td>...</td>\n",
              "    </tr>\n",
              "    <tr>\n",
              "      <th>198</th>\n",
              "      <td>199</td>\n",
              "      <td>8</td>\n",
              "      <td>ส.ค.</td>\n",
              "      <td>2560</td>\n",
              "      <td>ลองกอง</td>\n",
              "      <td>NaN</td>\n",
              "      <td>173,789</td>\n",
              "      <td>6,607,820</td>\n",
              "    </tr>\n",
              "    <tr>\n",
              "      <th>199</th>\n",
              "      <td>200</td>\n",
              "      <td>9</td>\n",
              "      <td>ก.ย.</td>\n",
              "      <td>2560</td>\n",
              "      <td>ลองกอง</td>\n",
              "      <td>NaN</td>\n",
              "      <td>73,432</td>\n",
              "      <td>3,645,467</td>\n",
              "    </tr>\n",
              "    <tr>\n",
              "      <th>200</th>\n",
              "      <td>201</td>\n",
              "      <td>10</td>\n",
              "      <td>ต.ค.</td>\n",
              "      <td>2560</td>\n",
              "      <td>ลองกอง</td>\n",
              "      <td>NaN</td>\n",
              "      <td>13,840</td>\n",
              "      <td>717,044</td>\n",
              "    </tr>\n",
              "    <tr>\n",
              "      <th>201</th>\n",
              "      <td>202</td>\n",
              "      <td>11</td>\n",
              "      <td>พ.ย.</td>\n",
              "      <td>2560</td>\n",
              "      <td>ลองกอง</td>\n",
              "      <td>NaN</td>\n",
              "      <td>9,092</td>\n",
              "      <td>361,561</td>\n",
              "    </tr>\n",
              "    <tr>\n",
              "      <th>202</th>\n",
              "      <td>203</td>\n",
              "      <td>12</td>\n",
              "      <td>ธ.ค.</td>\n",
              "      <td>2560</td>\n",
              "      <td>ลองกอง</td>\n",
              "      <td>NaN</td>\n",
              "      <td>10,881</td>\n",
              "      <td>364,204</td>\n",
              "    </tr>\n",
              "  </tbody>\n",
              "</table>\n",
              "<p>203 rows × 8 columns</p>\n",
              "</div>"
            ],
            "text/plain": [
              "     No.  number_month  ... qty_per_year  value_per_year\n",
              "0      1             1  ...      123,631       7,957,513\n",
              "1      2             2  ...       70,831       4,619,708\n",
              "2      3             3  ...      132,200       8,337,277\n",
              "3      4             4  ...       92,494       6,485,861\n",
              "4      5             5  ...      227,581      12,924,734\n",
              "..   ...           ...  ...          ...             ...\n",
              "198  199             8  ...      173,789       6,607,820\n",
              "199  200             9  ...       73,432       3,645,467\n",
              "200  201            10  ...       13,840         717,044\n",
              "201  202            11  ...        9,092         361,561\n",
              "202  203            12  ...       10,881         364,204\n",
              "\n",
              "[203 rows x 8 columns]"
            ]
          },
          "metadata": {},
          "execution_count": 7
        }
      ]
    },
    {
      "cell_type": "markdown",
      "metadata": {
        "id": "m0cAMDL7r4RA"
      },
      "source": [
        "# จัดการ Missing แต่ละตาราง"
      ]
    },
    {
      "cell_type": "code",
      "metadata": {
        "id": "6OXynIdk_aV-",
        "colab": {
          "base_uri": "https://localhost:8080/"
        },
        "outputId": "196c43a0-c2a1-4613-ba32-291904ff8060"
      },
      "source": [
        "# เช็ค missing ปี58\n",
        "data_58.isnull().any()\n",
        "\n",
        "# True แสดงว่า column นั้น ยังมีข้อมูลที่ missing อยู่\n",
        "# False แสดงว่า column นั้น ไม่มีข้อมูลที่ missing แล้ว"
      ],
      "execution_count": 8,
      "outputs": [
        {
          "output_type": "execute_result",
          "data": {
            "text/plain": [
              "No.               False\n",
              "number_month      False\n",
              "month             False\n",
              "Year              False\n",
              "type              False\n",
              "product            True\n",
              "qty_per_year       True\n",
              "value_per_year     True\n",
              "dtype: bool"
            ]
          },
          "metadata": {},
          "execution_count": 8
        }
      ]
    },
    {
      "cell_type": "code",
      "metadata": {
        "id": "8jFgK568CLbg"
      },
      "source": [
        "# เติมค่า/ข้อมูลในช่องที่มี missing\n",
        "\n",
        "# product\n",
        "data_58[['product']] = data_58[['product']].fillna('ไม่มีข้อมูล')  # เนื่องจากข้อมูลเป็นตัวหนังสือ ดังนั้นใช้ fillna ในการเติมข้อมูล\n",
        "\n",
        "# qty_per_year\n",
        "avg_qty_per_year58 = data_58[['qty_per_year']].mean()\n",
        "# เติม mean ลงไปแทนค่า missing\n",
        "data_58[['qty_per_year']] = data_58[['qty_per_year']].fillna('avg_qty_per_year58')\n",
        "\n",
        "# value_per_year\n",
        "avg_value_per_year58 = data_58[['value_per_year']].mean()\n",
        "# เติม mean ลงไปแทนค่า missing\n",
        "data_58[['value_per_year']] = data_58[['value_per_year']].fillna('avg_value_per_year58')"
      ],
      "execution_count": 9,
      "outputs": []
    },
    {
      "cell_type": "code",
      "metadata": {
        "colab": {
          "base_uri": "https://localhost:8080/"
        },
        "id": "hjzS0L6ZCLZM",
        "outputId": "7905a4c2-71a2-41e8-afb0-f4cad1591a68"
      },
      "source": [
        "# เช็ค missing ปี58 (อีกรอบ)\n",
        "data_58.isnull().any()"
      ],
      "execution_count": 10,
      "outputs": [
        {
          "output_type": "execute_result",
          "data": {
            "text/plain": [
              "No.               False\n",
              "number_month      False\n",
              "month             False\n",
              "Year              False\n",
              "type              False\n",
              "product           False\n",
              "qty_per_year      False\n",
              "value_per_year    False\n",
              "dtype: bool"
            ]
          },
          "metadata": {},
          "execution_count": 10
        }
      ]
    },
    {
      "cell_type": "code",
      "metadata": {
        "colab": {
          "base_uri": "https://localhost:8080/"
        },
        "id": "fgZPuyGzAzYv",
        "outputId": "3c8ede0d-27eb-4eee-d4d5-a566110a9066"
      },
      "source": [
        "# เช็ค missing ปี59\n",
        "data_59.isnull().any()\n",
        "\n",
        "# True แสดงว่า column นั้น ยังมีข้อมูลที่ missing อยู่\n",
        "# False แสดงว่า column นั้น ไม่มีข้อมูลที่ missing แล้ว"
      ],
      "execution_count": 11,
      "outputs": [
        {
          "output_type": "execute_result",
          "data": {
            "text/plain": [
              "No.               False\n",
              "number_month      False\n",
              "month             False\n",
              "Year              False\n",
              "type              False\n",
              "product            True\n",
              "qty_per_year       True\n",
              "value_per_year     True\n",
              "dtype: bool"
            ]
          },
          "metadata": {},
          "execution_count": 11
        }
      ]
    },
    {
      "cell_type": "code",
      "metadata": {
        "id": "ByhzIcwXCLWm"
      },
      "source": [
        "# เติมค่า/ข้อมูลในช่องที่มี missing\n",
        "\n",
        "# product\n",
        "data_59[['product']] = data_59[['product']].fillna('ไม่มีข้อมูล')  # เนื่องจากข้อมูลเป็นตัวหนังสือ ดังนั้นใช้ fillna ในการเติมข้อมูล\n",
        "\n",
        "# qty_per_year\n",
        "avg_qty_per_year59 = data_59[['qty_per_year']].mean()\n",
        "# เติม mean ลงไปแทนค่า missing\n",
        "data_59[['qty_per_year']] = data_59[['qty_per_year']].fillna('avg_qty_per_year59')\n",
        "\n",
        "# value_per_year\n",
        "avg_value_per_year59 = data_59[['value_per_year']].mean()\n",
        "# เติม mean ลงไปแทนค่า missing\n",
        "data_59[['value_per_year']] = data_59[['value_per_year']].fillna('avg_value_per_year59')"
      ],
      "execution_count": 12,
      "outputs": []
    },
    {
      "cell_type": "code",
      "metadata": {
        "colab": {
          "base_uri": "https://localhost:8080/"
        },
        "id": "f80BwDjPCLTq",
        "outputId": "e0e9bce9-e7d9-4b19-e89b-f82fd61d62af"
      },
      "source": [
        "# เช็ค missing ปี59 (อีกรอบ)\n",
        "data_59.isnull().any()"
      ],
      "execution_count": 13,
      "outputs": [
        {
          "output_type": "execute_result",
          "data": {
            "text/plain": [
              "No.               False\n",
              "number_month      False\n",
              "month             False\n",
              "Year              False\n",
              "type              False\n",
              "product           False\n",
              "qty_per_year      False\n",
              "value_per_year    False\n",
              "dtype: bool"
            ]
          },
          "metadata": {},
          "execution_count": 13
        }
      ]
    },
    {
      "cell_type": "code",
      "metadata": {
        "colab": {
          "base_uri": "https://localhost:8080/"
        },
        "id": "cRLlrNtsAzVq",
        "outputId": "8229d1c9-d03c-4844-ed23-98528926952b"
      },
      "source": [
        "# เช็ค missing ปี60\n",
        "data_60.isnull().any()\n",
        "\n",
        "# True แสดงว่า column นั้น ยังมีข้อมูลที่ missing อยู่\n",
        "# False แสดงว่า column นั้น ไม่มีข้อมูลที่ missing แล้ว"
      ],
      "execution_count": 14,
      "outputs": [
        {
          "output_type": "execute_result",
          "data": {
            "text/plain": [
              "No.               False\n",
              "number_month      False\n",
              "month             False\n",
              "Year              False\n",
              "type              False\n",
              "product            True\n",
              "qty_per_year       True\n",
              "value_per_year     True\n",
              "dtype: bool"
            ]
          },
          "metadata": {},
          "execution_count": 14
        }
      ]
    },
    {
      "cell_type": "code",
      "metadata": {
        "id": "6gLRVCxLD_9T"
      },
      "source": [
        "# เติมค่า/ข้อมูลในช่องที่มี missing\n",
        "\n",
        "# product \n",
        "data_60[['product']] = data_60[['product']].fillna('ไม่มีข้อมูล')  # เนื่องจากข้อมูลเป็นตัวหนังสือ ดังนั้นใช้ fillna ในการเติมข้อมูล\n",
        "\n",
        "# qty_per_year\n",
        "avg_qty_per_year60 = data_60[['qty_per_year']].mean()\n",
        "# เติม mean ลงไปแทนค่า missing\n",
        "data_60[['qty_per_year']] = data_60[['qty_per_year']].fillna('avg_qty_per_year60')\n",
        "\n",
        "# value_per_year\n",
        "avg_value_per_year60 = data_60[['value_per_year']].mean()\n",
        "# เติม mean ลงไปแทนค่า missing\n",
        "data_60[['value_per_year']] = data_60[['value_per_year']].fillna('avg_value_per_year60')"
      ],
      "execution_count": 15,
      "outputs": []
    },
    {
      "cell_type": "code",
      "metadata": {
        "colab": {
          "base_uri": "https://localhost:8080/"
        },
        "id": "RIm4xUOcEL6Z",
        "outputId": "c29d390b-63e1-4e59-a931-9c7223c3818a"
      },
      "source": [
        "# เช็ค missing ปี60 (อีกรอบ)\n",
        "data_60.isnull().any()"
      ],
      "execution_count": 16,
      "outputs": [
        {
          "output_type": "execute_result",
          "data": {
            "text/plain": [
              "No.               False\n",
              "number_month      False\n",
              "month             False\n",
              "Year              False\n",
              "type              False\n",
              "product           False\n",
              "qty_per_year      False\n",
              "value_per_year    False\n",
              "dtype: bool"
            ]
          },
          "metadata": {},
          "execution_count": 16
        }
      ]
    },
    {
      "cell_type": "markdown",
      "metadata": {
        "id": "ZdVwGSi3sokK"
      },
      "source": [
        "# เชื่อมตาราง"
      ]
    },
    {
      "cell_type": "code",
      "metadata": {
        "colab": {
          "base_uri": "https://localhost:8080/",
          "height": 419
        },
        "id": "XUvgjoCsBX2s",
        "outputId": "8d892983-ca8b-4ec8-8a7e-c12d3dcf9470"
      },
      "source": [
        "data_export = pd.concat([data_58,data_59,data_60])  # concat ใช้ต่อตารางแนวแกน Y\n",
        "data_export"
      ],
      "execution_count": 17,
      "outputs": [
        {
          "output_type": "execute_result",
          "data": {
            "text/html": [
              "<div>\n",
              "<style scoped>\n",
              "    .dataframe tbody tr th:only-of-type {\n",
              "        vertical-align: middle;\n",
              "    }\n",
              "\n",
              "    .dataframe tbody tr th {\n",
              "        vertical-align: top;\n",
              "    }\n",
              "\n",
              "    .dataframe thead th {\n",
              "        text-align: right;\n",
              "    }\n",
              "</style>\n",
              "<table border=\"1\" class=\"dataframe\">\n",
              "  <thead>\n",
              "    <tr style=\"text-align: right;\">\n",
              "      <th></th>\n",
              "      <th>No.</th>\n",
              "      <th>number_month</th>\n",
              "      <th>month</th>\n",
              "      <th>Year</th>\n",
              "      <th>type</th>\n",
              "      <th>product</th>\n",
              "      <th>qty_per_year</th>\n",
              "      <th>value_per_year</th>\n",
              "    </tr>\n",
              "  </thead>\n",
              "  <tbody>\n",
              "    <tr>\n",
              "      <th>0</th>\n",
              "      <td>1</td>\n",
              "      <td>1</td>\n",
              "      <td>ม.ค.</td>\n",
              "      <td>2558</td>\n",
              "      <td>เงาะ</td>\n",
              "      <td>เงาะบรรจุภาชนะที่อากาศผ่านเข้าออกไม่ได้</td>\n",
              "      <td>262,519</td>\n",
              "      <td>15,781,599</td>\n",
              "    </tr>\n",
              "    <tr>\n",
              "      <th>1</th>\n",
              "      <td>2</td>\n",
              "      <td>2</td>\n",
              "      <td>ก.พ.</td>\n",
              "      <td>2558</td>\n",
              "      <td>เงาะ</td>\n",
              "      <td>เงาะบรรจุภาชนะที่อากาศผ่านเข้าออกไม่ได้</td>\n",
              "      <td>98,167</td>\n",
              "      <td>5,549,497</td>\n",
              "    </tr>\n",
              "    <tr>\n",
              "      <th>2</th>\n",
              "      <td>3</td>\n",
              "      <td>3</td>\n",
              "      <td>มี.ค.</td>\n",
              "      <td>2558</td>\n",
              "      <td>เงาะ</td>\n",
              "      <td>เงาะบรรจุภาชนะที่อากาศผ่านเข้าออกไม่ได้</td>\n",
              "      <td>124,920</td>\n",
              "      <td>7,129,611</td>\n",
              "    </tr>\n",
              "    <tr>\n",
              "      <th>3</th>\n",
              "      <td>4</td>\n",
              "      <td>4</td>\n",
              "      <td>เม.ย.</td>\n",
              "      <td>2558</td>\n",
              "      <td>เงาะ</td>\n",
              "      <td>เงาะบรรจุภาชนะที่อากาศผ่านเข้าออกไม่ได้</td>\n",
              "      <td>65,049</td>\n",
              "      <td>3,908,310</td>\n",
              "    </tr>\n",
              "    <tr>\n",
              "      <th>4</th>\n",
              "      <td>5</td>\n",
              "      <td>5</td>\n",
              "      <td>พ.ค.</td>\n",
              "      <td>2558</td>\n",
              "      <td>เงาะ</td>\n",
              "      <td>เงาะบรรจุภาชนะที่อากาศผ่านเข้าออกไม่ได้</td>\n",
              "      <td>118,085</td>\n",
              "      <td>8,057,296</td>\n",
              "    </tr>\n",
              "    <tr>\n",
              "      <th>...</th>\n",
              "      <td>...</td>\n",
              "      <td>...</td>\n",
              "      <td>...</td>\n",
              "      <td>...</td>\n",
              "      <td>...</td>\n",
              "      <td>...</td>\n",
              "      <td>...</td>\n",
              "      <td>...</td>\n",
              "    </tr>\n",
              "    <tr>\n",
              "      <th>198</th>\n",
              "      <td>199</td>\n",
              "      <td>8</td>\n",
              "      <td>ส.ค.</td>\n",
              "      <td>2560</td>\n",
              "      <td>ลองกอง</td>\n",
              "      <td>ไม่มีข้อมูล</td>\n",
              "      <td>173,789</td>\n",
              "      <td>6,607,820</td>\n",
              "    </tr>\n",
              "    <tr>\n",
              "      <th>199</th>\n",
              "      <td>200</td>\n",
              "      <td>9</td>\n",
              "      <td>ก.ย.</td>\n",
              "      <td>2560</td>\n",
              "      <td>ลองกอง</td>\n",
              "      <td>ไม่มีข้อมูล</td>\n",
              "      <td>73,432</td>\n",
              "      <td>3,645,467</td>\n",
              "    </tr>\n",
              "    <tr>\n",
              "      <th>200</th>\n",
              "      <td>201</td>\n",
              "      <td>10</td>\n",
              "      <td>ต.ค.</td>\n",
              "      <td>2560</td>\n",
              "      <td>ลองกอง</td>\n",
              "      <td>ไม่มีข้อมูล</td>\n",
              "      <td>13,840</td>\n",
              "      <td>717,044</td>\n",
              "    </tr>\n",
              "    <tr>\n",
              "      <th>201</th>\n",
              "      <td>202</td>\n",
              "      <td>11</td>\n",
              "      <td>พ.ย.</td>\n",
              "      <td>2560</td>\n",
              "      <td>ลองกอง</td>\n",
              "      <td>ไม่มีข้อมูล</td>\n",
              "      <td>9,092</td>\n",
              "      <td>361,561</td>\n",
              "    </tr>\n",
              "    <tr>\n",
              "      <th>202</th>\n",
              "      <td>203</td>\n",
              "      <td>12</td>\n",
              "      <td>ธ.ค.</td>\n",
              "      <td>2560</td>\n",
              "      <td>ลองกอง</td>\n",
              "      <td>ไม่มีข้อมูล</td>\n",
              "      <td>10,881</td>\n",
              "      <td>364,204</td>\n",
              "    </tr>\n",
              "  </tbody>\n",
              "</table>\n",
              "<p>609 rows × 8 columns</p>\n",
              "</div>"
            ],
            "text/plain": [
              "     No.  number_month  ... qty_per_year  value_per_year\n",
              "0      1             1  ...      262,519      15,781,599\n",
              "1      2             2  ...       98,167       5,549,497\n",
              "2      3             3  ...      124,920       7,129,611\n",
              "3      4             4  ...       65,049       3,908,310\n",
              "4      5             5  ...      118,085       8,057,296\n",
              "..   ...           ...  ...          ...             ...\n",
              "198  199             8  ...      173,789       6,607,820\n",
              "199  200             9  ...       73,432       3,645,467\n",
              "200  201            10  ...       13,840         717,044\n",
              "201  202            11  ...        9,092         361,561\n",
              "202  203            12  ...       10,881         364,204\n",
              "\n",
              "[609 rows x 8 columns]"
            ]
          },
          "metadata": {},
          "execution_count": 17
        }
      ]
    },
    {
      "cell_type": "code",
      "metadata": {
        "colab": {
          "base_uri": "https://localhost:8080/"
        },
        "id": "REmlp1YgHrwv",
        "outputId": "d874f079-5681-4eac-fa16-08e0d5e39732"
      },
      "source": [
        "# เช็ค missing\n",
        "data_export.isnull().any()"
      ],
      "execution_count": 18,
      "outputs": [
        {
          "output_type": "execute_result",
          "data": {
            "text/plain": [
              "No.               False\n",
              "number_month      False\n",
              "month             False\n",
              "Year              False\n",
              "type              False\n",
              "product           False\n",
              "qty_per_year      False\n",
              "value_per_year    False\n",
              "dtype: bool"
            ]
          },
          "metadata": {},
          "execution_count": 18
        }
      ]
    }
  ]
}