{
  "nbformat": 4,
  "nbformat_minor": 0,
  "metadata": {
    "colab": {
      "name": "Project DWDM.ipynb",
      "provenance": [],
      "authorship_tag": "ABX9TyOlSUoSLMeSbXwCl9IZVlQ7",
      "include_colab_link": true
    },
    "kernelspec": {
      "name": "python3",
      "display_name": "Python 3"
    },
    "language_info": {
      "name": "python"
    }
  },
  "cells": [
    {
      "cell_type": "markdown",
      "metadata": {
        "id": "view-in-github",
        "colab_type": "text"
      },
      "source": [
        "<a href=\"https://colab.research.google.com/github/mintra-tippayaratsontorn/DWDM21/blob/main/Project_DWDM.ipynb\" target=\"_parent\"><img src=\"https://colab.research.google.com/assets/colab-badge.svg\" alt=\"Open In Colab\"/></a>"
      ]
    },
    {
      "cell_type": "markdown",
      "metadata": {
        "id": "W3FvHh-vN5q-"
      },
      "source": [
        "แหล่งที่มาของข้อมูล : https://data.go.th/\n",
        "\n",
        "save data ไว้ใน drive : https://drive.google.com/drive/folders/1KDoVw9s6RkRB1E3TOG2Oo7qMFhfDRUX3?usp=sharing"
      ]
    },
    {
      "cell_type": "markdown",
      "metadata": {
        "id": "sdEFxLRclB7Z"
      },
      "source": [
        "**ปัญหา** คือ เราไม่สามารถพยากรณ์ข้อมูลปีต่อๆไปได้ เนื่องจากยังไม่ทราบความสัมพันธ์ของข้อมูลปัจจุบันที่มีอยู่\n",
        "\n",
        "**วัตถุประสงค์** คือ ศึกษาความสัมพันธ์ของตารางที่ 1 ถึง 4 ว่าความสัมพันธ์ที่ได้จากการคาดเดาปีต่อๆไปเป็นยังไง?\n",
        "\n",
        "* ข้อมูลชุดที่ 1 จำนวนผู้ลงทะเบียนใช้บริการอินเทอร์เน็ตความเร็วสูง \n",
        "* ข้อมูลชุดที่ 2 อัตราการเข้าถึงของบริการอินเทอร์เน็ตความเร็วสูงต่อจำนวนครัวเรือน\n",
        "* ข้อมูลชุดที่ 3 อัตราการเข้าถึงของบริการอินเทอร์เน็ตความเร็วสูงต่อจำนวนประชากร\n",
        "* ข้อมูลชุดที่ 4 จำนวนเลขหมายโทรศัพท์เคลื่อนที่ที่ได้รับการจดทะเบียน"
      ]
    },
    {
      "cell_type": "markdown",
      "metadata": {
        "id": "az3OI73GsmFD"
      },
      "source": [
        "# Data Preprecessing"
      ]
    },
    {
      "cell_type": "code",
      "metadata": {
        "id": "hCLi-68U7R8r"
      },
      "source": [
        "import pandas as pd"
      ],
      "execution_count": 1,
      "outputs": []
    },
    {
      "cell_type": "code",
      "metadata": {
        "colab": {
          "base_uri": "https://localhost:8080/"
        },
        "id": "F6ZSI1LE9ZTP",
        "outputId": "41fe3fab-8592-42fe-c8de-d69e29d4b9f1"
      },
      "source": [
        "from google.colab import drive\n",
        "drive.mount('/content/drive')"
      ],
      "execution_count": 2,
      "outputs": [
        {
          "output_type": "stream",
          "name": "stdout",
          "text": [
            "Mounted at /content/drive\n"
          ]
        }
      ]
    },
    {
      "cell_type": "code",
      "metadata": {
        "id": "JsYIGYC89dFO"
      },
      "source": [
        "import os"
      ],
      "execution_count": 3,
      "outputs": []
    },
    {
      "cell_type": "code",
      "metadata": {
        "id": "q5BEyWyQNuC4"
      },
      "source": [
        "path = '/content/drive/My Drive/Project_DWDM'"
      ],
      "execution_count": 4,
      "outputs": []
    },
    {
      "cell_type": "markdown",
      "metadata": {
        "id": "UTxuLAHOFzAv"
      },
      "source": [
        "### ข้อมูลชุดที่ 1 จำนวนผู้ลงทะเบียนใช้บริการอินเทอร์เน็ตความเร็วสูง\n",
        "\n",
        "https://data.go.th/dataset/broadband-subscribers?fbclid=IwAR2hJLTNGiEnMNwRApUdbzzaFUj-1_Ag7HWgdZPxX-oaEKw2PBU0_W3-_m0"
      ]
    },
    {
      "cell_type": "markdown",
      "metadata": {
        "id": "3Pj7GHohbE46"
      },
      "source": [
        "**คำอธิบายตาราง**\n",
        "* no. คือ ลำดับ\n",
        "* quarter คือ ไตรมาส (4 ไตรมาส)\n",
        "* Thailand Internet Users_subscriber คือ ประเภท\n",
        "* year คือ ปี\n",
        "* value_subscriber คือ  จำนวนผู้ลงทะเบียนใช้บริการอินเทอร์เน็ตความเร็วสูง"
      ]
    },
    {
      "cell_type": "code",
      "metadata": {
        "colab": {
          "base_uri": "https://localhost:8080/",
          "height": 422
        },
        "id": "D5IoZfde-rVk",
        "outputId": "e46d90f9-64b7-49bb-ca73-a26bb3d741f4"
      },
      "source": [
        "data_subscriber = pd.read_csv(os.path.join(path,'10broadband-subscribers.csv'))\n",
        "data_subscriber"
      ],
      "execution_count": 5,
      "outputs": [
        {
          "output_type": "execute_result",
          "data": {
            "text/html": [
              "<div>\n",
              "<style scoped>\n",
              "    .dataframe tbody tr th:only-of-type {\n",
              "        vertical-align: middle;\n",
              "    }\n",
              "\n",
              "    .dataframe tbody tr th {\n",
              "        vertical-align: top;\n",
              "    }\n",
              "\n",
              "    .dataframe thead th {\n",
              "        text-align: right;\n",
              "    }\n",
              "</style>\n",
              "<table border=\"1\" class=\"dataframe\">\n",
              "  <thead>\n",
              "    <tr style=\"text-align: right;\">\n",
              "      <th></th>\n",
              "      <th>no.</th>\n",
              "      <th>quarter</th>\n",
              "      <th>Thailand Internet Users_subscriber</th>\n",
              "      <th>year</th>\n",
              "      <th>value_subscriber</th>\n",
              "    </tr>\n",
              "  </thead>\n",
              "  <tbody>\n",
              "    <tr>\n",
              "      <th>0</th>\n",
              "      <td>4</td>\n",
              "      <td>4</td>\n",
              "      <td>Total Internet subscribers</td>\n",
              "      <td>2003</td>\n",
              "      <td>652726.00</td>\n",
              "    </tr>\n",
              "    <tr>\n",
              "      <th>1</th>\n",
              "      <td>3</td>\n",
              "      <td>3</td>\n",
              "      <td>Total Internet subscribers</td>\n",
              "      <td>2003</td>\n",
              "      <td>529530.00</td>\n",
              "    </tr>\n",
              "    <tr>\n",
              "      <th>2</th>\n",
              "      <td>2</td>\n",
              "      <td>2</td>\n",
              "      <td>Total Internet subscribers</td>\n",
              "      <td>2003</td>\n",
              "      <td>453043.00</td>\n",
              "    </tr>\n",
              "    <tr>\n",
              "      <th>3</th>\n",
              "      <td>1</td>\n",
              "      <td>1</td>\n",
              "      <td>Total Internet subscribers</td>\n",
              "      <td>2003</td>\n",
              "      <td>365219.00</td>\n",
              "    </tr>\n",
              "    <tr>\n",
              "      <th>4</th>\n",
              "      <td>8</td>\n",
              "      <td>4</td>\n",
              "      <td>Total Internet subscribers</td>\n",
              "      <td>2004</td>\n",
              "      <td>1231344.00</td>\n",
              "    </tr>\n",
              "    <tr>\n",
              "      <th>...</th>\n",
              "      <td>...</td>\n",
              "      <td>...</td>\n",
              "      <td>...</td>\n",
              "      <td>...</td>\n",
              "      <td>...</td>\n",
              "    </tr>\n",
              "    <tr>\n",
              "      <th>68</th>\n",
              "      <td>72</td>\n",
              "      <td>4</td>\n",
              "      <td>Total Internet subscribers</td>\n",
              "      <td>2020</td>\n",
              "      <td>11478264.92</td>\n",
              "    </tr>\n",
              "    <tr>\n",
              "      <th>69</th>\n",
              "      <td>71</td>\n",
              "      <td>3</td>\n",
              "      <td>Total Internet subscribers</td>\n",
              "      <td>2020</td>\n",
              "      <td>11282645.58</td>\n",
              "    </tr>\n",
              "    <tr>\n",
              "      <th>70</th>\n",
              "      <td>70</td>\n",
              "      <td>2</td>\n",
              "      <td>Total Internet subscribers</td>\n",
              "      <td>2020</td>\n",
              "      <td>10912996.14</td>\n",
              "    </tr>\n",
              "    <tr>\n",
              "      <th>71</th>\n",
              "      <td>69</td>\n",
              "      <td>1</td>\n",
              "      <td>Total Internet subscribers</td>\n",
              "      <td>2020</td>\n",
              "      <td>10264995.67</td>\n",
              "    </tr>\n",
              "    <tr>\n",
              "      <th>72</th>\n",
              "      <td>73</td>\n",
              "      <td>1</td>\n",
              "      <td>Total Internet subscribers</td>\n",
              "      <td>2021</td>\n",
              "      <td>11876158.44</td>\n",
              "    </tr>\n",
              "  </tbody>\n",
              "</table>\n",
              "<p>73 rows × 5 columns</p>\n",
              "</div>"
            ],
            "text/plain": [
              "    no.  quarter Thailand Internet Users_subscriber  year  value_subscriber\n",
              "0     4        4         Total Internet subscribers  2003         652726.00\n",
              "1     3        3         Total Internet subscribers  2003         529530.00\n",
              "2     2        2         Total Internet subscribers  2003         453043.00\n",
              "3     1        1         Total Internet subscribers  2003         365219.00\n",
              "4     8        4         Total Internet subscribers  2004        1231344.00\n",
              "..  ...      ...                                ...   ...               ...\n",
              "68   72        4         Total Internet subscribers  2020       11478264.92\n",
              "69   71        3         Total Internet subscribers  2020       11282645.58\n",
              "70   70        2         Total Internet subscribers  2020       10912996.14\n",
              "71   69        1         Total Internet subscribers  2020       10264995.67\n",
              "72   73        1         Total Internet subscribers  2021       11876158.44\n",
              "\n",
              "[73 rows x 5 columns]"
            ]
          },
          "metadata": {},
          "execution_count": 5
        }
      ]
    },
    {
      "cell_type": "markdown",
      "metadata": {
        "id": "bz4p8dexLFv0"
      },
      "source": [
        "### ข้อมูลชุดที่ 2 อัตราการเข้าถึงของบริการอินเทอร์เน็ตความเร็วสูงต่อจำนวนครัวเรือน\n",
        "\n",
        "https://data.go.th/dataset/broadband-penetration-per-household?fbclid=IwAR0tNweDa7pmiAaygo0Z88iFFIYLtQRFjujfaIyEpUub_bFVQEkcCbXAZJc"
      ]
    },
    {
      "cell_type": "markdown",
      "metadata": {
        "id": "wVr472ekcGp_"
      },
      "source": [
        "**คำอธิบายตาราง**\n",
        "* no. คือ ลำดับ\n",
        "* type_household คือ ประเภท\n",
        "* quarter คือ ไตรมาส (4 ไตรมาส)\n",
        "* year คือ ปี\n",
        "* value_household คือ  อัตราการเข้าถึงของบริการอินเทอร์เน็ตความเร็วสูงต่อจำนวนครัวเรือน"
      ]
    },
    {
      "cell_type": "code",
      "metadata": {
        "colab": {
          "base_uri": "https://localhost:8080/",
          "height": 422
        },
        "id": "Q9iofwQ19jwW",
        "outputId": "7db25d06-9c4c-4e90-d7bd-b75df3d194a0"
      },
      "source": [
        "data_household = pd.read_csv(os.path.join(path,'12broadband-penetration-per-household-.csv'))\n",
        "data_household"
      ],
      "execution_count": 6,
      "outputs": [
        {
          "output_type": "execute_result",
          "data": {
            "text/html": [
              "<div>\n",
              "<style scoped>\n",
              "    .dataframe tbody tr th:only-of-type {\n",
              "        vertical-align: middle;\n",
              "    }\n",
              "\n",
              "    .dataframe tbody tr th {\n",
              "        vertical-align: top;\n",
              "    }\n",
              "\n",
              "    .dataframe thead th {\n",
              "        text-align: right;\n",
              "    }\n",
              "</style>\n",
              "<table border=\"1\" class=\"dataframe\">\n",
              "  <thead>\n",
              "    <tr style=\"text-align: right;\">\n",
              "      <th></th>\n",
              "      <th>no.</th>\n",
              "      <th>type_household</th>\n",
              "      <th>quarter</th>\n",
              "      <th>year</th>\n",
              "      <th>value_household</th>\n",
              "    </tr>\n",
              "  </thead>\n",
              "  <tbody>\n",
              "    <tr>\n",
              "      <th>0</th>\n",
              "      <td>4</td>\n",
              "      <td>per household (%)</td>\n",
              "      <td>4</td>\n",
              "      <td>2003</td>\n",
              "      <td>0.000649</td>\n",
              "    </tr>\n",
              "    <tr>\n",
              "      <th>1</th>\n",
              "      <td>3</td>\n",
              "      <td>per household (%)</td>\n",
              "      <td>3</td>\n",
              "      <td>2003</td>\n",
              "      <td>0.000459</td>\n",
              "    </tr>\n",
              "    <tr>\n",
              "      <th>2</th>\n",
              "      <td>2</td>\n",
              "      <td>per household (%)</td>\n",
              "      <td>2</td>\n",
              "      <td>2003</td>\n",
              "      <td>0.000343</td>\n",
              "    </tr>\n",
              "    <tr>\n",
              "      <th>3</th>\n",
              "      <td>1</td>\n",
              "      <td>per household (%)</td>\n",
              "      <td>1</td>\n",
              "      <td>2003</td>\n",
              "      <td>0.000281</td>\n",
              "    </tr>\n",
              "    <tr>\n",
              "      <th>4</th>\n",
              "      <td>8</td>\n",
              "      <td>per household (%)</td>\n",
              "      <td>4</td>\n",
              "      <td>2004</td>\n",
              "      <td>0.008716</td>\n",
              "    </tr>\n",
              "    <tr>\n",
              "      <th>...</th>\n",
              "      <td>...</td>\n",
              "      <td>...</td>\n",
              "      <td>...</td>\n",
              "      <td>...</td>\n",
              "      <td>...</td>\n",
              "    </tr>\n",
              "    <tr>\n",
              "      <th>68</th>\n",
              "      <td>72</td>\n",
              "      <td>per household (%)</td>\n",
              "      <td>4</td>\n",
              "      <td>2020</td>\n",
              "      <td>0.514683</td>\n",
              "    </tr>\n",
              "    <tr>\n",
              "      <th>69</th>\n",
              "      <td>71</td>\n",
              "      <td>per household (%)</td>\n",
              "      <td>3</td>\n",
              "      <td>2020</td>\n",
              "      <td>0.515873</td>\n",
              "    </tr>\n",
              "    <tr>\n",
              "      <th>70</th>\n",
              "      <td>70</td>\n",
              "      <td>per household (%)</td>\n",
              "      <td>2</td>\n",
              "      <td>2020</td>\n",
              "      <td>0.498972</td>\n",
              "    </tr>\n",
              "    <tr>\n",
              "      <th>71</th>\n",
              "      <td>69</td>\n",
              "      <td>per household (%)</td>\n",
              "      <td>1</td>\n",
              "      <td>2020</td>\n",
              "      <td>0.469344</td>\n",
              "    </tr>\n",
              "    <tr>\n",
              "      <th>72</th>\n",
              "      <td>73</td>\n",
              "      <td>per household (%)</td>\n",
              "      <td>1</td>\n",
              "      <td>2021</td>\n",
              "      <td>0.532524</td>\n",
              "    </tr>\n",
              "  </tbody>\n",
              "</table>\n",
              "<p>73 rows × 5 columns</p>\n",
              "</div>"
            ],
            "text/plain": [
              "    no.     type_household  quarter  year  value_household\n",
              "0     4  per household (%)        4  2003         0.000649\n",
              "1     3  per household (%)        3  2003         0.000459\n",
              "2     2  per household (%)        2  2003         0.000343\n",
              "3     1  per household (%)        1  2003         0.000281\n",
              "4     8  per household (%)        4  2004         0.008716\n",
              "..  ...                ...      ...   ...              ...\n",
              "68   72  per household (%)        4  2020         0.514683\n",
              "69   71  per household (%)        3  2020         0.515873\n",
              "70   70  per household (%)        2  2020         0.498972\n",
              "71   69  per household (%)        1  2020         0.469344\n",
              "72   73  per household (%)        1  2021         0.532524\n",
              "\n",
              "[73 rows x 5 columns]"
            ]
          },
          "metadata": {},
          "execution_count": 6
        }
      ]
    },
    {
      "cell_type": "markdown",
      "metadata": {
        "id": "LlMsbfC1LXcz"
      },
      "source": [
        "### ข้อมูลชุดที่ 3 อัตราการเข้าถึงของบริการอินเทอร์เน็ตความเร็วสูงต่อจำนวนประชากร\n",
        "\n",
        "https://data.go.th/dataset/broadband-penetration-per-population?fbclid=IwAR0D5Z4yxZOXJYPM9hgBJpAVbuWBkxwNzEdW_jWwlvvkCKQxaGERqrxffFs"
      ]
    },
    {
      "cell_type": "markdown",
      "metadata": {
        "id": "1NmR_7Ytc1HT"
      },
      "source": [
        "**คำอธิบายตาราง**\n",
        "* no. คือ ลำดับ\n",
        "* type_population คือ ประเภท\n",
        "* quarter คือ ไตรมาส (4 ไตรมาส)\n",
        "* year คือ ปี\n",
        "* value_population คือ  อัตราการเข้าถึงของบริการอินเทอร์เน็ตความเร็วสูงต่อจำนวนประชากร"
      ]
    },
    {
      "cell_type": "code",
      "metadata": {
        "colab": {
          "base_uri": "https://localhost:8080/",
          "height": 422
        },
        "id": "uET6yqEN-vt9",
        "outputId": "87c76cb7-60f7-4bd0-8128-3b52bea83578"
      },
      "source": [
        "data_population = pd.read_csv(os.path.join(path,'11broadband-penetration-per-population-.csv'))\n",
        "data_population"
      ],
      "execution_count": 7,
      "outputs": [
        {
          "output_type": "execute_result",
          "data": {
            "text/html": [
              "<div>\n",
              "<style scoped>\n",
              "    .dataframe tbody tr th:only-of-type {\n",
              "        vertical-align: middle;\n",
              "    }\n",
              "\n",
              "    .dataframe tbody tr th {\n",
              "        vertical-align: top;\n",
              "    }\n",
              "\n",
              "    .dataframe thead th {\n",
              "        text-align: right;\n",
              "    }\n",
              "</style>\n",
              "<table border=\"1\" class=\"dataframe\">\n",
              "  <thead>\n",
              "    <tr style=\"text-align: right;\">\n",
              "      <th></th>\n",
              "      <th>no.</th>\n",
              "      <th>type_population</th>\n",
              "      <th>quarter</th>\n",
              "      <th>year</th>\n",
              "      <th>value_population</th>\n",
              "    </tr>\n",
              "  </thead>\n",
              "  <tbody>\n",
              "    <tr>\n",
              "      <th>0</th>\n",
              "      <td>1</td>\n",
              "      <td>per population (%)</td>\n",
              "      <td>1</td>\n",
              "      <td>2003</td>\n",
              "      <td>0.0001</td>\n",
              "    </tr>\n",
              "    <tr>\n",
              "      <th>1</th>\n",
              "      <td>2</td>\n",
              "      <td>per population (%)</td>\n",
              "      <td>2</td>\n",
              "      <td>2003</td>\n",
              "      <td>0.0001</td>\n",
              "    </tr>\n",
              "    <tr>\n",
              "      <th>2</th>\n",
              "      <td>3</td>\n",
              "      <td>per population (%)</td>\n",
              "      <td>3</td>\n",
              "      <td>2003</td>\n",
              "      <td>0.0001</td>\n",
              "    </tr>\n",
              "    <tr>\n",
              "      <th>3</th>\n",
              "      <td>4</td>\n",
              "      <td>per population (%)</td>\n",
              "      <td>4</td>\n",
              "      <td>2003</td>\n",
              "      <td>0.0002</td>\n",
              "    </tr>\n",
              "    <tr>\n",
              "      <th>4</th>\n",
              "      <td>5</td>\n",
              "      <td>per population (%)</td>\n",
              "      <td>1</td>\n",
              "      <td>2004</td>\n",
              "      <td>0.0005</td>\n",
              "    </tr>\n",
              "    <tr>\n",
              "      <th>...</th>\n",
              "      <td>...</td>\n",
              "      <td>...</td>\n",
              "      <td>...</td>\n",
              "      <td>...</td>\n",
              "      <td>...</td>\n",
              "    </tr>\n",
              "    <tr>\n",
              "      <th>68</th>\n",
              "      <td>69</td>\n",
              "      <td>per population (%)</td>\n",
              "      <td>1</td>\n",
              "      <td>2020</td>\n",
              "      <td>0.1510</td>\n",
              "    </tr>\n",
              "    <tr>\n",
              "      <th>69</th>\n",
              "      <td>70</td>\n",
              "      <td>per population (%)</td>\n",
              "      <td>2</td>\n",
              "      <td>2020</td>\n",
              "      <td>0.1605</td>\n",
              "    </tr>\n",
              "    <tr>\n",
              "      <th>70</th>\n",
              "      <td>71</td>\n",
              "      <td>per population (%)</td>\n",
              "      <td>3</td>\n",
              "      <td>2020</td>\n",
              "      <td>0.1659</td>\n",
              "    </tr>\n",
              "    <tr>\n",
              "      <th>71</th>\n",
              "      <td>72</td>\n",
              "      <td>per population (%)</td>\n",
              "      <td>4</td>\n",
              "      <td>2020</td>\n",
              "      <td>0.1685</td>\n",
              "    </tr>\n",
              "    <tr>\n",
              "      <th>72</th>\n",
              "      <td>73</td>\n",
              "      <td>per population (%)</td>\n",
              "      <td>1</td>\n",
              "      <td>2021</td>\n",
              "      <td>0.1740</td>\n",
              "    </tr>\n",
              "  </tbody>\n",
              "</table>\n",
              "<p>73 rows × 5 columns</p>\n",
              "</div>"
            ],
            "text/plain": [
              "    no.     type_population  quarter  year  value_population\n",
              "0     1  per population (%)        1  2003            0.0001\n",
              "1     2  per population (%)        2  2003            0.0001\n",
              "2     3  per population (%)        3  2003            0.0001\n",
              "3     4  per population (%)        4  2003            0.0002\n",
              "4     5  per population (%)        1  2004            0.0005\n",
              "..  ...                 ...      ...   ...               ...\n",
              "68   69  per population (%)        1  2020            0.1510\n",
              "69   70  per population (%)        2  2020            0.1605\n",
              "70   71  per population (%)        3  2020            0.1659\n",
              "71   72  per population (%)        4  2020            0.1685\n",
              "72   73  per population (%)        1  2021            0.1740\n",
              "\n",
              "[73 rows x 5 columns]"
            ]
          },
          "metadata": {},
          "execution_count": 7
        }
      ]
    },
    {
      "cell_type": "markdown",
      "metadata": {
        "id": "m0cAMDL7r4RA"
      },
      "source": [
        "## Check Missing แต่ละตาราง\n",
        "* True แสดงว่า column นั้น ยังมีข้อมูลที่ missing อยู่\n",
        "* False แสดงว่า column นั้น ไม่มีข้อมูลที่ missing แล้ว"
      ]
    },
    {
      "cell_type": "code",
      "metadata": {
        "colab": {
          "base_uri": "https://localhost:8080/"
        },
        "id": "tytmNdp2lVak",
        "outputId": "eebf1d6f-1bd7-480d-afed-d8587113bd92"
      },
      "source": [
        "# เช็ค missing ตาราง data_subscriber\n",
        "data_subscriber.isnull().any()"
      ],
      "execution_count": 8,
      "outputs": [
        {
          "output_type": "execute_result",
          "data": {
            "text/plain": [
              "no.                                   False\n",
              "quarter                               False\n",
              "Thailand Internet Users_subscriber    False\n",
              "year                                  False\n",
              "value_subscriber                      False\n",
              "dtype: bool"
            ]
          },
          "metadata": {},
          "execution_count": 8
        }
      ]
    },
    {
      "cell_type": "code",
      "metadata": {
        "id": "6OXynIdk_aV-",
        "colab": {
          "base_uri": "https://localhost:8080/"
        },
        "outputId": "86757104-b08c-4067-936d-f62d37387563"
      },
      "source": [
        "# เช็ค missing ตาราง data_household\n",
        "data_household.isnull().any()"
      ],
      "execution_count": 9,
      "outputs": [
        {
          "output_type": "execute_result",
          "data": {
            "text/plain": [
              "no.                False\n",
              "type_household     False\n",
              "quarter            False\n",
              "year               False\n",
              "value_household    False\n",
              "dtype: bool"
            ]
          },
          "metadata": {},
          "execution_count": 9
        }
      ]
    },
    {
      "cell_type": "code",
      "metadata": {
        "colab": {
          "base_uri": "https://localhost:8080/"
        },
        "id": "nMEpbYejlVXt",
        "outputId": "cb6b18db-2cce-455f-8697-5cd4f08d71b2"
      },
      "source": [
        "# เช็ค missing ตาราง data_population\n",
        "data_population.isnull().any()"
      ],
      "execution_count": 10,
      "outputs": [
        {
          "output_type": "execute_result",
          "data": {
            "text/plain": [
              "no.                 False\n",
              "type_population     False\n",
              "quarter             False\n",
              "year                False\n",
              "value_population    False\n",
              "dtype: bool"
            ]
          },
          "metadata": {},
          "execution_count": 10
        }
      ]
    },
    {
      "cell_type": "markdown",
      "metadata": {
        "id": "Y5FtksubMBtJ"
      },
      "source": [
        "สรุปได้ว่าข้อมูลทั้ง 3 ตารางไม่มีข้อมูลที่ missing"
      ]
    },
    {
      "cell_type": "markdown",
      "metadata": {
        "id": "t5EEDUOBn1ys"
      },
      "source": [
        "## Sort (เรียงข้อมูล)"
      ]
    },
    {
      "cell_type": "code",
      "metadata": {
        "colab": {
          "base_uri": "https://localhost:8080/",
          "height": 0
        },
        "id": "p7tPje5xn1JM",
        "outputId": "d10aea0c-c0b8-4b76-cc9e-7265583e7c35"
      },
      "source": [
        "data_subscriber2 = data_subscriber.sort_values(by=['no.'])  # เรียงข้อมูลโดยใช้ column ของ No. เป็นหลักในการเรียง\n",
        "data_subscriber2"
      ],
      "execution_count": 11,
      "outputs": [
        {
          "output_type": "execute_result",
          "data": {
            "text/html": [
              "<div>\n",
              "<style scoped>\n",
              "    .dataframe tbody tr th:only-of-type {\n",
              "        vertical-align: middle;\n",
              "    }\n",
              "\n",
              "    .dataframe tbody tr th {\n",
              "        vertical-align: top;\n",
              "    }\n",
              "\n",
              "    .dataframe thead th {\n",
              "        text-align: right;\n",
              "    }\n",
              "</style>\n",
              "<table border=\"1\" class=\"dataframe\">\n",
              "  <thead>\n",
              "    <tr style=\"text-align: right;\">\n",
              "      <th></th>\n",
              "      <th>no.</th>\n",
              "      <th>quarter</th>\n",
              "      <th>Thailand Internet Users_subscriber</th>\n",
              "      <th>year</th>\n",
              "      <th>value_subscriber</th>\n",
              "    </tr>\n",
              "  </thead>\n",
              "  <tbody>\n",
              "    <tr>\n",
              "      <th>3</th>\n",
              "      <td>1</td>\n",
              "      <td>1</td>\n",
              "      <td>Total Internet subscribers</td>\n",
              "      <td>2003</td>\n",
              "      <td>365219.00</td>\n",
              "    </tr>\n",
              "    <tr>\n",
              "      <th>2</th>\n",
              "      <td>2</td>\n",
              "      <td>2</td>\n",
              "      <td>Total Internet subscribers</td>\n",
              "      <td>2003</td>\n",
              "      <td>453043.00</td>\n",
              "    </tr>\n",
              "    <tr>\n",
              "      <th>1</th>\n",
              "      <td>3</td>\n",
              "      <td>3</td>\n",
              "      <td>Total Internet subscribers</td>\n",
              "      <td>2003</td>\n",
              "      <td>529530.00</td>\n",
              "    </tr>\n",
              "    <tr>\n",
              "      <th>0</th>\n",
              "      <td>4</td>\n",
              "      <td>4</td>\n",
              "      <td>Total Internet subscribers</td>\n",
              "      <td>2003</td>\n",
              "      <td>652726.00</td>\n",
              "    </tr>\n",
              "    <tr>\n",
              "      <th>7</th>\n",
              "      <td>5</td>\n",
              "      <td>1</td>\n",
              "      <td>Total Internet subscribers</td>\n",
              "      <td>2004</td>\n",
              "      <td>785931.00</td>\n",
              "    </tr>\n",
              "    <tr>\n",
              "      <th>...</th>\n",
              "      <td>...</td>\n",
              "      <td>...</td>\n",
              "      <td>...</td>\n",
              "      <td>...</td>\n",
              "      <td>...</td>\n",
              "    </tr>\n",
              "    <tr>\n",
              "      <th>71</th>\n",
              "      <td>69</td>\n",
              "      <td>1</td>\n",
              "      <td>Total Internet subscribers</td>\n",
              "      <td>2020</td>\n",
              "      <td>10264995.67</td>\n",
              "    </tr>\n",
              "    <tr>\n",
              "      <th>70</th>\n",
              "      <td>70</td>\n",
              "      <td>2</td>\n",
              "      <td>Total Internet subscribers</td>\n",
              "      <td>2020</td>\n",
              "      <td>10912996.14</td>\n",
              "    </tr>\n",
              "    <tr>\n",
              "      <th>69</th>\n",
              "      <td>71</td>\n",
              "      <td>3</td>\n",
              "      <td>Total Internet subscribers</td>\n",
              "      <td>2020</td>\n",
              "      <td>11282645.58</td>\n",
              "    </tr>\n",
              "    <tr>\n",
              "      <th>68</th>\n",
              "      <td>72</td>\n",
              "      <td>4</td>\n",
              "      <td>Total Internet subscribers</td>\n",
              "      <td>2020</td>\n",
              "      <td>11478264.92</td>\n",
              "    </tr>\n",
              "    <tr>\n",
              "      <th>72</th>\n",
              "      <td>73</td>\n",
              "      <td>1</td>\n",
              "      <td>Total Internet subscribers</td>\n",
              "      <td>2021</td>\n",
              "      <td>11876158.44</td>\n",
              "    </tr>\n",
              "  </tbody>\n",
              "</table>\n",
              "<p>73 rows × 5 columns</p>\n",
              "</div>"
            ],
            "text/plain": [
              "    no.  quarter Thailand Internet Users_subscriber  year  value_subscriber\n",
              "3     1        1         Total Internet subscribers  2003         365219.00\n",
              "2     2        2         Total Internet subscribers  2003         453043.00\n",
              "1     3        3         Total Internet subscribers  2003         529530.00\n",
              "0     4        4         Total Internet subscribers  2003         652726.00\n",
              "7     5        1         Total Internet subscribers  2004         785931.00\n",
              "..  ...      ...                                ...   ...               ...\n",
              "71   69        1         Total Internet subscribers  2020       10264995.67\n",
              "70   70        2         Total Internet subscribers  2020       10912996.14\n",
              "69   71        3         Total Internet subscribers  2020       11282645.58\n",
              "68   72        4         Total Internet subscribers  2020       11478264.92\n",
              "72   73        1         Total Internet subscribers  2021       11876158.44\n",
              "\n",
              "[73 rows x 5 columns]"
            ]
          },
          "metadata": {},
          "execution_count": 11
        }
      ]
    },
    {
      "cell_type": "code",
      "metadata": {
        "colab": {
          "base_uri": "https://localhost:8080/",
          "height": 0
        },
        "id": "12dNSiV676xp",
        "outputId": "55623ed6-a6b6-4eec-a999-d78d19b40fe7"
      },
      "source": [
        "data_household2 = data_household.sort_values(by=['no.'])  # เรียงข้อมูลโดยใช้ column ของ No. เป็นหลักในการเรียง\n",
        "data_household2"
      ],
      "execution_count": 12,
      "outputs": [
        {
          "output_type": "execute_result",
          "data": {
            "text/html": [
              "<div>\n",
              "<style scoped>\n",
              "    .dataframe tbody tr th:only-of-type {\n",
              "        vertical-align: middle;\n",
              "    }\n",
              "\n",
              "    .dataframe tbody tr th {\n",
              "        vertical-align: top;\n",
              "    }\n",
              "\n",
              "    .dataframe thead th {\n",
              "        text-align: right;\n",
              "    }\n",
              "</style>\n",
              "<table border=\"1\" class=\"dataframe\">\n",
              "  <thead>\n",
              "    <tr style=\"text-align: right;\">\n",
              "      <th></th>\n",
              "      <th>no.</th>\n",
              "      <th>type_household</th>\n",
              "      <th>quarter</th>\n",
              "      <th>year</th>\n",
              "      <th>value_household</th>\n",
              "    </tr>\n",
              "  </thead>\n",
              "  <tbody>\n",
              "    <tr>\n",
              "      <th>3</th>\n",
              "      <td>1</td>\n",
              "      <td>per household (%)</td>\n",
              "      <td>1</td>\n",
              "      <td>2003</td>\n",
              "      <td>0.000281</td>\n",
              "    </tr>\n",
              "    <tr>\n",
              "      <th>2</th>\n",
              "      <td>2</td>\n",
              "      <td>per household (%)</td>\n",
              "      <td>2</td>\n",
              "      <td>2003</td>\n",
              "      <td>0.000343</td>\n",
              "    </tr>\n",
              "    <tr>\n",
              "      <th>1</th>\n",
              "      <td>3</td>\n",
              "      <td>per household (%)</td>\n",
              "      <td>3</td>\n",
              "      <td>2003</td>\n",
              "      <td>0.000459</td>\n",
              "    </tr>\n",
              "    <tr>\n",
              "      <th>0</th>\n",
              "      <td>4</td>\n",
              "      <td>per household (%)</td>\n",
              "      <td>4</td>\n",
              "      <td>2003</td>\n",
              "      <td>0.000649</td>\n",
              "    </tr>\n",
              "    <tr>\n",
              "      <th>7</th>\n",
              "      <td>5</td>\n",
              "      <td>per household (%)</td>\n",
              "      <td>1</td>\n",
              "      <td>2004</td>\n",
              "      <td>0.001556</td>\n",
              "    </tr>\n",
              "    <tr>\n",
              "      <th>...</th>\n",
              "      <td>...</td>\n",
              "      <td>...</td>\n",
              "      <td>...</td>\n",
              "      <td>...</td>\n",
              "      <td>...</td>\n",
              "    </tr>\n",
              "    <tr>\n",
              "      <th>71</th>\n",
              "      <td>69</td>\n",
              "      <td>per household (%)</td>\n",
              "      <td>1</td>\n",
              "      <td>2020</td>\n",
              "      <td>0.469344</td>\n",
              "    </tr>\n",
              "    <tr>\n",
              "      <th>70</th>\n",
              "      <td>70</td>\n",
              "      <td>per household (%)</td>\n",
              "      <td>2</td>\n",
              "      <td>2020</td>\n",
              "      <td>0.498972</td>\n",
              "    </tr>\n",
              "    <tr>\n",
              "      <th>69</th>\n",
              "      <td>71</td>\n",
              "      <td>per household (%)</td>\n",
              "      <td>3</td>\n",
              "      <td>2020</td>\n",
              "      <td>0.515873</td>\n",
              "    </tr>\n",
              "    <tr>\n",
              "      <th>68</th>\n",
              "      <td>72</td>\n",
              "      <td>per household (%)</td>\n",
              "      <td>4</td>\n",
              "      <td>2020</td>\n",
              "      <td>0.514683</td>\n",
              "    </tr>\n",
              "    <tr>\n",
              "      <th>72</th>\n",
              "      <td>73</td>\n",
              "      <td>per household (%)</td>\n",
              "      <td>1</td>\n",
              "      <td>2021</td>\n",
              "      <td>0.532524</td>\n",
              "    </tr>\n",
              "  </tbody>\n",
              "</table>\n",
              "<p>73 rows × 5 columns</p>\n",
              "</div>"
            ],
            "text/plain": [
              "    no.     type_household  quarter  year  value_household\n",
              "3     1  per household (%)        1  2003         0.000281\n",
              "2     2  per household (%)        2  2003         0.000343\n",
              "1     3  per household (%)        3  2003         0.000459\n",
              "0     4  per household (%)        4  2003         0.000649\n",
              "7     5  per household (%)        1  2004         0.001556\n",
              "..  ...                ...      ...   ...              ...\n",
              "71   69  per household (%)        1  2020         0.469344\n",
              "70   70  per household (%)        2  2020         0.498972\n",
              "69   71  per household (%)        3  2020         0.515873\n",
              "68   72  per household (%)        4  2020         0.514683\n",
              "72   73  per household (%)        1  2021         0.532524\n",
              "\n",
              "[73 rows x 5 columns]"
            ]
          },
          "metadata": {},
          "execution_count": 12
        }
      ]
    },
    {
      "cell_type": "code",
      "metadata": {
        "colab": {
          "base_uri": "https://localhost:8080/",
          "height": 0
        },
        "id": "r6XFAcfDxg0F",
        "outputId": "f25c1395-d472-4122-e14b-df33fa4a77ff"
      },
      "source": [
        "# ตัด column ของตาราง data_population (ตัด column ที่ซ้ำกันออกคือ QUARTER กับ YEAR)\n",
        "data_population.drop(['quarter','year'], axis=1, inplace=True)  # axis=1 คือลบcolumn / axis=0 คือลบrow\n",
        "data_population"
      ],
      "execution_count": 13,
      "outputs": [
        {
          "output_type": "execute_result",
          "data": {
            "text/html": [
              "<div>\n",
              "<style scoped>\n",
              "    .dataframe tbody tr th:only-of-type {\n",
              "        vertical-align: middle;\n",
              "    }\n",
              "\n",
              "    .dataframe tbody tr th {\n",
              "        vertical-align: top;\n",
              "    }\n",
              "\n",
              "    .dataframe thead th {\n",
              "        text-align: right;\n",
              "    }\n",
              "</style>\n",
              "<table border=\"1\" class=\"dataframe\">\n",
              "  <thead>\n",
              "    <tr style=\"text-align: right;\">\n",
              "      <th></th>\n",
              "      <th>no.</th>\n",
              "      <th>type_population</th>\n",
              "      <th>value_population</th>\n",
              "    </tr>\n",
              "  </thead>\n",
              "  <tbody>\n",
              "    <tr>\n",
              "      <th>0</th>\n",
              "      <td>1</td>\n",
              "      <td>per population (%)</td>\n",
              "      <td>0.0001</td>\n",
              "    </tr>\n",
              "    <tr>\n",
              "      <th>1</th>\n",
              "      <td>2</td>\n",
              "      <td>per population (%)</td>\n",
              "      <td>0.0001</td>\n",
              "    </tr>\n",
              "    <tr>\n",
              "      <th>2</th>\n",
              "      <td>3</td>\n",
              "      <td>per population (%)</td>\n",
              "      <td>0.0001</td>\n",
              "    </tr>\n",
              "    <tr>\n",
              "      <th>3</th>\n",
              "      <td>4</td>\n",
              "      <td>per population (%)</td>\n",
              "      <td>0.0002</td>\n",
              "    </tr>\n",
              "    <tr>\n",
              "      <th>4</th>\n",
              "      <td>5</td>\n",
              "      <td>per population (%)</td>\n",
              "      <td>0.0005</td>\n",
              "    </tr>\n",
              "    <tr>\n",
              "      <th>...</th>\n",
              "      <td>...</td>\n",
              "      <td>...</td>\n",
              "      <td>...</td>\n",
              "    </tr>\n",
              "    <tr>\n",
              "      <th>68</th>\n",
              "      <td>69</td>\n",
              "      <td>per population (%)</td>\n",
              "      <td>0.1510</td>\n",
              "    </tr>\n",
              "    <tr>\n",
              "      <th>69</th>\n",
              "      <td>70</td>\n",
              "      <td>per population (%)</td>\n",
              "      <td>0.1605</td>\n",
              "    </tr>\n",
              "    <tr>\n",
              "      <th>70</th>\n",
              "      <td>71</td>\n",
              "      <td>per population (%)</td>\n",
              "      <td>0.1659</td>\n",
              "    </tr>\n",
              "    <tr>\n",
              "      <th>71</th>\n",
              "      <td>72</td>\n",
              "      <td>per population (%)</td>\n",
              "      <td>0.1685</td>\n",
              "    </tr>\n",
              "    <tr>\n",
              "      <th>72</th>\n",
              "      <td>73</td>\n",
              "      <td>per population (%)</td>\n",
              "      <td>0.1740</td>\n",
              "    </tr>\n",
              "  </tbody>\n",
              "</table>\n",
              "<p>73 rows × 3 columns</p>\n",
              "</div>"
            ],
            "text/plain": [
              "    no.     type_population  value_population\n",
              "0     1  per population (%)            0.0001\n",
              "1     2  per population (%)            0.0001\n",
              "2     3  per population (%)            0.0001\n",
              "3     4  per population (%)            0.0002\n",
              "4     5  per population (%)            0.0005\n",
              "..  ...                 ...               ...\n",
              "68   69  per population (%)            0.1510\n",
              "69   70  per population (%)            0.1605\n",
              "70   71  per population (%)            0.1659\n",
              "71   72  per population (%)            0.1685\n",
              "72   73  per population (%)            0.1740\n",
              "\n",
              "[73 rows x 3 columns]"
            ]
          },
          "metadata": {},
          "execution_count": 13
        }
      ]
    },
    {
      "cell_type": "code",
      "metadata": {
        "colab": {
          "base_uri": "https://localhost:8080/",
          "height": 0
        },
        "id": "WVM5ABNolVLC",
        "outputId": "d3ec9d23-446e-401c-90b5-80d652092015"
      },
      "source": [
        "# เชื่อมตาราง data_subscriber2 และ data_population เข้าด้วยกัน โดยให้ตาราง data_subscriber2 เป็นตารางหลักอยู่ที่ด้านซ้าย\n",
        "merge_table1 = data_subscriber2.merge(data_population,how='left',left_on='no.',right_on='no.')\n",
        "merge_table1"
      ],
      "execution_count": 14,
      "outputs": [
        {
          "output_type": "execute_result",
          "data": {
            "text/html": [
              "<div>\n",
              "<style scoped>\n",
              "    .dataframe tbody tr th:only-of-type {\n",
              "        vertical-align: middle;\n",
              "    }\n",
              "\n",
              "    .dataframe tbody tr th {\n",
              "        vertical-align: top;\n",
              "    }\n",
              "\n",
              "    .dataframe thead th {\n",
              "        text-align: right;\n",
              "    }\n",
              "</style>\n",
              "<table border=\"1\" class=\"dataframe\">\n",
              "  <thead>\n",
              "    <tr style=\"text-align: right;\">\n",
              "      <th></th>\n",
              "      <th>no.</th>\n",
              "      <th>quarter</th>\n",
              "      <th>Thailand Internet Users_subscriber</th>\n",
              "      <th>year</th>\n",
              "      <th>value_subscriber</th>\n",
              "      <th>type_population</th>\n",
              "      <th>value_population</th>\n",
              "    </tr>\n",
              "  </thead>\n",
              "  <tbody>\n",
              "    <tr>\n",
              "      <th>0</th>\n",
              "      <td>1</td>\n",
              "      <td>1</td>\n",
              "      <td>Total Internet subscribers</td>\n",
              "      <td>2003</td>\n",
              "      <td>365219.00</td>\n",
              "      <td>per population (%)</td>\n",
              "      <td>0.0001</td>\n",
              "    </tr>\n",
              "    <tr>\n",
              "      <th>1</th>\n",
              "      <td>2</td>\n",
              "      <td>2</td>\n",
              "      <td>Total Internet subscribers</td>\n",
              "      <td>2003</td>\n",
              "      <td>453043.00</td>\n",
              "      <td>per population (%)</td>\n",
              "      <td>0.0001</td>\n",
              "    </tr>\n",
              "    <tr>\n",
              "      <th>2</th>\n",
              "      <td>3</td>\n",
              "      <td>3</td>\n",
              "      <td>Total Internet subscribers</td>\n",
              "      <td>2003</td>\n",
              "      <td>529530.00</td>\n",
              "      <td>per population (%)</td>\n",
              "      <td>0.0001</td>\n",
              "    </tr>\n",
              "    <tr>\n",
              "      <th>3</th>\n",
              "      <td>4</td>\n",
              "      <td>4</td>\n",
              "      <td>Total Internet subscribers</td>\n",
              "      <td>2003</td>\n",
              "      <td>652726.00</td>\n",
              "      <td>per population (%)</td>\n",
              "      <td>0.0002</td>\n",
              "    </tr>\n",
              "    <tr>\n",
              "      <th>4</th>\n",
              "      <td>5</td>\n",
              "      <td>1</td>\n",
              "      <td>Total Internet subscribers</td>\n",
              "      <td>2004</td>\n",
              "      <td>785931.00</td>\n",
              "      <td>per population (%)</td>\n",
              "      <td>0.0005</td>\n",
              "    </tr>\n",
              "    <tr>\n",
              "      <th>...</th>\n",
              "      <td>...</td>\n",
              "      <td>...</td>\n",
              "      <td>...</td>\n",
              "      <td>...</td>\n",
              "      <td>...</td>\n",
              "      <td>...</td>\n",
              "      <td>...</td>\n",
              "    </tr>\n",
              "    <tr>\n",
              "      <th>68</th>\n",
              "      <td>69</td>\n",
              "      <td>1</td>\n",
              "      <td>Total Internet subscribers</td>\n",
              "      <td>2020</td>\n",
              "      <td>10264995.67</td>\n",
              "      <td>per population (%)</td>\n",
              "      <td>0.1510</td>\n",
              "    </tr>\n",
              "    <tr>\n",
              "      <th>69</th>\n",
              "      <td>70</td>\n",
              "      <td>2</td>\n",
              "      <td>Total Internet subscribers</td>\n",
              "      <td>2020</td>\n",
              "      <td>10912996.14</td>\n",
              "      <td>per population (%)</td>\n",
              "      <td>0.1605</td>\n",
              "    </tr>\n",
              "    <tr>\n",
              "      <th>70</th>\n",
              "      <td>71</td>\n",
              "      <td>3</td>\n",
              "      <td>Total Internet subscribers</td>\n",
              "      <td>2020</td>\n",
              "      <td>11282645.58</td>\n",
              "      <td>per population (%)</td>\n",
              "      <td>0.1659</td>\n",
              "    </tr>\n",
              "    <tr>\n",
              "      <th>71</th>\n",
              "      <td>72</td>\n",
              "      <td>4</td>\n",
              "      <td>Total Internet subscribers</td>\n",
              "      <td>2020</td>\n",
              "      <td>11478264.92</td>\n",
              "      <td>per population (%)</td>\n",
              "      <td>0.1685</td>\n",
              "    </tr>\n",
              "    <tr>\n",
              "      <th>72</th>\n",
              "      <td>73</td>\n",
              "      <td>1</td>\n",
              "      <td>Total Internet subscribers</td>\n",
              "      <td>2021</td>\n",
              "      <td>11876158.44</td>\n",
              "      <td>per population (%)</td>\n",
              "      <td>0.1740</td>\n",
              "    </tr>\n",
              "  </tbody>\n",
              "</table>\n",
              "<p>73 rows × 7 columns</p>\n",
              "</div>"
            ],
            "text/plain": [
              "    no.  quarter  ...     type_population  value_population\n",
              "0     1        1  ...  per population (%)            0.0001\n",
              "1     2        2  ...  per population (%)            0.0001\n",
              "2     3        3  ...  per population (%)            0.0001\n",
              "3     4        4  ...  per population (%)            0.0002\n",
              "4     5        1  ...  per population (%)            0.0005\n",
              "..  ...      ...  ...                 ...               ...\n",
              "68   69        1  ...  per population (%)            0.1510\n",
              "69   70        2  ...  per population (%)            0.1605\n",
              "70   71        3  ...  per population (%)            0.1659\n",
              "71   72        4  ...  per population (%)            0.1685\n",
              "72   73        1  ...  per population (%)            0.1740\n",
              "\n",
              "[73 rows x 7 columns]"
            ]
          },
          "metadata": {},
          "execution_count": 14
        }
      ]
    },
    {
      "cell_type": "code",
      "metadata": {
        "colab": {
          "base_uri": "https://localhost:8080/",
          "height": 0
        },
        "id": "kqzhMnwR9rpi",
        "outputId": "be7a734c-6aab-4ba9-b84d-f9c83f7a0ed9"
      },
      "source": [
        "# ตัด column ของตาราง data_household2 (ตัด column ที่ซ้ำกันออกคือ QUARTER กับ YEAR)\n",
        "data_household2.drop(['quarter','year'], axis=1, inplace=True)  # axis=1 คือลบcolumn / axis=0 คือลบrow\n",
        "data_household2"
      ],
      "execution_count": 15,
      "outputs": [
        {
          "output_type": "execute_result",
          "data": {
            "text/html": [
              "<div>\n",
              "<style scoped>\n",
              "    .dataframe tbody tr th:only-of-type {\n",
              "        vertical-align: middle;\n",
              "    }\n",
              "\n",
              "    .dataframe tbody tr th {\n",
              "        vertical-align: top;\n",
              "    }\n",
              "\n",
              "    .dataframe thead th {\n",
              "        text-align: right;\n",
              "    }\n",
              "</style>\n",
              "<table border=\"1\" class=\"dataframe\">\n",
              "  <thead>\n",
              "    <tr style=\"text-align: right;\">\n",
              "      <th></th>\n",
              "      <th>no.</th>\n",
              "      <th>type_household</th>\n",
              "      <th>value_household</th>\n",
              "    </tr>\n",
              "  </thead>\n",
              "  <tbody>\n",
              "    <tr>\n",
              "      <th>3</th>\n",
              "      <td>1</td>\n",
              "      <td>per household (%)</td>\n",
              "      <td>0.000281</td>\n",
              "    </tr>\n",
              "    <tr>\n",
              "      <th>2</th>\n",
              "      <td>2</td>\n",
              "      <td>per household (%)</td>\n",
              "      <td>0.000343</td>\n",
              "    </tr>\n",
              "    <tr>\n",
              "      <th>1</th>\n",
              "      <td>3</td>\n",
              "      <td>per household (%)</td>\n",
              "      <td>0.000459</td>\n",
              "    </tr>\n",
              "    <tr>\n",
              "      <th>0</th>\n",
              "      <td>4</td>\n",
              "      <td>per household (%)</td>\n",
              "      <td>0.000649</td>\n",
              "    </tr>\n",
              "    <tr>\n",
              "      <th>7</th>\n",
              "      <td>5</td>\n",
              "      <td>per household (%)</td>\n",
              "      <td>0.001556</td>\n",
              "    </tr>\n",
              "    <tr>\n",
              "      <th>...</th>\n",
              "      <td>...</td>\n",
              "      <td>...</td>\n",
              "      <td>...</td>\n",
              "    </tr>\n",
              "    <tr>\n",
              "      <th>71</th>\n",
              "      <td>69</td>\n",
              "      <td>per household (%)</td>\n",
              "      <td>0.469344</td>\n",
              "    </tr>\n",
              "    <tr>\n",
              "      <th>70</th>\n",
              "      <td>70</td>\n",
              "      <td>per household (%)</td>\n",
              "      <td>0.498972</td>\n",
              "    </tr>\n",
              "    <tr>\n",
              "      <th>69</th>\n",
              "      <td>71</td>\n",
              "      <td>per household (%)</td>\n",
              "      <td>0.515873</td>\n",
              "    </tr>\n",
              "    <tr>\n",
              "      <th>68</th>\n",
              "      <td>72</td>\n",
              "      <td>per household (%)</td>\n",
              "      <td>0.514683</td>\n",
              "    </tr>\n",
              "    <tr>\n",
              "      <th>72</th>\n",
              "      <td>73</td>\n",
              "      <td>per household (%)</td>\n",
              "      <td>0.532524</td>\n",
              "    </tr>\n",
              "  </tbody>\n",
              "</table>\n",
              "<p>73 rows × 3 columns</p>\n",
              "</div>"
            ],
            "text/plain": [
              "    no.     type_household  value_household\n",
              "3     1  per household (%)         0.000281\n",
              "2     2  per household (%)         0.000343\n",
              "1     3  per household (%)         0.000459\n",
              "0     4  per household (%)         0.000649\n",
              "7     5  per household (%)         0.001556\n",
              "..  ...                ...              ...\n",
              "71   69  per household (%)         0.469344\n",
              "70   70  per household (%)         0.498972\n",
              "69   71  per household (%)         0.515873\n",
              "68   72  per household (%)         0.514683\n",
              "72   73  per household (%)         0.532524\n",
              "\n",
              "[73 rows x 3 columns]"
            ]
          },
          "metadata": {},
          "execution_count": 15
        }
      ]
    },
    {
      "cell_type": "code",
      "metadata": {
        "colab": {
          "base_uri": "https://localhost:8080/",
          "height": 0
        },
        "id": "4PMB6AAF5cCO",
        "outputId": "ef6a08c5-94ce-4cd1-8d3d-ced8ac17ea65"
      },
      "source": [
        "# เชื่อมตาราง merge_table1 และ data_household2 เข้าด้วยกัน โดยให้ตาราง merge_table1 เป็นตารางหลักอยู่ที่ด้านซ้าย\n",
        "merge_table2 = merge_table1.merge(data_household2,how='left',left_on='no.',right_on='no.')\n",
        "merge_table2"
      ],
      "execution_count": 16,
      "outputs": [
        {
          "output_type": "execute_result",
          "data": {
            "text/html": [
              "<div>\n",
              "<style scoped>\n",
              "    .dataframe tbody tr th:only-of-type {\n",
              "        vertical-align: middle;\n",
              "    }\n",
              "\n",
              "    .dataframe tbody tr th {\n",
              "        vertical-align: top;\n",
              "    }\n",
              "\n",
              "    .dataframe thead th {\n",
              "        text-align: right;\n",
              "    }\n",
              "</style>\n",
              "<table border=\"1\" class=\"dataframe\">\n",
              "  <thead>\n",
              "    <tr style=\"text-align: right;\">\n",
              "      <th></th>\n",
              "      <th>no.</th>\n",
              "      <th>quarter</th>\n",
              "      <th>Thailand Internet Users_subscriber</th>\n",
              "      <th>year</th>\n",
              "      <th>value_subscriber</th>\n",
              "      <th>type_population</th>\n",
              "      <th>value_population</th>\n",
              "      <th>type_household</th>\n",
              "      <th>value_household</th>\n",
              "    </tr>\n",
              "  </thead>\n",
              "  <tbody>\n",
              "    <tr>\n",
              "      <th>0</th>\n",
              "      <td>1</td>\n",
              "      <td>1</td>\n",
              "      <td>Total Internet subscribers</td>\n",
              "      <td>2003</td>\n",
              "      <td>365219.00</td>\n",
              "      <td>per population (%)</td>\n",
              "      <td>0.0001</td>\n",
              "      <td>per household (%)</td>\n",
              "      <td>0.000281</td>\n",
              "    </tr>\n",
              "    <tr>\n",
              "      <th>1</th>\n",
              "      <td>2</td>\n",
              "      <td>2</td>\n",
              "      <td>Total Internet subscribers</td>\n",
              "      <td>2003</td>\n",
              "      <td>453043.00</td>\n",
              "      <td>per population (%)</td>\n",
              "      <td>0.0001</td>\n",
              "      <td>per household (%)</td>\n",
              "      <td>0.000343</td>\n",
              "    </tr>\n",
              "    <tr>\n",
              "      <th>2</th>\n",
              "      <td>3</td>\n",
              "      <td>3</td>\n",
              "      <td>Total Internet subscribers</td>\n",
              "      <td>2003</td>\n",
              "      <td>529530.00</td>\n",
              "      <td>per population (%)</td>\n",
              "      <td>0.0001</td>\n",
              "      <td>per household (%)</td>\n",
              "      <td>0.000459</td>\n",
              "    </tr>\n",
              "    <tr>\n",
              "      <th>3</th>\n",
              "      <td>4</td>\n",
              "      <td>4</td>\n",
              "      <td>Total Internet subscribers</td>\n",
              "      <td>2003</td>\n",
              "      <td>652726.00</td>\n",
              "      <td>per population (%)</td>\n",
              "      <td>0.0002</td>\n",
              "      <td>per household (%)</td>\n",
              "      <td>0.000649</td>\n",
              "    </tr>\n",
              "    <tr>\n",
              "      <th>4</th>\n",
              "      <td>5</td>\n",
              "      <td>1</td>\n",
              "      <td>Total Internet subscribers</td>\n",
              "      <td>2004</td>\n",
              "      <td>785931.00</td>\n",
              "      <td>per population (%)</td>\n",
              "      <td>0.0005</td>\n",
              "      <td>per household (%)</td>\n",
              "      <td>0.001556</td>\n",
              "    </tr>\n",
              "    <tr>\n",
              "      <th>...</th>\n",
              "      <td>...</td>\n",
              "      <td>...</td>\n",
              "      <td>...</td>\n",
              "      <td>...</td>\n",
              "      <td>...</td>\n",
              "      <td>...</td>\n",
              "      <td>...</td>\n",
              "      <td>...</td>\n",
              "      <td>...</td>\n",
              "    </tr>\n",
              "    <tr>\n",
              "      <th>68</th>\n",
              "      <td>69</td>\n",
              "      <td>1</td>\n",
              "      <td>Total Internet subscribers</td>\n",
              "      <td>2020</td>\n",
              "      <td>10264995.67</td>\n",
              "      <td>per population (%)</td>\n",
              "      <td>0.1510</td>\n",
              "      <td>per household (%)</td>\n",
              "      <td>0.469344</td>\n",
              "    </tr>\n",
              "    <tr>\n",
              "      <th>69</th>\n",
              "      <td>70</td>\n",
              "      <td>2</td>\n",
              "      <td>Total Internet subscribers</td>\n",
              "      <td>2020</td>\n",
              "      <td>10912996.14</td>\n",
              "      <td>per population (%)</td>\n",
              "      <td>0.1605</td>\n",
              "      <td>per household (%)</td>\n",
              "      <td>0.498972</td>\n",
              "    </tr>\n",
              "    <tr>\n",
              "      <th>70</th>\n",
              "      <td>71</td>\n",
              "      <td>3</td>\n",
              "      <td>Total Internet subscribers</td>\n",
              "      <td>2020</td>\n",
              "      <td>11282645.58</td>\n",
              "      <td>per population (%)</td>\n",
              "      <td>0.1659</td>\n",
              "      <td>per household (%)</td>\n",
              "      <td>0.515873</td>\n",
              "    </tr>\n",
              "    <tr>\n",
              "      <th>71</th>\n",
              "      <td>72</td>\n",
              "      <td>4</td>\n",
              "      <td>Total Internet subscribers</td>\n",
              "      <td>2020</td>\n",
              "      <td>11478264.92</td>\n",
              "      <td>per population (%)</td>\n",
              "      <td>0.1685</td>\n",
              "      <td>per household (%)</td>\n",
              "      <td>0.514683</td>\n",
              "    </tr>\n",
              "    <tr>\n",
              "      <th>72</th>\n",
              "      <td>73</td>\n",
              "      <td>1</td>\n",
              "      <td>Total Internet subscribers</td>\n",
              "      <td>2021</td>\n",
              "      <td>11876158.44</td>\n",
              "      <td>per population (%)</td>\n",
              "      <td>0.1740</td>\n",
              "      <td>per household (%)</td>\n",
              "      <td>0.532524</td>\n",
              "    </tr>\n",
              "  </tbody>\n",
              "</table>\n",
              "<p>73 rows × 9 columns</p>\n",
              "</div>"
            ],
            "text/plain": [
              "    no.  quarter  ...     type_household  value_household\n",
              "0     1        1  ...  per household (%)         0.000281\n",
              "1     2        2  ...  per household (%)         0.000343\n",
              "2     3        3  ...  per household (%)         0.000459\n",
              "3     4        4  ...  per household (%)         0.000649\n",
              "4     5        1  ...  per household (%)         0.001556\n",
              "..  ...      ...  ...                ...              ...\n",
              "68   69        1  ...  per household (%)         0.469344\n",
              "69   70        2  ...  per household (%)         0.498972\n",
              "70   71        3  ...  per household (%)         0.515873\n",
              "71   72        4  ...  per household (%)         0.514683\n",
              "72   73        1  ...  per household (%)         0.532524\n",
              "\n",
              "[73 rows x 9 columns]"
            ]
          },
          "metadata": {},
          "execution_count": 16
        }
      ]
    },
    {
      "cell_type": "markdown",
      "metadata": {
        "id": "pytNrd2UppT5"
      },
      "source": [
        "### ข้อมูลชุดที่ 4 จำนวนเลขหมายโทรศัพท์เคลื่อนที่ที่ได้รับการจดทะเบียน\n",
        "\n",
        "https://data.go.th/dataset/mobile-subscribers?fbclid=IwAR3ZoY2gqT_ogfZwHHI40nC_ejcmi3O9xZMOmcac_rCCdA5brXcHVh85Ayw"
      ]
    },
    {
      "cell_type": "markdown",
      "metadata": {
        "id": "tm1dPczUW-7N"
      },
      "source": [
        "**คำอธิบายตาราง**\n",
        "* no. คือ ลำดับ\n",
        "* Mobile Market Report คือ ประเภท\n",
        "* quarter คือ ไตรมาส (4 ไตรมาส)\n",
        "* year คือ ปี\n",
        "* value_mobile คือ  จำนวนเลขหมายโทรศัพท์เคลื่อนที่ที่ได้รับการจดทะเบียน"
      ]
    },
    {
      "cell_type": "code",
      "metadata": {
        "colab": {
          "base_uri": "https://localhost:8080/",
          "height": 0
        },
        "id": "KvRqq9w7pl5D",
        "outputId": "7ee19bc4-5a0b-4c10-9fea-d2d9b1e345ba"
      },
      "source": [
        "data_mobile = pd.read_csv(os.path.join(path,'05mobile-subscribers.csv'))\n",
        "data_mobile"
      ],
      "execution_count": 17,
      "outputs": [
        {
          "output_type": "execute_result",
          "data": {
            "text/html": [
              "<div>\n",
              "<style scoped>\n",
              "    .dataframe tbody tr th:only-of-type {\n",
              "        vertical-align: middle;\n",
              "    }\n",
              "\n",
              "    .dataframe tbody tr th {\n",
              "        vertical-align: top;\n",
              "    }\n",
              "\n",
              "    .dataframe thead th {\n",
              "        text-align: right;\n",
              "    }\n",
              "</style>\n",
              "<table border=\"1\" class=\"dataframe\">\n",
              "  <thead>\n",
              "    <tr style=\"text-align: right;\">\n",
              "      <th></th>\n",
              "      <th>no.</th>\n",
              "      <th>Mobile Market Report</th>\n",
              "      <th>quarter</th>\n",
              "      <th>year</th>\n",
              "      <th>value_mobile</th>\n",
              "    </tr>\n",
              "  </thead>\n",
              "  <tbody>\n",
              "    <tr>\n",
              "      <th>0</th>\n",
              "      <td>4</td>\n",
              "      <td>Mobile Subscribers</td>\n",
              "      <td>4</td>\n",
              "      <td>2002</td>\n",
              "      <td>17449890</td>\n",
              "    </tr>\n",
              "    <tr>\n",
              "      <th>1</th>\n",
              "      <td>3</td>\n",
              "      <td>Mobile Subscribers</td>\n",
              "      <td>3</td>\n",
              "      <td>2002</td>\n",
              "      <td>15743776</td>\n",
              "    </tr>\n",
              "    <tr>\n",
              "      <th>2</th>\n",
              "      <td>2</td>\n",
              "      <td>Mobile Subscribers</td>\n",
              "      <td>2</td>\n",
              "      <td>2002</td>\n",
              "      <td>12416261</td>\n",
              "    </tr>\n",
              "    <tr>\n",
              "      <th>3</th>\n",
              "      <td>1</td>\n",
              "      <td>Mobile Subscribers</td>\n",
              "      <td>1</td>\n",
              "      <td>2002</td>\n",
              "      <td>9669909</td>\n",
              "    </tr>\n",
              "    <tr>\n",
              "      <th>4</th>\n",
              "      <td>8</td>\n",
              "      <td>Mobile Subscribers</td>\n",
              "      <td>4</td>\n",
              "      <td>2003</td>\n",
              "      <td>21616910</td>\n",
              "    </tr>\n",
              "    <tr>\n",
              "      <th>...</th>\n",
              "      <td>...</td>\n",
              "      <td>...</td>\n",
              "      <td>...</td>\n",
              "      <td>...</td>\n",
              "      <td>...</td>\n",
              "    </tr>\n",
              "    <tr>\n",
              "      <th>72</th>\n",
              "      <td>76</td>\n",
              "      <td>Mobile Subscribers</td>\n",
              "      <td>4</td>\n",
              "      <td>2020</td>\n",
              "      <td>116294420</td>\n",
              "    </tr>\n",
              "    <tr>\n",
              "      <th>73</th>\n",
              "      <td>75</td>\n",
              "      <td>Mobile Subscribers</td>\n",
              "      <td>3</td>\n",
              "      <td>2020</td>\n",
              "      <td>119169759</td>\n",
              "    </tr>\n",
              "    <tr>\n",
              "      <th>74</th>\n",
              "      <td>74</td>\n",
              "      <td>Mobile Subscribers</td>\n",
              "      <td>2</td>\n",
              "      <td>2020</td>\n",
              "      <td>131881072</td>\n",
              "    </tr>\n",
              "    <tr>\n",
              "      <th>75</th>\n",
              "      <td>73</td>\n",
              "      <td>Mobile Subscribers</td>\n",
              "      <td>1</td>\n",
              "      <td>2020</td>\n",
              "      <td>132594791</td>\n",
              "    </tr>\n",
              "    <tr>\n",
              "      <th>76</th>\n",
              "      <td>77</td>\n",
              "      <td>Mobile Subscribers</td>\n",
              "      <td>1</td>\n",
              "      <td>2021</td>\n",
              "      <td>117562201</td>\n",
              "    </tr>\n",
              "  </tbody>\n",
              "</table>\n",
              "<p>77 rows × 5 columns</p>\n",
              "</div>"
            ],
            "text/plain": [
              "    no. Mobile Market Report  quarter  year  value_mobile\n",
              "0     4   Mobile Subscribers        4  2002      17449890\n",
              "1     3   Mobile Subscribers        3  2002      15743776\n",
              "2     2   Mobile Subscribers        2  2002      12416261\n",
              "3     1   Mobile Subscribers        1  2002       9669909\n",
              "4     8   Mobile Subscribers        4  2003      21616910\n",
              "..  ...                  ...      ...   ...           ...\n",
              "72   76   Mobile Subscribers        4  2020     116294420\n",
              "73   75   Mobile Subscribers        3  2020     119169759\n",
              "74   74   Mobile Subscribers        2  2020     131881072\n",
              "75   73   Mobile Subscribers        1  2020     132594791\n",
              "76   77   Mobile Subscribers        1  2021     117562201\n",
              "\n",
              "[77 rows x 5 columns]"
            ]
          },
          "metadata": {},
          "execution_count": 17
        }
      ]
    },
    {
      "cell_type": "code",
      "metadata": {
        "colab": {
          "base_uri": "https://localhost:8080/"
        },
        "id": "m0Izaqjvp81Q",
        "outputId": "a712e0a8-2759-42fb-acf8-fba65e819142"
      },
      "source": [
        "# เช็ค missing ตาราง data_mobile\n",
        "data_mobile.isnull().any()"
      ],
      "execution_count": 18,
      "outputs": [
        {
          "output_type": "execute_result",
          "data": {
            "text/plain": [
              "no.                     False\n",
              "Mobile Market Report    False\n",
              "quarter                 False\n",
              "year                    False\n",
              "value_mobile            False\n",
              "dtype: bool"
            ]
          },
          "metadata": {},
          "execution_count": 18
        }
      ]
    },
    {
      "cell_type": "code",
      "metadata": {
        "colab": {
          "base_uri": "https://localhost:8080/",
          "height": 0
        },
        "id": "CGMUXyErqhp-",
        "outputId": "642878fd-203f-45b0-db33-052ea9e1fb35"
      },
      "source": [
        "# เรียงข้อมูลโดยใช้ column ของ No. เป็นหลักในการเรียง\n",
        "data_mobile2 = data_mobile.sort_values(by=['no.'])\n",
        "data_mobile2"
      ],
      "execution_count": 19,
      "outputs": [
        {
          "output_type": "execute_result",
          "data": {
            "text/html": [
              "<div>\n",
              "<style scoped>\n",
              "    .dataframe tbody tr th:only-of-type {\n",
              "        vertical-align: middle;\n",
              "    }\n",
              "\n",
              "    .dataframe tbody tr th {\n",
              "        vertical-align: top;\n",
              "    }\n",
              "\n",
              "    .dataframe thead th {\n",
              "        text-align: right;\n",
              "    }\n",
              "</style>\n",
              "<table border=\"1\" class=\"dataframe\">\n",
              "  <thead>\n",
              "    <tr style=\"text-align: right;\">\n",
              "      <th></th>\n",
              "      <th>no.</th>\n",
              "      <th>Mobile Market Report</th>\n",
              "      <th>quarter</th>\n",
              "      <th>year</th>\n",
              "      <th>value_mobile</th>\n",
              "    </tr>\n",
              "  </thead>\n",
              "  <tbody>\n",
              "    <tr>\n",
              "      <th>3</th>\n",
              "      <td>1</td>\n",
              "      <td>Mobile Subscribers</td>\n",
              "      <td>1</td>\n",
              "      <td>2002</td>\n",
              "      <td>9669909</td>\n",
              "    </tr>\n",
              "    <tr>\n",
              "      <th>2</th>\n",
              "      <td>2</td>\n",
              "      <td>Mobile Subscribers</td>\n",
              "      <td>2</td>\n",
              "      <td>2002</td>\n",
              "      <td>12416261</td>\n",
              "    </tr>\n",
              "    <tr>\n",
              "      <th>1</th>\n",
              "      <td>3</td>\n",
              "      <td>Mobile Subscribers</td>\n",
              "      <td>3</td>\n",
              "      <td>2002</td>\n",
              "      <td>15743776</td>\n",
              "    </tr>\n",
              "    <tr>\n",
              "      <th>0</th>\n",
              "      <td>4</td>\n",
              "      <td>Mobile Subscribers</td>\n",
              "      <td>4</td>\n",
              "      <td>2002</td>\n",
              "      <td>17449890</td>\n",
              "    </tr>\n",
              "    <tr>\n",
              "      <th>7</th>\n",
              "      <td>5</td>\n",
              "      <td>Mobile Subscribers</td>\n",
              "      <td>1</td>\n",
              "      <td>2003</td>\n",
              "      <td>18763102</td>\n",
              "    </tr>\n",
              "    <tr>\n",
              "      <th>...</th>\n",
              "      <td>...</td>\n",
              "      <td>...</td>\n",
              "      <td>...</td>\n",
              "      <td>...</td>\n",
              "      <td>...</td>\n",
              "    </tr>\n",
              "    <tr>\n",
              "      <th>75</th>\n",
              "      <td>73</td>\n",
              "      <td>Mobile Subscribers</td>\n",
              "      <td>1</td>\n",
              "      <td>2020</td>\n",
              "      <td>132594791</td>\n",
              "    </tr>\n",
              "    <tr>\n",
              "      <th>74</th>\n",
              "      <td>74</td>\n",
              "      <td>Mobile Subscribers</td>\n",
              "      <td>2</td>\n",
              "      <td>2020</td>\n",
              "      <td>131881072</td>\n",
              "    </tr>\n",
              "    <tr>\n",
              "      <th>73</th>\n",
              "      <td>75</td>\n",
              "      <td>Mobile Subscribers</td>\n",
              "      <td>3</td>\n",
              "      <td>2020</td>\n",
              "      <td>119169759</td>\n",
              "    </tr>\n",
              "    <tr>\n",
              "      <th>72</th>\n",
              "      <td>76</td>\n",
              "      <td>Mobile Subscribers</td>\n",
              "      <td>4</td>\n",
              "      <td>2020</td>\n",
              "      <td>116294420</td>\n",
              "    </tr>\n",
              "    <tr>\n",
              "      <th>76</th>\n",
              "      <td>77</td>\n",
              "      <td>Mobile Subscribers</td>\n",
              "      <td>1</td>\n",
              "      <td>2021</td>\n",
              "      <td>117562201</td>\n",
              "    </tr>\n",
              "  </tbody>\n",
              "</table>\n",
              "<p>77 rows × 5 columns</p>\n",
              "</div>"
            ],
            "text/plain": [
              "    no. Mobile Market Report  quarter  year  value_mobile\n",
              "3     1   Mobile Subscribers        1  2002       9669909\n",
              "2     2   Mobile Subscribers        2  2002      12416261\n",
              "1     3   Mobile Subscribers        3  2002      15743776\n",
              "0     4   Mobile Subscribers        4  2002      17449890\n",
              "7     5   Mobile Subscribers        1  2003      18763102\n",
              "..  ...                  ...      ...   ...           ...\n",
              "75   73   Mobile Subscribers        1  2020     132594791\n",
              "74   74   Mobile Subscribers        2  2020     131881072\n",
              "73   75   Mobile Subscribers        3  2020     119169759\n",
              "72   76   Mobile Subscribers        4  2020     116294420\n",
              "76   77   Mobile Subscribers        1  2021     117562201\n",
              "\n",
              "[77 rows x 5 columns]"
            ]
          },
          "metadata": {},
          "execution_count": 19
        }
      ]
    },
    {
      "cell_type": "code",
      "metadata": {
        "colab": {
          "base_uri": "https://localhost:8080/",
          "height": 0
        },
        "id": "LKibC0YkqybM",
        "outputId": "2c400c06-2871-4188-eaf9-f9de98de31c8"
      },
      "source": [
        "# ตัด column ของตาราง data_population (ตัด column ที่ซ้ำกันออกคือ No. กับ QUARTER)\n",
        "data_mobile2.drop(['quarter','year'], axis=1, inplace=True)  # axis=1 คือลบcolumn / axis=0 คือลบrow\n",
        "data_mobile2"
      ],
      "execution_count": 20,
      "outputs": [
        {
          "output_type": "execute_result",
          "data": {
            "text/html": [
              "<div>\n",
              "<style scoped>\n",
              "    .dataframe tbody tr th:only-of-type {\n",
              "        vertical-align: middle;\n",
              "    }\n",
              "\n",
              "    .dataframe tbody tr th {\n",
              "        vertical-align: top;\n",
              "    }\n",
              "\n",
              "    .dataframe thead th {\n",
              "        text-align: right;\n",
              "    }\n",
              "</style>\n",
              "<table border=\"1\" class=\"dataframe\">\n",
              "  <thead>\n",
              "    <tr style=\"text-align: right;\">\n",
              "      <th></th>\n",
              "      <th>no.</th>\n",
              "      <th>Mobile Market Report</th>\n",
              "      <th>value_mobile</th>\n",
              "    </tr>\n",
              "  </thead>\n",
              "  <tbody>\n",
              "    <tr>\n",
              "      <th>3</th>\n",
              "      <td>1</td>\n",
              "      <td>Mobile Subscribers</td>\n",
              "      <td>9669909</td>\n",
              "    </tr>\n",
              "    <tr>\n",
              "      <th>2</th>\n",
              "      <td>2</td>\n",
              "      <td>Mobile Subscribers</td>\n",
              "      <td>12416261</td>\n",
              "    </tr>\n",
              "    <tr>\n",
              "      <th>1</th>\n",
              "      <td>3</td>\n",
              "      <td>Mobile Subscribers</td>\n",
              "      <td>15743776</td>\n",
              "    </tr>\n",
              "    <tr>\n",
              "      <th>0</th>\n",
              "      <td>4</td>\n",
              "      <td>Mobile Subscribers</td>\n",
              "      <td>17449890</td>\n",
              "    </tr>\n",
              "    <tr>\n",
              "      <th>7</th>\n",
              "      <td>5</td>\n",
              "      <td>Mobile Subscribers</td>\n",
              "      <td>18763102</td>\n",
              "    </tr>\n",
              "    <tr>\n",
              "      <th>...</th>\n",
              "      <td>...</td>\n",
              "      <td>...</td>\n",
              "      <td>...</td>\n",
              "    </tr>\n",
              "    <tr>\n",
              "      <th>75</th>\n",
              "      <td>73</td>\n",
              "      <td>Mobile Subscribers</td>\n",
              "      <td>132594791</td>\n",
              "    </tr>\n",
              "    <tr>\n",
              "      <th>74</th>\n",
              "      <td>74</td>\n",
              "      <td>Mobile Subscribers</td>\n",
              "      <td>131881072</td>\n",
              "    </tr>\n",
              "    <tr>\n",
              "      <th>73</th>\n",
              "      <td>75</td>\n",
              "      <td>Mobile Subscribers</td>\n",
              "      <td>119169759</td>\n",
              "    </tr>\n",
              "    <tr>\n",
              "      <th>72</th>\n",
              "      <td>76</td>\n",
              "      <td>Mobile Subscribers</td>\n",
              "      <td>116294420</td>\n",
              "    </tr>\n",
              "    <tr>\n",
              "      <th>76</th>\n",
              "      <td>77</td>\n",
              "      <td>Mobile Subscribers</td>\n",
              "      <td>117562201</td>\n",
              "    </tr>\n",
              "  </tbody>\n",
              "</table>\n",
              "<p>77 rows × 3 columns</p>\n",
              "</div>"
            ],
            "text/plain": [
              "    no. Mobile Market Report  value_mobile\n",
              "3     1   Mobile Subscribers       9669909\n",
              "2     2   Mobile Subscribers      12416261\n",
              "1     3   Mobile Subscribers      15743776\n",
              "0     4   Mobile Subscribers      17449890\n",
              "7     5   Mobile Subscribers      18763102\n",
              "..  ...                  ...           ...\n",
              "75   73   Mobile Subscribers     132594791\n",
              "74   74   Mobile Subscribers     131881072\n",
              "73   75   Mobile Subscribers     119169759\n",
              "72   76   Mobile Subscribers     116294420\n",
              "76   77   Mobile Subscribers     117562201\n",
              "\n",
              "[77 rows x 3 columns]"
            ]
          },
          "metadata": {},
          "execution_count": 20
        }
      ]
    },
    {
      "cell_type": "code",
      "metadata": {
        "colab": {
          "base_uri": "https://localhost:8080/",
          "height": 0
        },
        "id": "XLicTrzPvFzv",
        "outputId": "2d2557fc-1135-4a91-84ff-743814cf5936"
      },
      "source": [
        "data_mobile3 = data_mobile2.iloc[4:,:]\n",
        "data_mobile3"
      ],
      "execution_count": 21,
      "outputs": [
        {
          "output_type": "execute_result",
          "data": {
            "text/html": [
              "<div>\n",
              "<style scoped>\n",
              "    .dataframe tbody tr th:only-of-type {\n",
              "        vertical-align: middle;\n",
              "    }\n",
              "\n",
              "    .dataframe tbody tr th {\n",
              "        vertical-align: top;\n",
              "    }\n",
              "\n",
              "    .dataframe thead th {\n",
              "        text-align: right;\n",
              "    }\n",
              "</style>\n",
              "<table border=\"1\" class=\"dataframe\">\n",
              "  <thead>\n",
              "    <tr style=\"text-align: right;\">\n",
              "      <th></th>\n",
              "      <th>no.</th>\n",
              "      <th>Mobile Market Report</th>\n",
              "      <th>value_mobile</th>\n",
              "    </tr>\n",
              "  </thead>\n",
              "  <tbody>\n",
              "    <tr>\n",
              "      <th>7</th>\n",
              "      <td>5</td>\n",
              "      <td>Mobile Subscribers</td>\n",
              "      <td>18763102</td>\n",
              "    </tr>\n",
              "    <tr>\n",
              "      <th>6</th>\n",
              "      <td>6</td>\n",
              "      <td>Mobile Subscribers</td>\n",
              "      <td>19788956</td>\n",
              "    </tr>\n",
              "    <tr>\n",
              "      <th>5</th>\n",
              "      <td>7</td>\n",
              "      <td>Mobile Subscribers</td>\n",
              "      <td>20655866</td>\n",
              "    </tr>\n",
              "    <tr>\n",
              "      <th>4</th>\n",
              "      <td>8</td>\n",
              "      <td>Mobile Subscribers</td>\n",
              "      <td>21616910</td>\n",
              "    </tr>\n",
              "    <tr>\n",
              "      <th>11</th>\n",
              "      <td>9</td>\n",
              "      <td>Mobile Subscribers</td>\n",
              "      <td>23217311</td>\n",
              "    </tr>\n",
              "    <tr>\n",
              "      <th>...</th>\n",
              "      <td>...</td>\n",
              "      <td>...</td>\n",
              "      <td>...</td>\n",
              "    </tr>\n",
              "    <tr>\n",
              "      <th>75</th>\n",
              "      <td>73</td>\n",
              "      <td>Mobile Subscribers</td>\n",
              "      <td>132594791</td>\n",
              "    </tr>\n",
              "    <tr>\n",
              "      <th>74</th>\n",
              "      <td>74</td>\n",
              "      <td>Mobile Subscribers</td>\n",
              "      <td>131881072</td>\n",
              "    </tr>\n",
              "    <tr>\n",
              "      <th>73</th>\n",
              "      <td>75</td>\n",
              "      <td>Mobile Subscribers</td>\n",
              "      <td>119169759</td>\n",
              "    </tr>\n",
              "    <tr>\n",
              "      <th>72</th>\n",
              "      <td>76</td>\n",
              "      <td>Mobile Subscribers</td>\n",
              "      <td>116294420</td>\n",
              "    </tr>\n",
              "    <tr>\n",
              "      <th>76</th>\n",
              "      <td>77</td>\n",
              "      <td>Mobile Subscribers</td>\n",
              "      <td>117562201</td>\n",
              "    </tr>\n",
              "  </tbody>\n",
              "</table>\n",
              "<p>73 rows × 3 columns</p>\n",
              "</div>"
            ],
            "text/plain": [
              "    no. Mobile Market Report  value_mobile\n",
              "7     5   Mobile Subscribers      18763102\n",
              "6     6   Mobile Subscribers      19788956\n",
              "5     7   Mobile Subscribers      20655866\n",
              "4     8   Mobile Subscribers      21616910\n",
              "11    9   Mobile Subscribers      23217311\n",
              "..  ...                  ...           ...\n",
              "75   73   Mobile Subscribers     132594791\n",
              "74   74   Mobile Subscribers     131881072\n",
              "73   75   Mobile Subscribers     119169759\n",
              "72   76   Mobile Subscribers     116294420\n",
              "76   77   Mobile Subscribers     117562201\n",
              "\n",
              "[73 rows x 3 columns]"
            ]
          },
          "metadata": {},
          "execution_count": 21
        }
      ]
    },
    {
      "cell_type": "code",
      "metadata": {
        "colab": {
          "base_uri": "https://localhost:8080/",
          "height": 0
        },
        "id": "o_zH5Xmuq-4x",
        "outputId": "8c01ef1a-7659-4159-d2ae-9953d6093777"
      },
      "source": [
        "# เชื่อมตาราง merge_table2 และ data_mobile เข้าด้วยกัน โดยให้ตาราง merge_table2 เป็นตารางหลักอยู่ที่ด้านซ้าย\n",
        "merge_table3 = data_mobile3.merge(merge_table2,how='left',left_on='no.',right_on='no.')\n",
        "merge_table3"
      ],
      "execution_count": 22,
      "outputs": [
        {
          "output_type": "execute_result",
          "data": {
            "text/html": [
              "<div>\n",
              "<style scoped>\n",
              "    .dataframe tbody tr th:only-of-type {\n",
              "        vertical-align: middle;\n",
              "    }\n",
              "\n",
              "    .dataframe tbody tr th {\n",
              "        vertical-align: top;\n",
              "    }\n",
              "\n",
              "    .dataframe thead th {\n",
              "        text-align: right;\n",
              "    }\n",
              "</style>\n",
              "<table border=\"1\" class=\"dataframe\">\n",
              "  <thead>\n",
              "    <tr style=\"text-align: right;\">\n",
              "      <th></th>\n",
              "      <th>no.</th>\n",
              "      <th>Mobile Market Report</th>\n",
              "      <th>value_mobile</th>\n",
              "      <th>quarter</th>\n",
              "      <th>Thailand Internet Users_subscriber</th>\n",
              "      <th>year</th>\n",
              "      <th>value_subscriber</th>\n",
              "      <th>type_population</th>\n",
              "      <th>value_population</th>\n",
              "      <th>type_household</th>\n",
              "      <th>value_household</th>\n",
              "    </tr>\n",
              "  </thead>\n",
              "  <tbody>\n",
              "    <tr>\n",
              "      <th>0</th>\n",
              "      <td>5</td>\n",
              "      <td>Mobile Subscribers</td>\n",
              "      <td>18763102</td>\n",
              "      <td>1.0</td>\n",
              "      <td>Total Internet subscribers</td>\n",
              "      <td>2004.0</td>\n",
              "      <td>785931.00</td>\n",
              "      <td>per population (%)</td>\n",
              "      <td>0.0005</td>\n",
              "      <td>per household (%)</td>\n",
              "      <td>0.001556</td>\n",
              "    </tr>\n",
              "    <tr>\n",
              "      <th>1</th>\n",
              "      <td>6</td>\n",
              "      <td>Mobile Subscribers</td>\n",
              "      <td>19788956</td>\n",
              "      <td>2.0</td>\n",
              "      <td>Total Internet subscribers</td>\n",
              "      <td>2004.0</td>\n",
              "      <td>914400.00</td>\n",
              "      <td>per population (%)</td>\n",
              "      <td>0.0007</td>\n",
              "      <td>per household (%)</td>\n",
              "      <td>0.002265</td>\n",
              "    </tr>\n",
              "    <tr>\n",
              "      <th>2</th>\n",
              "      <td>7</td>\n",
              "      <td>Mobile Subscribers</td>\n",
              "      <td>20655866</td>\n",
              "      <td>3.0</td>\n",
              "      <td>Total Internet subscribers</td>\n",
              "      <td>2004.0</td>\n",
              "      <td>1091652.00</td>\n",
              "      <td>per population (%)</td>\n",
              "      <td>0.0015</td>\n",
              "      <td>per household (%)</td>\n",
              "      <td>0.004964</td>\n",
              "    </tr>\n",
              "    <tr>\n",
              "      <th>3</th>\n",
              "      <td>8</td>\n",
              "      <td>Mobile Subscribers</td>\n",
              "      <td>21616910</td>\n",
              "      <td>4.0</td>\n",
              "      <td>Total Internet subscribers</td>\n",
              "      <td>2004.0</td>\n",
              "      <td>1231344.00</td>\n",
              "      <td>per population (%)</td>\n",
              "      <td>0.0026</td>\n",
              "      <td>per household (%)</td>\n",
              "      <td>0.008716</td>\n",
              "    </tr>\n",
              "    <tr>\n",
              "      <th>4</th>\n",
              "      <td>9</td>\n",
              "      <td>Mobile Subscribers</td>\n",
              "      <td>23217311</td>\n",
              "      <td>1.0</td>\n",
              "      <td>Total Internet subscribers</td>\n",
              "      <td>2005.0</td>\n",
              "      <td>1197942.00</td>\n",
              "      <td>per population (%)</td>\n",
              "      <td>0.0045</td>\n",
              "      <td>per household (%)</td>\n",
              "      <td>0.015449</td>\n",
              "    </tr>\n",
              "    <tr>\n",
              "      <th>...</th>\n",
              "      <td>...</td>\n",
              "      <td>...</td>\n",
              "      <td>...</td>\n",
              "      <td>...</td>\n",
              "      <td>...</td>\n",
              "      <td>...</td>\n",
              "      <td>...</td>\n",
              "      <td>...</td>\n",
              "      <td>...</td>\n",
              "      <td>...</td>\n",
              "      <td>...</td>\n",
              "    </tr>\n",
              "    <tr>\n",
              "      <th>68</th>\n",
              "      <td>73</td>\n",
              "      <td>Mobile Subscribers</td>\n",
              "      <td>132594791</td>\n",
              "      <td>1.0</td>\n",
              "      <td>Total Internet subscribers</td>\n",
              "      <td>2021.0</td>\n",
              "      <td>11876158.44</td>\n",
              "      <td>per population (%)</td>\n",
              "      <td>0.1740</td>\n",
              "      <td>per household (%)</td>\n",
              "      <td>0.532524</td>\n",
              "    </tr>\n",
              "    <tr>\n",
              "      <th>69</th>\n",
              "      <td>74</td>\n",
              "      <td>Mobile Subscribers</td>\n",
              "      <td>131881072</td>\n",
              "      <td>NaN</td>\n",
              "      <td>NaN</td>\n",
              "      <td>NaN</td>\n",
              "      <td>NaN</td>\n",
              "      <td>NaN</td>\n",
              "      <td>NaN</td>\n",
              "      <td>NaN</td>\n",
              "      <td>NaN</td>\n",
              "    </tr>\n",
              "    <tr>\n",
              "      <th>70</th>\n",
              "      <td>75</td>\n",
              "      <td>Mobile Subscribers</td>\n",
              "      <td>119169759</td>\n",
              "      <td>NaN</td>\n",
              "      <td>NaN</td>\n",
              "      <td>NaN</td>\n",
              "      <td>NaN</td>\n",
              "      <td>NaN</td>\n",
              "      <td>NaN</td>\n",
              "      <td>NaN</td>\n",
              "      <td>NaN</td>\n",
              "    </tr>\n",
              "    <tr>\n",
              "      <th>71</th>\n",
              "      <td>76</td>\n",
              "      <td>Mobile Subscribers</td>\n",
              "      <td>116294420</td>\n",
              "      <td>NaN</td>\n",
              "      <td>NaN</td>\n",
              "      <td>NaN</td>\n",
              "      <td>NaN</td>\n",
              "      <td>NaN</td>\n",
              "      <td>NaN</td>\n",
              "      <td>NaN</td>\n",
              "      <td>NaN</td>\n",
              "    </tr>\n",
              "    <tr>\n",
              "      <th>72</th>\n",
              "      <td>77</td>\n",
              "      <td>Mobile Subscribers</td>\n",
              "      <td>117562201</td>\n",
              "      <td>NaN</td>\n",
              "      <td>NaN</td>\n",
              "      <td>NaN</td>\n",
              "      <td>NaN</td>\n",
              "      <td>NaN</td>\n",
              "      <td>NaN</td>\n",
              "      <td>NaN</td>\n",
              "      <td>NaN</td>\n",
              "    </tr>\n",
              "  </tbody>\n",
              "</table>\n",
              "<p>73 rows × 11 columns</p>\n",
              "</div>"
            ],
            "text/plain": [
              "    no. Mobile Market Report  ...     type_household  value_household\n",
              "0     5   Mobile Subscribers  ...  per household (%)         0.001556\n",
              "1     6   Mobile Subscribers  ...  per household (%)         0.002265\n",
              "2     7   Mobile Subscribers  ...  per household (%)         0.004964\n",
              "3     8   Mobile Subscribers  ...  per household (%)         0.008716\n",
              "4     9   Mobile Subscribers  ...  per household (%)         0.015449\n",
              "..  ...                  ...  ...                ...              ...\n",
              "68   73   Mobile Subscribers  ...  per household (%)         0.532524\n",
              "69   74   Mobile Subscribers  ...                NaN              NaN\n",
              "70   75   Mobile Subscribers  ...                NaN              NaN\n",
              "71   76   Mobile Subscribers  ...                NaN              NaN\n",
              "72   77   Mobile Subscribers  ...                NaN              NaN\n",
              "\n",
              "[73 rows x 11 columns]"
            ]
          },
          "metadata": {},
          "execution_count": 22
        }
      ]
    },
    {
      "cell_type": "code",
      "metadata": {
        "colab": {
          "base_uri": "https://localhost:8080/"
        },
        "id": "_wRjav9f4a2Q",
        "outputId": "2dc31e17-5fd7-4078-e747-1341f98b0e79"
      },
      "source": [
        "# เช็ค missing ตาราง merge_table3\n",
        "merge_table3.isnull().any()"
      ],
      "execution_count": 23,
      "outputs": [
        {
          "output_type": "execute_result",
          "data": {
            "text/plain": [
              "no.                                   False\n",
              "Mobile Market Report                  False\n",
              "value_mobile                          False\n",
              "quarter                                True\n",
              "Thailand Internet Users_subscriber     True\n",
              "year                                   True\n",
              "value_subscriber                       True\n",
              "type_population                        True\n",
              "value_population                       True\n",
              "type_household                         True\n",
              "value_household                        True\n",
              "dtype: bool"
            ]
          },
          "metadata": {},
          "execution_count": 23
        }
      ]
    },
    {
      "cell_type": "code",
      "metadata": {
        "colab": {
          "base_uri": "https://localhost:8080/",
          "height": 0
        },
        "id": "1Ff18h_gzc6R",
        "outputId": "d8083b8b-d091-4515-b021-a1bbaf47ac79"
      },
      "source": [
        "# จัดการ missing โดยการ dropna()\n",
        "merge_table3_drop = merge_table3.dropna()\n",
        "merge_table3_drop"
      ],
      "execution_count": 24,
      "outputs": [
        {
          "output_type": "execute_result",
          "data": {
            "text/html": [
              "<div>\n",
              "<style scoped>\n",
              "    .dataframe tbody tr th:only-of-type {\n",
              "        vertical-align: middle;\n",
              "    }\n",
              "\n",
              "    .dataframe tbody tr th {\n",
              "        vertical-align: top;\n",
              "    }\n",
              "\n",
              "    .dataframe thead th {\n",
              "        text-align: right;\n",
              "    }\n",
              "</style>\n",
              "<table border=\"1\" class=\"dataframe\">\n",
              "  <thead>\n",
              "    <tr style=\"text-align: right;\">\n",
              "      <th></th>\n",
              "      <th>no.</th>\n",
              "      <th>Mobile Market Report</th>\n",
              "      <th>value_mobile</th>\n",
              "      <th>quarter</th>\n",
              "      <th>Thailand Internet Users_subscriber</th>\n",
              "      <th>year</th>\n",
              "      <th>value_subscriber</th>\n",
              "      <th>type_population</th>\n",
              "      <th>value_population</th>\n",
              "      <th>type_household</th>\n",
              "      <th>value_household</th>\n",
              "    </tr>\n",
              "  </thead>\n",
              "  <tbody>\n",
              "    <tr>\n",
              "      <th>0</th>\n",
              "      <td>5</td>\n",
              "      <td>Mobile Subscribers</td>\n",
              "      <td>18763102</td>\n",
              "      <td>1.0</td>\n",
              "      <td>Total Internet subscribers</td>\n",
              "      <td>2004.0</td>\n",
              "      <td>785931.00</td>\n",
              "      <td>per population (%)</td>\n",
              "      <td>0.0005</td>\n",
              "      <td>per household (%)</td>\n",
              "      <td>0.001556</td>\n",
              "    </tr>\n",
              "    <tr>\n",
              "      <th>1</th>\n",
              "      <td>6</td>\n",
              "      <td>Mobile Subscribers</td>\n",
              "      <td>19788956</td>\n",
              "      <td>2.0</td>\n",
              "      <td>Total Internet subscribers</td>\n",
              "      <td>2004.0</td>\n",
              "      <td>914400.00</td>\n",
              "      <td>per population (%)</td>\n",
              "      <td>0.0007</td>\n",
              "      <td>per household (%)</td>\n",
              "      <td>0.002265</td>\n",
              "    </tr>\n",
              "    <tr>\n",
              "      <th>2</th>\n",
              "      <td>7</td>\n",
              "      <td>Mobile Subscribers</td>\n",
              "      <td>20655866</td>\n",
              "      <td>3.0</td>\n",
              "      <td>Total Internet subscribers</td>\n",
              "      <td>2004.0</td>\n",
              "      <td>1091652.00</td>\n",
              "      <td>per population (%)</td>\n",
              "      <td>0.0015</td>\n",
              "      <td>per household (%)</td>\n",
              "      <td>0.004964</td>\n",
              "    </tr>\n",
              "    <tr>\n",
              "      <th>3</th>\n",
              "      <td>8</td>\n",
              "      <td>Mobile Subscribers</td>\n",
              "      <td>21616910</td>\n",
              "      <td>4.0</td>\n",
              "      <td>Total Internet subscribers</td>\n",
              "      <td>2004.0</td>\n",
              "      <td>1231344.00</td>\n",
              "      <td>per population (%)</td>\n",
              "      <td>0.0026</td>\n",
              "      <td>per household (%)</td>\n",
              "      <td>0.008716</td>\n",
              "    </tr>\n",
              "    <tr>\n",
              "      <th>4</th>\n",
              "      <td>9</td>\n",
              "      <td>Mobile Subscribers</td>\n",
              "      <td>23217311</td>\n",
              "      <td>1.0</td>\n",
              "      <td>Total Internet subscribers</td>\n",
              "      <td>2005.0</td>\n",
              "      <td>1197942.00</td>\n",
              "      <td>per population (%)</td>\n",
              "      <td>0.0045</td>\n",
              "      <td>per household (%)</td>\n",
              "      <td>0.015449</td>\n",
              "    </tr>\n",
              "    <tr>\n",
              "      <th>...</th>\n",
              "      <td>...</td>\n",
              "      <td>...</td>\n",
              "      <td>...</td>\n",
              "      <td>...</td>\n",
              "      <td>...</td>\n",
              "      <td>...</td>\n",
              "      <td>...</td>\n",
              "      <td>...</td>\n",
              "      <td>...</td>\n",
              "      <td>...</td>\n",
              "      <td>...</td>\n",
              "    </tr>\n",
              "    <tr>\n",
              "      <th>64</th>\n",
              "      <td>69</td>\n",
              "      <td>Mobile Subscribers</td>\n",
              "      <td>122173569</td>\n",
              "      <td>1.0</td>\n",
              "      <td>Total Internet subscribers</td>\n",
              "      <td>2020.0</td>\n",
              "      <td>10264995.67</td>\n",
              "      <td>per population (%)</td>\n",
              "      <td>0.1510</td>\n",
              "      <td>per household (%)</td>\n",
              "      <td>0.469344</td>\n",
              "    </tr>\n",
              "    <tr>\n",
              "      <th>65</th>\n",
              "      <td>70</td>\n",
              "      <td>Mobile Subscribers</td>\n",
              "      <td>124366678</td>\n",
              "      <td>2.0</td>\n",
              "      <td>Total Internet subscribers</td>\n",
              "      <td>2020.0</td>\n",
              "      <td>10912996.14</td>\n",
              "      <td>per population (%)</td>\n",
              "      <td>0.1605</td>\n",
              "      <td>per household (%)</td>\n",
              "      <td>0.498972</td>\n",
              "    </tr>\n",
              "    <tr>\n",
              "      <th>66</th>\n",
              "      <td>71</td>\n",
              "      <td>Mobile Subscribers</td>\n",
              "      <td>126137528</td>\n",
              "      <td>3.0</td>\n",
              "      <td>Total Internet subscribers</td>\n",
              "      <td>2020.0</td>\n",
              "      <td>11282645.58</td>\n",
              "      <td>per population (%)</td>\n",
              "      <td>0.1659</td>\n",
              "      <td>per household (%)</td>\n",
              "      <td>0.515873</td>\n",
              "    </tr>\n",
              "    <tr>\n",
              "      <th>67</th>\n",
              "      <td>72</td>\n",
              "      <td>Mobile Subscribers</td>\n",
              "      <td>129613743</td>\n",
              "      <td>4.0</td>\n",
              "      <td>Total Internet subscribers</td>\n",
              "      <td>2020.0</td>\n",
              "      <td>11478264.92</td>\n",
              "      <td>per population (%)</td>\n",
              "      <td>0.1685</td>\n",
              "      <td>per household (%)</td>\n",
              "      <td>0.514683</td>\n",
              "    </tr>\n",
              "    <tr>\n",
              "      <th>68</th>\n",
              "      <td>73</td>\n",
              "      <td>Mobile Subscribers</td>\n",
              "      <td>132594791</td>\n",
              "      <td>1.0</td>\n",
              "      <td>Total Internet subscribers</td>\n",
              "      <td>2021.0</td>\n",
              "      <td>11876158.44</td>\n",
              "      <td>per population (%)</td>\n",
              "      <td>0.1740</td>\n",
              "      <td>per household (%)</td>\n",
              "      <td>0.532524</td>\n",
              "    </tr>\n",
              "  </tbody>\n",
              "</table>\n",
              "<p>69 rows × 11 columns</p>\n",
              "</div>"
            ],
            "text/plain": [
              "    no. Mobile Market Report  ...     type_household  value_household\n",
              "0     5   Mobile Subscribers  ...  per household (%)         0.001556\n",
              "1     6   Mobile Subscribers  ...  per household (%)         0.002265\n",
              "2     7   Mobile Subscribers  ...  per household (%)         0.004964\n",
              "3     8   Mobile Subscribers  ...  per household (%)         0.008716\n",
              "4     9   Mobile Subscribers  ...  per household (%)         0.015449\n",
              "..  ...                  ...  ...                ...              ...\n",
              "64   69   Mobile Subscribers  ...  per household (%)         0.469344\n",
              "65   70   Mobile Subscribers  ...  per household (%)         0.498972\n",
              "66   71   Mobile Subscribers  ...  per household (%)         0.515873\n",
              "67   72   Mobile Subscribers  ...  per household (%)         0.514683\n",
              "68   73   Mobile Subscribers  ...  per household (%)         0.532524\n",
              "\n",
              "[69 rows x 11 columns]"
            ]
          },
          "metadata": {},
          "execution_count": 24
        }
      ]
    },
    {
      "cell_type": "code",
      "metadata": {
        "colab": {
          "base_uri": "https://localhost:8080/"
        },
        "id": "B1QHkoVM25mt",
        "outputId": "4b125730-b020-4714-a910-b6a2606e5918"
      },
      "source": [
        "# เช็ค missing ตาราง merge_table3_drop\n",
        "merge_table3_drop.isnull().any()"
      ],
      "execution_count": 25,
      "outputs": [
        {
          "output_type": "execute_result",
          "data": {
            "text/plain": [
              "no.                                   False\n",
              "Mobile Market Report                  False\n",
              "value_mobile                          False\n",
              "quarter                               False\n",
              "Thailand Internet Users_subscriber    False\n",
              "year                                  False\n",
              "value_subscriber                      False\n",
              "type_population                       False\n",
              "value_population                      False\n",
              "type_household                        False\n",
              "value_household                       False\n",
              "dtype: bool"
            ]
          },
          "metadata": {},
          "execution_count": 25
        }
      ]
    },
    {
      "cell_type": "code",
      "metadata": {
        "colab": {
          "base_uri": "https://localhost:8080/"
        },
        "id": "VwzdLfHf3ELv",
        "outputId": "10ae53d2-c5c1-4c27-c7cd-fa8fa69ab1bb"
      },
      "source": [
        "# จากการทำ dropna() ทำให้ข้อมูลหายไปกี่ % \n",
        "removed = merge_table3.shape[0] - merge_table3_drop.shape[0]\n",
        "\n",
        "print(f'size before drop = {merge_table3.shape[0]}')\n",
        "print(f'size aftre drop = {merge_table3_drop.shape[0]}')\n",
        "print(f'we loss {100*(removed/merge_table3.shape[0])}% of data')"
      ],
      "execution_count": 26,
      "outputs": [
        {
          "output_type": "stream",
          "name": "stdout",
          "text": [
            "size before drop = 73\n",
            "size aftre drop = 69\n",
            "we loss 5.47945205479452% of data\n"
          ]
        }
      ]
    },
    {
      "cell_type": "markdown",
      "metadata": {
        "id": "EJaD0CEKPEEd"
      },
      "source": [
        "# Classification\n",
        "แก้ไขข้อมูลกำหนดค่าในตาราง เพื่อให้ข้อมูลในตารางนำไปใช้ในการ Assosiation ได้\n",
        "โดยการเพิ่ม column ใหม่ในตาราง merge_table3_drop และ column ที่สร้างใหม่นั้นจะตามหลังด้วย _group โดยการจัดกลุ่มให้ค่าทั้งหมดในแต่ละ column ซึ่งจัดกลุ่มดังนี้"
      ]
    },
    {
      "cell_type": "code",
      "metadata": {
        "id": "h1l1Yb_c2B6Y"
      },
      "source": [
        "from pandas.api.types import CategoricalDtype"
      ],
      "execution_count": 27,
      "outputs": []
    },
    {
      "cell_type": "markdown",
      "metadata": {
        "id": "LgI14j9Z3u73"
      },
      "source": [
        "## เพิ่ม column ใหม่ในตาราง merge_table3_drop"
      ]
    },
    {
      "cell_type": "code",
      "metadata": {
        "colab": {
          "base_uri": "https://localhost:8080/"
        },
        "id": "xNoNAT89dRRc",
        "outputId": "0ed63bf0-e419-4922-a4d9-b29818eba0d9"
      },
      "source": [
        "merge_table3_drop.columns"
      ],
      "execution_count": 28,
      "outputs": [
        {
          "output_type": "execute_result",
          "data": {
            "text/plain": [
              "Index(['no.', 'Mobile Market Report', 'value_mobile', 'quarter',\n",
              "       'Thailand Internet Users_subscriber', 'year', 'value_subscriber',\n",
              "       'type_population', 'value_population', 'type_household',\n",
              "       'value_household'],\n",
              "      dtype='object')"
            ]
          },
          "metadata": {},
          "execution_count": 28
        }
      ]
    },
    {
      "cell_type": "markdown",
      "metadata": {
        "id": "fZUj2q0wCnxX"
      },
      "source": [
        "#####**column ชื่อว่า value_subscriber**\n",
        "* ถ้ามีค่าตั้งแต่ 0 - 2000000 จะให้เป็น low\n",
        "* ถ้ามีค่าตั้งแต่ 2000000 - 5000000 จะให้เป็น median\n",
        "* ถ้ามีค่าตั้งแต่ 5000000 - 12000000 จะให้เป็น high"
      ]
    },
    {
      "cell_type": "code",
      "metadata": {
        "colab": {
          "base_uri": "https://localhost:8080/"
        },
        "id": "GGRZgmut3_vN",
        "outputId": "bc1d3e3b-1d61-4e03-beb8-932b911a266c"
      },
      "source": [
        "bucket = ['low','median','high']\n",
        "merge_table3_drop['subscriber_group'] = pd.cut(merge_table3_drop.value_subscriber,\n",
        "                            bins=[0,2000000,5000000,12000000],\n",
        "                            labels=bucket,\n",
        "                            right=False).astype(str).astype(CategoricalDtype(bucket,ordered=True))"
      ],
      "execution_count": 29,
      "outputs": [
        {
          "output_type": "stream",
          "name": "stderr",
          "text": [
            "/usr/local/lib/python3.7/dist-packages/ipykernel_launcher.py:5: SettingWithCopyWarning: \n",
            "A value is trying to be set on a copy of a slice from a DataFrame.\n",
            "Try using .loc[row_indexer,col_indexer] = value instead\n",
            "\n",
            "See the caveats in the documentation: https://pandas.pydata.org/pandas-docs/stable/user_guide/indexing.html#returning-a-view-versus-a-copy\n",
            "  \"\"\"\n"
          ]
        }
      ]
    },
    {
      "cell_type": "markdown",
      "metadata": {
        "id": "lG-fXSTnD0L_"
      },
      "source": [
        "#####**column ชื่อว่า value_household**\n",
        "* ถ้ามีค่าตั้งแต่ 0 - 0.1 จะให้เป็น low\n",
        "* ถ้ามีค่าตั้งแต่ 0.1 - 0.3 จะให้เป็น median\n",
        "* ถ้ามีค่าตั้งแต่ 0.3 - 0.6 จะให้เป็น high"
      ]
    },
    {
      "cell_type": "code",
      "metadata": {
        "colab": {
          "base_uri": "https://localhost:8080/"
        },
        "id": "6U1jyH8G4TDB",
        "outputId": "76a9faf6-27b7-4de0-9f35-eb41b90c0448"
      },
      "source": [
        "bucket = ['low','median','high']\n",
        "merge_table3_drop['household_group'] = pd.cut(merge_table3_drop.value_household,\n",
        "                            bins=[0,0.1,0.3,0.6],\n",
        "                            labels=bucket,\n",
        "                            right=False).astype(str).astype(CategoricalDtype(bucket,ordered=True))"
      ],
      "execution_count": 30,
      "outputs": [
        {
          "output_type": "stream",
          "name": "stderr",
          "text": [
            "/usr/local/lib/python3.7/dist-packages/ipykernel_launcher.py:5: SettingWithCopyWarning: \n",
            "A value is trying to be set on a copy of a slice from a DataFrame.\n",
            "Try using .loc[row_indexer,col_indexer] = value instead\n",
            "\n",
            "See the caveats in the documentation: https://pandas.pydata.org/pandas-docs/stable/user_guide/indexing.html#returning-a-view-versus-a-copy\n",
            "  \"\"\"\n"
          ]
        }
      ]
    },
    {
      "cell_type": "markdown",
      "metadata": {
        "id": "FauJtv-KEFiz"
      },
      "source": [
        "#####**column ชื่อว่า value_population**\n",
        "* ถ้ามีค่าตั้งแต่ 0 - 0.05 จะให้เป็น low\n",
        "* ถ้ามีค่าตั้งแต่ 0.05 - 0.10 จะให้เป็น median\n",
        "* ถ้ามีค่าตั้งแต่ 0.10 - 0.18 จะให้เป็น high"
      ]
    },
    {
      "cell_type": "code",
      "metadata": {
        "colab": {
          "base_uri": "https://localhost:8080/"
        },
        "id": "I9U98Bt94SXn",
        "outputId": "ddff56e7-d487-45b7-95d7-80df744d8a5b"
      },
      "source": [
        "bucket = ['low','median','high']\n",
        "merge_table3_drop['population_group'] = pd.cut(merge_table3_drop.value_population,\n",
        "                            bins=[0,0.05,0.10,0.18],\n",
        "                            labels=bucket,\n",
        "                            right=False).astype(str).astype(CategoricalDtype(bucket,ordered=True))"
      ],
      "execution_count": 31,
      "outputs": [
        {
          "output_type": "stream",
          "name": "stderr",
          "text": [
            "/usr/local/lib/python3.7/dist-packages/ipykernel_launcher.py:5: SettingWithCopyWarning: \n",
            "A value is trying to be set on a copy of a slice from a DataFrame.\n",
            "Try using .loc[row_indexer,col_indexer] = value instead\n",
            "\n",
            "See the caveats in the documentation: https://pandas.pydata.org/pandas-docs/stable/user_guide/indexing.html#returning-a-view-versus-a-copy\n",
            "  \"\"\"\n"
          ]
        }
      ]
    },
    {
      "cell_type": "markdown",
      "metadata": {
        "id": "HBMiuVWTEWPH"
      },
      "source": [
        "#####**column ชื่อว่า value_mobile**\n",
        "* ถ้ามีค่าตั้งแต่ 0 - 2000000 จะให้เป็น low\n",
        "* ถ้ามีค่าตั้งแต่ 2000000 - 5000000 จะให้เป็น median\n",
        "* ถ้ามีค่าตั้งแต่ 5000000 - 12000000 จะให้เป็น high"
      ]
    },
    {
      "cell_type": "code",
      "metadata": {
        "colab": {
          "base_uri": "https://localhost:8080/"
        },
        "id": "UYZMrBYA7F8-",
        "outputId": "ded5bfef-fff6-4927-930d-beae8c9354e7"
      },
      "source": [
        "bucket = ['low','median','high']\n",
        "merge_table3_drop['mobile_group'] = pd.cut(merge_table3_drop.value_mobile,\n",
        "                            bins=[0,50000000,100000000,140000000],\n",
        "                            labels=bucket,\n",
        "                            right=False).astype(str).astype(CategoricalDtype(bucket,ordered=True))"
      ],
      "execution_count": 32,
      "outputs": [
        {
          "output_type": "stream",
          "name": "stderr",
          "text": [
            "/usr/local/lib/python3.7/dist-packages/ipykernel_launcher.py:5: SettingWithCopyWarning: \n",
            "A value is trying to be set on a copy of a slice from a DataFrame.\n",
            "Try using .loc[row_indexer,col_indexer] = value instead\n",
            "\n",
            "See the caveats in the documentation: https://pandas.pydata.org/pandas-docs/stable/user_guide/indexing.html#returning-a-view-versus-a-copy\n",
            "  \"\"\"\n"
          ]
        }
      ]
    },
    {
      "cell_type": "code",
      "metadata": {
        "colab": {
          "base_uri": "https://localhost:8080/",
          "height": 649
        },
        "id": "nw720Ko14IHz",
        "outputId": "d6628e6c-1cbe-4261-9a27-de470c991e25"
      },
      "source": [
        "merge_table3_drop  # นี่เป็นตารางแสดงผลจากการที่เราเพิ่ม column"
      ],
      "execution_count": 33,
      "outputs": [
        {
          "output_type": "execute_result",
          "data": {
            "text/html": [
              "<div>\n",
              "<style scoped>\n",
              "    .dataframe tbody tr th:only-of-type {\n",
              "        vertical-align: middle;\n",
              "    }\n",
              "\n",
              "    .dataframe tbody tr th {\n",
              "        vertical-align: top;\n",
              "    }\n",
              "\n",
              "    .dataframe thead th {\n",
              "        text-align: right;\n",
              "    }\n",
              "</style>\n",
              "<table border=\"1\" class=\"dataframe\">\n",
              "  <thead>\n",
              "    <tr style=\"text-align: right;\">\n",
              "      <th></th>\n",
              "      <th>no.</th>\n",
              "      <th>Mobile Market Report</th>\n",
              "      <th>value_mobile</th>\n",
              "      <th>quarter</th>\n",
              "      <th>Thailand Internet Users_subscriber</th>\n",
              "      <th>year</th>\n",
              "      <th>value_subscriber</th>\n",
              "      <th>type_population</th>\n",
              "      <th>value_population</th>\n",
              "      <th>type_household</th>\n",
              "      <th>value_household</th>\n",
              "      <th>subscriber_group</th>\n",
              "      <th>household_group</th>\n",
              "      <th>population_group</th>\n",
              "      <th>mobile_group</th>\n",
              "    </tr>\n",
              "  </thead>\n",
              "  <tbody>\n",
              "    <tr>\n",
              "      <th>0</th>\n",
              "      <td>5</td>\n",
              "      <td>Mobile Subscribers</td>\n",
              "      <td>18763102</td>\n",
              "      <td>1.0</td>\n",
              "      <td>Total Internet subscribers</td>\n",
              "      <td>2004.0</td>\n",
              "      <td>785931.00</td>\n",
              "      <td>per population (%)</td>\n",
              "      <td>0.0005</td>\n",
              "      <td>per household (%)</td>\n",
              "      <td>0.001556</td>\n",
              "      <td>low</td>\n",
              "      <td>low</td>\n",
              "      <td>low</td>\n",
              "      <td>low</td>\n",
              "    </tr>\n",
              "    <tr>\n",
              "      <th>1</th>\n",
              "      <td>6</td>\n",
              "      <td>Mobile Subscribers</td>\n",
              "      <td>19788956</td>\n",
              "      <td>2.0</td>\n",
              "      <td>Total Internet subscribers</td>\n",
              "      <td>2004.0</td>\n",
              "      <td>914400.00</td>\n",
              "      <td>per population (%)</td>\n",
              "      <td>0.0007</td>\n",
              "      <td>per household (%)</td>\n",
              "      <td>0.002265</td>\n",
              "      <td>low</td>\n",
              "      <td>low</td>\n",
              "      <td>low</td>\n",
              "      <td>low</td>\n",
              "    </tr>\n",
              "    <tr>\n",
              "      <th>2</th>\n",
              "      <td>7</td>\n",
              "      <td>Mobile Subscribers</td>\n",
              "      <td>20655866</td>\n",
              "      <td>3.0</td>\n",
              "      <td>Total Internet subscribers</td>\n",
              "      <td>2004.0</td>\n",
              "      <td>1091652.00</td>\n",
              "      <td>per population (%)</td>\n",
              "      <td>0.0015</td>\n",
              "      <td>per household (%)</td>\n",
              "      <td>0.004964</td>\n",
              "      <td>low</td>\n",
              "      <td>low</td>\n",
              "      <td>low</td>\n",
              "      <td>low</td>\n",
              "    </tr>\n",
              "    <tr>\n",
              "      <th>3</th>\n",
              "      <td>8</td>\n",
              "      <td>Mobile Subscribers</td>\n",
              "      <td>21616910</td>\n",
              "      <td>4.0</td>\n",
              "      <td>Total Internet subscribers</td>\n",
              "      <td>2004.0</td>\n",
              "      <td>1231344.00</td>\n",
              "      <td>per population (%)</td>\n",
              "      <td>0.0026</td>\n",
              "      <td>per household (%)</td>\n",
              "      <td>0.008716</td>\n",
              "      <td>low</td>\n",
              "      <td>low</td>\n",
              "      <td>low</td>\n",
              "      <td>low</td>\n",
              "    </tr>\n",
              "    <tr>\n",
              "      <th>4</th>\n",
              "      <td>9</td>\n",
              "      <td>Mobile Subscribers</td>\n",
              "      <td>23217311</td>\n",
              "      <td>1.0</td>\n",
              "      <td>Total Internet subscribers</td>\n",
              "      <td>2005.0</td>\n",
              "      <td>1197942.00</td>\n",
              "      <td>per population (%)</td>\n",
              "      <td>0.0045</td>\n",
              "      <td>per household (%)</td>\n",
              "      <td>0.015449</td>\n",
              "      <td>low</td>\n",
              "      <td>low</td>\n",
              "      <td>low</td>\n",
              "      <td>low</td>\n",
              "    </tr>\n",
              "    <tr>\n",
              "      <th>...</th>\n",
              "      <td>...</td>\n",
              "      <td>...</td>\n",
              "      <td>...</td>\n",
              "      <td>...</td>\n",
              "      <td>...</td>\n",
              "      <td>...</td>\n",
              "      <td>...</td>\n",
              "      <td>...</td>\n",
              "      <td>...</td>\n",
              "      <td>...</td>\n",
              "      <td>...</td>\n",
              "      <td>...</td>\n",
              "      <td>...</td>\n",
              "      <td>...</td>\n",
              "      <td>...</td>\n",
              "    </tr>\n",
              "    <tr>\n",
              "      <th>64</th>\n",
              "      <td>69</td>\n",
              "      <td>Mobile Subscribers</td>\n",
              "      <td>122173569</td>\n",
              "      <td>1.0</td>\n",
              "      <td>Total Internet subscribers</td>\n",
              "      <td>2020.0</td>\n",
              "      <td>10264995.67</td>\n",
              "      <td>per population (%)</td>\n",
              "      <td>0.1510</td>\n",
              "      <td>per household (%)</td>\n",
              "      <td>0.469344</td>\n",
              "      <td>high</td>\n",
              "      <td>high</td>\n",
              "      <td>high</td>\n",
              "      <td>high</td>\n",
              "    </tr>\n",
              "    <tr>\n",
              "      <th>65</th>\n",
              "      <td>70</td>\n",
              "      <td>Mobile Subscribers</td>\n",
              "      <td>124366678</td>\n",
              "      <td>2.0</td>\n",
              "      <td>Total Internet subscribers</td>\n",
              "      <td>2020.0</td>\n",
              "      <td>10912996.14</td>\n",
              "      <td>per population (%)</td>\n",
              "      <td>0.1605</td>\n",
              "      <td>per household (%)</td>\n",
              "      <td>0.498972</td>\n",
              "      <td>high</td>\n",
              "      <td>high</td>\n",
              "      <td>high</td>\n",
              "      <td>high</td>\n",
              "    </tr>\n",
              "    <tr>\n",
              "      <th>66</th>\n",
              "      <td>71</td>\n",
              "      <td>Mobile Subscribers</td>\n",
              "      <td>126137528</td>\n",
              "      <td>3.0</td>\n",
              "      <td>Total Internet subscribers</td>\n",
              "      <td>2020.0</td>\n",
              "      <td>11282645.58</td>\n",
              "      <td>per population (%)</td>\n",
              "      <td>0.1659</td>\n",
              "      <td>per household (%)</td>\n",
              "      <td>0.515873</td>\n",
              "      <td>high</td>\n",
              "      <td>high</td>\n",
              "      <td>high</td>\n",
              "      <td>high</td>\n",
              "    </tr>\n",
              "    <tr>\n",
              "      <th>67</th>\n",
              "      <td>72</td>\n",
              "      <td>Mobile Subscribers</td>\n",
              "      <td>129613743</td>\n",
              "      <td>4.0</td>\n",
              "      <td>Total Internet subscribers</td>\n",
              "      <td>2020.0</td>\n",
              "      <td>11478264.92</td>\n",
              "      <td>per population (%)</td>\n",
              "      <td>0.1685</td>\n",
              "      <td>per household (%)</td>\n",
              "      <td>0.514683</td>\n",
              "      <td>high</td>\n",
              "      <td>high</td>\n",
              "      <td>high</td>\n",
              "      <td>high</td>\n",
              "    </tr>\n",
              "    <tr>\n",
              "      <th>68</th>\n",
              "      <td>73</td>\n",
              "      <td>Mobile Subscribers</td>\n",
              "      <td>132594791</td>\n",
              "      <td>1.0</td>\n",
              "      <td>Total Internet subscribers</td>\n",
              "      <td>2021.0</td>\n",
              "      <td>11876158.44</td>\n",
              "      <td>per population (%)</td>\n",
              "      <td>0.1740</td>\n",
              "      <td>per household (%)</td>\n",
              "      <td>0.532524</td>\n",
              "      <td>high</td>\n",
              "      <td>high</td>\n",
              "      <td>high</td>\n",
              "      <td>high</td>\n",
              "    </tr>\n",
              "  </tbody>\n",
              "</table>\n",
              "<p>69 rows × 15 columns</p>\n",
              "</div>"
            ],
            "text/plain": [
              "    no. Mobile Market Report  ...  population_group  mobile_group\n",
              "0     5   Mobile Subscribers  ...               low           low\n",
              "1     6   Mobile Subscribers  ...               low           low\n",
              "2     7   Mobile Subscribers  ...               low           low\n",
              "3     8   Mobile Subscribers  ...               low           low\n",
              "4     9   Mobile Subscribers  ...               low           low\n",
              "..  ...                  ...  ...               ...           ...\n",
              "64   69   Mobile Subscribers  ...              high          high\n",
              "65   70   Mobile Subscribers  ...              high          high\n",
              "66   71   Mobile Subscribers  ...              high          high\n",
              "67   72   Mobile Subscribers  ...              high          high\n",
              "68   73   Mobile Subscribers  ...              high          high\n",
              "\n",
              "[69 rows x 15 columns]"
            ]
          },
          "metadata": {},
          "execution_count": 33
        }
      ]
    },
    {
      "cell_type": "markdown",
      "metadata": {
        "id": "ow7Zey39FOIK"
      },
      "source": [
        "## ตัดตารางให้เหลือแต่กลุ่มของ column ที่ต้องการใช้"
      ]
    },
    {
      "cell_type": "code",
      "metadata": {
        "colab": {
          "base_uri": "https://localhost:8080/"
        },
        "id": "jjzCY50NFtTf",
        "outputId": "13dbd279-7afb-42d2-f244-47925d4b11ca"
      },
      "source": [
        "merge_table3_drop.columns  # เรียกดูชื่อ column"
      ],
      "execution_count": 34,
      "outputs": [
        {
          "output_type": "execute_result",
          "data": {
            "text/plain": [
              "Index(['no.', 'Mobile Market Report', 'value_mobile', 'quarter',\n",
              "       'Thailand Internet Users_subscriber', 'year', 'value_subscriber',\n",
              "       'type_population', 'value_population', 'type_household',\n",
              "       'value_household', 'subscriber_group', 'household_group',\n",
              "       'population_group', 'mobile_group'],\n",
              "      dtype='object')"
            ]
          },
          "metadata": {},
          "execution_count": 34
        }
      ]
    },
    {
      "cell_type": "code",
      "metadata": {
        "colab": {
          "base_uri": "https://localhost:8080/",
          "height": 422
        },
        "id": "kqfuAptGFc17",
        "outputId": "f4c9ac6d-3252-4eda-deeb-5ee4789b5191"
      },
      "source": [
        "data_cut = merge_table3_drop[['subscriber_group', 'household_group', 'population_group', 'mobile_group']]\n",
        "data_cut"
      ],
      "execution_count": 35,
      "outputs": [
        {
          "output_type": "execute_result",
          "data": {
            "text/html": [
              "<div>\n",
              "<style scoped>\n",
              "    .dataframe tbody tr th:only-of-type {\n",
              "        vertical-align: middle;\n",
              "    }\n",
              "\n",
              "    .dataframe tbody tr th {\n",
              "        vertical-align: top;\n",
              "    }\n",
              "\n",
              "    .dataframe thead th {\n",
              "        text-align: right;\n",
              "    }\n",
              "</style>\n",
              "<table border=\"1\" class=\"dataframe\">\n",
              "  <thead>\n",
              "    <tr style=\"text-align: right;\">\n",
              "      <th></th>\n",
              "      <th>subscriber_group</th>\n",
              "      <th>household_group</th>\n",
              "      <th>population_group</th>\n",
              "      <th>mobile_group</th>\n",
              "    </tr>\n",
              "  </thead>\n",
              "  <tbody>\n",
              "    <tr>\n",
              "      <th>0</th>\n",
              "      <td>low</td>\n",
              "      <td>low</td>\n",
              "      <td>low</td>\n",
              "      <td>low</td>\n",
              "    </tr>\n",
              "    <tr>\n",
              "      <th>1</th>\n",
              "      <td>low</td>\n",
              "      <td>low</td>\n",
              "      <td>low</td>\n",
              "      <td>low</td>\n",
              "    </tr>\n",
              "    <tr>\n",
              "      <th>2</th>\n",
              "      <td>low</td>\n",
              "      <td>low</td>\n",
              "      <td>low</td>\n",
              "      <td>low</td>\n",
              "    </tr>\n",
              "    <tr>\n",
              "      <th>3</th>\n",
              "      <td>low</td>\n",
              "      <td>low</td>\n",
              "      <td>low</td>\n",
              "      <td>low</td>\n",
              "    </tr>\n",
              "    <tr>\n",
              "      <th>4</th>\n",
              "      <td>low</td>\n",
              "      <td>low</td>\n",
              "      <td>low</td>\n",
              "      <td>low</td>\n",
              "    </tr>\n",
              "    <tr>\n",
              "      <th>...</th>\n",
              "      <td>...</td>\n",
              "      <td>...</td>\n",
              "      <td>...</td>\n",
              "      <td>...</td>\n",
              "    </tr>\n",
              "    <tr>\n",
              "      <th>64</th>\n",
              "      <td>high</td>\n",
              "      <td>high</td>\n",
              "      <td>high</td>\n",
              "      <td>high</td>\n",
              "    </tr>\n",
              "    <tr>\n",
              "      <th>65</th>\n",
              "      <td>high</td>\n",
              "      <td>high</td>\n",
              "      <td>high</td>\n",
              "      <td>high</td>\n",
              "    </tr>\n",
              "    <tr>\n",
              "      <th>66</th>\n",
              "      <td>high</td>\n",
              "      <td>high</td>\n",
              "      <td>high</td>\n",
              "      <td>high</td>\n",
              "    </tr>\n",
              "    <tr>\n",
              "      <th>67</th>\n",
              "      <td>high</td>\n",
              "      <td>high</td>\n",
              "      <td>high</td>\n",
              "      <td>high</td>\n",
              "    </tr>\n",
              "    <tr>\n",
              "      <th>68</th>\n",
              "      <td>high</td>\n",
              "      <td>high</td>\n",
              "      <td>high</td>\n",
              "      <td>high</td>\n",
              "    </tr>\n",
              "  </tbody>\n",
              "</table>\n",
              "<p>69 rows × 4 columns</p>\n",
              "</div>"
            ],
            "text/plain": [
              "   subscriber_group household_group population_group mobile_group\n",
              "0               low             low              low          low\n",
              "1               low             low              low          low\n",
              "2               low             low              low          low\n",
              "3               low             low              low          low\n",
              "4               low             low              low          low\n",
              "..              ...             ...              ...          ...\n",
              "64             high            high             high         high\n",
              "65             high            high             high         high\n",
              "66             high            high             high         high\n",
              "67             high            high             high         high\n",
              "68             high            high             high         high\n",
              "\n",
              "[69 rows x 4 columns]"
            ]
          },
          "metadata": {},
          "execution_count": 35
        }
      ]
    },
    {
      "cell_type": "code",
      "metadata": {
        "colab": {
          "base_uri": "https://localhost:8080/"
        },
        "id": "WW5SfM_u6jrx",
        "outputId": "2dcf616b-1167-4962-d5a2-062cba11e51e"
      },
      "source": [
        "data_cut.shape"
      ],
      "execution_count": 36,
      "outputs": [
        {
          "output_type": "execute_result",
          "data": {
            "text/plain": [
              "(69, 4)"
            ]
          },
          "metadata": {},
          "execution_count": 36
        }
      ]
    },
    {
      "cell_type": "markdown",
      "metadata": {
        "id": "efddsvbLPsbr"
      },
      "source": [
        "# Assosiation ตาราง data_cut"
      ]
    },
    {
      "cell_type": "markdown",
      "metadata": {
        "id": "4H28SziTPwjx"
      },
      "source": [
        "**โดยกำหนดให้**\n",
        "**Transection** คือ ข้อมูล Internet ความเร็วสูง\n",
        "\n",
        "**item** คือ low , median , high\n",
        "\n",
        "**ค่าสนับสนุน (Support)** คือ เปอร์เซ็นต์ของจำนวน Item sets ทั้งหมดที่เกิดขึ้นในฐานข้อมูล\n",
        "\n",
        "**ค่าความเชื่อมั่น (Confidence)** คือ เปอร์เซ็นต์ของจำนวน Item sets ทั้งหมดที่เกิดขึ้นในฐานข้อมูลต่อจำนวน Item sets ที่เกิดขึ้น\n",
        "\n",
        "**ค่าสหสัมพันธ์ (Lift)** คือ ค่าที่บ่งบอกว่ากฎมีความสัมพันธ์กัน หรือไม่ โดยถ้า Lift มีค่ามากกว่า 1 แสดงว่ากฎทั้งสองมีความสัมพันธ์กัน"
      ]
    },
    {
      "cell_type": "code",
      "metadata": {
        "id": "mR2Ajf0ywkSr"
      },
      "source": [
        "transactions = data_cut.groupby('subscriber_group').apply(list)"
      ],
      "execution_count": 37,
      "outputs": []
    },
    {
      "cell_type": "markdown",
      "metadata": {
        "id": "80K5o5tCxBMY"
      },
      "source": [
        "transactions = []\n",
        "for i in range(0,len(data_cut)):#เริ่มจาก i ตั้งแต่ 0 ถึง 10000000\n",
        "  transactions.append([str(data_cut.values[i,j]) for j in range(0,4)]) # คือการดูข้อมูลตาม column\n",
        "transactions"
      ]
    },
    {
      "cell_type": "code",
      "metadata": {
        "colab": {
          "base_uri": "https://localhost:8080/"
        },
        "id": "tAY-eeEEJnux",
        "outputId": "59b4ca33-c22e-4dd9-b2e2-86de445473e4"
      },
      "source": [
        "!pip install apyori  # ทำการติดตั้งแพ็คเกจ apyori"
      ],
      "execution_count": 38,
      "outputs": [
        {
          "output_type": "stream",
          "name": "stdout",
          "text": [
            "Collecting apyori\n",
            "  Downloading apyori-1.1.2.tar.gz (8.6 kB)\n",
            "Building wheels for collected packages: apyori\n",
            "  Building wheel for apyori (setup.py) ... \u001b[?25l\u001b[?25hdone\n",
            "  Created wheel for apyori: filename=apyori-1.1.2-py3-none-any.whl size=5974 sha256=63c76fc886c4afec47d941c7050662144e29a04937ea2c46c74e9cbdc3ed3916\n",
            "  Stored in directory: /root/.cache/pip/wheels/cb/f6/e1/57973c631d27efd1a2f375bd6a83b2a616c4021f24aab84080\n",
            "Successfully built apyori\n",
            "Installing collected packages: apyori\n",
            "Successfully installed apyori-1.1.2\n"
          ]
        }
      ]
    },
    {
      "cell_type": "code",
      "metadata": {
        "id": "bNKUU11dKSDn"
      },
      "source": [
        "from apyori import apriori"
      ],
      "execution_count": 39,
      "outputs": []
    },
    {
      "cell_type": "code",
      "metadata": {
        "colab": {
          "base_uri": "https://localhost:8080/"
        },
        "id": "AjJmLpGMJt6q",
        "outputId": "274e3539-29ff-4a5e-bdeb-bf3dfd0a95ca"
      },
      "source": [
        "Asso = list(apriori(transactions,min_support = 0.4, min_cofidence = 0.5))\n",
        "Asso\n",
        "# min_support คือ ค่าสนับสนุนต่ำสุดที่ยอมรับได้ ต่ำกว่านี้จะไม่นำไปวิเคราะห์\n",
        "# min_confidence คือ ค่าเชื่อมั่นต่ำสุดที่สนใจ "
      ],
      "execution_count": 40,
      "outputs": [
        {
          "output_type": "execute_result",
          "data": {
            "text/plain": [
              "[RelationRecord(items=frozenset({'household_group'}), support=1.0, ordered_statistics=[OrderedStatistic(items_base=frozenset(), items_add=frozenset({'household_group'}), confidence=1.0, lift=1.0)]),\n",
              " RelationRecord(items=frozenset({'mobile_group'}), support=1.0, ordered_statistics=[OrderedStatistic(items_base=frozenset(), items_add=frozenset({'mobile_group'}), confidence=1.0, lift=1.0)]),\n",
              " RelationRecord(items=frozenset({'population_group'}), support=1.0, ordered_statistics=[OrderedStatistic(items_base=frozenset(), items_add=frozenset({'population_group'}), confidence=1.0, lift=1.0)]),\n",
              " RelationRecord(items=frozenset({'subscriber_group'}), support=1.0, ordered_statistics=[OrderedStatistic(items_base=frozenset(), items_add=frozenset({'subscriber_group'}), confidence=1.0, lift=1.0)]),\n",
              " RelationRecord(items=frozenset({'mobile_group', 'household_group'}), support=1.0, ordered_statistics=[OrderedStatistic(items_base=frozenset(), items_add=frozenset({'mobile_group', 'household_group'}), confidence=1.0, lift=1.0), OrderedStatistic(items_base=frozenset({'household_group'}), items_add=frozenset({'mobile_group'}), confidence=1.0, lift=1.0), OrderedStatistic(items_base=frozenset({'mobile_group'}), items_add=frozenset({'household_group'}), confidence=1.0, lift=1.0)]),\n",
              " RelationRecord(items=frozenset({'household_group', 'population_group'}), support=1.0, ordered_statistics=[OrderedStatistic(items_base=frozenset(), items_add=frozenset({'household_group', 'population_group'}), confidence=1.0, lift=1.0), OrderedStatistic(items_base=frozenset({'household_group'}), items_add=frozenset({'population_group'}), confidence=1.0, lift=1.0), OrderedStatistic(items_base=frozenset({'population_group'}), items_add=frozenset({'household_group'}), confidence=1.0, lift=1.0)]),\n",
              " RelationRecord(items=frozenset({'subscriber_group', 'household_group'}), support=1.0, ordered_statistics=[OrderedStatistic(items_base=frozenset(), items_add=frozenset({'household_group', 'subscriber_group'}), confidence=1.0, lift=1.0), OrderedStatistic(items_base=frozenset({'household_group'}), items_add=frozenset({'subscriber_group'}), confidence=1.0, lift=1.0), OrderedStatistic(items_base=frozenset({'subscriber_group'}), items_add=frozenset({'household_group'}), confidence=1.0, lift=1.0)]),\n",
              " RelationRecord(items=frozenset({'mobile_group', 'population_group'}), support=1.0, ordered_statistics=[OrderedStatistic(items_base=frozenset(), items_add=frozenset({'mobile_group', 'population_group'}), confidence=1.0, lift=1.0), OrderedStatistic(items_base=frozenset({'mobile_group'}), items_add=frozenset({'population_group'}), confidence=1.0, lift=1.0), OrderedStatistic(items_base=frozenset({'population_group'}), items_add=frozenset({'mobile_group'}), confidence=1.0, lift=1.0)]),\n",
              " RelationRecord(items=frozenset({'mobile_group', 'subscriber_group'}), support=1.0, ordered_statistics=[OrderedStatistic(items_base=frozenset(), items_add=frozenset({'mobile_group', 'subscriber_group'}), confidence=1.0, lift=1.0), OrderedStatistic(items_base=frozenset({'mobile_group'}), items_add=frozenset({'subscriber_group'}), confidence=1.0, lift=1.0), OrderedStatistic(items_base=frozenset({'subscriber_group'}), items_add=frozenset({'mobile_group'}), confidence=1.0, lift=1.0)]),\n",
              " RelationRecord(items=frozenset({'subscriber_group', 'population_group'}), support=1.0, ordered_statistics=[OrderedStatistic(items_base=frozenset(), items_add=frozenset({'subscriber_group', 'population_group'}), confidence=1.0, lift=1.0), OrderedStatistic(items_base=frozenset({'population_group'}), items_add=frozenset({'subscriber_group'}), confidence=1.0, lift=1.0), OrderedStatistic(items_base=frozenset({'subscriber_group'}), items_add=frozenset({'population_group'}), confidence=1.0, lift=1.0)]),\n",
              " RelationRecord(items=frozenset({'mobile_group', 'household_group', 'population_group'}), support=1.0, ordered_statistics=[OrderedStatistic(items_base=frozenset(), items_add=frozenset({'mobile_group', 'household_group', 'population_group'}), confidence=1.0, lift=1.0), OrderedStatistic(items_base=frozenset({'household_group'}), items_add=frozenset({'mobile_group', 'population_group'}), confidence=1.0, lift=1.0), OrderedStatistic(items_base=frozenset({'mobile_group'}), items_add=frozenset({'household_group', 'population_group'}), confidence=1.0, lift=1.0), OrderedStatistic(items_base=frozenset({'population_group'}), items_add=frozenset({'mobile_group', 'household_group'}), confidence=1.0, lift=1.0), OrderedStatistic(items_base=frozenset({'mobile_group', 'household_group'}), items_add=frozenset({'population_group'}), confidence=1.0, lift=1.0), OrderedStatistic(items_base=frozenset({'household_group', 'population_group'}), items_add=frozenset({'mobile_group'}), confidence=1.0, lift=1.0), OrderedStatistic(items_base=frozenset({'mobile_group', 'population_group'}), items_add=frozenset({'household_group'}), confidence=1.0, lift=1.0)]),\n",
              " RelationRecord(items=frozenset({'subscriber_group', 'mobile_group', 'household_group'}), support=1.0, ordered_statistics=[OrderedStatistic(items_base=frozenset(), items_add=frozenset({'household_group', 'mobile_group', 'subscriber_group'}), confidence=1.0, lift=1.0), OrderedStatistic(items_base=frozenset({'household_group'}), items_add=frozenset({'mobile_group', 'subscriber_group'}), confidence=1.0, lift=1.0), OrderedStatistic(items_base=frozenset({'mobile_group'}), items_add=frozenset({'household_group', 'subscriber_group'}), confidence=1.0, lift=1.0), OrderedStatistic(items_base=frozenset({'subscriber_group'}), items_add=frozenset({'mobile_group', 'household_group'}), confidence=1.0, lift=1.0), OrderedStatistic(items_base=frozenset({'mobile_group', 'household_group'}), items_add=frozenset({'subscriber_group'}), confidence=1.0, lift=1.0), OrderedStatistic(items_base=frozenset({'subscriber_group', 'household_group'}), items_add=frozenset({'mobile_group'}), confidence=1.0, lift=1.0), OrderedStatistic(items_base=frozenset({'mobile_group', 'subscriber_group'}), items_add=frozenset({'household_group'}), confidence=1.0, lift=1.0)]),\n",
              " RelationRecord(items=frozenset({'subscriber_group', 'household_group', 'population_group'}), support=1.0, ordered_statistics=[OrderedStatistic(items_base=frozenset(), items_add=frozenset({'household_group', 'subscriber_group', 'population_group'}), confidence=1.0, lift=1.0), OrderedStatistic(items_base=frozenset({'household_group'}), items_add=frozenset({'subscriber_group', 'population_group'}), confidence=1.0, lift=1.0), OrderedStatistic(items_base=frozenset({'population_group'}), items_add=frozenset({'household_group', 'subscriber_group'}), confidence=1.0, lift=1.0), OrderedStatistic(items_base=frozenset({'subscriber_group'}), items_add=frozenset({'household_group', 'population_group'}), confidence=1.0, lift=1.0), OrderedStatistic(items_base=frozenset({'household_group', 'population_group'}), items_add=frozenset({'subscriber_group'}), confidence=1.0, lift=1.0), OrderedStatistic(items_base=frozenset({'subscriber_group', 'household_group'}), items_add=frozenset({'population_group'}), confidence=1.0, lift=1.0), OrderedStatistic(items_base=frozenset({'subscriber_group', 'population_group'}), items_add=frozenset({'household_group'}), confidence=1.0, lift=1.0)]),\n",
              " RelationRecord(items=frozenset({'mobile_group', 'subscriber_group', 'population_group'}), support=1.0, ordered_statistics=[OrderedStatistic(items_base=frozenset(), items_add=frozenset({'mobile_group', 'subscriber_group', 'population_group'}), confidence=1.0, lift=1.0), OrderedStatistic(items_base=frozenset({'mobile_group'}), items_add=frozenset({'subscriber_group', 'population_group'}), confidence=1.0, lift=1.0), OrderedStatistic(items_base=frozenset({'population_group'}), items_add=frozenset({'mobile_group', 'subscriber_group'}), confidence=1.0, lift=1.0), OrderedStatistic(items_base=frozenset({'subscriber_group'}), items_add=frozenset({'mobile_group', 'population_group'}), confidence=1.0, lift=1.0), OrderedStatistic(items_base=frozenset({'mobile_group', 'population_group'}), items_add=frozenset({'subscriber_group'}), confidence=1.0, lift=1.0), OrderedStatistic(items_base=frozenset({'mobile_group', 'subscriber_group'}), items_add=frozenset({'population_group'}), confidence=1.0, lift=1.0), OrderedStatistic(items_base=frozenset({'subscriber_group', 'population_group'}), items_add=frozenset({'mobile_group'}), confidence=1.0, lift=1.0)]),\n",
              " RelationRecord(items=frozenset({'subscriber_group', 'mobile_group', 'household_group', 'population_group'}), support=1.0, ordered_statistics=[OrderedStatistic(items_base=frozenset(), items_add=frozenset({'subscriber_group', 'mobile_group', 'household_group', 'population_group'}), confidence=1.0, lift=1.0), OrderedStatistic(items_base=frozenset({'household_group'}), items_add=frozenset({'mobile_group', 'subscriber_group', 'population_group'}), confidence=1.0, lift=1.0), OrderedStatistic(items_base=frozenset({'mobile_group'}), items_add=frozenset({'household_group', 'subscriber_group', 'population_group'}), confidence=1.0, lift=1.0), OrderedStatistic(items_base=frozenset({'population_group'}), items_add=frozenset({'household_group', 'mobile_group', 'subscriber_group'}), confidence=1.0, lift=1.0), OrderedStatistic(items_base=frozenset({'subscriber_group'}), items_add=frozenset({'mobile_group', 'household_group', 'population_group'}), confidence=1.0, lift=1.0), OrderedStatistic(items_base=frozenset({'mobile_group', 'household_group'}), items_add=frozenset({'subscriber_group', 'population_group'}), confidence=1.0, lift=1.0), OrderedStatistic(items_base=frozenset({'household_group', 'population_group'}), items_add=frozenset({'mobile_group', 'subscriber_group'}), confidence=1.0, lift=1.0), OrderedStatistic(items_base=frozenset({'subscriber_group', 'household_group'}), items_add=frozenset({'mobile_group', 'population_group'}), confidence=1.0, lift=1.0), OrderedStatistic(items_base=frozenset({'mobile_group', 'population_group'}), items_add=frozenset({'household_group', 'subscriber_group'}), confidence=1.0, lift=1.0), OrderedStatistic(items_base=frozenset({'mobile_group', 'subscriber_group'}), items_add=frozenset({'household_group', 'population_group'}), confidence=1.0, lift=1.0), OrderedStatistic(items_base=frozenset({'subscriber_group', 'population_group'}), items_add=frozenset({'mobile_group', 'household_group'}), confidence=1.0, lift=1.0), OrderedStatistic(items_base=frozenset({'mobile_group', 'household_group', 'population_group'}), items_add=frozenset({'subscriber_group'}), confidence=1.0, lift=1.0), OrderedStatistic(items_base=frozenset({'subscriber_group', 'mobile_group', 'household_group'}), items_add=frozenset({'population_group'}), confidence=1.0, lift=1.0), OrderedStatistic(items_base=frozenset({'subscriber_group', 'household_group', 'population_group'}), items_add=frozenset({'mobile_group'}), confidence=1.0, lift=1.0), OrderedStatistic(items_base=frozenset({'mobile_group', 'subscriber_group', 'population_group'}), items_add=frozenset({'household_group'}), confidence=1.0, lift=1.0)])]"
            ]
          },
          "metadata": {},
          "execution_count": 40
        }
      ]
    },
    {
      "cell_type": "markdown",
      "metadata": {
        "id": "Ci3u750qdIYV"
      },
      "source": [
        "# Visualization"
      ]
    },
    {
      "cell_type": "code",
      "metadata": {
        "id": "OtMg7zRxyvis"
      },
      "source": [
        "from sklearn.tree import DecisionTreeClassifier\n",
        "from sklearn.model_selection import train_test_split\n",
        "# การเลือกเทรน model โดยใช้ split เป็นเมธอดของสตริง ใช้สำหรับแยกสตริงออกเป็นส่วน ๆ และคืนค่ากลับมาเป็น list โดยเราสามารถกำหนดได้ว่าจะให้เเยกโดย 0ver100 คือเเยกโดยมีคนอายุมากกว่า100 ปีอยู่ในเขตนั้นหรือไม่เเละเป็นเพศชายหรือหญิง\n",
        "# เพราะ spliter เป็นการเเบ่งข้อมูลที่เป็นตัวเลข"
      ],
      "execution_count": 41,
      "outputs": []
    },
    {
      "cell_type": "code",
      "metadata": {
        "id": "S8WFYw5Ly0W8",
        "colab": {
          "base_uri": "https://localhost:8080/"
        },
        "outputId": "455ac472-f8f5-4aeb-f86a-152a6a042aa5"
      },
      "source": [
        "X = data_cut.values\n",
        "X #.values ดึงเฉพาะค่าทั้งหมดออกมาจากตัวแปร dict ออกมาจากตาราง ให้อยู่ในรูปเเบบค่า Array เพื่อใช้ในการทำ Model"
      ],
      "execution_count": 42,
      "outputs": [
        {
          "output_type": "execute_result",
          "data": {
            "text/plain": [
              "array([['low', 'low', 'low', 'low'],\n",
              "       ['low', 'low', 'low', 'low'],\n",
              "       ['low', 'low', 'low', 'low'],\n",
              "       ['low', 'low', 'low', 'low'],\n",
              "       ['low', 'low', 'low', 'low'],\n",
              "       ['low', 'low', 'low', 'low'],\n",
              "       ['low', 'low', 'low', 'low'],\n",
              "       ['low', 'low', 'low', 'low'],\n",
              "       ['low', 'low', 'low', 'low'],\n",
              "       ['low', 'low', 'low', 'low'],\n",
              "       ['low', 'low', 'low', 'low'],\n",
              "       ['low', 'low', 'low', 'low'],\n",
              "       ['low', 'low', 'low', 'low'],\n",
              "       ['low', 'low', 'low', 'low'],\n",
              "       ['low', 'low', 'low', 'low'],\n",
              "       ['low', 'low', 'low', 'low'],\n",
              "       ['median', 'low', 'low', 'low'],\n",
              "       ['median', 'low', 'low', 'low'],\n",
              "       ['median', 'median', 'low', 'median'],\n",
              "       ['median', 'median', 'low', 'median'],\n",
              "       ['median', 'median', 'low', 'median'],\n",
              "       ['median', 'median', 'low', 'median'],\n",
              "       ['median', 'median', 'low', 'median'],\n",
              "       ['median', 'median', 'low', 'median'],\n",
              "       ['median', 'median', 'low', 'median'],\n",
              "       ['median', 'median', 'low', 'median'],\n",
              "       ['median', 'median', 'low', 'median'],\n",
              "       ['median', 'median', 'low', 'median'],\n",
              "       ['median', 'median', 'median', 'median'],\n",
              "       ['median', 'median', 'median', 'median'],\n",
              "       ['median', 'median', 'median', 'median'],\n",
              "       ['median', 'median', 'median', 'median'],\n",
              "       ['median', 'median', 'median', 'median'],\n",
              "       ['median', 'median', 'median', 'median'],\n",
              "       ['median', 'median', 'median', 'median'],\n",
              "       ['median', 'median', 'median', 'median'],\n",
              "       ['median', 'median', 'median', 'median'],\n",
              "       ['median', 'median', 'median', 'median'],\n",
              "       ['median', 'median', 'median', 'median'],\n",
              "       ['median', 'median', 'median', 'median'],\n",
              "       ['high', 'median', 'median', 'median'],\n",
              "       ['high', 'median', 'median', 'median'],\n",
              "       ['high', 'median', 'median', 'median'],\n",
              "       ['high', 'median', 'median', 'median'],\n",
              "       ['high', 'median', 'median', 'median'],\n",
              "       ['high', 'median', 'median', 'median'],\n",
              "       ['high', 'median', 'median', 'median'],\n",
              "       ['high', 'median', 'median', 'median'],\n",
              "       ['high', 'high', 'median', 'median'],\n",
              "       ['high', 'high', 'high', 'high'],\n",
              "       ['high', 'high', 'high', 'high'],\n",
              "       ['high', 'high', 'high', 'high'],\n",
              "       ['high', 'high', 'high', 'high'],\n",
              "       ['high', 'high', 'high', 'high'],\n",
              "       ['high', 'high', 'high', 'high'],\n",
              "       ['high', 'high', 'high', 'high'],\n",
              "       ['high', 'high', 'high', 'high'],\n",
              "       ['high', 'high', 'high', 'high'],\n",
              "       ['high', 'high', 'high', 'high'],\n",
              "       ['high', 'high', 'high', 'high'],\n",
              "       ['high', 'high', 'high', 'high'],\n",
              "       ['high', 'high', 'high', 'high'],\n",
              "       ['high', 'high', 'high', 'high'],\n",
              "       ['high', 'high', 'high', 'high'],\n",
              "       ['high', 'high', 'high', 'high'],\n",
              "       ['high', 'high', 'high', 'high'],\n",
              "       ['high', 'high', 'high', 'high'],\n",
              "       ['high', 'high', 'high', 'high'],\n",
              "       ['high', 'high', 'high', 'high']], dtype=object)"
            ]
          },
          "metadata": {},
          "execution_count": 42
        }
      ]
    },
    {
      "cell_type": "code",
      "metadata": {
        "id": "_di6Zja8zNsw",
        "colab": {
          "base_uri": "https://localhost:8080/"
        },
        "outputId": "16df3b4a-e370-4548-a5f7-6706abe2a203"
      },
      "source": [
        "data_cut.columns"
      ],
      "execution_count": 43,
      "outputs": [
        {
          "output_type": "execute_result",
          "data": {
            "text/plain": [
              "Index(['subscriber_group', 'household_group', 'population_group',\n",
              "       'mobile_group'],\n",
              "      dtype='object')"
            ]
          },
          "metadata": {},
          "execution_count": 43
        }
      ]
    },
    {
      "cell_type": "code",
      "metadata": {
        "id": "swZod5F101Rx",
        "colab": {
          "base_uri": "https://localhost:8080/",
          "height": 858
        },
        "outputId": "0e609257-de66-49be-a983-35b1069010ef"
      },
      "source": [
        "data_cut['subscriber_group'] = data_cut['subscriber_group'].map({'low':0,'median':1,'high':2})\n",
        "data_cut['household_group'] = data_cut['household_group'].map({'low':0,'median':1,'high':2})\n",
        "data_cut['population_group'] = data_cut['population_group'].map({'low':0,'median':1,'high':2})\n",
        "data_cut['mobile_group'] = data_cut['mobile_group'].map({'low':0,'median':1,'high':2})\n",
        "data_cut"
      ],
      "execution_count": 44,
      "outputs": [
        {
          "output_type": "stream",
          "name": "stderr",
          "text": [
            "/usr/local/lib/python3.7/dist-packages/ipykernel_launcher.py:1: SettingWithCopyWarning: \n",
            "A value is trying to be set on a copy of a slice from a DataFrame.\n",
            "Try using .loc[row_indexer,col_indexer] = value instead\n",
            "\n",
            "See the caveats in the documentation: https://pandas.pydata.org/pandas-docs/stable/user_guide/indexing.html#returning-a-view-versus-a-copy\n",
            "  \"\"\"Entry point for launching an IPython kernel.\n",
            "/usr/local/lib/python3.7/dist-packages/ipykernel_launcher.py:2: SettingWithCopyWarning: \n",
            "A value is trying to be set on a copy of a slice from a DataFrame.\n",
            "Try using .loc[row_indexer,col_indexer] = value instead\n",
            "\n",
            "See the caveats in the documentation: https://pandas.pydata.org/pandas-docs/stable/user_guide/indexing.html#returning-a-view-versus-a-copy\n",
            "  \n",
            "/usr/local/lib/python3.7/dist-packages/ipykernel_launcher.py:3: SettingWithCopyWarning: \n",
            "A value is trying to be set on a copy of a slice from a DataFrame.\n",
            "Try using .loc[row_indexer,col_indexer] = value instead\n",
            "\n",
            "See the caveats in the documentation: https://pandas.pydata.org/pandas-docs/stable/user_guide/indexing.html#returning-a-view-versus-a-copy\n",
            "  This is separate from the ipykernel package so we can avoid doing imports until\n",
            "/usr/local/lib/python3.7/dist-packages/ipykernel_launcher.py:4: SettingWithCopyWarning: \n",
            "A value is trying to be set on a copy of a slice from a DataFrame.\n",
            "Try using .loc[row_indexer,col_indexer] = value instead\n",
            "\n",
            "See the caveats in the documentation: https://pandas.pydata.org/pandas-docs/stable/user_guide/indexing.html#returning-a-view-versus-a-copy\n",
            "  after removing the cwd from sys.path.\n"
          ]
        },
        {
          "output_type": "execute_result",
          "data": {
            "text/html": [
              "<div>\n",
              "<style scoped>\n",
              "    .dataframe tbody tr th:only-of-type {\n",
              "        vertical-align: middle;\n",
              "    }\n",
              "\n",
              "    .dataframe tbody tr th {\n",
              "        vertical-align: top;\n",
              "    }\n",
              "\n",
              "    .dataframe thead th {\n",
              "        text-align: right;\n",
              "    }\n",
              "</style>\n",
              "<table border=\"1\" class=\"dataframe\">\n",
              "  <thead>\n",
              "    <tr style=\"text-align: right;\">\n",
              "      <th></th>\n",
              "      <th>subscriber_group</th>\n",
              "      <th>household_group</th>\n",
              "      <th>population_group</th>\n",
              "      <th>mobile_group</th>\n",
              "    </tr>\n",
              "  </thead>\n",
              "  <tbody>\n",
              "    <tr>\n",
              "      <th>0</th>\n",
              "      <td>0</td>\n",
              "      <td>0</td>\n",
              "      <td>0</td>\n",
              "      <td>0</td>\n",
              "    </tr>\n",
              "    <tr>\n",
              "      <th>1</th>\n",
              "      <td>0</td>\n",
              "      <td>0</td>\n",
              "      <td>0</td>\n",
              "      <td>0</td>\n",
              "    </tr>\n",
              "    <tr>\n",
              "      <th>2</th>\n",
              "      <td>0</td>\n",
              "      <td>0</td>\n",
              "      <td>0</td>\n",
              "      <td>0</td>\n",
              "    </tr>\n",
              "    <tr>\n",
              "      <th>3</th>\n",
              "      <td>0</td>\n",
              "      <td>0</td>\n",
              "      <td>0</td>\n",
              "      <td>0</td>\n",
              "    </tr>\n",
              "    <tr>\n",
              "      <th>4</th>\n",
              "      <td>0</td>\n",
              "      <td>0</td>\n",
              "      <td>0</td>\n",
              "      <td>0</td>\n",
              "    </tr>\n",
              "    <tr>\n",
              "      <th>...</th>\n",
              "      <td>...</td>\n",
              "      <td>...</td>\n",
              "      <td>...</td>\n",
              "      <td>...</td>\n",
              "    </tr>\n",
              "    <tr>\n",
              "      <th>64</th>\n",
              "      <td>2</td>\n",
              "      <td>2</td>\n",
              "      <td>2</td>\n",
              "      <td>2</td>\n",
              "    </tr>\n",
              "    <tr>\n",
              "      <th>65</th>\n",
              "      <td>2</td>\n",
              "      <td>2</td>\n",
              "      <td>2</td>\n",
              "      <td>2</td>\n",
              "    </tr>\n",
              "    <tr>\n",
              "      <th>66</th>\n",
              "      <td>2</td>\n",
              "      <td>2</td>\n",
              "      <td>2</td>\n",
              "      <td>2</td>\n",
              "    </tr>\n",
              "    <tr>\n",
              "      <th>67</th>\n",
              "      <td>2</td>\n",
              "      <td>2</td>\n",
              "      <td>2</td>\n",
              "      <td>2</td>\n",
              "    </tr>\n",
              "    <tr>\n",
              "      <th>68</th>\n",
              "      <td>2</td>\n",
              "      <td>2</td>\n",
              "      <td>2</td>\n",
              "      <td>2</td>\n",
              "    </tr>\n",
              "  </tbody>\n",
              "</table>\n",
              "<p>69 rows × 4 columns</p>\n",
              "</div>"
            ],
            "text/plain": [
              "   subscriber_group household_group population_group mobile_group\n",
              "0                 0               0                0            0\n",
              "1                 0               0                0            0\n",
              "2                 0               0                0            0\n",
              "3                 0               0                0            0\n",
              "4                 0               0                0            0\n",
              "..              ...             ...              ...          ...\n",
              "64                2               2                2            2\n",
              "65                2               2                2            2\n",
              "66                2               2                2            2\n",
              "67                2               2                2            2\n",
              "68                2               2                2            2\n",
              "\n",
              "[69 rows x 4 columns]"
            ]
          },
          "metadata": {},
          "execution_count": 44
        }
      ]
    },
    {
      "cell_type": "code",
      "metadata": {
        "id": "xB0UcYwy7whJ"
      },
      "source": [
        "from matplotlib import pyplot as plt"
      ],
      "execution_count": 45,
      "outputs": []
    },
    {
      "cell_type": "code",
      "metadata": {
        "id": "5xr7hiLOB49T"
      },
      "source": [
        "import numpy as np"
      ],
      "execution_count": 46,
      "outputs": []
    },
    {
      "cell_type": "code",
      "metadata": {
        "id": "IpW171hsDpaf"
      },
      "source": [
        "x1 = data_cut['household_group']\n",
        "x2 = data_cut['mobile_group']\n",
        "x3 = data_cut['population_group']\n",
        "x4 = data_cut['subscriber_group']\n",
        "y = [0,1,2]\n",
        "\n",
        "plt.plot()"
      ],
      "execution_count": null,
      "outputs": []
    },
    {
      "cell_type": "code",
      "metadata": {
        "id": "eeyXv2ivFuIM"
      },
      "source": [
        "x = [0,1,2]\n",
        "y = [0,1,2]"
      ],
      "execution_count": 53,
      "outputs": []
    },
    {
      "cell_type": "code",
      "metadata": {
        "id": "U6e1V3P1FHN6",
        "outputId": "21df5a46-ee02-4e31-c87d-9fbeda334be0",
        "colab": {
          "base_uri": "https://localhost:8080/",
          "height": 283
        }
      },
      "source": [
        "plt.scatter(data_cut['household_group'],data_cut['mobile_group'],data_cut['population_group'],data_cut['subscriber_group'])"
      ],
      "execution_count": 52,
      "outputs": [
        {
          "output_type": "execute_result",
          "data": {
            "text/plain": [
              "<matplotlib.collections.PathCollection at 0x7f1f094cc210>"
            ]
          },
          "metadata": {},
          "execution_count": 52
        },
        {
          "output_type": "display_data",
          "data": {
            "image/png": "[encoded data removed]",
            "text/plain": [
              "<Figure size 432x288 with 1 Axes>"
            ]
          },
          "metadata": {
            "needs_background": "light"
          }
        }
      ]
    },
    {
      "cell_type": "code",
      "metadata": {
        "id": "3H5Qqw_EFT66",
        "outputId": "1bcf7351-a9a2-4bc2-f7f2-6ef549aafaea",
        "colab": {
          "base_uri": "https://localhost:8080/",
          "height": 269
        }
      },
      "source": [
        "status_cols = ['subscriber_group',\t'household_group',\t'population_group',\t'mobile_group']\n",
        "for col in status_cols:\n",
        "  df[col].hist(alpha=0.5)\n",
        "\n",
        "plt.legend(status_cols)\n",
        "plt.show()"
      ],
      "execution_count": 55,
      "outputs": [
        {
          "output_type": "display_data",
          "data": {
            "image/png": "[encoded data removed]",
            "text/plain": [
              "<Figure size 432x288 with 1 Axes>"
            ]
          },
          "metadata": {
            "needs_background": "light"
          }
        }
      ]
    },
    {
      "cell_type": "code",
      "metadata": {
        "id": "Rm0KE3BGG31f"
      },
      "source": [
        ""
      ],
      "execution_count": null,
      "outputs": []
    }
  ]
}